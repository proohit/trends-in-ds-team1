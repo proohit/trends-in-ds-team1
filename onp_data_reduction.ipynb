{
 "cells": [
  {
   "cell_type": "markdown",
   "metadata": {},
   "source": [
    "## Data Reduction Task- Online News Popularity Dataset"
   ]
  },
  {
   "cell_type": "code",
   "execution_count": 11,
   "metadata": {},
   "outputs": [],
   "source": [
    "from datasets import popularity_dataset\n",
    "import seaborn as sns\n",
    "import matplotlib.pyplot as plt\n",
    "import seaborn as sns\n",
    "import pandas as pd"
   ]
  },
  {
   "cell_type": "code",
   "execution_count": 12,
   "metadata": {},
   "outputs": [],
   "source": [
    "pop=pd.read_pickle('pop_dataframe.pkl')"
   ]
  },
  {
   "cell_type": "markdown",
   "metadata": {},
   "source": [
    "## Feature selection"
   ]
  },
  {
   "cell_type": "markdown",
   "metadata": {},
   "source": [
    "### Information Gain"
   ]
  },
  {
   "cell_type": "code",
   "execution_count": null,
   "metadata": {},
   "outputs": [],
   "source": [
    "from datasets import get_kbest_sorted\n",
    "from sklearn.feature_selection import mutual_info_regression\n",
    "\n",
    "pop = pop.dropna()\n",
    "x = pop.drop(' shares', axis=1).drop('will be popular', axis=1)\n",
    "y = pop['will be popular']\n",
    "\n",
    "#filtering using Mutual Information = Information Gain\n",
    "kbest_mutual_info_regression = get_kbest_sorted(mutual_info_regression, x, y, 2)\n",
    "\n",
    "display(kbest_mutual_info_regression)"
   ]
  },
  {
   "cell_type": "markdown",
   "metadata": {},
   "source": [
    "#### VIF"
   ]
  },
  {
   "cell_type": "markdown",
   "metadata": {},
   "source": [
    "If we train a model with collinear features, this reduces explanability of the model. So we need to find features with high collinearity."
   ]
  },
  {
   "cell_type": "markdown",
   "metadata": {},
   "source": [
    "The Variance Inflation Factor VIF, measures how much the variance of an estimated regression coefficient is increased because of the collinearity"
   ]
  },
  {
   "cell_type": "code",
   "execution_count": 13,
   "metadata": {},
   "outputs": [
    {
     "name": "stderr",
     "output_type": "stream",
     "text": [
      "/Users/emily/opt/anaconda3/lib/python3.7/site-packages/statsmodels/stats/outliers_influence.py:193: RuntimeWarning: divide by zero encountered in double_scalars\n",
      "  vif = 1. / (1. - r_squared_i)\n"
     ]
    },
    {
     "data": {
      "text/plain": [
       " number_words_title                   1.076168\n",
       "number_words_content                  2.227527\n",
       "number_links                          1.683749\n",
       " number_links_to_mashable             1.399613\n",
       " number_imgs                          1.430315\n",
       " number_videos                        1.222772\n",
       " average_word_length                 11.177084\n",
       " number_keywords                      1.120356\n",
       "is_category_lifestyle                 2.264001\n",
       "is_category_entertainment             2.455876\n",
       "is_category_business                  5.581403\n",
       "is_category_socialmedia               2.182223\n",
       "is_category_tech                      5.973373\n",
       "is_category_world                     6.625134\n",
       " self_reference_min_shares            6.599351\n",
       " self_reference_max_shares            8.377868\n",
       " self_reference_avg_sharess          19.108942\n",
       "is_monday                          6735.291447\n",
       "is_tuesday                         7472.840981\n",
       "is_wednesday                       7523.420001\n",
       "is_thursday                        7353.474271\n",
       "is_friday                          5767.868212\n",
       "is_saturday                                inf\n",
       " is_sunday                                 inf\n",
       " is_weekend                                inf\n",
       " LDA_00                            2775.890199\n",
       " LDA_01                            1935.016256\n",
       " LDA_02                            3193.599055\n",
       " LDA_03                            3493.857033\n",
       " LDA_04                            3356.367947\n",
       "sentiment_subjectivity                2.937703\n",
       "sentiment_polarity                    7.815716\n",
       " global_rate_positive_words           4.597709\n",
       " global_rate_negative_words           6.567791\n",
       " rate_positive_words                 18.092602\n",
       " rate_negative_words                 16.100836\n",
       " avg_polarity_in_positive_words       6.083977\n",
       " min_polarity_in_positive_words       1.932324\n",
       " max_polarity_in_positive_words       3.327592\n",
       " avg_polarity_in_negative_words       7.734274\n",
       " min_polarity_in_negative_words       5.245713\n",
       " max_polarity_in_negative_words       2.942992\n",
       " title_sentiment_subjectivity         2.368235\n",
       " title_sentiment_polarity             1.323351\n",
       " abs_title_subjectivity               1.413492\n",
       " abs_title_sentiment_polarity         2.401867\n",
       "dtype: float64"
      ]
     },
     "metadata": {},
     "output_type": "display_data"
    }
   ],
   "source": [
    "from statsmodels.stats.outliers_influence import variance_inflation_factor\n",
    "from statsmodels.tools.tools import add_constant\n",
    "x = pop.dropna().drop('will be popular', axis=1).drop(' shares', axis=1)\n",
    "vif_factors = pd.Series([variance_inflation_factor(x.values, i) for i in range(x.shape[1])], index=x.columns)\n",
    "\n",
    "display(vif_factors)"
   ]
  },
  {
   "cell_type": "markdown",
   "metadata": {},
   "source": [
    "--> collinear features:\n",
    "    \n",
    "is_monday                          6735.291447\n",
    "\n",
    "is_tuesday                         7472.840981\n",
    "\n",
    "is_wednesday                       7523.420001\n",
    "\n",
    "is_thursday                        7353.474271\n",
    "\n",
    "is_friday                          5767.868212\n",
    "\n",
    "is_saturday                                inf\n",
    "\n",
    "is_sunday                                 inf\n",
    "\n",
    "is_weekend                                inf\n",
    "\n",
    "remove is_weekend and is_sunday because you have the information for the weekday and if it's weekend\n",
    "\n",
    "--> other collinear features:\n",
    "\n",
    "LDA_00                            2775.890199\n",
    "\n",
    "LDA_01                            1935.016256\n",
    "\n",
    "LDA_02                            3193.599055\n",
    "\n",
    "LDA_03                            3493.857033\n",
    "\n",
    "LDA_04                            3356.367947\n",
    " \n",
    "from a domain perspective this makes sense because all together the value is 1 so one missing value can be calculated from the others, remove LDA_00 because of the lowest Information Gain"
   ]
  },
  {
   "cell_type": "code",
   "execution_count": 14,
   "metadata": {},
   "outputs": [],
   "source": [
    "#remove the identified features and print VIF again"
   ]
  },
  {
   "cell_type": "code",
   "execution_count": 15,
   "metadata": {},
   "outputs": [
    {
     "data": {
      "text/plain": [
       " number_words_title                 17.761140\n",
       "number_words_content                 5.137284\n",
       "number_links                         3.211876\n",
       " number_links_to_mashable            2.408862\n",
       " number_imgs                         1.808885\n",
       " number_videos                       1.281791\n",
       " average_word_length               328.172902\n",
       " number_keywords                    13.826731\n",
       "is_category_lifestyle                1.462704\n",
       "is_category_entertainment            2.413800\n",
       "is_category_business                 2.544602\n",
       "is_category_socialmedia              1.518464\n",
       "is_category_tech                     2.797195\n",
       "is_category_world                    3.251042\n",
       " self_reference_min_shares           6.865207\n",
       " self_reference_max_shares           8.904971\n",
       " self_reference_avg_sharess         20.433672\n",
       "sentiment_subjectivity              45.103590\n",
       "sentiment_polarity                  19.637433\n",
       " global_rate_positive_words         28.251379\n",
       " global_rate_negative_words         21.997422\n",
       " rate_positive_words               242.896430\n",
       " rate_negative_words                69.309606\n",
       " avg_polarity_in_positive_words     75.690513\n",
       " min_polarity_in_positive_words      5.371817\n",
       " max_polarity_in_positive_words     34.334892\n",
       " avg_polarity_in_negative_words     39.609813\n",
       " min_polarity_in_negative_words     22.187261\n",
       " max_polarity_in_negative_words      6.681090\n",
       " title_sentiment_subjectivity        4.070058\n",
       " title_sentiment_polarity            1.415967\n",
       " abs_title_subjectivity              5.277148\n",
       " abs_title_sentiment_polarity        3.536000\n",
       "dtype: float64"
      ]
     },
     "metadata": {},
     "output_type": "display_data"
    }
   ],
   "source": [
    "x = pop.dropna().drop('will be popular', axis=1).drop(' shares', axis=1).drop('is_monday', axis=1).drop('is_tuesday', axis=1).drop('is_wednesday', axis=1).drop('is_thursday', axis=1).drop('is_friday', axis=1).drop('is_saturday', axis=1).drop(' is_sunday', axis=1).drop(' is_weekend', axis=1).drop(' LDA_00', axis=1).drop(' LDA_01', axis=1).drop(' LDA_02', axis=1).drop(' LDA_03', axis=1).drop(' LDA_04', axis=1)\n",
    "vif_factors = pd.Series([variance_inflation_factor(x.values, i) for i in range(x.shape[1])], index=x.columns)\n",
    "\n",
    "display(vif_factors)"
   ]
  },
  {
   "cell_type": "markdown",
   "metadata": {},
   "source": [
    "--> collinear features:\n",
    "\n",
    "average_word_length and rate_positive_words --> remove average_word_length because the feature has a lower Information Gain\n",
    "    \n",
    "rate_negative_words and avg_polarity_in_positive_words --> remove avg_polarity_in_positive_words because the feature has a lower Information Gain"
   ]
  },
  {
   "cell_type": "code",
   "execution_count": 16,
   "metadata": {},
   "outputs": [
    {
     "data": {
      "text/plain": [
       " number_words_title                16.305807\n",
       "number_words_content                5.046022\n",
       "number_links                        3.003994\n",
       " number_links_to_mashable           2.390161\n",
       " number_imgs                        1.794701\n",
       " number_videos                      1.273098\n",
       " number_keywords                   13.614896\n",
       "is_category_lifestyle               1.409531\n",
       "is_category_entertainment           2.244762\n",
       "is_category_business                2.195050\n",
       "is_category_socialmedia             1.423479\n",
       "is_category_tech                    2.504933\n",
       "is_category_world                   2.661597\n",
       " self_reference_min_shares          6.864676\n",
       " self_reference_max_shares          8.901654\n",
       " self_reference_avg_sharess        20.425741\n",
       "sentiment_subjectivity             34.036670\n",
       "sentiment_polarity                 12.014857\n",
       " global_rate_positive_words        15.882048\n",
       " global_rate_negative_words         8.835277\n",
       " min_polarity_in_positive_words     3.697689\n",
       " max_polarity_in_positive_words    23.848137\n",
       " avg_polarity_in_negative_words    38.248681\n",
       " min_polarity_in_negative_words    21.966279\n",
       " max_polarity_in_negative_words     6.525925\n",
       " title_sentiment_subjectivity       4.065512\n",
       " title_sentiment_polarity           1.413686\n",
       " abs_title_subjectivity             5.186066\n",
       " abs_title_sentiment_polarity       3.520643\n",
       "dtype: float64"
      ]
     },
     "metadata": {},
     "output_type": "display_data"
    }
   ],
   "source": [
    "x = x.drop(' average_word_length', axis=1).drop(' rate_positive_words', axis=1).drop(' rate_negative_words', axis=1).drop(' avg_polarity_in_positive_words', axis=1)\n",
    "vif_factors = pd.Series([variance_inflation_factor(x.values, i) for i in range(x.shape[1])], index=x.columns)\n",
    "\n",
    "display(vif_factors)"
   ]
  },
  {
   "cell_type": "markdown",
   "metadata": {},
   "source": [
    "--> collinear features:\n",
    "\n",
    "sentiment_subjectivity and avg_polarity_in_negative_words --> remove avg_polarity_in_negative_words because the feature has a lower Information Gain"
   ]
  },
  {
   "cell_type": "code",
   "execution_count": 17,
   "metadata": {},
   "outputs": [
    {
     "data": {
      "text/plain": [
       " number_words_title                15.991295\n",
       "number_words_content                4.846380\n",
       "number_links                        2.961567\n",
       " number_links_to_mashable           2.389711\n",
       " number_imgs                        1.791595\n",
       " number_videos                      1.268816\n",
       " number_keywords                   13.513508\n",
       "is_category_lifestyle               1.406886\n",
       "is_category_entertainment           2.242163\n",
       "is_category_business                2.183844\n",
       "is_category_socialmedia             1.416857\n",
       "is_category_tech                    2.474040\n",
       "is_category_world                   2.641925\n",
       " self_reference_min_shares          6.864075\n",
       " self_reference_max_shares          8.898938\n",
       " self_reference_avg_sharess        20.411416\n",
       "sentiment_polarity                 10.436866\n",
       " global_rate_positive_words        15.227696\n",
       " global_rate_negative_words         8.168536\n",
       " min_polarity_in_positive_words     3.413365\n",
       " max_polarity_in_positive_words    22.805563\n",
       " min_polarity_in_negative_words     8.720138\n",
       " max_polarity_in_negative_words     2.677941\n",
       " title_sentiment_subjectivity       4.003093\n",
       " title_sentiment_polarity           1.407321\n",
       " abs_title_subjectivity             5.041602\n",
       " abs_title_sentiment_polarity       3.500582\n",
       "dtype: float64"
      ]
     },
     "metadata": {},
     "output_type": "display_data"
    }
   ],
   "source": [
    "x = x.drop(' avg_polarity_in_negative_words', axis=1).drop('sentiment_subjectivity', axis=1)\n",
    "vif_factors = pd.Series([variance_inflation_factor(x.values, i) for i in range(x.shape[1])], index=x.columns)\n",
    "\n",
    "display(vif_factors)"
   ]
  },
  {
   "cell_type": "markdown",
   "metadata": {},
   "source": [
    "--> collinear features:\n",
    "\n",
    "max_polarity_in_positive_words and self_reference_avg_sharess --> remove max_polarity_in_positive_words because the feature has a lower Information Gain\n",
    "\n",
    "sentiment_polarity and global_rate_positive_words --> remove global_rate_positive_words because the feature has a lower Information Gain"
   ]
  },
  {
   "cell_type": "code",
   "execution_count": 18,
   "metadata": {},
   "outputs": [
    {
     "data": {
      "text/plain": [
       " number_words_title                15.463457\n",
       "number_words_content                4.558317\n",
       "number_links                        2.899499\n",
       " number_links_to_mashable           2.325127\n",
       " number_imgs                        1.770310\n",
       " number_videos                      1.263475\n",
       " number_keywords                   12.808745\n",
       "is_category_lifestyle               1.387532\n",
       "is_category_entertainment           2.208767\n",
       "is_category_business                2.098846\n",
       "is_category_socialmedia             1.378692\n",
       "is_category_tech                    2.413599\n",
       "is_category_world                   2.610785\n",
       " self_reference_min_shares          1.376536\n",
       " self_reference_max_shares          1.435095\n",
       " global_rate_negative_words         4.732750\n",
       " min_polarity_in_positive_words     3.027290\n",
       " min_polarity_in_negative_words     7.666503\n",
       " max_polarity_in_negative_words     2.600787\n",
       " title_sentiment_subjectivity       3.976206\n",
       " title_sentiment_polarity           1.371287\n",
       " abs_title_subjectivity             4.946968\n",
       " abs_title_sentiment_polarity       3.490835\n",
       "dtype: float64"
      ]
     },
     "metadata": {},
     "output_type": "display_data"
    }
   ],
   "source": [
    "x = x.drop(' max_polarity_in_positive_words', axis=1).drop(' self_reference_avg_sharess', axis=1).drop('sentiment_polarity', axis=1).drop(' global_rate_positive_words', axis=1)\n",
    "vif_factors = pd.Series([variance_inflation_factor(x.values, i) for i in range(x.shape[1])], index=x.columns)\n",
    "\n",
    "display(vif_factors)"
   ]
  },
  {
   "cell_type": "markdown",
   "metadata": {},
   "source": [
    "--> collinear features:\n",
    "\n",
    "number_words_title and number_keywords --> remove number_words_title because the feature has a lower Information Gain"
   ]
  },
  {
   "cell_type": "code",
   "execution_count": 19,
   "metadata": {},
   "outputs": [
    {
     "data": {
      "text/plain": [
       "number_words_content               4.554924\n",
       "number_links                       2.848948\n",
       " number_links_to_mashable          2.314697\n",
       " number_imgs                       1.753120\n",
       " number_videos                     1.256013\n",
       "is_category_lifestyle              1.281125\n",
       "is_category_entertainment          1.885328\n",
       "is_category_business               1.792002\n",
       "is_category_socialmedia            1.314129\n",
       "is_category_tech                   2.006670\n",
       "is_category_world                  2.136897\n",
       " self_reference_min_shares         1.375444\n",
       " self_reference_max_shares         1.435022\n",
       " global_rate_negative_words        4.598704\n",
       " min_polarity_in_positive_words    2.862242\n",
       " min_polarity_in_negative_words    7.609109\n",
       " max_polarity_in_negative_words    2.519772\n",
       " title_sentiment_subjectivity      3.735827\n",
       " title_sentiment_polarity          1.359541\n",
       " abs_title_subjectivity            4.159833\n",
       " abs_title_sentiment_polarity      3.489193\n",
       "dtype: float64"
      ]
     },
     "metadata": {},
     "output_type": "display_data"
    }
   ],
   "source": [
    "x = x.drop(' number_words_title', axis=1).drop(' number_keywords', axis=1)\n",
    "vif_factors = pd.Series([variance_inflation_factor(x.values, i) for i in range(x.shape[1])], index=x.columns)\n",
    "\n",
    "display(vif_factors)"
   ]
  },
  {
   "cell_type": "markdown",
   "metadata": {},
   "source": [
    "--> we removed all features with VIF under 10.0"
   ]
  },
  {
   "cell_type": "markdown",
   "metadata": {},
   "source": [
    "recommendation to remove for every pair of collinear features one of the features. So remove:\n",
    "\n",
    "--> remove is_weekend \n",
    "\n",
    "--> remove is_sunday\n",
    "\n",
    "--> remove LDA_00\n",
    "\n",
    "--> remove average_word_length\n",
    "\n",
    "--> remove avg_polarity_in_positive_words\n",
    "\n",
    "--> remove avg_polarity_in_negative_words\n",
    "\n",
    "--> remove global_rate_positive_words\n",
    "\n",
    "--> remove max_polarity_in_positive_words\n",
    "\n",
    "--> remove number_words_title"
   ]
  },
  {
   "cell_type": "markdown",
   "metadata": {},
   "source": [
    "#### Remove the features and show VIF again"
   ]
  },
  {
   "cell_type": "code",
   "execution_count": 21,
   "metadata": {},
   "outputs": [
    {
     "data": {
      "text/plain": [
       "number_words_content                4.755971\n",
       "number_links                        3.023429\n",
       " number_links_to_mashable           2.408004\n",
       " number_imgs                        1.827010\n",
       " number_videos                      1.325426\n",
       " number_keywords                   14.658300\n",
       "is_category_lifestyle               2.172222\n",
       "is_category_entertainment           2.867279\n",
       "is_category_business                4.304025\n",
       "is_category_socialmedia             1.880089\n",
       "is_category_tech                    6.614710\n",
       "is_category_world                   7.733317\n",
       " self_reference_min_shares          6.867736\n",
       " self_reference_max_shares          8.905938\n",
       " self_reference_avg_sharess        20.435518\n",
       "is_monday                           3.164162\n",
       "is_tuesday                          3.402336\n",
       "is_wednesday                        3.410531\n",
       "is_thursday                         3.353495\n",
       "is_friday                           2.852845\n",
       "is_saturday                         1.789494\n",
       " LDA_01                             4.022387\n",
       " LDA_02                             7.856663\n",
       " LDA_03                             6.050059\n",
       " LDA_04                             7.488360\n",
       "sentiment_subjectivity             42.339498\n",
       "sentiment_polarity                  8.616705\n",
       " global_rate_negative_words        11.264596\n",
       " rate_positive_words               43.868778\n",
       " rate_negative_words               21.010391\n",
       " min_polarity_in_positive_words     3.933580\n",
       " min_polarity_in_negative_words     8.852897\n",
       " max_polarity_in_negative_words     2.866610\n",
       " title_sentiment_subjectivity       4.095390\n",
       " title_sentiment_polarity           1.410014\n",
       " abs_title_subjectivity             5.621881\n",
       " abs_title_sentiment_polarity       3.504420\n",
       "dtype: float64"
      ]
     },
     "metadata": {},
     "output_type": "display_data"
    }
   ],
   "source": [
    "x = pop.dropna().drop('will be popular', axis=1).drop(' shares', axis=1).drop(' is_weekend', axis=1).drop(' is_sunday', axis=1).drop(' LDA_00', axis=1).drop(' average_word_length', axis=1).drop(' avg_polarity_in_positive_words', axis=1).drop(' avg_polarity_in_negative_words', axis=1).drop(' global_rate_positive_words', axis=1).drop(' max_polarity_in_positive_words', axis=1).drop(' number_words_title', axis=1)\n",
    "vif_factors = pd.Series([variance_inflation_factor(x.values, i) for i in range(x.shape[1])], index=x.columns)\n",
    "\n",
    "display(vif_factors)"
   ]
  },
  {
   "cell_type": "code",
   "execution_count": 22,
   "metadata": {},
   "outputs": [],
   "source": [
    "### remove again the high collinear feature"
   ]
  },
  {
   "cell_type": "markdown",
   "metadata": {},
   "source": [
    "--> sentiment_subjectivity and rate_positive_words: remove rate_positive_words because of the lower Information Gain\n",
    "\n",
    "--> rate_negative_words and self_reference_avg_sharess: remove rate_negative_words because of the lower Information Gain\n",
    "\n",
    "--> global_rate_negative_words and number_keywords: remove global_rate_negative_words because of the lower Information Gain\n"
   ]
  },
  {
   "cell_type": "code",
   "execution_count": 23,
   "metadata": {},
   "outputs": [
    {
     "data": {
      "text/plain": [
       "number_words_content                4.712679\n",
       "number_links                        2.959988\n",
       " number_links_to_mashable           2.392995\n",
       " number_imgs                        1.820036\n",
       " number_videos                      1.298988\n",
       " number_keywords                   14.460359\n",
       "is_category_lifestyle               2.092204\n",
       "is_category_entertainment           2.717233\n",
       "is_category_business                3.474042\n",
       "is_category_socialmedia             1.725098\n",
       "is_category_tech                    6.278100\n",
       "is_category_world                   7.289155\n",
       " self_reference_min_shares          6.866835\n",
       " self_reference_max_shares          8.901476\n",
       " self_reference_avg_sharess        20.425725\n",
       "is_monday                           3.110201\n",
       "is_tuesday                          3.341118\n",
       "is_wednesday                        3.350110\n",
       "is_thursday                         3.294757\n",
       "is_friday                           2.810319\n",
       "is_saturday                         1.776024\n",
       " LDA_01                             3.815385\n",
       " LDA_02                             7.523794\n",
       " LDA_03                             5.745788\n",
       " LDA_04                             7.309896\n",
       "sentiment_subjectivity             26.031249\n",
       "sentiment_polarity                  4.140329\n",
       " min_polarity_in_positive_words     3.375505\n",
       " min_polarity_in_negative_words     8.431587\n",
       " max_polarity_in_negative_words     2.642500\n",
       " title_sentiment_subjectivity       4.089222\n",
       " title_sentiment_polarity           1.406433\n",
       " abs_title_subjectivity             5.557888\n",
       " abs_title_sentiment_polarity       3.496374\n",
       "dtype: float64"
      ]
     },
     "metadata": {},
     "output_type": "display_data"
    }
   ],
   "source": [
    "x = x.drop(' rate_positive_words', axis=1).drop(' rate_negative_words', axis=1).drop(' global_rate_negative_words', axis=1)\n",
    "vif_factors = pd.Series([variance_inflation_factor(x.values, i) for i in range(x.shape[1])], index=x.columns)\n",
    "\n",
    "display(vif_factors)"
   ]
  },
  {
   "cell_type": "markdown",
   "metadata": {},
   "source": [
    "--> self_reference_avg_sharess and sentiment_subjectivity: remove sentiment_subjectivity because of the lower Information Gain"
   ]
  },
  {
   "cell_type": "code",
   "execution_count": 26,
   "metadata": {},
   "outputs": [
    {
     "data": {
      "text/plain": [
       "number_words_content                4.707525\n",
       "number_links                        2.939455\n",
       " number_links_to_mashable           2.392384\n",
       " number_imgs                        1.819712\n",
       " number_videos                      1.298189\n",
       " number_keywords                   14.353132\n",
       "is_category_lifestyle               2.075681\n",
       "is_category_entertainment           2.714651\n",
       "is_category_business                3.324621\n",
       "is_category_socialmedia             1.688033\n",
       "is_category_tech                    6.207549\n",
       "is_category_world                   7.262452\n",
       " self_reference_min_shares          6.865804\n",
       " self_reference_max_shares          8.896337\n",
       " self_reference_avg_sharess        20.405501\n",
       "is_monday                           3.087192\n",
       "is_tuesday                          3.314894\n",
       "is_wednesday                        3.322685\n",
       "is_thursday                         3.268660\n",
       "is_friday                           2.785617\n",
       "is_saturday                         1.768215\n",
       " LDA_01                             3.674400\n",
       " LDA_02                             7.460197\n",
       " LDA_03                             5.486744\n",
       " LDA_04                             7.205960\n",
       "sentiment_polarity                  3.238384\n",
       " min_polarity_in_positive_words     3.114184\n",
       " min_polarity_in_negative_words     6.521554\n",
       " max_polarity_in_negative_words     2.580766\n",
       " title_sentiment_subjectivity       4.025973\n",
       " title_sentiment_polarity           1.403122\n",
       " abs_title_subjectivity             5.508985\n",
       " abs_title_sentiment_polarity       3.494643\n",
       "dtype: float64"
      ]
     },
     "metadata": {},
     "output_type": "display_data"
    }
   ],
   "source": [
    "x = x.drop('sentiment_subjectivity', axis=1)\n",
    "vif_factors = pd.Series([variance_inflation_factor(x.values, i) for i in range(x.shape[1])], index=x.columns)\n",
    "\n",
    "display(vif_factors)"
   ]
  },
  {
   "cell_type": "markdown",
   "metadata": {},
   "source": [
    "--> number_keywords and self_reference_avg_sharess: remove number_keywords because of the lower Information Gain"
   ]
  },
  {
   "cell_type": "code",
   "execution_count": 28,
   "metadata": {},
   "outputs": [
    {
     "data": {
      "text/plain": [
       "number_words_content                4.703542\n",
       "number_links                        2.920830\n",
       " number_links_to_mashable           2.385317\n",
       " number_imgs                        1.819620\n",
       " number_videos                      1.296874\n",
       "is_category_lifestyle               1.991113\n",
       "is_category_entertainment           2.711012\n",
       "is_category_business                3.020975\n",
       "is_category_socialmedia             1.651482\n",
       "is_category_tech                    6.037533\n",
       "is_category_world                   7.043010\n",
       " self_reference_min_shares          6.863983\n",
       " self_reference_max_shares          8.894488\n",
       " self_reference_avg_sharess        20.398666\n",
       "is_monday                           3.057904\n",
       "is_tuesday                          3.279564\n",
       "is_wednesday                        3.287935\n",
       "is_thursday                         3.233274\n",
       "is_friday                           2.756925\n",
       "is_saturday                         1.749580\n",
       " LDA_01                             3.317434\n",
       " LDA_02                             7.201784\n",
       " LDA_03                             4.570291\n",
       " LDA_04                             6.756729\n",
       "sentiment_polarity                  3.188338\n",
       " min_polarity_in_positive_words     3.113145\n",
       " min_polarity_in_negative_words     6.497898\n",
       " max_polarity_in_negative_words     2.578861\n",
       " title_sentiment_subjectivity       4.015407\n",
       " title_sentiment_polarity           1.402944\n",
       " abs_title_subjectivity             5.463893\n",
       " abs_title_sentiment_polarity       3.494321\n",
       "dtype: float64"
      ]
     },
     "metadata": {},
     "output_type": "display_data"
    }
   ],
   "source": [
    "x = x.drop(' number_keywords', axis=1)\n",
    "vif_factors = pd.Series([variance_inflation_factor(x.values, i) for i in range(x.shape[1])], index=x.columns)\n",
    "\n",
    "display(vif_factors)"
   ]
  },
  {
   "cell_type": "markdown",
   "metadata": {},
   "source": [
    "--> the value self_reference_avg_sharess doesn't change a lot, so the number_keywords was collinaer with other features which was confirmed of the values of other features"
   ]
  },
  {
   "cell_type": "markdown",
   "metadata": {},
   "source": [
    "--> remove self_reference_avg_sharess and look to other features to confirm that this feature is collinear with other features instead of number_keywords"
   ]
  },
  {
   "cell_type": "code",
   "execution_count": 30,
   "metadata": {},
   "outputs": [
    {
     "data": {
      "text/plain": [
       "number_words_content               4.703384\n",
       "number_links                       2.919127\n",
       " number_links_to_mashable          2.331809\n",
       " number_imgs                       1.818858\n",
       " number_videos                     1.295494\n",
       "is_category_lifestyle              1.991089\n",
       "is_category_entertainment          2.710993\n",
       "is_category_business               3.020923\n",
       "is_category_socialmedia            1.651478\n",
       "is_category_tech                   6.036960\n",
       "is_category_world                  7.042442\n",
       " self_reference_min_shares         1.377268\n",
       " self_reference_max_shares         1.435666\n",
       "is_monday                          3.056611\n",
       "is_tuesday                         3.278831\n",
       "is_wednesday                       3.286680\n",
       "is_thursday                        3.232646\n",
       "is_friday                          2.756521\n",
       "is_saturday                        1.749542\n",
       " LDA_01                            3.316859\n",
       " LDA_02                            7.200988\n",
       " LDA_03                            4.568602\n",
       " LDA_04                            6.755986\n",
       "sentiment_polarity                 3.188087\n",
       " min_polarity_in_positive_words    3.113134\n",
       " min_polarity_in_negative_words    6.497330\n",
       " max_polarity_in_negative_words    2.578297\n",
       " title_sentiment_subjectivity      4.015391\n",
       " title_sentiment_polarity          1.402913\n",
       " abs_title_subjectivity            5.463854\n",
       " abs_title_sentiment_polarity      3.494320\n",
       "dtype: float64"
      ]
     },
     "metadata": {},
     "output_type": "display_data"
    }
   ],
   "source": [
    "x = x.drop(' self_reference_avg_sharess', axis=1)\n",
    "vif_factors = pd.Series([variance_inflation_factor(x.values, i) for i in range(x.shape[1])], index=x.columns)\n",
    "\n",
    "display(vif_factors)"
   ]
  },
  {
   "cell_type": "markdown",
   "metadata": {},
   "source": [
    "--> all collinear features are removed"
   ]
  },
  {
   "cell_type": "markdown",
   "metadata": {},
   "source": [
    "### compare information gain and correlation of the reamining features"
   ]
  },
  {
   "cell_type": "code",
   "execution_count": 33,
   "metadata": {},
   "outputs": [
    {
     "ename": "NameError",
     "evalue": "name 'kbest_mutual_info_regression' is not defined",
     "output_type": "error",
     "traceback": [
      "\u001b[0;31m---------------------------------------------------------------------------\u001b[0m",
      "\u001b[0;31mNameError\u001b[0m                                 Traceback (most recent call last)",
      "\u001b[0;32m<ipython-input-33-16eddc01c423>\u001b[0m in \u001b[0;36m<module>\u001b[0;34m\u001b[0m\n\u001b[1;32m      5\u001b[0m \u001b[0;31m# Build new DataFrame for information gain and correlation side by side\u001b[0m\u001b[0;34m\u001b[0m\u001b[0;34m\u001b[0m\u001b[0;34m\u001b[0m\u001b[0m\n\u001b[1;32m      6\u001b[0m \u001b[0mcorr\u001b[0m \u001b[0;34m=\u001b[0m \u001b[0mx\u001b[0m\u001b[0;34m.\u001b[0m\u001b[0mcorrwith\u001b[0m\u001b[0;34m(\u001b[0m\u001b[0mpop\u001b[0m\u001b[0;34m[\u001b[0m\u001b[0;34m'will be popular'\u001b[0m\u001b[0;34m]\u001b[0m\u001b[0;34m)\u001b[0m\u001b[0;34m\u001b[0m\u001b[0;34m\u001b[0m\u001b[0m\n\u001b[0;32m----> 7\u001b[0;31m \u001b[0mfeatures\u001b[0m \u001b[0;34m=\u001b[0m \u001b[0mkbest_mutual_info_regression\u001b[0m\u001b[0;34m.\u001b[0m\u001b[0mindex\u001b[0m\u001b[0;34m\u001b[0m\u001b[0;34m\u001b[0m\u001b[0m\n\u001b[0m\u001b[1;32m      8\u001b[0m \u001b[0mvalues\u001b[0m \u001b[0;34m=\u001b[0m \u001b[0;34m[\u001b[0m\u001b[0;34m]\u001b[0m\u001b[0;34m\u001b[0m\u001b[0;34m\u001b[0m\u001b[0m\n\u001b[1;32m      9\u001b[0m \u001b[0;32mfor\u001b[0m \u001b[0mfeature\u001b[0m \u001b[0;32min\u001b[0m \u001b[0mfeatures\u001b[0m\u001b[0;34m:\u001b[0m\u001b[0;34m\u001b[0m\u001b[0;34m\u001b[0m\u001b[0m\n",
      "\u001b[0;31mNameError\u001b[0m: name 'kbest_mutual_info_regression' is not defined"
     ]
    }
   ],
   "source": [
    "import numpy as np\n",
    "import matplotlib.pyplot as plt\n",
    "import pandas as pd\n",
    "\n",
    "# Build new DataFrame for information gain and correlation side by side\n",
    "corr = x.corrwith(pop['will be popular'])\n",
    "features = kbest_mutual_info_regression.index\n",
    "values = []\n",
    "for feature in features:\n",
    "    # access correct values by index\n",
    "    values.append([kbest_mutual_info_regression.loc[feature,'score'], corr[feature]])\n",
    "df = pd.DataFrame(values, columns=['information_gain', 'correlation'], index=features)\n",
    "df.plot.bar()\n",
    "\n",
    "plt.show()"
   ]
  },
  {
   "cell_type": "code",
   "execution_count": null,
   "metadata": {},
   "outputs": [],
   "source": []
  }
 ],
 "metadata": {
  "kernelspec": {
   "display_name": "Python 3",
   "language": "python",
   "name": "python3"
  },
  "language_info": {
   "codemirror_mode": {
    "name": "ipython",
    "version": 3
   },
   "file_extension": ".py",
   "mimetype": "text/x-python",
   "name": "python",
   "nbconvert_exporter": "python",
   "pygments_lexer": "ipython3",
   "version": "3.7.6"
  }
 },
 "nbformat": 4,
 "nbformat_minor": 4
}
