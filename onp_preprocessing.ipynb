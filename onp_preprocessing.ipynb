{
 "metadata": {
  "language_info": {
   "codemirror_mode": {
    "name": "ipython",
    "version": 3
   },
   "file_extension": ".py",
   "mimetype": "text/x-python",
   "name": "python",
   "nbconvert_exporter": "python",
   "pygments_lexer": "ipython3",
   "version": "3.8.3-final"
  },
  "orig_nbformat": 2,
  "kernelspec": {
   "name": "python3",
   "display_name": "Python 3",
   "language": "python"
  }
 },
 "nbformat": 4,
 "nbformat_minor": 2,
 "cells": [
  {
   "cell_type": "code",
   "execution_count": 105,
   "metadata": {},
   "outputs": [],
   "source": [
    "from datasets import popularity_dataset\n",
    "from datasets import get_sample_data\n",
    "from datasets import get_class_for_value\n",
    "from datasets import get_cutpoints_for_percent\n",
    "from datasets import calculate_scores\n",
    "\n",
    "popularity_data = popularity_dataset().drop('days_article_dataset', axis=1).drop(' kw_min_min', axis=1).drop(' kw_max_min', axis=1).drop(' kw_avg_min', axis=1).drop(' kw_min_max', axis=1).drop(' kw_max_max', axis=1).drop(' kw_min_avg', axis=1).drop(' kw_avg_max', axis=1).drop(' kw_max_avg', axis=1).drop(' kw_avg_avg', axis=1)\n",
    "\n",
    "classes = ['Very Bad', 'Bad', 'Moderate', 'Good', 'Very Good']\n",
    "\n",
    "sorted_shares = popularity_data.sort_values(by=' shares', ascending= True)\n",
    "\n",
    "classes_cutpoints = [\n",
    "    get_cutpoints_for_percent(sorted_shares, 0, .3, ' shares'),\n",
    "    get_cutpoints_for_percent(sorted_shares, .3, .45, ' shares'),\n",
    "    get_cutpoints_for_percent(sorted_shares, .45, .8, ' shares'),\n",
    "    get_cutpoints_for_percent(sorted_shares, .8, .95, ' shares'),\n",
    "    get_cutpoints_for_percent(sorted_shares, .95, 1, ' shares'),\n",
    "]\n",
    "\n",
    "\n",
    "popularity_data['share_class'] = popularity_data.apply(lambda row: get_class_for_value(row[' shares'], classes_cutpoints, classes), axis=1)\n",
    "\n",
    "feature_values = popularity_data.drop(' shares', axis=1).drop('share_class', axis=1)\n",
    "class_values = popularity_data['share_class']\n",
    "extra_column = popularity_data[' shares']\n",
    "popularity_data = get_sample_data(feature_values, class_values, extra_column, size=.25)\n",
    "popularity_data['share_class'] = popularity_data.apply(lambda row: classes.index(row['share_class']), axis=1)"
   ]
  },
  {
   "source": [
    "MV's"
   ],
   "cell_type": "markdown",
   "metadata": {}
  },
  {
   "cell_type": "code",
   "execution_count": 106,
   "metadata": {},
   "outputs": [],
   "source": [
    "# not possible because of missing values\n",
    "# x = popularity_data.drop('share_class', axis=1).drop(' shares', axis=1)\n",
    "# y = popularity_data['share_class']\n",
    "# calculate_scores(x,y)"
   ]
  },
  {
   "cell_type": "code",
   "execution_count": 107,
   "metadata": {},
   "outputs": [
    {
     "output_type": "display_data",
     "data": {
      "text/plain": "       number_words_title  number_words_content  rate_unique_words_content  \\\n1223                  NaN                   993                   0.449597   \n83                   12.0                   499                   0.513026   \n1222                  NaN                   119                   0.705882   \n1220                  NaN                   308                   0.616667   \n317                  13.0                   293                   0.585366   \n1221                  NaN                   435                   0.458333   \n\n      rate_non_stop_words_content  rate_unique_non_stop_words_content  \\\n1223                          1.0                            0.667870   \n83                            1.0                            0.662252   \n1222                          1.0                            0.861538   \n1220                          1.0                            0.714286   \n317                           1.0                            0.759036   \n1221                          1.0                            0.551020   \n\n      number_links   number_links_to_mashable   number_imgs   number_videos  \\\n1223             2                          1             1               0   \n83              14                          1             1               0   \n1222             1                          0             0               1   \n1220            11                          3             1               1   \n317              6                          5             1               0   \n1221             3                          2             1              13   \n\n       average_word_length  ...   max_polarity_in_positive_words  \\\n1223              4.445116  ...                              1.0   \n83                5.084168  ...                              0.5   \n1222              4.218487  ...                              1.0   \n1220              4.928571  ...                              0.6   \n317               4.665529  ...                              0.6   \n1221              4.972414  ...                              0.5   \n\n       avg_polarity_in_negative_words   min_polarity_in_negative_words  \\\n1223                         -0.28581                             -0.8   \n83                           -0.23500                             -0.5   \n1222                         -0.60000                             -0.6   \n1220                          0.00000                              0.0   \n317                          -0.16250                             -0.2   \n1221                         -0.35000                             -0.7   \n\n       max_polarity_in_negative_words   title_sentiment_subjectivity  \\\n1223                           -0.050                           0.85   \n83                             -0.100                           0.30   \n1222                           -0.600                           0.00   \n1220                            0.000                           0.00   \n317                            -0.125                           0.50   \n1221                           -0.125                           0.30   \n\n       title_sentiment_polarity   abs_title_subjectivity  \\\n1223                      0.625                     0.35   \n83                        0.000                     0.20   \n1222                      0.000                     0.50   \n1220                      0.000                     0.50   \n317                       0.500                     0.00   \n1221                      1.000                     0.20   \n\n       abs_title_sentiment_polarity  share_class   shares  \n1223                          0.625            2     1900  \n83                            0.000            1     1200  \n1222                          0.000            3     8700  \n1220                          0.000            0      804  \n317                           0.500            2     1700  \n1221                          1.000            1     1200  \n\n[6 rows x 51 columns]",
      "text/html": "<div>\n<style scoped>\n    .dataframe tbody tr th:only-of-type {\n        vertical-align: middle;\n    }\n\n    .dataframe tbody tr th {\n        vertical-align: top;\n    }\n\n    .dataframe thead th {\n        text-align: right;\n    }\n</style>\n<table border=\"1\" class=\"dataframe\">\n  <thead>\n    <tr style=\"text-align: right;\">\n      <th></th>\n      <th>number_words_title</th>\n      <th>number_words_content</th>\n      <th>rate_unique_words_content</th>\n      <th>rate_non_stop_words_content</th>\n      <th>rate_unique_non_stop_words_content</th>\n      <th>number_links</th>\n      <th>number_links_to_mashable</th>\n      <th>number_imgs</th>\n      <th>number_videos</th>\n      <th>average_word_length</th>\n      <th>...</th>\n      <th>max_polarity_in_positive_words</th>\n      <th>avg_polarity_in_negative_words</th>\n      <th>min_polarity_in_negative_words</th>\n      <th>max_polarity_in_negative_words</th>\n      <th>title_sentiment_subjectivity</th>\n      <th>title_sentiment_polarity</th>\n      <th>abs_title_subjectivity</th>\n      <th>abs_title_sentiment_polarity</th>\n      <th>share_class</th>\n      <th>shares</th>\n    </tr>\n  </thead>\n  <tbody>\n    <tr>\n      <th>1223</th>\n      <td>NaN</td>\n      <td>993</td>\n      <td>0.449597</td>\n      <td>1.0</td>\n      <td>0.667870</td>\n      <td>2</td>\n      <td>1</td>\n      <td>1</td>\n      <td>0</td>\n      <td>4.445116</td>\n      <td>...</td>\n      <td>1.0</td>\n      <td>-0.28581</td>\n      <td>-0.8</td>\n      <td>-0.050</td>\n      <td>0.85</td>\n      <td>0.625</td>\n      <td>0.35</td>\n      <td>0.625</td>\n      <td>2</td>\n      <td>1900</td>\n    </tr>\n    <tr>\n      <th>83</th>\n      <td>12.0</td>\n      <td>499</td>\n      <td>0.513026</td>\n      <td>1.0</td>\n      <td>0.662252</td>\n      <td>14</td>\n      <td>1</td>\n      <td>1</td>\n      <td>0</td>\n      <td>5.084168</td>\n      <td>...</td>\n      <td>0.5</td>\n      <td>-0.23500</td>\n      <td>-0.5</td>\n      <td>-0.100</td>\n      <td>0.30</td>\n      <td>0.000</td>\n      <td>0.20</td>\n      <td>0.000</td>\n      <td>1</td>\n      <td>1200</td>\n    </tr>\n    <tr>\n      <th>1222</th>\n      <td>NaN</td>\n      <td>119</td>\n      <td>0.705882</td>\n      <td>1.0</td>\n      <td>0.861538</td>\n      <td>1</td>\n      <td>0</td>\n      <td>0</td>\n      <td>1</td>\n      <td>4.218487</td>\n      <td>...</td>\n      <td>1.0</td>\n      <td>-0.60000</td>\n      <td>-0.6</td>\n      <td>-0.600</td>\n      <td>0.00</td>\n      <td>0.000</td>\n      <td>0.50</td>\n      <td>0.000</td>\n      <td>3</td>\n      <td>8700</td>\n    </tr>\n    <tr>\n      <th>1220</th>\n      <td>NaN</td>\n      <td>308</td>\n      <td>0.616667</td>\n      <td>1.0</td>\n      <td>0.714286</td>\n      <td>11</td>\n      <td>3</td>\n      <td>1</td>\n      <td>1</td>\n      <td>4.928571</td>\n      <td>...</td>\n      <td>0.6</td>\n      <td>0.00000</td>\n      <td>0.0</td>\n      <td>0.000</td>\n      <td>0.00</td>\n      <td>0.000</td>\n      <td>0.50</td>\n      <td>0.000</td>\n      <td>0</td>\n      <td>804</td>\n    </tr>\n    <tr>\n      <th>317</th>\n      <td>13.0</td>\n      <td>293</td>\n      <td>0.585366</td>\n      <td>1.0</td>\n      <td>0.759036</td>\n      <td>6</td>\n      <td>5</td>\n      <td>1</td>\n      <td>0</td>\n      <td>4.665529</td>\n      <td>...</td>\n      <td>0.6</td>\n      <td>-0.16250</td>\n      <td>-0.2</td>\n      <td>-0.125</td>\n      <td>0.50</td>\n      <td>0.500</td>\n      <td>0.00</td>\n      <td>0.500</td>\n      <td>2</td>\n      <td>1700</td>\n    </tr>\n    <tr>\n      <th>1221</th>\n      <td>NaN</td>\n      <td>435</td>\n      <td>0.458333</td>\n      <td>1.0</td>\n      <td>0.551020</td>\n      <td>3</td>\n      <td>2</td>\n      <td>1</td>\n      <td>13</td>\n      <td>4.972414</td>\n      <td>...</td>\n      <td>0.5</td>\n      <td>-0.35000</td>\n      <td>-0.7</td>\n      <td>-0.125</td>\n      <td>0.30</td>\n      <td>1.000</td>\n      <td>0.20</td>\n      <td>1.000</td>\n      <td>1</td>\n      <td>1200</td>\n    </tr>\n  </tbody>\n</table>\n<p>6 rows × 51 columns</p>\n</div>"
     },
     "metadata": {}
    }
   ],
   "source": [
    "from datasets import show_mvs\n",
    "\n",
    "mvs = show_mvs(popularity_data)"
   ]
  },
  {
   "source": [
    "## MV's in categories"
   ],
   "cell_type": "markdown",
   "metadata": {}
  },
  {
   "source": [
    "### Find out the indexes"
   ],
   "cell_type": "markdown",
   "metadata": {}
  },
  {
   "cell_type": "code",
   "execution_count": 108,
   "metadata": {},
   "outputs": [
    {
     "output_type": "display_data",
     "data": {
      "text/plain": "     is_category_entertainment  is_category_lifestyle  is_category_business  \\\n83                         0.0                    NaN                   0.0   \n317                        0.0                    0.0                   0.0   \n\n     is_category_socialmedia  is_category_tech  is_category_world  \n83                       0.0               0.0                0.0  \n317                      NaN               0.0                0.0  ",
      "text/html": "<div>\n<style scoped>\n    .dataframe tbody tr th:only-of-type {\n        vertical-align: middle;\n    }\n\n    .dataframe tbody tr th {\n        vertical-align: top;\n    }\n\n    .dataframe thead th {\n        text-align: right;\n    }\n</style>\n<table border=\"1\" class=\"dataframe\">\n  <thead>\n    <tr style=\"text-align: right;\">\n      <th></th>\n      <th>is_category_entertainment</th>\n      <th>is_category_lifestyle</th>\n      <th>is_category_business</th>\n      <th>is_category_socialmedia</th>\n      <th>is_category_tech</th>\n      <th>is_category_world</th>\n    </tr>\n  </thead>\n  <tbody>\n    <tr>\n      <th>83</th>\n      <td>0.0</td>\n      <td>NaN</td>\n      <td>0.0</td>\n      <td>0.0</td>\n      <td>0.0</td>\n      <td>0.0</td>\n    </tr>\n    <tr>\n      <th>317</th>\n      <td>0.0</td>\n      <td>0.0</td>\n      <td>0.0</td>\n      <td>NaN</td>\n      <td>0.0</td>\n      <td>0.0</td>\n    </tr>\n  </tbody>\n</table>\n</div>"
     },
     "metadata": {}
    }
   ],
   "source": [
    "from datasets import get_mvs_of_features\n",
    "\n",
    "categories = [\n",
    "    'is_category_entertainment',\n",
    "    'is_category_lifestyle',\n",
    "    'is_category_business',\n",
    "    'is_category_socialmedia',\n",
    "    'is_category_tech',\n",
    "    'is_category_world'\n",
    "    ]\n",
    "\n",
    "category_mvs = get_mvs_of_features(popularity_data,categories)\n",
    "display(category_mvs[categories])"
   ]
  },
  {
   "source": [
    "### Correct values at indexes"
   ],
   "cell_type": "markdown",
   "metadata": {}
  },
  {
   "cell_type": "code",
   "execution_count": 109,
   "metadata": {},
   "outputs": [],
   "source": [
    "popularity_data.at[category_mvs.iloc[0].name, 'is_category_lifestyle'] = 1\n",
    "popularity_data.at[category_mvs.iloc[1].name, 'is_category_socialmedia'] = 1"
   ]
  },
  {
   "cell_type": "code",
   "execution_count": 110,
   "metadata": {},
   "outputs": [
    {
     "output_type": "display_data",
     "data": {
      "text/plain": "Empty DataFrame\nColumns: [is_category_entertainment, is_category_lifestyle, is_category_business, is_category_socialmedia, is_category_tech, is_category_world]\nIndex: []",
      "text/html": "<div>\n<style scoped>\n    .dataframe tbody tr th:only-of-type {\n        vertical-align: middle;\n    }\n\n    .dataframe tbody tr th {\n        vertical-align: top;\n    }\n\n    .dataframe thead th {\n        text-align: right;\n    }\n</style>\n<table border=\"1\" class=\"dataframe\">\n  <thead>\n    <tr style=\"text-align: right;\">\n      <th></th>\n      <th>is_category_entertainment</th>\n      <th>is_category_lifestyle</th>\n      <th>is_category_business</th>\n      <th>is_category_socialmedia</th>\n      <th>is_category_tech</th>\n      <th>is_category_world</th>\n    </tr>\n  </thead>\n  <tbody>\n  </tbody>\n</table>\n</div>"
     },
     "metadata": {}
    },
    {
     "output_type": "display_data",
     "data": {
      "text/plain": "       number_words_title  number_words_content  rate_unique_words_content  \\\n1223                  NaN                   993                   0.449597   \n1222                  NaN                   119                   0.705882   \n1220                  NaN                   308                   0.616667   \n1221                  NaN                   435                   0.458333   \n\n      rate_non_stop_words_content  rate_unique_non_stop_words_content  \\\n1223                          1.0                            0.667870   \n1222                          1.0                            0.861538   \n1220                          1.0                            0.714286   \n1221                          1.0                            0.551020   \n\n      number_links   number_links_to_mashable   number_imgs   number_videos  \\\n1223             2                          1             1               0   \n1222             1                          0             0               1   \n1220            11                          3             1               1   \n1221             3                          2             1              13   \n\n       average_word_length  ...   max_polarity_in_positive_words  \\\n1223              4.445116  ...                              1.0   \n1222              4.218487  ...                              1.0   \n1220              4.928571  ...                              0.6   \n1221              4.972414  ...                              0.5   \n\n       avg_polarity_in_negative_words   min_polarity_in_negative_words  \\\n1223                         -0.28581                             -0.8   \n1222                         -0.60000                             -0.6   \n1220                          0.00000                              0.0   \n1221                         -0.35000                             -0.7   \n\n       max_polarity_in_negative_words   title_sentiment_subjectivity  \\\n1223                           -0.050                           0.85   \n1222                           -0.600                           0.00   \n1220                            0.000                           0.00   \n1221                           -0.125                           0.30   \n\n       title_sentiment_polarity   abs_title_subjectivity  \\\n1223                      0.625                     0.35   \n1222                      0.000                     0.50   \n1220                      0.000                     0.50   \n1221                      1.000                     0.20   \n\n       abs_title_sentiment_polarity  share_class   shares  \n1223                          0.625            2     1900  \n1222                          0.000            3     8700  \n1220                          0.000            0      804  \n1221                          1.000            1     1200  \n\n[4 rows x 51 columns]",
      "text/html": "<div>\n<style scoped>\n    .dataframe tbody tr th:only-of-type {\n        vertical-align: middle;\n    }\n\n    .dataframe tbody tr th {\n        vertical-align: top;\n    }\n\n    .dataframe thead th {\n        text-align: right;\n    }\n</style>\n<table border=\"1\" class=\"dataframe\">\n  <thead>\n    <tr style=\"text-align: right;\">\n      <th></th>\n      <th>number_words_title</th>\n      <th>number_words_content</th>\n      <th>rate_unique_words_content</th>\n      <th>rate_non_stop_words_content</th>\n      <th>rate_unique_non_stop_words_content</th>\n      <th>number_links</th>\n      <th>number_links_to_mashable</th>\n      <th>number_imgs</th>\n      <th>number_videos</th>\n      <th>average_word_length</th>\n      <th>...</th>\n      <th>max_polarity_in_positive_words</th>\n      <th>avg_polarity_in_negative_words</th>\n      <th>min_polarity_in_negative_words</th>\n      <th>max_polarity_in_negative_words</th>\n      <th>title_sentiment_subjectivity</th>\n      <th>title_sentiment_polarity</th>\n      <th>abs_title_subjectivity</th>\n      <th>abs_title_sentiment_polarity</th>\n      <th>share_class</th>\n      <th>shares</th>\n    </tr>\n  </thead>\n  <tbody>\n    <tr>\n      <th>1223</th>\n      <td>NaN</td>\n      <td>993</td>\n      <td>0.449597</td>\n      <td>1.0</td>\n      <td>0.667870</td>\n      <td>2</td>\n      <td>1</td>\n      <td>1</td>\n      <td>0</td>\n      <td>4.445116</td>\n      <td>...</td>\n      <td>1.0</td>\n      <td>-0.28581</td>\n      <td>-0.8</td>\n      <td>-0.050</td>\n      <td>0.85</td>\n      <td>0.625</td>\n      <td>0.35</td>\n      <td>0.625</td>\n      <td>2</td>\n      <td>1900</td>\n    </tr>\n    <tr>\n      <th>1222</th>\n      <td>NaN</td>\n      <td>119</td>\n      <td>0.705882</td>\n      <td>1.0</td>\n      <td>0.861538</td>\n      <td>1</td>\n      <td>0</td>\n      <td>0</td>\n      <td>1</td>\n      <td>4.218487</td>\n      <td>...</td>\n      <td>1.0</td>\n      <td>-0.60000</td>\n      <td>-0.6</td>\n      <td>-0.600</td>\n      <td>0.00</td>\n      <td>0.000</td>\n      <td>0.50</td>\n      <td>0.000</td>\n      <td>3</td>\n      <td>8700</td>\n    </tr>\n    <tr>\n      <th>1220</th>\n      <td>NaN</td>\n      <td>308</td>\n      <td>0.616667</td>\n      <td>1.0</td>\n      <td>0.714286</td>\n      <td>11</td>\n      <td>3</td>\n      <td>1</td>\n      <td>1</td>\n      <td>4.928571</td>\n      <td>...</td>\n      <td>0.6</td>\n      <td>0.00000</td>\n      <td>0.0</td>\n      <td>0.000</td>\n      <td>0.00</td>\n      <td>0.000</td>\n      <td>0.50</td>\n      <td>0.000</td>\n      <td>0</td>\n      <td>804</td>\n    </tr>\n    <tr>\n      <th>1221</th>\n      <td>NaN</td>\n      <td>435</td>\n      <td>0.458333</td>\n      <td>1.0</td>\n      <td>0.551020</td>\n      <td>3</td>\n      <td>2</td>\n      <td>1</td>\n      <td>13</td>\n      <td>4.972414</td>\n      <td>...</td>\n      <td>0.5</td>\n      <td>-0.35000</td>\n      <td>-0.7</td>\n      <td>-0.125</td>\n      <td>0.30</td>\n      <td>1.000</td>\n      <td>0.20</td>\n      <td>1.000</td>\n      <td>1</td>\n      <td>1200</td>\n    </tr>\n  </tbody>\n</table>\n<p>4 rows × 51 columns</p>\n</div>"
     },
     "metadata": {}
    },
    {
     "output_type": "execute_result",
     "data": {
      "text/plain": [
       "       number_words_title  number_words_content  rate_unique_words_content  \\\n",
       "1223                  NaN                   993                   0.449597   \n",
       "1222                  NaN                   119                   0.705882   \n",
       "1220                  NaN                   308                   0.616667   \n",
       "1221                  NaN                   435                   0.458333   \n",
       "\n",
       "      rate_non_stop_words_content  rate_unique_non_stop_words_content  \\\n",
       "1223                          1.0                            0.667870   \n",
       "1222                          1.0                            0.861538   \n",
       "1220                          1.0                            0.714286   \n",
       "1221                          1.0                            0.551020   \n",
       "\n",
       "      number_links   number_links_to_mashable   number_imgs   number_videos  \\\n",
       "1223             2                          1             1               0   \n",
       "1222             1                          0             0               1   \n",
       "1220            11                          3             1               1   \n",
       "1221             3                          2             1              13   \n",
       "\n",
       "       average_word_length  ...   max_polarity_in_positive_words  \\\n",
       "1223              4.445116  ...                              1.0   \n",
       "1222              4.218487  ...                              1.0   \n",
       "1220              4.928571  ...                              0.6   \n",
       "1221              4.972414  ...                              0.5   \n",
       "\n",
       "       avg_polarity_in_negative_words   min_polarity_in_negative_words  \\\n",
       "1223                         -0.28581                             -0.8   \n",
       "1222                         -0.60000                             -0.6   \n",
       "1220                          0.00000                              0.0   \n",
       "1221                         -0.35000                             -0.7   \n",
       "\n",
       "       max_polarity_in_negative_words   title_sentiment_subjectivity  \\\n",
       "1223                           -0.050                           0.85   \n",
       "1222                           -0.600                           0.00   \n",
       "1220                            0.000                           0.00   \n",
       "1221                           -0.125                           0.30   \n",
       "\n",
       "       title_sentiment_polarity   abs_title_subjectivity  \\\n",
       "1223                      0.625                     0.35   \n",
       "1222                      0.000                     0.50   \n",
       "1220                      0.000                     0.50   \n",
       "1221                      1.000                     0.20   \n",
       "\n",
       "       abs_title_sentiment_polarity  share_class   shares  \n",
       "1223                          0.625            2     1900  \n",
       "1222                          0.000            3     8700  \n",
       "1220                          0.000            0      804  \n",
       "1221                          1.000            1     1200  \n",
       "\n",
       "[4 rows x 51 columns]"
      ],
      "text/html": "<div>\n<style scoped>\n    .dataframe tbody tr th:only-of-type {\n        vertical-align: middle;\n    }\n\n    .dataframe tbody tr th {\n        vertical-align: top;\n    }\n\n    .dataframe thead th {\n        text-align: right;\n    }\n</style>\n<table border=\"1\" class=\"dataframe\">\n  <thead>\n    <tr style=\"text-align: right;\">\n      <th></th>\n      <th>number_words_title</th>\n      <th>number_words_content</th>\n      <th>rate_unique_words_content</th>\n      <th>rate_non_stop_words_content</th>\n      <th>rate_unique_non_stop_words_content</th>\n      <th>number_links</th>\n      <th>number_links_to_mashable</th>\n      <th>number_imgs</th>\n      <th>number_videos</th>\n      <th>average_word_length</th>\n      <th>...</th>\n      <th>max_polarity_in_positive_words</th>\n      <th>avg_polarity_in_negative_words</th>\n      <th>min_polarity_in_negative_words</th>\n      <th>max_polarity_in_negative_words</th>\n      <th>title_sentiment_subjectivity</th>\n      <th>title_sentiment_polarity</th>\n      <th>abs_title_subjectivity</th>\n      <th>abs_title_sentiment_polarity</th>\n      <th>share_class</th>\n      <th>shares</th>\n    </tr>\n  </thead>\n  <tbody>\n    <tr>\n      <th>1223</th>\n      <td>NaN</td>\n      <td>993</td>\n      <td>0.449597</td>\n      <td>1.0</td>\n      <td>0.667870</td>\n      <td>2</td>\n      <td>1</td>\n      <td>1</td>\n      <td>0</td>\n      <td>4.445116</td>\n      <td>...</td>\n      <td>1.0</td>\n      <td>-0.28581</td>\n      <td>-0.8</td>\n      <td>-0.050</td>\n      <td>0.85</td>\n      <td>0.625</td>\n      <td>0.35</td>\n      <td>0.625</td>\n      <td>2</td>\n      <td>1900</td>\n    </tr>\n    <tr>\n      <th>1222</th>\n      <td>NaN</td>\n      <td>119</td>\n      <td>0.705882</td>\n      <td>1.0</td>\n      <td>0.861538</td>\n      <td>1</td>\n      <td>0</td>\n      <td>0</td>\n      <td>1</td>\n      <td>4.218487</td>\n      <td>...</td>\n      <td>1.0</td>\n      <td>-0.60000</td>\n      <td>-0.6</td>\n      <td>-0.600</td>\n      <td>0.00</td>\n      <td>0.000</td>\n      <td>0.50</td>\n      <td>0.000</td>\n      <td>3</td>\n      <td>8700</td>\n    </tr>\n    <tr>\n      <th>1220</th>\n      <td>NaN</td>\n      <td>308</td>\n      <td>0.616667</td>\n      <td>1.0</td>\n      <td>0.714286</td>\n      <td>11</td>\n      <td>3</td>\n      <td>1</td>\n      <td>1</td>\n      <td>4.928571</td>\n      <td>...</td>\n      <td>0.6</td>\n      <td>0.00000</td>\n      <td>0.0</td>\n      <td>0.000</td>\n      <td>0.00</td>\n      <td>0.000</td>\n      <td>0.50</td>\n      <td>0.000</td>\n      <td>0</td>\n      <td>804</td>\n    </tr>\n    <tr>\n      <th>1221</th>\n      <td>NaN</td>\n      <td>435</td>\n      <td>0.458333</td>\n      <td>1.0</td>\n      <td>0.551020</td>\n      <td>3</td>\n      <td>2</td>\n      <td>1</td>\n      <td>13</td>\n      <td>4.972414</td>\n      <td>...</td>\n      <td>0.5</td>\n      <td>-0.35000</td>\n      <td>-0.7</td>\n      <td>-0.125</td>\n      <td>0.30</td>\n      <td>1.000</td>\n      <td>0.20</td>\n      <td>1.000</td>\n      <td>1</td>\n      <td>1200</td>\n    </tr>\n  </tbody>\n</table>\n<p>4 rows × 51 columns</p>\n</div>"
     },
     "metadata": {},
     "execution_count": 110
    }
   ],
   "source": [
    "category_mvs = get_mvs_of_features(popularity_data,categories)\n",
    "display(category_mvs[categories])\n",
    "show_mvs(popularity_data)"
   ]
  },
  {
   "cell_type": "code",
   "execution_count": 111,
   "metadata": {},
   "outputs": [],
   "source": [
    "# not possible because of missing values\n",
    "# x = popularity_data.drop('share_class', axis=1).drop(' shares', axis=1)\n",
    "# y = popularity_data['share_class']\n",
    "# calculate_scores(x,y)"
   ]
  },
  {
   "source": [
    "### Missing categories are no longer missing"
   ],
   "cell_type": "markdown",
   "metadata": {}
  },
  {
   "source": [
    "## MV's Number Words Title"
   ],
   "cell_type": "markdown",
   "metadata": {}
  },
  {
   "source": [
    "### Find out indexes of mvs"
   ],
   "cell_type": "markdown",
   "metadata": {}
  },
  {
   "cell_type": "code",
   "execution_count": 112,
   "metadata": {},
   "outputs": [
    {
     "output_type": "display_data",
     "data": {
      "text/plain": "       number_words_title  number_words_content  rate_unique_words_content  \\\n1223                  NaN                   993                   0.449597   \n1222                  NaN                   119                   0.705882   \n1220                  NaN                   308                   0.616667   \n1221                  NaN                   435                   0.458333   \n\n      rate_non_stop_words_content  rate_unique_non_stop_words_content  \\\n1223                          1.0                            0.667870   \n1222                          1.0                            0.861538   \n1220                          1.0                            0.714286   \n1221                          1.0                            0.551020   \n\n      number_links   number_links_to_mashable   number_imgs   number_videos  \\\n1223             2                          1             1               0   \n1222             1                          0             0               1   \n1220            11                          3             1               1   \n1221             3                          2             1              13   \n\n       average_word_length  ...   max_polarity_in_positive_words  \\\n1223              4.445116  ...                              1.0   \n1222              4.218487  ...                              1.0   \n1220              4.928571  ...                              0.6   \n1221              4.972414  ...                              0.5   \n\n       avg_polarity_in_negative_words   min_polarity_in_negative_words  \\\n1223                         -0.28581                             -0.8   \n1222                         -0.60000                             -0.6   \n1220                          0.00000                              0.0   \n1221                         -0.35000                             -0.7   \n\n       max_polarity_in_negative_words   title_sentiment_subjectivity  \\\n1223                           -0.050                           0.85   \n1222                           -0.600                           0.00   \n1220                            0.000                           0.00   \n1221                           -0.125                           0.30   \n\n       title_sentiment_polarity   abs_title_subjectivity  \\\n1223                      0.625                     0.35   \n1222                      0.000                     0.50   \n1220                      0.000                     0.50   \n1221                      1.000                     0.20   \n\n       abs_title_sentiment_polarity  share_class   shares  \n1223                          0.625            2     1900  \n1222                          0.000            3     8700  \n1220                          0.000            0      804  \n1221                          1.000            1     1200  \n\n[4 rows x 51 columns]",
      "text/html": "<div>\n<style scoped>\n    .dataframe tbody tr th:only-of-type {\n        vertical-align: middle;\n    }\n\n    .dataframe tbody tr th {\n        vertical-align: top;\n    }\n\n    .dataframe thead th {\n        text-align: right;\n    }\n</style>\n<table border=\"1\" class=\"dataframe\">\n  <thead>\n    <tr style=\"text-align: right;\">\n      <th></th>\n      <th>number_words_title</th>\n      <th>number_words_content</th>\n      <th>rate_unique_words_content</th>\n      <th>rate_non_stop_words_content</th>\n      <th>rate_unique_non_stop_words_content</th>\n      <th>number_links</th>\n      <th>number_links_to_mashable</th>\n      <th>number_imgs</th>\n      <th>number_videos</th>\n      <th>average_word_length</th>\n      <th>...</th>\n      <th>max_polarity_in_positive_words</th>\n      <th>avg_polarity_in_negative_words</th>\n      <th>min_polarity_in_negative_words</th>\n      <th>max_polarity_in_negative_words</th>\n      <th>title_sentiment_subjectivity</th>\n      <th>title_sentiment_polarity</th>\n      <th>abs_title_subjectivity</th>\n      <th>abs_title_sentiment_polarity</th>\n      <th>share_class</th>\n      <th>shares</th>\n    </tr>\n  </thead>\n  <tbody>\n    <tr>\n      <th>1223</th>\n      <td>NaN</td>\n      <td>993</td>\n      <td>0.449597</td>\n      <td>1.0</td>\n      <td>0.667870</td>\n      <td>2</td>\n      <td>1</td>\n      <td>1</td>\n      <td>0</td>\n      <td>4.445116</td>\n      <td>...</td>\n      <td>1.0</td>\n      <td>-0.28581</td>\n      <td>-0.8</td>\n      <td>-0.050</td>\n      <td>0.85</td>\n      <td>0.625</td>\n      <td>0.35</td>\n      <td>0.625</td>\n      <td>2</td>\n      <td>1900</td>\n    </tr>\n    <tr>\n      <th>1222</th>\n      <td>NaN</td>\n      <td>119</td>\n      <td>0.705882</td>\n      <td>1.0</td>\n      <td>0.861538</td>\n      <td>1</td>\n      <td>0</td>\n      <td>0</td>\n      <td>1</td>\n      <td>4.218487</td>\n      <td>...</td>\n      <td>1.0</td>\n      <td>-0.60000</td>\n      <td>-0.6</td>\n      <td>-0.600</td>\n      <td>0.00</td>\n      <td>0.000</td>\n      <td>0.50</td>\n      <td>0.000</td>\n      <td>3</td>\n      <td>8700</td>\n    </tr>\n    <tr>\n      <th>1220</th>\n      <td>NaN</td>\n      <td>308</td>\n      <td>0.616667</td>\n      <td>1.0</td>\n      <td>0.714286</td>\n      <td>11</td>\n      <td>3</td>\n      <td>1</td>\n      <td>1</td>\n      <td>4.928571</td>\n      <td>...</td>\n      <td>0.6</td>\n      <td>0.00000</td>\n      <td>0.0</td>\n      <td>0.000</td>\n      <td>0.00</td>\n      <td>0.000</td>\n      <td>0.50</td>\n      <td>0.000</td>\n      <td>0</td>\n      <td>804</td>\n    </tr>\n    <tr>\n      <th>1221</th>\n      <td>NaN</td>\n      <td>435</td>\n      <td>0.458333</td>\n      <td>1.0</td>\n      <td>0.551020</td>\n      <td>3</td>\n      <td>2</td>\n      <td>1</td>\n      <td>13</td>\n      <td>4.972414</td>\n      <td>...</td>\n      <td>0.5</td>\n      <td>-0.35000</td>\n      <td>-0.7</td>\n      <td>-0.125</td>\n      <td>0.30</td>\n      <td>1.000</td>\n      <td>0.20</td>\n      <td>1.000</td>\n      <td>1</td>\n      <td>1200</td>\n    </tr>\n  </tbody>\n</table>\n<p>4 rows × 51 columns</p>\n</div>"
     },
     "metadata": {}
    }
   ],
   "source": [
    "from datasets import get_mvs_of_feature\n",
    "\n",
    "number_words_title_mvs = get_mvs_of_feature(popularity_data, [' number_words_title'])\n",
    "\n",
    "display(number_words_title_mvs)"
   ]
  },
  {
   "cell_type": "code",
   "execution_count": 113,
   "metadata": {},
   "outputs": [
    {
     "output_type": "display_data",
     "data": {
      "text/plain": "       number_words_title  number_words_content  rate_unique_words_content  \\\n1223                 10.0                   993                   0.449597   \n1222                 10.0                   119                   0.705882   \n1220                 10.0                   308                   0.616667   \n1221                 10.0                   435                   0.458333   \n\n      rate_non_stop_words_content  rate_unique_non_stop_words_content  \\\n1223                          1.0                            0.667870   \n1222                          1.0                            0.861538   \n1220                          1.0                            0.714286   \n1221                          1.0                            0.551020   \n\n      number_links   number_links_to_mashable   number_imgs   number_videos  \\\n1223             2                          1             1               0   \n1222             1                          0             0               1   \n1220            11                          3             1               1   \n1221             3                          2             1              13   \n\n       average_word_length  ...   max_polarity_in_positive_words  \\\n1223              4.445116  ...                              1.0   \n1222              4.218487  ...                              1.0   \n1220              4.928571  ...                              0.6   \n1221              4.972414  ...                              0.5   \n\n       avg_polarity_in_negative_words   min_polarity_in_negative_words  \\\n1223                         -0.28581                             -0.8   \n1222                         -0.60000                             -0.6   \n1220                          0.00000                              0.0   \n1221                         -0.35000                             -0.7   \n\n       max_polarity_in_negative_words   title_sentiment_subjectivity  \\\n1223                           -0.050                           0.85   \n1222                           -0.600                           0.00   \n1220                            0.000                           0.00   \n1221                           -0.125                           0.30   \n\n       title_sentiment_polarity   abs_title_subjectivity  \\\n1223                      0.625                     0.35   \n1222                      0.000                     0.50   \n1220                      0.000                     0.50   \n1221                      1.000                     0.20   \n\n       abs_title_sentiment_polarity  share_class   shares  \n1223                          0.625            2     1900  \n1222                          0.000            3     8700  \n1220                          0.000            0      804  \n1221                          1.000            1     1200  \n\n[4 rows x 51 columns]",
      "text/html": "<div>\n<style scoped>\n    .dataframe tbody tr th:only-of-type {\n        vertical-align: middle;\n    }\n\n    .dataframe tbody tr th {\n        vertical-align: top;\n    }\n\n    .dataframe thead th {\n        text-align: right;\n    }\n</style>\n<table border=\"1\" class=\"dataframe\">\n  <thead>\n    <tr style=\"text-align: right;\">\n      <th></th>\n      <th>number_words_title</th>\n      <th>number_words_content</th>\n      <th>rate_unique_words_content</th>\n      <th>rate_non_stop_words_content</th>\n      <th>rate_unique_non_stop_words_content</th>\n      <th>number_links</th>\n      <th>number_links_to_mashable</th>\n      <th>number_imgs</th>\n      <th>number_videos</th>\n      <th>average_word_length</th>\n      <th>...</th>\n      <th>max_polarity_in_positive_words</th>\n      <th>avg_polarity_in_negative_words</th>\n      <th>min_polarity_in_negative_words</th>\n      <th>max_polarity_in_negative_words</th>\n      <th>title_sentiment_subjectivity</th>\n      <th>title_sentiment_polarity</th>\n      <th>abs_title_subjectivity</th>\n      <th>abs_title_sentiment_polarity</th>\n      <th>share_class</th>\n      <th>shares</th>\n    </tr>\n  </thead>\n  <tbody>\n    <tr>\n      <th>1223</th>\n      <td>10.0</td>\n      <td>993</td>\n      <td>0.449597</td>\n      <td>1.0</td>\n      <td>0.667870</td>\n      <td>2</td>\n      <td>1</td>\n      <td>1</td>\n      <td>0</td>\n      <td>4.445116</td>\n      <td>...</td>\n      <td>1.0</td>\n      <td>-0.28581</td>\n      <td>-0.8</td>\n      <td>-0.050</td>\n      <td>0.85</td>\n      <td>0.625</td>\n      <td>0.35</td>\n      <td>0.625</td>\n      <td>2</td>\n      <td>1900</td>\n    </tr>\n    <tr>\n      <th>1222</th>\n      <td>10.0</td>\n      <td>119</td>\n      <td>0.705882</td>\n      <td>1.0</td>\n      <td>0.861538</td>\n      <td>1</td>\n      <td>0</td>\n      <td>0</td>\n      <td>1</td>\n      <td>4.218487</td>\n      <td>...</td>\n      <td>1.0</td>\n      <td>-0.60000</td>\n      <td>-0.6</td>\n      <td>-0.600</td>\n      <td>0.00</td>\n      <td>0.000</td>\n      <td>0.50</td>\n      <td>0.000</td>\n      <td>3</td>\n      <td>8700</td>\n    </tr>\n    <tr>\n      <th>1220</th>\n      <td>10.0</td>\n      <td>308</td>\n      <td>0.616667</td>\n      <td>1.0</td>\n      <td>0.714286</td>\n      <td>11</td>\n      <td>3</td>\n      <td>1</td>\n      <td>1</td>\n      <td>4.928571</td>\n      <td>...</td>\n      <td>0.6</td>\n      <td>0.00000</td>\n      <td>0.0</td>\n      <td>0.000</td>\n      <td>0.00</td>\n      <td>0.000</td>\n      <td>0.50</td>\n      <td>0.000</td>\n      <td>0</td>\n      <td>804</td>\n    </tr>\n    <tr>\n      <th>1221</th>\n      <td>10.0</td>\n      <td>435</td>\n      <td>0.458333</td>\n      <td>1.0</td>\n      <td>0.551020</td>\n      <td>3</td>\n      <td>2</td>\n      <td>1</td>\n      <td>13</td>\n      <td>4.972414</td>\n      <td>...</td>\n      <td>0.5</td>\n      <td>-0.35000</td>\n      <td>-0.7</td>\n      <td>-0.125</td>\n      <td>0.30</td>\n      <td>1.000</td>\n      <td>0.20</td>\n      <td>1.000</td>\n      <td>1</td>\n      <td>1200</td>\n    </tr>\n  </tbody>\n</table>\n<p>4 rows × 51 columns</p>\n</div>"
     },
     "metadata": {}
    },
    {
     "output_type": "display_data",
     "data": {
      "text/plain": "Empty DataFrame\nColumns: [ number_words_title, number_words_content, rate_unique_words_content, rate_non_stop_words_content, rate_unique_non_stop_words_content, number_links,  number_links_to_mashable,  number_imgs,  number_videos,  average_word_length,  number_keywords, is_category_lifestyle, is_category_entertainment, is_category_business, is_category_socialmedia, is_category_tech, is_category_world,  self_reference_min_shares,  self_reference_max_shares,  self_reference_avg_sharess, is_monday, is_tuesday, is_wednesday, is_thursday, is_friday, is_saturday,  is_sunday,  is_weekend,  LDA_00,  LDA_01,  LDA_02,  LDA_03,  LDA_04, sentiment_subjectivity, sentiment_polarity,  global_rate_positive_words,  global_rate_negative_words,  rate_positive_words,  rate_negative_words,  avg_polarity_in_positive_words,  min_polarity_in_positive_words,  max_polarity_in_positive_words,  avg_polarity_in_negative_words,  min_polarity_in_negative_words,  max_polarity_in_negative_words,  title_sentiment_subjectivity,  title_sentiment_polarity,  abs_title_subjectivity,  abs_title_sentiment_polarity, share_class,  shares]\nIndex: []\n\n[0 rows x 51 columns]",
      "text/html": "<div>\n<style scoped>\n    .dataframe tbody tr th:only-of-type {\n        vertical-align: middle;\n    }\n\n    .dataframe tbody tr th {\n        vertical-align: top;\n    }\n\n    .dataframe thead th {\n        text-align: right;\n    }\n</style>\n<table border=\"1\" class=\"dataframe\">\n  <thead>\n    <tr style=\"text-align: right;\">\n      <th></th>\n      <th>number_words_title</th>\n      <th>number_words_content</th>\n      <th>rate_unique_words_content</th>\n      <th>rate_non_stop_words_content</th>\n      <th>rate_unique_non_stop_words_content</th>\n      <th>number_links</th>\n      <th>number_links_to_mashable</th>\n      <th>number_imgs</th>\n      <th>number_videos</th>\n      <th>average_word_length</th>\n      <th>...</th>\n      <th>max_polarity_in_positive_words</th>\n      <th>avg_polarity_in_negative_words</th>\n      <th>min_polarity_in_negative_words</th>\n      <th>max_polarity_in_negative_words</th>\n      <th>title_sentiment_subjectivity</th>\n      <th>title_sentiment_polarity</th>\n      <th>abs_title_subjectivity</th>\n      <th>abs_title_sentiment_polarity</th>\n      <th>share_class</th>\n      <th>shares</th>\n    </tr>\n  </thead>\n  <tbody>\n  </tbody>\n</table>\n<p>0 rows × 51 columns</p>\n</div>"
     },
     "metadata": {}
    },
    {
     "output_type": "execute_result",
     "data": {
      "text/plain": [
       "Empty DataFrame\n",
       "Columns: [ number_words_title, number_words_content, rate_unique_words_content, rate_non_stop_words_content, rate_unique_non_stop_words_content, number_links,  number_links_to_mashable,  number_imgs,  number_videos,  average_word_length,  number_keywords, is_category_lifestyle, is_category_entertainment, is_category_business, is_category_socialmedia, is_category_tech, is_category_world,  self_reference_min_shares,  self_reference_max_shares,  self_reference_avg_sharess, is_monday, is_tuesday, is_wednesday, is_thursday, is_friday, is_saturday,  is_sunday,  is_weekend,  LDA_00,  LDA_01,  LDA_02,  LDA_03,  LDA_04, sentiment_subjectivity, sentiment_polarity,  global_rate_positive_words,  global_rate_negative_words,  rate_positive_words,  rate_negative_words,  avg_polarity_in_positive_words,  min_polarity_in_positive_words,  max_polarity_in_positive_words,  avg_polarity_in_negative_words,  min_polarity_in_negative_words,  max_polarity_in_negative_words,  title_sentiment_subjectivity,  title_sentiment_polarity,  abs_title_subjectivity,  abs_title_sentiment_polarity, share_class,  shares]\n",
       "Index: []\n",
       "\n",
       "[0 rows x 51 columns]"
      ],
      "text/html": "<div>\n<style scoped>\n    .dataframe tbody tr th:only-of-type {\n        vertical-align: middle;\n    }\n\n    .dataframe tbody tr th {\n        vertical-align: top;\n    }\n\n    .dataframe thead th {\n        text-align: right;\n    }\n</style>\n<table border=\"1\" class=\"dataframe\">\n  <thead>\n    <tr style=\"text-align: right;\">\n      <th></th>\n      <th>number_words_title</th>\n      <th>number_words_content</th>\n      <th>rate_unique_words_content</th>\n      <th>rate_non_stop_words_content</th>\n      <th>rate_unique_non_stop_words_content</th>\n      <th>number_links</th>\n      <th>number_links_to_mashable</th>\n      <th>number_imgs</th>\n      <th>number_videos</th>\n      <th>average_word_length</th>\n      <th>...</th>\n      <th>max_polarity_in_positive_words</th>\n      <th>avg_polarity_in_negative_words</th>\n      <th>min_polarity_in_negative_words</th>\n      <th>max_polarity_in_negative_words</th>\n      <th>title_sentiment_subjectivity</th>\n      <th>title_sentiment_polarity</th>\n      <th>abs_title_subjectivity</th>\n      <th>abs_title_sentiment_polarity</th>\n      <th>share_class</th>\n      <th>shares</th>\n    </tr>\n  </thead>\n  <tbody>\n  </tbody>\n</table>\n<p>0 rows × 51 columns</p>\n</div>"
     },
     "metadata": {},
     "execution_count": 113
    }
   ],
   "source": [
    "from sklearn.experimental import enable_iterative_imputer\n",
    "from sklearn.impute import SimpleImputer\n",
    "from datasets import show_mvs\n",
    "\n",
    "columns = [' number_words_title']\n",
    "mvs_data = popularity_data[columns]\n",
    "\n",
    "imp = SimpleImputer(strategy='median')\n",
    "transformed_x= imp.fit_transform(mvs_data)\n",
    "popularity_data[' number_words_title'] = transformed_x\n",
    "\n",
    "display(popularity_data.loc[number_words_title_mvs.index])\n",
    "show_mvs(popularity_data)"
   ]
  },
  {
   "source": [
    "### Missing number words in title are no longer missing. There are no missing values anymore"
   ],
   "cell_type": "markdown",
   "metadata": {}
  },
  {
   "cell_type": "code",
   "execution_count": 114,
   "metadata": {},
   "outputs": [
    {
     "output_type": "stream",
     "name": "stdout",
     "text": [
      "Accuracy SVM: 0.36\n",
      "Accuracy Logistic Regression: 0.34\n",
      "Accuracy KNN: 0.33\n",
      "Accuracy Naive Bayes: 0.26\n",
      "Accuracy Decision Tree: 0.30\n",
      "Accuracy ANN: 0.30\n"
     ]
    }
   ],
   "source": [
    "x = popularity_data.drop('share_class', axis=1).drop(' shares', axis=1)\n",
    "y = popularity_data['share_class']\n",
    "calculate_scores(x,y)"
   ]
  },
  {
   "source": [
    "# Noise"
   ],
   "cell_type": "markdown",
   "metadata": {}
  },
  {
   "cell_type": "code",
   "execution_count": 115,
   "metadata": {},
   "outputs": [
    {
     "output_type": "stream",
     "name": "stdout",
     "text": [
      "False predictions\n"
     ]
    },
    {
     "output_type": "display_data",
     "data": {
      "text/plain": "(9911, 3)"
     },
     "metadata": {}
    },
    {
     "output_type": "display_data",
     "data": {
      "text/plain": "       Prediction  share_class  Correct Prediction\n36356           0            0                True\n14240           2            0                True\n106             0            0                True\n3341            2            1                True\n35264           0            0                True\n...           ...          ...                 ...\n19827           0            4               False\n18821           2            0                True\n10621           2            0                True\n38775           2            3                True\n39400           2            1                True\n\n[9911 rows x 3 columns]",
      "text/html": "<div>\n<style scoped>\n    .dataframe tbody tr th:only-of-type {\n        vertical-align: middle;\n    }\n\n    .dataframe tbody tr th {\n        vertical-align: top;\n    }\n\n    .dataframe thead th {\n        text-align: right;\n    }\n</style>\n<table border=\"1\" class=\"dataframe\">\n  <thead>\n    <tr style=\"text-align: right;\">\n      <th></th>\n      <th>Prediction</th>\n      <th>share_class</th>\n      <th>Correct Prediction</th>\n    </tr>\n  </thead>\n  <tbody>\n    <tr>\n      <th>36356</th>\n      <td>0</td>\n      <td>0</td>\n      <td>True</td>\n    </tr>\n    <tr>\n      <th>14240</th>\n      <td>2</td>\n      <td>0</td>\n      <td>True</td>\n    </tr>\n    <tr>\n      <th>106</th>\n      <td>0</td>\n      <td>0</td>\n      <td>True</td>\n    </tr>\n    <tr>\n      <th>3341</th>\n      <td>2</td>\n      <td>1</td>\n      <td>True</td>\n    </tr>\n    <tr>\n      <th>35264</th>\n      <td>0</td>\n      <td>0</td>\n      <td>True</td>\n    </tr>\n    <tr>\n      <th>...</th>\n      <td>...</td>\n      <td>...</td>\n      <td>...</td>\n    </tr>\n    <tr>\n      <th>19827</th>\n      <td>0</td>\n      <td>4</td>\n      <td>False</td>\n    </tr>\n    <tr>\n      <th>18821</th>\n      <td>2</td>\n      <td>0</td>\n      <td>True</td>\n    </tr>\n    <tr>\n      <th>10621</th>\n      <td>2</td>\n      <td>0</td>\n      <td>True</td>\n    </tr>\n    <tr>\n      <th>38775</th>\n      <td>2</td>\n      <td>3</td>\n      <td>True</td>\n    </tr>\n    <tr>\n      <th>39400</th>\n      <td>2</td>\n      <td>1</td>\n      <td>True</td>\n    </tr>\n  </tbody>\n</table>\n<p>9911 rows × 3 columns</p>\n</div>"
     },
     "metadata": {}
    },
    {
     "output_type": "display_data",
     "data": {
      "text/plain": "(191, 3)"
     },
     "metadata": {}
    },
    {
     "output_type": "display_data",
     "data": {
      "text/plain": "       Prediction  share_class  Correct Prediction\n24172           0            4               False\n30068           0            4               False\n18186           0            4               False\n30473           0            4               False\n19236           0            4               False\n...           ...          ...                 ...\n1494            0            4               False\n21086           0            4               False\n35681           0            4               False\n2036            0            4               False\n19827           0            4               False\n\n[191 rows x 3 columns]",
      "text/html": "<div>\n<style scoped>\n    .dataframe tbody tr th:only-of-type {\n        vertical-align: middle;\n    }\n\n    .dataframe tbody tr th {\n        vertical-align: top;\n    }\n\n    .dataframe thead th {\n        text-align: right;\n    }\n</style>\n<table border=\"1\" class=\"dataframe\">\n  <thead>\n    <tr style=\"text-align: right;\">\n      <th></th>\n      <th>Prediction</th>\n      <th>share_class</th>\n      <th>Correct Prediction</th>\n    </tr>\n  </thead>\n  <tbody>\n    <tr>\n      <th>24172</th>\n      <td>0</td>\n      <td>4</td>\n      <td>False</td>\n    </tr>\n    <tr>\n      <th>30068</th>\n      <td>0</td>\n      <td>4</td>\n      <td>False</td>\n    </tr>\n    <tr>\n      <th>18186</th>\n      <td>0</td>\n      <td>4</td>\n      <td>False</td>\n    </tr>\n    <tr>\n      <th>30473</th>\n      <td>0</td>\n      <td>4</td>\n      <td>False</td>\n    </tr>\n    <tr>\n      <th>19236</th>\n      <td>0</td>\n      <td>4</td>\n      <td>False</td>\n    </tr>\n    <tr>\n      <th>...</th>\n      <td>...</td>\n      <td>...</td>\n      <td>...</td>\n    </tr>\n    <tr>\n      <th>1494</th>\n      <td>0</td>\n      <td>4</td>\n      <td>False</td>\n    </tr>\n    <tr>\n      <th>21086</th>\n      <td>0</td>\n      <td>4</td>\n      <td>False</td>\n    </tr>\n    <tr>\n      <th>35681</th>\n      <td>0</td>\n      <td>4</td>\n      <td>False</td>\n    </tr>\n    <tr>\n      <th>2036</th>\n      <td>0</td>\n      <td>4</td>\n      <td>False</td>\n    </tr>\n    <tr>\n      <th>19827</th>\n      <td>0</td>\n      <td>4</td>\n      <td>False</td>\n    </tr>\n  </tbody>\n</table>\n<p>191 rows × 3 columns</p>\n</div>"
     },
     "metadata": {}
    }
   ],
   "source": [
    "from datasets import get_noises\n",
    "x = popularity_data.drop(' shares', axis=1).drop('share_class', axis=1)\n",
    "y = popularity_data['share_class']\n",
    "\n",
    "(result, delta_result) = get_noises(x,y, threshold=4)\n",
    "\n",
    "display(result.shape)\n",
    "display(result)\n",
    "\n",
    "display(delta_result.shape)\n",
    "display(delta_result)"
   ]
  },
  {
   "source": [
    "despite our attempts to correct noises, the overall model accuracies decreased. Because of this, our attempt is to directly delete noises."
   ],
   "cell_type": "markdown",
   "metadata": {}
  },
  {
   "cell_type": "code",
   "execution_count": 116,
   "metadata": {},
   "outputs": [
    {
     "output_type": "display_data",
     "data": {
      "text/plain": "(9720, 51)"
     },
     "metadata": {}
    }
   ],
   "source": [
    "popularity_data.drop(delta_result.index, inplace=True)\n",
    "\n",
    "display(popularity_data.shape)"
   ]
  },
  {
   "cell_type": "code",
   "execution_count": 117,
   "metadata": {},
   "outputs": [
    {
     "output_type": "stream",
     "name": "stdout",
     "text": [
      "Accuracy SVM: 0.37\n",
      "Accuracy Logistic Regression: 0.35\n",
      "Accuracy KNN: 0.34\n",
      "Accuracy Naive Bayes: 0.26\n",
      "Accuracy Decision Tree: 0.30\n",
      "Accuracy ANN: 0.31\n"
     ]
    }
   ],
   "source": [
    "x = popularity_data.drop('share_class', axis=1).drop(' shares', axis=1)\n",
    "y = popularity_data['share_class']\n",
    "calculate_scores(x,y)"
   ]
  },
  {
   "source": [
    "# Outliers"
   ],
   "cell_type": "markdown",
   "metadata": {}
  },
  {
   "cell_type": "code",
   "execution_count": 118,
   "metadata": {},
   "outputs": [
    {
     "output_type": "stream",
     "name": "stdout",
     "text": [
      "Inliers:  9234 Outliers: 486\n"
     ]
    },
    {
     "output_type": "display_data",
     "data": {
      "text/plain": "        number_words_title  number_words_content  rate_unique_words_content  \\\n23109                 10.0                     0                   0.000000   \n25222                 12.0                   656                   0.417863   \n17632                  9.0                   186                   0.666667   \n31481                 10.0                     0                   0.000000   \n34646                  9.0                     0                   0.000000   \n...                    ...                   ...                        ...   \n35455                 11.0                   181                   0.692737   \n32431                 10.0                     0                   0.000000   \n29601                 10.0                     0                   0.000000   \n39569                 15.0                     0                   0.000000   \n15566                  8.0                   171                   0.441176   \n\n       rate_non_stop_words_content  rate_unique_non_stop_words_content  \\\n23109                          0.0                            0.000000   \n25222                          1.0                            0.495238   \n17632                          1.0                            0.728814   \n31481                          0.0                            0.000000   \n34646                          0.0                            0.000000   \n...                            ...                                 ...   \n35455                          1.0                            0.792793   \n32431                          0.0                            0.000000   \n29601                          0.0                            0.000000   \n39569                          0.0                            0.000000   \n15566                          1.0                            0.483607   \n\n       number_links   number_links_to_mashable   number_imgs   number_videos  \\\n23109             0                          0             8               0   \n25222             8                          4            11               0   \n17632            17                          3            10               0   \n31481             0                          0             0               1   \n34646             0                          0             0               1   \n...             ...                        ...           ...             ...   \n35455             2                          1             1               1   \n32431             0                          0             0               1   \n29601             0                          0            19               0   \n39569             0                          0             0               1   \n15566            29                          3            25               0   \n\n        average_word_length  ...   min_polarity_in_positive_words  \\\n23109              0.000000  ...                              0.0   \n25222              4.803354  ...                              0.1   \n17632              4.709677  ...                              0.1   \n31481              0.000000  ...                              0.0   \n34646              0.000000  ...                              0.0   \n...                     ...  ...                              ...   \n35455              4.740331  ...                              0.4   \n32431              0.000000  ...                              0.0   \n29601              0.000000  ...                              0.0   \n39569              0.000000  ...                              0.0   \n15566              5.994152  ...                              0.5   \n\n        max_polarity_in_positive_words   avg_polarity_in_negative_words  \\\n23109                              0.0                         0.000000   \n25222                              0.5                        -0.330676   \n17632                              0.5                        -1.000000   \n31481                              0.0                         0.000000   \n34646                              0.0                         0.000000   \n...                                ...                              ...   \n35455                              1.0                        -0.633333   \n32431                              0.0                         0.000000   \n29601                              0.0                         0.000000   \n39569                              0.0                         0.000000   \n15566                              1.0                        -0.125000   \n\n        min_polarity_in_negative_words   max_polarity_in_negative_words  \\\n23109                            0.000                            0.000   \n25222                           -1.000                           -0.075   \n17632                           -1.000                           -1.000   \n31481                            0.000                            0.000   \n34646                            0.000                            0.000   \n...                                ...                              ...   \n35455                           -1.000                           -0.400   \n32431                            0.000                            0.000   \n29601                            0.000                            0.000   \n39569                            0.000                            0.000   \n15566                           -0.125                           -0.125   \n\n        title_sentiment_subjectivity   title_sentiment_polarity  \\\n23109                       0.000000                   0.000000   \n25222                       0.700000                  -0.450000   \n17632                       1.000000                  -0.500000   \n31481                       0.454545                   0.136364   \n34646                       1.000000                  -0.100000   \n...                              ...                        ...   \n35455                       0.400000                  -0.200000   \n32431                       0.535714                   0.285714   \n29601                       0.500000                   0.500000   \n39569                       0.300000                   0.600000   \n15566                       1.000000                   1.000000   \n\n        abs_title_subjectivity   abs_title_sentiment_polarity  share_class  \n23109                 0.500000                       0.000000            1  \n25222                 0.200000                       0.450000            2  \n17632                 0.500000                       0.500000            0  \n31481                 0.045455                       0.136364            0  \n34646                 0.500000                       0.100000            0  \n...                        ...                            ...          ...  \n35455                 0.100000                       0.200000            2  \n32431                 0.035714                       0.285714            0  \n29601                 0.000000                       0.500000            2  \n39569                 0.200000                       0.600000            3  \n15566                 0.500000                       1.000000            2  \n\n[486 rows x 50 columns]",
      "text/html": "<div>\n<style scoped>\n    .dataframe tbody tr th:only-of-type {\n        vertical-align: middle;\n    }\n\n    .dataframe tbody tr th {\n        vertical-align: top;\n    }\n\n    .dataframe thead th {\n        text-align: right;\n    }\n</style>\n<table border=\"1\" class=\"dataframe\">\n  <thead>\n    <tr style=\"text-align: right;\">\n      <th></th>\n      <th>number_words_title</th>\n      <th>number_words_content</th>\n      <th>rate_unique_words_content</th>\n      <th>rate_non_stop_words_content</th>\n      <th>rate_unique_non_stop_words_content</th>\n      <th>number_links</th>\n      <th>number_links_to_mashable</th>\n      <th>number_imgs</th>\n      <th>number_videos</th>\n      <th>average_word_length</th>\n      <th>...</th>\n      <th>min_polarity_in_positive_words</th>\n      <th>max_polarity_in_positive_words</th>\n      <th>avg_polarity_in_negative_words</th>\n      <th>min_polarity_in_negative_words</th>\n      <th>max_polarity_in_negative_words</th>\n      <th>title_sentiment_subjectivity</th>\n      <th>title_sentiment_polarity</th>\n      <th>abs_title_subjectivity</th>\n      <th>abs_title_sentiment_polarity</th>\n      <th>share_class</th>\n    </tr>\n  </thead>\n  <tbody>\n    <tr>\n      <th>23109</th>\n      <td>10.0</td>\n      <td>0</td>\n      <td>0.000000</td>\n      <td>0.0</td>\n      <td>0.000000</td>\n      <td>0</td>\n      <td>0</td>\n      <td>8</td>\n      <td>0</td>\n      <td>0.000000</td>\n      <td>...</td>\n      <td>0.0</td>\n      <td>0.0</td>\n      <td>0.000000</td>\n      <td>0.000</td>\n      <td>0.000</td>\n      <td>0.000000</td>\n      <td>0.000000</td>\n      <td>0.500000</td>\n      <td>0.000000</td>\n      <td>1</td>\n    </tr>\n    <tr>\n      <th>25222</th>\n      <td>12.0</td>\n      <td>656</td>\n      <td>0.417863</td>\n      <td>1.0</td>\n      <td>0.495238</td>\n      <td>8</td>\n      <td>4</td>\n      <td>11</td>\n      <td>0</td>\n      <td>4.803354</td>\n      <td>...</td>\n      <td>0.1</td>\n      <td>0.5</td>\n      <td>-0.330676</td>\n      <td>-1.000</td>\n      <td>-0.075</td>\n      <td>0.700000</td>\n      <td>-0.450000</td>\n      <td>0.200000</td>\n      <td>0.450000</td>\n      <td>2</td>\n    </tr>\n    <tr>\n      <th>17632</th>\n      <td>9.0</td>\n      <td>186</td>\n      <td>0.666667</td>\n      <td>1.0</td>\n      <td>0.728814</td>\n      <td>17</td>\n      <td>3</td>\n      <td>10</td>\n      <td>0</td>\n      <td>4.709677</td>\n      <td>...</td>\n      <td>0.1</td>\n      <td>0.5</td>\n      <td>-1.000000</td>\n      <td>-1.000</td>\n      <td>-1.000</td>\n      <td>1.000000</td>\n      <td>-0.500000</td>\n      <td>0.500000</td>\n      <td>0.500000</td>\n      <td>0</td>\n    </tr>\n    <tr>\n      <th>31481</th>\n      <td>10.0</td>\n      <td>0</td>\n      <td>0.000000</td>\n      <td>0.0</td>\n      <td>0.000000</td>\n      <td>0</td>\n      <td>0</td>\n      <td>0</td>\n      <td>1</td>\n      <td>0.000000</td>\n      <td>...</td>\n      <td>0.0</td>\n      <td>0.0</td>\n      <td>0.000000</td>\n      <td>0.000</td>\n      <td>0.000</td>\n      <td>0.454545</td>\n      <td>0.136364</td>\n      <td>0.045455</td>\n      <td>0.136364</td>\n      <td>0</td>\n    </tr>\n    <tr>\n      <th>34646</th>\n      <td>9.0</td>\n      <td>0</td>\n      <td>0.000000</td>\n      <td>0.0</td>\n      <td>0.000000</td>\n      <td>0</td>\n      <td>0</td>\n      <td>0</td>\n      <td>1</td>\n      <td>0.000000</td>\n      <td>...</td>\n      <td>0.0</td>\n      <td>0.0</td>\n      <td>0.000000</td>\n      <td>0.000</td>\n      <td>0.000</td>\n      <td>1.000000</td>\n      <td>-0.100000</td>\n      <td>0.500000</td>\n      <td>0.100000</td>\n      <td>0</td>\n    </tr>\n    <tr>\n      <th>...</th>\n      <td>...</td>\n      <td>...</td>\n      <td>...</td>\n      <td>...</td>\n      <td>...</td>\n      <td>...</td>\n      <td>...</td>\n      <td>...</td>\n      <td>...</td>\n      <td>...</td>\n      <td>...</td>\n      <td>...</td>\n      <td>...</td>\n      <td>...</td>\n      <td>...</td>\n      <td>...</td>\n      <td>...</td>\n      <td>...</td>\n      <td>...</td>\n      <td>...</td>\n      <td>...</td>\n    </tr>\n    <tr>\n      <th>35455</th>\n      <td>11.0</td>\n      <td>181</td>\n      <td>0.692737</td>\n      <td>1.0</td>\n      <td>0.792793</td>\n      <td>2</td>\n      <td>1</td>\n      <td>1</td>\n      <td>1</td>\n      <td>4.740331</td>\n      <td>...</td>\n      <td>0.4</td>\n      <td>1.0</td>\n      <td>-0.633333</td>\n      <td>-1.000</td>\n      <td>-0.400</td>\n      <td>0.400000</td>\n      <td>-0.200000</td>\n      <td>0.100000</td>\n      <td>0.200000</td>\n      <td>2</td>\n    </tr>\n    <tr>\n      <th>32431</th>\n      <td>10.0</td>\n      <td>0</td>\n      <td>0.000000</td>\n      <td>0.0</td>\n      <td>0.000000</td>\n      <td>0</td>\n      <td>0</td>\n      <td>0</td>\n      <td>1</td>\n      <td>0.000000</td>\n      <td>...</td>\n      <td>0.0</td>\n      <td>0.0</td>\n      <td>0.000000</td>\n      <td>0.000</td>\n      <td>0.000</td>\n      <td>0.535714</td>\n      <td>0.285714</td>\n      <td>0.035714</td>\n      <td>0.285714</td>\n      <td>0</td>\n    </tr>\n    <tr>\n      <th>29601</th>\n      <td>10.0</td>\n      <td>0</td>\n      <td>0.000000</td>\n      <td>0.0</td>\n      <td>0.000000</td>\n      <td>0</td>\n      <td>0</td>\n      <td>19</td>\n      <td>0</td>\n      <td>0.000000</td>\n      <td>...</td>\n      <td>0.0</td>\n      <td>0.0</td>\n      <td>0.000000</td>\n      <td>0.000</td>\n      <td>0.000</td>\n      <td>0.500000</td>\n      <td>0.500000</td>\n      <td>0.000000</td>\n      <td>0.500000</td>\n      <td>2</td>\n    </tr>\n    <tr>\n      <th>39569</th>\n      <td>15.0</td>\n      <td>0</td>\n      <td>0.000000</td>\n      <td>0.0</td>\n      <td>0.000000</td>\n      <td>0</td>\n      <td>0</td>\n      <td>0</td>\n      <td>1</td>\n      <td>0.000000</td>\n      <td>...</td>\n      <td>0.0</td>\n      <td>0.0</td>\n      <td>0.000000</td>\n      <td>0.000</td>\n      <td>0.000</td>\n      <td>0.300000</td>\n      <td>0.600000</td>\n      <td>0.200000</td>\n      <td>0.600000</td>\n      <td>3</td>\n    </tr>\n    <tr>\n      <th>15566</th>\n      <td>8.0</td>\n      <td>171</td>\n      <td>0.441176</td>\n      <td>1.0</td>\n      <td>0.483607</td>\n      <td>29</td>\n      <td>3</td>\n      <td>25</td>\n      <td>0</td>\n      <td>5.994152</td>\n      <td>...</td>\n      <td>0.5</td>\n      <td>1.0</td>\n      <td>-0.125000</td>\n      <td>-0.125</td>\n      <td>-0.125</td>\n      <td>1.000000</td>\n      <td>1.000000</td>\n      <td>0.500000</td>\n      <td>1.000000</td>\n      <td>2</td>\n    </tr>\n  </tbody>\n</table>\n<p>486 rows × 50 columns</p>\n</div>"
     },
     "metadata": {}
    }
   ],
   "source": [
    "from datasets import get_outliers\n",
    "\n",
    "x = popularity_data.drop(' shares', axis=1).drop('share_class', axis=1)\n",
    "y = popularity_data['share_class']\n",
    "\n",
    "outliers = get_outliers(x,y, contamination=0.05)\n",
    "\n",
    "display(outliers)"
   ]
  },
  {
   "source": [
    "As discussed with the noises, we delete outliers"
   ],
   "cell_type": "markdown",
   "metadata": {}
  },
  {
   "cell_type": "code",
   "execution_count": 119,
   "metadata": {},
   "outputs": [
    {
     "output_type": "display_data",
     "data": {
      "text/plain": "(9234, 51)"
     },
     "metadata": {}
    }
   ],
   "source": [
    "popularity_data.drop(outliers.index, inplace=True)\n",
    "\n",
    "display(popularity_data.shape)"
   ]
  },
  {
   "cell_type": "code",
   "execution_count": 120,
   "metadata": {},
   "outputs": [
    {
     "output_type": "stream",
     "name": "stdout",
     "text": [
      "Accuracy SVM: 0.38\n",
      "Accuracy Logistic Regression: 0.34\n",
      "Accuracy KNN: 0.34\n",
      "Accuracy Naive Bayes: 0.33\n",
      "Accuracy Decision Tree: 0.31\n",
      "Accuracy ANN: 0.29\n"
     ]
    }
   ],
   "source": [
    "x = popularity_data.drop('share_class', axis=1).drop(' shares', axis=1)\n",
    "y = popularity_data['share_class']\n",
    "calculate_scores(x,y)"
   ]
  },
  {
   "source": [
    "As proposed by exploration team, we should take a look, why there are articles with 0 words in their content.\n",
    "\n",
    "It turned out that those are wrong. The contents do have words.\n",
    "\n",
    "Our attempt is to delete those items"
   ],
   "cell_type": "markdown",
   "metadata": {}
  },
  {
   "cell_type": "code",
   "execution_count": 121,
   "metadata": {},
   "outputs": [],
   "source": [
    "zero_words_content = popularity_data[popularity_data['number_words_content'] <= 0]\n",
    "popularity_data.drop(zero_words_content.index, inplace=True)"
   ]
  },
  {
   "cell_type": "code",
   "execution_count": 122,
   "metadata": {},
   "outputs": [
    {
     "output_type": "stream",
     "name": "stdout",
     "text": [
      "Accuracy SVM: 0.38\n",
      "Accuracy Logistic Regression: 0.34\n",
      "Accuracy KNN: 0.34\n",
      "Accuracy Naive Bayes: 0.33\n",
      "Accuracy Decision Tree: 0.32\n",
      "Accuracy ANN: 0.29\n"
     ]
    }
   ],
   "source": [
    "x = popularity_data.drop('share_class', axis=1).drop(' shares', axis=1)\n",
    "y = popularity_data['share_class']\n",
    "calculate_scores(x,y)"
   ]
  },
  {
   "source": [
    "# Feature Reduction"
   ],
   "cell_type": "markdown",
   "metadata": {}
  },
  {
   "cell_type": "code",
   "execution_count": 123,
   "metadata": {},
   "outputs": [],
   "source": [
    "from datasets import perform_forward_selection\n",
    "\n",
    "columns = popularity_data.columns.tolist()\n",
    "columns.remove(' shares')\n",
    "columns.remove('share_class')"
   ]
  },
  {
   "cell_type": "code",
   "execution_count": 98,
   "metadata": {},
   "outputs": [
    {
     "output_type": "display_data",
     "data": {
      "text/plain": "[' number_words_title',\n 'rate_unique_words_content',\n ' number_links_to_mashable',\n ' number_imgs',\n ' average_word_length',\n ' number_keywords',\n 'is_category_lifestyle',\n 'is_category_entertainment',\n 'is_category_socialmedia',\n 'is_category_tech',\n 'is_category_world',\n 'is_monday',\n 'is_wednesday',\n 'is_thursday',\n 'is_friday',\n 'is_saturday',\n ' is_sunday',\n ' LDA_02',\n 'sentiment_subjectivity',\n ' rate_negative_words',\n ' abs_title_subjectivity',\n ' abs_title_sentiment_polarity']"
     },
     "metadata": {}
    },
    {
     "output_type": "display_data",
     "data": {
      "text/plain": "'score with linear regression: 0.4332'"
     },
     "metadata": {}
    }
   ],
   "source": [
    "columns_to_use,final_score = perform_forward_selection(data = popularity_data.drop(' shares', axis=1), label = 'share_class', columns = columns)\n",
    "display(columns_to_use, f\"score with linear regression: {final_score:#.4}\")\n"
   ]
  },
  {
   "cell_type": "code",
   "execution_count": 25,
   "metadata": {},
   "outputs": [
    {
     "output_type": "error",
     "ename": "KeyboardInterrupt",
     "evalue": "",
     "traceback": [
      "\u001b[1;31m---------------------------------------------------------------------------\u001b[0m",
      "\u001b[1;31mKeyboardInterrupt\u001b[0m                         Traceback (most recent call last)",
      "\u001b[1;32m<ipython-input-25-8c22c7398dba>\u001b[0m in \u001b[0;36m<module>\u001b[1;34m\u001b[0m\n\u001b[0;32m      1\u001b[0m \u001b[1;32mfrom\u001b[0m \u001b[0msklearn\u001b[0m\u001b[1;33m.\u001b[0m\u001b[0msvm\u001b[0m \u001b[1;32mimport\u001b[0m \u001b[0mSVC\u001b[0m\u001b[1;33m\u001b[0m\u001b[1;33m\u001b[0m\u001b[0m\n\u001b[1;32m----> 2\u001b[1;33m \u001b[0mcolumns_to_use\u001b[0m\u001b[1;33m,\u001b[0m \u001b[0mfinal_score\u001b[0m \u001b[1;33m=\u001b[0m \u001b[0mperform_forward_selection\u001b[0m\u001b[1;33m(\u001b[0m\u001b[0mdata\u001b[0m \u001b[1;33m=\u001b[0m \u001b[0mpopularity_data\u001b[0m\u001b[1;33m,\u001b[0m \u001b[0mlabel\u001b[0m \u001b[1;33m=\u001b[0m \u001b[1;34m'share_class'\u001b[0m\u001b[1;33m,\u001b[0m \u001b[0mcolumns\u001b[0m \u001b[1;33m=\u001b[0m \u001b[0mcolumns\u001b[0m\u001b[1;33m,\u001b[0m \u001b[0mclf\u001b[0m\u001b[1;33m=\u001b[0m\u001b[0mSVC\u001b[0m\u001b[1;33m(\u001b[0m\u001b[1;33m)\u001b[0m\u001b[1;33m)\u001b[0m\u001b[1;33m\u001b[0m\u001b[1;33m\u001b[0m\u001b[0m\n\u001b[0m\u001b[0;32m      3\u001b[0m \u001b[0mdisplay\u001b[0m\u001b[1;33m(\u001b[0m\u001b[0mcolumns_to_use\u001b[0m\u001b[1;33m,\u001b[0m \u001b[1;34mf\"score with SVM: {final_score:#.4}\"\u001b[0m\u001b[1;33m)\u001b[0m\u001b[1;33m\u001b[0m\u001b[1;33m\u001b[0m\u001b[0m\n",
      "\u001b[1;32mc:\\Users\\Diren\\Documents\\workspace\\trends-in-ds-team1\\datasets.py\u001b[0m in \u001b[0;36mperform_forward_selection\u001b[1;34m(data, label, columns, clf, verbose)\u001b[0m\n\u001b[0;32m    291\u001b[0m         \u001b[0mx\u001b[0m \u001b[1;33m=\u001b[0m \u001b[0mdata\u001b[0m\u001b[1;33m[\u001b[0m\u001b[0mcolumns_to_use\u001b[0m\u001b[1;33m]\u001b[0m\u001b[1;33m\u001b[0m\u001b[1;33m\u001b[0m\u001b[0m\n\u001b[0;32m    292\u001b[0m         \u001b[0my\u001b[0m \u001b[1;33m=\u001b[0m \u001b[0mdata\u001b[0m\u001b[1;33m[\u001b[0m\u001b[0mlabel\u001b[0m\u001b[1;33m]\u001b[0m\u001b[1;33m\u001b[0m\u001b[1;33m\u001b[0m\u001b[0m\n\u001b[1;32m--> 293\u001b[1;33m         \u001b[0mscore_temp\u001b[0m \u001b[1;33m=\u001b[0m \u001b[0maccuracy_score_model\u001b[0m\u001b[1;33m(\u001b[0m\u001b[0mclf\u001b[0m\u001b[1;33m,\u001b[0m \u001b[0mx\u001b[0m\u001b[1;33m,\u001b[0m \u001b[0my\u001b[0m\u001b[1;33m)\u001b[0m\u001b[1;33m\u001b[0m\u001b[1;33m\u001b[0m\u001b[0m\n\u001b[0m\u001b[0;32m    294\u001b[0m         \u001b[1;32mif\u001b[0m \u001b[0mscore_temp\u001b[0m \u001b[1;33m-\u001b[0m \u001b[0mscore\u001b[0m \u001b[1;33m<\u001b[0m \u001b[1;36m0\u001b[0m\u001b[1;33m:\u001b[0m\u001b[1;33m\u001b[0m\u001b[1;33m\u001b[0m\u001b[0m\n\u001b[0;32m    295\u001b[0m             \u001b[0mcolumns_to_use\u001b[0m\u001b[1;33m.\u001b[0m\u001b[0mremove\u001b[0m\u001b[1;33m(\u001b[0m\u001b[0mcolumn\u001b[0m\u001b[1;33m)\u001b[0m\u001b[1;33m\u001b[0m\u001b[1;33m\u001b[0m\u001b[0m\n",
      "\u001b[1;32mc:\\Users\\Diren\\Documents\\workspace\\trends-in-ds-team1\\datasets.py\u001b[0m in \u001b[0;36maccuracy_score_model\u001b[1;34m(classifier, x, y)\u001b[0m\n\u001b[0;32m    249\u001b[0m \u001b[1;33m\u001b[0m\u001b[0m\n\u001b[0;32m    250\u001b[0m \u001b[1;32mdef\u001b[0m \u001b[0maccuracy_score_model\u001b[0m\u001b[1;33m(\u001b[0m\u001b[0mclassifier\u001b[0m\u001b[1;33m,\u001b[0m \u001b[0mx\u001b[0m\u001b[1;33m,\u001b[0m \u001b[0my\u001b[0m\u001b[1;33m)\u001b[0m\u001b[1;33m:\u001b[0m\u001b[1;33m\u001b[0m\u001b[1;33m\u001b[0m\u001b[0m\n\u001b[1;32m--> 251\u001b[1;33m     \u001b[0mscores\u001b[0m \u001b[1;33m=\u001b[0m \u001b[0mcross_val_score\u001b[0m\u001b[1;33m(\u001b[0m\u001b[0mclassifier\u001b[0m\u001b[1;33m,\u001b[0m \u001b[0mx\u001b[0m\u001b[1;33m,\u001b[0m \u001b[0my\u001b[0m\u001b[1;33m,\u001b[0m \u001b[0mcv\u001b[0m\u001b[1;33m=\u001b[0m\u001b[1;36m5\u001b[0m\u001b[1;33m)\u001b[0m\u001b[1;33m\u001b[0m\u001b[1;33m\u001b[0m\u001b[0m\n\u001b[0m\u001b[0;32m    252\u001b[0m     \u001b[0maccuracy\u001b[0m \u001b[1;33m=\u001b[0m \u001b[0mscores\u001b[0m\u001b[1;33m.\u001b[0m\u001b[0mmean\u001b[0m\u001b[1;33m(\u001b[0m\u001b[1;33m)\u001b[0m\u001b[1;33m\u001b[0m\u001b[1;33m\u001b[0m\u001b[0m\n\u001b[0;32m    253\u001b[0m     \u001b[1;32mreturn\u001b[0m \u001b[0maccuracy\u001b[0m\u001b[1;33m\u001b[0m\u001b[1;33m\u001b[0m\u001b[0m\n",
      "\u001b[1;32m~\\anaconda3\\lib\\site-packages\\sklearn\\utils\\validation.py\u001b[0m in \u001b[0;36minner_f\u001b[1;34m(*args, **kwargs)\u001b[0m\n\u001b[0;32m     71\u001b[0m                           FutureWarning)\n\u001b[0;32m     72\u001b[0m         \u001b[0mkwargs\u001b[0m\u001b[1;33m.\u001b[0m\u001b[0mupdate\u001b[0m\u001b[1;33m(\u001b[0m\u001b[1;33m{\u001b[0m\u001b[0mk\u001b[0m\u001b[1;33m:\u001b[0m \u001b[0marg\u001b[0m \u001b[1;32mfor\u001b[0m \u001b[0mk\u001b[0m\u001b[1;33m,\u001b[0m \u001b[0marg\u001b[0m \u001b[1;32min\u001b[0m \u001b[0mzip\u001b[0m\u001b[1;33m(\u001b[0m\u001b[0msig\u001b[0m\u001b[1;33m.\u001b[0m\u001b[0mparameters\u001b[0m\u001b[1;33m,\u001b[0m \u001b[0margs\u001b[0m\u001b[1;33m)\u001b[0m\u001b[1;33m}\u001b[0m\u001b[1;33m)\u001b[0m\u001b[1;33m\u001b[0m\u001b[1;33m\u001b[0m\u001b[0m\n\u001b[1;32m---> 73\u001b[1;33m         \u001b[1;32mreturn\u001b[0m \u001b[0mf\u001b[0m\u001b[1;33m(\u001b[0m\u001b[1;33m**\u001b[0m\u001b[0mkwargs\u001b[0m\u001b[1;33m)\u001b[0m\u001b[1;33m\u001b[0m\u001b[1;33m\u001b[0m\u001b[0m\n\u001b[0m\u001b[0;32m     74\u001b[0m     \u001b[1;32mreturn\u001b[0m \u001b[0minner_f\u001b[0m\u001b[1;33m\u001b[0m\u001b[1;33m\u001b[0m\u001b[0m\n\u001b[0;32m     75\u001b[0m \u001b[1;33m\u001b[0m\u001b[0m\n",
      "\u001b[1;32m~\\anaconda3\\lib\\site-packages\\sklearn\\model_selection\\_validation.py\u001b[0m in \u001b[0;36mcross_val_score\u001b[1;34m(estimator, X, y, groups, scoring, cv, n_jobs, verbose, fit_params, pre_dispatch, error_score)\u001b[0m\n\u001b[0;32m    399\u001b[0m     \u001b[0mscorer\u001b[0m \u001b[1;33m=\u001b[0m \u001b[0mcheck_scoring\u001b[0m\u001b[1;33m(\u001b[0m\u001b[0mestimator\u001b[0m\u001b[1;33m,\u001b[0m \u001b[0mscoring\u001b[0m\u001b[1;33m=\u001b[0m\u001b[0mscoring\u001b[0m\u001b[1;33m)\u001b[0m\u001b[1;33m\u001b[0m\u001b[1;33m\u001b[0m\u001b[0m\n\u001b[0;32m    400\u001b[0m \u001b[1;33m\u001b[0m\u001b[0m\n\u001b[1;32m--> 401\u001b[1;33m     cv_results = cross_validate(estimator=estimator, X=X, y=y, groups=groups,\n\u001b[0m\u001b[0;32m    402\u001b[0m                                 \u001b[0mscoring\u001b[0m\u001b[1;33m=\u001b[0m\u001b[1;33m{\u001b[0m\u001b[1;34m'score'\u001b[0m\u001b[1;33m:\u001b[0m \u001b[0mscorer\u001b[0m\u001b[1;33m}\u001b[0m\u001b[1;33m,\u001b[0m \u001b[0mcv\u001b[0m\u001b[1;33m=\u001b[0m\u001b[0mcv\u001b[0m\u001b[1;33m,\u001b[0m\u001b[1;33m\u001b[0m\u001b[1;33m\u001b[0m\u001b[0m\n\u001b[0;32m    403\u001b[0m                                 \u001b[0mn_jobs\u001b[0m\u001b[1;33m=\u001b[0m\u001b[0mn_jobs\u001b[0m\u001b[1;33m,\u001b[0m \u001b[0mverbose\u001b[0m\u001b[1;33m=\u001b[0m\u001b[0mverbose\u001b[0m\u001b[1;33m,\u001b[0m\u001b[1;33m\u001b[0m\u001b[1;33m\u001b[0m\u001b[0m\n",
      "\u001b[1;32m~\\anaconda3\\lib\\site-packages\\sklearn\\utils\\validation.py\u001b[0m in \u001b[0;36minner_f\u001b[1;34m(*args, **kwargs)\u001b[0m\n\u001b[0;32m     71\u001b[0m                           FutureWarning)\n\u001b[0;32m     72\u001b[0m         \u001b[0mkwargs\u001b[0m\u001b[1;33m.\u001b[0m\u001b[0mupdate\u001b[0m\u001b[1;33m(\u001b[0m\u001b[1;33m{\u001b[0m\u001b[0mk\u001b[0m\u001b[1;33m:\u001b[0m \u001b[0marg\u001b[0m \u001b[1;32mfor\u001b[0m \u001b[0mk\u001b[0m\u001b[1;33m,\u001b[0m \u001b[0marg\u001b[0m \u001b[1;32min\u001b[0m \u001b[0mzip\u001b[0m\u001b[1;33m(\u001b[0m\u001b[0msig\u001b[0m\u001b[1;33m.\u001b[0m\u001b[0mparameters\u001b[0m\u001b[1;33m,\u001b[0m \u001b[0margs\u001b[0m\u001b[1;33m)\u001b[0m\u001b[1;33m}\u001b[0m\u001b[1;33m)\u001b[0m\u001b[1;33m\u001b[0m\u001b[1;33m\u001b[0m\u001b[0m\n\u001b[1;32m---> 73\u001b[1;33m         \u001b[1;32mreturn\u001b[0m \u001b[0mf\u001b[0m\u001b[1;33m(\u001b[0m\u001b[1;33m**\u001b[0m\u001b[0mkwargs\u001b[0m\u001b[1;33m)\u001b[0m\u001b[1;33m\u001b[0m\u001b[1;33m\u001b[0m\u001b[0m\n\u001b[0m\u001b[0;32m     74\u001b[0m     \u001b[1;32mreturn\u001b[0m \u001b[0minner_f\u001b[0m\u001b[1;33m\u001b[0m\u001b[1;33m\u001b[0m\u001b[0m\n\u001b[0;32m     75\u001b[0m \u001b[1;33m\u001b[0m\u001b[0m\n",
      "\u001b[1;32m~\\anaconda3\\lib\\site-packages\\sklearn\\model_selection\\_validation.py\u001b[0m in \u001b[0;36mcross_validate\u001b[1;34m(estimator, X, y, groups, scoring, cv, n_jobs, verbose, fit_params, pre_dispatch, return_train_score, return_estimator, error_score)\u001b[0m\n\u001b[0;32m    240\u001b[0m     parallel = Parallel(n_jobs=n_jobs, verbose=verbose,\n\u001b[0;32m    241\u001b[0m                         pre_dispatch=pre_dispatch)\n\u001b[1;32m--> 242\u001b[1;33m     scores = parallel(\n\u001b[0m\u001b[0;32m    243\u001b[0m         delayed(_fit_and_score)(\n\u001b[0;32m    244\u001b[0m             \u001b[0mclone\u001b[0m\u001b[1;33m(\u001b[0m\u001b[0mestimator\u001b[0m\u001b[1;33m)\u001b[0m\u001b[1;33m,\u001b[0m \u001b[0mX\u001b[0m\u001b[1;33m,\u001b[0m \u001b[0my\u001b[0m\u001b[1;33m,\u001b[0m \u001b[0mscorers\u001b[0m\u001b[1;33m,\u001b[0m \u001b[0mtrain\u001b[0m\u001b[1;33m,\u001b[0m \u001b[0mtest\u001b[0m\u001b[1;33m,\u001b[0m \u001b[0mverbose\u001b[0m\u001b[1;33m,\u001b[0m \u001b[1;32mNone\u001b[0m\u001b[1;33m,\u001b[0m\u001b[1;33m\u001b[0m\u001b[1;33m\u001b[0m\u001b[0m\n",
      "\u001b[1;32m~\\anaconda3\\lib\\site-packages\\joblib\\parallel.py\u001b[0m in \u001b[0;36m__call__\u001b[1;34m(self, iterable)\u001b[0m\n\u001b[0;32m   1030\u001b[0m                 \u001b[0mself\u001b[0m\u001b[1;33m.\u001b[0m\u001b[0m_iterating\u001b[0m \u001b[1;33m=\u001b[0m \u001b[0mself\u001b[0m\u001b[1;33m.\u001b[0m\u001b[0m_original_iterator\u001b[0m \u001b[1;32mis\u001b[0m \u001b[1;32mnot\u001b[0m \u001b[1;32mNone\u001b[0m\u001b[1;33m\u001b[0m\u001b[1;33m\u001b[0m\u001b[0m\n\u001b[0;32m   1031\u001b[0m \u001b[1;33m\u001b[0m\u001b[0m\n\u001b[1;32m-> 1032\u001b[1;33m             \u001b[1;32mwhile\u001b[0m \u001b[0mself\u001b[0m\u001b[1;33m.\u001b[0m\u001b[0mdispatch_one_batch\u001b[0m\u001b[1;33m(\u001b[0m\u001b[0miterator\u001b[0m\u001b[1;33m)\u001b[0m\u001b[1;33m:\u001b[0m\u001b[1;33m\u001b[0m\u001b[1;33m\u001b[0m\u001b[0m\n\u001b[0m\u001b[0;32m   1033\u001b[0m                 \u001b[1;32mpass\u001b[0m\u001b[1;33m\u001b[0m\u001b[1;33m\u001b[0m\u001b[0m\n\u001b[0;32m   1034\u001b[0m \u001b[1;33m\u001b[0m\u001b[0m\n",
      "\u001b[1;32m~\\anaconda3\\lib\\site-packages\\joblib\\parallel.py\u001b[0m in \u001b[0;36mdispatch_one_batch\u001b[1;34m(self, iterator)\u001b[0m\n\u001b[0;32m    845\u001b[0m                 \u001b[1;32mreturn\u001b[0m \u001b[1;32mFalse\u001b[0m\u001b[1;33m\u001b[0m\u001b[1;33m\u001b[0m\u001b[0m\n\u001b[0;32m    846\u001b[0m             \u001b[1;32melse\u001b[0m\u001b[1;33m:\u001b[0m\u001b[1;33m\u001b[0m\u001b[1;33m\u001b[0m\u001b[0m\n\u001b[1;32m--> 847\u001b[1;33m                 \u001b[0mself\u001b[0m\u001b[1;33m.\u001b[0m\u001b[0m_dispatch\u001b[0m\u001b[1;33m(\u001b[0m\u001b[0mtasks\u001b[0m\u001b[1;33m)\u001b[0m\u001b[1;33m\u001b[0m\u001b[1;33m\u001b[0m\u001b[0m\n\u001b[0m\u001b[0;32m    848\u001b[0m                 \u001b[1;32mreturn\u001b[0m \u001b[1;32mTrue\u001b[0m\u001b[1;33m\u001b[0m\u001b[1;33m\u001b[0m\u001b[0m\n\u001b[0;32m    849\u001b[0m \u001b[1;33m\u001b[0m\u001b[0m\n",
      "\u001b[1;32m~\\anaconda3\\lib\\site-packages\\joblib\\parallel.py\u001b[0m in \u001b[0;36m_dispatch\u001b[1;34m(self, batch)\u001b[0m\n\u001b[0;32m    763\u001b[0m         \u001b[1;32mwith\u001b[0m \u001b[0mself\u001b[0m\u001b[1;33m.\u001b[0m\u001b[0m_lock\u001b[0m\u001b[1;33m:\u001b[0m\u001b[1;33m\u001b[0m\u001b[1;33m\u001b[0m\u001b[0m\n\u001b[0;32m    764\u001b[0m             \u001b[0mjob_idx\u001b[0m \u001b[1;33m=\u001b[0m \u001b[0mlen\u001b[0m\u001b[1;33m(\u001b[0m\u001b[0mself\u001b[0m\u001b[1;33m.\u001b[0m\u001b[0m_jobs\u001b[0m\u001b[1;33m)\u001b[0m\u001b[1;33m\u001b[0m\u001b[1;33m\u001b[0m\u001b[0m\n\u001b[1;32m--> 765\u001b[1;33m             \u001b[0mjob\u001b[0m \u001b[1;33m=\u001b[0m \u001b[0mself\u001b[0m\u001b[1;33m.\u001b[0m\u001b[0m_backend\u001b[0m\u001b[1;33m.\u001b[0m\u001b[0mapply_async\u001b[0m\u001b[1;33m(\u001b[0m\u001b[0mbatch\u001b[0m\u001b[1;33m,\u001b[0m \u001b[0mcallback\u001b[0m\u001b[1;33m=\u001b[0m\u001b[0mcb\u001b[0m\u001b[1;33m)\u001b[0m\u001b[1;33m\u001b[0m\u001b[1;33m\u001b[0m\u001b[0m\n\u001b[0m\u001b[0;32m    766\u001b[0m             \u001b[1;31m# A job can complete so quickly than its callback is\u001b[0m\u001b[1;33m\u001b[0m\u001b[1;33m\u001b[0m\u001b[1;33m\u001b[0m\u001b[0m\n\u001b[0;32m    767\u001b[0m             \u001b[1;31m# called before we get here, causing self._jobs to\u001b[0m\u001b[1;33m\u001b[0m\u001b[1;33m\u001b[0m\u001b[1;33m\u001b[0m\u001b[0m\n",
      "\u001b[1;32m~\\anaconda3\\lib\\site-packages\\joblib\\_parallel_backends.py\u001b[0m in \u001b[0;36mapply_async\u001b[1;34m(self, func, callback)\u001b[0m\n\u001b[0;32m    206\u001b[0m     \u001b[1;32mdef\u001b[0m \u001b[0mapply_async\u001b[0m\u001b[1;33m(\u001b[0m\u001b[0mself\u001b[0m\u001b[1;33m,\u001b[0m \u001b[0mfunc\u001b[0m\u001b[1;33m,\u001b[0m \u001b[0mcallback\u001b[0m\u001b[1;33m=\u001b[0m\u001b[1;32mNone\u001b[0m\u001b[1;33m)\u001b[0m\u001b[1;33m:\u001b[0m\u001b[1;33m\u001b[0m\u001b[1;33m\u001b[0m\u001b[0m\n\u001b[0;32m    207\u001b[0m         \u001b[1;34m\"\"\"Schedule a func to be run\"\"\"\u001b[0m\u001b[1;33m\u001b[0m\u001b[1;33m\u001b[0m\u001b[0m\n\u001b[1;32m--> 208\u001b[1;33m         \u001b[0mresult\u001b[0m \u001b[1;33m=\u001b[0m \u001b[0mImmediateResult\u001b[0m\u001b[1;33m(\u001b[0m\u001b[0mfunc\u001b[0m\u001b[1;33m)\u001b[0m\u001b[1;33m\u001b[0m\u001b[1;33m\u001b[0m\u001b[0m\n\u001b[0m\u001b[0;32m    209\u001b[0m         \u001b[1;32mif\u001b[0m \u001b[0mcallback\u001b[0m\u001b[1;33m:\u001b[0m\u001b[1;33m\u001b[0m\u001b[1;33m\u001b[0m\u001b[0m\n\u001b[0;32m    210\u001b[0m             \u001b[0mcallback\u001b[0m\u001b[1;33m(\u001b[0m\u001b[0mresult\u001b[0m\u001b[1;33m)\u001b[0m\u001b[1;33m\u001b[0m\u001b[1;33m\u001b[0m\u001b[0m\n",
      "\u001b[1;32m~\\anaconda3\\lib\\site-packages\\joblib\\_parallel_backends.py\u001b[0m in \u001b[0;36m__init__\u001b[1;34m(self, batch)\u001b[0m\n\u001b[0;32m    570\u001b[0m         \u001b[1;31m# Don't delay the application, to avoid keeping the input\u001b[0m\u001b[1;33m\u001b[0m\u001b[1;33m\u001b[0m\u001b[1;33m\u001b[0m\u001b[0m\n\u001b[0;32m    571\u001b[0m         \u001b[1;31m# arguments in memory\u001b[0m\u001b[1;33m\u001b[0m\u001b[1;33m\u001b[0m\u001b[1;33m\u001b[0m\u001b[0m\n\u001b[1;32m--> 572\u001b[1;33m         \u001b[0mself\u001b[0m\u001b[1;33m.\u001b[0m\u001b[0mresults\u001b[0m \u001b[1;33m=\u001b[0m \u001b[0mbatch\u001b[0m\u001b[1;33m(\u001b[0m\u001b[1;33m)\u001b[0m\u001b[1;33m\u001b[0m\u001b[1;33m\u001b[0m\u001b[0m\n\u001b[0m\u001b[0;32m    573\u001b[0m \u001b[1;33m\u001b[0m\u001b[0m\n\u001b[0;32m    574\u001b[0m     \u001b[1;32mdef\u001b[0m \u001b[0mget\u001b[0m\u001b[1;33m(\u001b[0m\u001b[0mself\u001b[0m\u001b[1;33m)\u001b[0m\u001b[1;33m:\u001b[0m\u001b[1;33m\u001b[0m\u001b[1;33m\u001b[0m\u001b[0m\n",
      "\u001b[1;32m~\\anaconda3\\lib\\site-packages\\joblib\\parallel.py\u001b[0m in \u001b[0;36m__call__\u001b[1;34m(self)\u001b[0m\n\u001b[0;32m    250\u001b[0m         \u001b[1;31m# change the default number of processes to -1\u001b[0m\u001b[1;33m\u001b[0m\u001b[1;33m\u001b[0m\u001b[1;33m\u001b[0m\u001b[0m\n\u001b[0;32m    251\u001b[0m         \u001b[1;32mwith\u001b[0m \u001b[0mparallel_backend\u001b[0m\u001b[1;33m(\u001b[0m\u001b[0mself\u001b[0m\u001b[1;33m.\u001b[0m\u001b[0m_backend\u001b[0m\u001b[1;33m,\u001b[0m \u001b[0mn_jobs\u001b[0m\u001b[1;33m=\u001b[0m\u001b[0mself\u001b[0m\u001b[1;33m.\u001b[0m\u001b[0m_n_jobs\u001b[0m\u001b[1;33m)\u001b[0m\u001b[1;33m:\u001b[0m\u001b[1;33m\u001b[0m\u001b[1;33m\u001b[0m\u001b[0m\n\u001b[1;32m--> 252\u001b[1;33m             return [func(*args, **kwargs)\n\u001b[0m\u001b[0;32m    253\u001b[0m                     for func, args, kwargs in self.items]\n\u001b[0;32m    254\u001b[0m \u001b[1;33m\u001b[0m\u001b[0m\n",
      "\u001b[1;32m~\\anaconda3\\lib\\site-packages\\joblib\\parallel.py\u001b[0m in \u001b[0;36m<listcomp>\u001b[1;34m(.0)\u001b[0m\n\u001b[0;32m    250\u001b[0m         \u001b[1;31m# change the default number of processes to -1\u001b[0m\u001b[1;33m\u001b[0m\u001b[1;33m\u001b[0m\u001b[1;33m\u001b[0m\u001b[0m\n\u001b[0;32m    251\u001b[0m         \u001b[1;32mwith\u001b[0m \u001b[0mparallel_backend\u001b[0m\u001b[1;33m(\u001b[0m\u001b[0mself\u001b[0m\u001b[1;33m.\u001b[0m\u001b[0m_backend\u001b[0m\u001b[1;33m,\u001b[0m \u001b[0mn_jobs\u001b[0m\u001b[1;33m=\u001b[0m\u001b[0mself\u001b[0m\u001b[1;33m.\u001b[0m\u001b[0m_n_jobs\u001b[0m\u001b[1;33m)\u001b[0m\u001b[1;33m:\u001b[0m\u001b[1;33m\u001b[0m\u001b[1;33m\u001b[0m\u001b[0m\n\u001b[1;32m--> 252\u001b[1;33m             return [func(*args, **kwargs)\n\u001b[0m\u001b[0;32m    253\u001b[0m                     for func, args, kwargs in self.items]\n\u001b[0;32m    254\u001b[0m \u001b[1;33m\u001b[0m\u001b[0m\n",
      "\u001b[1;32m~\\anaconda3\\lib\\site-packages\\sklearn\\model_selection\\_validation.py\u001b[0m in \u001b[0;36m_fit_and_score\u001b[1;34m(estimator, X, y, scorer, train, test, verbose, parameters, fit_params, return_train_score, return_parameters, return_n_test_samples, return_times, return_estimator, error_score)\u001b[0m\n\u001b[0;32m    529\u001b[0m             \u001b[0mestimator\u001b[0m\u001b[1;33m.\u001b[0m\u001b[0mfit\u001b[0m\u001b[1;33m(\u001b[0m\u001b[0mX_train\u001b[0m\u001b[1;33m,\u001b[0m \u001b[1;33m**\u001b[0m\u001b[0mfit_params\u001b[0m\u001b[1;33m)\u001b[0m\u001b[1;33m\u001b[0m\u001b[1;33m\u001b[0m\u001b[0m\n\u001b[0;32m    530\u001b[0m         \u001b[1;32melse\u001b[0m\u001b[1;33m:\u001b[0m\u001b[1;33m\u001b[0m\u001b[1;33m\u001b[0m\u001b[0m\n\u001b[1;32m--> 531\u001b[1;33m             \u001b[0mestimator\u001b[0m\u001b[1;33m.\u001b[0m\u001b[0mfit\u001b[0m\u001b[1;33m(\u001b[0m\u001b[0mX_train\u001b[0m\u001b[1;33m,\u001b[0m \u001b[0my_train\u001b[0m\u001b[1;33m,\u001b[0m \u001b[1;33m**\u001b[0m\u001b[0mfit_params\u001b[0m\u001b[1;33m)\u001b[0m\u001b[1;33m\u001b[0m\u001b[1;33m\u001b[0m\u001b[0m\n\u001b[0m\u001b[0;32m    532\u001b[0m \u001b[1;33m\u001b[0m\u001b[0m\n\u001b[0;32m    533\u001b[0m     \u001b[1;32mexcept\u001b[0m \u001b[0mException\u001b[0m \u001b[1;32mas\u001b[0m \u001b[0me\u001b[0m\u001b[1;33m:\u001b[0m\u001b[1;33m\u001b[0m\u001b[1;33m\u001b[0m\u001b[0m\n",
      "\u001b[1;32m~\\anaconda3\\lib\\site-packages\\sklearn\\svm\\_base.py\u001b[0m in \u001b[0;36mfit\u001b[1;34m(self, X, y, sample_weight)\u001b[0m\n\u001b[0;32m    215\u001b[0m \u001b[1;33m\u001b[0m\u001b[0m\n\u001b[0;32m    216\u001b[0m         \u001b[0mseed\u001b[0m \u001b[1;33m=\u001b[0m \u001b[0mrnd\u001b[0m\u001b[1;33m.\u001b[0m\u001b[0mrandint\u001b[0m\u001b[1;33m(\u001b[0m\u001b[0mnp\u001b[0m\u001b[1;33m.\u001b[0m\u001b[0miinfo\u001b[0m\u001b[1;33m(\u001b[0m\u001b[1;34m'i'\u001b[0m\u001b[1;33m)\u001b[0m\u001b[1;33m.\u001b[0m\u001b[0mmax\u001b[0m\u001b[1;33m)\u001b[0m\u001b[1;33m\u001b[0m\u001b[1;33m\u001b[0m\u001b[0m\n\u001b[1;32m--> 217\u001b[1;33m         \u001b[0mfit\u001b[0m\u001b[1;33m(\u001b[0m\u001b[0mX\u001b[0m\u001b[1;33m,\u001b[0m \u001b[0my\u001b[0m\u001b[1;33m,\u001b[0m \u001b[0msample_weight\u001b[0m\u001b[1;33m,\u001b[0m \u001b[0msolver_type\u001b[0m\u001b[1;33m,\u001b[0m \u001b[0mkernel\u001b[0m\u001b[1;33m,\u001b[0m \u001b[0mrandom_seed\u001b[0m\u001b[1;33m=\u001b[0m\u001b[0mseed\u001b[0m\u001b[1;33m)\u001b[0m\u001b[1;33m\u001b[0m\u001b[1;33m\u001b[0m\u001b[0m\n\u001b[0m\u001b[0;32m    218\u001b[0m         \u001b[1;31m# see comment on the other call to np.iinfo in this file\u001b[0m\u001b[1;33m\u001b[0m\u001b[1;33m\u001b[0m\u001b[1;33m\u001b[0m\u001b[0m\n\u001b[0;32m    219\u001b[0m \u001b[1;33m\u001b[0m\u001b[0m\n",
      "\u001b[1;32m~\\anaconda3\\lib\\site-packages\\sklearn\\svm\\_base.py\u001b[0m in \u001b[0;36m_dense_fit\u001b[1;34m(self, X, y, sample_weight, solver_type, kernel, random_seed)\u001b[0m\n\u001b[0;32m    266\u001b[0m         \u001b[0mself\u001b[0m\u001b[1;33m.\u001b[0m\u001b[0msupport_\u001b[0m\u001b[1;33m,\u001b[0m \u001b[0mself\u001b[0m\u001b[1;33m.\u001b[0m\u001b[0msupport_vectors_\u001b[0m\u001b[1;33m,\u001b[0m \u001b[0mself\u001b[0m\u001b[1;33m.\u001b[0m\u001b[0m_n_support\u001b[0m\u001b[1;33m,\u001b[0m\u001b[0;31m \u001b[0m\u001b[0;31m\\\u001b[0m\u001b[1;33m\u001b[0m\u001b[1;33m\u001b[0m\u001b[0m\n\u001b[0;32m    267\u001b[0m             \u001b[0mself\u001b[0m\u001b[1;33m.\u001b[0m\u001b[0mdual_coef_\u001b[0m\u001b[1;33m,\u001b[0m \u001b[0mself\u001b[0m\u001b[1;33m.\u001b[0m\u001b[0mintercept_\u001b[0m\u001b[1;33m,\u001b[0m \u001b[0mself\u001b[0m\u001b[1;33m.\u001b[0m\u001b[0m_probA\u001b[0m\u001b[1;33m,\u001b[0m\u001b[0;31m \u001b[0m\u001b[0;31m\\\u001b[0m\u001b[1;33m\u001b[0m\u001b[1;33m\u001b[0m\u001b[0m\n\u001b[1;32m--> 268\u001b[1;33m             self._probB, self.fit_status_ = libsvm.fit(\n\u001b[0m\u001b[0;32m    269\u001b[0m                 \u001b[0mX\u001b[0m\u001b[1;33m,\u001b[0m \u001b[0my\u001b[0m\u001b[1;33m,\u001b[0m\u001b[1;33m\u001b[0m\u001b[1;33m\u001b[0m\u001b[0m\n\u001b[0;32m    270\u001b[0m                 \u001b[0msvm_type\u001b[0m\u001b[1;33m=\u001b[0m\u001b[0msolver_type\u001b[0m\u001b[1;33m,\u001b[0m \u001b[0msample_weight\u001b[0m\u001b[1;33m=\u001b[0m\u001b[0msample_weight\u001b[0m\u001b[1;33m,\u001b[0m\u001b[1;33m\u001b[0m\u001b[1;33m\u001b[0m\u001b[0m\n",
      "\u001b[1;31mKeyboardInterrupt\u001b[0m: "
     ]
    }
   ],
   "source": [
    "from sklearn.svm import SVC\n",
    "columns_to_use, final_score = perform_forward_selection(data = popularity_data, label = 'share_class', columns = columns, clf=SVC())\n",
    "display(columns_to_use, f\"score with SVM: {final_score:#.4}\")"
   ]
  },
  {
   "cell_type": "code",
   "execution_count": 99,
   "metadata": {},
   "outputs": [],
   "source": [
    "columns_to_drop = [col for col in columns if col not in columns_to_use]\n",
    "popularity_data.drop(columns_to_drop, axis=1, inplace=True)"
   ]
  },
  {
   "cell_type": "code",
   "execution_count": 100,
   "metadata": {},
   "outputs": [
    {
     "output_type": "stream",
     "name": "stdout",
     "text": [
      "Accuracy SVM: 0.42\n",
      "Accuracy Logistic Regression: 0.43\n",
      "Accuracy KNN: 0.36\n",
      "Accuracy Naive Bayes: 0.38\n",
      "Accuracy Decision Tree: 0.30\n",
      "Accuracy ANN: 0.41\n"
     ]
    }
   ],
   "source": [
    "# Aspect\n",
    "x = popularity_data.drop('share_class', axis=1).drop(' shares', axis=1)\n",
    "y = popularity_data['share_class']\n",
    "calculate_scores(x,y)"
   ]
  },
  {
   "source": [
    "--> remove is_weekend \n",
    "\n",
    "--> remove is_sunday\n",
    "\n",
    "--> remove LDA_00\n",
    "\n",
    "--> remove average_word_length\n",
    "\n",
    "--> remove avg_polarity_in_positive_words\n",
    "\n",
    "--> remove avg_polarity_in_negative_words\n",
    "\n",
    "--> remove global_rate_positive_words\n",
    "\n",
    "--> remove max_polarity_in_positive_words\n",
    "\n",
    "--> remove number_words_title"
   ],
   "cell_type": "markdown",
   "metadata": {}
  },
  {
   "cell_type": "code",
   "execution_count": 124,
   "metadata": {},
   "outputs": [
    {
     "output_type": "display_data",
     "data": {
      "text/plain": "(9234, 50)"
     },
     "metadata": {}
    },
    {
     "output_type": "display_data",
     "data": {
      "text/plain": "(9234, 49)"
     },
     "metadata": {}
    },
    {
     "output_type": "display_data",
     "data": {
      "text/plain": "(9234, 48)"
     },
     "metadata": {}
    },
    {
     "output_type": "display_data",
     "data": {
      "text/plain": "(9234, 47)"
     },
     "metadata": {}
    },
    {
     "output_type": "display_data",
     "data": {
      "text/plain": "(9234, 46)"
     },
     "metadata": {}
    },
    {
     "output_type": "display_data",
     "data": {
      "text/plain": "(9234, 45)"
     },
     "metadata": {}
    },
    {
     "output_type": "display_data",
     "data": {
      "text/plain": "(9234, 44)"
     },
     "metadata": {}
    },
    {
     "output_type": "display_data",
     "data": {
      "text/plain": "(9234, 43)"
     },
     "metadata": {}
    },
    {
     "output_type": "display_data",
     "data": {
      "text/plain": "(9234, 42)"
     },
     "metadata": {}
    }
   ],
   "source": [
    "popularity_data = popularity_data.drop(' is_weekend', axis=1)\n",
    "display(popularity_data.shape)\n",
    "popularity_data = popularity_data.drop(' is_sunday', axis=1)\n",
    "display(popularity_data.shape)\n",
    "popularity_data = popularity_data.drop(' LDA_00', axis=1)\n",
    "display(popularity_data.shape)\n",
    "popularity_data = popularity_data.drop(' average_word_length', axis=1)\n",
    "display(popularity_data.shape)\n",
    "popularity_data = popularity_data.drop(' avg_polarity_in_positive_words', axis=1)\n",
    "display(popularity_data.shape)\n",
    "popularity_data = popularity_data.drop(' avg_polarity_in_negative_words', axis=1)\n",
    "display(popularity_data.shape)\n",
    "popularity_data = popularity_data.drop(' global_rate_positive_words', axis=1)\n",
    "display(popularity_data.shape)\n",
    "popularity_data = popularity_data.drop(' max_polarity_in_positive_words', axis=1)\n",
    "display(popularity_data.shape)\n",
    "popularity_data = popularity_data.drop(' number_words_title', axis=1)\n",
    "display(popularity_data.shape)\n"
   ]
  },
  {
   "cell_type": "code",
   "execution_count": 125,
   "metadata": {},
   "outputs": [
    {
     "output_type": "stream",
     "name": "stdout",
     "text": [
      "Accuracy SVM: 0.38\n",
      "Accuracy Logistic Regression: 0.34\n",
      "Accuracy KNN: 0.34\n",
      "Accuracy Naive Bayes: 0.33\n",
      "Accuracy Decision Tree: 0.31\n",
      "Accuracy ANN: 0.30\n"
     ]
    }
   ],
   "source": [
    "x = popularity_data.drop('share_class', axis=1).drop(' shares', axis=1)\n",
    "y = popularity_data['share_class']\n",
    "calculate_scores(x,y)"
   ]
  },
  {
   "source": [
    "# Feature Scaling"
   ],
   "cell_type": "markdown",
   "metadata": {}
  },
  {
   "source": [
    "As proposed by exploration, scale all features"
   ],
   "cell_type": "markdown",
   "metadata": {}
  },
  {
   "cell_type": "code",
   "execution_count": 126,
   "metadata": {},
   "outputs": [
    {
     "output_type": "display_data",
     "data": {
      "text/plain": "       number_words_content  rate_unique_words_content  \\\n36356              0.089298                   0.356789   \n14240              0.030333                   0.377203   \n106                0.117505                   0.311619   \n3341               0.091283                   0.349682   \n35264              0.031325                   0.537766   \n...                     ...                        ...   \n8650               0.293834                   0.172902   \n18821              0.020836                   0.483857   \n10621              0.019702                   0.474429   \n38775              0.137066                   0.231262   \n39400              0.080510                   0.288359   \n\n       rate_non_stop_words_content  rate_unique_non_stop_words_content  \\\n36356                     0.955224                            0.642621   \n14240                     0.895522                            0.509434   \n106                       0.970149                            0.588210   \n3341                      0.970149                            0.510264   \n35264                     0.895522                            0.759577   \n...                            ...                                 ...   \n8650                      0.985075                            0.394642   \n18821                     0.880597                            0.531523   \n10621                     0.865672                            0.593845   \n38775                     0.970149                            0.525786   \n39400                     0.955224                            0.501038   \n\n       number_links   number_links_to_mashable   number_imgs   number_videos  \\\n36356      0.037634                   0.017857      0.010101             0.0   \n14240      0.043011                   0.053571      0.090909             0.0   \n106        0.026882                   0.000000      0.010101             0.0   \n3341       0.053763                   0.017857      0.272727             0.0   \n35264      0.021505                   0.053571      0.010101             0.0   \n...             ...                        ...           ...             ...   \n8650       0.086022                   0.142857      0.090909             0.0   \n18821      0.064516                   0.071429      0.060606             0.0   \n10621      0.080645                   0.053571      0.101010             0.0   \n38775      0.010753                   0.035714      0.010101             0.0   \n39400      0.075269                   0.000000      0.121212             0.0   \n\n        number_keywords  is_category_lifestyle  ...   rate_negative_words  \\\n36356          0.777778                    0.0  ...              0.405405   \n14240          1.000000                    0.0  ...              0.250000   \n106            0.777778                    0.0  ...              0.187500   \n3341           0.666667                    0.0  ...              0.100000   \n35264          0.666667                    0.0  ...              0.166667   \n...                 ...                    ...  ...                   ...   \n8650           0.777778                    0.0  ...              0.190083   \n18821          0.777778                    0.0  ...              0.222222   \n10621          0.888889                    0.0  ...              0.300000   \n38775          0.444444                    0.0  ...              0.356164   \n39400          0.444444                    0.0  ...              0.272727   \n\n        min_polarity_in_positive_words   min_polarity_in_negative_words  \\\n36356                         0.033333                         0.300000   \n14240                         0.100000                         0.800000   \n106                           0.033333                         0.400000   \n3341                          0.033333                         0.708333   \n35264                         0.062500                         0.611111   \n...                                ...                              ...   \n8650                          0.050000                         0.200000   \n18821                         0.100000                         0.500000   \n10621                         0.136364                         0.750000   \n38775                         0.033333                         0.500000   \n39400                         0.136364                         0.500000   \n\n        max_polarity_in_negative_words   title_sentiment_subjectivity  \\\n36356                         0.928571                       0.650000   \n14240                         0.800000                       0.000000   \n106                           0.875000                       0.100000   \n3341                          0.900000                       0.000000   \n35264                         0.950000                       0.000000   \n...                                ...                            ...   \n8650                          0.950000                       0.000000   \n18821                         0.800000                       0.454545   \n10621                         0.950000                       0.318182   \n38775                         0.844444                       0.133333   \n39400                         0.850000                       0.000000   \n\n        title_sentiment_polarity   abs_title_subjectivity  \\\n36356                   0.500000                 0.300000   \n14240                   0.500000                 1.000000   \n106                     0.600000                 0.800000   \n3341                    0.500000                 1.000000   \n35264                   0.500000                 1.000000   \n...                          ...                      ...   \n8650                    0.500000                 1.000000   \n18821                   0.568182                 0.090909   \n10621                   0.564394                 0.363636   \n38775                   0.558333                 0.733333   \n39400                   0.500000                 1.000000   \n\n        abs_title_sentiment_polarity  share_class   shares  \n36356                       0.000000            0      786  \n14240                       0.000000            0      857  \n106                         0.200000            0     1000  \n3341                        0.000000            1     1100  \n35264                       0.000000            0     1000  \n...                              ...          ...      ...  \n8650                        0.000000            3     3700  \n18821                       0.136364            0      962  \n10621                       0.128788            0      920  \n38775                       0.116667            3     4200  \n39400                       0.000000            1     1300  \n\n[9234 rows x 42 columns]",
      "text/html": "<div>\n<style scoped>\n    .dataframe tbody tr th:only-of-type {\n        vertical-align: middle;\n    }\n\n    .dataframe tbody tr th {\n        vertical-align: top;\n    }\n\n    .dataframe thead th {\n        text-align: right;\n    }\n</style>\n<table border=\"1\" class=\"dataframe\">\n  <thead>\n    <tr style=\"text-align: right;\">\n      <th></th>\n      <th>number_words_content</th>\n      <th>rate_unique_words_content</th>\n      <th>rate_non_stop_words_content</th>\n      <th>rate_unique_non_stop_words_content</th>\n      <th>number_links</th>\n      <th>number_links_to_mashable</th>\n      <th>number_imgs</th>\n      <th>number_videos</th>\n      <th>number_keywords</th>\n      <th>is_category_lifestyle</th>\n      <th>...</th>\n      <th>rate_negative_words</th>\n      <th>min_polarity_in_positive_words</th>\n      <th>min_polarity_in_negative_words</th>\n      <th>max_polarity_in_negative_words</th>\n      <th>title_sentiment_subjectivity</th>\n      <th>title_sentiment_polarity</th>\n      <th>abs_title_subjectivity</th>\n      <th>abs_title_sentiment_polarity</th>\n      <th>share_class</th>\n      <th>shares</th>\n    </tr>\n  </thead>\n  <tbody>\n    <tr>\n      <th>36356</th>\n      <td>0.089298</td>\n      <td>0.356789</td>\n      <td>0.955224</td>\n      <td>0.642621</td>\n      <td>0.037634</td>\n      <td>0.017857</td>\n      <td>0.010101</td>\n      <td>0.0</td>\n      <td>0.777778</td>\n      <td>0.0</td>\n      <td>...</td>\n      <td>0.405405</td>\n      <td>0.033333</td>\n      <td>0.300000</td>\n      <td>0.928571</td>\n      <td>0.650000</td>\n      <td>0.500000</td>\n      <td>0.300000</td>\n      <td>0.000000</td>\n      <td>0</td>\n      <td>786</td>\n    </tr>\n    <tr>\n      <th>14240</th>\n      <td>0.030333</td>\n      <td>0.377203</td>\n      <td>0.895522</td>\n      <td>0.509434</td>\n      <td>0.043011</td>\n      <td>0.053571</td>\n      <td>0.090909</td>\n      <td>0.0</td>\n      <td>1.000000</td>\n      <td>0.0</td>\n      <td>...</td>\n      <td>0.250000</td>\n      <td>0.100000</td>\n      <td>0.800000</td>\n      <td>0.800000</td>\n      <td>0.000000</td>\n      <td>0.500000</td>\n      <td>1.000000</td>\n      <td>0.000000</td>\n      <td>0</td>\n      <td>857</td>\n    </tr>\n    <tr>\n      <th>106</th>\n      <td>0.117505</td>\n      <td>0.311619</td>\n      <td>0.970149</td>\n      <td>0.588210</td>\n      <td>0.026882</td>\n      <td>0.000000</td>\n      <td>0.010101</td>\n      <td>0.0</td>\n      <td>0.777778</td>\n      <td>0.0</td>\n      <td>...</td>\n      <td>0.187500</td>\n      <td>0.033333</td>\n      <td>0.400000</td>\n      <td>0.875000</td>\n      <td>0.100000</td>\n      <td>0.600000</td>\n      <td>0.800000</td>\n      <td>0.200000</td>\n      <td>0</td>\n      <td>1000</td>\n    </tr>\n    <tr>\n      <th>3341</th>\n      <td>0.091283</td>\n      <td>0.349682</td>\n      <td>0.970149</td>\n      <td>0.510264</td>\n      <td>0.053763</td>\n      <td>0.017857</td>\n      <td>0.272727</td>\n      <td>0.0</td>\n      <td>0.666667</td>\n      <td>0.0</td>\n      <td>...</td>\n      <td>0.100000</td>\n      <td>0.033333</td>\n      <td>0.708333</td>\n      <td>0.900000</td>\n      <td>0.000000</td>\n      <td>0.500000</td>\n      <td>1.000000</td>\n      <td>0.000000</td>\n      <td>1</td>\n      <td>1100</td>\n    </tr>\n    <tr>\n      <th>35264</th>\n      <td>0.031325</td>\n      <td>0.537766</td>\n      <td>0.895522</td>\n      <td>0.759577</td>\n      <td>0.021505</td>\n      <td>0.053571</td>\n      <td>0.010101</td>\n      <td>0.0</td>\n      <td>0.666667</td>\n      <td>0.0</td>\n      <td>...</td>\n      <td>0.166667</td>\n      <td>0.062500</td>\n      <td>0.611111</td>\n      <td>0.950000</td>\n      <td>0.000000</td>\n      <td>0.500000</td>\n      <td>1.000000</td>\n      <td>0.000000</td>\n      <td>0</td>\n      <td>1000</td>\n    </tr>\n    <tr>\n      <th>...</th>\n      <td>...</td>\n      <td>...</td>\n      <td>...</td>\n      <td>...</td>\n      <td>...</td>\n      <td>...</td>\n      <td>...</td>\n      <td>...</td>\n      <td>...</td>\n      <td>...</td>\n      <td>...</td>\n      <td>...</td>\n      <td>...</td>\n      <td>...</td>\n      <td>...</td>\n      <td>...</td>\n      <td>...</td>\n      <td>...</td>\n      <td>...</td>\n      <td>...</td>\n      <td>...</td>\n    </tr>\n    <tr>\n      <th>8650</th>\n      <td>0.293834</td>\n      <td>0.172902</td>\n      <td>0.985075</td>\n      <td>0.394642</td>\n      <td>0.086022</td>\n      <td>0.142857</td>\n      <td>0.090909</td>\n      <td>0.0</td>\n      <td>0.777778</td>\n      <td>0.0</td>\n      <td>...</td>\n      <td>0.190083</td>\n      <td>0.050000</td>\n      <td>0.200000</td>\n      <td>0.950000</td>\n      <td>0.000000</td>\n      <td>0.500000</td>\n      <td>1.000000</td>\n      <td>0.000000</td>\n      <td>3</td>\n      <td>3700</td>\n    </tr>\n    <tr>\n      <th>18821</th>\n      <td>0.020836</td>\n      <td>0.483857</td>\n      <td>0.880597</td>\n      <td>0.531523</td>\n      <td>0.064516</td>\n      <td>0.071429</td>\n      <td>0.060606</td>\n      <td>0.0</td>\n      <td>0.777778</td>\n      <td>0.0</td>\n      <td>...</td>\n      <td>0.222222</td>\n      <td>0.100000</td>\n      <td>0.500000</td>\n      <td>0.800000</td>\n      <td>0.454545</td>\n      <td>0.568182</td>\n      <td>0.090909</td>\n      <td>0.136364</td>\n      <td>0</td>\n      <td>962</td>\n    </tr>\n    <tr>\n      <th>10621</th>\n      <td>0.019702</td>\n      <td>0.474429</td>\n      <td>0.865672</td>\n      <td>0.593845</td>\n      <td>0.080645</td>\n      <td>0.053571</td>\n      <td>0.101010</td>\n      <td>0.0</td>\n      <td>0.888889</td>\n      <td>0.0</td>\n      <td>...</td>\n      <td>0.300000</td>\n      <td>0.136364</td>\n      <td>0.750000</td>\n      <td>0.950000</td>\n      <td>0.318182</td>\n      <td>0.564394</td>\n      <td>0.363636</td>\n      <td>0.128788</td>\n      <td>0</td>\n      <td>920</td>\n    </tr>\n    <tr>\n      <th>38775</th>\n      <td>0.137066</td>\n      <td>0.231262</td>\n      <td>0.970149</td>\n      <td>0.525786</td>\n      <td>0.010753</td>\n      <td>0.035714</td>\n      <td>0.010101</td>\n      <td>0.0</td>\n      <td>0.444444</td>\n      <td>0.0</td>\n      <td>...</td>\n      <td>0.356164</td>\n      <td>0.033333</td>\n      <td>0.500000</td>\n      <td>0.844444</td>\n      <td>0.133333</td>\n      <td>0.558333</td>\n      <td>0.733333</td>\n      <td>0.116667</td>\n      <td>3</td>\n      <td>4200</td>\n    </tr>\n    <tr>\n      <th>39400</th>\n      <td>0.080510</td>\n      <td>0.288359</td>\n      <td>0.955224</td>\n      <td>0.501038</td>\n      <td>0.075269</td>\n      <td>0.000000</td>\n      <td>0.121212</td>\n      <td>0.0</td>\n      <td>0.444444</td>\n      <td>0.0</td>\n      <td>...</td>\n      <td>0.272727</td>\n      <td>0.136364</td>\n      <td>0.500000</td>\n      <td>0.850000</td>\n      <td>0.000000</td>\n      <td>0.500000</td>\n      <td>1.000000</td>\n      <td>0.000000</td>\n      <td>1</td>\n      <td>1300</td>\n    </tr>\n  </tbody>\n</table>\n<p>9234 rows × 42 columns</p>\n</div>"
     },
     "metadata": {}
    }
   ],
   "source": [
    "import pandas as pd\n",
    "\n",
    "from sklearn.preprocessing import MinMaxScaler\n",
    "scaler = MinMaxScaler()\n",
    "\n",
    "x = popularity_data.drop(' shares', axis=1).drop('share_class', axis=1)\n",
    "y = popularity_data['share_class']\n",
    "\n",
    "pop_normalized = pd.DataFrame(scaler.fit_transform(x), columns=x.columns, index=x.index)\n",
    "\n",
    "# Overwrite data with normalized data\n",
    "popularity_data.update(other=pop_normalized)\n",
    "\n",
    "display(popularity_data)"
   ]
  },
  {
   "cell_type": "code",
   "execution_count": 127,
   "metadata": {},
   "outputs": [
    {
     "output_type": "stream",
     "name": "stdout",
     "text": [
      "Accuracy SVM: 0.43\n",
      "Accuracy Logistic Regression: 0.44\n",
      "Accuracy KNN: 0.36\n",
      "Accuracy Naive Bayes: 0.38\n",
      "Accuracy Decision Tree: 0.31\n",
      "Accuracy ANN: 0.38\n"
     ]
    }
   ],
   "source": [
    "x = popularity_data.drop('share_class', axis=1).drop(' shares', axis=1)\n",
    "y = popularity_data['share_class']\n",
    "calculate_scores(x,y)"
   ]
  },
  {
   "source": [
    "# PCA"
   ],
   "cell_type": "markdown",
   "metadata": {}
  },
  {
   "cell_type": "code",
   "execution_count": 130,
   "metadata": {},
   "outputs": [
    {
     "output_type": "display_data",
     "data": {
      "text/plain": "           PCA1      PCA2      PCA3   shares  share_class\n36356 -0.291662  0.850749  0.346010      786            0\n14240  0.009683  0.182791 -0.404327      857            0\n106   -0.307500  0.395435 -0.322534     1000            0\n3341   0.062114  0.007548 -0.631365     1100            1\n35264  0.410518 -0.191584 -0.543772     1000            0\n...         ...       ...       ...      ...          ...\n8650   0.812122 -0.557635 -0.331555     3700            3\n18821  0.721935 -0.121498  0.703154      962            0\n10621  0.008809  0.399017  0.153481      920            0\n38775  0.027928  0.080801 -0.257818     4200            3\n39400 -0.062219  0.190690 -0.383355     1300            1\n\n[9234 rows x 5 columns]",
      "text/html": "<div>\n<style scoped>\n    .dataframe tbody tr th:only-of-type {\n        vertical-align: middle;\n    }\n\n    .dataframe tbody tr th {\n        vertical-align: top;\n    }\n\n    .dataframe thead th {\n        text-align: right;\n    }\n</style>\n<table border=\"1\" class=\"dataframe\">\n  <thead>\n    <tr style=\"text-align: right;\">\n      <th></th>\n      <th>PCA1</th>\n      <th>PCA2</th>\n      <th>PCA3</th>\n      <th>shares</th>\n      <th>share_class</th>\n    </tr>\n  </thead>\n  <tbody>\n    <tr>\n      <th>36356</th>\n      <td>-0.291662</td>\n      <td>0.850749</td>\n      <td>0.346010</td>\n      <td>786</td>\n      <td>0</td>\n    </tr>\n    <tr>\n      <th>14240</th>\n      <td>0.009683</td>\n      <td>0.182791</td>\n      <td>-0.404327</td>\n      <td>857</td>\n      <td>0</td>\n    </tr>\n    <tr>\n      <th>106</th>\n      <td>-0.307500</td>\n      <td>0.395435</td>\n      <td>-0.322534</td>\n      <td>1000</td>\n      <td>0</td>\n    </tr>\n    <tr>\n      <th>3341</th>\n      <td>0.062114</td>\n      <td>0.007548</td>\n      <td>-0.631365</td>\n      <td>1100</td>\n      <td>1</td>\n    </tr>\n    <tr>\n      <th>35264</th>\n      <td>0.410518</td>\n      <td>-0.191584</td>\n      <td>-0.543772</td>\n      <td>1000</td>\n      <td>0</td>\n    </tr>\n    <tr>\n      <th>...</th>\n      <td>...</td>\n      <td>...</td>\n      <td>...</td>\n      <td>...</td>\n      <td>...</td>\n    </tr>\n    <tr>\n      <th>8650</th>\n      <td>0.812122</td>\n      <td>-0.557635</td>\n      <td>-0.331555</td>\n      <td>3700</td>\n      <td>3</td>\n    </tr>\n    <tr>\n      <th>18821</th>\n      <td>0.721935</td>\n      <td>-0.121498</td>\n      <td>0.703154</td>\n      <td>962</td>\n      <td>0</td>\n    </tr>\n    <tr>\n      <th>10621</th>\n      <td>0.008809</td>\n      <td>0.399017</td>\n      <td>0.153481</td>\n      <td>920</td>\n      <td>0</td>\n    </tr>\n    <tr>\n      <th>38775</th>\n      <td>0.027928</td>\n      <td>0.080801</td>\n      <td>-0.257818</td>\n      <td>4200</td>\n      <td>3</td>\n    </tr>\n    <tr>\n      <th>39400</th>\n      <td>-0.062219</td>\n      <td>0.190690</td>\n      <td>-0.383355</td>\n      <td>1300</td>\n      <td>1</td>\n    </tr>\n  </tbody>\n</table>\n<p>9234 rows × 5 columns</p>\n</div>"
     },
     "metadata": {}
    }
   ],
   "source": [
    "from sklearn import decomposition\n",
    "\n",
    "#Perform PCA with 3 dimensions\n",
    "num_components=3\n",
    "pca = decomposition.PCA(n_components=3)\n",
    "#Only use features\n",
    "x=popularity_data.drop(' shares', axis=1).drop('share_class', axis=1)\n",
    "pca.fit(x)\n",
    "x_tran = pca.transform(x)\n",
    "y_tran = popularity_data[[' shares', 'share_class']]\n",
    "\n",
    "# Save PCA DataFrame for later use in evaluation\n",
    "pop_pca = pd.DataFrame(x_tran, columns=['PCA1', 'PCA2', 'PCA3'], index=popularity_data.index)\n",
    "pop_pca[[' shares', 'share_class']] = y_tran\n",
    "display(pop_pca)\n"
   ]
  },
  {
   "cell_type": "code",
   "execution_count": 131,
   "metadata": {},
   "outputs": [
    {
     "output_type": "stream",
     "name": "stdout",
     "text": [
      "Accuracy SVM: 0.41\n",
      "Accuracy Logistic Regression: 0.40\n",
      "Accuracy KNN: 0.35\n",
      "Accuracy Naive Bayes: 0.41\n",
      "Accuracy Decision Tree: 0.29\n",
      "Accuracy ANN: 0.41\n"
     ]
    }
   ],
   "source": [
    "x = pop_pca.drop('share_class', axis=1).drop(' shares', axis=1)\n",
    "y = pop_pca['share_class']\n",
    "calculate_scores(x,y)"
   ]
  },
  {
   "source": [
    "# Export data to pkl"
   ],
   "cell_type": "markdown",
   "metadata": {}
  },
  {
   "cell_type": "code",
   "execution_count": 60,
   "metadata": {},
   "outputs": [],
   "source": [
    "pop_pca.to_pickle('popularity_pca.pkl')\n",
    "popularity_data.to_pickle('popularity_data.pkl')"
   ]
  },
  {
   "cell_type": "code",
   "execution_count": null,
   "metadata": {},
   "outputs": [],
   "source": []
  }
 ]
}