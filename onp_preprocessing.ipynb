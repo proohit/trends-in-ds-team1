{
 "metadata": {
  "language_info": {
   "codemirror_mode": {
    "name": "ipython",
    "version": 3
   },
   "file_extension": ".py",
   "mimetype": "text/x-python",
   "name": "python",
   "nbconvert_exporter": "python",
   "pygments_lexer": "ipython3",
   "version": "3.8.3-final"
  },
  "orig_nbformat": 2,
  "kernelspec": {
   "name": "python3",
   "display_name": "Python 3",
   "language": "python"
  }
 },
 "nbformat": 4,
 "nbformat_minor": 2,
 "cells": [
  {
   "cell_type": "code",
   "execution_count": 5,
   "metadata": {},
   "outputs": [],
   "source": [
    "from datasets import popularity_dataset\n",
    "\n",
    "popularity_data = popularity_dataset().drop('days_article_dataset', axis=1)\n",
    "\n",
    "# popularity_data = popularity_data.sample(frac=.2, random_state=1)"
   ]
  },
  {
   "source": [
    "MV's"
   ],
   "cell_type": "markdown",
   "metadata": {}
  },
  {
   "cell_type": "code",
   "execution_count": 6,
   "metadata": {},
   "outputs": [
    {
     "output_type": "display_data",
     "data": {
      "text/plain": "      days_article_dataset   number_words_title  number_words_content  \\\n36                     731                 10.0                  1244   \n83                     730                 12.0                   499   \n317                    726                 13.0                   293   \n818                    716                 11.0                   245   \n1220                   710                  NaN                   308   \n1221                   710                  NaN                   435   \n1222                   710                  NaN                   119   \n1223                   710                  NaN                   993   \n1489                   706                 11.0                   497   \n1716                   702                 10.0                   659   \n\n      rate_unique_words_content  rate_non_stop_words_content  \\\n36                     0.417547                          1.0   \n83                     0.513026                          1.0   \n317                    0.585366                          1.0   \n818                    0.642241                          1.0   \n1220                   0.616667                          1.0   \n1221                   0.458333                          1.0   \n1222                   0.705882                          1.0   \n1223                   0.449597                          1.0   \n1489                   0.522634                          1.0   \n1716                   0.357143                          1.0   \n\n      rate_unique_non_stop_words_content  number_links  \\\n36                              0.562579            27   \n83                              0.662252            14   \n317                             0.759036             6   \n818                             0.773585             7   \n1220                            0.714286            11   \n1221                            0.551020             3   \n1222                            0.861538             1   \n1223                            0.667870             2   \n1489                            0.713768             9   \n1716                            0.377320            44   \n\n       number_links_to_mashable   number_imgs   number_videos  ...  \\\n36                           22            20               0  ...   \n83                            1             1               0  ...   \n317                           5             1               0  ...   \n818                           0             1               0  ...   \n1220                          3             1               1  ...   \n1221                          2             1              13  ...   \n1222                          0             0               1  ...   \n1223                          1             1               0  ...   \n1489                          3             1               0  ...   \n1716                         40            31               1  ...   \n\n       min_polarity_in_positive_words   max_polarity_in_positive_words  \\\n36                           0.033333                              1.0   \n83                           0.100000                              0.5   \n317                          0.100000                              0.6   \n818                          0.100000                              0.5   \n1220                         0.200000                              0.6   \n1221                         0.100000                              0.5   \n1222                         0.100000                              1.0   \n1223                         0.100000                              1.0   \n1489                         0.100000                              1.0   \n1716                         0.100000                              0.9   \n\n       avg_polarity_in_negative_words   min_polarity_in_negative_words  \\\n36                          -0.230263                          -0.6000   \n83                          -0.235000                          -0.5000   \n317                         -0.162500                          -0.2000   \n818                         -0.400000                          -0.4000   \n1220                         0.000000                           0.0000   \n1221                        -0.350000                          -0.7000   \n1222                        -0.600000                          -0.6000   \n1223                        -0.285810                          -0.8000   \n1489                        -0.363333                          -0.7000   \n1716                        -0.183532                          -0.3125   \n\n       max_polarity_in_negative_words   title_sentiment_subjectivity  \\\n36                          -0.050000                           1.00   \n83                          -0.100000                           0.30   \n317                         -0.125000                           0.50   \n818                         -0.400000                           0.00   \n1220                         0.000000                           0.00   \n1221                        -0.125000                           0.30   \n1222                        -0.600000                           0.00   \n1223                        -0.050000                           0.85   \n1489                        -0.050000                           0.00   \n1716                        -0.071429                           0.00   \n\n       title_sentiment_polarity   abs_title_subjectivity  \\\n36                       -0.600                     0.50   \n83                        0.000                     0.20   \n317                       0.500                     0.00   \n818                       0.000                     0.50   \n1220                      0.000                     0.50   \n1221                      1.000                     0.20   \n1222                      0.000                     0.50   \n1223                      0.625                     0.35   \n1489                      0.000                     0.50   \n1716                      0.000                     0.50   \n\n       abs_title_sentiment_polarity   shares  \n36                            0.600     7700  \n83                            0.000     1200  \n317                           0.500     1700  \n818                           0.000      560  \n1220                          0.000      804  \n1221                          1.000     1200  \n1222                          0.000     8700  \n1223                          0.625     1900  \n1489                          0.000     3800  \n1716                          0.000     4300  \n\n[10 rows x 60 columns]",
      "text/html": "<div>\n<style scoped>\n    .dataframe tbody tr th:only-of-type {\n        vertical-align: middle;\n    }\n\n    .dataframe tbody tr th {\n        vertical-align: top;\n    }\n\n    .dataframe thead th {\n        text-align: right;\n    }\n</style>\n<table border=\"1\" class=\"dataframe\">\n  <thead>\n    <tr style=\"text-align: right;\">\n      <th></th>\n      <th>days_article_dataset</th>\n      <th>number_words_title</th>\n      <th>number_words_content</th>\n      <th>rate_unique_words_content</th>\n      <th>rate_non_stop_words_content</th>\n      <th>rate_unique_non_stop_words_content</th>\n      <th>number_links</th>\n      <th>number_links_to_mashable</th>\n      <th>number_imgs</th>\n      <th>number_videos</th>\n      <th>...</th>\n      <th>min_polarity_in_positive_words</th>\n      <th>max_polarity_in_positive_words</th>\n      <th>avg_polarity_in_negative_words</th>\n      <th>min_polarity_in_negative_words</th>\n      <th>max_polarity_in_negative_words</th>\n      <th>title_sentiment_subjectivity</th>\n      <th>title_sentiment_polarity</th>\n      <th>abs_title_subjectivity</th>\n      <th>abs_title_sentiment_polarity</th>\n      <th>shares</th>\n    </tr>\n  </thead>\n  <tbody>\n    <tr>\n      <th>36</th>\n      <td>731</td>\n      <td>10.0</td>\n      <td>1244</td>\n      <td>0.417547</td>\n      <td>1.0</td>\n      <td>0.562579</td>\n      <td>27</td>\n      <td>22</td>\n      <td>20</td>\n      <td>0</td>\n      <td>...</td>\n      <td>0.033333</td>\n      <td>1.0</td>\n      <td>-0.230263</td>\n      <td>-0.6000</td>\n      <td>-0.050000</td>\n      <td>1.00</td>\n      <td>-0.600</td>\n      <td>0.50</td>\n      <td>0.600</td>\n      <td>7700</td>\n    </tr>\n    <tr>\n      <th>83</th>\n      <td>730</td>\n      <td>12.0</td>\n      <td>499</td>\n      <td>0.513026</td>\n      <td>1.0</td>\n      <td>0.662252</td>\n      <td>14</td>\n      <td>1</td>\n      <td>1</td>\n      <td>0</td>\n      <td>...</td>\n      <td>0.100000</td>\n      <td>0.5</td>\n      <td>-0.235000</td>\n      <td>-0.5000</td>\n      <td>-0.100000</td>\n      <td>0.30</td>\n      <td>0.000</td>\n      <td>0.20</td>\n      <td>0.000</td>\n      <td>1200</td>\n    </tr>\n    <tr>\n      <th>317</th>\n      <td>726</td>\n      <td>13.0</td>\n      <td>293</td>\n      <td>0.585366</td>\n      <td>1.0</td>\n      <td>0.759036</td>\n      <td>6</td>\n      <td>5</td>\n      <td>1</td>\n      <td>0</td>\n      <td>...</td>\n      <td>0.100000</td>\n      <td>0.6</td>\n      <td>-0.162500</td>\n      <td>-0.2000</td>\n      <td>-0.125000</td>\n      <td>0.50</td>\n      <td>0.500</td>\n      <td>0.00</td>\n      <td>0.500</td>\n      <td>1700</td>\n    </tr>\n    <tr>\n      <th>818</th>\n      <td>716</td>\n      <td>11.0</td>\n      <td>245</td>\n      <td>0.642241</td>\n      <td>1.0</td>\n      <td>0.773585</td>\n      <td>7</td>\n      <td>0</td>\n      <td>1</td>\n      <td>0</td>\n      <td>...</td>\n      <td>0.100000</td>\n      <td>0.5</td>\n      <td>-0.400000</td>\n      <td>-0.4000</td>\n      <td>-0.400000</td>\n      <td>0.00</td>\n      <td>0.000</td>\n      <td>0.50</td>\n      <td>0.000</td>\n      <td>560</td>\n    </tr>\n    <tr>\n      <th>1220</th>\n      <td>710</td>\n      <td>NaN</td>\n      <td>308</td>\n      <td>0.616667</td>\n      <td>1.0</td>\n      <td>0.714286</td>\n      <td>11</td>\n      <td>3</td>\n      <td>1</td>\n      <td>1</td>\n      <td>...</td>\n      <td>0.200000</td>\n      <td>0.6</td>\n      <td>0.000000</td>\n      <td>0.0000</td>\n      <td>0.000000</td>\n      <td>0.00</td>\n      <td>0.000</td>\n      <td>0.50</td>\n      <td>0.000</td>\n      <td>804</td>\n    </tr>\n    <tr>\n      <th>1221</th>\n      <td>710</td>\n      <td>NaN</td>\n      <td>435</td>\n      <td>0.458333</td>\n      <td>1.0</td>\n      <td>0.551020</td>\n      <td>3</td>\n      <td>2</td>\n      <td>1</td>\n      <td>13</td>\n      <td>...</td>\n      <td>0.100000</td>\n      <td>0.5</td>\n      <td>-0.350000</td>\n      <td>-0.7000</td>\n      <td>-0.125000</td>\n      <td>0.30</td>\n      <td>1.000</td>\n      <td>0.20</td>\n      <td>1.000</td>\n      <td>1200</td>\n    </tr>\n    <tr>\n      <th>1222</th>\n      <td>710</td>\n      <td>NaN</td>\n      <td>119</td>\n      <td>0.705882</td>\n      <td>1.0</td>\n      <td>0.861538</td>\n      <td>1</td>\n      <td>0</td>\n      <td>0</td>\n      <td>1</td>\n      <td>...</td>\n      <td>0.100000</td>\n      <td>1.0</td>\n      <td>-0.600000</td>\n      <td>-0.6000</td>\n      <td>-0.600000</td>\n      <td>0.00</td>\n      <td>0.000</td>\n      <td>0.50</td>\n      <td>0.000</td>\n      <td>8700</td>\n    </tr>\n    <tr>\n      <th>1223</th>\n      <td>710</td>\n      <td>NaN</td>\n      <td>993</td>\n      <td>0.449597</td>\n      <td>1.0</td>\n      <td>0.667870</td>\n      <td>2</td>\n      <td>1</td>\n      <td>1</td>\n      <td>0</td>\n      <td>...</td>\n      <td>0.100000</td>\n      <td>1.0</td>\n      <td>-0.285810</td>\n      <td>-0.8000</td>\n      <td>-0.050000</td>\n      <td>0.85</td>\n      <td>0.625</td>\n      <td>0.35</td>\n      <td>0.625</td>\n      <td>1900</td>\n    </tr>\n    <tr>\n      <th>1489</th>\n      <td>706</td>\n      <td>11.0</td>\n      <td>497</td>\n      <td>0.522634</td>\n      <td>1.0</td>\n      <td>0.713768</td>\n      <td>9</td>\n      <td>3</td>\n      <td>1</td>\n      <td>0</td>\n      <td>...</td>\n      <td>0.100000</td>\n      <td>1.0</td>\n      <td>-0.363333</td>\n      <td>-0.7000</td>\n      <td>-0.050000</td>\n      <td>0.00</td>\n      <td>0.000</td>\n      <td>0.50</td>\n      <td>0.000</td>\n      <td>3800</td>\n    </tr>\n    <tr>\n      <th>1716</th>\n      <td>702</td>\n      <td>10.0</td>\n      <td>659</td>\n      <td>0.357143</td>\n      <td>1.0</td>\n      <td>0.377320</td>\n      <td>44</td>\n      <td>40</td>\n      <td>31</td>\n      <td>1</td>\n      <td>...</td>\n      <td>0.100000</td>\n      <td>0.9</td>\n      <td>-0.183532</td>\n      <td>-0.3125</td>\n      <td>-0.071429</td>\n      <td>0.00</td>\n      <td>0.000</td>\n      <td>0.50</td>\n      <td>0.000</td>\n      <td>4300</td>\n    </tr>\n  </tbody>\n</table>\n<p>10 rows × 60 columns</p>\n</div>"
     },
     "metadata": {}
    }
   ],
   "source": [
    "from datasets import show_mvs\n",
    "\n",
    "mvs = show_mvs(popularity_data)"
   ]
  },
  {
   "source": [
    "## MV's in categories"
   ],
   "cell_type": "markdown",
   "metadata": {}
  },
  {
   "source": [
    "### Find out the indexes"
   ],
   "cell_type": "markdown",
   "metadata": {}
  },
  {
   "cell_type": "code",
   "execution_count": 7,
   "metadata": {},
   "outputs": [
    {
     "output_type": "display_data",
     "data": {
      "text/plain": "      is_category_entertainment  is_category_lifestyle  is_category_business  \\\n36                          0.0                    0.0                   0.0   \n83                          0.0                    NaN                   0.0   \n317                         0.0                    0.0                   0.0   \n818                         0.0                    0.0                   NaN   \n1489                        0.0                    0.0                   0.0   \n1716                        NaN                    0.0                   0.0   \n\n      is_category_socialmedia  is_category_tech  is_category_world  \n36                        0.0               NaN                0.0  \n83                        0.0               0.0                0.0  \n317                       NaN               0.0                0.0  \n818                       0.0               0.0                0.0  \n1489                      0.0               0.0                NaN  \n1716                      0.0               0.0                0.0  ",
      "text/html": "<div>\n<style scoped>\n    .dataframe tbody tr th:only-of-type {\n        vertical-align: middle;\n    }\n\n    .dataframe tbody tr th {\n        vertical-align: top;\n    }\n\n    .dataframe thead th {\n        text-align: right;\n    }\n</style>\n<table border=\"1\" class=\"dataframe\">\n  <thead>\n    <tr style=\"text-align: right;\">\n      <th></th>\n      <th>is_category_entertainment</th>\n      <th>is_category_lifestyle</th>\n      <th>is_category_business</th>\n      <th>is_category_socialmedia</th>\n      <th>is_category_tech</th>\n      <th>is_category_world</th>\n    </tr>\n  </thead>\n  <tbody>\n    <tr>\n      <th>36</th>\n      <td>0.0</td>\n      <td>0.0</td>\n      <td>0.0</td>\n      <td>0.0</td>\n      <td>NaN</td>\n      <td>0.0</td>\n    </tr>\n    <tr>\n      <th>83</th>\n      <td>0.0</td>\n      <td>NaN</td>\n      <td>0.0</td>\n      <td>0.0</td>\n      <td>0.0</td>\n      <td>0.0</td>\n    </tr>\n    <tr>\n      <th>317</th>\n      <td>0.0</td>\n      <td>0.0</td>\n      <td>0.0</td>\n      <td>NaN</td>\n      <td>0.0</td>\n      <td>0.0</td>\n    </tr>\n    <tr>\n      <th>818</th>\n      <td>0.0</td>\n      <td>0.0</td>\n      <td>NaN</td>\n      <td>0.0</td>\n      <td>0.0</td>\n      <td>0.0</td>\n    </tr>\n    <tr>\n      <th>1489</th>\n      <td>0.0</td>\n      <td>0.0</td>\n      <td>0.0</td>\n      <td>0.0</td>\n      <td>0.0</td>\n      <td>NaN</td>\n    </tr>\n    <tr>\n      <th>1716</th>\n      <td>NaN</td>\n      <td>0.0</td>\n      <td>0.0</td>\n      <td>0.0</td>\n      <td>0.0</td>\n      <td>0.0</td>\n    </tr>\n  </tbody>\n</table>\n</div>"
     },
     "metadata": {}
    }
   ],
   "source": [
    "from datasets import get_mvs_of_features\n",
    "\n",
    "categories = [\n",
    "    'is_category_entertainment',\n",
    "    'is_category_lifestyle',\n",
    "    'is_category_business',\n",
    "    'is_category_socialmedia',\n",
    "    'is_category_tech',\n",
    "    'is_category_world'\n",
    "    ]\n",
    "\n",
    "category_mvs = get_mvs_of_features(popularity_data,categories)\n",
    "display(category_mvs[categories])"
   ]
  },
  {
   "source": [
    "### Correct values at indexes"
   ],
   "cell_type": "markdown",
   "metadata": {}
  },
  {
   "cell_type": "code",
   "execution_count": 8,
   "metadata": {},
   "outputs": [],
   "source": [
    "popularity_data.at[category_mvs.iloc[0].name, 'is_category_tech'] = 1\n",
    "popularity_data.at[category_mvs.iloc[1].name, 'is_category_lifestyle'] = 1\n",
    "popularity_data.at[category_mvs.iloc[2].name, 'is_category_socialmedia'] = 1\n",
    "popularity_data.at[category_mvs.iloc[3].name, 'is_category_business'] = 1\n",
    "popularity_data.at[category_mvs.iloc[4].name, 'is_category_world'] = 1\n",
    "popularity_data.at[category_mvs.iloc[5].name, 'is_category_entertainment'] = 1"
   ]
  },
  {
   "cell_type": "code",
   "execution_count": 9,
   "metadata": {},
   "outputs": [
    {
     "output_type": "display_data",
     "data": {
      "text/plain": "Empty DataFrame\nColumns: [is_category_entertainment, is_category_lifestyle, is_category_business, is_category_socialmedia, is_category_tech, is_category_world]\nIndex: []",
      "text/html": "<div>\n<style scoped>\n    .dataframe tbody tr th:only-of-type {\n        vertical-align: middle;\n    }\n\n    .dataframe tbody tr th {\n        vertical-align: top;\n    }\n\n    .dataframe thead th {\n        text-align: right;\n    }\n</style>\n<table border=\"1\" class=\"dataframe\">\n  <thead>\n    <tr style=\"text-align: right;\">\n      <th></th>\n      <th>is_category_entertainment</th>\n      <th>is_category_lifestyle</th>\n      <th>is_category_business</th>\n      <th>is_category_socialmedia</th>\n      <th>is_category_tech</th>\n      <th>is_category_world</th>\n    </tr>\n  </thead>\n  <tbody>\n  </tbody>\n</table>\n</div>"
     },
     "metadata": {}
    },
    {
     "output_type": "display_data",
     "data": {
      "text/plain": "      days_article_dataset   number_words_title  number_words_content  \\\n1220                   710                  NaN                   308   \n1221                   710                  NaN                   435   \n1222                   710                  NaN                   119   \n1223                   710                  NaN                   993   \n\n      rate_unique_words_content  rate_non_stop_words_content  \\\n1220                   0.616667                          1.0   \n1221                   0.458333                          1.0   \n1222                   0.705882                          1.0   \n1223                   0.449597                          1.0   \n\n      rate_unique_non_stop_words_content  number_links  \\\n1220                            0.714286            11   \n1221                            0.551020             3   \n1222                            0.861538             1   \n1223                            0.667870             2   \n\n       number_links_to_mashable   number_imgs   number_videos  ...  \\\n1220                          3             1               1  ...   \n1221                          2             1              13  ...   \n1222                          0             0               1  ...   \n1223                          1             1               0  ...   \n\n       min_polarity_in_positive_words   max_polarity_in_positive_words  \\\n1220                              0.2                              0.6   \n1221                              0.1                              0.5   \n1222                              0.1                              1.0   \n1223                              0.1                              1.0   \n\n       avg_polarity_in_negative_words   min_polarity_in_negative_words  \\\n1220                          0.00000                              0.0   \n1221                         -0.35000                             -0.7   \n1222                         -0.60000                             -0.6   \n1223                         -0.28581                             -0.8   \n\n       max_polarity_in_negative_words   title_sentiment_subjectivity  \\\n1220                            0.000                           0.00   \n1221                           -0.125                           0.30   \n1222                           -0.600                           0.00   \n1223                           -0.050                           0.85   \n\n       title_sentiment_polarity   abs_title_subjectivity  \\\n1220                      0.000                     0.50   \n1221                      1.000                     0.20   \n1222                      0.000                     0.50   \n1223                      0.625                     0.35   \n\n       abs_title_sentiment_polarity   shares  \n1220                          0.000      804  \n1221                          1.000     1200  \n1222                          0.000     8700  \n1223                          0.625     1900  \n\n[4 rows x 60 columns]",
      "text/html": "<div>\n<style scoped>\n    .dataframe tbody tr th:only-of-type {\n        vertical-align: middle;\n    }\n\n    .dataframe tbody tr th {\n        vertical-align: top;\n    }\n\n    .dataframe thead th {\n        text-align: right;\n    }\n</style>\n<table border=\"1\" class=\"dataframe\">\n  <thead>\n    <tr style=\"text-align: right;\">\n      <th></th>\n      <th>days_article_dataset</th>\n      <th>number_words_title</th>\n      <th>number_words_content</th>\n      <th>rate_unique_words_content</th>\n      <th>rate_non_stop_words_content</th>\n      <th>rate_unique_non_stop_words_content</th>\n      <th>number_links</th>\n      <th>number_links_to_mashable</th>\n      <th>number_imgs</th>\n      <th>number_videos</th>\n      <th>...</th>\n      <th>min_polarity_in_positive_words</th>\n      <th>max_polarity_in_positive_words</th>\n      <th>avg_polarity_in_negative_words</th>\n      <th>min_polarity_in_negative_words</th>\n      <th>max_polarity_in_negative_words</th>\n      <th>title_sentiment_subjectivity</th>\n      <th>title_sentiment_polarity</th>\n      <th>abs_title_subjectivity</th>\n      <th>abs_title_sentiment_polarity</th>\n      <th>shares</th>\n    </tr>\n  </thead>\n  <tbody>\n    <tr>\n      <th>1220</th>\n      <td>710</td>\n      <td>NaN</td>\n      <td>308</td>\n      <td>0.616667</td>\n      <td>1.0</td>\n      <td>0.714286</td>\n      <td>11</td>\n      <td>3</td>\n      <td>1</td>\n      <td>1</td>\n      <td>...</td>\n      <td>0.2</td>\n      <td>0.6</td>\n      <td>0.00000</td>\n      <td>0.0</td>\n      <td>0.000</td>\n      <td>0.00</td>\n      <td>0.000</td>\n      <td>0.50</td>\n      <td>0.000</td>\n      <td>804</td>\n    </tr>\n    <tr>\n      <th>1221</th>\n      <td>710</td>\n      <td>NaN</td>\n      <td>435</td>\n      <td>0.458333</td>\n      <td>1.0</td>\n      <td>0.551020</td>\n      <td>3</td>\n      <td>2</td>\n      <td>1</td>\n      <td>13</td>\n      <td>...</td>\n      <td>0.1</td>\n      <td>0.5</td>\n      <td>-0.35000</td>\n      <td>-0.7</td>\n      <td>-0.125</td>\n      <td>0.30</td>\n      <td>1.000</td>\n      <td>0.20</td>\n      <td>1.000</td>\n      <td>1200</td>\n    </tr>\n    <tr>\n      <th>1222</th>\n      <td>710</td>\n      <td>NaN</td>\n      <td>119</td>\n      <td>0.705882</td>\n      <td>1.0</td>\n      <td>0.861538</td>\n      <td>1</td>\n      <td>0</td>\n      <td>0</td>\n      <td>1</td>\n      <td>...</td>\n      <td>0.1</td>\n      <td>1.0</td>\n      <td>-0.60000</td>\n      <td>-0.6</td>\n      <td>-0.600</td>\n      <td>0.00</td>\n      <td>0.000</td>\n      <td>0.50</td>\n      <td>0.000</td>\n      <td>8700</td>\n    </tr>\n    <tr>\n      <th>1223</th>\n      <td>710</td>\n      <td>NaN</td>\n      <td>993</td>\n      <td>0.449597</td>\n      <td>1.0</td>\n      <td>0.667870</td>\n      <td>2</td>\n      <td>1</td>\n      <td>1</td>\n      <td>0</td>\n      <td>...</td>\n      <td>0.1</td>\n      <td>1.0</td>\n      <td>-0.28581</td>\n      <td>-0.8</td>\n      <td>-0.050</td>\n      <td>0.85</td>\n      <td>0.625</td>\n      <td>0.35</td>\n      <td>0.625</td>\n      <td>1900</td>\n    </tr>\n  </tbody>\n</table>\n<p>4 rows × 60 columns</p>\n</div>"
     },
     "metadata": {}
    },
    {
     "output_type": "execute_result",
     "data": {
      "text/plain": [
       "      days_article_dataset   number_words_title  number_words_content  \\\n",
       "1220                   710                  NaN                   308   \n",
       "1221                   710                  NaN                   435   \n",
       "1222                   710                  NaN                   119   \n",
       "1223                   710                  NaN                   993   \n",
       "\n",
       "      rate_unique_words_content  rate_non_stop_words_content  \\\n",
       "1220                   0.616667                          1.0   \n",
       "1221                   0.458333                          1.0   \n",
       "1222                   0.705882                          1.0   \n",
       "1223                   0.449597                          1.0   \n",
       "\n",
       "      rate_unique_non_stop_words_content  number_links  \\\n",
       "1220                            0.714286            11   \n",
       "1221                            0.551020             3   \n",
       "1222                            0.861538             1   \n",
       "1223                            0.667870             2   \n",
       "\n",
       "       number_links_to_mashable   number_imgs   number_videos  ...  \\\n",
       "1220                          3             1               1  ...   \n",
       "1221                          2             1              13  ...   \n",
       "1222                          0             0               1  ...   \n",
       "1223                          1             1               0  ...   \n",
       "\n",
       "       min_polarity_in_positive_words   max_polarity_in_positive_words  \\\n",
       "1220                              0.2                              0.6   \n",
       "1221                              0.1                              0.5   \n",
       "1222                              0.1                              1.0   \n",
       "1223                              0.1                              1.0   \n",
       "\n",
       "       avg_polarity_in_negative_words   min_polarity_in_negative_words  \\\n",
       "1220                          0.00000                              0.0   \n",
       "1221                         -0.35000                             -0.7   \n",
       "1222                         -0.60000                             -0.6   \n",
       "1223                         -0.28581                             -0.8   \n",
       "\n",
       "       max_polarity_in_negative_words   title_sentiment_subjectivity  \\\n",
       "1220                            0.000                           0.00   \n",
       "1221                           -0.125                           0.30   \n",
       "1222                           -0.600                           0.00   \n",
       "1223                           -0.050                           0.85   \n",
       "\n",
       "       title_sentiment_polarity   abs_title_subjectivity  \\\n",
       "1220                      0.000                     0.50   \n",
       "1221                      1.000                     0.20   \n",
       "1222                      0.000                     0.50   \n",
       "1223                      0.625                     0.35   \n",
       "\n",
       "       abs_title_sentiment_polarity   shares  \n",
       "1220                          0.000      804  \n",
       "1221                          1.000     1200  \n",
       "1222                          0.000     8700  \n",
       "1223                          0.625     1900  \n",
       "\n",
       "[4 rows x 60 columns]"
      ],
      "text/html": "<div>\n<style scoped>\n    .dataframe tbody tr th:only-of-type {\n        vertical-align: middle;\n    }\n\n    .dataframe tbody tr th {\n        vertical-align: top;\n    }\n\n    .dataframe thead th {\n        text-align: right;\n    }\n</style>\n<table border=\"1\" class=\"dataframe\">\n  <thead>\n    <tr style=\"text-align: right;\">\n      <th></th>\n      <th>days_article_dataset</th>\n      <th>number_words_title</th>\n      <th>number_words_content</th>\n      <th>rate_unique_words_content</th>\n      <th>rate_non_stop_words_content</th>\n      <th>rate_unique_non_stop_words_content</th>\n      <th>number_links</th>\n      <th>number_links_to_mashable</th>\n      <th>number_imgs</th>\n      <th>number_videos</th>\n      <th>...</th>\n      <th>min_polarity_in_positive_words</th>\n      <th>max_polarity_in_positive_words</th>\n      <th>avg_polarity_in_negative_words</th>\n      <th>min_polarity_in_negative_words</th>\n      <th>max_polarity_in_negative_words</th>\n      <th>title_sentiment_subjectivity</th>\n      <th>title_sentiment_polarity</th>\n      <th>abs_title_subjectivity</th>\n      <th>abs_title_sentiment_polarity</th>\n      <th>shares</th>\n    </tr>\n  </thead>\n  <tbody>\n    <tr>\n      <th>1220</th>\n      <td>710</td>\n      <td>NaN</td>\n      <td>308</td>\n      <td>0.616667</td>\n      <td>1.0</td>\n      <td>0.714286</td>\n      <td>11</td>\n      <td>3</td>\n      <td>1</td>\n      <td>1</td>\n      <td>...</td>\n      <td>0.2</td>\n      <td>0.6</td>\n      <td>0.00000</td>\n      <td>0.0</td>\n      <td>0.000</td>\n      <td>0.00</td>\n      <td>0.000</td>\n      <td>0.50</td>\n      <td>0.000</td>\n      <td>804</td>\n    </tr>\n    <tr>\n      <th>1221</th>\n      <td>710</td>\n      <td>NaN</td>\n      <td>435</td>\n      <td>0.458333</td>\n      <td>1.0</td>\n      <td>0.551020</td>\n      <td>3</td>\n      <td>2</td>\n      <td>1</td>\n      <td>13</td>\n      <td>...</td>\n      <td>0.1</td>\n      <td>0.5</td>\n      <td>-0.35000</td>\n      <td>-0.7</td>\n      <td>-0.125</td>\n      <td>0.30</td>\n      <td>1.000</td>\n      <td>0.20</td>\n      <td>1.000</td>\n      <td>1200</td>\n    </tr>\n    <tr>\n      <th>1222</th>\n      <td>710</td>\n      <td>NaN</td>\n      <td>119</td>\n      <td>0.705882</td>\n      <td>1.0</td>\n      <td>0.861538</td>\n      <td>1</td>\n      <td>0</td>\n      <td>0</td>\n      <td>1</td>\n      <td>...</td>\n      <td>0.1</td>\n      <td>1.0</td>\n      <td>-0.60000</td>\n      <td>-0.6</td>\n      <td>-0.600</td>\n      <td>0.00</td>\n      <td>0.000</td>\n      <td>0.50</td>\n      <td>0.000</td>\n      <td>8700</td>\n    </tr>\n    <tr>\n      <th>1223</th>\n      <td>710</td>\n      <td>NaN</td>\n      <td>993</td>\n      <td>0.449597</td>\n      <td>1.0</td>\n      <td>0.667870</td>\n      <td>2</td>\n      <td>1</td>\n      <td>1</td>\n      <td>0</td>\n      <td>...</td>\n      <td>0.1</td>\n      <td>1.0</td>\n      <td>-0.28581</td>\n      <td>-0.8</td>\n      <td>-0.050</td>\n      <td>0.85</td>\n      <td>0.625</td>\n      <td>0.35</td>\n      <td>0.625</td>\n      <td>1900</td>\n    </tr>\n  </tbody>\n</table>\n<p>4 rows × 60 columns</p>\n</div>"
     },
     "metadata": {},
     "execution_count": 9
    }
   ],
   "source": [
    "category_mvs = get_mvs_of_features(popularity_data,categories)\n",
    "display(category_mvs[categories])\n",
    "show_mvs(popularity_data)"
   ]
  },
  {
   "source": [
    "### Missing categories are no longer missing"
   ],
   "cell_type": "markdown",
   "metadata": {}
  },
  {
   "source": [
    "## MV's Number Words Title"
   ],
   "cell_type": "markdown",
   "metadata": {}
  },
  {
   "source": [
    "### Find out indexes of mvs"
   ],
   "cell_type": "markdown",
   "metadata": {}
  },
  {
   "cell_type": "code",
   "execution_count": 10,
   "metadata": {},
   "outputs": [
    {
     "output_type": "display_data",
     "data": {
      "text/plain": "      days_article_dataset   number_words_title  number_words_content  \\\n1220                   710                  NaN                   308   \n1221                   710                  NaN                   435   \n1222                   710                  NaN                   119   \n1223                   710                  NaN                   993   \n\n      rate_unique_words_content  rate_non_stop_words_content  \\\n1220                   0.616667                          1.0   \n1221                   0.458333                          1.0   \n1222                   0.705882                          1.0   \n1223                   0.449597                          1.0   \n\n      rate_unique_non_stop_words_content  number_links  \\\n1220                            0.714286            11   \n1221                            0.551020             3   \n1222                            0.861538             1   \n1223                            0.667870             2   \n\n       number_links_to_mashable   number_imgs   number_videos  ...  \\\n1220                          3             1               1  ...   \n1221                          2             1              13  ...   \n1222                          0             0               1  ...   \n1223                          1             1               0  ...   \n\n       min_polarity_in_positive_words   max_polarity_in_positive_words  \\\n1220                              0.2                              0.6   \n1221                              0.1                              0.5   \n1222                              0.1                              1.0   \n1223                              0.1                              1.0   \n\n       avg_polarity_in_negative_words   min_polarity_in_negative_words  \\\n1220                          0.00000                              0.0   \n1221                         -0.35000                             -0.7   \n1222                         -0.60000                             -0.6   \n1223                         -0.28581                             -0.8   \n\n       max_polarity_in_negative_words   title_sentiment_subjectivity  \\\n1220                            0.000                           0.00   \n1221                           -0.125                           0.30   \n1222                           -0.600                           0.00   \n1223                           -0.050                           0.85   \n\n       title_sentiment_polarity   abs_title_subjectivity  \\\n1220                      0.000                     0.50   \n1221                      1.000                     0.20   \n1222                      0.000                     0.50   \n1223                      0.625                     0.35   \n\n       abs_title_sentiment_polarity   shares  \n1220                          0.000      804  \n1221                          1.000     1200  \n1222                          0.000     8700  \n1223                          0.625     1900  \n\n[4 rows x 60 columns]",
      "text/html": "<div>\n<style scoped>\n    .dataframe tbody tr th:only-of-type {\n        vertical-align: middle;\n    }\n\n    .dataframe tbody tr th {\n        vertical-align: top;\n    }\n\n    .dataframe thead th {\n        text-align: right;\n    }\n</style>\n<table border=\"1\" class=\"dataframe\">\n  <thead>\n    <tr style=\"text-align: right;\">\n      <th></th>\n      <th>days_article_dataset</th>\n      <th>number_words_title</th>\n      <th>number_words_content</th>\n      <th>rate_unique_words_content</th>\n      <th>rate_non_stop_words_content</th>\n      <th>rate_unique_non_stop_words_content</th>\n      <th>number_links</th>\n      <th>number_links_to_mashable</th>\n      <th>number_imgs</th>\n      <th>number_videos</th>\n      <th>...</th>\n      <th>min_polarity_in_positive_words</th>\n      <th>max_polarity_in_positive_words</th>\n      <th>avg_polarity_in_negative_words</th>\n      <th>min_polarity_in_negative_words</th>\n      <th>max_polarity_in_negative_words</th>\n      <th>title_sentiment_subjectivity</th>\n      <th>title_sentiment_polarity</th>\n      <th>abs_title_subjectivity</th>\n      <th>abs_title_sentiment_polarity</th>\n      <th>shares</th>\n    </tr>\n  </thead>\n  <tbody>\n    <tr>\n      <th>1220</th>\n      <td>710</td>\n      <td>NaN</td>\n      <td>308</td>\n      <td>0.616667</td>\n      <td>1.0</td>\n      <td>0.714286</td>\n      <td>11</td>\n      <td>3</td>\n      <td>1</td>\n      <td>1</td>\n      <td>...</td>\n      <td>0.2</td>\n      <td>0.6</td>\n      <td>0.00000</td>\n      <td>0.0</td>\n      <td>0.000</td>\n      <td>0.00</td>\n      <td>0.000</td>\n      <td>0.50</td>\n      <td>0.000</td>\n      <td>804</td>\n    </tr>\n    <tr>\n      <th>1221</th>\n      <td>710</td>\n      <td>NaN</td>\n      <td>435</td>\n      <td>0.458333</td>\n      <td>1.0</td>\n      <td>0.551020</td>\n      <td>3</td>\n      <td>2</td>\n      <td>1</td>\n      <td>13</td>\n      <td>...</td>\n      <td>0.1</td>\n      <td>0.5</td>\n      <td>-0.35000</td>\n      <td>-0.7</td>\n      <td>-0.125</td>\n      <td>0.30</td>\n      <td>1.000</td>\n      <td>0.20</td>\n      <td>1.000</td>\n      <td>1200</td>\n    </tr>\n    <tr>\n      <th>1222</th>\n      <td>710</td>\n      <td>NaN</td>\n      <td>119</td>\n      <td>0.705882</td>\n      <td>1.0</td>\n      <td>0.861538</td>\n      <td>1</td>\n      <td>0</td>\n      <td>0</td>\n      <td>1</td>\n      <td>...</td>\n      <td>0.1</td>\n      <td>1.0</td>\n      <td>-0.60000</td>\n      <td>-0.6</td>\n      <td>-0.600</td>\n      <td>0.00</td>\n      <td>0.000</td>\n      <td>0.50</td>\n      <td>0.000</td>\n      <td>8700</td>\n    </tr>\n    <tr>\n      <th>1223</th>\n      <td>710</td>\n      <td>NaN</td>\n      <td>993</td>\n      <td>0.449597</td>\n      <td>1.0</td>\n      <td>0.667870</td>\n      <td>2</td>\n      <td>1</td>\n      <td>1</td>\n      <td>0</td>\n      <td>...</td>\n      <td>0.1</td>\n      <td>1.0</td>\n      <td>-0.28581</td>\n      <td>-0.8</td>\n      <td>-0.050</td>\n      <td>0.85</td>\n      <td>0.625</td>\n      <td>0.35</td>\n      <td>0.625</td>\n      <td>1900</td>\n    </tr>\n  </tbody>\n</table>\n<p>4 rows × 60 columns</p>\n</div>"
     },
     "metadata": {}
    }
   ],
   "source": [
    "from datasets import get_mvs_of_feature\n",
    "\n",
    "number_words_title_mvs = get_mvs_of_feature(popularity_data, [' number_words_title'])\n",
    "\n",
    "display(number_words_title_mvs)"
   ]
  },
  {
   "cell_type": "code",
   "execution_count": 11,
   "metadata": {},
   "outputs": [
    {
     "output_type": "display_data",
     "data": {
      "text/plain": "      days_article_dataset   number_words_title  number_words_content  \\\n1220                   710                 10.0                   308   \n1221                   710                 10.0                   435   \n1222                   710                 10.0                   119   \n1223                   710                 10.0                   993   \n\n      rate_unique_words_content  rate_non_stop_words_content  \\\n1220                   0.616667                          1.0   \n1221                   0.458333                          1.0   \n1222                   0.705882                          1.0   \n1223                   0.449597                          1.0   \n\n      rate_unique_non_stop_words_content  number_links  \\\n1220                            0.714286            11   \n1221                            0.551020             3   \n1222                            0.861538             1   \n1223                            0.667870             2   \n\n       number_links_to_mashable   number_imgs   number_videos  ...  \\\n1220                          3             1               1  ...   \n1221                          2             1              13  ...   \n1222                          0             0               1  ...   \n1223                          1             1               0  ...   \n\n       min_polarity_in_positive_words   max_polarity_in_positive_words  \\\n1220                              0.2                              0.6   \n1221                              0.1                              0.5   \n1222                              0.1                              1.0   \n1223                              0.1                              1.0   \n\n       avg_polarity_in_negative_words   min_polarity_in_negative_words  \\\n1220                          0.00000                              0.0   \n1221                         -0.35000                             -0.7   \n1222                         -0.60000                             -0.6   \n1223                         -0.28581                             -0.8   \n\n       max_polarity_in_negative_words   title_sentiment_subjectivity  \\\n1220                            0.000                           0.00   \n1221                           -0.125                           0.30   \n1222                           -0.600                           0.00   \n1223                           -0.050                           0.85   \n\n       title_sentiment_polarity   abs_title_subjectivity  \\\n1220                      0.000                     0.50   \n1221                      1.000                     0.20   \n1222                      0.000                     0.50   \n1223                      0.625                     0.35   \n\n       abs_title_sentiment_polarity   shares  \n1220                          0.000      804  \n1221                          1.000     1200  \n1222                          0.000     8700  \n1223                          0.625     1900  \n\n[4 rows x 60 columns]",
      "text/html": "<div>\n<style scoped>\n    .dataframe tbody tr th:only-of-type {\n        vertical-align: middle;\n    }\n\n    .dataframe tbody tr th {\n        vertical-align: top;\n    }\n\n    .dataframe thead th {\n        text-align: right;\n    }\n</style>\n<table border=\"1\" class=\"dataframe\">\n  <thead>\n    <tr style=\"text-align: right;\">\n      <th></th>\n      <th>days_article_dataset</th>\n      <th>number_words_title</th>\n      <th>number_words_content</th>\n      <th>rate_unique_words_content</th>\n      <th>rate_non_stop_words_content</th>\n      <th>rate_unique_non_stop_words_content</th>\n      <th>number_links</th>\n      <th>number_links_to_mashable</th>\n      <th>number_imgs</th>\n      <th>number_videos</th>\n      <th>...</th>\n      <th>min_polarity_in_positive_words</th>\n      <th>max_polarity_in_positive_words</th>\n      <th>avg_polarity_in_negative_words</th>\n      <th>min_polarity_in_negative_words</th>\n      <th>max_polarity_in_negative_words</th>\n      <th>title_sentiment_subjectivity</th>\n      <th>title_sentiment_polarity</th>\n      <th>abs_title_subjectivity</th>\n      <th>abs_title_sentiment_polarity</th>\n      <th>shares</th>\n    </tr>\n  </thead>\n  <tbody>\n    <tr>\n      <th>1220</th>\n      <td>710</td>\n      <td>10.0</td>\n      <td>308</td>\n      <td>0.616667</td>\n      <td>1.0</td>\n      <td>0.714286</td>\n      <td>11</td>\n      <td>3</td>\n      <td>1</td>\n      <td>1</td>\n      <td>...</td>\n      <td>0.2</td>\n      <td>0.6</td>\n      <td>0.00000</td>\n      <td>0.0</td>\n      <td>0.000</td>\n      <td>0.00</td>\n      <td>0.000</td>\n      <td>0.50</td>\n      <td>0.000</td>\n      <td>804</td>\n    </tr>\n    <tr>\n      <th>1221</th>\n      <td>710</td>\n      <td>10.0</td>\n      <td>435</td>\n      <td>0.458333</td>\n      <td>1.0</td>\n      <td>0.551020</td>\n      <td>3</td>\n      <td>2</td>\n      <td>1</td>\n      <td>13</td>\n      <td>...</td>\n      <td>0.1</td>\n      <td>0.5</td>\n      <td>-0.35000</td>\n      <td>-0.7</td>\n      <td>-0.125</td>\n      <td>0.30</td>\n      <td>1.000</td>\n      <td>0.20</td>\n      <td>1.000</td>\n      <td>1200</td>\n    </tr>\n    <tr>\n      <th>1222</th>\n      <td>710</td>\n      <td>10.0</td>\n      <td>119</td>\n      <td>0.705882</td>\n      <td>1.0</td>\n      <td>0.861538</td>\n      <td>1</td>\n      <td>0</td>\n      <td>0</td>\n      <td>1</td>\n      <td>...</td>\n      <td>0.1</td>\n      <td>1.0</td>\n      <td>-0.60000</td>\n      <td>-0.6</td>\n      <td>-0.600</td>\n      <td>0.00</td>\n      <td>0.000</td>\n      <td>0.50</td>\n      <td>0.000</td>\n      <td>8700</td>\n    </tr>\n    <tr>\n      <th>1223</th>\n      <td>710</td>\n      <td>10.0</td>\n      <td>993</td>\n      <td>0.449597</td>\n      <td>1.0</td>\n      <td>0.667870</td>\n      <td>2</td>\n      <td>1</td>\n      <td>1</td>\n      <td>0</td>\n      <td>...</td>\n      <td>0.1</td>\n      <td>1.0</td>\n      <td>-0.28581</td>\n      <td>-0.8</td>\n      <td>-0.050</td>\n      <td>0.85</td>\n      <td>0.625</td>\n      <td>0.35</td>\n      <td>0.625</td>\n      <td>1900</td>\n    </tr>\n  </tbody>\n</table>\n<p>4 rows × 60 columns</p>\n</div>"
     },
     "metadata": {}
    },
    {
     "output_type": "display_data",
     "data": {
      "text/plain": "Empty DataFrame\nColumns: [days_article_dataset,  number_words_title, number_words_content, rate_unique_words_content, rate_non_stop_words_content, rate_unique_non_stop_words_content, number_links,  number_links_to_mashable,  number_imgs,  number_videos,  average_word_length,  number_keywords, is_category_lifestyle, is_category_entertainment, is_category_business, is_category_socialmedia, is_category_tech, is_category_world,  kw_min_min,  kw_max_min,  kw_avg_min,  kw_min_max,  kw_max_max,  kw_avg_max,  kw_min_avg,  kw_max_avg,  kw_avg_avg,  self_reference_min_shares,  self_reference_max_shares,  self_reference_avg_sharess, is_monday, is_tuesday, is_wednesday, is_thursday, is_friday, is_saturday,  is_sunday,  is_weekend,  LDA_00,  LDA_01,  LDA_02,  LDA_03,  LDA_04, sentiment_subjectivity, sentiment_polarity,  global_rate_positive_words,  global_rate_negative_words,  rate_positive_words,  rate_negative_words,  avg_polarity_in_positive_words,  min_polarity_in_positive_words,  max_polarity_in_positive_words,  avg_polarity_in_negative_words,  min_polarity_in_negative_words,  max_polarity_in_negative_words,  title_sentiment_subjectivity,  title_sentiment_polarity,  abs_title_subjectivity,  abs_title_sentiment_polarity,  shares]\nIndex: []\n\n[0 rows x 60 columns]",
      "text/html": "<div>\n<style scoped>\n    .dataframe tbody tr th:only-of-type {\n        vertical-align: middle;\n    }\n\n    .dataframe tbody tr th {\n        vertical-align: top;\n    }\n\n    .dataframe thead th {\n        text-align: right;\n    }\n</style>\n<table border=\"1\" class=\"dataframe\">\n  <thead>\n    <tr style=\"text-align: right;\">\n      <th></th>\n      <th>days_article_dataset</th>\n      <th>number_words_title</th>\n      <th>number_words_content</th>\n      <th>rate_unique_words_content</th>\n      <th>rate_non_stop_words_content</th>\n      <th>rate_unique_non_stop_words_content</th>\n      <th>number_links</th>\n      <th>number_links_to_mashable</th>\n      <th>number_imgs</th>\n      <th>number_videos</th>\n      <th>...</th>\n      <th>min_polarity_in_positive_words</th>\n      <th>max_polarity_in_positive_words</th>\n      <th>avg_polarity_in_negative_words</th>\n      <th>min_polarity_in_negative_words</th>\n      <th>max_polarity_in_negative_words</th>\n      <th>title_sentiment_subjectivity</th>\n      <th>title_sentiment_polarity</th>\n      <th>abs_title_subjectivity</th>\n      <th>abs_title_sentiment_polarity</th>\n      <th>shares</th>\n    </tr>\n  </thead>\n  <tbody>\n  </tbody>\n</table>\n<p>0 rows × 60 columns</p>\n</div>"
     },
     "metadata": {}
    },
    {
     "output_type": "execute_result",
     "data": {
      "text/plain": [
       "Empty DataFrame\n",
       "Columns: [days_article_dataset,  number_words_title, number_words_content, rate_unique_words_content, rate_non_stop_words_content, rate_unique_non_stop_words_content, number_links,  number_links_to_mashable,  number_imgs,  number_videos,  average_word_length,  number_keywords, is_category_lifestyle, is_category_entertainment, is_category_business, is_category_socialmedia, is_category_tech, is_category_world,  kw_min_min,  kw_max_min,  kw_avg_min,  kw_min_max,  kw_max_max,  kw_avg_max,  kw_min_avg,  kw_max_avg,  kw_avg_avg,  self_reference_min_shares,  self_reference_max_shares,  self_reference_avg_sharess, is_monday, is_tuesday, is_wednesday, is_thursday, is_friday, is_saturday,  is_sunday,  is_weekend,  LDA_00,  LDA_01,  LDA_02,  LDA_03,  LDA_04, sentiment_subjectivity, sentiment_polarity,  global_rate_positive_words,  global_rate_negative_words,  rate_positive_words,  rate_negative_words,  avg_polarity_in_positive_words,  min_polarity_in_positive_words,  max_polarity_in_positive_words,  avg_polarity_in_negative_words,  min_polarity_in_negative_words,  max_polarity_in_negative_words,  title_sentiment_subjectivity,  title_sentiment_polarity,  abs_title_subjectivity,  abs_title_sentiment_polarity,  shares]\n",
       "Index: []\n",
       "\n",
       "[0 rows x 60 columns]"
      ],
      "text/html": "<div>\n<style scoped>\n    .dataframe tbody tr th:only-of-type {\n        vertical-align: middle;\n    }\n\n    .dataframe tbody tr th {\n        vertical-align: top;\n    }\n\n    .dataframe thead th {\n        text-align: right;\n    }\n</style>\n<table border=\"1\" class=\"dataframe\">\n  <thead>\n    <tr style=\"text-align: right;\">\n      <th></th>\n      <th>days_article_dataset</th>\n      <th>number_words_title</th>\n      <th>number_words_content</th>\n      <th>rate_unique_words_content</th>\n      <th>rate_non_stop_words_content</th>\n      <th>rate_unique_non_stop_words_content</th>\n      <th>number_links</th>\n      <th>number_links_to_mashable</th>\n      <th>number_imgs</th>\n      <th>number_videos</th>\n      <th>...</th>\n      <th>min_polarity_in_positive_words</th>\n      <th>max_polarity_in_positive_words</th>\n      <th>avg_polarity_in_negative_words</th>\n      <th>min_polarity_in_negative_words</th>\n      <th>max_polarity_in_negative_words</th>\n      <th>title_sentiment_subjectivity</th>\n      <th>title_sentiment_polarity</th>\n      <th>abs_title_subjectivity</th>\n      <th>abs_title_sentiment_polarity</th>\n      <th>shares</th>\n    </tr>\n  </thead>\n  <tbody>\n  </tbody>\n</table>\n<p>0 rows × 60 columns</p>\n</div>"
     },
     "metadata": {},
     "execution_count": 11
    }
   ],
   "source": [
    "from sklearn.experimental import enable_iterative_imputer\n",
    "from sklearn.impute import SimpleImputer\n",
    "from datasets import show_mvs\n",
    "\n",
    "columns = [' number_words_title']\n",
    "mvs_data = popularity_data[columns]\n",
    "\n",
    "imp = SimpleImputer(strategy='median')\n",
    "transformed_x= imp.fit_transform(mvs_data)\n",
    "popularity_data[' number_words_title'] = transformed_x\n",
    "\n",
    "display(popularity_data.loc[number_words_title_mvs.index])\n",
    "show_mvs(popularity_data)"
   ]
  },
  {
   "source": [
    "### Missing number words in title are no longer missing. There are no missing values anymore"
   ],
   "cell_type": "markdown",
   "metadata": {}
  },
  {
   "cell_type": "code",
   "execution_count": 12,
   "metadata": {},
   "outputs": [],
   "source": [
    "from datasets import get_cutpoints_for_percent, get_class_for_value\n",
    "classes = ['Very Bad', 'Bad', 'Moderate', 'Good', 'Very Good']\n",
    "\n",
    "sorted_shares = popularity_data.sort_values(by=' shares', ascending= True)\n",
    "\n",
    "classes_cutpoints = [\n",
    "    get_cutpoints_for_percent(sorted_shares, 0, .3, ' shares'),\n",
    "    get_cutpoints_for_percent(sorted_shares, .3, .5, ' shares'),\n",
    "    get_cutpoints_for_percent(sorted_shares, .5, .8, ' shares'),\n",
    "    get_cutpoints_for_percent(sorted_shares, .8, .95, ' shares'),\n",
    "    get_cutpoints_for_percent(sorted_shares, .95, 1, ' shares'),\n",
    "]\n",
    "\n",
    "popularity_data['share_class'] = popularity_data.apply(lambda row: get_class_for_value(row[' shares'], classes_cutpoints, classes), axis=1)\n",
    "popularity_data['share_class'] = popularity_data.apply(lambda row: classes.index(row['share_class']), axis=1)"
   ]
  },
  {
   "source": [
    "# Noise"
   ],
   "cell_type": "markdown",
   "metadata": {}
  },
  {
   "cell_type": "code",
   "execution_count": 13,
   "metadata": {},
   "outputs": [
    {
     "output_type": "stream",
     "name": "stdout",
     "text": [
      "False predictions\n"
     ]
    },
    {
     "output_type": "display_data",
     "data": {
      "text/plain": "(39644, 3)"
     },
     "metadata": {}
    },
    {
     "output_type": "display_data",
     "data": {
      "text/plain": "       Prediction  share_class  Correct Prediction\n0               2            0               False\n1               2            0               False\n2               0            1                True\n3               2            1                True\n4               2            0               False\n...           ...          ...                 ...\n39639           1            1                True\n39640           1            1                True\n39641           1            1                True\n39642           1            1                True\n39643           1            1                True\n\n[39644 rows x 3 columns]",
      "text/html": "<div>\n<style scoped>\n    .dataframe tbody tr th:only-of-type {\n        vertical-align: middle;\n    }\n\n    .dataframe tbody tr th {\n        vertical-align: top;\n    }\n\n    .dataframe thead th {\n        text-align: right;\n    }\n</style>\n<table border=\"1\" class=\"dataframe\">\n  <thead>\n    <tr style=\"text-align: right;\">\n      <th></th>\n      <th>Prediction</th>\n      <th>share_class</th>\n      <th>Correct Prediction</th>\n    </tr>\n  </thead>\n  <tbody>\n    <tr>\n      <th>0</th>\n      <td>2</td>\n      <td>0</td>\n      <td>False</td>\n    </tr>\n    <tr>\n      <th>1</th>\n      <td>2</td>\n      <td>0</td>\n      <td>False</td>\n    </tr>\n    <tr>\n      <th>2</th>\n      <td>0</td>\n      <td>1</td>\n      <td>True</td>\n    </tr>\n    <tr>\n      <th>3</th>\n      <td>2</td>\n      <td>1</td>\n      <td>True</td>\n    </tr>\n    <tr>\n      <th>4</th>\n      <td>2</td>\n      <td>0</td>\n      <td>False</td>\n    </tr>\n    <tr>\n      <th>...</th>\n      <td>...</td>\n      <td>...</td>\n      <td>...</td>\n    </tr>\n    <tr>\n      <th>39639</th>\n      <td>1</td>\n      <td>1</td>\n      <td>True</td>\n    </tr>\n    <tr>\n      <th>39640</th>\n      <td>1</td>\n      <td>1</td>\n      <td>True</td>\n    </tr>\n    <tr>\n      <th>39641</th>\n      <td>1</td>\n      <td>1</td>\n      <td>True</td>\n    </tr>\n    <tr>\n      <th>39642</th>\n      <td>1</td>\n      <td>1</td>\n      <td>True</td>\n    </tr>\n    <tr>\n      <th>39643</th>\n      <td>1</td>\n      <td>1</td>\n      <td>True</td>\n    </tr>\n  </tbody>\n</table>\n<p>39644 rows × 3 columns</p>\n</div>"
     },
     "metadata": {}
    },
    {
     "output_type": "display_data",
     "data": {
      "text/plain": "(3538, 3)"
     },
     "metadata": {}
    },
    {
     "output_type": "display_data",
     "data": {
      "text/plain": "       Prediction  share_class  Correct Prediction\n0               2            0               False\n1               2            0               False\n4               2            0               False\n6               2            0               False\n7               2            0               False\n...           ...          ...                 ...\n39503           1            3               False\n39537           1            3               False\n39542           1            3               False\n39595           0            2               False\n39621           1            3               False\n\n[3538 rows x 3 columns]",
      "text/html": "<div>\n<style scoped>\n    .dataframe tbody tr th:only-of-type {\n        vertical-align: middle;\n    }\n\n    .dataframe tbody tr th {\n        vertical-align: top;\n    }\n\n    .dataframe thead th {\n        text-align: right;\n    }\n</style>\n<table border=\"1\" class=\"dataframe\">\n  <thead>\n    <tr style=\"text-align: right;\">\n      <th></th>\n      <th>Prediction</th>\n      <th>share_class</th>\n      <th>Correct Prediction</th>\n    </tr>\n  </thead>\n  <tbody>\n    <tr>\n      <th>0</th>\n      <td>2</td>\n      <td>0</td>\n      <td>False</td>\n    </tr>\n    <tr>\n      <th>1</th>\n      <td>2</td>\n      <td>0</td>\n      <td>False</td>\n    </tr>\n    <tr>\n      <th>4</th>\n      <td>2</td>\n      <td>0</td>\n      <td>False</td>\n    </tr>\n    <tr>\n      <th>6</th>\n      <td>2</td>\n      <td>0</td>\n      <td>False</td>\n    </tr>\n    <tr>\n      <th>7</th>\n      <td>2</td>\n      <td>0</td>\n      <td>False</td>\n    </tr>\n    <tr>\n      <th>...</th>\n      <td>...</td>\n      <td>...</td>\n      <td>...</td>\n    </tr>\n    <tr>\n      <th>39503</th>\n      <td>1</td>\n      <td>3</td>\n      <td>False</td>\n    </tr>\n    <tr>\n      <th>39537</th>\n      <td>1</td>\n      <td>3</td>\n      <td>False</td>\n    </tr>\n    <tr>\n      <th>39542</th>\n      <td>1</td>\n      <td>3</td>\n      <td>False</td>\n    </tr>\n    <tr>\n      <th>39595</th>\n      <td>0</td>\n      <td>2</td>\n      <td>False</td>\n    </tr>\n    <tr>\n      <th>39621</th>\n      <td>1</td>\n      <td>3</td>\n      <td>False</td>\n    </tr>\n  </tbody>\n</table>\n<p>3538 rows × 3 columns</p>\n</div>"
     },
     "metadata": {}
    }
   ],
   "source": [
    "from datasets import get_noises\n",
    "\n",
    "x = popularity_data.drop(' shares', axis=1).drop('share_class', axis=1)\n",
    "y = popularity_data['share_class']\n",
    "\n",
    "(result, delta_result) = get_noises(x,y,'share_class', threshold=2)\n",
    "\n",
    "display(result.shape)\n",
    "display(result)\n",
    "\n",
    "display(delta_result.shape)\n",
    "display(delta_result)"
   ]
  },
  {
   "source": [
    "despite our attempts to correct noises, the overall model accuracies decreased. Because of this, our attempt is to directly delete noises."
   ],
   "cell_type": "markdown",
   "metadata": {}
  },
  {
   "cell_type": "code",
   "execution_count": 14,
   "metadata": {},
   "outputs": [
    {
     "output_type": "display_data",
     "data": {
      "text/plain": "(36106, 61)"
     },
     "metadata": {}
    }
   ],
   "source": [
    "popularity_data.drop(delta_result.index, inplace=True)\n",
    "\n",
    "display(popularity_data.shape)"
   ]
  },
  {
   "source": [
    "# Outliers"
   ],
   "cell_type": "markdown",
   "metadata": {}
  },
  {
   "cell_type": "code",
   "execution_count": 16,
   "metadata": {},
   "outputs": [
    {
     "output_type": "stream",
     "name": "stdout",
     "text": [
      "Inliers:  32495 Outliers: 3611\n"
     ]
    },
    {
     "output_type": "display_data",
     "data": {
      "text/plain": "       days_article_dataset   number_words_title  number_words_content  \\\n13                      731                  9.0                   285   \n19                      731                  8.0                  1207   \n23                      731                 11.0                   125   \n24                      731                 13.0                   244   \n27                      731                 12.0                  1225   \n...                     ...                  ...                   ...   \n39600                     9                 11.0                  1166   \n39601                     9                 12.0                     0   \n39613                     9                 12.0                     0   \n39615                     9                 11.0                     0   \n39616                     9                 15.0                     0   \n\n       rate_unique_words_content  rate_non_stop_words_content  \\\n13                      0.744186                          1.0   \n19                      0.410579                          1.0   \n23                      0.674797                          1.0   \n24                      0.560000                          1.0   \n27                      0.385452                          1.0   \n...                          ...                          ...   \n39600                   0.508254                          1.0   \n39601                   0.000000                          0.0   \n39613                   0.000000                          0.0   \n39615                   0.000000                          0.0   \n39616                   0.000000                          0.0   \n\n       rate_unique_non_stop_words_content  number_links  \\\n13                               0.841530             4   \n19                               0.548969            24   \n23                               0.797468             1   \n24                               0.680272             3   \n27                               0.508519            22   \n...                                   ...           ...   \n39600                            0.736842             5   \n39601                            0.000000             0   \n39613                            0.000000             0   \n39615                            0.000000             0   \n39616                            0.000000             0   \n\n        number_links_to_mashable   number_imgs   number_videos  ...  \\\n13                             2             0              21  ...   \n19                            24            42               0  ...   \n23                             1             1               0  ...   \n24                             2             1               0  ...   \n27                            22            28               0  ...   \n...                          ...           ...             ...  ...   \n39600                          1             1               8  ...   \n39601                          0             0               1  ...   \n39613                          0            14               0  ...   \n39615                          0            21               1  ...   \n39616                          0             0               1  ...   \n\n        avg_polarity_in_positive_words   min_polarity_in_positive_words  \\\n13                            0.457500                         0.160000   \n19                            0.426568                         0.100000   \n23                            0.281061                         0.100000   \n24                            0.292424                         0.136364   \n27                            0.417415                         0.050000   \n...                                ...                              ...   \n39600                         0.428335                         0.100000   \n39601                         0.000000                         0.000000   \n39613                         0.000000                         0.000000   \n39615                         0.000000                         0.000000   \n39616                         0.000000                         0.000000   \n\n        max_polarity_in_positive_words   avg_polarity_in_negative_words  \\\n13                            1.000000                        -0.337889   \n19                            1.000000                        -0.226786   \n23                            0.600000                         0.000000   \n24                            0.433333                        -0.456481   \n27                            1.000000                        -0.202292   \n...                                ...                              ...   \n39600                         1.000000                        -0.310903   \n39601                         0.000000                         0.000000   \n39613                         0.000000                         0.000000   \n39615                         0.000000                         0.000000   \n39616                         0.000000                         0.000000   \n\n        min_polarity_in_negative_words   max_polarity_in_negative_words  \\\n13                                -0.7                           -0.100   \n19                                -0.5                           -0.050   \n23                                 0.0                            0.000   \n24                                -1.0                           -0.125   \n27                                -0.5                           -0.050   \n...                                ...                              ...   \n39600                             -0.7                           -0.125   \n39601                              0.0                            0.000   \n39613                              0.0                            0.000   \n39615                              0.0                            0.000   \n39616                              0.0                            0.000   \n\n        title_sentiment_subjectivity   title_sentiment_polarity  \\\n13                          1.000000                  -1.000000   \n19                          0.500000                   0.000000   \n23                          0.450000                   0.400000   \n24                          0.700000                  -0.400000   \n27                          0.500000                   0.500000   \n...                              ...                        ...   \n39600                       0.300000                   1.000000   \n39601                       0.625000                   0.400000   \n39613                       0.000000                   0.000000   \n39615                       0.454545                   0.136364   \n39616                       0.454545                   0.136364   \n\n        abs_title_subjectivity   abs_title_sentiment_polarity  \n13                    0.500000                       1.000000  \n19                    0.000000                       0.000000  \n23                    0.050000                       0.400000  \n24                    0.200000                       0.400000  \n27                    0.000000                       0.500000  \n...                        ...                            ...  \n39600                 0.200000                       1.000000  \n39601                 0.125000                       0.400000  \n39613                 0.500000                       0.000000  \n39615                 0.045455                       0.136364  \n39616                 0.045455                       0.136364  \n\n[3611 rows x 59 columns]",
      "text/html": "<div>\n<style scoped>\n    .dataframe tbody tr th:only-of-type {\n        vertical-align: middle;\n    }\n\n    .dataframe tbody tr th {\n        vertical-align: top;\n    }\n\n    .dataframe thead th {\n        text-align: right;\n    }\n</style>\n<table border=\"1\" class=\"dataframe\">\n  <thead>\n    <tr style=\"text-align: right;\">\n      <th></th>\n      <th>days_article_dataset</th>\n      <th>number_words_title</th>\n      <th>number_words_content</th>\n      <th>rate_unique_words_content</th>\n      <th>rate_non_stop_words_content</th>\n      <th>rate_unique_non_stop_words_content</th>\n      <th>number_links</th>\n      <th>number_links_to_mashable</th>\n      <th>number_imgs</th>\n      <th>number_videos</th>\n      <th>...</th>\n      <th>avg_polarity_in_positive_words</th>\n      <th>min_polarity_in_positive_words</th>\n      <th>max_polarity_in_positive_words</th>\n      <th>avg_polarity_in_negative_words</th>\n      <th>min_polarity_in_negative_words</th>\n      <th>max_polarity_in_negative_words</th>\n      <th>title_sentiment_subjectivity</th>\n      <th>title_sentiment_polarity</th>\n      <th>abs_title_subjectivity</th>\n      <th>abs_title_sentiment_polarity</th>\n    </tr>\n  </thead>\n  <tbody>\n    <tr>\n      <th>13</th>\n      <td>731</td>\n      <td>9.0</td>\n      <td>285</td>\n      <td>0.744186</td>\n      <td>1.0</td>\n      <td>0.841530</td>\n      <td>4</td>\n      <td>2</td>\n      <td>0</td>\n      <td>21</td>\n      <td>...</td>\n      <td>0.457500</td>\n      <td>0.160000</td>\n      <td>1.000000</td>\n      <td>-0.337889</td>\n      <td>-0.7</td>\n      <td>-0.100</td>\n      <td>1.000000</td>\n      <td>-1.000000</td>\n      <td>0.500000</td>\n      <td>1.000000</td>\n    </tr>\n    <tr>\n      <th>19</th>\n      <td>731</td>\n      <td>8.0</td>\n      <td>1207</td>\n      <td>0.410579</td>\n      <td>1.0</td>\n      <td>0.548969</td>\n      <td>24</td>\n      <td>24</td>\n      <td>42</td>\n      <td>0</td>\n      <td>...</td>\n      <td>0.426568</td>\n      <td>0.100000</td>\n      <td>1.000000</td>\n      <td>-0.226786</td>\n      <td>-0.5</td>\n      <td>-0.050</td>\n      <td>0.500000</td>\n      <td>0.000000</td>\n      <td>0.000000</td>\n      <td>0.000000</td>\n    </tr>\n    <tr>\n      <th>23</th>\n      <td>731</td>\n      <td>11.0</td>\n      <td>125</td>\n      <td>0.674797</td>\n      <td>1.0</td>\n      <td>0.797468</td>\n      <td>1</td>\n      <td>1</td>\n      <td>1</td>\n      <td>0</td>\n      <td>...</td>\n      <td>0.281061</td>\n      <td>0.100000</td>\n      <td>0.600000</td>\n      <td>0.000000</td>\n      <td>0.0</td>\n      <td>0.000</td>\n      <td>0.450000</td>\n      <td>0.400000</td>\n      <td>0.050000</td>\n      <td>0.400000</td>\n    </tr>\n    <tr>\n      <th>24</th>\n      <td>731</td>\n      <td>13.0</td>\n      <td>244</td>\n      <td>0.560000</td>\n      <td>1.0</td>\n      <td>0.680272</td>\n      <td>3</td>\n      <td>2</td>\n      <td>1</td>\n      <td>0</td>\n      <td>...</td>\n      <td>0.292424</td>\n      <td>0.136364</td>\n      <td>0.433333</td>\n      <td>-0.456481</td>\n      <td>-1.0</td>\n      <td>-0.125</td>\n      <td>0.700000</td>\n      <td>-0.400000</td>\n      <td>0.200000</td>\n      <td>0.400000</td>\n    </tr>\n    <tr>\n      <th>27</th>\n      <td>731</td>\n      <td>12.0</td>\n      <td>1225</td>\n      <td>0.385452</td>\n      <td>1.0</td>\n      <td>0.508519</td>\n      <td>22</td>\n      <td>22</td>\n      <td>28</td>\n      <td>0</td>\n      <td>...</td>\n      <td>0.417415</td>\n      <td>0.050000</td>\n      <td>1.000000</td>\n      <td>-0.202292</td>\n      <td>-0.5</td>\n      <td>-0.050</td>\n      <td>0.500000</td>\n      <td>0.500000</td>\n      <td>0.000000</td>\n      <td>0.500000</td>\n    </tr>\n    <tr>\n      <th>...</th>\n      <td>...</td>\n      <td>...</td>\n      <td>...</td>\n      <td>...</td>\n      <td>...</td>\n      <td>...</td>\n      <td>...</td>\n      <td>...</td>\n      <td>...</td>\n      <td>...</td>\n      <td>...</td>\n      <td>...</td>\n      <td>...</td>\n      <td>...</td>\n      <td>...</td>\n      <td>...</td>\n      <td>...</td>\n      <td>...</td>\n      <td>...</td>\n      <td>...</td>\n      <td>...</td>\n    </tr>\n    <tr>\n      <th>39600</th>\n      <td>9</td>\n      <td>11.0</td>\n      <td>1166</td>\n      <td>0.508254</td>\n      <td>1.0</td>\n      <td>0.736842</td>\n      <td>5</td>\n      <td>1</td>\n      <td>1</td>\n      <td>8</td>\n      <td>...</td>\n      <td>0.428335</td>\n      <td>0.100000</td>\n      <td>1.000000</td>\n      <td>-0.310903</td>\n      <td>-0.7</td>\n      <td>-0.125</td>\n      <td>0.300000</td>\n      <td>1.000000</td>\n      <td>0.200000</td>\n      <td>1.000000</td>\n    </tr>\n    <tr>\n      <th>39601</th>\n      <td>9</td>\n      <td>12.0</td>\n      <td>0</td>\n      <td>0.000000</td>\n      <td>0.0</td>\n      <td>0.000000</td>\n      <td>0</td>\n      <td>0</td>\n      <td>0</td>\n      <td>1</td>\n      <td>...</td>\n      <td>0.000000</td>\n      <td>0.000000</td>\n      <td>0.000000</td>\n      <td>0.000000</td>\n      <td>0.0</td>\n      <td>0.000</td>\n      <td>0.625000</td>\n      <td>0.400000</td>\n      <td>0.125000</td>\n      <td>0.400000</td>\n    </tr>\n    <tr>\n      <th>39613</th>\n      <td>9</td>\n      <td>12.0</td>\n      <td>0</td>\n      <td>0.000000</td>\n      <td>0.0</td>\n      <td>0.000000</td>\n      <td>0</td>\n      <td>0</td>\n      <td>14</td>\n      <td>0</td>\n      <td>...</td>\n      <td>0.000000</td>\n      <td>0.000000</td>\n      <td>0.000000</td>\n      <td>0.000000</td>\n      <td>0.0</td>\n      <td>0.000</td>\n      <td>0.000000</td>\n      <td>0.000000</td>\n      <td>0.500000</td>\n      <td>0.000000</td>\n    </tr>\n    <tr>\n      <th>39615</th>\n      <td>9</td>\n      <td>11.0</td>\n      <td>0</td>\n      <td>0.000000</td>\n      <td>0.0</td>\n      <td>0.000000</td>\n      <td>0</td>\n      <td>0</td>\n      <td>21</td>\n      <td>1</td>\n      <td>...</td>\n      <td>0.000000</td>\n      <td>0.000000</td>\n      <td>0.000000</td>\n      <td>0.000000</td>\n      <td>0.0</td>\n      <td>0.000</td>\n      <td>0.454545</td>\n      <td>0.136364</td>\n      <td>0.045455</td>\n      <td>0.136364</td>\n    </tr>\n    <tr>\n      <th>39616</th>\n      <td>9</td>\n      <td>15.0</td>\n      <td>0</td>\n      <td>0.000000</td>\n      <td>0.0</td>\n      <td>0.000000</td>\n      <td>0</td>\n      <td>0</td>\n      <td>0</td>\n      <td>1</td>\n      <td>...</td>\n      <td>0.000000</td>\n      <td>0.000000</td>\n      <td>0.000000</td>\n      <td>0.000000</td>\n      <td>0.0</td>\n      <td>0.000</td>\n      <td>0.454545</td>\n      <td>0.136364</td>\n      <td>0.045455</td>\n      <td>0.136364</td>\n    </tr>\n  </tbody>\n</table>\n<p>3611 rows × 59 columns</p>\n</div>"
     },
     "metadata": {}
    }
   ],
   "source": [
    "from datasets import get_outliers\n",
    "\n",
    "x = popularity_data.drop(' shares', axis=1).drop('share_class', axis=1)\n",
    "y = popularity_data['share_class']\n",
    "\n",
    "outliers = get_outliers(x,y)\n",
    "\n",
    "display(outliers)"
   ]
  },
  {
   "source": [
    "As discussed with the noises, we delete outliers"
   ],
   "cell_type": "markdown",
   "metadata": {}
  },
  {
   "cell_type": "code",
   "execution_count": 17,
   "metadata": {},
   "outputs": [
    {
     "output_type": "display_data",
     "data": {
      "text/plain": "(32495, 61)"
     },
     "metadata": {}
    }
   ],
   "source": [
    "popularity_data.drop(outliers.index, inplace=True)\n",
    "\n",
    "display(popularity_data.shape)"
   ]
  },
  {
   "source": [
    "# Feature Reduction"
   ],
   "cell_type": "markdown",
   "metadata": {}
  },
  {
   "source": [
    "--> remove is_weekend \n",
    "\n",
    "--> remove is_sunday\n",
    "\n",
    "--> remove LDA_00\n",
    "\n",
    "--> remove average_word_length\n",
    "\n",
    "--> remove avg_polarity_in_positive_words\n",
    "\n",
    "--> remove avg_polarity_in_negative_words\n",
    "\n",
    "--> remove global_rate_positive_words\n",
    "\n",
    "--> remove max_polarity_in_positive_words\n",
    "\n",
    "--> remove number_words_title"
   ],
   "cell_type": "markdown",
   "metadata": {}
  },
  {
   "cell_type": "code",
   "execution_count": 18,
   "metadata": {},
   "outputs": [
    {
     "output_type": "display_data",
     "data": {
      "text/plain": "(32495, 60)"
     },
     "metadata": {}
    },
    {
     "output_type": "display_data",
     "data": {
      "text/plain": "(32495, 59)"
     },
     "metadata": {}
    },
    {
     "output_type": "display_data",
     "data": {
      "text/plain": "(32495, 58)"
     },
     "metadata": {}
    },
    {
     "output_type": "display_data",
     "data": {
      "text/plain": "(32495, 57)"
     },
     "metadata": {}
    },
    {
     "output_type": "display_data",
     "data": {
      "text/plain": "(32495, 56)"
     },
     "metadata": {}
    },
    {
     "output_type": "display_data",
     "data": {
      "text/plain": "(32495, 55)"
     },
     "metadata": {}
    },
    {
     "output_type": "display_data",
     "data": {
      "text/plain": "(32495, 54)"
     },
     "metadata": {}
    },
    {
     "output_type": "display_data",
     "data": {
      "text/plain": "(32495, 53)"
     },
     "metadata": {}
    },
    {
     "output_type": "display_data",
     "data": {
      "text/plain": "(32495, 52)"
     },
     "metadata": {}
    }
   ],
   "source": [
    "popularity_data = popularity_data.drop(' is_weekend', axis=1)\n",
    "display(popularity_data.shape)\n",
    "popularity_data = popularity_data.drop(' is_sunday', axis=1)\n",
    "display(popularity_data.shape)\n",
    "popularity_data = popularity_data.drop(' LDA_00', axis=1)\n",
    "display(popularity_data.shape)\n",
    "popularity_data = popularity_data.drop(' average_word_length', axis=1)\n",
    "display(popularity_data.shape)\n",
    "popularity_data = popularity_data.drop(' avg_polarity_in_positive_words', axis=1)\n",
    "display(popularity_data.shape)\n",
    "popularity_data = popularity_data.drop(' avg_polarity_in_negative_words', axis=1)\n",
    "display(popularity_data.shape)\n",
    "popularity_data = popularity_data.drop(' global_rate_positive_words', axis=1)\n",
    "display(popularity_data.shape)\n",
    "popularity_data = popularity_data.drop(' max_polarity_in_positive_words', axis=1)\n",
    "display(popularity_data.shape)\n",
    "popularity_data = popularity_data.drop(' number_words_title', axis=1)\n",
    "display(popularity_data.shape)\n"
   ]
  },
  {
   "source": [
    "# Feature Scaling"
   ],
   "cell_type": "markdown",
   "metadata": {}
  },
  {
   "source": [
    "As proposed by exploration, scale all features"
   ],
   "cell_type": "markdown",
   "metadata": {}
  },
  {
   "cell_type": "code",
   "execution_count": 22,
   "metadata": {},
   "outputs": [
    {
     "output_type": "display_data",
     "data": {
      "text/plain": "       days_article_dataset  number_words_content  rate_unique_words_content  \\\n2                       1.0              0.046826                   0.487999   \n3                       1.0              0.009880                   0.616217   \n5                       1.0              0.022060                   0.612219   \n8                       1.0              0.148058                   0.432750   \n10                      1.0              0.165652                   0.291102   \n...                     ...                   ...                        ...   \n39639                   8.0            346.000000                   0.529052   \n39640                   8.0            328.000000                   0.696296   \n39641                   8.0            442.000000                   0.516355   \n39642                   8.0            682.000000                   0.539493   \n39643                   8.0            157.000000                   0.701987   \n\n       rate_non_stop_words_content  rate_unique_non_stop_words_content  \\\n2                         0.929577                            0.643418   \n3                         0.718310                            0.807100   \n5                         0.873239                            0.763698   \n8                         0.985915                            0.657090   \n10                        0.985915                            0.436877   \n...                            ...                                 ...   \n39639                     1.000000                            0.684783   \n39640                     1.000000                            0.885057   \n39641                     1.000000                            0.644128   \n39642                     1.000000                            0.692661   \n39643                     1.000000                            0.846154   \n\n       number_links   number_links_to_mashable   number_imgs   number_videos  \\\n2          0.006579                   0.035714      0.000000        0.000000   \n3          0.006579                   0.000000      0.000000        0.000000   \n5          0.023026                   0.000000      0.009259        0.000000   \n8          0.085526                   0.321429      0.111111        0.013514   \n10         0.069079                   0.339286      0.185185        0.000000   \n...             ...                        ...           ...             ...   \n39639      9.000000                   7.000000      1.000000        1.000000   \n39640      9.000000                   7.000000      3.000000       48.000000   \n39641     24.000000                   1.000000     12.000000        1.000000   \n39642     10.000000                   1.000000      1.000000        0.000000   \n39643      1.000000                   1.000000      0.000000        2.000000   \n\n        number_keywords  ...   rate_negative_words  \\\n2              0.888889  ...              0.476190   \n3              0.666667  ...              0.400000   \n5              0.666667  ...              0.285714   \n8              0.444444  ...              0.386667   \n10             1.000000  ...              0.141414   \n...                 ...  ...                   ...   \n39639          8.000000  ...              0.277778   \n39640          7.000000  ...              0.187500   \n39641          8.000000  ...              0.423077   \n39642          5.000000  ...              0.533333   \n39643          4.000000  ...              0.166667   \n\n        min_polarity_in_positive_words   min_polarity_in_negative_words  \\\n2                             0.136364                            0.600   \n3                             0.400000                            0.875   \n5                             0.200000                            0.600   \n8                             0.100000                            0.000   \n10                            0.100000                            0.500   \n...                                ...                              ...   \n39639                         0.100000                           -0.500   \n39640                         0.136364                           -0.400   \n39641                         0.136364                           -0.800   \n39642                         0.062500                           -0.500   \n39643                         0.100000                           -0.200   \n\n        max_polarity_in_negative_words   title_sentiment_subjectivity  \\\n2                             0.900000                       0.642857   \n3                             0.875000                       0.125000   \n5                             0.875000                       0.000000   \n8                             0.950000                       0.566667   \n10                            0.950000                       0.000000   \n...                                ...                            ...   \n39639                        -0.125000                       0.100000   \n39640                        -0.100000                       0.300000   \n39641                        -0.166667                       0.454545   \n39642                        -0.012500                       0.000000   \n39643                        -0.200000                       0.333333   \n\n        title_sentiment_polarity   abs_title_subjectivity  \\\n2                       0.607143                 0.285714   \n3                       0.500000                 0.750000   \n5                       0.500000                 1.000000   \n8                       0.450000                 0.133333   \n10                      0.500000                 1.000000   \n...                          ...                      ...   \n39639                   0.000000                 0.400000   \n39640                   1.000000                 0.200000   \n39641                   0.136364                 0.045455   \n39642                   0.000000                 0.500000   \n39643                   0.250000                 0.166667   \n\n        abs_title_sentiment_polarity   shares  share_class  \n2                           0.214286     1500            1  \n3                           0.000000     1200            1  \n5                           0.000000      855            0  \n8                           0.100000     3600            2  \n10                          0.000000     2200            1  \n...                              ...      ...          ...  \n39639                       0.000000     1800            1  \n39640                       1.000000     1900            1  \n39641                       0.136364     1900            1  \n39642                       0.000000     1100            1  \n39643                       0.250000     1300            1  \n\n[32495 rows x 52 columns]",
      "text/html": "<div>\n<style scoped>\n    .dataframe tbody tr th:only-of-type {\n        vertical-align: middle;\n    }\n\n    .dataframe tbody tr th {\n        vertical-align: top;\n    }\n\n    .dataframe thead th {\n        text-align: right;\n    }\n</style>\n<table border=\"1\" class=\"dataframe\">\n  <thead>\n    <tr style=\"text-align: right;\">\n      <th></th>\n      <th>days_article_dataset</th>\n      <th>number_words_content</th>\n      <th>rate_unique_words_content</th>\n      <th>rate_non_stop_words_content</th>\n      <th>rate_unique_non_stop_words_content</th>\n      <th>number_links</th>\n      <th>number_links_to_mashable</th>\n      <th>number_imgs</th>\n      <th>number_videos</th>\n      <th>number_keywords</th>\n      <th>...</th>\n      <th>rate_negative_words</th>\n      <th>min_polarity_in_positive_words</th>\n      <th>min_polarity_in_negative_words</th>\n      <th>max_polarity_in_negative_words</th>\n      <th>title_sentiment_subjectivity</th>\n      <th>title_sentiment_polarity</th>\n      <th>abs_title_subjectivity</th>\n      <th>abs_title_sentiment_polarity</th>\n      <th>shares</th>\n      <th>share_class</th>\n    </tr>\n  </thead>\n  <tbody>\n    <tr>\n      <th>2</th>\n      <td>1.0</td>\n      <td>0.046826</td>\n      <td>0.487999</td>\n      <td>0.929577</td>\n      <td>0.643418</td>\n      <td>0.006579</td>\n      <td>0.035714</td>\n      <td>0.000000</td>\n      <td>0.000000</td>\n      <td>0.888889</td>\n      <td>...</td>\n      <td>0.476190</td>\n      <td>0.136364</td>\n      <td>0.600</td>\n      <td>0.900000</td>\n      <td>0.642857</td>\n      <td>0.607143</td>\n      <td>0.285714</td>\n      <td>0.214286</td>\n      <td>1500</td>\n      <td>1</td>\n    </tr>\n    <tr>\n      <th>3</th>\n      <td>1.0</td>\n      <td>0.009880</td>\n      <td>0.616217</td>\n      <td>0.718310</td>\n      <td>0.807100</td>\n      <td>0.006579</td>\n      <td>0.000000</td>\n      <td>0.000000</td>\n      <td>0.000000</td>\n      <td>0.666667</td>\n      <td>...</td>\n      <td>0.400000</td>\n      <td>0.400000</td>\n      <td>0.875</td>\n      <td>0.875000</td>\n      <td>0.125000</td>\n      <td>0.500000</td>\n      <td>0.750000</td>\n      <td>0.000000</td>\n      <td>1200</td>\n      <td>1</td>\n    </tr>\n    <tr>\n      <th>5</th>\n      <td>1.0</td>\n      <td>0.022060</td>\n      <td>0.612219</td>\n      <td>0.873239</td>\n      <td>0.763698</td>\n      <td>0.023026</td>\n      <td>0.000000</td>\n      <td>0.009259</td>\n      <td>0.000000</td>\n      <td>0.666667</td>\n      <td>...</td>\n      <td>0.285714</td>\n      <td>0.200000</td>\n      <td>0.600</td>\n      <td>0.875000</td>\n      <td>0.000000</td>\n      <td>0.500000</td>\n      <td>1.000000</td>\n      <td>0.000000</td>\n      <td>855</td>\n      <td>0</td>\n    </tr>\n    <tr>\n      <th>8</th>\n      <td>1.0</td>\n      <td>0.148058</td>\n      <td>0.432750</td>\n      <td>0.985915</td>\n      <td>0.657090</td>\n      <td>0.085526</td>\n      <td>0.321429</td>\n      <td>0.111111</td>\n      <td>0.013514</td>\n      <td>0.444444</td>\n      <td>...</td>\n      <td>0.386667</td>\n      <td>0.100000</td>\n      <td>0.000</td>\n      <td>0.950000</td>\n      <td>0.566667</td>\n      <td>0.450000</td>\n      <td>0.133333</td>\n      <td>0.100000</td>\n      <td>3600</td>\n      <td>2</td>\n    </tr>\n    <tr>\n      <th>10</th>\n      <td>1.0</td>\n      <td>0.165652</td>\n      <td>0.291102</td>\n      <td>0.985915</td>\n      <td>0.436877</td>\n      <td>0.069079</td>\n      <td>0.339286</td>\n      <td>0.185185</td>\n      <td>0.000000</td>\n      <td>1.000000</td>\n      <td>...</td>\n      <td>0.141414</td>\n      <td>0.100000</td>\n      <td>0.500</td>\n      <td>0.950000</td>\n      <td>0.000000</td>\n      <td>0.500000</td>\n      <td>1.000000</td>\n      <td>0.000000</td>\n      <td>2200</td>\n      <td>1</td>\n    </tr>\n    <tr>\n      <th>...</th>\n      <td>...</td>\n      <td>...</td>\n      <td>...</td>\n      <td>...</td>\n      <td>...</td>\n      <td>...</td>\n      <td>...</td>\n      <td>...</td>\n      <td>...</td>\n      <td>...</td>\n      <td>...</td>\n      <td>...</td>\n      <td>...</td>\n      <td>...</td>\n      <td>...</td>\n      <td>...</td>\n      <td>...</td>\n      <td>...</td>\n      <td>...</td>\n      <td>...</td>\n      <td>...</td>\n    </tr>\n    <tr>\n      <th>39639</th>\n      <td>8.0</td>\n      <td>346.000000</td>\n      <td>0.529052</td>\n      <td>1.000000</td>\n      <td>0.684783</td>\n      <td>9.000000</td>\n      <td>7.000000</td>\n      <td>1.000000</td>\n      <td>1.000000</td>\n      <td>8.000000</td>\n      <td>...</td>\n      <td>0.277778</td>\n      <td>0.100000</td>\n      <td>-0.500</td>\n      <td>-0.125000</td>\n      <td>0.100000</td>\n      <td>0.000000</td>\n      <td>0.400000</td>\n      <td>0.000000</td>\n      <td>1800</td>\n      <td>1</td>\n    </tr>\n    <tr>\n      <th>39640</th>\n      <td>8.0</td>\n      <td>328.000000</td>\n      <td>0.696296</td>\n      <td>1.000000</td>\n      <td>0.885057</td>\n      <td>9.000000</td>\n      <td>7.000000</td>\n      <td>3.000000</td>\n      <td>48.000000</td>\n      <td>7.000000</td>\n      <td>...</td>\n      <td>0.187500</td>\n      <td>0.136364</td>\n      <td>-0.400</td>\n      <td>-0.100000</td>\n      <td>0.300000</td>\n      <td>1.000000</td>\n      <td>0.200000</td>\n      <td>1.000000</td>\n      <td>1900</td>\n      <td>1</td>\n    </tr>\n    <tr>\n      <th>39641</th>\n      <td>8.0</td>\n      <td>442.000000</td>\n      <td>0.516355</td>\n      <td>1.000000</td>\n      <td>0.644128</td>\n      <td>24.000000</td>\n      <td>1.000000</td>\n      <td>12.000000</td>\n      <td>1.000000</td>\n      <td>8.000000</td>\n      <td>...</td>\n      <td>0.423077</td>\n      <td>0.136364</td>\n      <td>-0.800</td>\n      <td>-0.166667</td>\n      <td>0.454545</td>\n      <td>0.136364</td>\n      <td>0.045455</td>\n      <td>0.136364</td>\n      <td>1900</td>\n      <td>1</td>\n    </tr>\n    <tr>\n      <th>39642</th>\n      <td>8.0</td>\n      <td>682.000000</td>\n      <td>0.539493</td>\n      <td>1.000000</td>\n      <td>0.692661</td>\n      <td>10.000000</td>\n      <td>1.000000</td>\n      <td>1.000000</td>\n      <td>0.000000</td>\n      <td>5.000000</td>\n      <td>...</td>\n      <td>0.533333</td>\n      <td>0.062500</td>\n      <td>-0.500</td>\n      <td>-0.012500</td>\n      <td>0.000000</td>\n      <td>0.000000</td>\n      <td>0.500000</td>\n      <td>0.000000</td>\n      <td>1100</td>\n      <td>1</td>\n    </tr>\n    <tr>\n      <th>39643</th>\n      <td>8.0</td>\n      <td>157.000000</td>\n      <td>0.701987</td>\n      <td>1.000000</td>\n      <td>0.846154</td>\n      <td>1.000000</td>\n      <td>1.000000</td>\n      <td>0.000000</td>\n      <td>2.000000</td>\n      <td>4.000000</td>\n      <td>...</td>\n      <td>0.166667</td>\n      <td>0.100000</td>\n      <td>-0.200</td>\n      <td>-0.200000</td>\n      <td>0.333333</td>\n      <td>0.250000</td>\n      <td>0.166667</td>\n      <td>0.250000</td>\n      <td>1300</td>\n      <td>1</td>\n    </tr>\n  </tbody>\n</table>\n<p>32495 rows × 52 columns</p>\n</div>"
     },
     "metadata": {}
    }
   ],
   "source": [
    "import pandas as pd\n",
    "\n",
    "from sklearn.preprocessing import MinMaxScaler\n",
    "scaler = MinMaxScaler()\n",
    "\n",
    "x = popularity_data.drop(' shares', axis=1).drop('share_class', axis=1)\n",
    "y = popularity_data['share_class']\n",
    "\n",
    "pop_normalized = pd.DataFrame(scaler.fit_transform(x), columns=x.columns)\n",
    "\n",
    "# Overwrite data with normalized data\n",
    "popularity_data.update(other=pop_normalized)\n",
    "\n",
    "display(popularity_data)"
   ]
  },
  {
   "source": [
    "# PCA"
   ],
   "cell_type": "markdown",
   "metadata": {}
  },
  {
   "cell_type": "code",
   "execution_count": 23,
   "metadata": {},
   "outputs": [
    {
     "output_type": "display_data",
     "data": {
      "text/plain": "                PCA1           PCA2           PCA3   shares  share_class\n2     -165327.504094     868.028787     -42.010314     1500            1\n3     -165327.504310     868.028561     -42.009655     1200            1\n5     -165327.504301     868.028549     -42.009645      855            0\n8     -165327.504044     868.028727     -42.010221     3600            2\n10    -165327.504016     868.028734     -42.010270     2200            1\n...              ...            ...            ...      ...          ...\n39639  756537.081334   62319.208236   -9794.625588     1800            1\n39640  692678.281539 -107636.881184   23226.024162     1900            1\n39641  728229.161670  -15541.887700   -5427.325559     1900            1\n39642  713810.384202  -54339.699114      92.156377     1100            1\n39643  756180.609834  105116.748600  165865.401716     1300            1\n\n[32495 rows x 5 columns]",
      "text/html": "<div>\n<style scoped>\n    .dataframe tbody tr th:only-of-type {\n        vertical-align: middle;\n    }\n\n    .dataframe tbody tr th {\n        vertical-align: top;\n    }\n\n    .dataframe thead th {\n        text-align: right;\n    }\n</style>\n<table border=\"1\" class=\"dataframe\">\n  <thead>\n    <tr style=\"text-align: right;\">\n      <th></th>\n      <th>PCA1</th>\n      <th>PCA2</th>\n      <th>PCA3</th>\n      <th>shares</th>\n      <th>share_class</th>\n    </tr>\n  </thead>\n  <tbody>\n    <tr>\n      <th>2</th>\n      <td>-165327.504094</td>\n      <td>868.028787</td>\n      <td>-42.010314</td>\n      <td>1500</td>\n      <td>1</td>\n    </tr>\n    <tr>\n      <th>3</th>\n      <td>-165327.504310</td>\n      <td>868.028561</td>\n      <td>-42.009655</td>\n      <td>1200</td>\n      <td>1</td>\n    </tr>\n    <tr>\n      <th>5</th>\n      <td>-165327.504301</td>\n      <td>868.028549</td>\n      <td>-42.009645</td>\n      <td>855</td>\n      <td>0</td>\n    </tr>\n    <tr>\n      <th>8</th>\n      <td>-165327.504044</td>\n      <td>868.028727</td>\n      <td>-42.010221</td>\n      <td>3600</td>\n      <td>2</td>\n    </tr>\n    <tr>\n      <th>10</th>\n      <td>-165327.504016</td>\n      <td>868.028734</td>\n      <td>-42.010270</td>\n      <td>2200</td>\n      <td>1</td>\n    </tr>\n    <tr>\n      <th>...</th>\n      <td>...</td>\n      <td>...</td>\n      <td>...</td>\n      <td>...</td>\n      <td>...</td>\n    </tr>\n    <tr>\n      <th>39639</th>\n      <td>756537.081334</td>\n      <td>62319.208236</td>\n      <td>-9794.625588</td>\n      <td>1800</td>\n      <td>1</td>\n    </tr>\n    <tr>\n      <th>39640</th>\n      <td>692678.281539</td>\n      <td>-107636.881184</td>\n      <td>23226.024162</td>\n      <td>1900</td>\n      <td>1</td>\n    </tr>\n    <tr>\n      <th>39641</th>\n      <td>728229.161670</td>\n      <td>-15541.887700</td>\n      <td>-5427.325559</td>\n      <td>1900</td>\n      <td>1</td>\n    </tr>\n    <tr>\n      <th>39642</th>\n      <td>713810.384202</td>\n      <td>-54339.699114</td>\n      <td>92.156377</td>\n      <td>1100</td>\n      <td>1</td>\n    </tr>\n    <tr>\n      <th>39643</th>\n      <td>756180.609834</td>\n      <td>105116.748600</td>\n      <td>165865.401716</td>\n      <td>1300</td>\n      <td>1</td>\n    </tr>\n  </tbody>\n</table>\n<p>32495 rows × 5 columns</p>\n</div>"
     },
     "metadata": {}
    }
   ],
   "source": [
    "from sklearn import decomposition\n",
    "\n",
    "#Perform PCA with 3 dimensions\n",
    "num_components=3\n",
    "pca = decomposition.PCA(n_components=3)\n",
    "#Only use features\n",
    "x=popularity_data.drop(' shares', axis=1).drop('share_class', axis=1)\n",
    "pca.fit(x)\n",
    "x_tran = pca.transform(x)\n",
    "y_tran = popularity_data[[' shares', 'share_class']]\n",
    "\n",
    "# Save PCA DataFrame for later use in evaluation\n",
    "pop_pca = pd.DataFrame(x_tran, columns=['PCA1', 'PCA2', 'PCA3'], index=popularity_data.index)\n",
    "pop_pca[[' shares', 'share_class']] = y_tran\n",
    "display(pop_pca)\n"
   ]
  },
  {
   "cell_type": "code",
   "execution_count": null,
   "metadata": {},
   "outputs": [],
   "source": []
  }
 ]
}