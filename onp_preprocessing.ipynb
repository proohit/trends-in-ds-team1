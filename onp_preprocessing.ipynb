{
 "metadata": {
  "language_info": {
   "codemirror_mode": {
    "name": "ipython",
    "version": 3
   },
   "file_extension": ".py",
   "mimetype": "text/x-python",
   "name": "python",
   "nbconvert_exporter": "python",
   "pygments_lexer": "ipython3",
   "version": "3.8.3-final"
  },
  "orig_nbformat": 2,
  "kernelspec": {
   "name": "python3",
   "display_name": "Python 3",
   "language": "python"
  }
 },
 "nbformat": 4,
 "nbformat_minor": 2,
 "cells": [
  {
   "cell_type": "code",
   "execution_count": 8,
   "metadata": {},
   "outputs": [],
   "source": [
    "from datasets import popularity_dataset\n",
    "\n",
    "popularity_data = popularity_dataset()"
   ]
  },
  {
   "source": [
    "MV's"
   ],
   "cell_type": "markdown",
   "metadata": {}
  },
  {
   "cell_type": "code",
   "execution_count": 9,
   "metadata": {},
   "outputs": [
    {
     "output_type": "display_data",
     "data": {
      "text/plain": "      days_article_dataset   number_words_title  number_words_content  \\\n36                     731                 10.0                  1244   \n83                     730                 12.0                   499   \n317                    726                 13.0                   293   \n818                    716                 11.0                   245   \n1220                   710                  NaN                   308   \n1221                   710                  NaN                   435   \n1222                   710                  NaN                   119   \n1223                   710                  NaN                   993   \n1489                   706                 11.0                   497   \n1716                   702                 10.0                   659   \n\n      rate_unique_words_content  rate_non_stop_words_content  \\\n36                     0.417547                          1.0   \n83                     0.513026                          1.0   \n317                    0.585366                          1.0   \n818                    0.642241                          1.0   \n1220                   0.616667                          1.0   \n1221                   0.458333                          1.0   \n1222                   0.705882                          1.0   \n1223                   0.449597                          1.0   \n1489                   0.522634                          1.0   \n1716                   0.357143                          1.0   \n\n      rate_unique_non_stop_words_content  number_links  \\\n36                              0.562579            27   \n83                              0.662252            14   \n317                             0.759036             6   \n818                             0.773585             7   \n1220                            0.714286            11   \n1221                            0.551020             3   \n1222                            0.861538             1   \n1223                            0.667870             2   \n1489                            0.713768             9   \n1716                            0.377320            44   \n\n       number_links_to_mashable   number_imgs   number_videos  ...  \\\n36                           22            20               0  ...   \n83                            1             1               0  ...   \n317                           5             1               0  ...   \n818                           0             1               0  ...   \n1220                          3             1               1  ...   \n1221                          2             1              13  ...   \n1222                          0             0               1  ...   \n1223                          1             1               0  ...   \n1489                          3             1               0  ...   \n1716                         40            31               1  ...   \n\n       min_polarity_in_positive_words   max_polarity_in_positive_words  \\\n36                           0.033333                              1.0   \n83                           0.100000                              0.5   \n317                          0.100000                              0.6   \n818                          0.100000                              0.5   \n1220                         0.200000                              0.6   \n1221                         0.100000                              0.5   \n1222                         0.100000                              1.0   \n1223                         0.100000                              1.0   \n1489                         0.100000                              1.0   \n1716                         0.100000                              0.9   \n\n       avg_polarity_in_negative_words   min_polarity_in_negative_words  \\\n36                          -0.230263                          -0.6000   \n83                          -0.235000                          -0.5000   \n317                         -0.162500                          -0.2000   \n818                         -0.400000                          -0.4000   \n1220                         0.000000                           0.0000   \n1221                        -0.350000                          -0.7000   \n1222                        -0.600000                          -0.6000   \n1223                        -0.285810                          -0.8000   \n1489                        -0.363333                          -0.7000   \n1716                        -0.183532                          -0.3125   \n\n       max_polarity_in_negative_words   title_sentiment_subjectivity  \\\n36                          -0.050000                           1.00   \n83                          -0.100000                           0.30   \n317                         -0.125000                           0.50   \n818                         -0.400000                           0.00   \n1220                         0.000000                           0.00   \n1221                        -0.125000                           0.30   \n1222                        -0.600000                           0.00   \n1223                        -0.050000                           0.85   \n1489                        -0.050000                           0.00   \n1716                        -0.071429                           0.00   \n\n       title_sentiment_polarity   abs_title_subjectivity  \\\n36                       -0.600                     0.50   \n83                        0.000                     0.20   \n317                       0.500                     0.00   \n818                       0.000                     0.50   \n1220                      0.000                     0.50   \n1221                      1.000                     0.20   \n1222                      0.000                     0.50   \n1223                      0.625                     0.35   \n1489                      0.000                     0.50   \n1716                      0.000                     0.50   \n\n       abs_title_sentiment_polarity   shares  \n36                            0.600     7700  \n83                            0.000     1200  \n317                           0.500     1700  \n818                           0.000      560  \n1220                          0.000      804  \n1221                          1.000     1200  \n1222                          0.000     8700  \n1223                          0.625     1900  \n1489                          0.000     3800  \n1716                          0.000     4300  \n\n[10 rows x 60 columns]",
      "text/html": "<div>\n<style scoped>\n    .dataframe tbody tr th:only-of-type {\n        vertical-align: middle;\n    }\n\n    .dataframe tbody tr th {\n        vertical-align: top;\n    }\n\n    .dataframe thead th {\n        text-align: right;\n    }\n</style>\n<table border=\"1\" class=\"dataframe\">\n  <thead>\n    <tr style=\"text-align: right;\">\n      <th></th>\n      <th>days_article_dataset</th>\n      <th>number_words_title</th>\n      <th>number_words_content</th>\n      <th>rate_unique_words_content</th>\n      <th>rate_non_stop_words_content</th>\n      <th>rate_unique_non_stop_words_content</th>\n      <th>number_links</th>\n      <th>number_links_to_mashable</th>\n      <th>number_imgs</th>\n      <th>number_videos</th>\n      <th>...</th>\n      <th>min_polarity_in_positive_words</th>\n      <th>max_polarity_in_positive_words</th>\n      <th>avg_polarity_in_negative_words</th>\n      <th>min_polarity_in_negative_words</th>\n      <th>max_polarity_in_negative_words</th>\n      <th>title_sentiment_subjectivity</th>\n      <th>title_sentiment_polarity</th>\n      <th>abs_title_subjectivity</th>\n      <th>abs_title_sentiment_polarity</th>\n      <th>shares</th>\n    </tr>\n  </thead>\n  <tbody>\n    <tr>\n      <th>36</th>\n      <td>731</td>\n      <td>10.0</td>\n      <td>1244</td>\n      <td>0.417547</td>\n      <td>1.0</td>\n      <td>0.562579</td>\n      <td>27</td>\n      <td>22</td>\n      <td>20</td>\n      <td>0</td>\n      <td>...</td>\n      <td>0.033333</td>\n      <td>1.0</td>\n      <td>-0.230263</td>\n      <td>-0.6000</td>\n      <td>-0.050000</td>\n      <td>1.00</td>\n      <td>-0.600</td>\n      <td>0.50</td>\n      <td>0.600</td>\n      <td>7700</td>\n    </tr>\n    <tr>\n      <th>83</th>\n      <td>730</td>\n      <td>12.0</td>\n      <td>499</td>\n      <td>0.513026</td>\n      <td>1.0</td>\n      <td>0.662252</td>\n      <td>14</td>\n      <td>1</td>\n      <td>1</td>\n      <td>0</td>\n      <td>...</td>\n      <td>0.100000</td>\n      <td>0.5</td>\n      <td>-0.235000</td>\n      <td>-0.5000</td>\n      <td>-0.100000</td>\n      <td>0.30</td>\n      <td>0.000</td>\n      <td>0.20</td>\n      <td>0.000</td>\n      <td>1200</td>\n    </tr>\n    <tr>\n      <th>317</th>\n      <td>726</td>\n      <td>13.0</td>\n      <td>293</td>\n      <td>0.585366</td>\n      <td>1.0</td>\n      <td>0.759036</td>\n      <td>6</td>\n      <td>5</td>\n      <td>1</td>\n      <td>0</td>\n      <td>...</td>\n      <td>0.100000</td>\n      <td>0.6</td>\n      <td>-0.162500</td>\n      <td>-0.2000</td>\n      <td>-0.125000</td>\n      <td>0.50</td>\n      <td>0.500</td>\n      <td>0.00</td>\n      <td>0.500</td>\n      <td>1700</td>\n    </tr>\n    <tr>\n      <th>818</th>\n      <td>716</td>\n      <td>11.0</td>\n      <td>245</td>\n      <td>0.642241</td>\n      <td>1.0</td>\n      <td>0.773585</td>\n      <td>7</td>\n      <td>0</td>\n      <td>1</td>\n      <td>0</td>\n      <td>...</td>\n      <td>0.100000</td>\n      <td>0.5</td>\n      <td>-0.400000</td>\n      <td>-0.4000</td>\n      <td>-0.400000</td>\n      <td>0.00</td>\n      <td>0.000</td>\n      <td>0.50</td>\n      <td>0.000</td>\n      <td>560</td>\n    </tr>\n    <tr>\n      <th>1220</th>\n      <td>710</td>\n      <td>NaN</td>\n      <td>308</td>\n      <td>0.616667</td>\n      <td>1.0</td>\n      <td>0.714286</td>\n      <td>11</td>\n      <td>3</td>\n      <td>1</td>\n      <td>1</td>\n      <td>...</td>\n      <td>0.200000</td>\n      <td>0.6</td>\n      <td>0.000000</td>\n      <td>0.0000</td>\n      <td>0.000000</td>\n      <td>0.00</td>\n      <td>0.000</td>\n      <td>0.50</td>\n      <td>0.000</td>\n      <td>804</td>\n    </tr>\n    <tr>\n      <th>1221</th>\n      <td>710</td>\n      <td>NaN</td>\n      <td>435</td>\n      <td>0.458333</td>\n      <td>1.0</td>\n      <td>0.551020</td>\n      <td>3</td>\n      <td>2</td>\n      <td>1</td>\n      <td>13</td>\n      <td>...</td>\n      <td>0.100000</td>\n      <td>0.5</td>\n      <td>-0.350000</td>\n      <td>-0.7000</td>\n      <td>-0.125000</td>\n      <td>0.30</td>\n      <td>1.000</td>\n      <td>0.20</td>\n      <td>1.000</td>\n      <td>1200</td>\n    </tr>\n    <tr>\n      <th>1222</th>\n      <td>710</td>\n      <td>NaN</td>\n      <td>119</td>\n      <td>0.705882</td>\n      <td>1.0</td>\n      <td>0.861538</td>\n      <td>1</td>\n      <td>0</td>\n      <td>0</td>\n      <td>1</td>\n      <td>...</td>\n      <td>0.100000</td>\n      <td>1.0</td>\n      <td>-0.600000</td>\n      <td>-0.6000</td>\n      <td>-0.600000</td>\n      <td>0.00</td>\n      <td>0.000</td>\n      <td>0.50</td>\n      <td>0.000</td>\n      <td>8700</td>\n    </tr>\n    <tr>\n      <th>1223</th>\n      <td>710</td>\n      <td>NaN</td>\n      <td>993</td>\n      <td>0.449597</td>\n      <td>1.0</td>\n      <td>0.667870</td>\n      <td>2</td>\n      <td>1</td>\n      <td>1</td>\n      <td>0</td>\n      <td>...</td>\n      <td>0.100000</td>\n      <td>1.0</td>\n      <td>-0.285810</td>\n      <td>-0.8000</td>\n      <td>-0.050000</td>\n      <td>0.85</td>\n      <td>0.625</td>\n      <td>0.35</td>\n      <td>0.625</td>\n      <td>1900</td>\n    </tr>\n    <tr>\n      <th>1489</th>\n      <td>706</td>\n      <td>11.0</td>\n      <td>497</td>\n      <td>0.522634</td>\n      <td>1.0</td>\n      <td>0.713768</td>\n      <td>9</td>\n      <td>3</td>\n      <td>1</td>\n      <td>0</td>\n      <td>...</td>\n      <td>0.100000</td>\n      <td>1.0</td>\n      <td>-0.363333</td>\n      <td>-0.7000</td>\n      <td>-0.050000</td>\n      <td>0.00</td>\n      <td>0.000</td>\n      <td>0.50</td>\n      <td>0.000</td>\n      <td>3800</td>\n    </tr>\n    <tr>\n      <th>1716</th>\n      <td>702</td>\n      <td>10.0</td>\n      <td>659</td>\n      <td>0.357143</td>\n      <td>1.0</td>\n      <td>0.377320</td>\n      <td>44</td>\n      <td>40</td>\n      <td>31</td>\n      <td>1</td>\n      <td>...</td>\n      <td>0.100000</td>\n      <td>0.9</td>\n      <td>-0.183532</td>\n      <td>-0.3125</td>\n      <td>-0.071429</td>\n      <td>0.00</td>\n      <td>0.000</td>\n      <td>0.50</td>\n      <td>0.000</td>\n      <td>4300</td>\n    </tr>\n  </tbody>\n</table>\n<p>10 rows × 60 columns</p>\n</div>"
     },
     "metadata": {}
    }
   ],
   "source": [
    "from datasets import show_mvs\n",
    "\n",
    "mvs = show_mvs(popularity_data)"
   ]
  },
  {
   "source": [
    "## MV's in categories"
   ],
   "cell_type": "markdown",
   "metadata": {}
  },
  {
   "source": [
    "### Find out the indexes"
   ],
   "cell_type": "markdown",
   "metadata": {}
  },
  {
   "cell_type": "code",
   "execution_count": 10,
   "metadata": {},
   "outputs": [
    {
     "output_type": "display_data",
     "data": {
      "text/plain": "      is_category_entertainment  is_category_lifestyle  is_category_business  \\\n36                          0.0                    0.0                   0.0   \n83                          0.0                    NaN                   0.0   \n317                         0.0                    0.0                   0.0   \n818                         0.0                    0.0                   NaN   \n1489                        0.0                    0.0                   0.0   \n1716                        NaN                    0.0                   0.0   \n\n      is_category_socialmedia  is_category_tech  is_category_world  \n36                        0.0               NaN                0.0  \n83                        0.0               0.0                0.0  \n317                       NaN               0.0                0.0  \n818                       0.0               0.0                0.0  \n1489                      0.0               0.0                NaN  \n1716                      0.0               0.0                0.0  ",
      "text/html": "<div>\n<style scoped>\n    .dataframe tbody tr th:only-of-type {\n        vertical-align: middle;\n    }\n\n    .dataframe tbody tr th {\n        vertical-align: top;\n    }\n\n    .dataframe thead th {\n        text-align: right;\n    }\n</style>\n<table border=\"1\" class=\"dataframe\">\n  <thead>\n    <tr style=\"text-align: right;\">\n      <th></th>\n      <th>is_category_entertainment</th>\n      <th>is_category_lifestyle</th>\n      <th>is_category_business</th>\n      <th>is_category_socialmedia</th>\n      <th>is_category_tech</th>\n      <th>is_category_world</th>\n    </tr>\n  </thead>\n  <tbody>\n    <tr>\n      <th>36</th>\n      <td>0.0</td>\n      <td>0.0</td>\n      <td>0.0</td>\n      <td>0.0</td>\n      <td>NaN</td>\n      <td>0.0</td>\n    </tr>\n    <tr>\n      <th>83</th>\n      <td>0.0</td>\n      <td>NaN</td>\n      <td>0.0</td>\n      <td>0.0</td>\n      <td>0.0</td>\n      <td>0.0</td>\n    </tr>\n    <tr>\n      <th>317</th>\n      <td>0.0</td>\n      <td>0.0</td>\n      <td>0.0</td>\n      <td>NaN</td>\n      <td>0.0</td>\n      <td>0.0</td>\n    </tr>\n    <tr>\n      <th>818</th>\n      <td>0.0</td>\n      <td>0.0</td>\n      <td>NaN</td>\n      <td>0.0</td>\n      <td>0.0</td>\n      <td>0.0</td>\n    </tr>\n    <tr>\n      <th>1489</th>\n      <td>0.0</td>\n      <td>0.0</td>\n      <td>0.0</td>\n      <td>0.0</td>\n      <td>0.0</td>\n      <td>NaN</td>\n    </tr>\n    <tr>\n      <th>1716</th>\n      <td>NaN</td>\n      <td>0.0</td>\n      <td>0.0</td>\n      <td>0.0</td>\n      <td>0.0</td>\n      <td>0.0</td>\n    </tr>\n  </tbody>\n</table>\n</div>"
     },
     "metadata": {}
    }
   ],
   "source": [
    "from datasets import get_mvs_of_features\n",
    "\n",
    "categories = [\n",
    "    'is_category_entertainment',\n",
    "    'is_category_lifestyle',\n",
    "    'is_category_business',\n",
    "    'is_category_socialmedia',\n",
    "    'is_category_tech',\n",
    "    'is_category_world'\n",
    "    ]\n",
    "\n",
    "category_mvs = get_mvs_of_features(popularity_data,categories)\n",
    "display(category_mvs[categories])"
   ]
  },
  {
   "source": [
    "### Correct values at indexes"
   ],
   "cell_type": "markdown",
   "metadata": {}
  },
  {
   "cell_type": "code",
   "execution_count": 11,
   "metadata": {},
   "outputs": [],
   "source": [
    "popularity_data.at[category_mvs.iloc[0].name, 'is_category_tech'] = 1\n",
    "popularity_data.at[category_mvs.iloc[1].name, 'is_category_lifestyle'] = 1\n",
    "popularity_data.at[category_mvs.iloc[2].name, 'is_category_socialmedia'] = 1\n",
    "popularity_data.at[category_mvs.iloc[3].name, 'is_category_business'] = 1\n",
    "popularity_data.at[category_mvs.iloc[4].name, 'is_category_world'] = 1\n",
    "popularity_data.at[category_mvs.iloc[5].name, 'is_category_entertainment'] = 1"
   ]
  },
  {
   "cell_type": "code",
   "execution_count": 12,
   "metadata": {},
   "outputs": [
    {
     "output_type": "display_data",
     "data": {
      "text/plain": "Empty DataFrame\nColumns: [is_category_entertainment, is_category_lifestyle, is_category_business, is_category_socialmedia, is_category_tech, is_category_world]\nIndex: []",
      "text/html": "<div>\n<style scoped>\n    .dataframe tbody tr th:only-of-type {\n        vertical-align: middle;\n    }\n\n    .dataframe tbody tr th {\n        vertical-align: top;\n    }\n\n    .dataframe thead th {\n        text-align: right;\n    }\n</style>\n<table border=\"1\" class=\"dataframe\">\n  <thead>\n    <tr style=\"text-align: right;\">\n      <th></th>\n      <th>is_category_entertainment</th>\n      <th>is_category_lifestyle</th>\n      <th>is_category_business</th>\n      <th>is_category_socialmedia</th>\n      <th>is_category_tech</th>\n      <th>is_category_world</th>\n    </tr>\n  </thead>\n  <tbody>\n  </tbody>\n</table>\n</div>"
     },
     "metadata": {}
    },
    {
     "output_type": "display_data",
     "data": {
      "text/plain": "      days_article_dataset   number_words_title  number_words_content  \\\n1220                   710                  NaN                   308   \n1221                   710                  NaN                   435   \n1222                   710                  NaN                   119   \n1223                   710                  NaN                   993   \n\n      rate_unique_words_content  rate_non_stop_words_content  \\\n1220                   0.616667                          1.0   \n1221                   0.458333                          1.0   \n1222                   0.705882                          1.0   \n1223                   0.449597                          1.0   \n\n      rate_unique_non_stop_words_content  number_links  \\\n1220                            0.714286            11   \n1221                            0.551020             3   \n1222                            0.861538             1   \n1223                            0.667870             2   \n\n       number_links_to_mashable   number_imgs   number_videos  ...  \\\n1220                          3             1               1  ...   \n1221                          2             1              13  ...   \n1222                          0             0               1  ...   \n1223                          1             1               0  ...   \n\n       min_polarity_in_positive_words   max_polarity_in_positive_words  \\\n1220                              0.2                              0.6   \n1221                              0.1                              0.5   \n1222                              0.1                              1.0   \n1223                              0.1                              1.0   \n\n       avg_polarity_in_negative_words   min_polarity_in_negative_words  \\\n1220                          0.00000                              0.0   \n1221                         -0.35000                             -0.7   \n1222                         -0.60000                             -0.6   \n1223                         -0.28581                             -0.8   \n\n       max_polarity_in_negative_words   title_sentiment_subjectivity  \\\n1220                            0.000                           0.00   \n1221                           -0.125                           0.30   \n1222                           -0.600                           0.00   \n1223                           -0.050                           0.85   \n\n       title_sentiment_polarity   abs_title_subjectivity  \\\n1220                      0.000                     0.50   \n1221                      1.000                     0.20   \n1222                      0.000                     0.50   \n1223                      0.625                     0.35   \n\n       abs_title_sentiment_polarity   shares  \n1220                          0.000      804  \n1221                          1.000     1200  \n1222                          0.000     8700  \n1223                          0.625     1900  \n\n[4 rows x 60 columns]",
      "text/html": "<div>\n<style scoped>\n    .dataframe tbody tr th:only-of-type {\n        vertical-align: middle;\n    }\n\n    .dataframe tbody tr th {\n        vertical-align: top;\n    }\n\n    .dataframe thead th {\n        text-align: right;\n    }\n</style>\n<table border=\"1\" class=\"dataframe\">\n  <thead>\n    <tr style=\"text-align: right;\">\n      <th></th>\n      <th>days_article_dataset</th>\n      <th>number_words_title</th>\n      <th>number_words_content</th>\n      <th>rate_unique_words_content</th>\n      <th>rate_non_stop_words_content</th>\n      <th>rate_unique_non_stop_words_content</th>\n      <th>number_links</th>\n      <th>number_links_to_mashable</th>\n      <th>number_imgs</th>\n      <th>number_videos</th>\n      <th>...</th>\n      <th>min_polarity_in_positive_words</th>\n      <th>max_polarity_in_positive_words</th>\n      <th>avg_polarity_in_negative_words</th>\n      <th>min_polarity_in_negative_words</th>\n      <th>max_polarity_in_negative_words</th>\n      <th>title_sentiment_subjectivity</th>\n      <th>title_sentiment_polarity</th>\n      <th>abs_title_subjectivity</th>\n      <th>abs_title_sentiment_polarity</th>\n      <th>shares</th>\n    </tr>\n  </thead>\n  <tbody>\n    <tr>\n      <th>1220</th>\n      <td>710</td>\n      <td>NaN</td>\n      <td>308</td>\n      <td>0.616667</td>\n      <td>1.0</td>\n      <td>0.714286</td>\n      <td>11</td>\n      <td>3</td>\n      <td>1</td>\n      <td>1</td>\n      <td>...</td>\n      <td>0.2</td>\n      <td>0.6</td>\n      <td>0.00000</td>\n      <td>0.0</td>\n      <td>0.000</td>\n      <td>0.00</td>\n      <td>0.000</td>\n      <td>0.50</td>\n      <td>0.000</td>\n      <td>804</td>\n    </tr>\n    <tr>\n      <th>1221</th>\n      <td>710</td>\n      <td>NaN</td>\n      <td>435</td>\n      <td>0.458333</td>\n      <td>1.0</td>\n      <td>0.551020</td>\n      <td>3</td>\n      <td>2</td>\n      <td>1</td>\n      <td>13</td>\n      <td>...</td>\n      <td>0.1</td>\n      <td>0.5</td>\n      <td>-0.35000</td>\n      <td>-0.7</td>\n      <td>-0.125</td>\n      <td>0.30</td>\n      <td>1.000</td>\n      <td>0.20</td>\n      <td>1.000</td>\n      <td>1200</td>\n    </tr>\n    <tr>\n      <th>1222</th>\n      <td>710</td>\n      <td>NaN</td>\n      <td>119</td>\n      <td>0.705882</td>\n      <td>1.0</td>\n      <td>0.861538</td>\n      <td>1</td>\n      <td>0</td>\n      <td>0</td>\n      <td>1</td>\n      <td>...</td>\n      <td>0.1</td>\n      <td>1.0</td>\n      <td>-0.60000</td>\n      <td>-0.6</td>\n      <td>-0.600</td>\n      <td>0.00</td>\n      <td>0.000</td>\n      <td>0.50</td>\n      <td>0.000</td>\n      <td>8700</td>\n    </tr>\n    <tr>\n      <th>1223</th>\n      <td>710</td>\n      <td>NaN</td>\n      <td>993</td>\n      <td>0.449597</td>\n      <td>1.0</td>\n      <td>0.667870</td>\n      <td>2</td>\n      <td>1</td>\n      <td>1</td>\n      <td>0</td>\n      <td>...</td>\n      <td>0.1</td>\n      <td>1.0</td>\n      <td>-0.28581</td>\n      <td>-0.8</td>\n      <td>-0.050</td>\n      <td>0.85</td>\n      <td>0.625</td>\n      <td>0.35</td>\n      <td>0.625</td>\n      <td>1900</td>\n    </tr>\n  </tbody>\n</table>\n<p>4 rows × 60 columns</p>\n</div>"
     },
     "metadata": {}
    },
    {
     "output_type": "execute_result",
     "data": {
      "text/plain": [
       "      days_article_dataset   number_words_title  number_words_content  \\\n",
       "1220                   710                  NaN                   308   \n",
       "1221                   710                  NaN                   435   \n",
       "1222                   710                  NaN                   119   \n",
       "1223                   710                  NaN                   993   \n",
       "\n",
       "      rate_unique_words_content  rate_non_stop_words_content  \\\n",
       "1220                   0.616667                          1.0   \n",
       "1221                   0.458333                          1.0   \n",
       "1222                   0.705882                          1.0   \n",
       "1223                   0.449597                          1.0   \n",
       "\n",
       "      rate_unique_non_stop_words_content  number_links  \\\n",
       "1220                            0.714286            11   \n",
       "1221                            0.551020             3   \n",
       "1222                            0.861538             1   \n",
       "1223                            0.667870             2   \n",
       "\n",
       "       number_links_to_mashable   number_imgs   number_videos  ...  \\\n",
       "1220                          3             1               1  ...   \n",
       "1221                          2             1              13  ...   \n",
       "1222                          0             0               1  ...   \n",
       "1223                          1             1               0  ...   \n",
       "\n",
       "       min_polarity_in_positive_words   max_polarity_in_positive_words  \\\n",
       "1220                              0.2                              0.6   \n",
       "1221                              0.1                              0.5   \n",
       "1222                              0.1                              1.0   \n",
       "1223                              0.1                              1.0   \n",
       "\n",
       "       avg_polarity_in_negative_words   min_polarity_in_negative_words  \\\n",
       "1220                          0.00000                              0.0   \n",
       "1221                         -0.35000                             -0.7   \n",
       "1222                         -0.60000                             -0.6   \n",
       "1223                         -0.28581                             -0.8   \n",
       "\n",
       "       max_polarity_in_negative_words   title_sentiment_subjectivity  \\\n",
       "1220                            0.000                           0.00   \n",
       "1221                           -0.125                           0.30   \n",
       "1222                           -0.600                           0.00   \n",
       "1223                           -0.050                           0.85   \n",
       "\n",
       "       title_sentiment_polarity   abs_title_subjectivity  \\\n",
       "1220                      0.000                     0.50   \n",
       "1221                      1.000                     0.20   \n",
       "1222                      0.000                     0.50   \n",
       "1223                      0.625                     0.35   \n",
       "\n",
       "       abs_title_sentiment_polarity   shares  \n",
       "1220                          0.000      804  \n",
       "1221                          1.000     1200  \n",
       "1222                          0.000     8700  \n",
       "1223                          0.625     1900  \n",
       "\n",
       "[4 rows x 60 columns]"
      ],
      "text/html": "<div>\n<style scoped>\n    .dataframe tbody tr th:only-of-type {\n        vertical-align: middle;\n    }\n\n    .dataframe tbody tr th {\n        vertical-align: top;\n    }\n\n    .dataframe thead th {\n        text-align: right;\n    }\n</style>\n<table border=\"1\" class=\"dataframe\">\n  <thead>\n    <tr style=\"text-align: right;\">\n      <th></th>\n      <th>days_article_dataset</th>\n      <th>number_words_title</th>\n      <th>number_words_content</th>\n      <th>rate_unique_words_content</th>\n      <th>rate_non_stop_words_content</th>\n      <th>rate_unique_non_stop_words_content</th>\n      <th>number_links</th>\n      <th>number_links_to_mashable</th>\n      <th>number_imgs</th>\n      <th>number_videos</th>\n      <th>...</th>\n      <th>min_polarity_in_positive_words</th>\n      <th>max_polarity_in_positive_words</th>\n      <th>avg_polarity_in_negative_words</th>\n      <th>min_polarity_in_negative_words</th>\n      <th>max_polarity_in_negative_words</th>\n      <th>title_sentiment_subjectivity</th>\n      <th>title_sentiment_polarity</th>\n      <th>abs_title_subjectivity</th>\n      <th>abs_title_sentiment_polarity</th>\n      <th>shares</th>\n    </tr>\n  </thead>\n  <tbody>\n    <tr>\n      <th>1220</th>\n      <td>710</td>\n      <td>NaN</td>\n      <td>308</td>\n      <td>0.616667</td>\n      <td>1.0</td>\n      <td>0.714286</td>\n      <td>11</td>\n      <td>3</td>\n      <td>1</td>\n      <td>1</td>\n      <td>...</td>\n      <td>0.2</td>\n      <td>0.6</td>\n      <td>0.00000</td>\n      <td>0.0</td>\n      <td>0.000</td>\n      <td>0.00</td>\n      <td>0.000</td>\n      <td>0.50</td>\n      <td>0.000</td>\n      <td>804</td>\n    </tr>\n    <tr>\n      <th>1221</th>\n      <td>710</td>\n      <td>NaN</td>\n      <td>435</td>\n      <td>0.458333</td>\n      <td>1.0</td>\n      <td>0.551020</td>\n      <td>3</td>\n      <td>2</td>\n      <td>1</td>\n      <td>13</td>\n      <td>...</td>\n      <td>0.1</td>\n      <td>0.5</td>\n      <td>-0.35000</td>\n      <td>-0.7</td>\n      <td>-0.125</td>\n      <td>0.30</td>\n      <td>1.000</td>\n      <td>0.20</td>\n      <td>1.000</td>\n      <td>1200</td>\n    </tr>\n    <tr>\n      <th>1222</th>\n      <td>710</td>\n      <td>NaN</td>\n      <td>119</td>\n      <td>0.705882</td>\n      <td>1.0</td>\n      <td>0.861538</td>\n      <td>1</td>\n      <td>0</td>\n      <td>0</td>\n      <td>1</td>\n      <td>...</td>\n      <td>0.1</td>\n      <td>1.0</td>\n      <td>-0.60000</td>\n      <td>-0.6</td>\n      <td>-0.600</td>\n      <td>0.00</td>\n      <td>0.000</td>\n      <td>0.50</td>\n      <td>0.000</td>\n      <td>8700</td>\n    </tr>\n    <tr>\n      <th>1223</th>\n      <td>710</td>\n      <td>NaN</td>\n      <td>993</td>\n      <td>0.449597</td>\n      <td>1.0</td>\n      <td>0.667870</td>\n      <td>2</td>\n      <td>1</td>\n      <td>1</td>\n      <td>0</td>\n      <td>...</td>\n      <td>0.1</td>\n      <td>1.0</td>\n      <td>-0.28581</td>\n      <td>-0.8</td>\n      <td>-0.050</td>\n      <td>0.85</td>\n      <td>0.625</td>\n      <td>0.35</td>\n      <td>0.625</td>\n      <td>1900</td>\n    </tr>\n  </tbody>\n</table>\n<p>4 rows × 60 columns</p>\n</div>"
     },
     "metadata": {},
     "execution_count": 12
    }
   ],
   "source": [
    "category_mvs = get_mvs_of_features(popularity_data,categories)\n",
    "display(category_mvs[categories])\n",
    "show_mvs(popularity_data)"
   ]
  },
  {
   "source": [
    "### Missing categories are no longer missing"
   ],
   "cell_type": "markdown",
   "metadata": {}
  },
  {
   "source": [
    "## MV's Number Words Title"
   ],
   "cell_type": "markdown",
   "metadata": {}
  },
  {
   "source": [
    "### Find out indexes of mvs"
   ],
   "cell_type": "markdown",
   "metadata": {}
  },
  {
   "cell_type": "code",
   "execution_count": 13,
   "metadata": {},
   "outputs": [
    {
     "output_type": "display_data",
     "data": {
      "text/plain": "      days_article_dataset   number_words_title  number_words_content  \\\n1220                   710                  NaN                   308   \n1221                   710                  NaN                   435   \n1222                   710                  NaN                   119   \n1223                   710                  NaN                   993   \n\n      rate_unique_words_content  rate_non_stop_words_content  \\\n1220                   0.616667                          1.0   \n1221                   0.458333                          1.0   \n1222                   0.705882                          1.0   \n1223                   0.449597                          1.0   \n\n      rate_unique_non_stop_words_content  number_links  \\\n1220                            0.714286            11   \n1221                            0.551020             3   \n1222                            0.861538             1   \n1223                            0.667870             2   \n\n       number_links_to_mashable   number_imgs   number_videos  ...  \\\n1220                          3             1               1  ...   \n1221                          2             1              13  ...   \n1222                          0             0               1  ...   \n1223                          1             1               0  ...   \n\n       min_polarity_in_positive_words   max_polarity_in_positive_words  \\\n1220                              0.2                              0.6   \n1221                              0.1                              0.5   \n1222                              0.1                              1.0   \n1223                              0.1                              1.0   \n\n       avg_polarity_in_negative_words   min_polarity_in_negative_words  \\\n1220                          0.00000                              0.0   \n1221                         -0.35000                             -0.7   \n1222                         -0.60000                             -0.6   \n1223                         -0.28581                             -0.8   \n\n       max_polarity_in_negative_words   title_sentiment_subjectivity  \\\n1220                            0.000                           0.00   \n1221                           -0.125                           0.30   \n1222                           -0.600                           0.00   \n1223                           -0.050                           0.85   \n\n       title_sentiment_polarity   abs_title_subjectivity  \\\n1220                      0.000                     0.50   \n1221                      1.000                     0.20   \n1222                      0.000                     0.50   \n1223                      0.625                     0.35   \n\n       abs_title_sentiment_polarity   shares  \n1220                          0.000      804  \n1221                          1.000     1200  \n1222                          0.000     8700  \n1223                          0.625     1900  \n\n[4 rows x 60 columns]",
      "text/html": "<div>\n<style scoped>\n    .dataframe tbody tr th:only-of-type {\n        vertical-align: middle;\n    }\n\n    .dataframe tbody tr th {\n        vertical-align: top;\n    }\n\n    .dataframe thead th {\n        text-align: right;\n    }\n</style>\n<table border=\"1\" class=\"dataframe\">\n  <thead>\n    <tr style=\"text-align: right;\">\n      <th></th>\n      <th>days_article_dataset</th>\n      <th>number_words_title</th>\n      <th>number_words_content</th>\n      <th>rate_unique_words_content</th>\n      <th>rate_non_stop_words_content</th>\n      <th>rate_unique_non_stop_words_content</th>\n      <th>number_links</th>\n      <th>number_links_to_mashable</th>\n      <th>number_imgs</th>\n      <th>number_videos</th>\n      <th>...</th>\n      <th>min_polarity_in_positive_words</th>\n      <th>max_polarity_in_positive_words</th>\n      <th>avg_polarity_in_negative_words</th>\n      <th>min_polarity_in_negative_words</th>\n      <th>max_polarity_in_negative_words</th>\n      <th>title_sentiment_subjectivity</th>\n      <th>title_sentiment_polarity</th>\n      <th>abs_title_subjectivity</th>\n      <th>abs_title_sentiment_polarity</th>\n      <th>shares</th>\n    </tr>\n  </thead>\n  <tbody>\n    <tr>\n      <th>1220</th>\n      <td>710</td>\n      <td>NaN</td>\n      <td>308</td>\n      <td>0.616667</td>\n      <td>1.0</td>\n      <td>0.714286</td>\n      <td>11</td>\n      <td>3</td>\n      <td>1</td>\n      <td>1</td>\n      <td>...</td>\n      <td>0.2</td>\n      <td>0.6</td>\n      <td>0.00000</td>\n      <td>0.0</td>\n      <td>0.000</td>\n      <td>0.00</td>\n      <td>0.000</td>\n      <td>0.50</td>\n      <td>0.000</td>\n      <td>804</td>\n    </tr>\n    <tr>\n      <th>1221</th>\n      <td>710</td>\n      <td>NaN</td>\n      <td>435</td>\n      <td>0.458333</td>\n      <td>1.0</td>\n      <td>0.551020</td>\n      <td>3</td>\n      <td>2</td>\n      <td>1</td>\n      <td>13</td>\n      <td>...</td>\n      <td>0.1</td>\n      <td>0.5</td>\n      <td>-0.35000</td>\n      <td>-0.7</td>\n      <td>-0.125</td>\n      <td>0.30</td>\n      <td>1.000</td>\n      <td>0.20</td>\n      <td>1.000</td>\n      <td>1200</td>\n    </tr>\n    <tr>\n      <th>1222</th>\n      <td>710</td>\n      <td>NaN</td>\n      <td>119</td>\n      <td>0.705882</td>\n      <td>1.0</td>\n      <td>0.861538</td>\n      <td>1</td>\n      <td>0</td>\n      <td>0</td>\n      <td>1</td>\n      <td>...</td>\n      <td>0.1</td>\n      <td>1.0</td>\n      <td>-0.60000</td>\n      <td>-0.6</td>\n      <td>-0.600</td>\n      <td>0.00</td>\n      <td>0.000</td>\n      <td>0.50</td>\n      <td>0.000</td>\n      <td>8700</td>\n    </tr>\n    <tr>\n      <th>1223</th>\n      <td>710</td>\n      <td>NaN</td>\n      <td>993</td>\n      <td>0.449597</td>\n      <td>1.0</td>\n      <td>0.667870</td>\n      <td>2</td>\n      <td>1</td>\n      <td>1</td>\n      <td>0</td>\n      <td>...</td>\n      <td>0.1</td>\n      <td>1.0</td>\n      <td>-0.28581</td>\n      <td>-0.8</td>\n      <td>-0.050</td>\n      <td>0.85</td>\n      <td>0.625</td>\n      <td>0.35</td>\n      <td>0.625</td>\n      <td>1900</td>\n    </tr>\n  </tbody>\n</table>\n<p>4 rows × 60 columns</p>\n</div>"
     },
     "metadata": {}
    }
   ],
   "source": [
    "from datasets import get_mvs_of_feature\n",
    "\n",
    "number_words_title_mvs = get_mvs_of_feature(popularity_data, [' number_words_title'])\n",
    "\n",
    "display(number_words_title_mvs)"
   ]
  },
  {
   "cell_type": "code",
   "execution_count": 14,
   "metadata": {},
   "outputs": [
    {
     "output_type": "display_data",
     "data": {
      "text/plain": "      days_article_dataset   number_words_title  number_words_content  \\\n1220                   710                 10.0                   308   \n1221                   710                 10.0                   435   \n1222                   710                 10.0                   119   \n1223                   710                 10.0                   993   \n\n      rate_unique_words_content  rate_non_stop_words_content  \\\n1220                   0.616667                          1.0   \n1221                   0.458333                          1.0   \n1222                   0.705882                          1.0   \n1223                   0.449597                          1.0   \n\n      rate_unique_non_stop_words_content  number_links  \\\n1220                            0.714286            11   \n1221                            0.551020             3   \n1222                            0.861538             1   \n1223                            0.667870             2   \n\n       number_links_to_mashable   number_imgs   number_videos  ...  \\\n1220                          3             1               1  ...   \n1221                          2             1              13  ...   \n1222                          0             0               1  ...   \n1223                          1             1               0  ...   \n\n       min_polarity_in_positive_words   max_polarity_in_positive_words  \\\n1220                              0.2                              0.6   \n1221                              0.1                              0.5   \n1222                              0.1                              1.0   \n1223                              0.1                              1.0   \n\n       avg_polarity_in_negative_words   min_polarity_in_negative_words  \\\n1220                          0.00000                              0.0   \n1221                         -0.35000                             -0.7   \n1222                         -0.60000                             -0.6   \n1223                         -0.28581                             -0.8   \n\n       max_polarity_in_negative_words   title_sentiment_subjectivity  \\\n1220                            0.000                           0.00   \n1221                           -0.125                           0.30   \n1222                           -0.600                           0.00   \n1223                           -0.050                           0.85   \n\n       title_sentiment_polarity   abs_title_subjectivity  \\\n1220                      0.000                     0.50   \n1221                      1.000                     0.20   \n1222                      0.000                     0.50   \n1223                      0.625                     0.35   \n\n       abs_title_sentiment_polarity   shares  \n1220                          0.000      804  \n1221                          1.000     1200  \n1222                          0.000     8700  \n1223                          0.625     1900  \n\n[4 rows x 60 columns]",
      "text/html": "<div>\n<style scoped>\n    .dataframe tbody tr th:only-of-type {\n        vertical-align: middle;\n    }\n\n    .dataframe tbody tr th {\n        vertical-align: top;\n    }\n\n    .dataframe thead th {\n        text-align: right;\n    }\n</style>\n<table border=\"1\" class=\"dataframe\">\n  <thead>\n    <tr style=\"text-align: right;\">\n      <th></th>\n      <th>days_article_dataset</th>\n      <th>number_words_title</th>\n      <th>number_words_content</th>\n      <th>rate_unique_words_content</th>\n      <th>rate_non_stop_words_content</th>\n      <th>rate_unique_non_stop_words_content</th>\n      <th>number_links</th>\n      <th>number_links_to_mashable</th>\n      <th>number_imgs</th>\n      <th>number_videos</th>\n      <th>...</th>\n      <th>min_polarity_in_positive_words</th>\n      <th>max_polarity_in_positive_words</th>\n      <th>avg_polarity_in_negative_words</th>\n      <th>min_polarity_in_negative_words</th>\n      <th>max_polarity_in_negative_words</th>\n      <th>title_sentiment_subjectivity</th>\n      <th>title_sentiment_polarity</th>\n      <th>abs_title_subjectivity</th>\n      <th>abs_title_sentiment_polarity</th>\n      <th>shares</th>\n    </tr>\n  </thead>\n  <tbody>\n    <tr>\n      <th>1220</th>\n      <td>710</td>\n      <td>10.0</td>\n      <td>308</td>\n      <td>0.616667</td>\n      <td>1.0</td>\n      <td>0.714286</td>\n      <td>11</td>\n      <td>3</td>\n      <td>1</td>\n      <td>1</td>\n      <td>...</td>\n      <td>0.2</td>\n      <td>0.6</td>\n      <td>0.00000</td>\n      <td>0.0</td>\n      <td>0.000</td>\n      <td>0.00</td>\n      <td>0.000</td>\n      <td>0.50</td>\n      <td>0.000</td>\n      <td>804</td>\n    </tr>\n    <tr>\n      <th>1221</th>\n      <td>710</td>\n      <td>10.0</td>\n      <td>435</td>\n      <td>0.458333</td>\n      <td>1.0</td>\n      <td>0.551020</td>\n      <td>3</td>\n      <td>2</td>\n      <td>1</td>\n      <td>13</td>\n      <td>...</td>\n      <td>0.1</td>\n      <td>0.5</td>\n      <td>-0.35000</td>\n      <td>-0.7</td>\n      <td>-0.125</td>\n      <td>0.30</td>\n      <td>1.000</td>\n      <td>0.20</td>\n      <td>1.000</td>\n      <td>1200</td>\n    </tr>\n    <tr>\n      <th>1222</th>\n      <td>710</td>\n      <td>10.0</td>\n      <td>119</td>\n      <td>0.705882</td>\n      <td>1.0</td>\n      <td>0.861538</td>\n      <td>1</td>\n      <td>0</td>\n      <td>0</td>\n      <td>1</td>\n      <td>...</td>\n      <td>0.1</td>\n      <td>1.0</td>\n      <td>-0.60000</td>\n      <td>-0.6</td>\n      <td>-0.600</td>\n      <td>0.00</td>\n      <td>0.000</td>\n      <td>0.50</td>\n      <td>0.000</td>\n      <td>8700</td>\n    </tr>\n    <tr>\n      <th>1223</th>\n      <td>710</td>\n      <td>10.0</td>\n      <td>993</td>\n      <td>0.449597</td>\n      <td>1.0</td>\n      <td>0.667870</td>\n      <td>2</td>\n      <td>1</td>\n      <td>1</td>\n      <td>0</td>\n      <td>...</td>\n      <td>0.1</td>\n      <td>1.0</td>\n      <td>-0.28581</td>\n      <td>-0.8</td>\n      <td>-0.050</td>\n      <td>0.85</td>\n      <td>0.625</td>\n      <td>0.35</td>\n      <td>0.625</td>\n      <td>1900</td>\n    </tr>\n  </tbody>\n</table>\n<p>4 rows × 60 columns</p>\n</div>"
     },
     "metadata": {}
    },
    {
     "output_type": "display_data",
     "data": {
      "text/plain": "Empty DataFrame\nColumns: [days_article_dataset,  number_words_title, number_words_content, rate_unique_words_content, rate_non_stop_words_content, rate_unique_non_stop_words_content, number_links,  number_links_to_mashable,  number_imgs,  number_videos,  average_word_length,  number_keywords, is_category_lifestyle, is_category_entertainment, is_category_business, is_category_socialmedia, is_category_tech, is_category_world,  kw_min_min,  kw_max_min,  kw_avg_min,  kw_min_max,  kw_max_max,  kw_avg_max,  kw_min_avg,  kw_max_avg,  kw_avg_avg,  self_reference_min_shares,  self_reference_max_shares,  self_reference_avg_sharess, is_monday, is_tuesday, is_wednesday, is_thursday, is_friday, is_saturday,  is_sunday,  is_weekend,  LDA_00,  LDA_01,  LDA_02,  LDA_03,  LDA_04, sentiment_subjectivity, sentiment_polarity,  global_rate_positive_words,  global_rate_negative_words,  rate_positive_words,  rate_negative_words,  avg_polarity_in_positive_words,  min_polarity_in_positive_words,  max_polarity_in_positive_words,  avg_polarity_in_negative_words,  min_polarity_in_negative_words,  max_polarity_in_negative_words,  title_sentiment_subjectivity,  title_sentiment_polarity,  abs_title_subjectivity,  abs_title_sentiment_polarity,  shares]\nIndex: []\n\n[0 rows x 60 columns]",
      "text/html": "<div>\n<style scoped>\n    .dataframe tbody tr th:only-of-type {\n        vertical-align: middle;\n    }\n\n    .dataframe tbody tr th {\n        vertical-align: top;\n    }\n\n    .dataframe thead th {\n        text-align: right;\n    }\n</style>\n<table border=\"1\" class=\"dataframe\">\n  <thead>\n    <tr style=\"text-align: right;\">\n      <th></th>\n      <th>days_article_dataset</th>\n      <th>number_words_title</th>\n      <th>number_words_content</th>\n      <th>rate_unique_words_content</th>\n      <th>rate_non_stop_words_content</th>\n      <th>rate_unique_non_stop_words_content</th>\n      <th>number_links</th>\n      <th>number_links_to_mashable</th>\n      <th>number_imgs</th>\n      <th>number_videos</th>\n      <th>...</th>\n      <th>min_polarity_in_positive_words</th>\n      <th>max_polarity_in_positive_words</th>\n      <th>avg_polarity_in_negative_words</th>\n      <th>min_polarity_in_negative_words</th>\n      <th>max_polarity_in_negative_words</th>\n      <th>title_sentiment_subjectivity</th>\n      <th>title_sentiment_polarity</th>\n      <th>abs_title_subjectivity</th>\n      <th>abs_title_sentiment_polarity</th>\n      <th>shares</th>\n    </tr>\n  </thead>\n  <tbody>\n  </tbody>\n</table>\n<p>0 rows × 60 columns</p>\n</div>"
     },
     "metadata": {}
    },
    {
     "output_type": "execute_result",
     "data": {
      "text/plain": [
       "Empty DataFrame\n",
       "Columns: [days_article_dataset,  number_words_title, number_words_content, rate_unique_words_content, rate_non_stop_words_content, rate_unique_non_stop_words_content, number_links,  number_links_to_mashable,  number_imgs,  number_videos,  average_word_length,  number_keywords, is_category_lifestyle, is_category_entertainment, is_category_business, is_category_socialmedia, is_category_tech, is_category_world,  kw_min_min,  kw_max_min,  kw_avg_min,  kw_min_max,  kw_max_max,  kw_avg_max,  kw_min_avg,  kw_max_avg,  kw_avg_avg,  self_reference_min_shares,  self_reference_max_shares,  self_reference_avg_sharess, is_monday, is_tuesday, is_wednesday, is_thursday, is_friday, is_saturday,  is_sunday,  is_weekend,  LDA_00,  LDA_01,  LDA_02,  LDA_03,  LDA_04, sentiment_subjectivity, sentiment_polarity,  global_rate_positive_words,  global_rate_negative_words,  rate_positive_words,  rate_negative_words,  avg_polarity_in_positive_words,  min_polarity_in_positive_words,  max_polarity_in_positive_words,  avg_polarity_in_negative_words,  min_polarity_in_negative_words,  max_polarity_in_negative_words,  title_sentiment_subjectivity,  title_sentiment_polarity,  abs_title_subjectivity,  abs_title_sentiment_polarity,  shares]\n",
       "Index: []\n",
       "\n",
       "[0 rows x 60 columns]"
      ],
      "text/html": "<div>\n<style scoped>\n    .dataframe tbody tr th:only-of-type {\n        vertical-align: middle;\n    }\n\n    .dataframe tbody tr th {\n        vertical-align: top;\n    }\n\n    .dataframe thead th {\n        text-align: right;\n    }\n</style>\n<table border=\"1\" class=\"dataframe\">\n  <thead>\n    <tr style=\"text-align: right;\">\n      <th></th>\n      <th>days_article_dataset</th>\n      <th>number_words_title</th>\n      <th>number_words_content</th>\n      <th>rate_unique_words_content</th>\n      <th>rate_non_stop_words_content</th>\n      <th>rate_unique_non_stop_words_content</th>\n      <th>number_links</th>\n      <th>number_links_to_mashable</th>\n      <th>number_imgs</th>\n      <th>number_videos</th>\n      <th>...</th>\n      <th>min_polarity_in_positive_words</th>\n      <th>max_polarity_in_positive_words</th>\n      <th>avg_polarity_in_negative_words</th>\n      <th>min_polarity_in_negative_words</th>\n      <th>max_polarity_in_negative_words</th>\n      <th>title_sentiment_subjectivity</th>\n      <th>title_sentiment_polarity</th>\n      <th>abs_title_subjectivity</th>\n      <th>abs_title_sentiment_polarity</th>\n      <th>shares</th>\n    </tr>\n  </thead>\n  <tbody>\n  </tbody>\n</table>\n<p>0 rows × 60 columns</p>\n</div>"
     },
     "metadata": {},
     "execution_count": 14
    }
   ],
   "source": [
    "from sklearn.experimental import enable_iterative_imputer\n",
    "from sklearn.impute import SimpleImputer\n",
    "from datasets import show_mvs\n",
    "\n",
    "columns = [' number_words_title']\n",
    "mvs_data = popularity_data[columns]\n",
    "\n",
    "imp = SimpleImputer(strategy='median')\n",
    "transformed_x= imp.fit_transform(mvs_data)\n",
    "popularity_data[' number_words_title'] = transformed_x\n",
    "\n",
    "display(popularity_data.loc[number_words_title_mvs.index])\n",
    "show_mvs(popularity_data)"
   ]
  },
  {
   "source": [
    "### Missing number words in title are no longer missing. There are no missing values anymore"
   ],
   "cell_type": "markdown",
   "metadata": {}
  },
  {
   "source": [
    "# Feature Reduction"
   ],
   "cell_type": "markdown",
   "metadata": {}
  },
  {
   "source": [
    "--> remove is_weekend \n",
    "\n",
    "--> remove is_sunday\n",
    "\n",
    "--> remove LDA_00\n",
    "\n",
    "--> remove average_word_length\n",
    "\n",
    "--> remove avg_polarity_in_positive_words\n",
    "\n",
    "--> remove avg_polarity_in_negative_words\n",
    "\n",
    "--> remove global_rate_positive_words\n",
    "\n",
    "--> remove max_polarity_in_positive_words\n",
    "\n",
    "--> remove number_words_title"
   ],
   "cell_type": "markdown",
   "metadata": {}
  },
  {
   "cell_type": "code",
   "execution_count": 16,
   "metadata": {},
   "outputs": [],
   "source": [
    "popularity_data = popularity_data.drop(' is_weekend', axis=1)\n",
    "display(popularity_data.shape)\n",
    "popularity_data = popularity_data.drop(' is_sunday', axis=1)\n",
    "display(popularity_data.shape)\n",
    "popularity_data = popularity_data.drop(' LDA_00', axis=1)\n",
    "display(popularity_data.shape)\n",
    "popularity_data = popularity_data.drop(' average_word_length', axis=1)\n",
    "display(popularity_data.shape)\n",
    "popularity_data = popularity_data.drop(' avg_polarity_in_positive_words', axis=1)\n",
    "display(popularity_data.shape)\n",
    "popularity_data = popularity_data.drop(' avg_polarity_in_negative_words', axis=1)\n",
    "display(popularity_data.shape)\n",
    "popularity_data = popularity_data.drop(' global_rate_positive_words', axis=1)\n",
    "display(popularity_data.shape)\n",
    "popularity_data = popularity_data.drop(' max_polarity_in_positive_words', axis=1)\n",
    "display(popularity_data.shape)\n",
    "popularity_data = popularity_data.drop(' number_words_title', axis=1)\n",
    "display(popularity_data.shape)\n"
   ]
  },
  {
   "source": [],
   "cell_type": "markdown",
   "metadata": {}
  },
  {
   "cell_type": "code",
   "execution_count": null,
   "metadata": {},
   "outputs": [],
   "source": []
  }
 ]
}