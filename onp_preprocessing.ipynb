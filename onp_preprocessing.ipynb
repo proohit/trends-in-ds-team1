{
 "metadata": {
  "language_info": {
   "codemirror_mode": {
    "name": "ipython",
    "version": 3
   },
   "file_extension": ".py",
   "mimetype": "text/x-python",
   "name": "python",
   "nbconvert_exporter": "python",
   "pygments_lexer": "ipython3",
   "version": "3.8.3-final"
  },
  "orig_nbformat": 2,
  "kernelspec": {
   "name": "python3",
   "display_name": "Python 3",
   "language": "python"
  }
 },
 "nbformat": 4,
 "nbformat_minor": 2,
 "cells": [
  {
   "cell_type": "code",
   "execution_count": 1,
   "metadata": {},
   "outputs": [],
   "source": [
    "from datasets import popularity_dataset\n",
    "from datasets import get_sample_data\n",
    "from datasets import get_class_for_value\n",
    "from datasets import get_cutpoints_for_percent\n",
    "\n",
    "popularity_data = popularity_dataset().drop('days_article_dataset', axis=1)\n",
    "classes = ['Very Bad', 'Bad', 'Moderate', 'Good', 'Very Good']\n",
    "\n",
    "sorted_shares = popularity_data.sort_values(by=' shares', ascending= True)\n",
    "\n",
    "classes_cutpoints = [\n",
    "    get_cutpoints_for_percent(sorted_shares, 0, .3, ' shares'),\n",
    "    get_cutpoints_for_percent(sorted_shares, .3, .45, ' shares'),\n",
    "    get_cutpoints_for_percent(sorted_shares, .45, .8, ' shares'),\n",
    "    get_cutpoints_for_percent(sorted_shares, .8, .95, ' shares'),\n",
    "    get_cutpoints_for_percent(sorted_shares, .95, 1, ' shares'),\n",
    "]\n",
    "\n",
    "popularity_data['share_class'] = popularity_data.apply(lambda row: get_class_for_value(row[' shares'], classes_cutpoints, classes), axis=1)\n",
    "\n",
    "feature_values = popularity_data.drop(' shares', axis=1).drop('share_class', axis=1)\n",
    "class_values = popularity_data['share_class']\n",
    "extra_column = popularity_data[' shares']\n",
    "popularity_data = get_sample_data(feature_values, class_values, extra_column, size=.25)\n",
    "popularity_data['share_class'] = popularity_data.apply(lambda row: classes.index(row['share_class']), axis=1)"
   ]
  },
  {
   "source": [
    "MV's"
   ],
   "cell_type": "markdown",
   "metadata": {}
  },
  {
   "cell_type": "code",
   "execution_count": 2,
   "metadata": {},
   "outputs": [
    {
     "output_type": "display_data",
     "data": {
      "text/plain": "       number_words_title  number_words_content  rate_unique_words_content  \\\n1223                  NaN                   993                   0.449597   \n83                   12.0                   499                   0.513026   \n1222                  NaN                   119                   0.705882   \n1220                  NaN                   308                   0.616667   \n317                  13.0                   293                   0.585366   \n1221                  NaN                   435                   0.458333   \n\n      rate_non_stop_words_content  rate_unique_non_stop_words_content  \\\n1223                          1.0                            0.667870   \n83                            1.0                            0.662252   \n1222                          1.0                            0.861538   \n1220                          1.0                            0.714286   \n317                           1.0                            0.759036   \n1221                          1.0                            0.551020   \n\n      number_links   number_links_to_mashable   number_imgs   number_videos  \\\n1223             2                          1             1               0   \n83              14                          1             1               0   \n1222             1                          0             0               1   \n1220            11                          3             1               1   \n317              6                          5             1               0   \n1221             3                          2             1              13   \n\n       average_word_length  ...   max_polarity_in_positive_words  \\\n1223              4.445116  ...                              1.0   \n83                5.084168  ...                              0.5   \n1222              4.218487  ...                              1.0   \n1220              4.928571  ...                              0.6   \n317               4.665529  ...                              0.6   \n1221              4.972414  ...                              0.5   \n\n       avg_polarity_in_negative_words   min_polarity_in_negative_words  \\\n1223                         -0.28581                             -0.8   \n83                           -0.23500                             -0.5   \n1222                         -0.60000                             -0.6   \n1220                          0.00000                              0.0   \n317                          -0.16250                             -0.2   \n1221                         -0.35000                             -0.7   \n\n       max_polarity_in_negative_words   title_sentiment_subjectivity  \\\n1223                           -0.050                           0.85   \n83                             -0.100                           0.30   \n1222                           -0.600                           0.00   \n1220                            0.000                           0.00   \n317                            -0.125                           0.50   \n1221                           -0.125                           0.30   \n\n       title_sentiment_polarity   abs_title_subjectivity  \\\n1223                      0.625                     0.35   \n83                        0.000                     0.20   \n1222                      0.000                     0.50   \n1220                      0.000                     0.50   \n317                       0.500                     0.00   \n1221                      1.000                     0.20   \n\n       abs_title_sentiment_polarity  share_class   shares  \n1223                          0.625            2     1900  \n83                            0.000            1     1200  \n1222                          0.000            3     8700  \n1220                          0.000            0      804  \n317                           0.500            2     1700  \n1221                          1.000            1     1200  \n\n[6 rows x 60 columns]",
      "text/html": "<div>\n<style scoped>\n    .dataframe tbody tr th:only-of-type {\n        vertical-align: middle;\n    }\n\n    .dataframe tbody tr th {\n        vertical-align: top;\n    }\n\n    .dataframe thead th {\n        text-align: right;\n    }\n</style>\n<table border=\"1\" class=\"dataframe\">\n  <thead>\n    <tr style=\"text-align: right;\">\n      <th></th>\n      <th>number_words_title</th>\n      <th>number_words_content</th>\n      <th>rate_unique_words_content</th>\n      <th>rate_non_stop_words_content</th>\n      <th>rate_unique_non_stop_words_content</th>\n      <th>number_links</th>\n      <th>number_links_to_mashable</th>\n      <th>number_imgs</th>\n      <th>number_videos</th>\n      <th>average_word_length</th>\n      <th>...</th>\n      <th>max_polarity_in_positive_words</th>\n      <th>avg_polarity_in_negative_words</th>\n      <th>min_polarity_in_negative_words</th>\n      <th>max_polarity_in_negative_words</th>\n      <th>title_sentiment_subjectivity</th>\n      <th>title_sentiment_polarity</th>\n      <th>abs_title_subjectivity</th>\n      <th>abs_title_sentiment_polarity</th>\n      <th>share_class</th>\n      <th>shares</th>\n    </tr>\n  </thead>\n  <tbody>\n    <tr>\n      <th>1223</th>\n      <td>NaN</td>\n      <td>993</td>\n      <td>0.449597</td>\n      <td>1.0</td>\n      <td>0.667870</td>\n      <td>2</td>\n      <td>1</td>\n      <td>1</td>\n      <td>0</td>\n      <td>4.445116</td>\n      <td>...</td>\n      <td>1.0</td>\n      <td>-0.28581</td>\n      <td>-0.8</td>\n      <td>-0.050</td>\n      <td>0.85</td>\n      <td>0.625</td>\n      <td>0.35</td>\n      <td>0.625</td>\n      <td>2</td>\n      <td>1900</td>\n    </tr>\n    <tr>\n      <th>83</th>\n      <td>12.0</td>\n      <td>499</td>\n      <td>0.513026</td>\n      <td>1.0</td>\n      <td>0.662252</td>\n      <td>14</td>\n      <td>1</td>\n      <td>1</td>\n      <td>0</td>\n      <td>5.084168</td>\n      <td>...</td>\n      <td>0.5</td>\n      <td>-0.23500</td>\n      <td>-0.5</td>\n      <td>-0.100</td>\n      <td>0.30</td>\n      <td>0.000</td>\n      <td>0.20</td>\n      <td>0.000</td>\n      <td>1</td>\n      <td>1200</td>\n    </tr>\n    <tr>\n      <th>1222</th>\n      <td>NaN</td>\n      <td>119</td>\n      <td>0.705882</td>\n      <td>1.0</td>\n      <td>0.861538</td>\n      <td>1</td>\n      <td>0</td>\n      <td>0</td>\n      <td>1</td>\n      <td>4.218487</td>\n      <td>...</td>\n      <td>1.0</td>\n      <td>-0.60000</td>\n      <td>-0.6</td>\n      <td>-0.600</td>\n      <td>0.00</td>\n      <td>0.000</td>\n      <td>0.50</td>\n      <td>0.000</td>\n      <td>3</td>\n      <td>8700</td>\n    </tr>\n    <tr>\n      <th>1220</th>\n      <td>NaN</td>\n      <td>308</td>\n      <td>0.616667</td>\n      <td>1.0</td>\n      <td>0.714286</td>\n      <td>11</td>\n      <td>3</td>\n      <td>1</td>\n      <td>1</td>\n      <td>4.928571</td>\n      <td>...</td>\n      <td>0.6</td>\n      <td>0.00000</td>\n      <td>0.0</td>\n      <td>0.000</td>\n      <td>0.00</td>\n      <td>0.000</td>\n      <td>0.50</td>\n      <td>0.000</td>\n      <td>0</td>\n      <td>804</td>\n    </tr>\n    <tr>\n      <th>317</th>\n      <td>13.0</td>\n      <td>293</td>\n      <td>0.585366</td>\n      <td>1.0</td>\n      <td>0.759036</td>\n      <td>6</td>\n      <td>5</td>\n      <td>1</td>\n      <td>0</td>\n      <td>4.665529</td>\n      <td>...</td>\n      <td>0.6</td>\n      <td>-0.16250</td>\n      <td>-0.2</td>\n      <td>-0.125</td>\n      <td>0.50</td>\n      <td>0.500</td>\n      <td>0.00</td>\n      <td>0.500</td>\n      <td>2</td>\n      <td>1700</td>\n    </tr>\n    <tr>\n      <th>1221</th>\n      <td>NaN</td>\n      <td>435</td>\n      <td>0.458333</td>\n      <td>1.0</td>\n      <td>0.551020</td>\n      <td>3</td>\n      <td>2</td>\n      <td>1</td>\n      <td>13</td>\n      <td>4.972414</td>\n      <td>...</td>\n      <td>0.5</td>\n      <td>-0.35000</td>\n      <td>-0.7</td>\n      <td>-0.125</td>\n      <td>0.30</td>\n      <td>1.000</td>\n      <td>0.20</td>\n      <td>1.000</td>\n      <td>1</td>\n      <td>1200</td>\n    </tr>\n  </tbody>\n</table>\n<p>6 rows × 60 columns</p>\n</div>"
     },
     "metadata": {}
    }
   ],
   "source": [
    "from datasets import show_mvs\n",
    "\n",
    "mvs = show_mvs(popularity_data)"
   ]
  },
  {
   "source": [
    "## MV's in categories"
   ],
   "cell_type": "markdown",
   "metadata": {}
  },
  {
   "source": [
    "### Find out the indexes"
   ],
   "cell_type": "markdown",
   "metadata": {}
  },
  {
   "cell_type": "code",
   "execution_count": 3,
   "metadata": {},
   "outputs": [
    {
     "output_type": "display_data",
     "data": {
      "text/plain": "     is_category_entertainment  is_category_lifestyle  is_category_business  \\\n83                         0.0                    NaN                   0.0   \n317                        0.0                    0.0                   0.0   \n\n     is_category_socialmedia  is_category_tech  is_category_world  \n83                       0.0               0.0                0.0  \n317                      NaN               0.0                0.0  ",
      "text/html": "<div>\n<style scoped>\n    .dataframe tbody tr th:only-of-type {\n        vertical-align: middle;\n    }\n\n    .dataframe tbody tr th {\n        vertical-align: top;\n    }\n\n    .dataframe thead th {\n        text-align: right;\n    }\n</style>\n<table border=\"1\" class=\"dataframe\">\n  <thead>\n    <tr style=\"text-align: right;\">\n      <th></th>\n      <th>is_category_entertainment</th>\n      <th>is_category_lifestyle</th>\n      <th>is_category_business</th>\n      <th>is_category_socialmedia</th>\n      <th>is_category_tech</th>\n      <th>is_category_world</th>\n    </tr>\n  </thead>\n  <tbody>\n    <tr>\n      <th>83</th>\n      <td>0.0</td>\n      <td>NaN</td>\n      <td>0.0</td>\n      <td>0.0</td>\n      <td>0.0</td>\n      <td>0.0</td>\n    </tr>\n    <tr>\n      <th>317</th>\n      <td>0.0</td>\n      <td>0.0</td>\n      <td>0.0</td>\n      <td>NaN</td>\n      <td>0.0</td>\n      <td>0.0</td>\n    </tr>\n  </tbody>\n</table>\n</div>"
     },
     "metadata": {}
    }
   ],
   "source": [
    "from datasets import get_mvs_of_features\n",
    "\n",
    "categories = [\n",
    "    'is_category_entertainment',\n",
    "    'is_category_lifestyle',\n",
    "    'is_category_business',\n",
    "    'is_category_socialmedia',\n",
    "    'is_category_tech',\n",
    "    'is_category_world'\n",
    "    ]\n",
    "\n",
    "category_mvs = get_mvs_of_features(popularity_data,categories)\n",
    "display(category_mvs[categories])"
   ]
  },
  {
   "source": [
    "### Correct values at indexes"
   ],
   "cell_type": "markdown",
   "metadata": {}
  },
  {
   "cell_type": "code",
   "execution_count": 4,
   "metadata": {},
   "outputs": [],
   "source": [
    "popularity_data.at[category_mvs.iloc[0].name, 'is_category_lifestyle'] = 1\n",
    "popularity_data.at[category_mvs.iloc[1].name, 'is_category_socialmedia'] = 1"
   ]
  },
  {
   "cell_type": "code",
   "execution_count": 5,
   "metadata": {},
   "outputs": [
    {
     "output_type": "display_data",
     "data": {
      "text/plain": "Empty DataFrame\nColumns: [is_category_entertainment, is_category_lifestyle, is_category_business, is_category_socialmedia, is_category_tech, is_category_world]\nIndex: []",
      "text/html": "<div>\n<style scoped>\n    .dataframe tbody tr th:only-of-type {\n        vertical-align: middle;\n    }\n\n    .dataframe tbody tr th {\n        vertical-align: top;\n    }\n\n    .dataframe thead th {\n        text-align: right;\n    }\n</style>\n<table border=\"1\" class=\"dataframe\">\n  <thead>\n    <tr style=\"text-align: right;\">\n      <th></th>\n      <th>is_category_entertainment</th>\n      <th>is_category_lifestyle</th>\n      <th>is_category_business</th>\n      <th>is_category_socialmedia</th>\n      <th>is_category_tech</th>\n      <th>is_category_world</th>\n    </tr>\n  </thead>\n  <tbody>\n  </tbody>\n</table>\n</div>"
     },
     "metadata": {}
    },
    {
     "output_type": "display_data",
     "data": {
      "text/plain": "       number_words_title  number_words_content  rate_unique_words_content  \\\n1223                  NaN                   993                   0.449597   \n1222                  NaN                   119                   0.705882   \n1220                  NaN                   308                   0.616667   \n1221                  NaN                   435                   0.458333   \n\n      rate_non_stop_words_content  rate_unique_non_stop_words_content  \\\n1223                          1.0                            0.667870   \n1222                          1.0                            0.861538   \n1220                          1.0                            0.714286   \n1221                          1.0                            0.551020   \n\n      number_links   number_links_to_mashable   number_imgs   number_videos  \\\n1223             2                          1             1               0   \n1222             1                          0             0               1   \n1220            11                          3             1               1   \n1221             3                          2             1              13   \n\n       average_word_length  ...   max_polarity_in_positive_words  \\\n1223              4.445116  ...                              1.0   \n1222              4.218487  ...                              1.0   \n1220              4.928571  ...                              0.6   \n1221              4.972414  ...                              0.5   \n\n       avg_polarity_in_negative_words   min_polarity_in_negative_words  \\\n1223                         -0.28581                             -0.8   \n1222                         -0.60000                             -0.6   \n1220                          0.00000                              0.0   \n1221                         -0.35000                             -0.7   \n\n       max_polarity_in_negative_words   title_sentiment_subjectivity  \\\n1223                           -0.050                           0.85   \n1222                           -0.600                           0.00   \n1220                            0.000                           0.00   \n1221                           -0.125                           0.30   \n\n       title_sentiment_polarity   abs_title_subjectivity  \\\n1223                      0.625                     0.35   \n1222                      0.000                     0.50   \n1220                      0.000                     0.50   \n1221                      1.000                     0.20   \n\n       abs_title_sentiment_polarity  share_class   shares  \n1223                          0.625            2     1900  \n1222                          0.000            3     8700  \n1220                          0.000            0      804  \n1221                          1.000            1     1200  \n\n[4 rows x 60 columns]",
      "text/html": "<div>\n<style scoped>\n    .dataframe tbody tr th:only-of-type {\n        vertical-align: middle;\n    }\n\n    .dataframe tbody tr th {\n        vertical-align: top;\n    }\n\n    .dataframe thead th {\n        text-align: right;\n    }\n</style>\n<table border=\"1\" class=\"dataframe\">\n  <thead>\n    <tr style=\"text-align: right;\">\n      <th></th>\n      <th>number_words_title</th>\n      <th>number_words_content</th>\n      <th>rate_unique_words_content</th>\n      <th>rate_non_stop_words_content</th>\n      <th>rate_unique_non_stop_words_content</th>\n      <th>number_links</th>\n      <th>number_links_to_mashable</th>\n      <th>number_imgs</th>\n      <th>number_videos</th>\n      <th>average_word_length</th>\n      <th>...</th>\n      <th>max_polarity_in_positive_words</th>\n      <th>avg_polarity_in_negative_words</th>\n      <th>min_polarity_in_negative_words</th>\n      <th>max_polarity_in_negative_words</th>\n      <th>title_sentiment_subjectivity</th>\n      <th>title_sentiment_polarity</th>\n      <th>abs_title_subjectivity</th>\n      <th>abs_title_sentiment_polarity</th>\n      <th>share_class</th>\n      <th>shares</th>\n    </tr>\n  </thead>\n  <tbody>\n    <tr>\n      <th>1223</th>\n      <td>NaN</td>\n      <td>993</td>\n      <td>0.449597</td>\n      <td>1.0</td>\n      <td>0.667870</td>\n      <td>2</td>\n      <td>1</td>\n      <td>1</td>\n      <td>0</td>\n      <td>4.445116</td>\n      <td>...</td>\n      <td>1.0</td>\n      <td>-0.28581</td>\n      <td>-0.8</td>\n      <td>-0.050</td>\n      <td>0.85</td>\n      <td>0.625</td>\n      <td>0.35</td>\n      <td>0.625</td>\n      <td>2</td>\n      <td>1900</td>\n    </tr>\n    <tr>\n      <th>1222</th>\n      <td>NaN</td>\n      <td>119</td>\n      <td>0.705882</td>\n      <td>1.0</td>\n      <td>0.861538</td>\n      <td>1</td>\n      <td>0</td>\n      <td>0</td>\n      <td>1</td>\n      <td>4.218487</td>\n      <td>...</td>\n      <td>1.0</td>\n      <td>-0.60000</td>\n      <td>-0.6</td>\n      <td>-0.600</td>\n      <td>0.00</td>\n      <td>0.000</td>\n      <td>0.50</td>\n      <td>0.000</td>\n      <td>3</td>\n      <td>8700</td>\n    </tr>\n    <tr>\n      <th>1220</th>\n      <td>NaN</td>\n      <td>308</td>\n      <td>0.616667</td>\n      <td>1.0</td>\n      <td>0.714286</td>\n      <td>11</td>\n      <td>3</td>\n      <td>1</td>\n      <td>1</td>\n      <td>4.928571</td>\n      <td>...</td>\n      <td>0.6</td>\n      <td>0.00000</td>\n      <td>0.0</td>\n      <td>0.000</td>\n      <td>0.00</td>\n      <td>0.000</td>\n      <td>0.50</td>\n      <td>0.000</td>\n      <td>0</td>\n      <td>804</td>\n    </tr>\n    <tr>\n      <th>1221</th>\n      <td>NaN</td>\n      <td>435</td>\n      <td>0.458333</td>\n      <td>1.0</td>\n      <td>0.551020</td>\n      <td>3</td>\n      <td>2</td>\n      <td>1</td>\n      <td>13</td>\n      <td>4.972414</td>\n      <td>...</td>\n      <td>0.5</td>\n      <td>-0.35000</td>\n      <td>-0.7</td>\n      <td>-0.125</td>\n      <td>0.30</td>\n      <td>1.000</td>\n      <td>0.20</td>\n      <td>1.000</td>\n      <td>1</td>\n      <td>1200</td>\n    </tr>\n  </tbody>\n</table>\n<p>4 rows × 60 columns</p>\n</div>"
     },
     "metadata": {}
    },
    {
     "output_type": "execute_result",
     "data": {
      "text/plain": [
       "       number_words_title  number_words_content  rate_unique_words_content  \\\n",
       "1223                  NaN                   993                   0.449597   \n",
       "1222                  NaN                   119                   0.705882   \n",
       "1220                  NaN                   308                   0.616667   \n",
       "1221                  NaN                   435                   0.458333   \n",
       "\n",
       "      rate_non_stop_words_content  rate_unique_non_stop_words_content  \\\n",
       "1223                          1.0                            0.667870   \n",
       "1222                          1.0                            0.861538   \n",
       "1220                          1.0                            0.714286   \n",
       "1221                          1.0                            0.551020   \n",
       "\n",
       "      number_links   number_links_to_mashable   number_imgs   number_videos  \\\n",
       "1223             2                          1             1               0   \n",
       "1222             1                          0             0               1   \n",
       "1220            11                          3             1               1   \n",
       "1221             3                          2             1              13   \n",
       "\n",
       "       average_word_length  ...   max_polarity_in_positive_words  \\\n",
       "1223              4.445116  ...                              1.0   \n",
       "1222              4.218487  ...                              1.0   \n",
       "1220              4.928571  ...                              0.6   \n",
       "1221              4.972414  ...                              0.5   \n",
       "\n",
       "       avg_polarity_in_negative_words   min_polarity_in_negative_words  \\\n",
       "1223                         -0.28581                             -0.8   \n",
       "1222                         -0.60000                             -0.6   \n",
       "1220                          0.00000                              0.0   \n",
       "1221                         -0.35000                             -0.7   \n",
       "\n",
       "       max_polarity_in_negative_words   title_sentiment_subjectivity  \\\n",
       "1223                           -0.050                           0.85   \n",
       "1222                           -0.600                           0.00   \n",
       "1220                            0.000                           0.00   \n",
       "1221                           -0.125                           0.30   \n",
       "\n",
       "       title_sentiment_polarity   abs_title_subjectivity  \\\n",
       "1223                      0.625                     0.35   \n",
       "1222                      0.000                     0.50   \n",
       "1220                      0.000                     0.50   \n",
       "1221                      1.000                     0.20   \n",
       "\n",
       "       abs_title_sentiment_polarity  share_class   shares  \n",
       "1223                          0.625            2     1900  \n",
       "1222                          0.000            3     8700  \n",
       "1220                          0.000            0      804  \n",
       "1221                          1.000            1     1200  \n",
       "\n",
       "[4 rows x 60 columns]"
      ],
      "text/html": "<div>\n<style scoped>\n    .dataframe tbody tr th:only-of-type {\n        vertical-align: middle;\n    }\n\n    .dataframe tbody tr th {\n        vertical-align: top;\n    }\n\n    .dataframe thead th {\n        text-align: right;\n    }\n</style>\n<table border=\"1\" class=\"dataframe\">\n  <thead>\n    <tr style=\"text-align: right;\">\n      <th></th>\n      <th>number_words_title</th>\n      <th>number_words_content</th>\n      <th>rate_unique_words_content</th>\n      <th>rate_non_stop_words_content</th>\n      <th>rate_unique_non_stop_words_content</th>\n      <th>number_links</th>\n      <th>number_links_to_mashable</th>\n      <th>number_imgs</th>\n      <th>number_videos</th>\n      <th>average_word_length</th>\n      <th>...</th>\n      <th>max_polarity_in_positive_words</th>\n      <th>avg_polarity_in_negative_words</th>\n      <th>min_polarity_in_negative_words</th>\n      <th>max_polarity_in_negative_words</th>\n      <th>title_sentiment_subjectivity</th>\n      <th>title_sentiment_polarity</th>\n      <th>abs_title_subjectivity</th>\n      <th>abs_title_sentiment_polarity</th>\n      <th>share_class</th>\n      <th>shares</th>\n    </tr>\n  </thead>\n  <tbody>\n    <tr>\n      <th>1223</th>\n      <td>NaN</td>\n      <td>993</td>\n      <td>0.449597</td>\n      <td>1.0</td>\n      <td>0.667870</td>\n      <td>2</td>\n      <td>1</td>\n      <td>1</td>\n      <td>0</td>\n      <td>4.445116</td>\n      <td>...</td>\n      <td>1.0</td>\n      <td>-0.28581</td>\n      <td>-0.8</td>\n      <td>-0.050</td>\n      <td>0.85</td>\n      <td>0.625</td>\n      <td>0.35</td>\n      <td>0.625</td>\n      <td>2</td>\n      <td>1900</td>\n    </tr>\n    <tr>\n      <th>1222</th>\n      <td>NaN</td>\n      <td>119</td>\n      <td>0.705882</td>\n      <td>1.0</td>\n      <td>0.861538</td>\n      <td>1</td>\n      <td>0</td>\n      <td>0</td>\n      <td>1</td>\n      <td>4.218487</td>\n      <td>...</td>\n      <td>1.0</td>\n      <td>-0.60000</td>\n      <td>-0.6</td>\n      <td>-0.600</td>\n      <td>0.00</td>\n      <td>0.000</td>\n      <td>0.50</td>\n      <td>0.000</td>\n      <td>3</td>\n      <td>8700</td>\n    </tr>\n    <tr>\n      <th>1220</th>\n      <td>NaN</td>\n      <td>308</td>\n      <td>0.616667</td>\n      <td>1.0</td>\n      <td>0.714286</td>\n      <td>11</td>\n      <td>3</td>\n      <td>1</td>\n      <td>1</td>\n      <td>4.928571</td>\n      <td>...</td>\n      <td>0.6</td>\n      <td>0.00000</td>\n      <td>0.0</td>\n      <td>0.000</td>\n      <td>0.00</td>\n      <td>0.000</td>\n      <td>0.50</td>\n      <td>0.000</td>\n      <td>0</td>\n      <td>804</td>\n    </tr>\n    <tr>\n      <th>1221</th>\n      <td>NaN</td>\n      <td>435</td>\n      <td>0.458333</td>\n      <td>1.0</td>\n      <td>0.551020</td>\n      <td>3</td>\n      <td>2</td>\n      <td>1</td>\n      <td>13</td>\n      <td>4.972414</td>\n      <td>...</td>\n      <td>0.5</td>\n      <td>-0.35000</td>\n      <td>-0.7</td>\n      <td>-0.125</td>\n      <td>0.30</td>\n      <td>1.000</td>\n      <td>0.20</td>\n      <td>1.000</td>\n      <td>1</td>\n      <td>1200</td>\n    </tr>\n  </tbody>\n</table>\n<p>4 rows × 60 columns</p>\n</div>"
     },
     "metadata": {},
     "execution_count": 5
    }
   ],
   "source": [
    "category_mvs = get_mvs_of_features(popularity_data,categories)\n",
    "display(category_mvs[categories])\n",
    "show_mvs(popularity_data)"
   ]
  },
  {
   "source": [
    "### Missing categories are no longer missing"
   ],
   "cell_type": "markdown",
   "metadata": {}
  },
  {
   "source": [
    "## MV's Number Words Title"
   ],
   "cell_type": "markdown",
   "metadata": {}
  },
  {
   "source": [
    "### Find out indexes of mvs"
   ],
   "cell_type": "markdown",
   "metadata": {}
  },
  {
   "cell_type": "code",
   "execution_count": 6,
   "metadata": {},
   "outputs": [
    {
     "output_type": "display_data",
     "data": {
      "text/plain": "       number_words_title  number_words_content  rate_unique_words_content  \\\n1223                  NaN                   993                   0.449597   \n1222                  NaN                   119                   0.705882   \n1220                  NaN                   308                   0.616667   \n1221                  NaN                   435                   0.458333   \n\n      rate_non_stop_words_content  rate_unique_non_stop_words_content  \\\n1223                          1.0                            0.667870   \n1222                          1.0                            0.861538   \n1220                          1.0                            0.714286   \n1221                          1.0                            0.551020   \n\n      number_links   number_links_to_mashable   number_imgs   number_videos  \\\n1223             2                          1             1               0   \n1222             1                          0             0               1   \n1220            11                          3             1               1   \n1221             3                          2             1              13   \n\n       average_word_length  ...   max_polarity_in_positive_words  \\\n1223              4.445116  ...                              1.0   \n1222              4.218487  ...                              1.0   \n1220              4.928571  ...                              0.6   \n1221              4.972414  ...                              0.5   \n\n       avg_polarity_in_negative_words   min_polarity_in_negative_words  \\\n1223                         -0.28581                             -0.8   \n1222                         -0.60000                             -0.6   \n1220                          0.00000                              0.0   \n1221                         -0.35000                             -0.7   \n\n       max_polarity_in_negative_words   title_sentiment_subjectivity  \\\n1223                           -0.050                           0.85   \n1222                           -0.600                           0.00   \n1220                            0.000                           0.00   \n1221                           -0.125                           0.30   \n\n       title_sentiment_polarity   abs_title_subjectivity  \\\n1223                      0.625                     0.35   \n1222                      0.000                     0.50   \n1220                      0.000                     0.50   \n1221                      1.000                     0.20   \n\n       abs_title_sentiment_polarity  share_class   shares  \n1223                          0.625            2     1900  \n1222                          0.000            3     8700  \n1220                          0.000            0      804  \n1221                          1.000            1     1200  \n\n[4 rows x 60 columns]",
      "text/html": "<div>\n<style scoped>\n    .dataframe tbody tr th:only-of-type {\n        vertical-align: middle;\n    }\n\n    .dataframe tbody tr th {\n        vertical-align: top;\n    }\n\n    .dataframe thead th {\n        text-align: right;\n    }\n</style>\n<table border=\"1\" class=\"dataframe\">\n  <thead>\n    <tr style=\"text-align: right;\">\n      <th></th>\n      <th>number_words_title</th>\n      <th>number_words_content</th>\n      <th>rate_unique_words_content</th>\n      <th>rate_non_stop_words_content</th>\n      <th>rate_unique_non_stop_words_content</th>\n      <th>number_links</th>\n      <th>number_links_to_mashable</th>\n      <th>number_imgs</th>\n      <th>number_videos</th>\n      <th>average_word_length</th>\n      <th>...</th>\n      <th>max_polarity_in_positive_words</th>\n      <th>avg_polarity_in_negative_words</th>\n      <th>min_polarity_in_negative_words</th>\n      <th>max_polarity_in_negative_words</th>\n      <th>title_sentiment_subjectivity</th>\n      <th>title_sentiment_polarity</th>\n      <th>abs_title_subjectivity</th>\n      <th>abs_title_sentiment_polarity</th>\n      <th>share_class</th>\n      <th>shares</th>\n    </tr>\n  </thead>\n  <tbody>\n    <tr>\n      <th>1223</th>\n      <td>NaN</td>\n      <td>993</td>\n      <td>0.449597</td>\n      <td>1.0</td>\n      <td>0.667870</td>\n      <td>2</td>\n      <td>1</td>\n      <td>1</td>\n      <td>0</td>\n      <td>4.445116</td>\n      <td>...</td>\n      <td>1.0</td>\n      <td>-0.28581</td>\n      <td>-0.8</td>\n      <td>-0.050</td>\n      <td>0.85</td>\n      <td>0.625</td>\n      <td>0.35</td>\n      <td>0.625</td>\n      <td>2</td>\n      <td>1900</td>\n    </tr>\n    <tr>\n      <th>1222</th>\n      <td>NaN</td>\n      <td>119</td>\n      <td>0.705882</td>\n      <td>1.0</td>\n      <td>0.861538</td>\n      <td>1</td>\n      <td>0</td>\n      <td>0</td>\n      <td>1</td>\n      <td>4.218487</td>\n      <td>...</td>\n      <td>1.0</td>\n      <td>-0.60000</td>\n      <td>-0.6</td>\n      <td>-0.600</td>\n      <td>0.00</td>\n      <td>0.000</td>\n      <td>0.50</td>\n      <td>0.000</td>\n      <td>3</td>\n      <td>8700</td>\n    </tr>\n    <tr>\n      <th>1220</th>\n      <td>NaN</td>\n      <td>308</td>\n      <td>0.616667</td>\n      <td>1.0</td>\n      <td>0.714286</td>\n      <td>11</td>\n      <td>3</td>\n      <td>1</td>\n      <td>1</td>\n      <td>4.928571</td>\n      <td>...</td>\n      <td>0.6</td>\n      <td>0.00000</td>\n      <td>0.0</td>\n      <td>0.000</td>\n      <td>0.00</td>\n      <td>0.000</td>\n      <td>0.50</td>\n      <td>0.000</td>\n      <td>0</td>\n      <td>804</td>\n    </tr>\n    <tr>\n      <th>1221</th>\n      <td>NaN</td>\n      <td>435</td>\n      <td>0.458333</td>\n      <td>1.0</td>\n      <td>0.551020</td>\n      <td>3</td>\n      <td>2</td>\n      <td>1</td>\n      <td>13</td>\n      <td>4.972414</td>\n      <td>...</td>\n      <td>0.5</td>\n      <td>-0.35000</td>\n      <td>-0.7</td>\n      <td>-0.125</td>\n      <td>0.30</td>\n      <td>1.000</td>\n      <td>0.20</td>\n      <td>1.000</td>\n      <td>1</td>\n      <td>1200</td>\n    </tr>\n  </tbody>\n</table>\n<p>4 rows × 60 columns</p>\n</div>"
     },
     "metadata": {}
    }
   ],
   "source": [
    "from datasets import get_mvs_of_feature\n",
    "\n",
    "number_words_title_mvs = get_mvs_of_feature(popularity_data, [' number_words_title'])\n",
    "\n",
    "display(number_words_title_mvs)"
   ]
  },
  {
   "cell_type": "code",
   "execution_count": 7,
   "metadata": {},
   "outputs": [
    {
     "output_type": "display_data",
     "data": {
      "text/plain": "       number_words_title  number_words_content  rate_unique_words_content  \\\n1223                 10.0                   993                   0.449597   \n1222                 10.0                   119                   0.705882   \n1220                 10.0                   308                   0.616667   \n1221                 10.0                   435                   0.458333   \n\n      rate_non_stop_words_content  rate_unique_non_stop_words_content  \\\n1223                          1.0                            0.667870   \n1222                          1.0                            0.861538   \n1220                          1.0                            0.714286   \n1221                          1.0                            0.551020   \n\n      number_links   number_links_to_mashable   number_imgs   number_videos  \\\n1223             2                          1             1               0   \n1222             1                          0             0               1   \n1220            11                          3             1               1   \n1221             3                          2             1              13   \n\n       average_word_length  ...   max_polarity_in_positive_words  \\\n1223              4.445116  ...                              1.0   \n1222              4.218487  ...                              1.0   \n1220              4.928571  ...                              0.6   \n1221              4.972414  ...                              0.5   \n\n       avg_polarity_in_negative_words   min_polarity_in_negative_words  \\\n1223                         -0.28581                             -0.8   \n1222                         -0.60000                             -0.6   \n1220                          0.00000                              0.0   \n1221                         -0.35000                             -0.7   \n\n       max_polarity_in_negative_words   title_sentiment_subjectivity  \\\n1223                           -0.050                           0.85   \n1222                           -0.600                           0.00   \n1220                            0.000                           0.00   \n1221                           -0.125                           0.30   \n\n       title_sentiment_polarity   abs_title_subjectivity  \\\n1223                      0.625                     0.35   \n1222                      0.000                     0.50   \n1220                      0.000                     0.50   \n1221                      1.000                     0.20   \n\n       abs_title_sentiment_polarity  share_class   shares  \n1223                          0.625            2     1900  \n1222                          0.000            3     8700  \n1220                          0.000            0      804  \n1221                          1.000            1     1200  \n\n[4 rows x 60 columns]",
      "text/html": "<div>\n<style scoped>\n    .dataframe tbody tr th:only-of-type {\n        vertical-align: middle;\n    }\n\n    .dataframe tbody tr th {\n        vertical-align: top;\n    }\n\n    .dataframe thead th {\n        text-align: right;\n    }\n</style>\n<table border=\"1\" class=\"dataframe\">\n  <thead>\n    <tr style=\"text-align: right;\">\n      <th></th>\n      <th>number_words_title</th>\n      <th>number_words_content</th>\n      <th>rate_unique_words_content</th>\n      <th>rate_non_stop_words_content</th>\n      <th>rate_unique_non_stop_words_content</th>\n      <th>number_links</th>\n      <th>number_links_to_mashable</th>\n      <th>number_imgs</th>\n      <th>number_videos</th>\n      <th>average_word_length</th>\n      <th>...</th>\n      <th>max_polarity_in_positive_words</th>\n      <th>avg_polarity_in_negative_words</th>\n      <th>min_polarity_in_negative_words</th>\n      <th>max_polarity_in_negative_words</th>\n      <th>title_sentiment_subjectivity</th>\n      <th>title_sentiment_polarity</th>\n      <th>abs_title_subjectivity</th>\n      <th>abs_title_sentiment_polarity</th>\n      <th>share_class</th>\n      <th>shares</th>\n    </tr>\n  </thead>\n  <tbody>\n    <tr>\n      <th>1223</th>\n      <td>10.0</td>\n      <td>993</td>\n      <td>0.449597</td>\n      <td>1.0</td>\n      <td>0.667870</td>\n      <td>2</td>\n      <td>1</td>\n      <td>1</td>\n      <td>0</td>\n      <td>4.445116</td>\n      <td>...</td>\n      <td>1.0</td>\n      <td>-0.28581</td>\n      <td>-0.8</td>\n      <td>-0.050</td>\n      <td>0.85</td>\n      <td>0.625</td>\n      <td>0.35</td>\n      <td>0.625</td>\n      <td>2</td>\n      <td>1900</td>\n    </tr>\n    <tr>\n      <th>1222</th>\n      <td>10.0</td>\n      <td>119</td>\n      <td>0.705882</td>\n      <td>1.0</td>\n      <td>0.861538</td>\n      <td>1</td>\n      <td>0</td>\n      <td>0</td>\n      <td>1</td>\n      <td>4.218487</td>\n      <td>...</td>\n      <td>1.0</td>\n      <td>-0.60000</td>\n      <td>-0.6</td>\n      <td>-0.600</td>\n      <td>0.00</td>\n      <td>0.000</td>\n      <td>0.50</td>\n      <td>0.000</td>\n      <td>3</td>\n      <td>8700</td>\n    </tr>\n    <tr>\n      <th>1220</th>\n      <td>10.0</td>\n      <td>308</td>\n      <td>0.616667</td>\n      <td>1.0</td>\n      <td>0.714286</td>\n      <td>11</td>\n      <td>3</td>\n      <td>1</td>\n      <td>1</td>\n      <td>4.928571</td>\n      <td>...</td>\n      <td>0.6</td>\n      <td>0.00000</td>\n      <td>0.0</td>\n      <td>0.000</td>\n      <td>0.00</td>\n      <td>0.000</td>\n      <td>0.50</td>\n      <td>0.000</td>\n      <td>0</td>\n      <td>804</td>\n    </tr>\n    <tr>\n      <th>1221</th>\n      <td>10.0</td>\n      <td>435</td>\n      <td>0.458333</td>\n      <td>1.0</td>\n      <td>0.551020</td>\n      <td>3</td>\n      <td>2</td>\n      <td>1</td>\n      <td>13</td>\n      <td>4.972414</td>\n      <td>...</td>\n      <td>0.5</td>\n      <td>-0.35000</td>\n      <td>-0.7</td>\n      <td>-0.125</td>\n      <td>0.30</td>\n      <td>1.000</td>\n      <td>0.20</td>\n      <td>1.000</td>\n      <td>1</td>\n      <td>1200</td>\n    </tr>\n  </tbody>\n</table>\n<p>4 rows × 60 columns</p>\n</div>"
     },
     "metadata": {}
    },
    {
     "output_type": "display_data",
     "data": {
      "text/plain": "Empty DataFrame\nColumns: [ number_words_title, number_words_content, rate_unique_words_content, rate_non_stop_words_content, rate_unique_non_stop_words_content, number_links,  number_links_to_mashable,  number_imgs,  number_videos,  average_word_length,  number_keywords, is_category_lifestyle, is_category_entertainment, is_category_business, is_category_socialmedia, is_category_tech, is_category_world,  kw_min_min,  kw_max_min,  kw_avg_min,  kw_min_max,  kw_max_max,  kw_avg_max,  kw_min_avg,  kw_max_avg,  kw_avg_avg,  self_reference_min_shares,  self_reference_max_shares,  self_reference_avg_sharess, is_monday, is_tuesday, is_wednesday, is_thursday, is_friday, is_saturday,  is_sunday,  is_weekend,  LDA_00,  LDA_01,  LDA_02,  LDA_03,  LDA_04, sentiment_subjectivity, sentiment_polarity,  global_rate_positive_words,  global_rate_negative_words,  rate_positive_words,  rate_negative_words,  avg_polarity_in_positive_words,  min_polarity_in_positive_words,  max_polarity_in_positive_words,  avg_polarity_in_negative_words,  min_polarity_in_negative_words,  max_polarity_in_negative_words,  title_sentiment_subjectivity,  title_sentiment_polarity,  abs_title_subjectivity,  abs_title_sentiment_polarity, share_class,  shares]\nIndex: []\n\n[0 rows x 60 columns]",
      "text/html": "<div>\n<style scoped>\n    .dataframe tbody tr th:only-of-type {\n        vertical-align: middle;\n    }\n\n    .dataframe tbody tr th {\n        vertical-align: top;\n    }\n\n    .dataframe thead th {\n        text-align: right;\n    }\n</style>\n<table border=\"1\" class=\"dataframe\">\n  <thead>\n    <tr style=\"text-align: right;\">\n      <th></th>\n      <th>number_words_title</th>\n      <th>number_words_content</th>\n      <th>rate_unique_words_content</th>\n      <th>rate_non_stop_words_content</th>\n      <th>rate_unique_non_stop_words_content</th>\n      <th>number_links</th>\n      <th>number_links_to_mashable</th>\n      <th>number_imgs</th>\n      <th>number_videos</th>\n      <th>average_word_length</th>\n      <th>...</th>\n      <th>max_polarity_in_positive_words</th>\n      <th>avg_polarity_in_negative_words</th>\n      <th>min_polarity_in_negative_words</th>\n      <th>max_polarity_in_negative_words</th>\n      <th>title_sentiment_subjectivity</th>\n      <th>title_sentiment_polarity</th>\n      <th>abs_title_subjectivity</th>\n      <th>abs_title_sentiment_polarity</th>\n      <th>share_class</th>\n      <th>shares</th>\n    </tr>\n  </thead>\n  <tbody>\n  </tbody>\n</table>\n<p>0 rows × 60 columns</p>\n</div>"
     },
     "metadata": {}
    },
    {
     "output_type": "execute_result",
     "data": {
      "text/plain": [
       "Empty DataFrame\n",
       "Columns: [ number_words_title, number_words_content, rate_unique_words_content, rate_non_stop_words_content, rate_unique_non_stop_words_content, number_links,  number_links_to_mashable,  number_imgs,  number_videos,  average_word_length,  number_keywords, is_category_lifestyle, is_category_entertainment, is_category_business, is_category_socialmedia, is_category_tech, is_category_world,  kw_min_min,  kw_max_min,  kw_avg_min,  kw_min_max,  kw_max_max,  kw_avg_max,  kw_min_avg,  kw_max_avg,  kw_avg_avg,  self_reference_min_shares,  self_reference_max_shares,  self_reference_avg_sharess, is_monday, is_tuesday, is_wednesday, is_thursday, is_friday, is_saturday,  is_sunday,  is_weekend,  LDA_00,  LDA_01,  LDA_02,  LDA_03,  LDA_04, sentiment_subjectivity, sentiment_polarity,  global_rate_positive_words,  global_rate_negative_words,  rate_positive_words,  rate_negative_words,  avg_polarity_in_positive_words,  min_polarity_in_positive_words,  max_polarity_in_positive_words,  avg_polarity_in_negative_words,  min_polarity_in_negative_words,  max_polarity_in_negative_words,  title_sentiment_subjectivity,  title_sentiment_polarity,  abs_title_subjectivity,  abs_title_sentiment_polarity, share_class,  shares]\n",
       "Index: []\n",
       "\n",
       "[0 rows x 60 columns]"
      ],
      "text/html": "<div>\n<style scoped>\n    .dataframe tbody tr th:only-of-type {\n        vertical-align: middle;\n    }\n\n    .dataframe tbody tr th {\n        vertical-align: top;\n    }\n\n    .dataframe thead th {\n        text-align: right;\n    }\n</style>\n<table border=\"1\" class=\"dataframe\">\n  <thead>\n    <tr style=\"text-align: right;\">\n      <th></th>\n      <th>number_words_title</th>\n      <th>number_words_content</th>\n      <th>rate_unique_words_content</th>\n      <th>rate_non_stop_words_content</th>\n      <th>rate_unique_non_stop_words_content</th>\n      <th>number_links</th>\n      <th>number_links_to_mashable</th>\n      <th>number_imgs</th>\n      <th>number_videos</th>\n      <th>average_word_length</th>\n      <th>...</th>\n      <th>max_polarity_in_positive_words</th>\n      <th>avg_polarity_in_negative_words</th>\n      <th>min_polarity_in_negative_words</th>\n      <th>max_polarity_in_negative_words</th>\n      <th>title_sentiment_subjectivity</th>\n      <th>title_sentiment_polarity</th>\n      <th>abs_title_subjectivity</th>\n      <th>abs_title_sentiment_polarity</th>\n      <th>share_class</th>\n      <th>shares</th>\n    </tr>\n  </thead>\n  <tbody>\n  </tbody>\n</table>\n<p>0 rows × 60 columns</p>\n</div>"
     },
     "metadata": {},
     "execution_count": 7
    }
   ],
   "source": [
    "from sklearn.experimental import enable_iterative_imputer\n",
    "from sklearn.impute import SimpleImputer\n",
    "from datasets import show_mvs\n",
    "\n",
    "columns = [' number_words_title']\n",
    "mvs_data = popularity_data[columns]\n",
    "\n",
    "imp = SimpleImputer(strategy='median')\n",
    "transformed_x= imp.fit_transform(mvs_data)\n",
    "popularity_data[' number_words_title'] = transformed_x\n",
    "\n",
    "display(popularity_data.loc[number_words_title_mvs.index])\n",
    "show_mvs(popularity_data)"
   ]
  },
  {
   "source": [
    "### Missing number words in title are no longer missing. There are no missing values anymore"
   ],
   "cell_type": "markdown",
   "metadata": {}
  },
  {
   "source": [
    "# Noise"
   ],
   "cell_type": "markdown",
   "metadata": {}
  },
  {
   "cell_type": "code",
   "execution_count": 8,
   "metadata": {},
   "outputs": [
    {
     "output_type": "stream",
     "name": "stdout",
     "text": [
      "False predictions\n"
     ]
    },
    {
     "output_type": "display_data",
     "data": {
      "text/plain": "(9911, 3)"
     },
     "metadata": {}
    },
    {
     "output_type": "display_data",
     "data": {
      "text/plain": "       Prediction  share_class  Correct Prediction\n36356           0            0                True\n14240           2            0                True\n106             0            0                True\n3341            0            1                True\n35264           0            0                True\n...           ...          ...                 ...\n19827           1            4                True\n18821           0            0                True\n10621           0            0                True\n38775           0            3                True\n39400           2            1                True\n\n[9911 rows x 3 columns]",
      "text/html": "<div>\n<style scoped>\n    .dataframe tbody tr th:only-of-type {\n        vertical-align: middle;\n    }\n\n    .dataframe tbody tr th {\n        vertical-align: top;\n    }\n\n    .dataframe thead th {\n        text-align: right;\n    }\n</style>\n<table border=\"1\" class=\"dataframe\">\n  <thead>\n    <tr style=\"text-align: right;\">\n      <th></th>\n      <th>Prediction</th>\n      <th>share_class</th>\n      <th>Correct Prediction</th>\n    </tr>\n  </thead>\n  <tbody>\n    <tr>\n      <th>36356</th>\n      <td>0</td>\n      <td>0</td>\n      <td>True</td>\n    </tr>\n    <tr>\n      <th>14240</th>\n      <td>2</td>\n      <td>0</td>\n      <td>True</td>\n    </tr>\n    <tr>\n      <th>106</th>\n      <td>0</td>\n      <td>0</td>\n      <td>True</td>\n    </tr>\n    <tr>\n      <th>3341</th>\n      <td>0</td>\n      <td>1</td>\n      <td>True</td>\n    </tr>\n    <tr>\n      <th>35264</th>\n      <td>0</td>\n      <td>0</td>\n      <td>True</td>\n    </tr>\n    <tr>\n      <th>...</th>\n      <td>...</td>\n      <td>...</td>\n      <td>...</td>\n    </tr>\n    <tr>\n      <th>19827</th>\n      <td>1</td>\n      <td>4</td>\n      <td>True</td>\n    </tr>\n    <tr>\n      <th>18821</th>\n      <td>0</td>\n      <td>0</td>\n      <td>True</td>\n    </tr>\n    <tr>\n      <th>10621</th>\n      <td>0</td>\n      <td>0</td>\n      <td>True</td>\n    </tr>\n    <tr>\n      <th>38775</th>\n      <td>0</td>\n      <td>3</td>\n      <td>True</td>\n    </tr>\n    <tr>\n      <th>39400</th>\n      <td>2</td>\n      <td>1</td>\n      <td>True</td>\n    </tr>\n  </tbody>\n</table>\n<p>9911 rows × 3 columns</p>\n</div>"
     },
     "metadata": {}
    },
    {
     "output_type": "display_data",
     "data": {
      "text/plain": "(210, 3)"
     },
     "metadata": {}
    },
    {
     "output_type": "display_data",
     "data": {
      "text/plain": "       Prediction  share_class  Correct Prediction\n24172           0            4               False\n30068           0            4               False\n7346            0            4               False\n18186           0            4               False\n5656            0            4               False\n...           ...          ...                 ...\n22554           0            4               False\n21086           0            4               False\n35681           0            4               False\n10390           0            4               False\n2036            0            4               False\n\n[210 rows x 3 columns]",
      "text/html": "<div>\n<style scoped>\n    .dataframe tbody tr th:only-of-type {\n        vertical-align: middle;\n    }\n\n    .dataframe tbody tr th {\n        vertical-align: top;\n    }\n\n    .dataframe thead th {\n        text-align: right;\n    }\n</style>\n<table border=\"1\" class=\"dataframe\">\n  <thead>\n    <tr style=\"text-align: right;\">\n      <th></th>\n      <th>Prediction</th>\n      <th>share_class</th>\n      <th>Correct Prediction</th>\n    </tr>\n  </thead>\n  <tbody>\n    <tr>\n      <th>24172</th>\n      <td>0</td>\n      <td>4</td>\n      <td>False</td>\n    </tr>\n    <tr>\n      <th>30068</th>\n      <td>0</td>\n      <td>4</td>\n      <td>False</td>\n    </tr>\n    <tr>\n      <th>7346</th>\n      <td>0</td>\n      <td>4</td>\n      <td>False</td>\n    </tr>\n    <tr>\n      <th>18186</th>\n      <td>0</td>\n      <td>4</td>\n      <td>False</td>\n    </tr>\n    <tr>\n      <th>5656</th>\n      <td>0</td>\n      <td>4</td>\n      <td>False</td>\n    </tr>\n    <tr>\n      <th>...</th>\n      <td>...</td>\n      <td>...</td>\n      <td>...</td>\n    </tr>\n    <tr>\n      <th>22554</th>\n      <td>0</td>\n      <td>4</td>\n      <td>False</td>\n    </tr>\n    <tr>\n      <th>21086</th>\n      <td>0</td>\n      <td>4</td>\n      <td>False</td>\n    </tr>\n    <tr>\n      <th>35681</th>\n      <td>0</td>\n      <td>4</td>\n      <td>False</td>\n    </tr>\n    <tr>\n      <th>10390</th>\n      <td>0</td>\n      <td>4</td>\n      <td>False</td>\n    </tr>\n    <tr>\n      <th>2036</th>\n      <td>0</td>\n      <td>4</td>\n      <td>False</td>\n    </tr>\n  </tbody>\n</table>\n<p>210 rows × 3 columns</p>\n</div>"
     },
     "metadata": {}
    }
   ],
   "source": [
    "from datasets import get_noises\n",
    "x = popularity_data.drop(' shares', axis=1).drop('share_class', axis=1)\n",
    "y = popularity_data['share_class']\n",
    "\n",
    "(result, delta_result) = get_noises(x,y, threshold=4)\n",
    "\n",
    "display(result.shape)\n",
    "display(result)\n",
    "\n",
    "display(delta_result.shape)\n",
    "display(delta_result)"
   ]
  },
  {
   "source": [
    "despite our attempts to correct noises, the overall model accuracies decreased. Because of this, our attempt is to directly delete noises."
   ],
   "cell_type": "markdown",
   "metadata": {}
  },
  {
   "cell_type": "code",
   "execution_count": 9,
   "metadata": {},
   "outputs": [
    {
     "output_type": "display_data",
     "data": {
      "text/plain": "(9701, 60)"
     },
     "metadata": {}
    }
   ],
   "source": [
    "popularity_data.drop(delta_result.index, inplace=True)\n",
    "\n",
    "display(popularity_data.shape)"
   ]
  },
  {
   "source": [
    "# Outliers"
   ],
   "cell_type": "markdown",
   "metadata": {}
  },
  {
   "cell_type": "code",
   "execution_count": 10,
   "metadata": {},
   "outputs": [
    {
     "output_type": "stream",
     "name": "stdout",
     "text": [
      "Inliers:  9216 Outliers: 485\n"
     ]
    },
    {
     "output_type": "display_data",
     "data": {
      "text/plain": "        number_words_title  number_words_content  rate_unique_words_content  \\\n23109                 10.0                     0                   0.000000   \n31481                 10.0                     0                   0.000000   \n34646                  9.0                     0                   0.000000   \n33133                 11.0                     0                   0.000000   \n36193                  8.0                     0                   0.000000   \n...                    ...                   ...                        ...   \n12275                 14.0                   182                   0.662162   \n32431                 10.0                     0                   0.000000   \n29601                 10.0                     0                   0.000000   \n39569                 15.0                     0                   0.000000   \n15566                  8.0                   171                   0.441176   \n\n       rate_non_stop_words_content  rate_unique_non_stop_words_content  \\\n23109                          0.0                            0.000000   \n31481                          0.0                            0.000000   \n34646                          0.0                            0.000000   \n33133                          0.0                            0.000000   \n36193                          0.0                            0.000000   \n...                            ...                                 ...   \n12275                          1.0                            0.752475   \n32431                          0.0                            0.000000   \n29601                          0.0                            0.000000   \n39569                          0.0                            0.000000   \n15566                          1.0                            0.483607   \n\n       number_links   number_links_to_mashable   number_imgs   number_videos  \\\n23109             0                          0             8               0   \n31481             0                          0             0               1   \n34646             0                          0             0               1   \n33133             0                          0            13               0   \n36193             0                          0             0               1   \n...             ...                        ...           ...             ...   \n12275             5                          4            28               1   \n32431             0                          0             0               1   \n29601             0                          0            19               0   \n39569             0                          0             0               1   \n15566            29                          3            25               0   \n\n        average_word_length  ...   min_polarity_in_positive_words  \\\n23109              0.000000  ...                              0.0   \n31481              0.000000  ...                              0.0   \n34646              0.000000  ...                              0.0   \n33133              0.000000  ...                              0.0   \n36193              0.000000  ...                              0.0   \n...                     ...  ...                              ...   \n12275              4.000000  ...                              0.1   \n32431              0.000000  ...                              0.0   \n29601              0.000000  ...                              0.0   \n39569              0.000000  ...                              0.0   \n15566              5.994152  ...                              0.5   \n\n        max_polarity_in_positive_words   avg_polarity_in_negative_words  \\\n23109                              0.0                            0.000   \n31481                              0.0                            0.000   \n34646                              0.0                            0.000   \n33133                              0.0                            0.000   \n36193                              0.0                            0.000   \n...                                ...                              ...   \n12275                              0.4                           -0.300   \n32431                              0.0                            0.000   \n29601                              0.0                            0.000   \n39569                              0.0                            0.000   \n15566                              1.0                           -0.125   \n\n        min_polarity_in_negative_words   max_polarity_in_negative_words  \\\n23109                            0.000                            0.000   \n31481                            0.000                            0.000   \n34646                            0.000                            0.000   \n33133                            0.000                            0.000   \n36193                            0.000                            0.000   \n...                                ...                              ...   \n12275                           -0.300                           -0.300   \n32431                            0.000                            0.000   \n29601                            0.000                            0.000   \n39569                            0.000                            0.000   \n15566                           -0.125                           -0.125   \n\n        title_sentiment_subjectivity   title_sentiment_polarity  \\\n23109                       0.000000                   0.000000   \n31481                       0.454545                   0.136364   \n34646                       1.000000                  -0.100000   \n33133                       0.000000                   0.000000   \n36193                       0.000000                   0.300000   \n...                              ...                        ...   \n12275                       0.393939                   0.193182   \n32431                       0.535714                   0.285714   \n29601                       0.500000                   0.500000   \n39569                       0.300000                   0.600000   \n15566                       1.000000                   1.000000   \n\n        abs_title_subjectivity   abs_title_sentiment_polarity  share_class  \n23109                 0.500000                       0.000000            1  \n31481                 0.045455                       0.136364            0  \n34646                 0.500000                       0.100000            0  \n33133                 0.500000                       0.000000            1  \n36193                 0.500000                       0.300000            0  \n...                        ...                            ...          ...  \n12275                 0.106061                       0.193182            0  \n32431                 0.035714                       0.285714            0  \n29601                 0.000000                       0.500000            2  \n39569                 0.200000                       0.600000            3  \n15566                 0.500000                       1.000000            2  \n\n[485 rows x 59 columns]",
      "text/html": "<div>\n<style scoped>\n    .dataframe tbody tr th:only-of-type {\n        vertical-align: middle;\n    }\n\n    .dataframe tbody tr th {\n        vertical-align: top;\n    }\n\n    .dataframe thead th {\n        text-align: right;\n    }\n</style>\n<table border=\"1\" class=\"dataframe\">\n  <thead>\n    <tr style=\"text-align: right;\">\n      <th></th>\n      <th>number_words_title</th>\n      <th>number_words_content</th>\n      <th>rate_unique_words_content</th>\n      <th>rate_non_stop_words_content</th>\n      <th>rate_unique_non_stop_words_content</th>\n      <th>number_links</th>\n      <th>number_links_to_mashable</th>\n      <th>number_imgs</th>\n      <th>number_videos</th>\n      <th>average_word_length</th>\n      <th>...</th>\n      <th>min_polarity_in_positive_words</th>\n      <th>max_polarity_in_positive_words</th>\n      <th>avg_polarity_in_negative_words</th>\n      <th>min_polarity_in_negative_words</th>\n      <th>max_polarity_in_negative_words</th>\n      <th>title_sentiment_subjectivity</th>\n      <th>title_sentiment_polarity</th>\n      <th>abs_title_subjectivity</th>\n      <th>abs_title_sentiment_polarity</th>\n      <th>share_class</th>\n    </tr>\n  </thead>\n  <tbody>\n    <tr>\n      <th>23109</th>\n      <td>10.0</td>\n      <td>0</td>\n      <td>0.000000</td>\n      <td>0.0</td>\n      <td>0.000000</td>\n      <td>0</td>\n      <td>0</td>\n      <td>8</td>\n      <td>0</td>\n      <td>0.000000</td>\n      <td>...</td>\n      <td>0.0</td>\n      <td>0.0</td>\n      <td>0.000</td>\n      <td>0.000</td>\n      <td>0.000</td>\n      <td>0.000000</td>\n      <td>0.000000</td>\n      <td>0.500000</td>\n      <td>0.000000</td>\n      <td>1</td>\n    </tr>\n    <tr>\n      <th>31481</th>\n      <td>10.0</td>\n      <td>0</td>\n      <td>0.000000</td>\n      <td>0.0</td>\n      <td>0.000000</td>\n      <td>0</td>\n      <td>0</td>\n      <td>0</td>\n      <td>1</td>\n      <td>0.000000</td>\n      <td>...</td>\n      <td>0.0</td>\n      <td>0.0</td>\n      <td>0.000</td>\n      <td>0.000</td>\n      <td>0.000</td>\n      <td>0.454545</td>\n      <td>0.136364</td>\n      <td>0.045455</td>\n      <td>0.136364</td>\n      <td>0</td>\n    </tr>\n    <tr>\n      <th>34646</th>\n      <td>9.0</td>\n      <td>0</td>\n      <td>0.000000</td>\n      <td>0.0</td>\n      <td>0.000000</td>\n      <td>0</td>\n      <td>0</td>\n      <td>0</td>\n      <td>1</td>\n      <td>0.000000</td>\n      <td>...</td>\n      <td>0.0</td>\n      <td>0.0</td>\n      <td>0.000</td>\n      <td>0.000</td>\n      <td>0.000</td>\n      <td>1.000000</td>\n      <td>-0.100000</td>\n      <td>0.500000</td>\n      <td>0.100000</td>\n      <td>0</td>\n    </tr>\n    <tr>\n      <th>33133</th>\n      <td>11.0</td>\n      <td>0</td>\n      <td>0.000000</td>\n      <td>0.0</td>\n      <td>0.000000</td>\n      <td>0</td>\n      <td>0</td>\n      <td>13</td>\n      <td>0</td>\n      <td>0.000000</td>\n      <td>...</td>\n      <td>0.0</td>\n      <td>0.0</td>\n      <td>0.000</td>\n      <td>0.000</td>\n      <td>0.000</td>\n      <td>0.000000</td>\n      <td>0.000000</td>\n      <td>0.500000</td>\n      <td>0.000000</td>\n      <td>1</td>\n    </tr>\n    <tr>\n      <th>36193</th>\n      <td>8.0</td>\n      <td>0</td>\n      <td>0.000000</td>\n      <td>0.0</td>\n      <td>0.000000</td>\n      <td>0</td>\n      <td>0</td>\n      <td>0</td>\n      <td>1</td>\n      <td>0.000000</td>\n      <td>...</td>\n      <td>0.0</td>\n      <td>0.0</td>\n      <td>0.000</td>\n      <td>0.000</td>\n      <td>0.000</td>\n      <td>0.000000</td>\n      <td>0.300000</td>\n      <td>0.500000</td>\n      <td>0.300000</td>\n      <td>0</td>\n    </tr>\n    <tr>\n      <th>...</th>\n      <td>...</td>\n      <td>...</td>\n      <td>...</td>\n      <td>...</td>\n      <td>...</td>\n      <td>...</td>\n      <td>...</td>\n      <td>...</td>\n      <td>...</td>\n      <td>...</td>\n      <td>...</td>\n      <td>...</td>\n      <td>...</td>\n      <td>...</td>\n      <td>...</td>\n      <td>...</td>\n      <td>...</td>\n      <td>...</td>\n      <td>...</td>\n      <td>...</td>\n      <td>...</td>\n    </tr>\n    <tr>\n      <th>12275</th>\n      <td>14.0</td>\n      <td>182</td>\n      <td>0.662162</td>\n      <td>1.0</td>\n      <td>0.752475</td>\n      <td>5</td>\n      <td>4</td>\n      <td>28</td>\n      <td>1</td>\n      <td>4.000000</td>\n      <td>...</td>\n      <td>0.1</td>\n      <td>0.4</td>\n      <td>-0.300</td>\n      <td>-0.300</td>\n      <td>-0.300</td>\n      <td>0.393939</td>\n      <td>0.193182</td>\n      <td>0.106061</td>\n      <td>0.193182</td>\n      <td>0</td>\n    </tr>\n    <tr>\n      <th>32431</th>\n      <td>10.0</td>\n      <td>0</td>\n      <td>0.000000</td>\n      <td>0.0</td>\n      <td>0.000000</td>\n      <td>0</td>\n      <td>0</td>\n      <td>0</td>\n      <td>1</td>\n      <td>0.000000</td>\n      <td>...</td>\n      <td>0.0</td>\n      <td>0.0</td>\n      <td>0.000</td>\n      <td>0.000</td>\n      <td>0.000</td>\n      <td>0.535714</td>\n      <td>0.285714</td>\n      <td>0.035714</td>\n      <td>0.285714</td>\n      <td>0</td>\n    </tr>\n    <tr>\n      <th>29601</th>\n      <td>10.0</td>\n      <td>0</td>\n      <td>0.000000</td>\n      <td>0.0</td>\n      <td>0.000000</td>\n      <td>0</td>\n      <td>0</td>\n      <td>19</td>\n      <td>0</td>\n      <td>0.000000</td>\n      <td>...</td>\n      <td>0.0</td>\n      <td>0.0</td>\n      <td>0.000</td>\n      <td>0.000</td>\n      <td>0.000</td>\n      <td>0.500000</td>\n      <td>0.500000</td>\n      <td>0.000000</td>\n      <td>0.500000</td>\n      <td>2</td>\n    </tr>\n    <tr>\n      <th>39569</th>\n      <td>15.0</td>\n      <td>0</td>\n      <td>0.000000</td>\n      <td>0.0</td>\n      <td>0.000000</td>\n      <td>0</td>\n      <td>0</td>\n      <td>0</td>\n      <td>1</td>\n      <td>0.000000</td>\n      <td>...</td>\n      <td>0.0</td>\n      <td>0.0</td>\n      <td>0.000</td>\n      <td>0.000</td>\n      <td>0.000</td>\n      <td>0.300000</td>\n      <td>0.600000</td>\n      <td>0.200000</td>\n      <td>0.600000</td>\n      <td>3</td>\n    </tr>\n    <tr>\n      <th>15566</th>\n      <td>8.0</td>\n      <td>171</td>\n      <td>0.441176</td>\n      <td>1.0</td>\n      <td>0.483607</td>\n      <td>29</td>\n      <td>3</td>\n      <td>25</td>\n      <td>0</td>\n      <td>5.994152</td>\n      <td>...</td>\n      <td>0.5</td>\n      <td>1.0</td>\n      <td>-0.125</td>\n      <td>-0.125</td>\n      <td>-0.125</td>\n      <td>1.000000</td>\n      <td>1.000000</td>\n      <td>0.500000</td>\n      <td>1.000000</td>\n      <td>2</td>\n    </tr>\n  </tbody>\n</table>\n<p>485 rows × 59 columns</p>\n</div>"
     },
     "metadata": {}
    }
   ],
   "source": [
    "from datasets import get_outliers\n",
    "\n",
    "x = popularity_data.drop(' shares', axis=1).drop('share_class', axis=1)\n",
    "y = popularity_data['share_class']\n",
    "\n",
    "outliers = get_outliers(x,y, contamination=0.05)\n",
    "\n",
    "display(outliers)"
   ]
  },
  {
   "source": [
    "As discussed with the noises, we delete outliers"
   ],
   "cell_type": "markdown",
   "metadata": {}
  },
  {
   "cell_type": "code",
   "execution_count": 11,
   "metadata": {},
   "outputs": [
    {
     "output_type": "display_data",
     "data": {
      "text/plain": "(9216, 60)"
     },
     "metadata": {}
    }
   ],
   "source": [
    "popularity_data.drop(outliers.index, inplace=True)\n",
    "\n",
    "display(popularity_data.shape)"
   ]
  },
  {
   "cell_type": "code",
   "execution_count": 13,
   "metadata": {},
   "outputs": [
    {
     "output_type": "stream",
     "name": "stdout",
     "text": [
      "Score with features [' number_words_title']: 0.34743880521125253\n",
      "skipping feature number_words_content\n",
      "Score with features [' number_words_title', 'rate_unique_words_content']: 0.356228115293489\n",
      "skipping feature rate_non_stop_words_content\n",
      "Score with features [' number_words_title', 'rate_unique_words_content', 'rate_unique_non_stop_words_content']: 0.35720501916732483\n",
      "skipping feature number_links\n",
      "Score with features [' number_words_title', 'rate_unique_words_content', 'rate_unique_non_stop_words_content', ' number_links_to_mashable']: 0.36197943087698903\n",
      "skipping feature  number_imgs\n",
      "skipping feature  number_videos\n",
      "skipping feature  average_word_length\n",
      "Score with features [' number_words_title', 'rate_unique_words_content', 'rate_unique_non_stop_words_content', ' number_links_to_mashable', ' number_keywords']: 0.3659948000466089\n",
      "Score with features [' number_words_title', 'rate_unique_words_content', 'rate_unique_non_stop_words_content', ' number_links_to_mashable', ' number_keywords', 'is_category_lifestyle']: 0.36599480004660895\n",
      "Score with features [' number_words_title', 'rate_unique_words_content', 'rate_unique_non_stop_words_content', ' number_links_to_mashable', ' number_keywords', 'is_category_lifestyle', 'is_category_entertainment']: 0.37966615781352436\n",
      "skipping feature is_category_business\n",
      "Score with features [' number_words_title', 'rate_unique_words_content', 'rate_unique_non_stop_words_content', ' number_links_to_mashable', ' number_keywords', 'is_category_lifestyle', 'is_category_entertainment', 'is_category_socialmedia']: 0.384983280819846\n",
      "Score with features [' number_words_title', 'rate_unique_words_content', 'rate_unique_non_stop_words_content', ' number_links_to_mashable', ' number_keywords', 'is_category_lifestyle', 'is_category_entertainment', 'is_category_socialmedia', 'is_category_tech']: 0.40635999731645683\n",
      "Score with features [' number_words_title', 'rate_unique_words_content', 'rate_unique_non_stop_words_content', ' number_links_to_mashable', ' number_keywords', 'is_category_lifestyle', 'is_category_entertainment', 'is_category_socialmedia', 'is_category_tech', 'is_category_world']: 0.42100767046089854\n",
      "skipping feature  kw_min_min\n",
      "skipping feature  kw_max_min\n",
      "skipping feature  kw_avg_min\n",
      "skipping feature  kw_min_max\n",
      "skipping feature  kw_max_max\n",
      "skipping feature  kw_avg_max\n",
      "skipping feature  kw_min_avg\n",
      "skipping feature  kw_max_avg\n",
      "skipping feature  kw_avg_avg\n",
      "skipping feature  self_reference_min_shares\n",
      "skipping feature  self_reference_max_shares\n",
      "skipping feature  self_reference_avg_sharess\n",
      "skipping feature is_monday\n",
      "skipping feature is_tuesday\n",
      "Score with features [' number_words_title', 'rate_unique_words_content', 'rate_unique_non_stop_words_content', ' number_links_to_mashable', ' number_keywords', 'is_category_lifestyle', 'is_category_entertainment', 'is_category_socialmedia', 'is_category_tech', 'is_category_world', 'is_wednesday']: 0.42317780945195693\n",
      "Score with features [' number_words_title', 'rate_unique_words_content', 'rate_unique_non_stop_words_content', ' number_links_to_mashable', ' number_keywords', 'is_category_lifestyle', 'is_category_entertainment', 'is_category_socialmedia', 'is_category_tech', 'is_category_world', 'is_wednesday', 'is_thursday']: 0.42534783074375343\n",
      "skipping feature is_friday\n",
      "Score with features [' number_words_title', 'rate_unique_words_content', 'rate_unique_non_stop_words_content', ' number_links_to_mashable', ' number_keywords', 'is_category_lifestyle', 'is_category_entertainment', 'is_category_socialmedia', 'is_category_tech', 'is_category_world', 'is_wednesday', 'is_thursday', 'is_saturday']: 0.4262159216499553\n",
      "Score with features [' number_words_title', 'rate_unique_words_content', 'rate_unique_non_stop_words_content', ' number_links_to_mashable', ' number_keywords', 'is_category_lifestyle', 'is_category_entertainment', 'is_category_socialmedia', 'is_category_tech', 'is_category_world', 'is_wednesday', 'is_thursday', 'is_saturday', ' is_sunday']: 0.43131571296916393\n",
      "Score with features [' number_words_title', 'rate_unique_words_content', 'rate_unique_non_stop_words_content', ' number_links_to_mashable', ' number_keywords', 'is_category_lifestyle', 'is_category_entertainment', 'is_category_socialmedia', 'is_category_tech', 'is_category_world', 'is_wednesday', 'is_thursday', 'is_saturday', ' is_sunday', ' is_weekend']: 0.4313159483676878\n",
      "skipping feature  LDA_00\n",
      "skipping feature  LDA_01\n",
      "Score with features [' number_words_title', 'rate_unique_words_content', 'rate_unique_non_stop_words_content', ' number_links_to_mashable', ' number_keywords', 'is_category_lifestyle', 'is_category_entertainment', 'is_category_socialmedia', 'is_category_tech', 'is_category_world', 'is_wednesday', 'is_thursday', 'is_saturday', ' is_sunday', ' is_weekend', ' LDA_02']: 0.43250988968048176\n",
      "skipping feature  LDA_03\n",
      "skipping feature  LDA_04\n",
      "Score with features [' number_words_title', 'rate_unique_words_content', 'rate_unique_non_stop_words_content', ' number_links_to_mashable', ' number_keywords', 'is_category_lifestyle', 'is_category_entertainment', 'is_category_socialmedia', 'is_category_tech', 'is_category_world', 'is_wednesday', 'is_thursday', 'is_saturday', ' is_sunday', ' is_weekend', ' LDA_02', 'sentiment_subjectivity']: 0.43305277752603216\n",
      "Score with features [' number_words_title', 'rate_unique_words_content', 'rate_unique_non_stop_words_content', ' number_links_to_mashable', ' number_keywords', 'is_category_lifestyle', 'is_category_entertainment', 'is_category_socialmedia', 'is_category_tech', 'is_category_world', 'is_wednesday', 'is_thursday', 'is_saturday', ' is_sunday', ' is_weekend', ' LDA_02', 'sentiment_subjectivity', 'sentiment_polarity']: 0.4334867347046867\n",
      "Score with features [' number_words_title', 'rate_unique_words_content', 'rate_unique_non_stop_words_content', ' number_links_to_mashable', ' number_keywords', 'is_category_lifestyle', 'is_category_entertainment', 'is_category_socialmedia', 'is_category_tech', 'is_category_world', 'is_wednesday', 'is_thursday', 'is_saturday', ' is_sunday', ' is_weekend', ' LDA_02', 'sentiment_subjectivity', 'sentiment_polarity', ' global_rate_positive_words']: 0.43402950485097513\n",
      "Score with features [' number_words_title', 'rate_unique_words_content', 'rate_unique_non_stop_words_content', ' number_links_to_mashable', ' number_keywords', 'is_category_lifestyle', 'is_category_entertainment', 'is_category_socialmedia', 'is_category_tech', 'is_category_world', 'is_wednesday', 'is_thursday', 'is_saturday', ' is_sunday', ' is_weekend', ' LDA_02', 'sentiment_subjectivity', 'sentiment_polarity', ' global_rate_positive_words', ' global_rate_negative_words']: 0.4344634620296296\n",
      "skipping feature  rate_positive_words\n",
      "skipping feature  rate_negative_words\n",
      "Score with features [' number_words_title', 'rate_unique_words_content', 'rate_unique_non_stop_words_content', ' number_links_to_mashable', ' number_keywords', 'is_category_lifestyle', 'is_category_entertainment', 'is_category_socialmedia', 'is_category_tech', 'is_category_world', 'is_wednesday', 'is_thursday', 'is_saturday', ' is_sunday', ' is_weekend', ' LDA_02', 'sentiment_subjectivity', 'sentiment_polarity', ' global_rate_positive_words', ' global_rate_negative_words', ' avg_polarity_in_positive_words']: 0.4347890181880669\n",
      "Score with features [' number_words_title', 'rate_unique_words_content', 'rate_unique_non_stop_words_content', ' number_links_to_mashable', ' number_keywords', 'is_category_lifestyle', 'is_category_entertainment', 'is_category_socialmedia', 'is_category_tech', 'is_category_world', 'is_wednesday', 'is_thursday', 'is_saturday', ' is_sunday', ' is_weekend', ' LDA_02', 'sentiment_subjectivity', 'sentiment_polarity', ' global_rate_positive_words', ' global_rate_negative_words', ' avg_polarity_in_positive_words', ' min_polarity_in_positive_words']: 0.4351143977976114\n",
      "skipping feature  max_polarity_in_positive_words\n",
      "skipping feature  avg_polarity_in_negative_words\n",
      "skipping feature  min_polarity_in_negative_words\n",
      "skipping feature  max_polarity_in_negative_words\n",
      "Score with features [' number_words_title', 'rate_unique_words_content', 'rate_unique_non_stop_words_content', ' number_links_to_mashable', ' number_keywords', 'is_category_lifestyle', 'is_category_entertainment', 'is_category_socialmedia', 'is_category_tech', 'is_category_world', 'is_wednesday', 'is_thursday', 'is_saturday', ' is_sunday', ' is_weekend', ' LDA_02', 'sentiment_subjectivity', 'sentiment_polarity', ' global_rate_positive_words', ' global_rate_negative_words', ' avg_polarity_in_positive_words', ' min_polarity_in_positive_words', ' title_sentiment_subjectivity']: 0.43565699139500697\n",
      "skipping feature  title_sentiment_polarity\n",
      "skipping feature  abs_title_subjectivity\n",
      "skipping feature  abs_title_sentiment_polarity\n",
      "[' number_words_title', 'rate_unique_words_content', 'rate_unique_non_stop_words_content', ' number_links_to_mashable', ' number_keywords', 'is_category_lifestyle', 'is_category_entertainment', 'is_category_socialmedia', 'is_category_tech', 'is_category_world', 'is_wednesday', 'is_thursday', 'is_saturday', ' is_sunday', ' is_weekend', ' LDA_02', 'sentiment_subjectivity', 'sentiment_polarity', ' global_rate_positive_words', ' global_rate_negative_words', ' avg_polarity_in_positive_words', ' min_polarity_in_positive_words', ' title_sentiment_subjectivity']\n"
     ]
    }
   ],
   "source": [
    "from datasets import perform_forward_selection\n",
    "\n",
    "columns = popularity_data.columns.tolist()\n",
    "columns.remove(' shares')\n",
    "columns.remove('share_class')\n",
    "columns_to_use = perform_forward_selection(data = popularity_data, label = 'share_class', columns = columns)\n",
    "print(columns_to_use)"
   ]
  },
  {
   "source": [
    "# Feature Reduction"
   ],
   "cell_type": "markdown",
   "metadata": {}
  },
  {
   "source": [
    "--> remove is_weekend \n",
    "\n",
    "--> remove is_sunday\n",
    "\n",
    "--> remove LDA_00\n",
    "\n",
    "--> remove average_word_length\n",
    "\n",
    "--> remove avg_polarity_in_positive_words\n",
    "\n",
    "--> remove avg_polarity_in_negative_words\n",
    "\n",
    "--> remove global_rate_positive_words\n",
    "\n",
    "--> remove max_polarity_in_positive_words\n",
    "\n",
    "--> remove number_words_title"
   ],
   "cell_type": "markdown",
   "metadata": {}
  },
  {
   "cell_type": "code",
   "execution_count": 28,
   "metadata": {},
   "outputs": [
    {
     "output_type": "display_data",
     "data": {
      "text/plain": "(9216, 59)"
     },
     "metadata": {}
    },
    {
     "output_type": "display_data",
     "data": {
      "text/plain": "(9216, 58)"
     },
     "metadata": {}
    },
    {
     "output_type": "display_data",
     "data": {
      "text/plain": "(9216, 57)"
     },
     "metadata": {}
    },
    {
     "output_type": "display_data",
     "data": {
      "text/plain": "(9216, 56)"
     },
     "metadata": {}
    },
    {
     "output_type": "display_data",
     "data": {
      "text/plain": "(9216, 55)"
     },
     "metadata": {}
    },
    {
     "output_type": "display_data",
     "data": {
      "text/plain": "(9216, 54)"
     },
     "metadata": {}
    },
    {
     "output_type": "display_data",
     "data": {
      "text/plain": "(9216, 53)"
     },
     "metadata": {}
    },
    {
     "output_type": "display_data",
     "data": {
      "text/plain": "(9216, 52)"
     },
     "metadata": {}
    },
    {
     "output_type": "display_data",
     "data": {
      "text/plain": "(9216, 51)"
     },
     "metadata": {}
    }
   ],
   "source": [
    "popularity_data = popularity_data.drop(' is_weekend', axis=1)\n",
    "display(popularity_data.shape)\n",
    "popularity_data = popularity_data.drop(' is_sunday', axis=1)\n",
    "display(popularity_data.shape)\n",
    "popularity_data = popularity_data.drop(' LDA_00', axis=1)\n",
    "display(popularity_data.shape)\n",
    "popularity_data = popularity_data.drop(' average_word_length', axis=1)\n",
    "display(popularity_data.shape)\n",
    "popularity_data = popularity_data.drop(' avg_polarity_in_positive_words', axis=1)\n",
    "display(popularity_data.shape)\n",
    "popularity_data = popularity_data.drop(' avg_polarity_in_negative_words', axis=1)\n",
    "display(popularity_data.shape)\n",
    "popularity_data = popularity_data.drop(' global_rate_positive_words', axis=1)\n",
    "display(popularity_data.shape)\n",
    "popularity_data = popularity_data.drop(' max_polarity_in_positive_words', axis=1)\n",
    "display(popularity_data.shape)\n",
    "popularity_data = popularity_data.drop(' number_words_title', axis=1)\n",
    "display(popularity_data.shape)\n"
   ]
  },
  {
   "source": [
    "# Feature Scaling"
   ],
   "cell_type": "markdown",
   "metadata": {}
  },
  {
   "source": [
    "As proposed by exploration, scale all features"
   ],
   "cell_type": "markdown",
   "metadata": {}
  },
  {
   "cell_type": "code",
   "execution_count": 29,
   "metadata": {},
   "outputs": [
    {
     "output_type": "display_data",
     "data": {
      "text/plain": "       number_words_content  rate_unique_words_content  \\\n36356              0.089298                   0.417990   \n14240              0.030333                   0.436461   \n106                0.117505                   0.377118   \n3341               0.091283                   0.411559   \n35264              0.031325                   0.581747   \n...                     ...                        ...   \n19827              0.066619                   0.468344   \n18821              0.020836                   0.532967   \n10621              0.019702                   0.524437   \n38775              0.137066                   0.304406   \n39400              0.080510                   0.356070   \n\n       rate_non_stop_words_content  rate_unique_non_stop_words_content  \\\n36356                     0.955224                            0.653800   \n14240                     0.895522                            0.524778   \n106                       0.970149                            0.601091   \n3341                      0.970149                            0.525583   \n35264                     0.895522                            0.767097   \n...                            ...                                 ...   \n19827                     0.955224                            0.551823   \n18821                     0.880597                            0.546176   \n10621                     0.865672                            0.606549   \n38775                     0.970149                            0.540619   \n39400                     0.955224                            0.516645   \n\n       number_links   number_links_to_mashable   number_imgs   number_videos  \\\n36356      0.037634                   0.017857      0.010101        0.000000   \n14240      0.043011                   0.053571      0.090909        0.000000   \n106        0.026882                   0.000000      0.010101        0.000000   \n3341       0.053763                   0.017857      0.272727        0.000000   \n35264      0.021505                   0.053571      0.010101        0.000000   \n...             ...                        ...           ...             ...   \n19827      0.129032                   0.053571      0.191919        0.013514   \n18821      0.064516                   0.071429      0.060606        0.000000   \n10621      0.080645                   0.053571      0.101010        0.000000   \n38775      0.010753                   0.035714      0.010101        0.000000   \n39400      0.075269                   0.000000      0.121212        0.000000   \n\n        number_keywords  is_category_lifestyle  ...   rate_negative_words  \\\n36356          0.777778                    0.0  ...              0.405405   \n14240          1.000000                    0.0  ...              0.250000   \n106            0.777778                    0.0  ...              0.187500   \n3341           0.666667                    0.0  ...              0.100000   \n35264          0.666667                    0.0  ...              0.166667   \n...                 ...                    ...  ...                   ...   \n19827          0.777778                    0.0  ...              0.545455   \n18821          0.777778                    0.0  ...              0.222222   \n10621          0.888889                    0.0  ...              0.300000   \n38775          0.444444                    0.0  ...              0.356164   \n39400          0.444444                    0.0  ...              0.272727   \n\n        min_polarity_in_positive_words   min_polarity_in_negative_words  \\\n36356                         0.033333                         0.300000   \n14240                         0.100000                         0.800000   \n106                           0.033333                         0.400000   \n3341                          0.033333                         0.708333   \n35264                         0.062500                         0.611111   \n...                                ...                              ...   \n19827                         0.136364                         0.400000   \n18821                         0.100000                         0.500000   \n10621                         0.136364                         0.750000   \n38775                         0.033333                         0.500000   \n39400                         0.136364                         0.500000   \n\n        max_polarity_in_negative_words   title_sentiment_subjectivity  \\\n36356                         0.928571                       0.650000   \n14240                         0.800000                       0.000000   \n106                           0.875000                       0.100000   \n3341                          0.900000                       0.000000   \n35264                         0.950000                       0.000000   \n...                                ...                            ...   \n19827                         0.900000                       0.333333   \n18821                         0.800000                       0.454545   \n10621                         0.950000                       0.318182   \n38775                         0.844444                       0.133333   \n39400                         0.850000                       0.000000   \n\n        title_sentiment_polarity   abs_title_subjectivity  \\\n36356                   0.500000                 0.300000   \n14240                   0.500000                 1.000000   \n106                     0.600000                 0.800000   \n3341                    0.500000                 1.000000   \n35264                   0.500000                 1.000000   \n...                          ...                      ...   \n19827                   0.416667                 0.333333   \n18821                   0.568182                 0.090909   \n10621                   0.564394                 0.363636   \n38775                   0.558333                 0.733333   \n39400                   0.500000                 1.000000   \n\n        abs_title_sentiment_polarity  share_class   shares  \n36356                       0.000000            0      786  \n14240                       0.000000            0      857  \n106                         0.200000            0     1000  \n3341                        0.000000            1     1100  \n35264                       0.000000            0     1000  \n...                              ...          ...      ...  \n19827                       0.166667            4    10900  \n18821                       0.136364            0      962  \n10621                       0.128788            0      920  \n38775                       0.116667            3     4200  \n39400                       0.000000            1     1300  \n\n[9216 rows x 51 columns]",
      "text/html": "<div>\n<style scoped>\n    .dataframe tbody tr th:only-of-type {\n        vertical-align: middle;\n    }\n\n    .dataframe tbody tr th {\n        vertical-align: top;\n    }\n\n    .dataframe thead th {\n        text-align: right;\n    }\n</style>\n<table border=\"1\" class=\"dataframe\">\n  <thead>\n    <tr style=\"text-align: right;\">\n      <th></th>\n      <th>number_words_content</th>\n      <th>rate_unique_words_content</th>\n      <th>rate_non_stop_words_content</th>\n      <th>rate_unique_non_stop_words_content</th>\n      <th>number_links</th>\n      <th>number_links_to_mashable</th>\n      <th>number_imgs</th>\n      <th>number_videos</th>\n      <th>number_keywords</th>\n      <th>is_category_lifestyle</th>\n      <th>...</th>\n      <th>rate_negative_words</th>\n      <th>min_polarity_in_positive_words</th>\n      <th>min_polarity_in_negative_words</th>\n      <th>max_polarity_in_negative_words</th>\n      <th>title_sentiment_subjectivity</th>\n      <th>title_sentiment_polarity</th>\n      <th>abs_title_subjectivity</th>\n      <th>abs_title_sentiment_polarity</th>\n      <th>share_class</th>\n      <th>shares</th>\n    </tr>\n  </thead>\n  <tbody>\n    <tr>\n      <th>36356</th>\n      <td>0.089298</td>\n      <td>0.417990</td>\n      <td>0.955224</td>\n      <td>0.653800</td>\n      <td>0.037634</td>\n      <td>0.017857</td>\n      <td>0.010101</td>\n      <td>0.000000</td>\n      <td>0.777778</td>\n      <td>0.0</td>\n      <td>...</td>\n      <td>0.405405</td>\n      <td>0.033333</td>\n      <td>0.300000</td>\n      <td>0.928571</td>\n      <td>0.650000</td>\n      <td>0.500000</td>\n      <td>0.300000</td>\n      <td>0.000000</td>\n      <td>0</td>\n      <td>786</td>\n    </tr>\n    <tr>\n      <th>14240</th>\n      <td>0.030333</td>\n      <td>0.436461</td>\n      <td>0.895522</td>\n      <td>0.524778</td>\n      <td>0.043011</td>\n      <td>0.053571</td>\n      <td>0.090909</td>\n      <td>0.000000</td>\n      <td>1.000000</td>\n      <td>0.0</td>\n      <td>...</td>\n      <td>0.250000</td>\n      <td>0.100000</td>\n      <td>0.800000</td>\n      <td>0.800000</td>\n      <td>0.000000</td>\n      <td>0.500000</td>\n      <td>1.000000</td>\n      <td>0.000000</td>\n      <td>0</td>\n      <td>857</td>\n    </tr>\n    <tr>\n      <th>106</th>\n      <td>0.117505</td>\n      <td>0.377118</td>\n      <td>0.970149</td>\n      <td>0.601091</td>\n      <td>0.026882</td>\n      <td>0.000000</td>\n      <td>0.010101</td>\n      <td>0.000000</td>\n      <td>0.777778</td>\n      <td>0.0</td>\n      <td>...</td>\n      <td>0.187500</td>\n      <td>0.033333</td>\n      <td>0.400000</td>\n      <td>0.875000</td>\n      <td>0.100000</td>\n      <td>0.600000</td>\n      <td>0.800000</td>\n      <td>0.200000</td>\n      <td>0</td>\n      <td>1000</td>\n    </tr>\n    <tr>\n      <th>3341</th>\n      <td>0.091283</td>\n      <td>0.411559</td>\n      <td>0.970149</td>\n      <td>0.525583</td>\n      <td>0.053763</td>\n      <td>0.017857</td>\n      <td>0.272727</td>\n      <td>0.000000</td>\n      <td>0.666667</td>\n      <td>0.0</td>\n      <td>...</td>\n      <td>0.100000</td>\n      <td>0.033333</td>\n      <td>0.708333</td>\n      <td>0.900000</td>\n      <td>0.000000</td>\n      <td>0.500000</td>\n      <td>1.000000</td>\n      <td>0.000000</td>\n      <td>1</td>\n      <td>1100</td>\n    </tr>\n    <tr>\n      <th>35264</th>\n      <td>0.031325</td>\n      <td>0.581747</td>\n      <td>0.895522</td>\n      <td>0.767097</td>\n      <td>0.021505</td>\n      <td>0.053571</td>\n      <td>0.010101</td>\n      <td>0.000000</td>\n      <td>0.666667</td>\n      <td>0.0</td>\n      <td>...</td>\n      <td>0.166667</td>\n      <td>0.062500</td>\n      <td>0.611111</td>\n      <td>0.950000</td>\n      <td>0.000000</td>\n      <td>0.500000</td>\n      <td>1.000000</td>\n      <td>0.000000</td>\n      <td>0</td>\n      <td>1000</td>\n    </tr>\n    <tr>\n      <th>...</th>\n      <td>...</td>\n      <td>...</td>\n      <td>...</td>\n      <td>...</td>\n      <td>...</td>\n      <td>...</td>\n      <td>...</td>\n      <td>...</td>\n      <td>...</td>\n      <td>...</td>\n      <td>...</td>\n      <td>...</td>\n      <td>...</td>\n      <td>...</td>\n      <td>...</td>\n      <td>...</td>\n      <td>...</td>\n      <td>...</td>\n      <td>...</td>\n      <td>...</td>\n      <td>...</td>\n    </tr>\n    <tr>\n      <th>19827</th>\n      <td>0.066619</td>\n      <td>0.468344</td>\n      <td>0.955224</td>\n      <td>0.551823</td>\n      <td>0.129032</td>\n      <td>0.053571</td>\n      <td>0.191919</td>\n      <td>0.013514</td>\n      <td>0.777778</td>\n      <td>0.0</td>\n      <td>...</td>\n      <td>0.545455</td>\n      <td>0.136364</td>\n      <td>0.400000</td>\n      <td>0.900000</td>\n      <td>0.333333</td>\n      <td>0.416667</td>\n      <td>0.333333</td>\n      <td>0.166667</td>\n      <td>4</td>\n      <td>10900</td>\n    </tr>\n    <tr>\n      <th>18821</th>\n      <td>0.020836</td>\n      <td>0.532967</td>\n      <td>0.880597</td>\n      <td>0.546176</td>\n      <td>0.064516</td>\n      <td>0.071429</td>\n      <td>0.060606</td>\n      <td>0.000000</td>\n      <td>0.777778</td>\n      <td>0.0</td>\n      <td>...</td>\n      <td>0.222222</td>\n      <td>0.100000</td>\n      <td>0.500000</td>\n      <td>0.800000</td>\n      <td>0.454545</td>\n      <td>0.568182</td>\n      <td>0.090909</td>\n      <td>0.136364</td>\n      <td>0</td>\n      <td>962</td>\n    </tr>\n    <tr>\n      <th>10621</th>\n      <td>0.019702</td>\n      <td>0.524437</td>\n      <td>0.865672</td>\n      <td>0.606549</td>\n      <td>0.080645</td>\n      <td>0.053571</td>\n      <td>0.101010</td>\n      <td>0.000000</td>\n      <td>0.888889</td>\n      <td>0.0</td>\n      <td>...</td>\n      <td>0.300000</td>\n      <td>0.136364</td>\n      <td>0.750000</td>\n      <td>0.950000</td>\n      <td>0.318182</td>\n      <td>0.564394</td>\n      <td>0.363636</td>\n      <td>0.128788</td>\n      <td>0</td>\n      <td>920</td>\n    </tr>\n    <tr>\n      <th>38775</th>\n      <td>0.137066</td>\n      <td>0.304406</td>\n      <td>0.970149</td>\n      <td>0.540619</td>\n      <td>0.010753</td>\n      <td>0.035714</td>\n      <td>0.010101</td>\n      <td>0.000000</td>\n      <td>0.444444</td>\n      <td>0.0</td>\n      <td>...</td>\n      <td>0.356164</td>\n      <td>0.033333</td>\n      <td>0.500000</td>\n      <td>0.844444</td>\n      <td>0.133333</td>\n      <td>0.558333</td>\n      <td>0.733333</td>\n      <td>0.116667</td>\n      <td>3</td>\n      <td>4200</td>\n    </tr>\n    <tr>\n      <th>39400</th>\n      <td>0.080510</td>\n      <td>0.356070</td>\n      <td>0.955224</td>\n      <td>0.516645</td>\n      <td>0.075269</td>\n      <td>0.000000</td>\n      <td>0.121212</td>\n      <td>0.000000</td>\n      <td>0.444444</td>\n      <td>0.0</td>\n      <td>...</td>\n      <td>0.272727</td>\n      <td>0.136364</td>\n      <td>0.500000</td>\n      <td>0.850000</td>\n      <td>0.000000</td>\n      <td>0.500000</td>\n      <td>1.000000</td>\n      <td>0.000000</td>\n      <td>1</td>\n      <td>1300</td>\n    </tr>\n  </tbody>\n</table>\n<p>9216 rows × 51 columns</p>\n</div>"
     },
     "metadata": {}
    }
   ],
   "source": [
    "import pandas as pd\n",
    "\n",
    "from sklearn.preprocessing import MinMaxScaler\n",
    "scaler = MinMaxScaler()\n",
    "\n",
    "x = popularity_data.drop(' shares', axis=1).drop('share_class', axis=1)\n",
    "y = popularity_data['share_class']\n",
    "\n",
    "pop_normalized = pd.DataFrame(scaler.fit_transform(x), columns=x.columns, index=x.index)\n",
    "\n",
    "# Overwrite data with normalized data\n",
    "popularity_data.update(other=pop_normalized)\n",
    "\n",
    "display(popularity_data)"
   ]
  },
  {
   "source": [
    "# PCA"
   ],
   "cell_type": "markdown",
   "metadata": {}
  },
  {
   "cell_type": "code",
   "execution_count": 30,
   "metadata": {},
   "outputs": [
    {
     "output_type": "display_data",
     "data": {
      "text/plain": "           PCA1      PCA2      PCA3   shares  share_class\n36356  0.197538  0.827915  0.388610      786            0\n14240 -0.025507  0.162976 -0.472632      857            0\n106    0.194617  0.329196 -0.236592     1000            0\n3341  -0.095973 -0.060929 -0.564173     1100            1\n35264 -0.372437 -0.267928 -0.546200     1000            0\n...         ...       ...       ...      ...          ...\n19827  0.037762  0.660405  0.070001    10900            4\n18821 -0.693825 -0.201014  0.643419      962            0\n10621 -0.060357  0.400103  0.161761      920            0\n38775 -0.022329  0.062481 -0.249340     4200            3\n39400  0.013242  0.293962 -0.428431     1300            1\n\n[9216 rows x 5 columns]",
      "text/html": "<div>\n<style scoped>\n    .dataframe tbody tr th:only-of-type {\n        vertical-align: middle;\n    }\n\n    .dataframe tbody tr th {\n        vertical-align: top;\n    }\n\n    .dataframe thead th {\n        text-align: right;\n    }\n</style>\n<table border=\"1\" class=\"dataframe\">\n  <thead>\n    <tr style=\"text-align: right;\">\n      <th></th>\n      <th>PCA1</th>\n      <th>PCA2</th>\n      <th>PCA3</th>\n      <th>shares</th>\n      <th>share_class</th>\n    </tr>\n  </thead>\n  <tbody>\n    <tr>\n      <th>36356</th>\n      <td>0.197538</td>\n      <td>0.827915</td>\n      <td>0.388610</td>\n      <td>786</td>\n      <td>0</td>\n    </tr>\n    <tr>\n      <th>14240</th>\n      <td>-0.025507</td>\n      <td>0.162976</td>\n      <td>-0.472632</td>\n      <td>857</td>\n      <td>0</td>\n    </tr>\n    <tr>\n      <th>106</th>\n      <td>0.194617</td>\n      <td>0.329196</td>\n      <td>-0.236592</td>\n      <td>1000</td>\n      <td>0</td>\n    </tr>\n    <tr>\n      <th>3341</th>\n      <td>-0.095973</td>\n      <td>-0.060929</td>\n      <td>-0.564173</td>\n      <td>1100</td>\n      <td>1</td>\n    </tr>\n    <tr>\n      <th>35264</th>\n      <td>-0.372437</td>\n      <td>-0.267928</td>\n      <td>-0.546200</td>\n      <td>1000</td>\n      <td>0</td>\n    </tr>\n    <tr>\n      <th>...</th>\n      <td>...</td>\n      <td>...</td>\n      <td>...</td>\n      <td>...</td>\n      <td>...</td>\n    </tr>\n    <tr>\n      <th>19827</th>\n      <td>0.037762</td>\n      <td>0.660405</td>\n      <td>0.070001</td>\n      <td>10900</td>\n      <td>4</td>\n    </tr>\n    <tr>\n      <th>18821</th>\n      <td>-0.693825</td>\n      <td>-0.201014</td>\n      <td>0.643419</td>\n      <td>962</td>\n      <td>0</td>\n    </tr>\n    <tr>\n      <th>10621</th>\n      <td>-0.060357</td>\n      <td>0.400103</td>\n      <td>0.161761</td>\n      <td>920</td>\n      <td>0</td>\n    </tr>\n    <tr>\n      <th>38775</th>\n      <td>-0.022329</td>\n      <td>0.062481</td>\n      <td>-0.249340</td>\n      <td>4200</td>\n      <td>3</td>\n    </tr>\n    <tr>\n      <th>39400</th>\n      <td>0.013242</td>\n      <td>0.293962</td>\n      <td>-0.428431</td>\n      <td>1300</td>\n      <td>1</td>\n    </tr>\n  </tbody>\n</table>\n<p>9216 rows × 5 columns</p>\n</div>"
     },
     "metadata": {}
    }
   ],
   "source": [
    "from sklearn import decomposition\n",
    "\n",
    "#Perform PCA with 3 dimensions\n",
    "num_components=3\n",
    "pca = decomposition.PCA(n_components=3)\n",
    "#Only use features\n",
    "x=popularity_data.drop(' shares', axis=1).drop('share_class', axis=1)\n",
    "pca.fit(x)\n",
    "x_tran = pca.transform(x)\n",
    "y_tran = popularity_data[[' shares', 'share_class']]\n",
    "\n",
    "# Save PCA DataFrame for later use in evaluation\n",
    "pop_pca = pd.DataFrame(x_tran, columns=['PCA1', 'PCA2', 'PCA3'], index=popularity_data.index)\n",
    "pop_pca[[' shares', 'share_class']] = y_tran\n",
    "display(pop_pca)\n"
   ]
  },
  {
   "source": [
    "# Export data to pkl"
   ],
   "cell_type": "markdown",
   "metadata": {}
  },
  {
   "cell_type": "code",
   "execution_count": 31,
   "metadata": {},
   "outputs": [],
   "source": [
    "pop_pca.to_pickle('popularity_pca.pkl')\n",
    "popularity_data.to_pickle('popularity_data.pkl')"
   ]
  },
  {
   "cell_type": "code",
   "execution_count": null,
   "metadata": {},
   "outputs": [],
   "source": []
  }
 ]
}