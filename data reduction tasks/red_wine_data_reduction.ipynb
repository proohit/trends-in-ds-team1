{
 "metadata": {
  "language_info": {
   "codemirror_mode": {
    "name": "ipython",
    "version": 3
   },
   "file_extension": ".py",
   "mimetype": "text/x-python",
   "name": "python",
   "nbconvert_exporter": "python",
   "pygments_lexer": "ipython3",
   "version": 3
  },
  "orig_nbformat": 2
 },
 "nbformat": 4,
 "nbformat_minor": 2,
 "cells": [
  {
   "cell_type": "code",
   "execution_count": null,
   "metadata": {},
   "outputs": [],
   "source": [
    "from datasets import wine_red_dataset\n",
    "\n",
    "wine_red = wine_red_dataset()\n",
    "wine_red.dropna(how='all')"
   ]
  },
  {
   "source": [
    "# Feature selection"
   ],
   "cell_type": "markdown",
   "metadata": {}
  },
  {
   "source": [
    "When a model is trained with colinear features, the coefficients (weights) tend to depend on each other which reduces explanability of the model. Find features that have high colinearity. "
   ],
   "cell_type": "markdown",
   "metadata": {}
  },
  {
   "source": [
    "Variance Inflation Factor, measures how much the variance of an estimated regression coefficient is increased because of collinearity"
   ],
   "cell_type": "markdown",
   "metadata": {}
  },
  {
   "source": [
    "# Instance selection"
   ],
   "cell_type": "markdown",
   "metadata": {}
  },
  {
   "source": [
    "# Correlating Features"
   ],
   "cell_type": "markdown",
   "metadata": {}
  },
  {
   "source": [
    "# Feature reduction"
   ],
   "cell_type": "markdown",
   "metadata": {}
  },
  {
   "cell_type": "code",
   "execution_count": null,
   "metadata": {},
   "outputs": [],
   "source": []
  }
 ]
}