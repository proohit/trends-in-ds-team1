{
 "metadata": {
  "language_info": {
   "codemirror_mode": {
    "name": "ipython",
    "version": 3
   },
   "file_extension": ".py",
   "mimetype": "text/x-python",
   "name": "python",
   "nbconvert_exporter": "python",
   "pygments_lexer": "ipython3",
   "version": "3.8.3-final"
  },
  "orig_nbformat": 2,
  "kernelspec": {
   "name": "python3",
   "display_name": "Python 3"
  }
 },
 "nbformat": 4,
 "nbformat_minor": 2,
 "cells": [
  {
   "cell_type": "code",
   "execution_count": 9,
   "metadata": {},
   "outputs": [],
   "source": [
    "from datasets import wine_red_dataset\n",
    "import pandas as pd\n",
    "wine_red = wine_red_dataset()\n",
    "wine_red.dropna(how='all', inplace=True)"
   ]
  },
  {
   "source": [
    "# Feature selection"
   ],
   "cell_type": "markdown",
   "metadata": {}
  },
  {
   "source": [
    "When a model is trained with colinear features, the coefficients (weights) tend to depend on each other which reduces explanability of the model. Find features that have high colinearity. "
   ],
   "cell_type": "markdown",
   "metadata": {}
  },
  {
   "source": [
    "Variance Inflation Factor, measures how much the variance of an estimated regression coefficient is increased because of collinearity"
   ],
   "cell_type": "markdown",
   "metadata": {}
  },
  {
   "cell_type": "code",
   "execution_count": 12,
   "metadata": {},
   "outputs": [
    {
     "output_type": "display_data",
     "data": {
      "text/plain": "fixed acidity                2.314030\nvolatile acidity             1.741720\ncitric acid                  3.132193\nresidual sugar               1.125396\nchlorides                    1.364200\nflavanoids              139849.177083\nfree sulfur dioxide          1.930893\ntotal sulfur dioxide         2.104990\ndensity                      1.653583\npH                           1.004598\nsulphates                    1.346137\nmagnesium                    1.004227\nalcohol                     10.631516\nlightness                    9.929243\ndtype: float64"
     },
     "metadata": {}
    }
   ],
   "source": [
    "from statsmodels.stats.outliers_influence import variance_inflation_factor\n",
    "from statsmodels.tools.tools import add_constant\n",
    "x = wine_red.dropna().drop('quality', axis=1).drop('ID', axis=1)\n",
    "vif_factors = pd.Series([variance_inflation_factor(x.values, i) for i in range(x.shape[1])], index=x.columns)\n",
    "\n",
    "display(vif_factors)"
   ]
  },
  {
   "source": [
    "=> alcohol and lightness seem to have high colinearity"
   ],
   "cell_type": "markdown",
   "metadata": {}
  },
  {
   "cell_type": "code",
   "execution_count": 20,
   "metadata": {},
   "outputs": [
    {
     "output_type": "execute_result",
     "data": {
      "text/plain": [
       "-0.9478388402404578"
      ]
     },
     "metadata": {},
     "execution_count": 20
    }
   ],
   "source": [
    "wine_red['alcohol'].corr(wine_red['lightness'])"
   ]
  },
  {
   "source": [
    "alcohol and lightness have high negative correlation"
   ],
   "cell_type": "markdown",
   "metadata": {}
  },
  {
   "cell_type": "code",
   "execution_count": 21,
   "metadata": {},
   "outputs": [
    {
     "output_type": "display_data",
     "data": {
      "text/plain": "fixed acidity                2.314014\nvolatile acidity             1.741515\ncitric acid                  3.130305\nresidual sugar               1.125355\nchlorides                    1.361599\nflavanoids              132957.699251\nfree sulfur dioxide          1.925508\ntotal sulfur dioxide         2.095232\ndensity                      1.648418\npH                           1.004597\nsulphates                    1.341383\nmagnesium                    1.004135\nalcohol                      1.679509\ndtype: float64"
     },
     "metadata": {}
    }
   ],
   "source": [
    "x = wine_red.dropna().drop('quality', axis=1).drop('lightness',axis=1).drop('ID', axis=1)\n",
    "vif_factors = pd.Series([variance_inflation_factor(x.values, i) for i in range(x.shape[1])], index=x.columns)\n",
    "\n",
    "display(vif_factors)"
   ]
  },
  {
   "source": [
    "when removing lightness as a feature, the colinearity disappears"
   ],
   "cell_type": "markdown",
   "metadata": {}
  },
  {
   "cell_type": "code",
   "execution_count": 95,
   "metadata": {},
   "outputs": [
    {
     "output_type": "display_data",
     "data": {
      "text/plain": "                         score\nalcohol               0.204938\nlightness             0.124397\nvolatile acidity      0.115596\nsulphates             0.086926\ntotal sulfur dioxide  0.060673\nfixed acidity         0.047819\ncitric acid           0.039384\ndensity               0.034821\nmagnesium             0.026230\nchlorides             0.022254\npH                    0.012678\nfree sulfur dioxide   0.010010\nflavanoids            0.000319\nresidual sugar        0.000000",
      "text/html": "<div>\n<style scoped>\n    .dataframe tbody tr th:only-of-type {\n        vertical-align: middle;\n    }\n\n    .dataframe tbody tr th {\n        vertical-align: top;\n    }\n\n    .dataframe thead th {\n        text-align: right;\n    }\n</style>\n<table border=\"1\" class=\"dataframe\">\n  <thead>\n    <tr style=\"text-align: right;\">\n      <th></th>\n      <th>score</th>\n    </tr>\n  </thead>\n  <tbody>\n    <tr>\n      <th>alcohol</th>\n      <td>0.204938</td>\n    </tr>\n    <tr>\n      <th>lightness</th>\n      <td>0.124397</td>\n    </tr>\n    <tr>\n      <th>volatile acidity</th>\n      <td>0.115596</td>\n    </tr>\n    <tr>\n      <th>sulphates</th>\n      <td>0.086926</td>\n    </tr>\n    <tr>\n      <th>total sulfur dioxide</th>\n      <td>0.060673</td>\n    </tr>\n    <tr>\n      <th>fixed acidity</th>\n      <td>0.047819</td>\n    </tr>\n    <tr>\n      <th>citric acid</th>\n      <td>0.039384</td>\n    </tr>\n    <tr>\n      <th>density</th>\n      <td>0.034821</td>\n    </tr>\n    <tr>\n      <th>magnesium</th>\n      <td>0.026230</td>\n    </tr>\n    <tr>\n      <th>chlorides</th>\n      <td>0.022254</td>\n    </tr>\n    <tr>\n      <th>pH</th>\n      <td>0.012678</td>\n    </tr>\n    <tr>\n      <th>free sulfur dioxide</th>\n      <td>0.010010</td>\n    </tr>\n    <tr>\n      <th>flavanoids</th>\n      <td>0.000319</td>\n    </tr>\n    <tr>\n      <th>residual sugar</th>\n      <td>0.000000</td>\n    </tr>\n  </tbody>\n</table>\n</div>"
     },
     "metadata": {}
    }
   ],
   "source": [
    "from sklearn.feature_selection import SelectKBest\n",
    "from sklearn.feature_selection import chi2\n",
    "from sklearn.feature_selection import mutual_info_regression\n",
    "wine_red_nan = wine_red.dropna()\n",
    "x = wine_red_nan.drop('ID', axis=1).drop('quality', axis=1)\n",
    "y = wine_red_nan['quality']\n",
    "\n",
    "def get_feature_names_from_booleans(features, boolean_list):\n",
    "    tmp_features = []\n",
    "    for i in range(0, len(boolean_list)):\n",
    "        if boolean_list[i]:\n",
    "            tmp_features.append(features[i])\n",
    "    return tmp_features\n",
    "\n",
    "kbest_features = []\n",
    "\n",
    "#filtering using Mutual Information = Information Gain\n",
    "flt = SelectKBest(mutual_info_regression, k=8).fit(x,y)\n",
    "scores = flt.scores_\n",
    "df = pd.DataFrame(scores,index=x.columns, columns=['score'])\n",
    "best_features = df.sort_values(by=['score'], ascending=False)\n",
    "\n",
    "display(best_features)"
   ]
  },
  {
   "source": [
    "# Instance selection"
   ],
   "cell_type": "markdown",
   "metadata": {}
  },
  {
   "source": [
    "# Correlating Features"
   ],
   "cell_type": "markdown",
   "metadata": {}
  },
  {
   "source": [
    "# Feature reduction"
   ],
   "cell_type": "markdown",
   "metadata": {}
  },
  {
   "cell_type": "code",
   "execution_count": null,
   "metadata": {},
   "outputs": [],
   "source": []
  }
 ]
}