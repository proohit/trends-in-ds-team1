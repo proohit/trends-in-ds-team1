{
 "metadata": {
  "language_info": {
   "codemirror_mode": {
    "name": "ipython",
    "version": 3
   },
   "file_extension": ".py",
   "mimetype": "text/x-python",
   "name": "python",
   "nbconvert_exporter": "python",
   "pygments_lexer": "ipython3",
   "version": "3.8.3-final"
  },
  "orig_nbformat": 2,
  "kernelspec": {
   "name": "python3",
   "display_name": "Python 3",
   "language": "python"
  }
 },
 "nbformat": 4,
 "nbformat_minor": 2,
 "cells": [
  {
   "cell_type": "code",
   "execution_count": 1,
   "metadata": {},
   "outputs": [
    {
     "output_type": "display_data",
     "data": {
      "text/plain": "(9234, 51)"
     },
     "metadata": {}
    },
    {
     "output_type": "display_data",
     "data": {
      "text/plain": "(9234, 5)"
     },
     "metadata": {}
    }
   ],
   "source": [
    "import pandas as pd\n",
    "\n",
    "popularity_data = pd.read_pickle('./popularity_data.pkl')\n",
    "popularity_pca = pd.read_pickle('./popularity_pca.pkl')\n",
    "\n",
    "display(popularity_data.shape)\n",
    "display(popularity_pca.shape)"
   ]
  },
  {
   "cell_type": "code",
   "execution_count": 2,
   "metadata": {},
   "outputs": [
    {
     "output_type": "stream",
     "name": "stdout",
     "text": [
      "Accuracy SVM: 0.43\n",
      "Accuracy Logistic Regression: 0.43\n",
      "Accuracy KNN: 0.36\n",
      "Accuracy Naive Bayes: 0.37\n",
      "Accuracy Decision Tree: 0.31\n",
      "Accuracy ANN: 0.39\n",
      "Accuracy SVM: 0.41\n",
      "Accuracy Logistic Regression: 0.41\n",
      "Accuracy KNN: 0.35\n",
      "Accuracy Naive Bayes: 0.41\n",
      "Accuracy Decision Tree: 0.30\n",
      "Accuracy ANN: 0.41\n"
     ]
    }
   ],
   "source": [
    "from datasets import calculate_scores\n",
    "x = popularity_data.drop(' shares', axis=1).drop('share_class', axis=1)\n",
    "y = popularity_data['share_class']\n",
    "calculate_scores(x,y)\n",
    "\n",
    "x = popularity_pca.drop(' shares', axis=1).drop('share_class', axis=1)\n",
    "y = popularity_pca['share_class']\n",
    "calculate_scores(x,y)"
   ]
  },
  {
   "cell_type": "code",
   "execution_count": null,
   "metadata": {},
   "outputs": [],
   "source": []
  }
 ]
}