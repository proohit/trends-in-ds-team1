{
 "metadata": {
  "language_info": {
   "codemirror_mode": {
    "name": "ipython",
    "version": 3
   },
   "file_extension": ".py",
   "mimetype": "text/x-python",
   "name": "python",
   "nbconvert_exporter": "python",
   "pygments_lexer": "ipython3",
   "version": "3.8.3-final"
  },
  "orig_nbformat": 2,
  "kernelspec": {
   "name": "python3",
   "display_name": "Python 3",
   "language": "python"
  }
 },
 "nbformat": 4,
 "nbformat_minor": 2,
 "cells": [
  {
   "cell_type": "code",
   "execution_count": 3,
   "metadata": {},
   "outputs": [
    {
     "output_type": "display_data",
     "data": {
      "text/plain": "(9931, 51)"
     },
     "metadata": {}
    },
    {
     "output_type": "display_data",
     "data": {
      "text/plain": "(9931, 5)"
     },
     "metadata": {}
    }
   ],
   "source": [
    "import pandas as pd\n",
    "\n",
    "popularity_data = pd.read_pickle('./popularity_data.pkl')\n",
    "popularity_pca = pd.read_pickle('./pop_pca.pkl')\n",
    "\n",
    "def get_sample_data(original_data):\n",
    "    return original_data.sample(frac=.3, random_state=1)\n",
    "popularity_data = get_sample_data(popularity_data)\n",
    "popularity_pca = get_sample_data(popularity_pca)\n",
    "\n",
    "display(popularity_data.shape)\n",
    "display(popularity_pca.shape)"
   ]
  },
  {
   "cell_type": "code",
   "execution_count": 4,
   "metadata": {},
   "outputs": [
    {
     "output_type": "stream",
     "name": "stdout",
     "text": [
      "Accuracy SVM: 0.56\n",
      "Accuracy Logistic Regression: 0.46\n",
      "Accuracy KNN: 0.47\n",
      "Accuracy Naive Bayes: 0.07\n",
      "Accuracy Decision Tree: 0.43\n",
      "Accuracy ANN: 0.54\n",
      "Accuracy SVM: 0.56\n",
      "Accuracy Logistic Regression: 0.18\n",
      "Accuracy KNN: 0.48\n",
      "Accuracy Naive Bayes: 0.08\n",
      "Accuracy Decision Tree: 0.43\n",
      "Accuracy ANN: 0.50\n"
     ]
    }
   ],
   "source": [
    "from datasets import calculate_scores\n",
    "x = popularity_data.drop(' shares', axis=1).drop('share_class', axis=1)\n",
    "y = popularity_data['share_class']\n",
    "calculate_scores(x,y)\n",
    "\n",
    "x = popularity_pca.drop(' shares', axis=1).drop('share_class', axis=1)\n",
    "y = popularity_pca['share_class']\n",
    "calculate_scores(x,y)"
   ]
  },
  {
   "cell_type": "code",
   "execution_count": null,
   "metadata": {},
   "outputs": [],
   "source": []
  }
 ]
}