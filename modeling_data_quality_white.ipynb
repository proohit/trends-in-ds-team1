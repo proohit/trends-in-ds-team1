{
 "cells": [
  {
   "cell_type": "code",
   "execution_count": 2,
   "metadata": {},
   "outputs": [
    {
     "output_type": "display_data",
     "data": {
      "text/plain": "        ID  fixed acidity  volatile acidity  citric acid  residual sugar  \\\n0        1            7.0              0.27         0.36            20.7   \n1        2            6.3              0.30         0.34             1.6   \n2        3            8.1              0.28         0.40             6.9   \n3        4            7.2              0.23         0.32             8.5   \n4        5            7.2              0.23         0.32             8.5   \n...    ...            ...               ...          ...             ...   \n4891  4894            6.2              0.21         0.29             1.6   \n4892  4895            6.6              0.32         0.36             8.0   \n4893  4896            6.5              0.24         0.19             1.2   \n4894  4897            5.5              0.29         0.30             1.1   \n4895  4898            6.0              0.21         0.38             0.8   \n\n      chlorides  flavanoids  free sulfur dioxide  total sulfur dioxide  \\\n0         0.045        0.38                 45.0                 170.0   \n1         0.049        0.38                 14.0                 132.0   \n2         0.050        0.38                 30.0                  97.0   \n3         0.058        0.38                 47.0                 186.0   \n4         0.058        0.38                 47.0                 186.0   \n...         ...         ...                  ...                   ...   \n4891      0.039        0.38                 24.0                  92.0   \n4892      0.047        0.38                 57.0                 168.0   \n4893      0.041        0.38                 30.0                 111.0   \n4894      0.022        0.38                 20.0                 110.0   \n4895      0.020        0.38                 22.0                  98.0   \n\n      density    pH  magnesium  sulphates  alcohol  lightness  quality  \n0     1.00100  3.00       0.46       0.45      8.8       0.13        6  \n1     0.99400  3.30       0.56       0.49      9.5       0.11        6  \n2     0.99510  3.26       0.56       0.44     10.1       0.11        6  \n3     0.99560  3.19       0.53       0.40      9.9       0.12        6  \n4     0.99560  3.19       0.52       0.40      9.9       0.10        6  \n...       ...   ...        ...        ...      ...        ...      ...  \n4891  0.99114  3.27       0.26       0.50     11.2       0.10        6  \n4892  0.99490  3.15       0.85       0.46      9.6       0.12        5  \n4893  0.99254  2.99       0.91       0.46      9.4       0.12        6  \n4894  0.98869  3.34       0.24       0.38     12.8       0.08        7  \n4895  0.98941  3.26       0.09       0.32     11.8       0.09        6  \n\n[4896 rows x 16 columns]",
      "text/html": "<div>\n<style scoped>\n    .dataframe tbody tr th:only-of-type {\n        vertical-align: middle;\n    }\n\n    .dataframe tbody tr th {\n        vertical-align: top;\n    }\n\n    .dataframe thead th {\n        text-align: right;\n    }\n</style>\n<table border=\"1\" class=\"dataframe\">\n  <thead>\n    <tr style=\"text-align: right;\">\n      <th></th>\n      <th>ID</th>\n      <th>fixed acidity</th>\n      <th>volatile acidity</th>\n      <th>citric acid</th>\n      <th>residual sugar</th>\n      <th>chlorides</th>\n      <th>flavanoids</th>\n      <th>free sulfur dioxide</th>\n      <th>total sulfur dioxide</th>\n      <th>density</th>\n      <th>pH</th>\n      <th>magnesium</th>\n      <th>sulphates</th>\n      <th>alcohol</th>\n      <th>lightness</th>\n      <th>quality</th>\n    </tr>\n  </thead>\n  <tbody>\n    <tr>\n      <th>0</th>\n      <td>1</td>\n      <td>7.0</td>\n      <td>0.27</td>\n      <td>0.36</td>\n      <td>20.7</td>\n      <td>0.045</td>\n      <td>0.38</td>\n      <td>45.0</td>\n      <td>170.0</td>\n      <td>1.00100</td>\n      <td>3.00</td>\n      <td>0.46</td>\n      <td>0.45</td>\n      <td>8.8</td>\n      <td>0.13</td>\n      <td>6</td>\n    </tr>\n    <tr>\n      <th>1</th>\n      <td>2</td>\n      <td>6.3</td>\n      <td>0.30</td>\n      <td>0.34</td>\n      <td>1.6</td>\n      <td>0.049</td>\n      <td>0.38</td>\n      <td>14.0</td>\n      <td>132.0</td>\n      <td>0.99400</td>\n      <td>3.30</td>\n      <td>0.56</td>\n      <td>0.49</td>\n      <td>9.5</td>\n      <td>0.11</td>\n      <td>6</td>\n    </tr>\n    <tr>\n      <th>2</th>\n      <td>3</td>\n      <td>8.1</td>\n      <td>0.28</td>\n      <td>0.40</td>\n      <td>6.9</td>\n      <td>0.050</td>\n      <td>0.38</td>\n      <td>30.0</td>\n      <td>97.0</td>\n      <td>0.99510</td>\n      <td>3.26</td>\n      <td>0.56</td>\n      <td>0.44</td>\n      <td>10.1</td>\n      <td>0.11</td>\n      <td>6</td>\n    </tr>\n    <tr>\n      <th>3</th>\n      <td>4</td>\n      <td>7.2</td>\n      <td>0.23</td>\n      <td>0.32</td>\n      <td>8.5</td>\n      <td>0.058</td>\n      <td>0.38</td>\n      <td>47.0</td>\n      <td>186.0</td>\n      <td>0.99560</td>\n      <td>3.19</td>\n      <td>0.53</td>\n      <td>0.40</td>\n      <td>9.9</td>\n      <td>0.12</td>\n      <td>6</td>\n    </tr>\n    <tr>\n      <th>4</th>\n      <td>5</td>\n      <td>7.2</td>\n      <td>0.23</td>\n      <td>0.32</td>\n      <td>8.5</td>\n      <td>0.058</td>\n      <td>0.38</td>\n      <td>47.0</td>\n      <td>186.0</td>\n      <td>0.99560</td>\n      <td>3.19</td>\n      <td>0.52</td>\n      <td>0.40</td>\n      <td>9.9</td>\n      <td>0.10</td>\n      <td>6</td>\n    </tr>\n    <tr>\n      <th>...</th>\n      <td>...</td>\n      <td>...</td>\n      <td>...</td>\n      <td>...</td>\n      <td>...</td>\n      <td>...</td>\n      <td>...</td>\n      <td>...</td>\n      <td>...</td>\n      <td>...</td>\n      <td>...</td>\n      <td>...</td>\n      <td>...</td>\n      <td>...</td>\n      <td>...</td>\n      <td>...</td>\n    </tr>\n    <tr>\n      <th>4891</th>\n      <td>4894</td>\n      <td>6.2</td>\n      <td>0.21</td>\n      <td>0.29</td>\n      <td>1.6</td>\n      <td>0.039</td>\n      <td>0.38</td>\n      <td>24.0</td>\n      <td>92.0</td>\n      <td>0.99114</td>\n      <td>3.27</td>\n      <td>0.26</td>\n      <td>0.50</td>\n      <td>11.2</td>\n      <td>0.10</td>\n      <td>6</td>\n    </tr>\n    <tr>\n      <th>4892</th>\n      <td>4895</td>\n      <td>6.6</td>\n      <td>0.32</td>\n      <td>0.36</td>\n      <td>8.0</td>\n      <td>0.047</td>\n      <td>0.38</td>\n      <td>57.0</td>\n      <td>168.0</td>\n      <td>0.99490</td>\n      <td>3.15</td>\n      <td>0.85</td>\n      <td>0.46</td>\n      <td>9.6</td>\n      <td>0.12</td>\n      <td>5</td>\n    </tr>\n    <tr>\n      <th>4893</th>\n      <td>4896</td>\n      <td>6.5</td>\n      <td>0.24</td>\n      <td>0.19</td>\n      <td>1.2</td>\n      <td>0.041</td>\n      <td>0.38</td>\n      <td>30.0</td>\n      <td>111.0</td>\n      <td>0.99254</td>\n      <td>2.99</td>\n      <td>0.91</td>\n      <td>0.46</td>\n      <td>9.4</td>\n      <td>0.12</td>\n      <td>6</td>\n    </tr>\n    <tr>\n      <th>4894</th>\n      <td>4897</td>\n      <td>5.5</td>\n      <td>0.29</td>\n      <td>0.30</td>\n      <td>1.1</td>\n      <td>0.022</td>\n      <td>0.38</td>\n      <td>20.0</td>\n      <td>110.0</td>\n      <td>0.98869</td>\n      <td>3.34</td>\n      <td>0.24</td>\n      <td>0.38</td>\n      <td>12.8</td>\n      <td>0.08</td>\n      <td>7</td>\n    </tr>\n    <tr>\n      <th>4895</th>\n      <td>4898</td>\n      <td>6.0</td>\n      <td>0.21</td>\n      <td>0.38</td>\n      <td>0.8</td>\n      <td>0.020</td>\n      <td>0.38</td>\n      <td>22.0</td>\n      <td>98.0</td>\n      <td>0.98941</td>\n      <td>3.26</td>\n      <td>0.09</td>\n      <td>0.32</td>\n      <td>11.8</td>\n      <td>0.09</td>\n      <td>6</td>\n    </tr>\n  </tbody>\n</table>\n<p>4896 rows × 16 columns</p>\n</div>"
     },
     "metadata": {}
    }
   ],
   "source": [
    "from datasets import wine_red_dataset, wine_white_dataset\n",
    "from sklearn.linear_model import LogisticRegression\n",
    "from sklearn.model_selection import train_test_split\n",
    "import pandas as pd\n",
    "\n",
    "wine_red = wine_red_dataset()\n",
    "\n",
    "wine_white = wine_white_dataset()\n",
    "wine_white.dropna(how='all', inplace=True)\n",
    "display(wine_white)"
   ]
  },
  {
   "cell_type": "markdown",
   "metadata": {},
   "source": [
    "The exploration showed that the pH values seem to be missing at random because they can be approximately calculated from the fixed acidity feature, ML Imputation"
   ]
  },
  {
   "cell_type": "code",
   "execution_count": null,
   "metadata": {},
   "outputs": [],
   "source": [
    "import numpy as np\n",
    "from sklearn.impute import KNNImputer\n",
    "\n",
    "x = np.array([])\n",
    "print(\"Original data: \\n\",x)\n",
    "\n",
    "n=2\n",
    "imputer = KNNImputer(n_neighbors=n, weights=\"uniform\")\n",
    "transformed_x= imputer.fit_transform(x)\n",
    "print(\"\\nMissing values are imputed based on values of \",n,\" nearest neigbors\")\n",
    "\n",
    "print(\"Transformed data (knn imputation): \\n\",transformed_x)"
   ]
  },
  {
   "cell_type": "code",
   "execution_count": null,
   "metadata": {},
   "outputs": [],
   "source": []
  }
 ],
 "metadata": {
  "language_info": {
   "codemirror_mode": {
    "name": "ipython",
    "version": 3
   },
   "file_extension": ".py",
   "mimetype": "text/x-python",
   "name": "python",
   "nbconvert_exporter": "python",
   "pygments_lexer": "ipython3",
   "version": "3.7.6-final"
  },
  "orig_nbformat": 2,
  "kernelspec": {
   "name": "python3",
   "display_name": "Python 3"
  }
 },
 "nbformat": 4,
 "nbformat_minor": 2
}