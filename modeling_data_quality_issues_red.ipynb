{
 "cells": [
  {
   "cell_type": "code",
   "execution_count": 10,
   "metadata": {},
   "outputs": [],
   "source": [
    "from datasets import wine_red_dataset, wine_white_dataset\n",
    "from sklearn.linear_model import LogisticRegression\n",
    "from sklearn.model_selection import train_test_split\n",
    "import pandas as pd\n",
    "\n",
    "wine_red = wine_red_dataset()\n",
    "wine_red.dropna(how='all', inplace=True)\n",
    "#display(wine_red)\n",
    "\n",
    "wine_white = wine_white_dataset()"
   ]
  },
  {
   "cell_type": "markdown",
   "metadata": {},
   "source": [
    "# Modeling-Missing Values"
   ]
  },
  {
   "cell_type": "markdown",
   "metadata": {},
   "source": [
    "Information from the exploration: Missing values in the pH (15 values) and fixed acidity (17 values) data"
   ]
  },
  {
   "cell_type": "markdown",
   "metadata": {},
   "source": [
    "Fixed acidity is a missing at random value: In our case, missing fixed acidity values can be calculated from the citric acid values.     PH seem to be missing completely at random: There is no major correlation with other features"
   ]
  },
  {
   "cell_type": "markdown",
   "metadata": {},
   "source": [
    "Fixed acidity missing values are calculated by a multiple imputation because the estimation can provide\n",
    "more realistic standard errors. The multiple Imputation creates multiple data\n",
    "with different estimations. The results of different models are\n",
    "averaged or combined."
   ]
  },
  {
   "cell_type": "code",
   "execution_count": 11,
   "metadata": {
    "tags": []
   },
   "outputs": [
    {
     "output_type": "display_data",
     "data": {
      "text/plain": "      fixed acidity  citric acid\n22              NaN         0.21\n61              NaN         0.49\n97              NaN         0.25\n187             NaN         0.10\n274             NaN         0.18\n409             NaN         0.49\n410             NaN         0.34\n411             NaN         0.35\n412             NaN         0.16\n753             NaN         0.10\n759             NaN         0.21\n1425            NaN         0.37\n1426            NaN         0.37\n1427            NaN         0.33\n1428            NaN         0.00\n1447            NaN         0.00\n1540            NaN         0.08",
      "text/html": "<div>\n<style scoped>\n    .dataframe tbody tr th:only-of-type {\n        vertical-align: middle;\n    }\n\n    .dataframe tbody tr th {\n        vertical-align: top;\n    }\n\n    .dataframe thead th {\n        text-align: right;\n    }\n</style>\n<table border=\"1\" class=\"dataframe\">\n  <thead>\n    <tr style=\"text-align: right;\">\n      <th></th>\n      <th>fixed acidity</th>\n      <th>citric acid</th>\n    </tr>\n  </thead>\n  <tbody>\n    <tr>\n      <th>22</th>\n      <td>NaN</td>\n      <td>0.21</td>\n    </tr>\n    <tr>\n      <th>61</th>\n      <td>NaN</td>\n      <td>0.49</td>\n    </tr>\n    <tr>\n      <th>97</th>\n      <td>NaN</td>\n      <td>0.25</td>\n    </tr>\n    <tr>\n      <th>187</th>\n      <td>NaN</td>\n      <td>0.10</td>\n    </tr>\n    <tr>\n      <th>274</th>\n      <td>NaN</td>\n      <td>0.18</td>\n    </tr>\n    <tr>\n      <th>409</th>\n      <td>NaN</td>\n      <td>0.49</td>\n    </tr>\n    <tr>\n      <th>410</th>\n      <td>NaN</td>\n      <td>0.34</td>\n    </tr>\n    <tr>\n      <th>411</th>\n      <td>NaN</td>\n      <td>0.35</td>\n    </tr>\n    <tr>\n      <th>412</th>\n      <td>NaN</td>\n      <td>0.16</td>\n    </tr>\n    <tr>\n      <th>753</th>\n      <td>NaN</td>\n      <td>0.10</td>\n    </tr>\n    <tr>\n      <th>759</th>\n      <td>NaN</td>\n      <td>0.21</td>\n    </tr>\n    <tr>\n      <th>1425</th>\n      <td>NaN</td>\n      <td>0.37</td>\n    </tr>\n    <tr>\n      <th>1426</th>\n      <td>NaN</td>\n      <td>0.37</td>\n    </tr>\n    <tr>\n      <th>1427</th>\n      <td>NaN</td>\n      <td>0.33</td>\n    </tr>\n    <tr>\n      <th>1428</th>\n      <td>NaN</td>\n      <td>0.00</td>\n    </tr>\n    <tr>\n      <th>1447</th>\n      <td>NaN</td>\n      <td>0.00</td>\n    </tr>\n    <tr>\n      <th>1540</th>\n      <td>NaN</td>\n      <td>0.08</td>\n    </tr>\n  </tbody>\n</table>\n</div>"
     },
     "metadata": {}
    },
    {
     "output_type": "display_data",
     "data": {
      "text/plain": "      fixed acidity  citric acid\n0               7.4         0.00\n1               7.8         0.00\n2               7.8         0.04\n3              11.2         0.56\n4               7.4         0.00\n...             ...          ...\n1592            6.2         0.08\n1593            5.9         0.10\n1594            6.3         0.13\n1595            5.9         0.12\n1596            6.0         0.47\n\n[1597 rows x 2 columns]",
      "text/html": "<div>\n<style scoped>\n    .dataframe tbody tr th:only-of-type {\n        vertical-align: middle;\n    }\n\n    .dataframe tbody tr th {\n        vertical-align: top;\n    }\n\n    .dataframe thead th {\n        text-align: right;\n    }\n</style>\n<table border=\"1\" class=\"dataframe\">\n  <thead>\n    <tr style=\"text-align: right;\">\n      <th></th>\n      <th>fixed acidity</th>\n      <th>citric acid</th>\n    </tr>\n  </thead>\n  <tbody>\n    <tr>\n      <th>0</th>\n      <td>7.4</td>\n      <td>0.00</td>\n    </tr>\n    <tr>\n      <th>1</th>\n      <td>7.8</td>\n      <td>0.00</td>\n    </tr>\n    <tr>\n      <th>2</th>\n      <td>7.8</td>\n      <td>0.04</td>\n    </tr>\n    <tr>\n      <th>3</th>\n      <td>11.2</td>\n      <td>0.56</td>\n    </tr>\n    <tr>\n      <th>4</th>\n      <td>7.4</td>\n      <td>0.00</td>\n    </tr>\n    <tr>\n      <th>...</th>\n      <td>...</td>\n      <td>...</td>\n    </tr>\n    <tr>\n      <th>1592</th>\n      <td>6.2</td>\n      <td>0.08</td>\n    </tr>\n    <tr>\n      <th>1593</th>\n      <td>5.9</td>\n      <td>0.10</td>\n    </tr>\n    <tr>\n      <th>1594</th>\n      <td>6.3</td>\n      <td>0.13</td>\n    </tr>\n    <tr>\n      <th>1595</th>\n      <td>5.9</td>\n      <td>0.12</td>\n    </tr>\n    <tr>\n      <th>1596</th>\n      <td>6.0</td>\n      <td>0.47</td>\n    </tr>\n  </tbody>\n</table>\n<p>1597 rows × 2 columns</p>\n</div>"
     },
     "metadata": {}
    },
    {
     "output_type": "display_data",
     "data": {
      "text/plain": "'Regression imputed fixed acidity: \\n'"
     },
     "metadata": {}
    },
    {
     "output_type": "display_data",
     "data": {
      "text/plain": "      fixed acidity  citric acid\n22         7.956331         0.21\n61         9.638865         0.49\n97         8.196693         0.25\n187        7.295336         0.10\n274        7.776060         0.18\n409        9.638865         0.49\n410        8.737508         0.34\n411        8.797598         0.35\n412        7.655879         0.16\n753        7.295336         0.10\n759        7.956331         0.21\n1425       8.917779         0.37\n1426       8.917779         0.37\n1427       8.677417         0.33\n1428       6.694432         0.00\n1447       6.694432         0.00\n1540       7.175155         0.08",
      "text/html": "<div>\n<style scoped>\n    .dataframe tbody tr th:only-of-type {\n        vertical-align: middle;\n    }\n\n    .dataframe tbody tr th {\n        vertical-align: top;\n    }\n\n    .dataframe thead th {\n        text-align: right;\n    }\n</style>\n<table border=\"1\" class=\"dataframe\">\n  <thead>\n    <tr style=\"text-align: right;\">\n      <th></th>\n      <th>fixed acidity</th>\n      <th>citric acid</th>\n    </tr>\n  </thead>\n  <tbody>\n    <tr>\n      <th>22</th>\n      <td>7.956331</td>\n      <td>0.21</td>\n    </tr>\n    <tr>\n      <th>61</th>\n      <td>9.638865</td>\n      <td>0.49</td>\n    </tr>\n    <tr>\n      <th>97</th>\n      <td>8.196693</td>\n      <td>0.25</td>\n    </tr>\n    <tr>\n      <th>187</th>\n      <td>7.295336</td>\n      <td>0.10</td>\n    </tr>\n    <tr>\n      <th>274</th>\n      <td>7.776060</td>\n      <td>0.18</td>\n    </tr>\n    <tr>\n      <th>409</th>\n      <td>9.638865</td>\n      <td>0.49</td>\n    </tr>\n    <tr>\n      <th>410</th>\n      <td>8.737508</td>\n      <td>0.34</td>\n    </tr>\n    <tr>\n      <th>411</th>\n      <td>8.797598</td>\n      <td>0.35</td>\n    </tr>\n    <tr>\n      <th>412</th>\n      <td>7.655879</td>\n      <td>0.16</td>\n    </tr>\n    <tr>\n      <th>753</th>\n      <td>7.295336</td>\n      <td>0.10</td>\n    </tr>\n    <tr>\n      <th>759</th>\n      <td>7.956331</td>\n      <td>0.21</td>\n    </tr>\n    <tr>\n      <th>1425</th>\n      <td>8.917779</td>\n      <td>0.37</td>\n    </tr>\n    <tr>\n      <th>1426</th>\n      <td>8.917779</td>\n      <td>0.37</td>\n    </tr>\n    <tr>\n      <th>1427</th>\n      <td>8.677417</td>\n      <td>0.33</td>\n    </tr>\n    <tr>\n      <th>1428</th>\n      <td>6.694432</td>\n      <td>0.00</td>\n    </tr>\n    <tr>\n      <th>1447</th>\n      <td>6.694432</td>\n      <td>0.00</td>\n    </tr>\n    <tr>\n      <th>1540</th>\n      <td>7.175155</td>\n      <td>0.08</td>\n    </tr>\n  </tbody>\n</table>\n</div>"
     },
     "metadata": {}
    },
    {
     "output_type": "display_data",
     "data": {
      "text/plain": "          ID  fixed acidity  volatile acidity  citric acid  residual sugar  \\\n11      12.0            7.5              0.50         0.36             6.1   \n606    607.0            9.4              0.41         0.48             4.6   \n607    608.0            8.8              0.48         0.41             3.3   \n608    609.0           10.1              0.65         0.37             5.1   \n948    949.0            8.9              0.12         0.45             1.8   \n1162  1163.0            8.5              0.32         0.42             2.3   \n1163  1164.0            9.0              0.79         0.24             1.7   \n1164  1165.0            9.0              0.79         0.24             1.7   \n1369  1370.0            6.6              0.61         0.00             1.6   \n1370  1371.0            8.7              0.78         0.51             1.7   \n1371  1372.0            7.5              0.58         0.56             3.1   \n1372  1373.0            8.7              0.78         0.51             1.7   \n1395  1396.0            8.6              0.69         0.10             1.6   \n1587  1589.0            7.2              0.66         0.33             2.5   \n1592  1595.0            6.2              0.60         0.08             2.0   \n\n      chlorides  flavanoids  free sulfur dioxide  total sulfur dioxide  \\\n11         0.07        0.53                 17.0                 102.0   \n606        0.07        0.53                 10.0                  20.0   \n607        0.09        0.53                 26.0                  52.0   \n608        0.11        0.53                 11.0                  65.0   \n948        0.08        0.53                 10.0                  21.0   \n1162       0.08        0.53                 12.0                  19.0   \n1163       0.08        0.53                 10.0                  21.0   \n1164       0.08        0.53                 10.0                  21.0   \n1369       0.07        0.53                  4.0                   8.0   \n1370       0.42        0.53                 12.0                  66.0   \n1371       0.15        0.53                  5.0                  14.0   \n1372       0.42        0.53                 12.0                  66.0   \n1395       0.09        0.53                  3.0                  12.0   \n1587       0.07        0.53                 34.0                 102.0   \n1592       0.09        0.53                 32.0                  44.0   \n\n      density  pH  sulphates  magnesium  alcohol  lightness  quality  \n11       1.00 NaN       0.80       0.42    10.50      0.101      5.0  \n606      1.00 NaN       0.79       0.80    12.20      0.088      7.0  \n607      1.00 NaN       0.53       0.56    10.50      0.096      6.0  \n608      1.00 NaN       0.64       0.21    10.40      0.105      6.0  \n948      1.00 NaN       0.76       0.69    11.90      0.086      7.0  \n1162     0.99 NaN       0.71       0.39    11.80      0.093      7.0  \n1163     1.00 NaN       0.67       0.58    10.00      0.105      5.0  \n1164     1.00 NaN       0.67       0.79    10.00      0.102      5.0  \n1369     0.99 NaN       0.37       0.05    10.40      0.103      4.0  \n1370     1.00 NaN       1.17       0.91     9.20      0.111      5.0  \n1371     0.99 NaN       1.03       0.70    11.60      0.092      6.0  \n1372     1.00 NaN       1.17       0.89     9.20      0.115      5.0  \n1395     1.00 NaN       0.65       0.16     9.55      0.107      6.0  \n1587     0.99 NaN       0.78       0.20    12.80      0.082      6.0  \n1592     0.99 NaN       0.58       0.98    10.50      0.102      5.0  ",
      "text/html": "<div>\n<style scoped>\n    .dataframe tbody tr th:only-of-type {\n        vertical-align: middle;\n    }\n\n    .dataframe tbody tr th {\n        vertical-align: top;\n    }\n\n    .dataframe thead th {\n        text-align: right;\n    }\n</style>\n<table border=\"1\" class=\"dataframe\">\n  <thead>\n    <tr style=\"text-align: right;\">\n      <th></th>\n      <th>ID</th>\n      <th>fixed acidity</th>\n      <th>volatile acidity</th>\n      <th>citric acid</th>\n      <th>residual sugar</th>\n      <th>chlorides</th>\n      <th>flavanoids</th>\n      <th>free sulfur dioxide</th>\n      <th>total sulfur dioxide</th>\n      <th>density</th>\n      <th>pH</th>\n      <th>sulphates</th>\n      <th>magnesium</th>\n      <th>alcohol</th>\n      <th>lightness</th>\n      <th>quality</th>\n    </tr>\n  </thead>\n  <tbody>\n    <tr>\n      <th>11</th>\n      <td>12.0</td>\n      <td>7.5</td>\n      <td>0.50</td>\n      <td>0.36</td>\n      <td>6.1</td>\n      <td>0.07</td>\n      <td>0.53</td>\n      <td>17.0</td>\n      <td>102.0</td>\n      <td>1.00</td>\n      <td>NaN</td>\n      <td>0.80</td>\n      <td>0.42</td>\n      <td>10.50</td>\n      <td>0.101</td>\n      <td>5.0</td>\n    </tr>\n    <tr>\n      <th>606</th>\n      <td>607.0</td>\n      <td>9.4</td>\n      <td>0.41</td>\n      <td>0.48</td>\n      <td>4.6</td>\n      <td>0.07</td>\n      <td>0.53</td>\n      <td>10.0</td>\n      <td>20.0</td>\n      <td>1.00</td>\n      <td>NaN</td>\n      <td>0.79</td>\n      <td>0.80</td>\n      <td>12.20</td>\n      <td>0.088</td>\n      <td>7.0</td>\n    </tr>\n    <tr>\n      <th>607</th>\n      <td>608.0</td>\n      <td>8.8</td>\n      <td>0.48</td>\n      <td>0.41</td>\n      <td>3.3</td>\n      <td>0.09</td>\n      <td>0.53</td>\n      <td>26.0</td>\n      <td>52.0</td>\n      <td>1.00</td>\n      <td>NaN</td>\n      <td>0.53</td>\n      <td>0.56</td>\n      <td>10.50</td>\n      <td>0.096</td>\n      <td>6.0</td>\n    </tr>\n    <tr>\n      <th>608</th>\n      <td>609.0</td>\n      <td>10.1</td>\n      <td>0.65</td>\n      <td>0.37</td>\n      <td>5.1</td>\n      <td>0.11</td>\n      <td>0.53</td>\n      <td>11.0</td>\n      <td>65.0</td>\n      <td>1.00</td>\n      <td>NaN</td>\n      <td>0.64</td>\n      <td>0.21</td>\n      <td>10.40</td>\n      <td>0.105</td>\n      <td>6.0</td>\n    </tr>\n    <tr>\n      <th>948</th>\n      <td>949.0</td>\n      <td>8.9</td>\n      <td>0.12</td>\n      <td>0.45</td>\n      <td>1.8</td>\n      <td>0.08</td>\n      <td>0.53</td>\n      <td>10.0</td>\n      <td>21.0</td>\n      <td>1.00</td>\n      <td>NaN</td>\n      <td>0.76</td>\n      <td>0.69</td>\n      <td>11.90</td>\n      <td>0.086</td>\n      <td>7.0</td>\n    </tr>\n    <tr>\n      <th>1162</th>\n      <td>1163.0</td>\n      <td>8.5</td>\n      <td>0.32</td>\n      <td>0.42</td>\n      <td>2.3</td>\n      <td>0.08</td>\n      <td>0.53</td>\n      <td>12.0</td>\n      <td>19.0</td>\n      <td>0.99</td>\n      <td>NaN</td>\n      <td>0.71</td>\n      <td>0.39</td>\n      <td>11.80</td>\n      <td>0.093</td>\n      <td>7.0</td>\n    </tr>\n    <tr>\n      <th>1163</th>\n      <td>1164.0</td>\n      <td>9.0</td>\n      <td>0.79</td>\n      <td>0.24</td>\n      <td>1.7</td>\n      <td>0.08</td>\n      <td>0.53</td>\n      <td>10.0</td>\n      <td>21.0</td>\n      <td>1.00</td>\n      <td>NaN</td>\n      <td>0.67</td>\n      <td>0.58</td>\n      <td>10.00</td>\n      <td>0.105</td>\n      <td>5.0</td>\n    </tr>\n    <tr>\n      <th>1164</th>\n      <td>1165.0</td>\n      <td>9.0</td>\n      <td>0.79</td>\n      <td>0.24</td>\n      <td>1.7</td>\n      <td>0.08</td>\n      <td>0.53</td>\n      <td>10.0</td>\n      <td>21.0</td>\n      <td>1.00</td>\n      <td>NaN</td>\n      <td>0.67</td>\n      <td>0.79</td>\n      <td>10.00</td>\n      <td>0.102</td>\n      <td>5.0</td>\n    </tr>\n    <tr>\n      <th>1369</th>\n      <td>1370.0</td>\n      <td>6.6</td>\n      <td>0.61</td>\n      <td>0.00</td>\n      <td>1.6</td>\n      <td>0.07</td>\n      <td>0.53</td>\n      <td>4.0</td>\n      <td>8.0</td>\n      <td>0.99</td>\n      <td>NaN</td>\n      <td>0.37</td>\n      <td>0.05</td>\n      <td>10.40</td>\n      <td>0.103</td>\n      <td>4.0</td>\n    </tr>\n    <tr>\n      <th>1370</th>\n      <td>1371.0</td>\n      <td>8.7</td>\n      <td>0.78</td>\n      <td>0.51</td>\n      <td>1.7</td>\n      <td>0.42</td>\n      <td>0.53</td>\n      <td>12.0</td>\n      <td>66.0</td>\n      <td>1.00</td>\n      <td>NaN</td>\n      <td>1.17</td>\n      <td>0.91</td>\n      <td>9.20</td>\n      <td>0.111</td>\n      <td>5.0</td>\n    </tr>\n    <tr>\n      <th>1371</th>\n      <td>1372.0</td>\n      <td>7.5</td>\n      <td>0.58</td>\n      <td>0.56</td>\n      <td>3.1</td>\n      <td>0.15</td>\n      <td>0.53</td>\n      <td>5.0</td>\n      <td>14.0</td>\n      <td>0.99</td>\n      <td>NaN</td>\n      <td>1.03</td>\n      <td>0.70</td>\n      <td>11.60</td>\n      <td>0.092</td>\n      <td>6.0</td>\n    </tr>\n    <tr>\n      <th>1372</th>\n      <td>1373.0</td>\n      <td>8.7</td>\n      <td>0.78</td>\n      <td>0.51</td>\n      <td>1.7</td>\n      <td>0.42</td>\n      <td>0.53</td>\n      <td>12.0</td>\n      <td>66.0</td>\n      <td>1.00</td>\n      <td>NaN</td>\n      <td>1.17</td>\n      <td>0.89</td>\n      <td>9.20</td>\n      <td>0.115</td>\n      <td>5.0</td>\n    </tr>\n    <tr>\n      <th>1395</th>\n      <td>1396.0</td>\n      <td>8.6</td>\n      <td>0.69</td>\n      <td>0.10</td>\n      <td>1.6</td>\n      <td>0.09</td>\n      <td>0.53</td>\n      <td>3.0</td>\n      <td>12.0</td>\n      <td>1.00</td>\n      <td>NaN</td>\n      <td>0.65</td>\n      <td>0.16</td>\n      <td>9.55</td>\n      <td>0.107</td>\n      <td>6.0</td>\n    </tr>\n    <tr>\n      <th>1587</th>\n      <td>1589.0</td>\n      <td>7.2</td>\n      <td>0.66</td>\n      <td>0.33</td>\n      <td>2.5</td>\n      <td>0.07</td>\n      <td>0.53</td>\n      <td>34.0</td>\n      <td>102.0</td>\n      <td>0.99</td>\n      <td>NaN</td>\n      <td>0.78</td>\n      <td>0.20</td>\n      <td>12.80</td>\n      <td>0.082</td>\n      <td>6.0</td>\n    </tr>\n    <tr>\n      <th>1592</th>\n      <td>1595.0</td>\n      <td>6.2</td>\n      <td>0.60</td>\n      <td>0.08</td>\n      <td>2.0</td>\n      <td>0.09</td>\n      <td>0.53</td>\n      <td>32.0</td>\n      <td>44.0</td>\n      <td>0.99</td>\n      <td>NaN</td>\n      <td>0.58</td>\n      <td>0.98</td>\n      <td>10.50</td>\n      <td>0.102</td>\n      <td>5.0</td>\n    </tr>\n  </tbody>\n</table>\n</div>"
     },
     "metadata": {}
    },
    {
     "output_type": "stream",
     "name": "stdout",
     "text": [
      "\n"
     ]
    }
   ],
   "source": [
    "from sklearn.experimental import enable_iterative_imputer\n",
    "from sklearn.impute import IterativeImputer\n",
    "import numpy as np\n",
    "from datasets import show_mvs\n",
    "\n",
    "columns = ['fixed acidity','citric acid']\n",
    "w_red_imp=wine_red[columns]\n",
    "mvs = show_mvs(w_red_imp)\n",
    "\n",
    "display(w_red_imp)\n",
    "\n",
    "imp = IterativeImputer(max_iter=20)\n",
    "transformed_x= imp.fit_transform(w_red_imp)\n",
    "df_missing_v=pd.DataFrame(transformed_x, columns=columns)\n",
    "display(\"Regression imputed fixed acidity: \\n\", df_missing_v.loc[mvs.index])\n",
    "wine_red['fixed acidity'] = df_missing_v['fixed acidity']\n",
    "show_mvs(wine_red)\n",
    "print()"
   ]
  },
  {
   "cell_type": "markdown",
   "metadata": {},
   "source": [
    "PH seem to be missing completely at random: There is no major correlation with other features, average imputation is used because it handle missling completely at randoms, ML imputation is not used because the algorithm needs a missing at random, no regression imputation is used because the exploration showed that there is no correlation with other features. The median is used for the average impuation because it's not affected by outliers."
   ]
  },
  {
   "cell_type": "code",
   "execution_count": 12,
   "metadata": {
    "tags": []
   },
   "outputs": [
    {
     "output_type": "display_data",
     "data": {
      "text/plain": "     ID  fixed acidity  volatile acidity  citric acid  residual sugar  \\\n0   1.0            7.4              0.70         0.00             1.9   \n1   2.0            7.8              0.88         0.00             2.6   \n2   3.0            7.8              0.76         0.04             2.3   \n3   4.0           11.2              0.28         0.56             1.9   \n4   5.0            7.4              0.70         0.00             1.9   \n5   6.0            7.4              0.66         0.00             1.8   \n6   7.0            7.9              0.60         0.06             1.6   \n7   8.0            7.3              0.65         0.00             1.2   \n8   9.0            7.8              0.58         0.02             2.0   \n9  10.0            7.5              0.50         0.36             6.1   \n\n   chlorides  flavanoids  free sulfur dioxide  total sulfur dioxide  density  \\\n0       0.08        0.53                 11.0                  34.0     1.00   \n1       0.10        0.53                 25.0                  67.0     1.00   \n2       0.09        0.53                 15.0                  54.0     1.00   \n3       0.08        0.53                 17.0                  60.0     1.00   \n4       0.08        0.53                 11.0                  34.0     1.00   \n5       0.08        0.53                 13.0                  40.0     1.00   \n6       0.07        0.53                 15.0                  59.0     1.00   \n7       0.07        0.53                 15.0                  21.0     0.99   \n8       0.07        0.53                  9.0                  18.0     1.00   \n9       0.07        0.53                 17.0                 102.0     1.00   \n\n     pH  sulphates  magnesium  alcohol  lightness  quality  \n0  3.51       0.56       0.86      9.4      0.109      5.0  \n1  3.20       0.68       0.56      9.8      0.107      5.0  \n2  3.26       0.65       0.47      9.8      0.106      5.0  \n3  3.16       0.58       0.33      9.8      0.111      6.0  \n4  3.51       0.56       0.91      9.4      0.107      5.0  \n5  3.51       0.56       0.52      9.4      0.109      5.0  \n6  3.30       0.46       0.92      9.4      0.108      5.0  \n7  3.39       0.47       0.89     10.0      0.104      7.0  \n8  3.36       0.57       0.10      9.5      0.108      7.0  \n9  3.35       0.80       0.57     10.5      0.100      5.0  ",
      "text/html": "<div>\n<style scoped>\n    .dataframe tbody tr th:only-of-type {\n        vertical-align: middle;\n    }\n\n    .dataframe tbody tr th {\n        vertical-align: top;\n    }\n\n    .dataframe thead th {\n        text-align: right;\n    }\n</style>\n<table border=\"1\" class=\"dataframe\">\n  <thead>\n    <tr style=\"text-align: right;\">\n      <th></th>\n      <th>ID</th>\n      <th>fixed acidity</th>\n      <th>volatile acidity</th>\n      <th>citric acid</th>\n      <th>residual sugar</th>\n      <th>chlorides</th>\n      <th>flavanoids</th>\n      <th>free sulfur dioxide</th>\n      <th>total sulfur dioxide</th>\n      <th>density</th>\n      <th>pH</th>\n      <th>sulphates</th>\n      <th>magnesium</th>\n      <th>alcohol</th>\n      <th>lightness</th>\n      <th>quality</th>\n    </tr>\n  </thead>\n  <tbody>\n    <tr>\n      <th>0</th>\n      <td>1.0</td>\n      <td>7.4</td>\n      <td>0.70</td>\n      <td>0.00</td>\n      <td>1.9</td>\n      <td>0.08</td>\n      <td>0.53</td>\n      <td>11.0</td>\n      <td>34.0</td>\n      <td>1.00</td>\n      <td>3.51</td>\n      <td>0.56</td>\n      <td>0.86</td>\n      <td>9.4</td>\n      <td>0.109</td>\n      <td>5.0</td>\n    </tr>\n    <tr>\n      <th>1</th>\n      <td>2.0</td>\n      <td>7.8</td>\n      <td>0.88</td>\n      <td>0.00</td>\n      <td>2.6</td>\n      <td>0.10</td>\n      <td>0.53</td>\n      <td>25.0</td>\n      <td>67.0</td>\n      <td>1.00</td>\n      <td>3.20</td>\n      <td>0.68</td>\n      <td>0.56</td>\n      <td>9.8</td>\n      <td>0.107</td>\n      <td>5.0</td>\n    </tr>\n    <tr>\n      <th>2</th>\n      <td>3.0</td>\n      <td>7.8</td>\n      <td>0.76</td>\n      <td>0.04</td>\n      <td>2.3</td>\n      <td>0.09</td>\n      <td>0.53</td>\n      <td>15.0</td>\n      <td>54.0</td>\n      <td>1.00</td>\n      <td>3.26</td>\n      <td>0.65</td>\n      <td>0.47</td>\n      <td>9.8</td>\n      <td>0.106</td>\n      <td>5.0</td>\n    </tr>\n    <tr>\n      <th>3</th>\n      <td>4.0</td>\n      <td>11.2</td>\n      <td>0.28</td>\n      <td>0.56</td>\n      <td>1.9</td>\n      <td>0.08</td>\n      <td>0.53</td>\n      <td>17.0</td>\n      <td>60.0</td>\n      <td>1.00</td>\n      <td>3.16</td>\n      <td>0.58</td>\n      <td>0.33</td>\n      <td>9.8</td>\n      <td>0.111</td>\n      <td>6.0</td>\n    </tr>\n    <tr>\n      <th>4</th>\n      <td>5.0</td>\n      <td>7.4</td>\n      <td>0.70</td>\n      <td>0.00</td>\n      <td>1.9</td>\n      <td>0.08</td>\n      <td>0.53</td>\n      <td>11.0</td>\n      <td>34.0</td>\n      <td>1.00</td>\n      <td>3.51</td>\n      <td>0.56</td>\n      <td>0.91</td>\n      <td>9.4</td>\n      <td>0.107</td>\n      <td>5.0</td>\n    </tr>\n    <tr>\n      <th>5</th>\n      <td>6.0</td>\n      <td>7.4</td>\n      <td>0.66</td>\n      <td>0.00</td>\n      <td>1.8</td>\n      <td>0.08</td>\n      <td>0.53</td>\n      <td>13.0</td>\n      <td>40.0</td>\n      <td>1.00</td>\n      <td>3.51</td>\n      <td>0.56</td>\n      <td>0.52</td>\n      <td>9.4</td>\n      <td>0.109</td>\n      <td>5.0</td>\n    </tr>\n    <tr>\n      <th>6</th>\n      <td>7.0</td>\n      <td>7.9</td>\n      <td>0.60</td>\n      <td>0.06</td>\n      <td>1.6</td>\n      <td>0.07</td>\n      <td>0.53</td>\n      <td>15.0</td>\n      <td>59.0</td>\n      <td>1.00</td>\n      <td>3.30</td>\n      <td>0.46</td>\n      <td>0.92</td>\n      <td>9.4</td>\n      <td>0.108</td>\n      <td>5.0</td>\n    </tr>\n    <tr>\n      <th>7</th>\n      <td>8.0</td>\n      <td>7.3</td>\n      <td>0.65</td>\n      <td>0.00</td>\n      <td>1.2</td>\n      <td>0.07</td>\n      <td>0.53</td>\n      <td>15.0</td>\n      <td>21.0</td>\n      <td>0.99</td>\n      <td>3.39</td>\n      <td>0.47</td>\n      <td>0.89</td>\n      <td>10.0</td>\n      <td>0.104</td>\n      <td>7.0</td>\n    </tr>\n    <tr>\n      <th>8</th>\n      <td>9.0</td>\n      <td>7.8</td>\n      <td>0.58</td>\n      <td>0.02</td>\n      <td>2.0</td>\n      <td>0.07</td>\n      <td>0.53</td>\n      <td>9.0</td>\n      <td>18.0</td>\n      <td>1.00</td>\n      <td>3.36</td>\n      <td>0.57</td>\n      <td>0.10</td>\n      <td>9.5</td>\n      <td>0.108</td>\n      <td>7.0</td>\n    </tr>\n    <tr>\n      <th>9</th>\n      <td>10.0</td>\n      <td>7.5</td>\n      <td>0.50</td>\n      <td>0.36</td>\n      <td>6.1</td>\n      <td>0.07</td>\n      <td>0.53</td>\n      <td>17.0</td>\n      <td>102.0</td>\n      <td>1.00</td>\n      <td>3.35</td>\n      <td>0.80</td>\n      <td>0.57</td>\n      <td>10.5</td>\n      <td>0.100</td>\n      <td>5.0</td>\n    </tr>\n  </tbody>\n</table>\n</div>"
     },
     "metadata": {}
    },
    {
     "output_type": "display_data",
     "data": {
      "text/plain": "ID                      0\nfixed acidity           0\nvolatile acidity        0\ncitric acid             0\nresidual sugar          0\nchlorides               0\nflavanoids              0\nfree sulfur dioxide     0\ntotal sulfur dioxide    0\ndensity                 0\npH                      0\nsulphates               0\nmagnesium               0\nalcohol                 0\nlightness               0\nquality                 0\ndtype: int64"
     },
     "metadata": {}
    }
   ],
   "source": [
    "import numpy as np\n",
    "from sklearn.impute import SimpleImputer\n",
    "np.set_printoptions(threshold=np.inf)\n",
    "\n",
    "x= wine_red[['pH']]\n",
    "#Average Imputation using strategy='median'\n",
    "imp_med = SimpleImputer(missing_values=np.nan, strategy='median')\n",
    "imp_med.fit(x)\n",
    "SimpleImputer()\n",
    "ph_new = imp_med.transform(x)\n",
    "#display(ph_new)\n",
    "wine_red['pH']=ph_new\n",
    "display(wine_red.head(10))\n",
    "\n",
    "display(wine_red.isna().sum())\n"
   ]
  },
  {
   "cell_type": "markdown",
   "metadata": {},
   "source": [
    "# Noise Handling"
   ]
  },
  {
   "cell_type": "markdown",
   "metadata": {},
   "source": [
    "Our assumption: The found noise data are feature noises --> jedes feature nach diesem Vorgehen bearbeiten? Oder die 58 einfach Instance löschen oder???"
   ]
  },
  {
   "cell_type": "code",
   "execution_count": 19,
   "metadata": {
    "tags": []
   },
   "outputs": [
    {
     "output_type": "display_data",
     "data": {
      "text/plain": "(1597, 3)"
     },
     "metadata": {}
    },
    {
     "output_type": "display_data",
     "data": {
      "text/plain": "      Prediction  quality  Correct Prediction\n0            5.0      5.0                True\n1            5.0      5.0                True\n2            5.0      5.0                True\n3            5.0      6.0                True\n4            5.0      5.0                True\n...          ...      ...                 ...\n1592         6.0      5.0                True\n1593         6.0      6.0                True\n1594         6.0      6.0                True\n1595         5.0      5.0                True\n1596         6.0      6.0                True\n\n[1597 rows x 3 columns]",
      "text/html": "<div>\n<style scoped>\n    .dataframe tbody tr th:only-of-type {\n        vertical-align: middle;\n    }\n\n    .dataframe tbody tr th {\n        vertical-align: top;\n    }\n\n    .dataframe thead th {\n        text-align: right;\n    }\n</style>\n<table border=\"1\" class=\"dataframe\">\n  <thead>\n    <tr style=\"text-align: right;\">\n      <th></th>\n      <th>Prediction</th>\n      <th>quality</th>\n      <th>Correct Prediction</th>\n    </tr>\n  </thead>\n  <tbody>\n    <tr>\n      <th>0</th>\n      <td>5.0</td>\n      <td>5.0</td>\n      <td>True</td>\n    </tr>\n    <tr>\n      <th>1</th>\n      <td>5.0</td>\n      <td>5.0</td>\n      <td>True</td>\n    </tr>\n    <tr>\n      <th>2</th>\n      <td>5.0</td>\n      <td>5.0</td>\n      <td>True</td>\n    </tr>\n    <tr>\n      <th>3</th>\n      <td>5.0</td>\n      <td>6.0</td>\n      <td>True</td>\n    </tr>\n    <tr>\n      <th>4</th>\n      <td>5.0</td>\n      <td>5.0</td>\n      <td>True</td>\n    </tr>\n    <tr>\n      <th>...</th>\n      <td>...</td>\n      <td>...</td>\n      <td>...</td>\n    </tr>\n    <tr>\n      <th>1592</th>\n      <td>6.0</td>\n      <td>5.0</td>\n      <td>True</td>\n    </tr>\n    <tr>\n      <th>1593</th>\n      <td>6.0</td>\n      <td>6.0</td>\n      <td>True</td>\n    </tr>\n    <tr>\n      <th>1594</th>\n      <td>6.0</td>\n      <td>6.0</td>\n      <td>True</td>\n    </tr>\n    <tr>\n      <th>1595</th>\n      <td>5.0</td>\n      <td>5.0</td>\n      <td>True</td>\n    </tr>\n    <tr>\n      <th>1596</th>\n      <td>6.0</td>\n      <td>6.0</td>\n      <td>True</td>\n    </tr>\n  </tbody>\n</table>\n<p>1597 rows × 3 columns</p>\n</div>"
     },
     "metadata": {}
    },
    {
     "output_type": "stream",
     "name": "stdout",
     "text": [
      "False predictions\n"
     ]
    },
    {
     "output_type": "display_data",
     "data": {
      "text/plain": "(88, 3)"
     },
     "metadata": {}
    },
    {
     "output_type": "display_data",
     "data": {
      "text/plain": "      Prediction  quality  Correct Prediction\n7            5.0      7.0               False\n8            5.0      7.0               False\n16           5.0      7.0               False\n36           4.0      6.0               False\n37           5.0      7.0               False\n...          ...      ...                 ...\n1478         5.0      3.0               False\n1481         7.0      5.0               False\n1505         5.0      3.0               False\n1537         4.0      6.0               False\n1549         6.0      8.0               False\n\n[88 rows x 3 columns]",
      "text/html": "<div>\n<style scoped>\n    .dataframe tbody tr th:only-of-type {\n        vertical-align: middle;\n    }\n\n    .dataframe tbody tr th {\n        vertical-align: top;\n    }\n\n    .dataframe thead th {\n        text-align: right;\n    }\n</style>\n<table border=\"1\" class=\"dataframe\">\n  <thead>\n    <tr style=\"text-align: right;\">\n      <th></th>\n      <th>Prediction</th>\n      <th>quality</th>\n      <th>Correct Prediction</th>\n    </tr>\n  </thead>\n  <tbody>\n    <tr>\n      <th>7</th>\n      <td>5.0</td>\n      <td>7.0</td>\n      <td>False</td>\n    </tr>\n    <tr>\n      <th>8</th>\n      <td>5.0</td>\n      <td>7.0</td>\n      <td>False</td>\n    </tr>\n    <tr>\n      <th>16</th>\n      <td>5.0</td>\n      <td>7.0</td>\n      <td>False</td>\n    </tr>\n    <tr>\n      <th>36</th>\n      <td>4.0</td>\n      <td>6.0</td>\n      <td>False</td>\n    </tr>\n    <tr>\n      <th>37</th>\n      <td>5.0</td>\n      <td>7.0</td>\n      <td>False</td>\n    </tr>\n    <tr>\n      <th>...</th>\n      <td>...</td>\n      <td>...</td>\n      <td>...</td>\n    </tr>\n    <tr>\n      <th>1478</th>\n      <td>5.0</td>\n      <td>3.0</td>\n      <td>False</td>\n    </tr>\n    <tr>\n      <th>1481</th>\n      <td>7.0</td>\n      <td>5.0</td>\n      <td>False</td>\n    </tr>\n    <tr>\n      <th>1505</th>\n      <td>5.0</td>\n      <td>3.0</td>\n      <td>False</td>\n    </tr>\n    <tr>\n      <th>1537</th>\n      <td>4.0</td>\n      <td>6.0</td>\n      <td>False</td>\n    </tr>\n    <tr>\n      <th>1549</th>\n      <td>6.0</td>\n      <td>8.0</td>\n      <td>False</td>\n    </tr>\n  </tbody>\n</table>\n<p>88 rows × 3 columns</p>\n</div>"
     },
     "metadata": {}
    }
   ],
   "source": [
    "import numpy as np\n",
    "import pandas as pd\n",
    "from sklearn.linear_model import LogisticRegression\n",
    "from sklearn.naive_bayes import GaussianNB\n",
    "from sklearn.ensemble import RandomForestClassifier, VotingClassifier\n",
    "from sklearn.model_selection import cross_val_predict\n",
    "\n",
    "# Define 3 classifiers\n",
    "clf1 = LogisticRegression(multi_class='multinomial', random_state=1)\n",
    "clf2 = RandomForestClassifier(n_estimators=50, random_state=1)\n",
    "clf3 = GaussianNB()\n",
    "\n",
    "# define data\n",
    "x = wine_red.drop('ID', axis=1).drop('quality', axis=1)\n",
    "y = wine_red['quality']\n",
    "\n",
    "# merge 3 classifiers into one voting classifier\n",
    "eclf1 = VotingClassifier(estimators=[('lr', clf1), ('rf', clf2), ('gnb', clf3)], voting='hard')\n",
    "\n",
    "# train voting classifier with k-fold method\n",
    "y_pred = cross_val_predict(eclf1, x, y, cv=3)\n",
    "\n",
    "# save predictions, original quality and correct prediction boolean in data frame\n",
    "result = pd.DataFrame(y_pred, columns=['Prediction'])\n",
    "result['quality'] = y\n",
    "# mindestens 2 Abweichung\n",
    "delta_treshold = 2\n",
    "result['Correct Prediction']= abs(result['Prediction'] - result['quality']) < delta_treshold\n",
    "\n",
    "display(result.shape)\n",
    "display(result)\n",
    "\n",
    "# select all incorrect predicted data\n",
    "print('False predictions')\n",
    "delta_result = result[result['Correct Prediction'] == False]\n",
    "display(delta_result.shape)\n",
    "display(delta_result)\n",
    "\n",
    "# handle noise"
   ]
  },
  {
   "cell_type": "markdown",
   "metadata": {},
   "source": [
    "## Outliers"
   ]
  },
  {
   "cell_type": "markdown",
   "metadata": {},
   "source": [
    "Outlier Detection"
   ]
  },
  {
   "cell_type": "code",
   "execution_count": null,
   "metadata": {},
   "outputs": [],
   "source": [
    "from sklearn.ensemble import IsolationForest\n",
    "\n",
    "# identify outliers in the training dataset\n",
    "iso = IsolationForest(contamination=0.1)\n",
    "y_out = iso.fit_predict(X_train)\n",
    "\n",
    "# select all rows that are not outliers (inlier=1, outlier=-1)\n",
    "mask = y_out != -1\n",
    "X_train_red, y_train_red = X_train[mask, :], y_train[mask]\n",
    "\n",
    "# Inliers vs. Outliers\n",
    "print(\"Inliers: \",X_train_red.shape[0],\"Outliers\",X_train.shape[0]-X_train_red.shape[0])\n",
    "\n",
    "# fit the model\n",
    "model = LinearRegression()\n",
    "model.fit(X_train_red, y_train_red)\n",
    "\n",
    "# evaluate the model\n",
    "y_pred = model.predict(X_test)\n",
    "\n",
    "# evaluate predictions\n",
    "mae = mean_absolute_error(y_test, y_pred)\n",
    "print('MAE: %.3f' % mae)"
   ]
  }
 ],
 "metadata": {
  "language_info": {
   "codemirror_mode": {
    "name": "ipython",
    "version": 3
   },
   "file_extension": ".py",
   "mimetype": "text/x-python",
   "name": "python",
   "nbconvert_exporter": "python",
   "pygments_lexer": "ipython3",
   "version": "3.8.3-final"
  },
  "orig_nbformat": 2,
  "kernelspec": {
   "name": "python3",
   "display_name": "Python 3"
  }
 },
 "nbformat": 4,
 "nbformat_minor": 2
}