{
 "cells": [
  {
   "cell_type": "code",
   "execution_count": 157,
   "metadata": {},
   "outputs": [],
   "source": [
    "from datasets import wine_red_dataset, wine_white_dataset\n",
    "from sklearn.linear_model import LogisticRegression\n",
    "from sklearn.model_selection import train_test_split\n",
    "import pandas as pd\n",
    "\n",
    "wine_red = wine_red_dataset().drop('ID', axis=1)\n",
    "wine_red.dropna(how='all', inplace=True)\n",
    "\n",
    "wine_white = wine_white_dataset()"
   ]
  },
  {
   "cell_type": "markdown",
   "metadata": {},
   "source": [
    "# Modeling-Missing Values"
   ]
  },
  {
   "cell_type": "markdown",
   "metadata": {},
   "source": [
    "Information from the exploration: Missing values in the pH (15 values) and fixed acidity (17 values) data"
   ]
  },
  {
   "cell_type": "markdown",
   "metadata": {},
   "source": [
    "Fixed acidity is a missing at random value: In our case, missing fixed acidity values can be calculated from the citric acid values.     PH seem to be missing completely at random: There is no major correlation with other features"
   ]
  },
  {
   "cell_type": "markdown",
   "metadata": {},
   "source": [
    "Fixed acidity missing values are calculated by a multiple imputation because the estimation can provide\n",
    "more realistic standard errors. The multiple Imputation creates multiple data\n",
    "with different estimations. The results of different models are\n",
    "averaged or combined."
   ]
  },
  {
   "cell_type": "code",
   "execution_count": 158,
   "metadata": {
    "tags": []
   },
   "outputs": [
    {
     "output_type": "display_data",
     "data": {
      "text/plain": "      fixed acidity  citric acid\n22              NaN         0.21\n61              NaN         0.49\n97              NaN         0.25\n187             NaN         0.10\n274             NaN         0.18\n409             NaN         0.49\n410             NaN         0.34\n411             NaN         0.35\n412             NaN         0.16\n753             NaN         0.10\n759             NaN         0.21\n1425            NaN         0.37\n1426            NaN         0.37\n1427            NaN         0.33\n1428            NaN         0.00\n1447            NaN         0.00\n1540            NaN         0.08",
      "text/html": "<div>\n<style scoped>\n    .dataframe tbody tr th:only-of-type {\n        vertical-align: middle;\n    }\n\n    .dataframe tbody tr th {\n        vertical-align: top;\n    }\n\n    .dataframe thead th {\n        text-align: right;\n    }\n</style>\n<table border=\"1\" class=\"dataframe\">\n  <thead>\n    <tr style=\"text-align: right;\">\n      <th></th>\n      <th>fixed acidity</th>\n      <th>citric acid</th>\n    </tr>\n  </thead>\n  <tbody>\n    <tr>\n      <th>22</th>\n      <td>NaN</td>\n      <td>0.21</td>\n    </tr>\n    <tr>\n      <th>61</th>\n      <td>NaN</td>\n      <td>0.49</td>\n    </tr>\n    <tr>\n      <th>97</th>\n      <td>NaN</td>\n      <td>0.25</td>\n    </tr>\n    <tr>\n      <th>187</th>\n      <td>NaN</td>\n      <td>0.10</td>\n    </tr>\n    <tr>\n      <th>274</th>\n      <td>NaN</td>\n      <td>0.18</td>\n    </tr>\n    <tr>\n      <th>409</th>\n      <td>NaN</td>\n      <td>0.49</td>\n    </tr>\n    <tr>\n      <th>410</th>\n      <td>NaN</td>\n      <td>0.34</td>\n    </tr>\n    <tr>\n      <th>411</th>\n      <td>NaN</td>\n      <td>0.35</td>\n    </tr>\n    <tr>\n      <th>412</th>\n      <td>NaN</td>\n      <td>0.16</td>\n    </tr>\n    <tr>\n      <th>753</th>\n      <td>NaN</td>\n      <td>0.10</td>\n    </tr>\n    <tr>\n      <th>759</th>\n      <td>NaN</td>\n      <td>0.21</td>\n    </tr>\n    <tr>\n      <th>1425</th>\n      <td>NaN</td>\n      <td>0.37</td>\n    </tr>\n    <tr>\n      <th>1426</th>\n      <td>NaN</td>\n      <td>0.37</td>\n    </tr>\n    <tr>\n      <th>1427</th>\n      <td>NaN</td>\n      <td>0.33</td>\n    </tr>\n    <tr>\n      <th>1428</th>\n      <td>NaN</td>\n      <td>0.00</td>\n    </tr>\n    <tr>\n      <th>1447</th>\n      <td>NaN</td>\n      <td>0.00</td>\n    </tr>\n    <tr>\n      <th>1540</th>\n      <td>NaN</td>\n      <td>0.08</td>\n    </tr>\n  </tbody>\n</table>\n</div>"
     },
     "metadata": {}
    },
    {
     "output_type": "display_data",
     "data": {
      "text/plain": "      fixed acidity  citric acid\n0               7.4         0.00\n1               7.8         0.00\n2               7.8         0.04\n3              11.2         0.56\n4               7.4         0.00\n...             ...          ...\n1592            6.2         0.08\n1593            5.9         0.10\n1594            6.3         0.13\n1595            5.9         0.12\n1596            6.0         0.47\n\n[1597 rows x 2 columns]",
      "text/html": "<div>\n<style scoped>\n    .dataframe tbody tr th:only-of-type {\n        vertical-align: middle;\n    }\n\n    .dataframe tbody tr th {\n        vertical-align: top;\n    }\n\n    .dataframe thead th {\n        text-align: right;\n    }\n</style>\n<table border=\"1\" class=\"dataframe\">\n  <thead>\n    <tr style=\"text-align: right;\">\n      <th></th>\n      <th>fixed acidity</th>\n      <th>citric acid</th>\n    </tr>\n  </thead>\n  <tbody>\n    <tr>\n      <th>0</th>\n      <td>7.4</td>\n      <td>0.00</td>\n    </tr>\n    <tr>\n      <th>1</th>\n      <td>7.8</td>\n      <td>0.00</td>\n    </tr>\n    <tr>\n      <th>2</th>\n      <td>7.8</td>\n      <td>0.04</td>\n    </tr>\n    <tr>\n      <th>3</th>\n      <td>11.2</td>\n      <td>0.56</td>\n    </tr>\n    <tr>\n      <th>4</th>\n      <td>7.4</td>\n      <td>0.00</td>\n    </tr>\n    <tr>\n      <th>...</th>\n      <td>...</td>\n      <td>...</td>\n    </tr>\n    <tr>\n      <th>1592</th>\n      <td>6.2</td>\n      <td>0.08</td>\n    </tr>\n    <tr>\n      <th>1593</th>\n      <td>5.9</td>\n      <td>0.10</td>\n    </tr>\n    <tr>\n      <th>1594</th>\n      <td>6.3</td>\n      <td>0.13</td>\n    </tr>\n    <tr>\n      <th>1595</th>\n      <td>5.9</td>\n      <td>0.12</td>\n    </tr>\n    <tr>\n      <th>1596</th>\n      <td>6.0</td>\n      <td>0.47</td>\n    </tr>\n  </tbody>\n</table>\n<p>1597 rows × 2 columns</p>\n</div>"
     },
     "metadata": {}
    },
    {
     "output_type": "display_data",
     "data": {
      "text/plain": "'Regression imputed fixed acidity: \\n'"
     },
     "metadata": {}
    },
    {
     "output_type": "display_data",
     "data": {
      "text/plain": "      fixed acidity  citric acid\n22         7.956331         0.21\n61         9.638865         0.49\n97         8.196693         0.25\n187        7.295336         0.10\n274        7.776060         0.18\n409        9.638865         0.49\n410        8.737508         0.34\n411        8.797598         0.35\n412        7.655879         0.16\n753        7.295336         0.10\n759        7.956331         0.21\n1425       8.917779         0.37\n1426       8.917779         0.37\n1427       8.677417         0.33\n1428       6.694432         0.00\n1447       6.694432         0.00\n1540       7.175155         0.08",
      "text/html": "<div>\n<style scoped>\n    .dataframe tbody tr th:only-of-type {\n        vertical-align: middle;\n    }\n\n    .dataframe tbody tr th {\n        vertical-align: top;\n    }\n\n    .dataframe thead th {\n        text-align: right;\n    }\n</style>\n<table border=\"1\" class=\"dataframe\">\n  <thead>\n    <tr style=\"text-align: right;\">\n      <th></th>\n      <th>fixed acidity</th>\n      <th>citric acid</th>\n    </tr>\n  </thead>\n  <tbody>\n    <tr>\n      <th>22</th>\n      <td>7.956331</td>\n      <td>0.21</td>\n    </tr>\n    <tr>\n      <th>61</th>\n      <td>9.638865</td>\n      <td>0.49</td>\n    </tr>\n    <tr>\n      <th>97</th>\n      <td>8.196693</td>\n      <td>0.25</td>\n    </tr>\n    <tr>\n      <th>187</th>\n      <td>7.295336</td>\n      <td>0.10</td>\n    </tr>\n    <tr>\n      <th>274</th>\n      <td>7.776060</td>\n      <td>0.18</td>\n    </tr>\n    <tr>\n      <th>409</th>\n      <td>9.638865</td>\n      <td>0.49</td>\n    </tr>\n    <tr>\n      <th>410</th>\n      <td>8.737508</td>\n      <td>0.34</td>\n    </tr>\n    <tr>\n      <th>411</th>\n      <td>8.797598</td>\n      <td>0.35</td>\n    </tr>\n    <tr>\n      <th>412</th>\n      <td>7.655879</td>\n      <td>0.16</td>\n    </tr>\n    <tr>\n      <th>753</th>\n      <td>7.295336</td>\n      <td>0.10</td>\n    </tr>\n    <tr>\n      <th>759</th>\n      <td>7.956331</td>\n      <td>0.21</td>\n    </tr>\n    <tr>\n      <th>1425</th>\n      <td>8.917779</td>\n      <td>0.37</td>\n    </tr>\n    <tr>\n      <th>1426</th>\n      <td>8.917779</td>\n      <td>0.37</td>\n    </tr>\n    <tr>\n      <th>1427</th>\n      <td>8.677417</td>\n      <td>0.33</td>\n    </tr>\n    <tr>\n      <th>1428</th>\n      <td>6.694432</td>\n      <td>0.00</td>\n    </tr>\n    <tr>\n      <th>1447</th>\n      <td>6.694432</td>\n      <td>0.00</td>\n    </tr>\n    <tr>\n      <th>1540</th>\n      <td>7.175155</td>\n      <td>0.08</td>\n    </tr>\n  </tbody>\n</table>\n</div>"
     },
     "metadata": {}
    },
    {
     "output_type": "display_data",
     "data": {
      "text/plain": "      fixed acidity  volatile acidity  citric acid  residual sugar  chlorides  \\\n11              7.5              0.50         0.36             6.1       0.07   \n606             9.4              0.41         0.48             4.6       0.07   \n607             8.8              0.48         0.41             3.3       0.09   \n608            10.1              0.65         0.37             5.1       0.11   \n948             8.9              0.12         0.45             1.8       0.08   \n1162            8.5              0.32         0.42             2.3       0.08   \n1163            9.0              0.79         0.24             1.7       0.08   \n1164            9.0              0.79         0.24             1.7       0.08   \n1369            6.6              0.61         0.00             1.6       0.07   \n1370            8.7              0.78         0.51             1.7       0.42   \n1371            7.5              0.58         0.56             3.1       0.15   \n1372            8.7              0.78         0.51             1.7       0.42   \n1395            8.6              0.69         0.10             1.6       0.09   \n1587            7.2              0.66         0.33             2.5       0.07   \n1592            6.2              0.60         0.08             2.0       0.09   \n\n      flavanoids  free sulfur dioxide  total sulfur dioxide  density  pH  \\\n11          0.53                 17.0                 102.0     1.00 NaN   \n606         0.53                 10.0                  20.0     1.00 NaN   \n607         0.53                 26.0                  52.0     1.00 NaN   \n608         0.53                 11.0                  65.0     1.00 NaN   \n948         0.53                 10.0                  21.0     1.00 NaN   \n1162        0.53                 12.0                  19.0     0.99 NaN   \n1163        0.53                 10.0                  21.0     1.00 NaN   \n1164        0.53                 10.0                  21.0     1.00 NaN   \n1369        0.53                  4.0                   8.0     0.99 NaN   \n1370        0.53                 12.0                  66.0     1.00 NaN   \n1371        0.53                  5.0                  14.0     0.99 NaN   \n1372        0.53                 12.0                  66.0     1.00 NaN   \n1395        0.53                  3.0                  12.0     1.00 NaN   \n1587        0.53                 34.0                 102.0     0.99 NaN   \n1592        0.53                 32.0                  44.0     0.99 NaN   \n\n      sulphates  magnesium  alcohol  lightness  quality  \n11         0.80       0.42    10.50      0.101      5.0  \n606        0.79       0.80    12.20      0.088      7.0  \n607        0.53       0.56    10.50      0.096      6.0  \n608        0.64       0.21    10.40      0.105      6.0  \n948        0.76       0.69    11.90      0.086      7.0  \n1162       0.71       0.39    11.80      0.093      7.0  \n1163       0.67       0.58    10.00      0.105      5.0  \n1164       0.67       0.79    10.00      0.102      5.0  \n1369       0.37       0.05    10.40      0.103      4.0  \n1370       1.17       0.91     9.20      0.111      5.0  \n1371       1.03       0.70    11.60      0.092      6.0  \n1372       1.17       0.89     9.20      0.115      5.0  \n1395       0.65       0.16     9.55      0.107      6.0  \n1587       0.78       0.20    12.80      0.082      6.0  \n1592       0.58       0.98    10.50      0.102      5.0  ",
      "text/html": "<div>\n<style scoped>\n    .dataframe tbody tr th:only-of-type {\n        vertical-align: middle;\n    }\n\n    .dataframe tbody tr th {\n        vertical-align: top;\n    }\n\n    .dataframe thead th {\n        text-align: right;\n    }\n</style>\n<table border=\"1\" class=\"dataframe\">\n  <thead>\n    <tr style=\"text-align: right;\">\n      <th></th>\n      <th>fixed acidity</th>\n      <th>volatile acidity</th>\n      <th>citric acid</th>\n      <th>residual sugar</th>\n      <th>chlorides</th>\n      <th>flavanoids</th>\n      <th>free sulfur dioxide</th>\n      <th>total sulfur dioxide</th>\n      <th>density</th>\n      <th>pH</th>\n      <th>sulphates</th>\n      <th>magnesium</th>\n      <th>alcohol</th>\n      <th>lightness</th>\n      <th>quality</th>\n    </tr>\n  </thead>\n  <tbody>\n    <tr>\n      <th>11</th>\n      <td>7.5</td>\n      <td>0.50</td>\n      <td>0.36</td>\n      <td>6.1</td>\n      <td>0.07</td>\n      <td>0.53</td>\n      <td>17.0</td>\n      <td>102.0</td>\n      <td>1.00</td>\n      <td>NaN</td>\n      <td>0.80</td>\n      <td>0.42</td>\n      <td>10.50</td>\n      <td>0.101</td>\n      <td>5.0</td>\n    </tr>\n    <tr>\n      <th>606</th>\n      <td>9.4</td>\n      <td>0.41</td>\n      <td>0.48</td>\n      <td>4.6</td>\n      <td>0.07</td>\n      <td>0.53</td>\n      <td>10.0</td>\n      <td>20.0</td>\n      <td>1.00</td>\n      <td>NaN</td>\n      <td>0.79</td>\n      <td>0.80</td>\n      <td>12.20</td>\n      <td>0.088</td>\n      <td>7.0</td>\n    </tr>\n    <tr>\n      <th>607</th>\n      <td>8.8</td>\n      <td>0.48</td>\n      <td>0.41</td>\n      <td>3.3</td>\n      <td>0.09</td>\n      <td>0.53</td>\n      <td>26.0</td>\n      <td>52.0</td>\n      <td>1.00</td>\n      <td>NaN</td>\n      <td>0.53</td>\n      <td>0.56</td>\n      <td>10.50</td>\n      <td>0.096</td>\n      <td>6.0</td>\n    </tr>\n    <tr>\n      <th>608</th>\n      <td>10.1</td>\n      <td>0.65</td>\n      <td>0.37</td>\n      <td>5.1</td>\n      <td>0.11</td>\n      <td>0.53</td>\n      <td>11.0</td>\n      <td>65.0</td>\n      <td>1.00</td>\n      <td>NaN</td>\n      <td>0.64</td>\n      <td>0.21</td>\n      <td>10.40</td>\n      <td>0.105</td>\n      <td>6.0</td>\n    </tr>\n    <tr>\n      <th>948</th>\n      <td>8.9</td>\n      <td>0.12</td>\n      <td>0.45</td>\n      <td>1.8</td>\n      <td>0.08</td>\n      <td>0.53</td>\n      <td>10.0</td>\n      <td>21.0</td>\n      <td>1.00</td>\n      <td>NaN</td>\n      <td>0.76</td>\n      <td>0.69</td>\n      <td>11.90</td>\n      <td>0.086</td>\n      <td>7.0</td>\n    </tr>\n    <tr>\n      <th>1162</th>\n      <td>8.5</td>\n      <td>0.32</td>\n      <td>0.42</td>\n      <td>2.3</td>\n      <td>0.08</td>\n      <td>0.53</td>\n      <td>12.0</td>\n      <td>19.0</td>\n      <td>0.99</td>\n      <td>NaN</td>\n      <td>0.71</td>\n      <td>0.39</td>\n      <td>11.80</td>\n      <td>0.093</td>\n      <td>7.0</td>\n    </tr>\n    <tr>\n      <th>1163</th>\n      <td>9.0</td>\n      <td>0.79</td>\n      <td>0.24</td>\n      <td>1.7</td>\n      <td>0.08</td>\n      <td>0.53</td>\n      <td>10.0</td>\n      <td>21.0</td>\n      <td>1.00</td>\n      <td>NaN</td>\n      <td>0.67</td>\n      <td>0.58</td>\n      <td>10.00</td>\n      <td>0.105</td>\n      <td>5.0</td>\n    </tr>\n    <tr>\n      <th>1164</th>\n      <td>9.0</td>\n      <td>0.79</td>\n      <td>0.24</td>\n      <td>1.7</td>\n      <td>0.08</td>\n      <td>0.53</td>\n      <td>10.0</td>\n      <td>21.0</td>\n      <td>1.00</td>\n      <td>NaN</td>\n      <td>0.67</td>\n      <td>0.79</td>\n      <td>10.00</td>\n      <td>0.102</td>\n      <td>5.0</td>\n    </tr>\n    <tr>\n      <th>1369</th>\n      <td>6.6</td>\n      <td>0.61</td>\n      <td>0.00</td>\n      <td>1.6</td>\n      <td>0.07</td>\n      <td>0.53</td>\n      <td>4.0</td>\n      <td>8.0</td>\n      <td>0.99</td>\n      <td>NaN</td>\n      <td>0.37</td>\n      <td>0.05</td>\n      <td>10.40</td>\n      <td>0.103</td>\n      <td>4.0</td>\n    </tr>\n    <tr>\n      <th>1370</th>\n      <td>8.7</td>\n      <td>0.78</td>\n      <td>0.51</td>\n      <td>1.7</td>\n      <td>0.42</td>\n      <td>0.53</td>\n      <td>12.0</td>\n      <td>66.0</td>\n      <td>1.00</td>\n      <td>NaN</td>\n      <td>1.17</td>\n      <td>0.91</td>\n      <td>9.20</td>\n      <td>0.111</td>\n      <td>5.0</td>\n    </tr>\n    <tr>\n      <th>1371</th>\n      <td>7.5</td>\n      <td>0.58</td>\n      <td>0.56</td>\n      <td>3.1</td>\n      <td>0.15</td>\n      <td>0.53</td>\n      <td>5.0</td>\n      <td>14.0</td>\n      <td>0.99</td>\n      <td>NaN</td>\n      <td>1.03</td>\n      <td>0.70</td>\n      <td>11.60</td>\n      <td>0.092</td>\n      <td>6.0</td>\n    </tr>\n    <tr>\n      <th>1372</th>\n      <td>8.7</td>\n      <td>0.78</td>\n      <td>0.51</td>\n      <td>1.7</td>\n      <td>0.42</td>\n      <td>0.53</td>\n      <td>12.0</td>\n      <td>66.0</td>\n      <td>1.00</td>\n      <td>NaN</td>\n      <td>1.17</td>\n      <td>0.89</td>\n      <td>9.20</td>\n      <td>0.115</td>\n      <td>5.0</td>\n    </tr>\n    <tr>\n      <th>1395</th>\n      <td>8.6</td>\n      <td>0.69</td>\n      <td>0.10</td>\n      <td>1.6</td>\n      <td>0.09</td>\n      <td>0.53</td>\n      <td>3.0</td>\n      <td>12.0</td>\n      <td>1.00</td>\n      <td>NaN</td>\n      <td>0.65</td>\n      <td>0.16</td>\n      <td>9.55</td>\n      <td>0.107</td>\n      <td>6.0</td>\n    </tr>\n    <tr>\n      <th>1587</th>\n      <td>7.2</td>\n      <td>0.66</td>\n      <td>0.33</td>\n      <td>2.5</td>\n      <td>0.07</td>\n      <td>0.53</td>\n      <td>34.0</td>\n      <td>102.0</td>\n      <td>0.99</td>\n      <td>NaN</td>\n      <td>0.78</td>\n      <td>0.20</td>\n      <td>12.80</td>\n      <td>0.082</td>\n      <td>6.0</td>\n    </tr>\n    <tr>\n      <th>1592</th>\n      <td>6.2</td>\n      <td>0.60</td>\n      <td>0.08</td>\n      <td>2.0</td>\n      <td>0.09</td>\n      <td>0.53</td>\n      <td>32.0</td>\n      <td>44.0</td>\n      <td>0.99</td>\n      <td>NaN</td>\n      <td>0.58</td>\n      <td>0.98</td>\n      <td>10.50</td>\n      <td>0.102</td>\n      <td>5.0</td>\n    </tr>\n  </tbody>\n</table>\n</div>"
     },
     "metadata": {}
    },
    {
     "output_type": "stream",
     "name": "stdout",
     "text": [
      "\n"
     ]
    }
   ],
   "source": [
    "from sklearn.experimental import enable_iterative_imputer\n",
    "from sklearn.impute import IterativeImputer\n",
    "import numpy as np\n",
    "from datasets import show_mvs\n",
    "\n",
    "columns = ['fixed acidity','citric acid']\n",
    "w_red_imp=wine_red[columns]\n",
    "mvs = show_mvs(w_red_imp)\n",
    "\n",
    "display(w_red_imp)\n",
    "\n",
    "imp = IterativeImputer(max_iter=20)\n",
    "transformed_x= imp.fit_transform(w_red_imp)\n",
    "df_missing_v=pd.DataFrame(transformed_x, columns=columns)\n",
    "display(\"Regression imputed fixed acidity: \\n\", df_missing_v.loc[mvs.index])\n",
    "wine_red['fixed acidity'] = df_missing_v['fixed acidity']\n",
    "show_mvs(wine_red)\n",
    "print()"
   ]
  },
  {
   "cell_type": "markdown",
   "metadata": {},
   "source": [
    "PH seem to be missing completely at random: There is no major correlation with other features, average imputation is used because it handle missling completely at randoms, ML imputation is not used because the algorithm needs a missing at random, no regression imputation is used because the exploration showed that there is no correlation with other features. The median is used for the average impuation because it's not affected by outliers."
   ]
  },
  {
   "cell_type": "code",
   "execution_count": 159,
   "metadata": {
    "tags": []
   },
   "outputs": [
    {
     "output_type": "display_data",
     "data": {
      "text/plain": "   fixed acidity  volatile acidity  citric acid  residual sugar  chlorides  \\\n0            7.4              0.70         0.00             1.9       0.08   \n1            7.8              0.88         0.00             2.6       0.10   \n2            7.8              0.76         0.04             2.3       0.09   \n3           11.2              0.28         0.56             1.9       0.08   \n4            7.4              0.70         0.00             1.9       0.08   \n5            7.4              0.66         0.00             1.8       0.08   \n6            7.9              0.60         0.06             1.6       0.07   \n7            7.3              0.65         0.00             1.2       0.07   \n8            7.8              0.58         0.02             2.0       0.07   \n9            7.5              0.50         0.36             6.1       0.07   \n\n   flavanoids  free sulfur dioxide  total sulfur dioxide  density    pH  \\\n0        0.53                 11.0                  34.0     1.00  3.51   \n1        0.53                 25.0                  67.0     1.00  3.20   \n2        0.53                 15.0                  54.0     1.00  3.26   \n3        0.53                 17.0                  60.0     1.00  3.16   \n4        0.53                 11.0                  34.0     1.00  3.51   \n5        0.53                 13.0                  40.0     1.00  3.51   \n6        0.53                 15.0                  59.0     1.00  3.30   \n7        0.53                 15.0                  21.0     0.99  3.39   \n8        0.53                  9.0                  18.0     1.00  3.36   \n9        0.53                 17.0                 102.0     1.00  3.35   \n\n   sulphates  magnesium  alcohol  lightness  quality  \n0       0.56       0.86      9.4      0.109      5.0  \n1       0.68       0.56      9.8      0.107      5.0  \n2       0.65       0.47      9.8      0.106      5.0  \n3       0.58       0.33      9.8      0.111      6.0  \n4       0.56       0.91      9.4      0.107      5.0  \n5       0.56       0.52      9.4      0.109      5.0  \n6       0.46       0.92      9.4      0.108      5.0  \n7       0.47       0.89     10.0      0.104      7.0  \n8       0.57       0.10      9.5      0.108      7.0  \n9       0.80       0.57     10.5      0.100      5.0  ",
      "text/html": "<div>\n<style scoped>\n    .dataframe tbody tr th:only-of-type {\n        vertical-align: middle;\n    }\n\n    .dataframe tbody tr th {\n        vertical-align: top;\n    }\n\n    .dataframe thead th {\n        text-align: right;\n    }\n</style>\n<table border=\"1\" class=\"dataframe\">\n  <thead>\n    <tr style=\"text-align: right;\">\n      <th></th>\n      <th>fixed acidity</th>\n      <th>volatile acidity</th>\n      <th>citric acid</th>\n      <th>residual sugar</th>\n      <th>chlorides</th>\n      <th>flavanoids</th>\n      <th>free sulfur dioxide</th>\n      <th>total sulfur dioxide</th>\n      <th>density</th>\n      <th>pH</th>\n      <th>sulphates</th>\n      <th>magnesium</th>\n      <th>alcohol</th>\n      <th>lightness</th>\n      <th>quality</th>\n    </tr>\n  </thead>\n  <tbody>\n    <tr>\n      <th>0</th>\n      <td>7.4</td>\n      <td>0.70</td>\n      <td>0.00</td>\n      <td>1.9</td>\n      <td>0.08</td>\n      <td>0.53</td>\n      <td>11.0</td>\n      <td>34.0</td>\n      <td>1.00</td>\n      <td>3.51</td>\n      <td>0.56</td>\n      <td>0.86</td>\n      <td>9.4</td>\n      <td>0.109</td>\n      <td>5.0</td>\n    </tr>\n    <tr>\n      <th>1</th>\n      <td>7.8</td>\n      <td>0.88</td>\n      <td>0.00</td>\n      <td>2.6</td>\n      <td>0.10</td>\n      <td>0.53</td>\n      <td>25.0</td>\n      <td>67.0</td>\n      <td>1.00</td>\n      <td>3.20</td>\n      <td>0.68</td>\n      <td>0.56</td>\n      <td>9.8</td>\n      <td>0.107</td>\n      <td>5.0</td>\n    </tr>\n    <tr>\n      <th>2</th>\n      <td>7.8</td>\n      <td>0.76</td>\n      <td>0.04</td>\n      <td>2.3</td>\n      <td>0.09</td>\n      <td>0.53</td>\n      <td>15.0</td>\n      <td>54.0</td>\n      <td>1.00</td>\n      <td>3.26</td>\n      <td>0.65</td>\n      <td>0.47</td>\n      <td>9.8</td>\n      <td>0.106</td>\n      <td>5.0</td>\n    </tr>\n    <tr>\n      <th>3</th>\n      <td>11.2</td>\n      <td>0.28</td>\n      <td>0.56</td>\n      <td>1.9</td>\n      <td>0.08</td>\n      <td>0.53</td>\n      <td>17.0</td>\n      <td>60.0</td>\n      <td>1.00</td>\n      <td>3.16</td>\n      <td>0.58</td>\n      <td>0.33</td>\n      <td>9.8</td>\n      <td>0.111</td>\n      <td>6.0</td>\n    </tr>\n    <tr>\n      <th>4</th>\n      <td>7.4</td>\n      <td>0.70</td>\n      <td>0.00</td>\n      <td>1.9</td>\n      <td>0.08</td>\n      <td>0.53</td>\n      <td>11.0</td>\n      <td>34.0</td>\n      <td>1.00</td>\n      <td>3.51</td>\n      <td>0.56</td>\n      <td>0.91</td>\n      <td>9.4</td>\n      <td>0.107</td>\n      <td>5.0</td>\n    </tr>\n    <tr>\n      <th>5</th>\n      <td>7.4</td>\n      <td>0.66</td>\n      <td>0.00</td>\n      <td>1.8</td>\n      <td>0.08</td>\n      <td>0.53</td>\n      <td>13.0</td>\n      <td>40.0</td>\n      <td>1.00</td>\n      <td>3.51</td>\n      <td>0.56</td>\n      <td>0.52</td>\n      <td>9.4</td>\n      <td>0.109</td>\n      <td>5.0</td>\n    </tr>\n    <tr>\n      <th>6</th>\n      <td>7.9</td>\n      <td>0.60</td>\n      <td>0.06</td>\n      <td>1.6</td>\n      <td>0.07</td>\n      <td>0.53</td>\n      <td>15.0</td>\n      <td>59.0</td>\n      <td>1.00</td>\n      <td>3.30</td>\n      <td>0.46</td>\n      <td>0.92</td>\n      <td>9.4</td>\n      <td>0.108</td>\n      <td>5.0</td>\n    </tr>\n    <tr>\n      <th>7</th>\n      <td>7.3</td>\n      <td>0.65</td>\n      <td>0.00</td>\n      <td>1.2</td>\n      <td>0.07</td>\n      <td>0.53</td>\n      <td>15.0</td>\n      <td>21.0</td>\n      <td>0.99</td>\n      <td>3.39</td>\n      <td>0.47</td>\n      <td>0.89</td>\n      <td>10.0</td>\n      <td>0.104</td>\n      <td>7.0</td>\n    </tr>\n    <tr>\n      <th>8</th>\n      <td>7.8</td>\n      <td>0.58</td>\n      <td>0.02</td>\n      <td>2.0</td>\n      <td>0.07</td>\n      <td>0.53</td>\n      <td>9.0</td>\n      <td>18.0</td>\n      <td>1.00</td>\n      <td>3.36</td>\n      <td>0.57</td>\n      <td>0.10</td>\n      <td>9.5</td>\n      <td>0.108</td>\n      <td>7.0</td>\n    </tr>\n    <tr>\n      <th>9</th>\n      <td>7.5</td>\n      <td>0.50</td>\n      <td>0.36</td>\n      <td>6.1</td>\n      <td>0.07</td>\n      <td>0.53</td>\n      <td>17.0</td>\n      <td>102.0</td>\n      <td>1.00</td>\n      <td>3.35</td>\n      <td>0.80</td>\n      <td>0.57</td>\n      <td>10.5</td>\n      <td>0.100</td>\n      <td>5.0</td>\n    </tr>\n  </tbody>\n</table>\n</div>"
     },
     "metadata": {}
    },
    {
     "output_type": "display_data",
     "data": {
      "text/plain": "fixed acidity           0\nvolatile acidity        0\ncitric acid             0\nresidual sugar          0\nchlorides               0\nflavanoids              0\nfree sulfur dioxide     0\ntotal sulfur dioxide    0\ndensity                 0\npH                      0\nsulphates               0\nmagnesium               0\nalcohol                 0\nlightness               0\nquality                 0\ndtype: int64"
     },
     "metadata": {}
    }
   ],
   "source": [
    "import numpy as np\n",
    "from sklearn.impute import SimpleImputer\n",
    "np.set_printoptions(threshold=np.inf)\n",
    "\n",
    "x= wine_red[['pH']]\n",
    "\n",
    "#Average Imputation using strategy='median'\n",
    "imp_med = SimpleImputer(missing_values=np.nan, strategy='median')\n",
    "imp_med.fit(x)\n",
    "SimpleImputer()\n",
    "ph_new = imp_med.transform(x)\n",
    "#display(ph_new)\n",
    "wine_red['pH']=ph_new\n",
    "display(wine_red.head(10))\n",
    "\n",
    "display(wine_red.isna().sum())\n"
   ]
  },
  {
   "source": [
    "# Feature selection"
   ],
   "cell_type": "markdown",
   "metadata": {}
  },
  {
   "source": [
    "calculate information gain and vif after handling missing values. Compare it to results from exploration phase"
   ],
   "cell_type": "markdown",
   "metadata": {}
  },
  {
   "cell_type": "code",
   "execution_count": 160,
   "metadata": {},
   "outputs": [
    {
     "output_type": "execute_result",
     "data": {
      "text/plain": [
       "                         score\n",
       "alcohol               0.185173\n",
       "lightness             0.130574\n",
       "volatile acidity      0.118262\n",
       "sulphates             0.111197\n",
       "total sulfur dioxide  0.078755\n",
       "citric acid           0.066684\n",
       "fixed acidity         0.056641\n",
       "residual sugar        0.035735\n",
       "free sulfur dioxide   0.028836\n",
       "density               0.025872\n",
       "pH                    0.023183\n",
       "chlorides             0.021728\n",
       "magnesium             0.006988\n",
       "flavanoids            0.000509"
      ],
      "text/html": "<div>\n<style scoped>\n    .dataframe tbody tr th:only-of-type {\n        vertical-align: middle;\n    }\n\n    .dataframe tbody tr th {\n        vertical-align: top;\n    }\n\n    .dataframe thead th {\n        text-align: right;\n    }\n</style>\n<table border=\"1\" class=\"dataframe\">\n  <thead>\n    <tr style=\"text-align: right;\">\n      <th></th>\n      <th>score</th>\n    </tr>\n  </thead>\n  <tbody>\n    <tr>\n      <th>alcohol</th>\n      <td>0.185173</td>\n    </tr>\n    <tr>\n      <th>lightness</th>\n      <td>0.130574</td>\n    </tr>\n    <tr>\n      <th>volatile acidity</th>\n      <td>0.118262</td>\n    </tr>\n    <tr>\n      <th>sulphates</th>\n      <td>0.111197</td>\n    </tr>\n    <tr>\n      <th>total sulfur dioxide</th>\n      <td>0.078755</td>\n    </tr>\n    <tr>\n      <th>citric acid</th>\n      <td>0.066684</td>\n    </tr>\n    <tr>\n      <th>fixed acidity</th>\n      <td>0.056641</td>\n    </tr>\n    <tr>\n      <th>residual sugar</th>\n      <td>0.035735</td>\n    </tr>\n    <tr>\n      <th>free sulfur dioxide</th>\n      <td>0.028836</td>\n    </tr>\n    <tr>\n      <th>density</th>\n      <td>0.025872</td>\n    </tr>\n    <tr>\n      <th>pH</th>\n      <td>0.023183</td>\n    </tr>\n    <tr>\n      <th>chlorides</th>\n      <td>0.021728</td>\n    </tr>\n    <tr>\n      <th>magnesium</th>\n      <td>0.006988</td>\n    </tr>\n    <tr>\n      <th>flavanoids</th>\n      <td>0.000509</td>\n    </tr>\n  </tbody>\n</table>\n</div>"
     },
     "metadata": {},
     "execution_count": 160
    }
   ],
   "source": [
    "from datasets import get_kbest_sorted\n",
    "from sklearn.feature_selection import mutual_info_regression\n",
    "x = wine_red.drop('quality', axis=1)\n",
    "y = wine_red['quality']\n",
    "get_kbest_sorted(mutual_info_regression, x, y, 25)"
   ]
  },
  {
   "cell_type": "code",
   "execution_count": 161,
   "metadata": {},
   "outputs": [
    {
     "output_type": "display_data",
     "data": {
      "text/plain": "fixed acidity                2.32\nvolatile acidity             1.74\ncitric acid                  3.14\nresidual sugar               1.13\nchlorides                    1.39\nflavanoids              139527.70\nfree sulfur dioxide          1.93\ntotal sulfur dioxide         2.11\ndensity                      1.65\npH                           1.00\nsulphates                    1.36\nmagnesium                    1.00\nalcohol                     10.70\nlightness                    9.99\ndtype: float64"
     },
     "metadata": {}
    },
    {
     "output_type": "display_data",
     "data": {
      "text/plain": "fixed acidity                2.32\nvolatile acidity             1.74\ncitric acid                  3.14\nresidual sugar               1.13\nchlorides                    1.39\nflavanoids              132477.09\nfree sulfur dioxide          1.93\ntotal sulfur dioxide         2.10\ndensity                      1.64\npH                           1.00\nsulphates                    1.35\nmagnesium                    1.00\nalcohol                      1.68\ndtype: float64"
     },
     "metadata": {}
    }
   ],
   "source": [
    "from datasets import get_vifs\n",
    "\n",
    "x = wine_red.drop('quality', axis=1)\n",
    "vif_factors = get_vifs(x)\n",
    "display(vif_factors)\n",
    "x = wine_red.drop('quality', axis=1).drop('lightness',axis=1)\n",
    "vif_factors = get_vifs(x)\n",
    "display(vif_factors)"
   ]
  },
  {
   "source": [
    "missing values don't seem to have a big effect on information gain and vif"
   ],
   "cell_type": "markdown",
   "metadata": {}
  },
  {
   "cell_type": "code",
   "execution_count": 171,
   "metadata": {},
   "outputs": [
    {
     "output_type": "stream",
     "name": "stdout",
     "text": [
      "Score before:  0.58125\nScore after:  0.55625\n"
     ]
    }
   ],
   "source": [
    "X = wine_red.drop('quality', axis=1)\n",
    "y = wine_red['quality']\n",
    "score_before = get_logist_regression_score(X,y)\n",
    "print('Score before: ', score_before)\n",
    "\n",
    "selected_features = ['alcohol', 'sulphates', 'citric acid', 'volatile acidity', 'total sulfur dioxide', 'quality']\n",
    "wine_red = wine_red[selected_features]\n",
    "\n",
    "X = wine_red.drop('quality', axis=1)\n",
    "y = wine_red['quality']\n",
    "\n",
    "score_after = get_logist_regression_score(X,y)\n",
    "print('Score after: ', score_after)"
   ]
  },
  {
   "source": [
    "Compare result to PCA "
   ],
   "cell_type": "markdown",
   "metadata": {}
  },
  {
   "cell_type": "code",
   "execution_count": 141,
   "metadata": {},
   "outputs": [],
   "source": [
    "# import numpy as np\n",
    "# import pandas as pd\n",
    "\n",
    "# from sklearn import decomposition\n",
    "\n",
    "# #Perform PCA with 3 dimensions\n",
    "# num_components=3\n",
    "# pca = decomposition.PCA(n_components=2)\n",
    "# #Only use features\n",
    "# x=wine_red.drop('quality', axis=1)\n",
    "# pca.fit(x)\n",
    "# x_tran = pca.transform(x)\n",
    "\n",
    "# X = wine_red.drop('quality', axis=1)\n",
    "# y = wine_red['quality']\n",
    "# score_before = get_logist_regression_score(X,y)\n",
    "# print('Score before: ', score_before)\n",
    "# score_after = get_logist_regression_score(x_tran,y)\n",
    "# print('Score after: ', score_after)"
   ]
  },
  {
   "cell_type": "markdown",
   "metadata": {},
   "source": [
    "# Outliers"
   ]
  },
  {
   "cell_type": "markdown",
   "metadata": {},
   "source": [
    "Outlier Detection"
   ]
  },
  {
   "cell_type": "code",
   "execution_count": 142,
   "metadata": {},
   "outputs": [
    {
     "output_type": "display_data",
     "data": {
      "text/plain": "(1597, 6)"
     },
     "metadata": {}
    },
    {
     "output_type": "stream",
     "name": "stdout",
     "text": [
      "Score before:  0.5604166666666667\nScore after:  0.56\nInliers:  1581 Outliers: (16, 5)\n"
     ]
    },
    {
     "output_type": "display_data",
     "data": {
      "text/plain": "'Outliers data:'"
     },
     "metadata": {}
    },
    {
     "output_type": "display_data",
     "data": {
      "text/plain": "      alcohol  sulphates  citric acid  volatile acidity  total sulfur dioxide\n86        9.9       1.95         0.28              0.49                 136.0\n91        9.9       1.95         0.28              0.49                 136.0\n92        9.8       1.98         0.29              0.49                 133.0\n142      14.0       0.79         0.00              0.34                  63.0\n144      14.0       0.79         0.00              0.34                  63.0\n151       9.4       2.00         1.00              0.52                  69.0\n354      11.9       0.59         0.40              0.21                 165.0\n378      13.3       0.99         0.66              0.63                  24.0\n515       9.3       1.14         0.49              0.66                 151.0\n651      11.2       0.67         0.25              0.88                 155.0\n672       9.5       0.53         0.34              1.24                 151.0\n723       9.5       1.62         0.30              0.31                 127.0\n1079     12.3       0.51         0.68              0.30                 278.0\n1081     12.3       0.51         0.68              0.30                 289.0\n1299     10.9       0.40         0.00              1.58                   9.0\n1319      9.1       1.33         0.68              0.76                  64.0",
      "text/html": "<div>\n<style scoped>\n    .dataframe tbody tr th:only-of-type {\n        vertical-align: middle;\n    }\n\n    .dataframe tbody tr th {\n        vertical-align: top;\n    }\n\n    .dataframe thead th {\n        text-align: right;\n    }\n</style>\n<table border=\"1\" class=\"dataframe\">\n  <thead>\n    <tr style=\"text-align: right;\">\n      <th></th>\n      <th>alcohol</th>\n      <th>sulphates</th>\n      <th>citric acid</th>\n      <th>volatile acidity</th>\n      <th>total sulfur dioxide</th>\n    </tr>\n  </thead>\n  <tbody>\n    <tr>\n      <th>86</th>\n      <td>9.9</td>\n      <td>1.95</td>\n      <td>0.28</td>\n      <td>0.49</td>\n      <td>136.0</td>\n    </tr>\n    <tr>\n      <th>91</th>\n      <td>9.9</td>\n      <td>1.95</td>\n      <td>0.28</td>\n      <td>0.49</td>\n      <td>136.0</td>\n    </tr>\n    <tr>\n      <th>92</th>\n      <td>9.8</td>\n      <td>1.98</td>\n      <td>0.29</td>\n      <td>0.49</td>\n      <td>133.0</td>\n    </tr>\n    <tr>\n      <th>142</th>\n      <td>14.0</td>\n      <td>0.79</td>\n      <td>0.00</td>\n      <td>0.34</td>\n      <td>63.0</td>\n    </tr>\n    <tr>\n      <th>144</th>\n      <td>14.0</td>\n      <td>0.79</td>\n      <td>0.00</td>\n      <td>0.34</td>\n      <td>63.0</td>\n    </tr>\n    <tr>\n      <th>151</th>\n      <td>9.4</td>\n      <td>2.00</td>\n      <td>1.00</td>\n      <td>0.52</td>\n      <td>69.0</td>\n    </tr>\n    <tr>\n      <th>354</th>\n      <td>11.9</td>\n      <td>0.59</td>\n      <td>0.40</td>\n      <td>0.21</td>\n      <td>165.0</td>\n    </tr>\n    <tr>\n      <th>378</th>\n      <td>13.3</td>\n      <td>0.99</td>\n      <td>0.66</td>\n      <td>0.63</td>\n      <td>24.0</td>\n    </tr>\n    <tr>\n      <th>515</th>\n      <td>9.3</td>\n      <td>1.14</td>\n      <td>0.49</td>\n      <td>0.66</td>\n      <td>151.0</td>\n    </tr>\n    <tr>\n      <th>651</th>\n      <td>11.2</td>\n      <td>0.67</td>\n      <td>0.25</td>\n      <td>0.88</td>\n      <td>155.0</td>\n    </tr>\n    <tr>\n      <th>672</th>\n      <td>9.5</td>\n      <td>0.53</td>\n      <td>0.34</td>\n      <td>1.24</td>\n      <td>151.0</td>\n    </tr>\n    <tr>\n      <th>723</th>\n      <td>9.5</td>\n      <td>1.62</td>\n      <td>0.30</td>\n      <td>0.31</td>\n      <td>127.0</td>\n    </tr>\n    <tr>\n      <th>1079</th>\n      <td>12.3</td>\n      <td>0.51</td>\n      <td>0.68</td>\n      <td>0.30</td>\n      <td>278.0</td>\n    </tr>\n    <tr>\n      <th>1081</th>\n      <td>12.3</td>\n      <td>0.51</td>\n      <td>0.68</td>\n      <td>0.30</td>\n      <td>289.0</td>\n    </tr>\n    <tr>\n      <th>1299</th>\n      <td>10.9</td>\n      <td>0.40</td>\n      <td>0.00</td>\n      <td>1.58</td>\n      <td>9.0</td>\n    </tr>\n    <tr>\n      <th>1319</th>\n      <td>9.1</td>\n      <td>1.33</td>\n      <td>0.68</td>\n      <td>0.76</td>\n      <td>64.0</td>\n    </tr>\n  </tbody>\n</table>\n</div>"
     },
     "metadata": {}
    }
   ],
   "source": [
    "from sklearn.model_selection import train_test_split \n",
    "from sklearn.ensemble import IsolationForest\n",
    "from datasets import get_logist_regression_score, show_mvs\n",
    "\n",
    "display(wine_red.shape)\n",
    "X = wine_red.drop('quality', axis=1)\n",
    "y = wine_red['quality']\n",
    "\n",
    "iso = IsolationForest(contamination=0.01)\n",
    "y_out = iso.fit_predict(X)\n",
    "\n",
    "score_before = get_logist_regression_score(X,y)\n",
    "print('Score before: ', score_before)\n",
    "\n",
    "# build a mask to select all rows that are not outliers (inlier=1, outlier=-1)\n",
    "mask = y_out != -1\n",
    "X_inlier, y_inlier = X[mask], y[mask]\n",
    "X_outliers, y_outliers = X[~mask], y[~mask]\n",
    "\n",
    "score_after = get_logist_regression_score(X_inlier,y_inlier)\n",
    "print('Score after: ', score_after)\n",
    "\n",
    "# Inliers vs. Outliers\n",
    "print(\"Inliers: \",X_inlier.shape[0],\"Outliers:\",X_outliers.shape)\n",
    "display('Outliers data:', X_outliers)\n",
    "\n",
    "wine_red = X_inlier\n",
    "wine_red['quality'] = y_inlier"
   ]
  },
  {
   "source": [
    "https://www.pluralsight.com/guides/cleaning-up-data-from-outliers"
   ],
   "cell_type": "markdown",
   "metadata": {}
  },
  {
   "cell_type": "markdown",
   "metadata": {},
   "source": [
    "# Noise Handling"
   ]
  },
  {
   "cell_type": "markdown",
   "metadata": {},
   "source": [
    "Our assumption: The found noise data are feature noises --> jedes feature nach diesem Vorgehen bearbeiten? Oder die 58 einfach Instance löschen oder???"
   ]
  },
  {
   "cell_type": "code",
   "execution_count": 124,
   "metadata": {
    "tags": []
   },
   "outputs": [
    {
     "output_type": "display_data",
     "data": {
      "text/plain": "(1581, 3)"
     },
     "metadata": {}
    },
    {
     "output_type": "display_data",
     "data": {
      "text/plain": "      Prediction  quality  Correct Prediction\n0            5.0      5.0                True\n1            5.0      5.0                True\n2            5.0      5.0                True\n3            6.0      6.0                True\n4            5.0      5.0                True\n...          ...      ...                 ...\n1592         6.0      5.0                True\n1593         6.0      6.0                True\n1594         6.0      6.0                True\n1595         5.0      5.0                True\n1596         6.0      6.0                True\n\n[1581 rows x 3 columns]",
      "text/html": "<div>\n<style scoped>\n    .dataframe tbody tr th:only-of-type {\n        vertical-align: middle;\n    }\n\n    .dataframe tbody tr th {\n        vertical-align: top;\n    }\n\n    .dataframe thead th {\n        text-align: right;\n    }\n</style>\n<table border=\"1\" class=\"dataframe\">\n  <thead>\n    <tr style=\"text-align: right;\">\n      <th></th>\n      <th>Prediction</th>\n      <th>quality</th>\n      <th>Correct Prediction</th>\n    </tr>\n  </thead>\n  <tbody>\n    <tr>\n      <th>0</th>\n      <td>5.0</td>\n      <td>5.0</td>\n      <td>True</td>\n    </tr>\n    <tr>\n      <th>1</th>\n      <td>5.0</td>\n      <td>5.0</td>\n      <td>True</td>\n    </tr>\n    <tr>\n      <th>2</th>\n      <td>5.0</td>\n      <td>5.0</td>\n      <td>True</td>\n    </tr>\n    <tr>\n      <th>3</th>\n      <td>6.0</td>\n      <td>6.0</td>\n      <td>True</td>\n    </tr>\n    <tr>\n      <th>4</th>\n      <td>5.0</td>\n      <td>5.0</td>\n      <td>True</td>\n    </tr>\n    <tr>\n      <th>...</th>\n      <td>...</td>\n      <td>...</td>\n      <td>...</td>\n    </tr>\n    <tr>\n      <th>1592</th>\n      <td>6.0</td>\n      <td>5.0</td>\n      <td>True</td>\n    </tr>\n    <tr>\n      <th>1593</th>\n      <td>6.0</td>\n      <td>6.0</td>\n      <td>True</td>\n    </tr>\n    <tr>\n      <th>1594</th>\n      <td>6.0</td>\n      <td>6.0</td>\n      <td>True</td>\n    </tr>\n    <tr>\n      <th>1595</th>\n      <td>5.0</td>\n      <td>5.0</td>\n      <td>True</td>\n    </tr>\n    <tr>\n      <th>1596</th>\n      <td>6.0</td>\n      <td>6.0</td>\n      <td>True</td>\n    </tr>\n  </tbody>\n</table>\n<p>1581 rows × 3 columns</p>\n</div>"
     },
     "metadata": {}
    },
    {
     "output_type": "stream",
     "name": "stdout",
     "text": [
      "False predictions\n"
     ]
    },
    {
     "output_type": "display_data",
     "data": {
      "text/plain": "(60, 3)"
     },
     "metadata": {}
    },
    {
     "output_type": "display_data",
     "data": {
      "text/plain": "      Prediction  quality  Correct Prediction\n7            5.0      7.0               False\n8            5.0      7.0               False\n16           5.0      7.0               False\n45           6.0      4.0               False\n62           5.0      7.0               False\n...          ...      ...                 ...\n1505         5.0      3.0               False\n1542         4.0      6.0               False\n1549         6.0      8.0               False\n1554         4.0      6.0               False\n1557         4.0      6.0               False\n\n[60 rows x 3 columns]",
      "text/html": "<div>\n<style scoped>\n    .dataframe tbody tr th:only-of-type {\n        vertical-align: middle;\n    }\n\n    .dataframe tbody tr th {\n        vertical-align: top;\n    }\n\n    .dataframe thead th {\n        text-align: right;\n    }\n</style>\n<table border=\"1\" class=\"dataframe\">\n  <thead>\n    <tr style=\"text-align: right;\">\n      <th></th>\n      <th>Prediction</th>\n      <th>quality</th>\n      <th>Correct Prediction</th>\n    </tr>\n  </thead>\n  <tbody>\n    <tr>\n      <th>7</th>\n      <td>5.0</td>\n      <td>7.0</td>\n      <td>False</td>\n    </tr>\n    <tr>\n      <th>8</th>\n      <td>5.0</td>\n      <td>7.0</td>\n      <td>False</td>\n    </tr>\n    <tr>\n      <th>16</th>\n      <td>5.0</td>\n      <td>7.0</td>\n      <td>False</td>\n    </tr>\n    <tr>\n      <th>45</th>\n      <td>6.0</td>\n      <td>4.0</td>\n      <td>False</td>\n    </tr>\n    <tr>\n      <th>62</th>\n      <td>5.0</td>\n      <td>7.0</td>\n      <td>False</td>\n    </tr>\n    <tr>\n      <th>...</th>\n      <td>...</td>\n      <td>...</td>\n      <td>...</td>\n    </tr>\n    <tr>\n      <th>1505</th>\n      <td>5.0</td>\n      <td>3.0</td>\n      <td>False</td>\n    </tr>\n    <tr>\n      <th>1542</th>\n      <td>4.0</td>\n      <td>6.0</td>\n      <td>False</td>\n    </tr>\n    <tr>\n      <th>1549</th>\n      <td>6.0</td>\n      <td>8.0</td>\n      <td>False</td>\n    </tr>\n    <tr>\n      <th>1554</th>\n      <td>4.0</td>\n      <td>6.0</td>\n      <td>False</td>\n    </tr>\n    <tr>\n      <th>1557</th>\n      <td>4.0</td>\n      <td>6.0</td>\n      <td>False</td>\n    </tr>\n  </tbody>\n</table>\n<p>60 rows × 3 columns</p>\n</div>"
     },
     "metadata": {}
    }
   ],
   "source": [
    "import numpy as np\n",
    "import pandas as pd\n",
    "from sklearn.linear_model import LogisticRegression\n",
    "from sklearn.naive_bayes import GaussianNB\n",
    "from sklearn.ensemble import RandomForestClassifier, VotingClassifier\n",
    "from sklearn.model_selection import cross_val_predict\n",
    "\n",
    "# Define 3 classifiers\n",
    "clf1 = LogisticRegression(multi_class='multinomial', random_state=1)\n",
    "clf2 = RandomForestClassifier(n_estimators=50, random_state=1)\n",
    "clf3 = GaussianNB()\n",
    "\n",
    "# define data\n",
    "x = wine_red.drop('quality', axis=1)\n",
    "y = wine_red['quality']\n",
    "\n",
    "# merge 3 classifiers into one voting classifier\n",
    "eclf1 = VotingClassifier(estimators=[('lr', clf1), ('rf', clf2), ('gnb', clf3)], voting='hard')\n",
    "\n",
    "# train voting classifier with k-fold method\n",
    "y_pred = cross_val_predict(eclf1, x, y, cv=3)\n",
    "\n",
    "# save predictions, original quality and correct prediction boolean in data frame\n",
    "result = pd.DataFrame(y_pred, columns=['Prediction'], index=x.index)\n",
    "result['quality'] = y\n",
    "# mindestens 2 Abweichung\n",
    "delta_treshold = 2\n",
    "result['Correct Prediction']= abs(result['Prediction'] - result['quality']) < delta_treshold\n",
    "\n",
    "display(result.shape)\n",
    "display(result)\n",
    "\n",
    "# select all incorrect predicted data\n",
    "print('False predictions')\n",
    "delta_result = result[result['Correct Prediction'] == False]\n",
    "display(delta_result.shape)\n",
    "display(delta_result)\n",
    "\n",
    "# handle noise"
   ]
  },
  {
   "source": [
    "# Feature Scaling"
   ],
   "cell_type": "markdown",
   "metadata": {}
  },
  {
   "cell_type": "code",
   "execution_count": 134,
   "metadata": {},
   "outputs": [
    {
     "output_type": "display_data",
     "data": {
      "text/plain": "      alcohol  sulphates  citric acid  volatile acidity  total sulfur dioxide  \\\n0         9.4       0.56         0.00              0.70              0.181818   \n1         9.8       0.68         0.00              0.88              0.396104   \n2         9.8       0.65         0.04              0.76              0.311688   \n3         9.8       0.58         0.56              0.28              0.350649   \n4         9.4       0.56         0.00              0.70              0.181818   \n...       ...        ...          ...               ...                   ...   \n1592     10.5       0.58         0.08              0.60              0.246753   \n1593     11.2       0.76         0.10              0.55              0.292208   \n1594     11.0       0.75         0.13              0.51              0.220779   \n1595     10.2       0.71         0.12              0.65              0.246753   \n1596     11.0       0.66         0.47              0.31              0.233766   \n\n      quality  \n0         5.0  \n1         5.0  \n2         5.0  \n3         6.0  \n4         5.0  \n...       ...  \n1592      5.0  \n1593      6.0  \n1594      6.0  \n1595      5.0  \n1596      6.0  \n\n[1581 rows x 6 columns]",
      "text/html": "<div>\n<style scoped>\n    .dataframe tbody tr th:only-of-type {\n        vertical-align: middle;\n    }\n\n    .dataframe tbody tr th {\n        vertical-align: top;\n    }\n\n    .dataframe thead th {\n        text-align: right;\n    }\n</style>\n<table border=\"1\" class=\"dataframe\">\n  <thead>\n    <tr style=\"text-align: right;\">\n      <th></th>\n      <th>alcohol</th>\n      <th>sulphates</th>\n      <th>citric acid</th>\n      <th>volatile acidity</th>\n      <th>total sulfur dioxide</th>\n      <th>quality</th>\n    </tr>\n  </thead>\n  <tbody>\n    <tr>\n      <th>0</th>\n      <td>9.4</td>\n      <td>0.56</td>\n      <td>0.00</td>\n      <td>0.70</td>\n      <td>0.181818</td>\n      <td>5.0</td>\n    </tr>\n    <tr>\n      <th>1</th>\n      <td>9.8</td>\n      <td>0.68</td>\n      <td>0.00</td>\n      <td>0.88</td>\n      <td>0.396104</td>\n      <td>5.0</td>\n    </tr>\n    <tr>\n      <th>2</th>\n      <td>9.8</td>\n      <td>0.65</td>\n      <td>0.04</td>\n      <td>0.76</td>\n      <td>0.311688</td>\n      <td>5.0</td>\n    </tr>\n    <tr>\n      <th>3</th>\n      <td>9.8</td>\n      <td>0.58</td>\n      <td>0.56</td>\n      <td>0.28</td>\n      <td>0.350649</td>\n      <td>6.0</td>\n    </tr>\n    <tr>\n      <th>4</th>\n      <td>9.4</td>\n      <td>0.56</td>\n      <td>0.00</td>\n      <td>0.70</td>\n      <td>0.181818</td>\n      <td>5.0</td>\n    </tr>\n    <tr>\n      <th>...</th>\n      <td>...</td>\n      <td>...</td>\n      <td>...</td>\n      <td>...</td>\n      <td>...</td>\n      <td>...</td>\n    </tr>\n    <tr>\n      <th>1592</th>\n      <td>10.5</td>\n      <td>0.58</td>\n      <td>0.08</td>\n      <td>0.60</td>\n      <td>0.246753</td>\n      <td>5.0</td>\n    </tr>\n    <tr>\n      <th>1593</th>\n      <td>11.2</td>\n      <td>0.76</td>\n      <td>0.10</td>\n      <td>0.55</td>\n      <td>0.292208</td>\n      <td>6.0</td>\n    </tr>\n    <tr>\n      <th>1594</th>\n      <td>11.0</td>\n      <td>0.75</td>\n      <td>0.13</td>\n      <td>0.51</td>\n      <td>0.220779</td>\n      <td>6.0</td>\n    </tr>\n    <tr>\n      <th>1595</th>\n      <td>10.2</td>\n      <td>0.71</td>\n      <td>0.12</td>\n      <td>0.65</td>\n      <td>0.246753</td>\n      <td>5.0</td>\n    </tr>\n    <tr>\n      <th>1596</th>\n      <td>11.0</td>\n      <td>0.66</td>\n      <td>0.47</td>\n      <td>0.31</td>\n      <td>0.233766</td>\n      <td>6.0</td>\n    </tr>\n  </tbody>\n</table>\n<p>1581 rows × 6 columns</p>\n</div>"
     },
     "metadata": {}
    }
   ],
   "source": [
    "from datasets import normalize_feature\n",
    "\n",
    "wine_red = normalize_feature(wine_red, 'total sulfur dioxide')\n",
    "display(wine_red)"
   ]
  },
  {
   "cell_type": "code",
   "execution_count": null,
   "metadata": {},
   "outputs": [],
   "source": []
  }
 ],
 "metadata": {
  "language_info": {
   "codemirror_mode": {
    "name": "ipython",
    "version": 3
   },
   "file_extension": ".py",
   "mimetype": "text/x-python",
   "name": "python",
   "nbconvert_exporter": "python",
   "pygments_lexer": "ipython3",
   "version": "3.8.3-final"
  },
  "orig_nbformat": 2,
  "kernelspec": {
   "name": "python3",
   "display_name": "Python 3"
  }
 },
 "nbformat": 4,
 "nbformat_minor": 2
}