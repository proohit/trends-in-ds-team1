{
 "cells": [
  {
   "cell_type": "code",
   "execution_count": 18,
   "metadata": {},
   "outputs": [],
   "source": [
    "from datasets import wine_red_dataset, wine_white_dataset\n",
    "from sklearn.linear_model import LogisticRegression\n",
    "from sklearn.model_selection import train_test_split\n",
    "import pandas as pd\n",
    "\n",
    "wine_red = wine_red_dataset().drop('ID', axis=1)\n",
    "wine_red.dropna(how='all', inplace=True)\n",
    "\n",
    "wine_white = wine_white_dataset()"
   ]
  },
  {
   "cell_type": "markdown",
   "metadata": {},
   "source": [
    "# Modeling-Missing Values"
   ]
  },
  {
   "cell_type": "markdown",
   "metadata": {},
   "source": [
    "Information from the exploration: Missing values in the pH (15 values) and fixed acidity (17 values) data"
   ]
  },
  {
   "cell_type": "markdown",
   "metadata": {},
   "source": [
    "Fixed acidity is a missing at random value: In our case, missing fixed acidity values can be calculated from the citric acid values.     PH seem to be missing completely at random: There is no major correlation with other features"
   ]
  },
  {
   "cell_type": "markdown",
   "metadata": {},
   "source": [
    "Fixed acidity missing values are calculated by a multiple imputation because the estimation can provide\n",
    "more realistic standard errors. The multiple Imputation creates multiple data\n",
    "with different estimations. The results of different models are\n",
    "averaged or combined."
   ]
  },
  {
   "cell_type": "code",
   "execution_count": 19,
   "metadata": {
    "tags": []
   },
   "outputs": [
    {
     "output_type": "display_data",
     "data": {
      "text/plain": "      fixed acidity  citric acid\n22              NaN         0.21\n61              NaN         0.49\n97              NaN         0.25\n187             NaN         0.10\n274             NaN         0.18\n409             NaN         0.49\n410             NaN         0.34\n411             NaN         0.35\n412             NaN         0.16\n753             NaN         0.10\n759             NaN         0.21\n1425            NaN         0.37\n1426            NaN         0.37\n1427            NaN         0.33\n1428            NaN         0.00\n1447            NaN         0.00\n1540            NaN         0.08",
      "text/html": "<div>\n<style scoped>\n    .dataframe tbody tr th:only-of-type {\n        vertical-align: middle;\n    }\n\n    .dataframe tbody tr th {\n        vertical-align: top;\n    }\n\n    .dataframe thead th {\n        text-align: right;\n    }\n</style>\n<table border=\"1\" class=\"dataframe\">\n  <thead>\n    <tr style=\"text-align: right;\">\n      <th></th>\n      <th>fixed acidity</th>\n      <th>citric acid</th>\n    </tr>\n  </thead>\n  <tbody>\n    <tr>\n      <th>22</th>\n      <td>NaN</td>\n      <td>0.21</td>\n    </tr>\n    <tr>\n      <th>61</th>\n      <td>NaN</td>\n      <td>0.49</td>\n    </tr>\n    <tr>\n      <th>97</th>\n      <td>NaN</td>\n      <td>0.25</td>\n    </tr>\n    <tr>\n      <th>187</th>\n      <td>NaN</td>\n      <td>0.10</td>\n    </tr>\n    <tr>\n      <th>274</th>\n      <td>NaN</td>\n      <td>0.18</td>\n    </tr>\n    <tr>\n      <th>409</th>\n      <td>NaN</td>\n      <td>0.49</td>\n    </tr>\n    <tr>\n      <th>410</th>\n      <td>NaN</td>\n      <td>0.34</td>\n    </tr>\n    <tr>\n      <th>411</th>\n      <td>NaN</td>\n      <td>0.35</td>\n    </tr>\n    <tr>\n      <th>412</th>\n      <td>NaN</td>\n      <td>0.16</td>\n    </tr>\n    <tr>\n      <th>753</th>\n      <td>NaN</td>\n      <td>0.10</td>\n    </tr>\n    <tr>\n      <th>759</th>\n      <td>NaN</td>\n      <td>0.21</td>\n    </tr>\n    <tr>\n      <th>1425</th>\n      <td>NaN</td>\n      <td>0.37</td>\n    </tr>\n    <tr>\n      <th>1426</th>\n      <td>NaN</td>\n      <td>0.37</td>\n    </tr>\n    <tr>\n      <th>1427</th>\n      <td>NaN</td>\n      <td>0.33</td>\n    </tr>\n    <tr>\n      <th>1428</th>\n      <td>NaN</td>\n      <td>0.00</td>\n    </tr>\n    <tr>\n      <th>1447</th>\n      <td>NaN</td>\n      <td>0.00</td>\n    </tr>\n    <tr>\n      <th>1540</th>\n      <td>NaN</td>\n      <td>0.08</td>\n    </tr>\n  </tbody>\n</table>\n</div>"
     },
     "metadata": {}
    },
    {
     "output_type": "display_data",
     "data": {
      "text/plain": "      fixed acidity  citric acid\n0               7.4         0.00\n1               7.8         0.00\n2               7.8         0.04\n3              11.2         0.56\n4               7.4         0.00\n...             ...          ...\n1592            6.2         0.08\n1593            5.9         0.10\n1594            6.3         0.13\n1595            5.9         0.12\n1596            6.0         0.47\n\n[1597 rows x 2 columns]",
      "text/html": "<div>\n<style scoped>\n    .dataframe tbody tr th:only-of-type {\n        vertical-align: middle;\n    }\n\n    .dataframe tbody tr th {\n        vertical-align: top;\n    }\n\n    .dataframe thead th {\n        text-align: right;\n    }\n</style>\n<table border=\"1\" class=\"dataframe\">\n  <thead>\n    <tr style=\"text-align: right;\">\n      <th></th>\n      <th>fixed acidity</th>\n      <th>citric acid</th>\n    </tr>\n  </thead>\n  <tbody>\n    <tr>\n      <th>0</th>\n      <td>7.4</td>\n      <td>0.00</td>\n    </tr>\n    <tr>\n      <th>1</th>\n      <td>7.8</td>\n      <td>0.00</td>\n    </tr>\n    <tr>\n      <th>2</th>\n      <td>7.8</td>\n      <td>0.04</td>\n    </tr>\n    <tr>\n      <th>3</th>\n      <td>11.2</td>\n      <td>0.56</td>\n    </tr>\n    <tr>\n      <th>4</th>\n      <td>7.4</td>\n      <td>0.00</td>\n    </tr>\n    <tr>\n      <th>...</th>\n      <td>...</td>\n      <td>...</td>\n    </tr>\n    <tr>\n      <th>1592</th>\n      <td>6.2</td>\n      <td>0.08</td>\n    </tr>\n    <tr>\n      <th>1593</th>\n      <td>5.9</td>\n      <td>0.10</td>\n    </tr>\n    <tr>\n      <th>1594</th>\n      <td>6.3</td>\n      <td>0.13</td>\n    </tr>\n    <tr>\n      <th>1595</th>\n      <td>5.9</td>\n      <td>0.12</td>\n    </tr>\n    <tr>\n      <th>1596</th>\n      <td>6.0</td>\n      <td>0.47</td>\n    </tr>\n  </tbody>\n</table>\n<p>1597 rows × 2 columns</p>\n</div>"
     },
     "metadata": {}
    },
    {
     "output_type": "display_data",
     "data": {
      "text/plain": "'Regression imputed fixed acidity: \\n'"
     },
     "metadata": {}
    },
    {
     "output_type": "display_data",
     "data": {
      "text/plain": "      fixed acidity  citric acid\n22         7.956331         0.21\n61         9.638865         0.49\n97         8.196693         0.25\n187        7.295336         0.10\n274        7.776060         0.18\n409        9.638865         0.49\n410        8.737508         0.34\n411        8.797598         0.35\n412        7.655879         0.16\n753        7.295336         0.10\n759        7.956331         0.21\n1425       8.917779         0.37\n1426       8.917779         0.37\n1427       8.677417         0.33\n1428       6.694432         0.00\n1447       6.694432         0.00\n1540       7.175155         0.08",
      "text/html": "<div>\n<style scoped>\n    .dataframe tbody tr th:only-of-type {\n        vertical-align: middle;\n    }\n\n    .dataframe tbody tr th {\n        vertical-align: top;\n    }\n\n    .dataframe thead th {\n        text-align: right;\n    }\n</style>\n<table border=\"1\" class=\"dataframe\">\n  <thead>\n    <tr style=\"text-align: right;\">\n      <th></th>\n      <th>fixed acidity</th>\n      <th>citric acid</th>\n    </tr>\n  </thead>\n  <tbody>\n    <tr>\n      <th>22</th>\n      <td>7.956331</td>\n      <td>0.21</td>\n    </tr>\n    <tr>\n      <th>61</th>\n      <td>9.638865</td>\n      <td>0.49</td>\n    </tr>\n    <tr>\n      <th>97</th>\n      <td>8.196693</td>\n      <td>0.25</td>\n    </tr>\n    <tr>\n      <th>187</th>\n      <td>7.295336</td>\n      <td>0.10</td>\n    </tr>\n    <tr>\n      <th>274</th>\n      <td>7.776060</td>\n      <td>0.18</td>\n    </tr>\n    <tr>\n      <th>409</th>\n      <td>9.638865</td>\n      <td>0.49</td>\n    </tr>\n    <tr>\n      <th>410</th>\n      <td>8.737508</td>\n      <td>0.34</td>\n    </tr>\n    <tr>\n      <th>411</th>\n      <td>8.797598</td>\n      <td>0.35</td>\n    </tr>\n    <tr>\n      <th>412</th>\n      <td>7.655879</td>\n      <td>0.16</td>\n    </tr>\n    <tr>\n      <th>753</th>\n      <td>7.295336</td>\n      <td>0.10</td>\n    </tr>\n    <tr>\n      <th>759</th>\n      <td>7.956331</td>\n      <td>0.21</td>\n    </tr>\n    <tr>\n      <th>1425</th>\n      <td>8.917779</td>\n      <td>0.37</td>\n    </tr>\n    <tr>\n      <th>1426</th>\n      <td>8.917779</td>\n      <td>0.37</td>\n    </tr>\n    <tr>\n      <th>1427</th>\n      <td>8.677417</td>\n      <td>0.33</td>\n    </tr>\n    <tr>\n      <th>1428</th>\n      <td>6.694432</td>\n      <td>0.00</td>\n    </tr>\n    <tr>\n      <th>1447</th>\n      <td>6.694432</td>\n      <td>0.00</td>\n    </tr>\n    <tr>\n      <th>1540</th>\n      <td>7.175155</td>\n      <td>0.08</td>\n    </tr>\n  </tbody>\n</table>\n</div>"
     },
     "metadata": {}
    },
    {
     "output_type": "display_data",
     "data": {
      "text/plain": "      fixed acidity  volatile acidity  citric acid  ...  alcohol  lightness  quality\n11              7.5              0.50         0.36  ...    10.50      0.101      5.0\n606             9.4              0.41         0.48  ...    12.20      0.088      7.0\n607             8.8              0.48         0.41  ...    10.50      0.096      6.0\n608            10.1              0.65         0.37  ...    10.40      0.105      6.0\n948             8.9              0.12         0.45  ...    11.90      0.086      7.0\n1162            8.5              0.32         0.42  ...    11.80      0.093      7.0\n1163            9.0              0.79         0.24  ...    10.00      0.105      5.0\n1164            9.0              0.79         0.24  ...    10.00      0.102      5.0\n1369            6.6              0.61         0.00  ...    10.40      0.103      4.0\n1370            8.7              0.78         0.51  ...     9.20      0.111      5.0\n1371            7.5              0.58         0.56  ...    11.60      0.092      6.0\n1372            8.7              0.78         0.51  ...     9.20      0.115      5.0\n1395            8.6              0.69         0.10  ...     9.55      0.107      6.0\n1587            7.2              0.66         0.33  ...    12.80      0.082      6.0\n1592            6.2              0.60         0.08  ...    10.50      0.102      5.0\n\n[15 rows x 15 columns]",
      "text/html": "<div>\n<style scoped>\n    .dataframe tbody tr th:only-of-type {\n        vertical-align: middle;\n    }\n\n    .dataframe tbody tr th {\n        vertical-align: top;\n    }\n\n    .dataframe thead th {\n        text-align: right;\n    }\n</style>\n<table border=\"1\" class=\"dataframe\">\n  <thead>\n    <tr style=\"text-align: right;\">\n      <th></th>\n      <th>fixed acidity</th>\n      <th>volatile acidity</th>\n      <th>citric acid</th>\n      <th>residual sugar</th>\n      <th>chlorides</th>\n      <th>flavanoids</th>\n      <th>free sulfur dioxide</th>\n      <th>total sulfur dioxide</th>\n      <th>density</th>\n      <th>pH</th>\n      <th>sulphates</th>\n      <th>magnesium</th>\n      <th>alcohol</th>\n      <th>lightness</th>\n      <th>quality</th>\n    </tr>\n  </thead>\n  <tbody>\n    <tr>\n      <th>11</th>\n      <td>7.5</td>\n      <td>0.50</td>\n      <td>0.36</td>\n      <td>6.1</td>\n      <td>0.07</td>\n      <td>0.53</td>\n      <td>17.0</td>\n      <td>102.0</td>\n      <td>1.00</td>\n      <td>NaN</td>\n      <td>0.80</td>\n      <td>0.42</td>\n      <td>10.50</td>\n      <td>0.101</td>\n      <td>5.0</td>\n    </tr>\n    <tr>\n      <th>606</th>\n      <td>9.4</td>\n      <td>0.41</td>\n      <td>0.48</td>\n      <td>4.6</td>\n      <td>0.07</td>\n      <td>0.53</td>\n      <td>10.0</td>\n      <td>20.0</td>\n      <td>1.00</td>\n      <td>NaN</td>\n      <td>0.79</td>\n      <td>0.80</td>\n      <td>12.20</td>\n      <td>0.088</td>\n      <td>7.0</td>\n    </tr>\n    <tr>\n      <th>607</th>\n      <td>8.8</td>\n      <td>0.48</td>\n      <td>0.41</td>\n      <td>3.3</td>\n      <td>0.09</td>\n      <td>0.53</td>\n      <td>26.0</td>\n      <td>52.0</td>\n      <td>1.00</td>\n      <td>NaN</td>\n      <td>0.53</td>\n      <td>0.56</td>\n      <td>10.50</td>\n      <td>0.096</td>\n      <td>6.0</td>\n    </tr>\n    <tr>\n      <th>608</th>\n      <td>10.1</td>\n      <td>0.65</td>\n      <td>0.37</td>\n      <td>5.1</td>\n      <td>0.11</td>\n      <td>0.53</td>\n      <td>11.0</td>\n      <td>65.0</td>\n      <td>1.00</td>\n      <td>NaN</td>\n      <td>0.64</td>\n      <td>0.21</td>\n      <td>10.40</td>\n      <td>0.105</td>\n      <td>6.0</td>\n    </tr>\n    <tr>\n      <th>948</th>\n      <td>8.9</td>\n      <td>0.12</td>\n      <td>0.45</td>\n      <td>1.8</td>\n      <td>0.08</td>\n      <td>0.53</td>\n      <td>10.0</td>\n      <td>21.0</td>\n      <td>1.00</td>\n      <td>NaN</td>\n      <td>0.76</td>\n      <td>0.69</td>\n      <td>11.90</td>\n      <td>0.086</td>\n      <td>7.0</td>\n    </tr>\n    <tr>\n      <th>1162</th>\n      <td>8.5</td>\n      <td>0.32</td>\n      <td>0.42</td>\n      <td>2.3</td>\n      <td>0.08</td>\n      <td>0.53</td>\n      <td>12.0</td>\n      <td>19.0</td>\n      <td>0.99</td>\n      <td>NaN</td>\n      <td>0.71</td>\n      <td>0.39</td>\n      <td>11.80</td>\n      <td>0.093</td>\n      <td>7.0</td>\n    </tr>\n    <tr>\n      <th>1163</th>\n      <td>9.0</td>\n      <td>0.79</td>\n      <td>0.24</td>\n      <td>1.7</td>\n      <td>0.08</td>\n      <td>0.53</td>\n      <td>10.0</td>\n      <td>21.0</td>\n      <td>1.00</td>\n      <td>NaN</td>\n      <td>0.67</td>\n      <td>0.58</td>\n      <td>10.00</td>\n      <td>0.105</td>\n      <td>5.0</td>\n    </tr>\n    <tr>\n      <th>1164</th>\n      <td>9.0</td>\n      <td>0.79</td>\n      <td>0.24</td>\n      <td>1.7</td>\n      <td>0.08</td>\n      <td>0.53</td>\n      <td>10.0</td>\n      <td>21.0</td>\n      <td>1.00</td>\n      <td>NaN</td>\n      <td>0.67</td>\n      <td>0.79</td>\n      <td>10.00</td>\n      <td>0.102</td>\n      <td>5.0</td>\n    </tr>\n    <tr>\n      <th>1369</th>\n      <td>6.6</td>\n      <td>0.61</td>\n      <td>0.00</td>\n      <td>1.6</td>\n      <td>0.07</td>\n      <td>0.53</td>\n      <td>4.0</td>\n      <td>8.0</td>\n      <td>0.99</td>\n      <td>NaN</td>\n      <td>0.37</td>\n      <td>0.05</td>\n      <td>10.40</td>\n      <td>0.103</td>\n      <td>4.0</td>\n    </tr>\n    <tr>\n      <th>1370</th>\n      <td>8.7</td>\n      <td>0.78</td>\n      <td>0.51</td>\n      <td>1.7</td>\n      <td>0.42</td>\n      <td>0.53</td>\n      <td>12.0</td>\n      <td>66.0</td>\n      <td>1.00</td>\n      <td>NaN</td>\n      <td>1.17</td>\n      <td>0.91</td>\n      <td>9.20</td>\n      <td>0.111</td>\n      <td>5.0</td>\n    </tr>\n    <tr>\n      <th>1371</th>\n      <td>7.5</td>\n      <td>0.58</td>\n      <td>0.56</td>\n      <td>3.1</td>\n      <td>0.15</td>\n      <td>0.53</td>\n      <td>5.0</td>\n      <td>14.0</td>\n      <td>0.99</td>\n      <td>NaN</td>\n      <td>1.03</td>\n      <td>0.70</td>\n      <td>11.60</td>\n      <td>0.092</td>\n      <td>6.0</td>\n    </tr>\n    <tr>\n      <th>1372</th>\n      <td>8.7</td>\n      <td>0.78</td>\n      <td>0.51</td>\n      <td>1.7</td>\n      <td>0.42</td>\n      <td>0.53</td>\n      <td>12.0</td>\n      <td>66.0</td>\n      <td>1.00</td>\n      <td>NaN</td>\n      <td>1.17</td>\n      <td>0.89</td>\n      <td>9.20</td>\n      <td>0.115</td>\n      <td>5.0</td>\n    </tr>\n    <tr>\n      <th>1395</th>\n      <td>8.6</td>\n      <td>0.69</td>\n      <td>0.10</td>\n      <td>1.6</td>\n      <td>0.09</td>\n      <td>0.53</td>\n      <td>3.0</td>\n      <td>12.0</td>\n      <td>1.00</td>\n      <td>NaN</td>\n      <td>0.65</td>\n      <td>0.16</td>\n      <td>9.55</td>\n      <td>0.107</td>\n      <td>6.0</td>\n    </tr>\n    <tr>\n      <th>1587</th>\n      <td>7.2</td>\n      <td>0.66</td>\n      <td>0.33</td>\n      <td>2.5</td>\n      <td>0.07</td>\n      <td>0.53</td>\n      <td>34.0</td>\n      <td>102.0</td>\n      <td>0.99</td>\n      <td>NaN</td>\n      <td>0.78</td>\n      <td>0.20</td>\n      <td>12.80</td>\n      <td>0.082</td>\n      <td>6.0</td>\n    </tr>\n    <tr>\n      <th>1592</th>\n      <td>6.2</td>\n      <td>0.60</td>\n      <td>0.08</td>\n      <td>2.0</td>\n      <td>0.09</td>\n      <td>0.53</td>\n      <td>32.0</td>\n      <td>44.0</td>\n      <td>0.99</td>\n      <td>NaN</td>\n      <td>0.58</td>\n      <td>0.98</td>\n      <td>10.50</td>\n      <td>0.102</td>\n      <td>5.0</td>\n    </tr>\n  </tbody>\n</table>\n</div>"
     },
     "metadata": {}
    },
    {
     "output_type": "stream",
     "name": "stdout",
     "text": [
      "\n"
     ]
    }
   ],
   "source": [
    "from sklearn.experimental import enable_iterative_imputer\n",
    "from sklearn.impute import IterativeImputer\n",
    "import numpy as np\n",
    "from datasets import show_mvs\n",
    "\n",
    "columns = ['fixed acidity','citric acid']\n",
    "w_red_imp=wine_red[columns]\n",
    "mvs = show_mvs(w_red_imp)\n",
    "\n",
    "display(w_red_imp)\n",
    "\n",
    "imp = IterativeImputer(max_iter=20)\n",
    "transformed_x= imp.fit_transform(w_red_imp)\n",
    "df_missing_v=pd.DataFrame(transformed_x, columns=columns)\n",
    "display(\"Regression imputed fixed acidity: \\n\", df_missing_v.loc[mvs.index])\n",
    "wine_red['fixed acidity'] = df_missing_v['fixed acidity']\n",
    "show_mvs(wine_red)\n",
    "print()"
   ]
  },
  {
   "cell_type": "markdown",
   "metadata": {},
   "source": [
    "PH seem to be missing completely at random: There is no major correlation with other features, average imputation is used because it handle missling completely at randoms, ML imputation is not used because the algorithm needs a missing at random, no regression imputation is used because the exploration showed that there is no correlation with other features. The median is used for the average impuation because it's not affected by outliers."
   ]
  },
  {
   "cell_type": "code",
   "execution_count": 20,
   "metadata": {
    "tags": []
   },
   "outputs": [
    {
     "output_type": "display_data",
     "data": {
      "text/plain": "   fixed acidity  volatile acidity  citric acid  ...  alcohol  lightness  quality\n0            7.4              0.70         0.00  ...      9.4      0.109      5.0\n1            7.8              0.88         0.00  ...      9.8      0.107      5.0\n2            7.8              0.76         0.04  ...      9.8      0.106      5.0\n3           11.2              0.28         0.56  ...      9.8      0.111      6.0\n4            7.4              0.70         0.00  ...      9.4      0.107      5.0\n5            7.4              0.66         0.00  ...      9.4      0.109      5.0\n6            7.9              0.60         0.06  ...      9.4      0.108      5.0\n7            7.3              0.65         0.00  ...     10.0      0.104      7.0\n8            7.8              0.58         0.02  ...      9.5      0.108      7.0\n9            7.5              0.50         0.36  ...     10.5      0.100      5.0\n\n[10 rows x 15 columns]",
      "text/html": "<div>\n<style scoped>\n    .dataframe tbody tr th:only-of-type {\n        vertical-align: middle;\n    }\n\n    .dataframe tbody tr th {\n        vertical-align: top;\n    }\n\n    .dataframe thead th {\n        text-align: right;\n    }\n</style>\n<table border=\"1\" class=\"dataframe\">\n  <thead>\n    <tr style=\"text-align: right;\">\n      <th></th>\n      <th>fixed acidity</th>\n      <th>volatile acidity</th>\n      <th>citric acid</th>\n      <th>residual sugar</th>\n      <th>chlorides</th>\n      <th>flavanoids</th>\n      <th>free sulfur dioxide</th>\n      <th>total sulfur dioxide</th>\n      <th>density</th>\n      <th>pH</th>\n      <th>sulphates</th>\n      <th>magnesium</th>\n      <th>alcohol</th>\n      <th>lightness</th>\n      <th>quality</th>\n    </tr>\n  </thead>\n  <tbody>\n    <tr>\n      <th>0</th>\n      <td>7.4</td>\n      <td>0.70</td>\n      <td>0.00</td>\n      <td>1.9</td>\n      <td>0.08</td>\n      <td>0.53</td>\n      <td>11.0</td>\n      <td>34.0</td>\n      <td>1.00</td>\n      <td>3.51</td>\n      <td>0.56</td>\n      <td>0.86</td>\n      <td>9.4</td>\n      <td>0.109</td>\n      <td>5.0</td>\n    </tr>\n    <tr>\n      <th>1</th>\n      <td>7.8</td>\n      <td>0.88</td>\n      <td>0.00</td>\n      <td>2.6</td>\n      <td>0.10</td>\n      <td>0.53</td>\n      <td>25.0</td>\n      <td>67.0</td>\n      <td>1.00</td>\n      <td>3.20</td>\n      <td>0.68</td>\n      <td>0.56</td>\n      <td>9.8</td>\n      <td>0.107</td>\n      <td>5.0</td>\n    </tr>\n    <tr>\n      <th>2</th>\n      <td>7.8</td>\n      <td>0.76</td>\n      <td>0.04</td>\n      <td>2.3</td>\n      <td>0.09</td>\n      <td>0.53</td>\n      <td>15.0</td>\n      <td>54.0</td>\n      <td>1.00</td>\n      <td>3.26</td>\n      <td>0.65</td>\n      <td>0.47</td>\n      <td>9.8</td>\n      <td>0.106</td>\n      <td>5.0</td>\n    </tr>\n    <tr>\n      <th>3</th>\n      <td>11.2</td>\n      <td>0.28</td>\n      <td>0.56</td>\n      <td>1.9</td>\n      <td>0.08</td>\n      <td>0.53</td>\n      <td>17.0</td>\n      <td>60.0</td>\n      <td>1.00</td>\n      <td>3.16</td>\n      <td>0.58</td>\n      <td>0.33</td>\n      <td>9.8</td>\n      <td>0.111</td>\n      <td>6.0</td>\n    </tr>\n    <tr>\n      <th>4</th>\n      <td>7.4</td>\n      <td>0.70</td>\n      <td>0.00</td>\n      <td>1.9</td>\n      <td>0.08</td>\n      <td>0.53</td>\n      <td>11.0</td>\n      <td>34.0</td>\n      <td>1.00</td>\n      <td>3.51</td>\n      <td>0.56</td>\n      <td>0.91</td>\n      <td>9.4</td>\n      <td>0.107</td>\n      <td>5.0</td>\n    </tr>\n    <tr>\n      <th>5</th>\n      <td>7.4</td>\n      <td>0.66</td>\n      <td>0.00</td>\n      <td>1.8</td>\n      <td>0.08</td>\n      <td>0.53</td>\n      <td>13.0</td>\n      <td>40.0</td>\n      <td>1.00</td>\n      <td>3.51</td>\n      <td>0.56</td>\n      <td>0.52</td>\n      <td>9.4</td>\n      <td>0.109</td>\n      <td>5.0</td>\n    </tr>\n    <tr>\n      <th>6</th>\n      <td>7.9</td>\n      <td>0.60</td>\n      <td>0.06</td>\n      <td>1.6</td>\n      <td>0.07</td>\n      <td>0.53</td>\n      <td>15.0</td>\n      <td>59.0</td>\n      <td>1.00</td>\n      <td>3.30</td>\n      <td>0.46</td>\n      <td>0.92</td>\n      <td>9.4</td>\n      <td>0.108</td>\n      <td>5.0</td>\n    </tr>\n    <tr>\n      <th>7</th>\n      <td>7.3</td>\n      <td>0.65</td>\n      <td>0.00</td>\n      <td>1.2</td>\n      <td>0.07</td>\n      <td>0.53</td>\n      <td>15.0</td>\n      <td>21.0</td>\n      <td>0.99</td>\n      <td>3.39</td>\n      <td>0.47</td>\n      <td>0.89</td>\n      <td>10.0</td>\n      <td>0.104</td>\n      <td>7.0</td>\n    </tr>\n    <tr>\n      <th>8</th>\n      <td>7.8</td>\n      <td>0.58</td>\n      <td>0.02</td>\n      <td>2.0</td>\n      <td>0.07</td>\n      <td>0.53</td>\n      <td>9.0</td>\n      <td>18.0</td>\n      <td>1.00</td>\n      <td>3.36</td>\n      <td>0.57</td>\n      <td>0.10</td>\n      <td>9.5</td>\n      <td>0.108</td>\n      <td>7.0</td>\n    </tr>\n    <tr>\n      <th>9</th>\n      <td>7.5</td>\n      <td>0.50</td>\n      <td>0.36</td>\n      <td>6.1</td>\n      <td>0.07</td>\n      <td>0.53</td>\n      <td>17.0</td>\n      <td>102.0</td>\n      <td>1.00</td>\n      <td>3.35</td>\n      <td>0.80</td>\n      <td>0.57</td>\n      <td>10.5</td>\n      <td>0.100</td>\n      <td>5.0</td>\n    </tr>\n  </tbody>\n</table>\n</div>"
     },
     "metadata": {}
    },
    {
     "output_type": "display_data",
     "data": {
      "text/plain": "fixed acidity           0\nvolatile acidity        0\ncitric acid             0\nresidual sugar          0\nchlorides               0\nflavanoids              0\nfree sulfur dioxide     0\ntotal sulfur dioxide    0\ndensity                 0\npH                      0\nsulphates               0\nmagnesium               0\nalcohol                 0\nlightness               0\nquality                 0\ndtype: int64"
     },
     "metadata": {}
    }
   ],
   "source": [
    "import numpy as np\n",
    "from sklearn.impute import SimpleImputer\n",
    "np.set_printoptions(threshold=np.inf)\n",
    "\n",
    "x= wine_red[['pH']]\n",
    "\n",
    "#Average Imputation using strategy='median'\n",
    "imp_med = SimpleImputer(missing_values=np.nan, strategy='median')\n",
    "imp_med.fit(x)\n",
    "SimpleImputer()\n",
    "ph_new = imp_med.transform(x)\n",
    "#display(ph_new)\n",
    "wine_red['pH']=ph_new\n",
    "display(wine_red.head(10))\n",
    "\n",
    "display(wine_red.isna().sum())\n"
   ]
  },
  {
   "cell_type": "markdown",
   "metadata": {},
   "source": [
    "# Outliers"
   ]
  },
  {
   "cell_type": "markdown",
   "metadata": {},
   "source": [
    "Outlier Detection"
   ]
  },
  {
   "cell_type": "code",
   "execution_count": 21,
   "metadata": {},
   "outputs": [
    {
     "output_type": "display_data",
     "data": {
      "text/plain": "(1597, 15)"
     },
     "metadata": {}
    },
    {
     "output_type": "stream",
     "name": "stdout",
     "text": [
      "Score before:  -0.03980582548197842\nScore after:  0.3368836467586014\nInliers:  1517 Outliers: (80, 14)\n"
     ]
    },
    {
     "output_type": "display_data",
     "data": {
      "text/plain": "'Outliers data:'"
     },
     "metadata": {}
    },
    {
     "output_type": "display_data",
     "data": {
      "text/plain": "      fixed acidity  volatile acidity  ...  alcohol  lightness\n14              8.9              0.62  ...     9.20      0.111\n15              8.9              0.62  ...     9.20      0.115\n19              7.9              0.32  ...     9.20      0.117\n38              5.7              1.13  ...     9.80      0.107\n45              4.6              0.52  ...    13.10      0.084\n...             ...               ...  ...      ...        ...\n1475            5.3              0.47  ...    13.57      0.078\n1476            9.9              0.50  ...     8.80      0.122\n1477            5.3              0.47  ...    13.60      0.081\n1558            6.9              0.63  ...     9.50      0.112\n1574            5.6              0.31  ...    10.50      0.098\n\n[80 rows x 14 columns]",
      "text/html": "<div>\n<style scoped>\n    .dataframe tbody tr th:only-of-type {\n        vertical-align: middle;\n    }\n\n    .dataframe tbody tr th {\n        vertical-align: top;\n    }\n\n    .dataframe thead th {\n        text-align: right;\n    }\n</style>\n<table border=\"1\" class=\"dataframe\">\n  <thead>\n    <tr style=\"text-align: right;\">\n      <th></th>\n      <th>fixed acidity</th>\n      <th>volatile acidity</th>\n      <th>citric acid</th>\n      <th>residual sugar</th>\n      <th>chlorides</th>\n      <th>flavanoids</th>\n      <th>free sulfur dioxide</th>\n      <th>total sulfur dioxide</th>\n      <th>density</th>\n      <th>pH</th>\n      <th>sulphates</th>\n      <th>magnesium</th>\n      <th>alcohol</th>\n      <th>lightness</th>\n    </tr>\n  </thead>\n  <tbody>\n    <tr>\n      <th>14</th>\n      <td>8.9</td>\n      <td>0.62</td>\n      <td>0.18</td>\n      <td>3.8</td>\n      <td>0.18</td>\n      <td>0.53</td>\n      <td>52.0</td>\n      <td>145.0</td>\n      <td>1.00</td>\n      <td>3.16</td>\n      <td>0.88</td>\n      <td>0.90</td>\n      <td>9.20</td>\n      <td>0.111</td>\n    </tr>\n    <tr>\n      <th>15</th>\n      <td>8.9</td>\n      <td>0.62</td>\n      <td>0.19</td>\n      <td>3.9</td>\n      <td>0.17</td>\n      <td>0.53</td>\n      <td>51.0</td>\n      <td>148.0</td>\n      <td>1.00</td>\n      <td>3.17</td>\n      <td>0.93</td>\n      <td>0.91</td>\n      <td>9.20</td>\n      <td>0.115</td>\n    </tr>\n    <tr>\n      <th>19</th>\n      <td>7.9</td>\n      <td>0.32</td>\n      <td>0.51</td>\n      <td>1.8</td>\n      <td>0.34</td>\n      <td>0.53</td>\n      <td>17.0</td>\n      <td>56.0</td>\n      <td>1.00</td>\n      <td>3.04</td>\n      <td>1.08</td>\n      <td>0.08</td>\n      <td>9.20</td>\n      <td>0.117</td>\n    </tr>\n    <tr>\n      <th>38</th>\n      <td>5.7</td>\n      <td>1.13</td>\n      <td>0.09</td>\n      <td>1.5</td>\n      <td>0.17</td>\n      <td>0.53</td>\n      <td>7.0</td>\n      <td>19.0</td>\n      <td>0.99</td>\n      <td>3.50</td>\n      <td>0.48</td>\n      <td>0.94</td>\n      <td>9.80</td>\n      <td>0.107</td>\n    </tr>\n    <tr>\n      <th>45</th>\n      <td>4.6</td>\n      <td>0.52</td>\n      <td>0.15</td>\n      <td>2.1</td>\n      <td>0.05</td>\n      <td>0.53</td>\n      <td>8.0</td>\n      <td>65.0</td>\n      <td>0.99</td>\n      <td>3.90</td>\n      <td>0.56</td>\n      <td>0.94</td>\n      <td>13.10</td>\n      <td>0.084</td>\n    </tr>\n    <tr>\n      <th>...</th>\n      <td>...</td>\n      <td>...</td>\n      <td>...</td>\n      <td>...</td>\n      <td>...</td>\n      <td>...</td>\n      <td>...</td>\n      <td>...</td>\n      <td>...</td>\n      <td>...</td>\n      <td>...</td>\n      <td>...</td>\n      <td>...</td>\n      <td>...</td>\n    </tr>\n    <tr>\n      <th>1475</th>\n      <td>5.3</td>\n      <td>0.47</td>\n      <td>0.11</td>\n      <td>2.2</td>\n      <td>0.05</td>\n      <td>0.53</td>\n      <td>16.0</td>\n      <td>89.0</td>\n      <td>0.99</td>\n      <td>3.54</td>\n      <td>0.88</td>\n      <td>0.71</td>\n      <td>13.57</td>\n      <td>0.078</td>\n    </tr>\n    <tr>\n      <th>1476</th>\n      <td>9.9</td>\n      <td>0.50</td>\n      <td>0.50</td>\n      <td>13.8</td>\n      <td>0.21</td>\n      <td>0.53</td>\n      <td>48.0</td>\n      <td>82.0</td>\n      <td>1.00</td>\n      <td>3.16</td>\n      <td>0.75</td>\n      <td>0.26</td>\n      <td>8.80</td>\n      <td>0.122</td>\n    </tr>\n    <tr>\n      <th>1477</th>\n      <td>5.3</td>\n      <td>0.47</td>\n      <td>0.11</td>\n      <td>2.2</td>\n      <td>0.05</td>\n      <td>0.53</td>\n      <td>16.0</td>\n      <td>89.0</td>\n      <td>0.99</td>\n      <td>3.54</td>\n      <td>0.88</td>\n      <td>0.90</td>\n      <td>13.60</td>\n      <td>0.081</td>\n    </tr>\n    <tr>\n      <th>1558</th>\n      <td>6.9</td>\n      <td>0.63</td>\n      <td>0.33</td>\n      <td>6.7</td>\n      <td>0.24</td>\n      <td>0.53</td>\n      <td>66.0</td>\n      <td>115.0</td>\n      <td>1.00</td>\n      <td>3.22</td>\n      <td>0.56</td>\n      <td>0.22</td>\n      <td>9.50</td>\n      <td>0.112</td>\n    </tr>\n    <tr>\n      <th>1574</th>\n      <td>5.6</td>\n      <td>0.31</td>\n      <td>0.78</td>\n      <td>13.9</td>\n      <td>0.07</td>\n      <td>0.53</td>\n      <td>23.0</td>\n      <td>92.0</td>\n      <td>1.00</td>\n      <td>3.39</td>\n      <td>0.48</td>\n      <td>0.12</td>\n      <td>10.50</td>\n      <td>0.098</td>\n    </tr>\n  </tbody>\n</table>\n<p>80 rows × 14 columns</p>\n</div>"
     },
     "metadata": {}
    },
    {
     "output_type": "display_data",
     "data": {
      "text/plain": "'Inliers data:'"
     },
     "metadata": {}
    },
    {
     "output_type": "display_data",
     "data": {
      "text/plain": "      fixed acidity  volatile acidity  ...  alcohol  lightness\n0               7.4              0.70  ...      9.4      0.109\n1               7.8              0.88  ...      9.8      0.107\n2               7.8              0.76  ...      9.8      0.106\n3              11.2              0.28  ...      9.8      0.111\n4               7.4              0.70  ...      9.4      0.107\n...             ...               ...  ...      ...        ...\n1592            6.2              0.60  ...     10.5      0.102\n1593            5.9              0.55  ...     11.2      0.090\n1594            6.3              0.51  ...     11.0      0.095\n1595            5.9              0.65  ...     10.2      0.104\n1596            6.0              0.31  ...     11.0      0.099\n\n[1517 rows x 14 columns]",
      "text/html": "<div>\n<style scoped>\n    .dataframe tbody tr th:only-of-type {\n        vertical-align: middle;\n    }\n\n    .dataframe tbody tr th {\n        vertical-align: top;\n    }\n\n    .dataframe thead th {\n        text-align: right;\n    }\n</style>\n<table border=\"1\" class=\"dataframe\">\n  <thead>\n    <tr style=\"text-align: right;\">\n      <th></th>\n      <th>fixed acidity</th>\n      <th>volatile acidity</th>\n      <th>citric acid</th>\n      <th>residual sugar</th>\n      <th>chlorides</th>\n      <th>flavanoids</th>\n      <th>free sulfur dioxide</th>\n      <th>total sulfur dioxide</th>\n      <th>density</th>\n      <th>pH</th>\n      <th>sulphates</th>\n      <th>magnesium</th>\n      <th>alcohol</th>\n      <th>lightness</th>\n    </tr>\n  </thead>\n  <tbody>\n    <tr>\n      <th>0</th>\n      <td>7.4</td>\n      <td>0.70</td>\n      <td>0.00</td>\n      <td>1.9</td>\n      <td>0.08</td>\n      <td>0.53</td>\n      <td>11.0</td>\n      <td>34.0</td>\n      <td>1.00</td>\n      <td>3.51</td>\n      <td>0.56</td>\n      <td>0.86</td>\n      <td>9.4</td>\n      <td>0.109</td>\n    </tr>\n    <tr>\n      <th>1</th>\n      <td>7.8</td>\n      <td>0.88</td>\n      <td>0.00</td>\n      <td>2.6</td>\n      <td>0.10</td>\n      <td>0.53</td>\n      <td>25.0</td>\n      <td>67.0</td>\n      <td>1.00</td>\n      <td>3.20</td>\n      <td>0.68</td>\n      <td>0.56</td>\n      <td>9.8</td>\n      <td>0.107</td>\n    </tr>\n    <tr>\n      <th>2</th>\n      <td>7.8</td>\n      <td>0.76</td>\n      <td>0.04</td>\n      <td>2.3</td>\n      <td>0.09</td>\n      <td>0.53</td>\n      <td>15.0</td>\n      <td>54.0</td>\n      <td>1.00</td>\n      <td>3.26</td>\n      <td>0.65</td>\n      <td>0.47</td>\n      <td>9.8</td>\n      <td>0.106</td>\n    </tr>\n    <tr>\n      <th>3</th>\n      <td>11.2</td>\n      <td>0.28</td>\n      <td>0.56</td>\n      <td>1.9</td>\n      <td>0.08</td>\n      <td>0.53</td>\n      <td>17.0</td>\n      <td>60.0</td>\n      <td>1.00</td>\n      <td>3.16</td>\n      <td>0.58</td>\n      <td>0.33</td>\n      <td>9.8</td>\n      <td>0.111</td>\n    </tr>\n    <tr>\n      <th>4</th>\n      <td>7.4</td>\n      <td>0.70</td>\n      <td>0.00</td>\n      <td>1.9</td>\n      <td>0.08</td>\n      <td>0.53</td>\n      <td>11.0</td>\n      <td>34.0</td>\n      <td>1.00</td>\n      <td>3.51</td>\n      <td>0.56</td>\n      <td>0.91</td>\n      <td>9.4</td>\n      <td>0.107</td>\n    </tr>\n    <tr>\n      <th>...</th>\n      <td>...</td>\n      <td>...</td>\n      <td>...</td>\n      <td>...</td>\n      <td>...</td>\n      <td>...</td>\n      <td>...</td>\n      <td>...</td>\n      <td>...</td>\n      <td>...</td>\n      <td>...</td>\n      <td>...</td>\n      <td>...</td>\n      <td>...</td>\n    </tr>\n    <tr>\n      <th>1592</th>\n      <td>6.2</td>\n      <td>0.60</td>\n      <td>0.08</td>\n      <td>2.0</td>\n      <td>0.09</td>\n      <td>0.53</td>\n      <td>32.0</td>\n      <td>44.0</td>\n      <td>0.99</td>\n      <td>3.31</td>\n      <td>0.58</td>\n      <td>0.98</td>\n      <td>10.5</td>\n      <td>0.102</td>\n    </tr>\n    <tr>\n      <th>1593</th>\n      <td>5.9</td>\n      <td>0.55</td>\n      <td>0.10</td>\n      <td>2.2</td>\n      <td>0.06</td>\n      <td>0.53</td>\n      <td>39.0</td>\n      <td>51.0</td>\n      <td>1.00</td>\n      <td>3.52</td>\n      <td>0.76</td>\n      <td>0.82</td>\n      <td>11.2</td>\n      <td>0.090</td>\n    </tr>\n    <tr>\n      <th>1594</th>\n      <td>6.3</td>\n      <td>0.51</td>\n      <td>0.13</td>\n      <td>2.3</td>\n      <td>0.08</td>\n      <td>0.53</td>\n      <td>29.0</td>\n      <td>40.0</td>\n      <td>1.00</td>\n      <td>3.42</td>\n      <td>0.75</td>\n      <td>0.71</td>\n      <td>11.0</td>\n      <td>0.095</td>\n    </tr>\n    <tr>\n      <th>1595</th>\n      <td>5.9</td>\n      <td>0.65</td>\n      <td>0.12</td>\n      <td>2.0</td>\n      <td>0.08</td>\n      <td>0.53</td>\n      <td>32.0</td>\n      <td>44.0</td>\n      <td>1.00</td>\n      <td>3.57</td>\n      <td>0.71</td>\n      <td>0.33</td>\n      <td>10.2</td>\n      <td>0.104</td>\n    </tr>\n    <tr>\n      <th>1596</th>\n      <td>6.0</td>\n      <td>0.31</td>\n      <td>0.47</td>\n      <td>3.6</td>\n      <td>0.07</td>\n      <td>0.53</td>\n      <td>18.0</td>\n      <td>42.0</td>\n      <td>1.00</td>\n      <td>3.39</td>\n      <td>0.66</td>\n      <td>0.17</td>\n      <td>11.0</td>\n      <td>0.099</td>\n    </tr>\n  </tbody>\n</table>\n<p>1517 rows × 14 columns</p>\n</div>"
     },
     "metadata": {}
    }
   ],
   "source": [
    "from sklearn.model_selection import train_test_split \n",
    "from sklearn.ensemble import IsolationForest\n",
    "from datasets import get_logist_regression_score, show_mvs\n",
    "\n",
    "display(wine_red.shape)\n",
    "X = wine_red.drop('quality', axis=1)\n",
    "y = wine_red['quality']\n",
    "\n",
    "iso = IsolationForest(contamination=0.05)\n",
    "y_out = iso.fit_predict(X)\n",
    "\n",
    "score_before = get_logist_regression_score(X,y)\n",
    "print('Score before: ', score_before)\n",
    "\n",
    "# build a mask to select all rows that are not outliers (inlier=1, outlier=-1)\n",
    "mask = y_out != -1\n",
    "X_inlier, y_inlier = X[mask], y[mask]\n",
    "X_outliers, y_outliers = X[~mask], y[~mask]\n",
    "\n",
    "score_after = get_logist_regression_score(X_inlier,y_inlier)\n",
    "print('Score after: ', score_after)\n",
    "\n",
    "# Inliers vs. Outliers\n",
    "print(\"Inliers: \",X_inlier.shape[0],\"Outliers:\",X_outliers.shape)\n",
    "display('Outliers data:', X_outliers)\n",
    "display('Inliers data:', X_inlier)\n",
    "\n",
    "# wine_red = X_inlier\n",
    "# wine_red['quality'] = y_inlier"
   ]
  },
  {
   "cell_type": "markdown",
   "metadata": {},
   "source": [
    "https://www.pluralsight.com/guides/cleaning-up-data-from-outliers"
   ]
  },
  {
   "cell_type": "markdown",
   "metadata": {},
   "source": [
    "# Noise Handling"
   ]
  },
  {
   "cell_type": "markdown",
   "metadata": {},
   "source": [
    "Our assumption: The found noise data are feature noises --> jedes feature nach diesem Vorgehen bearbeiten? Oder die 58 einfach Instance löschen oder???"
   ]
  },
  {
   "cell_type": "code",
   "execution_count": 22,
   "metadata": {
    "tags": []
   },
   "outputs": [
    {
     "output_type": "display_data",
     "data": {
      "text/plain": "(1597, 3)"
     },
     "metadata": {}
    },
    {
     "output_type": "display_data",
     "data": {
      "text/plain": "      Prediction  quality  Correct Prediction\n0            5.0      5.0                True\n1            5.0      5.0                True\n2            5.0      5.0                True\n3            5.0      6.0                True\n4            5.0      5.0                True\n...          ...      ...                 ...\n1592         6.0      5.0                True\n1593         6.0      6.0                True\n1594         6.0      6.0                True\n1595         5.0      5.0                True\n1596         6.0      6.0                True\n\n[1597 rows x 3 columns]",
      "text/html": "<div>\n<style scoped>\n    .dataframe tbody tr th:only-of-type {\n        vertical-align: middle;\n    }\n\n    .dataframe tbody tr th {\n        vertical-align: top;\n    }\n\n    .dataframe thead th {\n        text-align: right;\n    }\n</style>\n<table border=\"1\" class=\"dataframe\">\n  <thead>\n    <tr style=\"text-align: right;\">\n      <th></th>\n      <th>Prediction</th>\n      <th>quality</th>\n      <th>Correct Prediction</th>\n    </tr>\n  </thead>\n  <tbody>\n    <tr>\n      <th>0</th>\n      <td>5.0</td>\n      <td>5.0</td>\n      <td>True</td>\n    </tr>\n    <tr>\n      <th>1</th>\n      <td>5.0</td>\n      <td>5.0</td>\n      <td>True</td>\n    </tr>\n    <tr>\n      <th>2</th>\n      <td>5.0</td>\n      <td>5.0</td>\n      <td>True</td>\n    </tr>\n    <tr>\n      <th>3</th>\n      <td>5.0</td>\n      <td>6.0</td>\n      <td>True</td>\n    </tr>\n    <tr>\n      <th>4</th>\n      <td>5.0</td>\n      <td>5.0</td>\n      <td>True</td>\n    </tr>\n    <tr>\n      <th>...</th>\n      <td>...</td>\n      <td>...</td>\n      <td>...</td>\n    </tr>\n    <tr>\n      <th>1592</th>\n      <td>6.0</td>\n      <td>5.0</td>\n      <td>True</td>\n    </tr>\n    <tr>\n      <th>1593</th>\n      <td>6.0</td>\n      <td>6.0</td>\n      <td>True</td>\n    </tr>\n    <tr>\n      <th>1594</th>\n      <td>6.0</td>\n      <td>6.0</td>\n      <td>True</td>\n    </tr>\n    <tr>\n      <th>1595</th>\n      <td>5.0</td>\n      <td>5.0</td>\n      <td>True</td>\n    </tr>\n    <tr>\n      <th>1596</th>\n      <td>6.0</td>\n      <td>6.0</td>\n      <td>True</td>\n    </tr>\n  </tbody>\n</table>\n<p>1597 rows × 3 columns</p>\n</div>"
     },
     "metadata": {}
    },
    {
     "output_type": "stream",
     "name": "stdout",
     "text": [
      "False predictions\n"
     ]
    },
    {
     "output_type": "display_data",
     "data": {
      "text/plain": "(88, 3)"
     },
     "metadata": {}
    },
    {
     "output_type": "display_data",
     "data": {
      "text/plain": "      Prediction  quality  Correct Prediction\n7            5.0      7.0               False\n8            5.0      7.0               False\n16           5.0      7.0               False\n36           4.0      6.0               False\n37           5.0      7.0               False\n...          ...      ...                 ...\n1478         5.0      3.0               False\n1481         7.0      5.0               False\n1505         5.0      3.0               False\n1537         4.0      6.0               False\n1549         6.0      8.0               False\n\n[88 rows x 3 columns]",
      "text/html": "<div>\n<style scoped>\n    .dataframe tbody tr th:only-of-type {\n        vertical-align: middle;\n    }\n\n    .dataframe tbody tr th {\n        vertical-align: top;\n    }\n\n    .dataframe thead th {\n        text-align: right;\n    }\n</style>\n<table border=\"1\" class=\"dataframe\">\n  <thead>\n    <tr style=\"text-align: right;\">\n      <th></th>\n      <th>Prediction</th>\n      <th>quality</th>\n      <th>Correct Prediction</th>\n    </tr>\n  </thead>\n  <tbody>\n    <tr>\n      <th>7</th>\n      <td>5.0</td>\n      <td>7.0</td>\n      <td>False</td>\n    </tr>\n    <tr>\n      <th>8</th>\n      <td>5.0</td>\n      <td>7.0</td>\n      <td>False</td>\n    </tr>\n    <tr>\n      <th>16</th>\n      <td>5.0</td>\n      <td>7.0</td>\n      <td>False</td>\n    </tr>\n    <tr>\n      <th>36</th>\n      <td>4.0</td>\n      <td>6.0</td>\n      <td>False</td>\n    </tr>\n    <tr>\n      <th>37</th>\n      <td>5.0</td>\n      <td>7.0</td>\n      <td>False</td>\n    </tr>\n    <tr>\n      <th>...</th>\n      <td>...</td>\n      <td>...</td>\n      <td>...</td>\n    </tr>\n    <tr>\n      <th>1478</th>\n      <td>5.0</td>\n      <td>3.0</td>\n      <td>False</td>\n    </tr>\n    <tr>\n      <th>1481</th>\n      <td>7.0</td>\n      <td>5.0</td>\n      <td>False</td>\n    </tr>\n    <tr>\n      <th>1505</th>\n      <td>5.0</td>\n      <td>3.0</td>\n      <td>False</td>\n    </tr>\n    <tr>\n      <th>1537</th>\n      <td>4.0</td>\n      <td>6.0</td>\n      <td>False</td>\n    </tr>\n    <tr>\n      <th>1549</th>\n      <td>6.0</td>\n      <td>8.0</td>\n      <td>False</td>\n    </tr>\n  </tbody>\n</table>\n<p>88 rows × 3 columns</p>\n</div>"
     },
     "metadata": {}
    },
    {
     "output_type": "display_data",
     "data": {
      "text/plain": "'Outliers data'"
     },
     "metadata": {}
    },
    {
     "output_type": "display_data",
     "data": {
      "text/plain": "      fixed acidity  volatile acidity  ...  alcohol  lightness\n14              8.9              0.62  ...     9.20      0.111\n15              8.9              0.62  ...     9.20      0.115\n19              7.9              0.32  ...     9.20      0.117\n38              5.7              1.13  ...     9.80      0.107\n45              4.6              0.52  ...    13.10      0.084\n...             ...               ...  ...      ...        ...\n1475            5.3              0.47  ...    13.57      0.078\n1476            9.9              0.50  ...     8.80      0.122\n1477            5.3              0.47  ...    13.60      0.081\n1558            6.9              0.63  ...     9.50      0.112\n1574            5.6              0.31  ...    10.50      0.098\n\n[80 rows x 14 columns]",
      "text/html": "<div>\n<style scoped>\n    .dataframe tbody tr th:only-of-type {\n        vertical-align: middle;\n    }\n\n    .dataframe tbody tr th {\n        vertical-align: top;\n    }\n\n    .dataframe thead th {\n        text-align: right;\n    }\n</style>\n<table border=\"1\" class=\"dataframe\">\n  <thead>\n    <tr style=\"text-align: right;\">\n      <th></th>\n      <th>fixed acidity</th>\n      <th>volatile acidity</th>\n      <th>citric acid</th>\n      <th>residual sugar</th>\n      <th>chlorides</th>\n      <th>flavanoids</th>\n      <th>free sulfur dioxide</th>\n      <th>total sulfur dioxide</th>\n      <th>density</th>\n      <th>pH</th>\n      <th>sulphates</th>\n      <th>magnesium</th>\n      <th>alcohol</th>\n      <th>lightness</th>\n    </tr>\n  </thead>\n  <tbody>\n    <tr>\n      <th>14</th>\n      <td>8.9</td>\n      <td>0.62</td>\n      <td>0.18</td>\n      <td>3.8</td>\n      <td>0.18</td>\n      <td>0.53</td>\n      <td>52.0</td>\n      <td>145.0</td>\n      <td>1.00</td>\n      <td>3.16</td>\n      <td>0.88</td>\n      <td>0.90</td>\n      <td>9.20</td>\n      <td>0.111</td>\n    </tr>\n    <tr>\n      <th>15</th>\n      <td>8.9</td>\n      <td>0.62</td>\n      <td>0.19</td>\n      <td>3.9</td>\n      <td>0.17</td>\n      <td>0.53</td>\n      <td>51.0</td>\n      <td>148.0</td>\n      <td>1.00</td>\n      <td>3.17</td>\n      <td>0.93</td>\n      <td>0.91</td>\n      <td>9.20</td>\n      <td>0.115</td>\n    </tr>\n    <tr>\n      <th>19</th>\n      <td>7.9</td>\n      <td>0.32</td>\n      <td>0.51</td>\n      <td>1.8</td>\n      <td>0.34</td>\n      <td>0.53</td>\n      <td>17.0</td>\n      <td>56.0</td>\n      <td>1.00</td>\n      <td>3.04</td>\n      <td>1.08</td>\n      <td>0.08</td>\n      <td>9.20</td>\n      <td>0.117</td>\n    </tr>\n    <tr>\n      <th>38</th>\n      <td>5.7</td>\n      <td>1.13</td>\n      <td>0.09</td>\n      <td>1.5</td>\n      <td>0.17</td>\n      <td>0.53</td>\n      <td>7.0</td>\n      <td>19.0</td>\n      <td>0.99</td>\n      <td>3.50</td>\n      <td>0.48</td>\n      <td>0.94</td>\n      <td>9.80</td>\n      <td>0.107</td>\n    </tr>\n    <tr>\n      <th>45</th>\n      <td>4.6</td>\n      <td>0.52</td>\n      <td>0.15</td>\n      <td>2.1</td>\n      <td>0.05</td>\n      <td>0.53</td>\n      <td>8.0</td>\n      <td>65.0</td>\n      <td>0.99</td>\n      <td>3.90</td>\n      <td>0.56</td>\n      <td>0.94</td>\n      <td>13.10</td>\n      <td>0.084</td>\n    </tr>\n    <tr>\n      <th>...</th>\n      <td>...</td>\n      <td>...</td>\n      <td>...</td>\n      <td>...</td>\n      <td>...</td>\n      <td>...</td>\n      <td>...</td>\n      <td>...</td>\n      <td>...</td>\n      <td>...</td>\n      <td>...</td>\n      <td>...</td>\n      <td>...</td>\n      <td>...</td>\n    </tr>\n    <tr>\n      <th>1475</th>\n      <td>5.3</td>\n      <td>0.47</td>\n      <td>0.11</td>\n      <td>2.2</td>\n      <td>0.05</td>\n      <td>0.53</td>\n      <td>16.0</td>\n      <td>89.0</td>\n      <td>0.99</td>\n      <td>3.54</td>\n      <td>0.88</td>\n      <td>0.71</td>\n      <td>13.57</td>\n      <td>0.078</td>\n    </tr>\n    <tr>\n      <th>1476</th>\n      <td>9.9</td>\n      <td>0.50</td>\n      <td>0.50</td>\n      <td>13.8</td>\n      <td>0.21</td>\n      <td>0.53</td>\n      <td>48.0</td>\n      <td>82.0</td>\n      <td>1.00</td>\n      <td>3.16</td>\n      <td>0.75</td>\n      <td>0.26</td>\n      <td>8.80</td>\n      <td>0.122</td>\n    </tr>\n    <tr>\n      <th>1477</th>\n      <td>5.3</td>\n      <td>0.47</td>\n      <td>0.11</td>\n      <td>2.2</td>\n      <td>0.05</td>\n      <td>0.53</td>\n      <td>16.0</td>\n      <td>89.0</td>\n      <td>0.99</td>\n      <td>3.54</td>\n      <td>0.88</td>\n      <td>0.90</td>\n      <td>13.60</td>\n      <td>0.081</td>\n    </tr>\n    <tr>\n      <th>1558</th>\n      <td>6.9</td>\n      <td>0.63</td>\n      <td>0.33</td>\n      <td>6.7</td>\n      <td>0.24</td>\n      <td>0.53</td>\n      <td>66.0</td>\n      <td>115.0</td>\n      <td>1.00</td>\n      <td>3.22</td>\n      <td>0.56</td>\n      <td>0.22</td>\n      <td>9.50</td>\n      <td>0.112</td>\n    </tr>\n    <tr>\n      <th>1574</th>\n      <td>5.6</td>\n      <td>0.31</td>\n      <td>0.78</td>\n      <td>13.9</td>\n      <td>0.07</td>\n      <td>0.53</td>\n      <td>23.0</td>\n      <td>92.0</td>\n      <td>1.00</td>\n      <td>3.39</td>\n      <td>0.48</td>\n      <td>0.12</td>\n      <td>10.50</td>\n      <td>0.098</td>\n    </tr>\n  </tbody>\n</table>\n<p>80 rows × 14 columns</p>\n</div>"
     },
     "metadata": {}
    },
    {
     "output_type": "display_data",
     "data": {
      "text/plain": "[14,\n 15,\n 19,\n 38,\n 81,\n 94,\n 95,\n 106,\n 132,\n 142,\n 144,\n 151,\n 169,\n 198,\n 226,\n 258,\n 353,\n 354,\n 378,\n 396,\n 400,\n 415,\n 451,\n 467,\n 501,\n 502,\n 515,\n 553,\n 649,\n 652,\n 672,\n 684,\n 692,\n 695,\n 802,\n 821,\n 836,\n 837,\n 941,\n 982,\n 997,\n 1017,\n 1018,\n 1051,\n 1090,\n 1098,\n 1114,\n 1131,\n 1157,\n 1178,\n 1228,\n 1235,\n 1244,\n 1256,\n 1260,\n 1270,\n 1316,\n 1319,\n 1321,\n 1370,\n 1372,\n 1434,\n 1435,\n 1474,\n 1475,\n 1476,\n 1477,\n 1558,\n 1574]"
     },
     "metadata": {}
    },
    {
     "output_type": "display_data",
     "data": {
      "text/plain": "      fixed acidity  volatile acidity  citric acid  ...  alcohol  lightness  quality\n0               7.4              0.70         0.00  ...      9.4      0.109      5.0\n1               7.8              0.88         0.00  ...      9.8      0.107      5.0\n2               7.8              0.76         0.04  ...      9.8      0.106      5.0\n3              11.2              0.28         0.56  ...      9.8      0.111      6.0\n4               7.4              0.70         0.00  ...      9.4      0.107      5.0\n...             ...               ...          ...  ...      ...        ...      ...\n1592            6.2              0.60         0.08  ...     10.5      0.102      5.0\n1593            5.9              0.55         0.10  ...     11.2      0.090      6.0\n1594            6.3              0.51         0.13  ...     11.0      0.095      6.0\n1595            5.9              0.65         0.12  ...     10.2      0.104      5.0\n1596            6.0              0.31         0.47  ...     11.0      0.099      6.0\n\n[1528 rows x 15 columns]",
      "text/html": "<div>\n<style scoped>\n    .dataframe tbody tr th:only-of-type {\n        vertical-align: middle;\n    }\n\n    .dataframe tbody tr th {\n        vertical-align: top;\n    }\n\n    .dataframe thead th {\n        text-align: right;\n    }\n</style>\n<table border=\"1\" class=\"dataframe\">\n  <thead>\n    <tr style=\"text-align: right;\">\n      <th></th>\n      <th>fixed acidity</th>\n      <th>volatile acidity</th>\n      <th>citric acid</th>\n      <th>residual sugar</th>\n      <th>chlorides</th>\n      <th>flavanoids</th>\n      <th>free sulfur dioxide</th>\n      <th>total sulfur dioxide</th>\n      <th>density</th>\n      <th>pH</th>\n      <th>sulphates</th>\n      <th>magnesium</th>\n      <th>alcohol</th>\n      <th>lightness</th>\n      <th>quality</th>\n    </tr>\n  </thead>\n  <tbody>\n    <tr>\n      <th>0</th>\n      <td>7.4</td>\n      <td>0.70</td>\n      <td>0.00</td>\n      <td>1.9</td>\n      <td>0.08</td>\n      <td>0.53</td>\n      <td>11.0</td>\n      <td>34.0</td>\n      <td>1.00</td>\n      <td>3.51</td>\n      <td>0.56</td>\n      <td>0.86</td>\n      <td>9.4</td>\n      <td>0.109</td>\n      <td>5.0</td>\n    </tr>\n    <tr>\n      <th>1</th>\n      <td>7.8</td>\n      <td>0.88</td>\n      <td>0.00</td>\n      <td>2.6</td>\n      <td>0.10</td>\n      <td>0.53</td>\n      <td>25.0</td>\n      <td>67.0</td>\n      <td>1.00</td>\n      <td>3.20</td>\n      <td>0.68</td>\n      <td>0.56</td>\n      <td>9.8</td>\n      <td>0.107</td>\n      <td>5.0</td>\n    </tr>\n    <tr>\n      <th>2</th>\n      <td>7.8</td>\n      <td>0.76</td>\n      <td>0.04</td>\n      <td>2.3</td>\n      <td>0.09</td>\n      <td>0.53</td>\n      <td>15.0</td>\n      <td>54.0</td>\n      <td>1.00</td>\n      <td>3.26</td>\n      <td>0.65</td>\n      <td>0.47</td>\n      <td>9.8</td>\n      <td>0.106</td>\n      <td>5.0</td>\n    </tr>\n    <tr>\n      <th>3</th>\n      <td>11.2</td>\n      <td>0.28</td>\n      <td>0.56</td>\n      <td>1.9</td>\n      <td>0.08</td>\n      <td>0.53</td>\n      <td>17.0</td>\n      <td>60.0</td>\n      <td>1.00</td>\n      <td>3.16</td>\n      <td>0.58</td>\n      <td>0.33</td>\n      <td>9.8</td>\n      <td>0.111</td>\n      <td>6.0</td>\n    </tr>\n    <tr>\n      <th>4</th>\n      <td>7.4</td>\n      <td>0.70</td>\n      <td>0.00</td>\n      <td>1.9</td>\n      <td>0.08</td>\n      <td>0.53</td>\n      <td>11.0</td>\n      <td>34.0</td>\n      <td>1.00</td>\n      <td>3.51</td>\n      <td>0.56</td>\n      <td>0.91</td>\n      <td>9.4</td>\n      <td>0.107</td>\n      <td>5.0</td>\n    </tr>\n    <tr>\n      <th>...</th>\n      <td>...</td>\n      <td>...</td>\n      <td>...</td>\n      <td>...</td>\n      <td>...</td>\n      <td>...</td>\n      <td>...</td>\n      <td>...</td>\n      <td>...</td>\n      <td>...</td>\n      <td>...</td>\n      <td>...</td>\n      <td>...</td>\n      <td>...</td>\n      <td>...</td>\n    </tr>\n    <tr>\n      <th>1592</th>\n      <td>6.2</td>\n      <td>0.60</td>\n      <td>0.08</td>\n      <td>2.0</td>\n      <td>0.09</td>\n      <td>0.53</td>\n      <td>32.0</td>\n      <td>44.0</td>\n      <td>0.99</td>\n      <td>3.31</td>\n      <td>0.58</td>\n      <td>0.98</td>\n      <td>10.5</td>\n      <td>0.102</td>\n      <td>5.0</td>\n    </tr>\n    <tr>\n      <th>1593</th>\n      <td>5.9</td>\n      <td>0.55</td>\n      <td>0.10</td>\n      <td>2.2</td>\n      <td>0.06</td>\n      <td>0.53</td>\n      <td>39.0</td>\n      <td>51.0</td>\n      <td>1.00</td>\n      <td>3.52</td>\n      <td>0.76</td>\n      <td>0.82</td>\n      <td>11.2</td>\n      <td>0.090</td>\n      <td>6.0</td>\n    </tr>\n    <tr>\n      <th>1594</th>\n      <td>6.3</td>\n      <td>0.51</td>\n      <td>0.13</td>\n      <td>2.3</td>\n      <td>0.08</td>\n      <td>0.53</td>\n      <td>29.0</td>\n      <td>40.0</td>\n      <td>1.00</td>\n      <td>3.42</td>\n      <td>0.75</td>\n      <td>0.71</td>\n      <td>11.0</td>\n      <td>0.095</td>\n      <td>6.0</td>\n    </tr>\n    <tr>\n      <th>1595</th>\n      <td>5.9</td>\n      <td>0.65</td>\n      <td>0.12</td>\n      <td>2.0</td>\n      <td>0.08</td>\n      <td>0.53</td>\n      <td>32.0</td>\n      <td>44.0</td>\n      <td>1.00</td>\n      <td>3.57</td>\n      <td>0.71</td>\n      <td>0.33</td>\n      <td>10.2</td>\n      <td>0.104</td>\n      <td>5.0</td>\n    </tr>\n    <tr>\n      <th>1596</th>\n      <td>6.0</td>\n      <td>0.31</td>\n      <td>0.47</td>\n      <td>3.6</td>\n      <td>0.07</td>\n      <td>0.53</td>\n      <td>18.0</td>\n      <td>42.0</td>\n      <td>1.00</td>\n      <td>3.39</td>\n      <td>0.66</td>\n      <td>0.17</td>\n      <td>11.0</td>\n      <td>0.099</td>\n      <td>6.0</td>\n    </tr>\n  </tbody>\n</table>\n<p>1528 rows × 15 columns</p>\n</div>"
     },
     "metadata": {}
    }
   ],
   "source": [
    "import numpy as np\n",
    "import pandas as pd\n",
    "from sklearn.linear_model import LogisticRegression\n",
    "from sklearn.naive_bayes import GaussianNB\n",
    "from sklearn.ensemble import RandomForestClassifier, VotingClassifier\n",
    "from sklearn.model_selection import cross_val_predict\n",
    "\n",
    "# Define 3 classifiers\n",
    "clf1 = LogisticRegression(multi_class='multinomial', random_state=1)\n",
    "clf2 = RandomForestClassifier(n_estimators=50, random_state=1)\n",
    "clf3 = GaussianNB()\n",
    "\n",
    "# define data\n",
    "x = wine_red.drop('quality', axis=1)\n",
    "y = wine_red['quality']\n",
    "\n",
    "# merge 3 classifiers into one voting classifier\n",
    "eclf1 = VotingClassifier(estimators=[('lr', clf1), ('rf', clf2), ('gnb', clf3)], voting='hard')\n",
    "\n",
    "# train voting classifier with k-fold method\n",
    "y_pred = cross_val_predict(eclf1, x, y, cv=3)\n",
    "\n",
    "# save predictions, original quality and correct prediction boolean in data frame\n",
    "result = pd.DataFrame(y_pred, columns=['Prediction'], index=x.index)\n",
    "result['quality'] = y\n",
    "# mindestens 2 Abweichung\n",
    "delta_treshold = 2\n",
    "result['Correct Prediction']= abs(result['Prediction'] - result['quality']) < delta_treshold\n",
    "\n",
    "display(result.shape)\n",
    "display(result)\n",
    "\n",
    "# select all incorrect predicted data\n",
    "print('False predictions')\n",
    "delta_result = result[result['Correct Prediction'] == False]\n",
    "display(delta_result.shape)\n",
    "display(delta_result)\n",
    "\n",
    "display('Outliers data', X_outliers)\n",
    "\n",
    "outlier_to_delete = []\n",
    "\n",
    "for outlier in X_outliers.index:\n",
    "    if not outlier in delta_result.index:\n",
    "        outlier_to_delete.append(outlier)\n",
    "display(outlier_to_delete)\n",
    "wine_red.drop(index=outlier_to_delete, inplace=True)\n",
    "display(wine_red)\n",
    "# handle noise"
   ]
  },
  {
   "cell_type": "code",
   "execution_count": 23,
   "metadata": {},
   "outputs": [
    {
     "output_type": "display_data",
     "data": {
      "text/plain": "      fixed acidity  volatile acidity  citric acid  ...  alcohol  lightness  quality\n0               7.4              0.70         0.00  ...      9.4      0.109      5.0\n1               7.8              0.88         0.00  ...      9.8      0.107      5.0\n2               7.8              0.76         0.04  ...      9.8      0.106      5.0\n3              11.2              0.28         0.56  ...      9.8      0.111      6.0\n4               7.4              0.70         0.00  ...      9.4      0.107      5.0\n...             ...               ...          ...  ...      ...        ...      ...\n1592            6.2              0.60         0.08  ...     10.5      0.102      5.0\n1593            5.9              0.55         0.10  ...     11.2      0.090      6.0\n1594            6.3              0.51         0.13  ...     11.0      0.095      6.0\n1595            5.9              0.65         0.12  ...     10.2      0.104      5.0\n1596            6.0              0.31         0.47  ...     11.0      0.099      6.0\n\n[1528 rows x 15 columns]",
      "text/html": "<div>\n<style scoped>\n    .dataframe tbody tr th:only-of-type {\n        vertical-align: middle;\n    }\n\n    .dataframe tbody tr th {\n        vertical-align: top;\n    }\n\n    .dataframe thead th {\n        text-align: right;\n    }\n</style>\n<table border=\"1\" class=\"dataframe\">\n  <thead>\n    <tr style=\"text-align: right;\">\n      <th></th>\n      <th>fixed acidity</th>\n      <th>volatile acidity</th>\n      <th>citric acid</th>\n      <th>residual sugar</th>\n      <th>chlorides</th>\n      <th>flavanoids</th>\n      <th>free sulfur dioxide</th>\n      <th>total sulfur dioxide</th>\n      <th>density</th>\n      <th>pH</th>\n      <th>sulphates</th>\n      <th>magnesium</th>\n      <th>alcohol</th>\n      <th>lightness</th>\n      <th>quality</th>\n    </tr>\n  </thead>\n  <tbody>\n    <tr>\n      <th>0</th>\n      <td>7.4</td>\n      <td>0.70</td>\n      <td>0.00</td>\n      <td>1.9</td>\n      <td>0.08</td>\n      <td>0.53</td>\n      <td>11.0</td>\n      <td>34.0</td>\n      <td>1.00</td>\n      <td>3.51</td>\n      <td>0.56</td>\n      <td>0.86</td>\n      <td>9.4</td>\n      <td>0.109</td>\n      <td>5.0</td>\n    </tr>\n    <tr>\n      <th>1</th>\n      <td>7.8</td>\n      <td>0.88</td>\n      <td>0.00</td>\n      <td>2.6</td>\n      <td>0.10</td>\n      <td>0.53</td>\n      <td>25.0</td>\n      <td>67.0</td>\n      <td>1.00</td>\n      <td>3.20</td>\n      <td>0.68</td>\n      <td>0.56</td>\n      <td>9.8</td>\n      <td>0.107</td>\n      <td>5.0</td>\n    </tr>\n    <tr>\n      <th>2</th>\n      <td>7.8</td>\n      <td>0.76</td>\n      <td>0.04</td>\n      <td>2.3</td>\n      <td>0.09</td>\n      <td>0.53</td>\n      <td>15.0</td>\n      <td>54.0</td>\n      <td>1.00</td>\n      <td>3.26</td>\n      <td>0.65</td>\n      <td>0.47</td>\n      <td>9.8</td>\n      <td>0.106</td>\n      <td>5.0</td>\n    </tr>\n    <tr>\n      <th>3</th>\n      <td>11.2</td>\n      <td>0.28</td>\n      <td>0.56</td>\n      <td>1.9</td>\n      <td>0.08</td>\n      <td>0.53</td>\n      <td>17.0</td>\n      <td>60.0</td>\n      <td>1.00</td>\n      <td>3.16</td>\n      <td>0.58</td>\n      <td>0.33</td>\n      <td>9.8</td>\n      <td>0.111</td>\n      <td>6.0</td>\n    </tr>\n    <tr>\n      <th>4</th>\n      <td>7.4</td>\n      <td>0.70</td>\n      <td>0.00</td>\n      <td>1.9</td>\n      <td>0.08</td>\n      <td>0.53</td>\n      <td>11.0</td>\n      <td>34.0</td>\n      <td>1.00</td>\n      <td>3.51</td>\n      <td>0.56</td>\n      <td>0.91</td>\n      <td>9.4</td>\n      <td>0.107</td>\n      <td>5.0</td>\n    </tr>\n    <tr>\n      <th>...</th>\n      <td>...</td>\n      <td>...</td>\n      <td>...</td>\n      <td>...</td>\n      <td>...</td>\n      <td>...</td>\n      <td>...</td>\n      <td>...</td>\n      <td>...</td>\n      <td>...</td>\n      <td>...</td>\n      <td>...</td>\n      <td>...</td>\n      <td>...</td>\n      <td>...</td>\n    </tr>\n    <tr>\n      <th>1592</th>\n      <td>6.2</td>\n      <td>0.60</td>\n      <td>0.08</td>\n      <td>2.0</td>\n      <td>0.09</td>\n      <td>0.53</td>\n      <td>32.0</td>\n      <td>44.0</td>\n      <td>0.99</td>\n      <td>3.31</td>\n      <td>0.58</td>\n      <td>0.98</td>\n      <td>10.5</td>\n      <td>0.102</td>\n      <td>5.0</td>\n    </tr>\n    <tr>\n      <th>1593</th>\n      <td>5.9</td>\n      <td>0.55</td>\n      <td>0.10</td>\n      <td>2.2</td>\n      <td>0.06</td>\n      <td>0.53</td>\n      <td>39.0</td>\n      <td>51.0</td>\n      <td>1.00</td>\n      <td>3.52</td>\n      <td>0.76</td>\n      <td>0.82</td>\n      <td>11.2</td>\n      <td>0.090</td>\n      <td>6.0</td>\n    </tr>\n    <tr>\n      <th>1594</th>\n      <td>6.3</td>\n      <td>0.51</td>\n      <td>0.13</td>\n      <td>2.3</td>\n      <td>0.08</td>\n      <td>0.53</td>\n      <td>29.0</td>\n      <td>40.0</td>\n      <td>1.00</td>\n      <td>3.42</td>\n      <td>0.75</td>\n      <td>0.71</td>\n      <td>11.0</td>\n      <td>0.095</td>\n      <td>6.0</td>\n    </tr>\n    <tr>\n      <th>1595</th>\n      <td>5.9</td>\n      <td>0.65</td>\n      <td>0.12</td>\n      <td>2.0</td>\n      <td>0.08</td>\n      <td>0.53</td>\n      <td>32.0</td>\n      <td>44.0</td>\n      <td>1.00</td>\n      <td>3.57</td>\n      <td>0.71</td>\n      <td>0.33</td>\n      <td>10.2</td>\n      <td>0.104</td>\n      <td>5.0</td>\n    </tr>\n    <tr>\n      <th>1596</th>\n      <td>6.0</td>\n      <td>0.31</td>\n      <td>0.47</td>\n      <td>3.6</td>\n      <td>0.07</td>\n      <td>0.53</td>\n      <td>18.0</td>\n      <td>42.0</td>\n      <td>1.00</td>\n      <td>3.39</td>\n      <td>0.66</td>\n      <td>0.17</td>\n      <td>11.0</td>\n      <td>0.099</td>\n      <td>6.0</td>\n    </tr>\n  </tbody>\n</table>\n<p>1528 rows × 15 columns</p>\n</div>"
     },
     "metadata": {}
    }
   ],
   "source": [
    "# pd.set_option('display.max_rows', None)\n",
    "display(wine_red)\n",
    "# pd.set_option('display.max_rows', 32)\n"
   ]
  },
  {
   "cell_type": "code",
   "execution_count": 24,
   "metadata": {},
   "outputs": [
    {
     "output_type": "display_data",
     "data": {
      "text/plain": "fixed acidity           88\nvolatile acidity        88\ncitric acid             88\nresidual sugar          88\nchlorides               88\nflavanoids              88\nfree sulfur dioxide     88\ntotal sulfur dioxide    88\ndensity                 88\npH                      88\nsulphates               88\nmagnesium               88\nalcohol                 88\nlightness               88\ndtype: int64"
     },
     "metadata": {}
    },
    {
     "output_type": "display_data",
     "data": {
      "text/plain": "      fixed acidity  volatile acidity  ...  alcohol  lightness\n7               7.3              0.65  ...    10.00      0.104\n8               7.8              0.58  ...     9.50      0.108\n16              8.5              0.28  ...    10.50      0.096\n36              7.8              0.60  ...    10.80      0.098\n37              8.1              0.38  ...     9.70      0.106\n...             ...               ...  ...      ...        ...\n1478            7.1              0.88  ...    10.20      0.101\n1481            8.2              0.28  ...    10.60      0.097\n1505            6.7              0.76  ...     9.95      0.102\n1537            5.4              0.58  ...    10.20      0.108\n1549            7.4              0.36  ...    11.40      0.096\n\n[88 rows x 14 columns]",
      "text/html": "<div>\n<style scoped>\n    .dataframe tbody tr th:only-of-type {\n        vertical-align: middle;\n    }\n\n    .dataframe tbody tr th {\n        vertical-align: top;\n    }\n\n    .dataframe thead th {\n        text-align: right;\n    }\n</style>\n<table border=\"1\" class=\"dataframe\">\n  <thead>\n    <tr style=\"text-align: right;\">\n      <th></th>\n      <th>fixed acidity</th>\n      <th>volatile acidity</th>\n      <th>citric acid</th>\n      <th>residual sugar</th>\n      <th>chlorides</th>\n      <th>flavanoids</th>\n      <th>free sulfur dioxide</th>\n      <th>total sulfur dioxide</th>\n      <th>density</th>\n      <th>pH</th>\n      <th>sulphates</th>\n      <th>magnesium</th>\n      <th>alcohol</th>\n      <th>lightness</th>\n    </tr>\n  </thead>\n  <tbody>\n    <tr>\n      <th>7</th>\n      <td>7.3</td>\n      <td>0.65</td>\n      <td>0.00</td>\n      <td>1.2</td>\n      <td>0.07</td>\n      <td>0.53</td>\n      <td>15.0</td>\n      <td>21.0</td>\n      <td>1.0</td>\n      <td>3.39</td>\n      <td>0.47</td>\n      <td>0.89</td>\n      <td>10.00</td>\n      <td>0.104</td>\n    </tr>\n    <tr>\n      <th>8</th>\n      <td>7.8</td>\n      <td>0.58</td>\n      <td>0.02</td>\n      <td>2.0</td>\n      <td>0.07</td>\n      <td>0.53</td>\n      <td>9.0</td>\n      <td>18.0</td>\n      <td>1.0</td>\n      <td>3.36</td>\n      <td>0.57</td>\n      <td>0.10</td>\n      <td>9.50</td>\n      <td>0.108</td>\n    </tr>\n    <tr>\n      <th>16</th>\n      <td>8.5</td>\n      <td>0.28</td>\n      <td>0.56</td>\n      <td>1.8</td>\n      <td>0.09</td>\n      <td>0.53</td>\n      <td>13.0</td>\n      <td>103.0</td>\n      <td>1.0</td>\n      <td>3.30</td>\n      <td>0.75</td>\n      <td>0.93</td>\n      <td>10.50</td>\n      <td>0.096</td>\n    </tr>\n    <tr>\n      <th>36</th>\n      <td>7.8</td>\n      <td>0.60</td>\n      <td>0.14</td>\n      <td>2.4</td>\n      <td>0.09</td>\n      <td>0.53</td>\n      <td>3.0</td>\n      <td>15.0</td>\n      <td>1.0</td>\n      <td>3.31</td>\n      <td>0.60</td>\n      <td>0.75</td>\n      <td>10.80</td>\n      <td>0.098</td>\n    </tr>\n    <tr>\n      <th>37</th>\n      <td>8.1</td>\n      <td>0.38</td>\n      <td>0.28</td>\n      <td>2.1</td>\n      <td>0.07</td>\n      <td>0.53</td>\n      <td>13.0</td>\n      <td>30.0</td>\n      <td>1.0</td>\n      <td>3.23</td>\n      <td>0.73</td>\n      <td>0.97</td>\n      <td>9.70</td>\n      <td>0.106</td>\n    </tr>\n    <tr>\n      <th>...</th>\n      <td>...</td>\n      <td>...</td>\n      <td>...</td>\n      <td>...</td>\n      <td>...</td>\n      <td>...</td>\n      <td>...</td>\n      <td>...</td>\n      <td>...</td>\n      <td>...</td>\n      <td>...</td>\n      <td>...</td>\n      <td>...</td>\n      <td>...</td>\n    </tr>\n    <tr>\n      <th>1478</th>\n      <td>7.1</td>\n      <td>0.88</td>\n      <td>0.05</td>\n      <td>5.7</td>\n      <td>0.08</td>\n      <td>0.53</td>\n      <td>3.0</td>\n      <td>14.0</td>\n      <td>1.0</td>\n      <td>3.31</td>\n      <td>0.52</td>\n      <td>0.96</td>\n      <td>10.20</td>\n      <td>0.101</td>\n    </tr>\n    <tr>\n      <th>1481</th>\n      <td>8.2</td>\n      <td>0.28</td>\n      <td>0.60</td>\n      <td>3.0</td>\n      <td>0.10</td>\n      <td>0.53</td>\n      <td>10.0</td>\n      <td>22.0</td>\n      <td>1.0</td>\n      <td>3.39</td>\n      <td>0.68</td>\n      <td>0.01</td>\n      <td>10.60</td>\n      <td>0.097</td>\n    </tr>\n    <tr>\n      <th>1505</th>\n      <td>6.7</td>\n      <td>0.76</td>\n      <td>0.02</td>\n      <td>1.8</td>\n      <td>0.08</td>\n      <td>0.53</td>\n      <td>6.0</td>\n      <td>12.0</td>\n      <td>1.0</td>\n      <td>3.31</td>\n      <td>0.63</td>\n      <td>0.18</td>\n      <td>9.95</td>\n      <td>0.102</td>\n    </tr>\n    <tr>\n      <th>1537</th>\n      <td>5.4</td>\n      <td>0.58</td>\n      <td>0.08</td>\n      <td>1.9</td>\n      <td>0.06</td>\n      <td>0.53</td>\n      <td>20.0</td>\n      <td>31.0</td>\n      <td>1.0</td>\n      <td>3.31</td>\n      <td>0.64</td>\n      <td>0.82</td>\n      <td>10.20</td>\n      <td>0.108</td>\n    </tr>\n    <tr>\n      <th>1549</th>\n      <td>7.4</td>\n      <td>0.36</td>\n      <td>0.30</td>\n      <td>1.8</td>\n      <td>0.07</td>\n      <td>0.53</td>\n      <td>17.0</td>\n      <td>24.0</td>\n      <td>1.0</td>\n      <td>3.24</td>\n      <td>0.70</td>\n      <td>0.11</td>\n      <td>11.40</td>\n      <td>0.096</td>\n    </tr>\n  </tbody>\n</table>\n<p>88 rows × 14 columns</p>\n</div>"
     },
     "metadata": {}
    }
   ],
   "source": [
    "from sklearn.preprocessing import MinMaxScaler\n",
    "# normalize data without noise as a reference value\n",
    "scaler = MinMaxScaler()\n",
    "without_noise = wine_red.drop('quality', axis=1).drop(index=delta_result.index)\n",
    "# calculate medians for features of the normalized data without noise\n",
    "medians_all = pd.DataFrame(scaler.fit_transform(without_noise), columns = without_noise.columns, index=without_noise.index).describe().loc['50%']\n",
    "medians_all_data = without_noise.describe().loc['50%']\n",
    "\n",
    "# set minimum threshold for noise identification as difference between value and median\n",
    "threshold = 0.5\n",
    "\n",
    "# normalize noise data for comparison with median\n",
    "scaler = MinMaxScaler()\n",
    "noise_data = wine_red.loc[delta_result.index].drop('quality', axis=1)\n",
    "noise_data_normalized = pd.DataFrame(scaler.fit_transform(noise_data), columns=noise_data.columns, index=noise_data.index)\n",
    "for row in noise_data_normalized.index:\n",
    "    for column in noise_data_normalized.columns:\n",
    "        col_row_value = noise_data_normalized[column][row]\n",
    "        if abs(medians_all.loc[column] - col_row_value) > threshold:\n",
    "            noise_data_normalized.at[row, column] = medians_all_data.loc[column]\n",
    "        else:\n",
    "            noise_data_normalized.at[row, column] = noise_data.at[row, column]\n",
    "# drop all data that are no noise\n",
    "noise_data_normalized = noise_data_normalized.dropna(how='all')\n",
    "\n",
    "# display sum of noisy identified data by features\n",
    "display(noise_data_normalized.count())\n",
    "\n",
    "# display noisy features\n",
    "display(noise_data_normalized)\n",
    "\n",
    "noise_data_normalized['quality'] = wine_red.loc[delta_result.index]['quality']"
   ]
  },
  {
   "cell_type": "markdown",
   "metadata": {},
   "source": [
    "## REPLACE NOISES WITH CALCULATED VALUES"
   ]
  },
  {
   "cell_type": "code",
   "execution_count": 25,
   "metadata": {},
   "outputs": [
    {
     "output_type": "display_data",
     "data": {
      "text/plain": "      fixed acidity  volatile acidity  citric acid  ...  alcohol  lightness  quality\n7               7.3              0.65         0.00  ...    10.00      0.104      7.0\n8               7.8              0.58         0.02  ...     9.50      0.108      7.0\n16              8.5              0.28         0.56  ...    10.50      0.096      7.0\n36              7.8              0.60         0.14  ...    10.80      0.098      6.0\n37              8.1              0.38         0.28  ...     9.70      0.106      7.0\n...             ...               ...          ...  ...      ...        ...      ...\n1478            7.1              0.88         0.05  ...    10.20      0.101      3.0\n1481            8.2              0.28         0.60  ...    10.60      0.097      5.0\n1505            6.7              0.76         0.02  ...     9.95      0.102      3.0\n1537            5.4              0.58         0.08  ...    10.20      0.108      6.0\n1549            7.4              0.36         0.30  ...    11.40      0.096      8.0\n\n[88 rows x 15 columns]",
      "text/html": "<div>\n<style scoped>\n    .dataframe tbody tr th:only-of-type {\n        vertical-align: middle;\n    }\n\n    .dataframe tbody tr th {\n        vertical-align: top;\n    }\n\n    .dataframe thead th {\n        text-align: right;\n    }\n</style>\n<table border=\"1\" class=\"dataframe\">\n  <thead>\n    <tr style=\"text-align: right;\">\n      <th></th>\n      <th>fixed acidity</th>\n      <th>volatile acidity</th>\n      <th>citric acid</th>\n      <th>residual sugar</th>\n      <th>chlorides</th>\n      <th>flavanoids</th>\n      <th>free sulfur dioxide</th>\n      <th>total sulfur dioxide</th>\n      <th>density</th>\n      <th>pH</th>\n      <th>sulphates</th>\n      <th>magnesium</th>\n      <th>alcohol</th>\n      <th>lightness</th>\n      <th>quality</th>\n    </tr>\n  </thead>\n  <tbody>\n    <tr>\n      <th>7</th>\n      <td>7.3</td>\n      <td>0.65</td>\n      <td>0.00</td>\n      <td>1.2</td>\n      <td>0.07</td>\n      <td>0.53</td>\n      <td>15.0</td>\n      <td>21.0</td>\n      <td>1.0</td>\n      <td>3.39</td>\n      <td>0.47</td>\n      <td>0.89</td>\n      <td>10.00</td>\n      <td>0.104</td>\n      <td>7.0</td>\n    </tr>\n    <tr>\n      <th>8</th>\n      <td>7.8</td>\n      <td>0.58</td>\n      <td>0.02</td>\n      <td>2.0</td>\n      <td>0.07</td>\n      <td>0.53</td>\n      <td>9.0</td>\n      <td>18.0</td>\n      <td>1.0</td>\n      <td>3.36</td>\n      <td>0.57</td>\n      <td>0.10</td>\n      <td>9.50</td>\n      <td>0.108</td>\n      <td>7.0</td>\n    </tr>\n    <tr>\n      <th>16</th>\n      <td>8.5</td>\n      <td>0.28</td>\n      <td>0.56</td>\n      <td>1.8</td>\n      <td>0.09</td>\n      <td>0.53</td>\n      <td>13.0</td>\n      <td>103.0</td>\n      <td>1.0</td>\n      <td>3.30</td>\n      <td>0.75</td>\n      <td>0.93</td>\n      <td>10.50</td>\n      <td>0.096</td>\n      <td>7.0</td>\n    </tr>\n    <tr>\n      <th>36</th>\n      <td>7.8</td>\n      <td>0.60</td>\n      <td>0.14</td>\n      <td>2.4</td>\n      <td>0.09</td>\n      <td>0.53</td>\n      <td>3.0</td>\n      <td>15.0</td>\n      <td>1.0</td>\n      <td>3.31</td>\n      <td>0.60</td>\n      <td>0.75</td>\n      <td>10.80</td>\n      <td>0.098</td>\n      <td>6.0</td>\n    </tr>\n    <tr>\n      <th>37</th>\n      <td>8.1</td>\n      <td>0.38</td>\n      <td>0.28</td>\n      <td>2.1</td>\n      <td>0.07</td>\n      <td>0.53</td>\n      <td>13.0</td>\n      <td>30.0</td>\n      <td>1.0</td>\n      <td>3.23</td>\n      <td>0.73</td>\n      <td>0.97</td>\n      <td>9.70</td>\n      <td>0.106</td>\n      <td>7.0</td>\n    </tr>\n    <tr>\n      <th>...</th>\n      <td>...</td>\n      <td>...</td>\n      <td>...</td>\n      <td>...</td>\n      <td>...</td>\n      <td>...</td>\n      <td>...</td>\n      <td>...</td>\n      <td>...</td>\n      <td>...</td>\n      <td>...</td>\n      <td>...</td>\n      <td>...</td>\n      <td>...</td>\n      <td>...</td>\n    </tr>\n    <tr>\n      <th>1478</th>\n      <td>7.1</td>\n      <td>0.88</td>\n      <td>0.05</td>\n      <td>5.7</td>\n      <td>0.08</td>\n      <td>0.53</td>\n      <td>3.0</td>\n      <td>14.0</td>\n      <td>1.0</td>\n      <td>3.31</td>\n      <td>0.52</td>\n      <td>0.96</td>\n      <td>10.20</td>\n      <td>0.101</td>\n      <td>3.0</td>\n    </tr>\n    <tr>\n      <th>1481</th>\n      <td>8.2</td>\n      <td>0.28</td>\n      <td>0.60</td>\n      <td>3.0</td>\n      <td>0.10</td>\n      <td>0.53</td>\n      <td>10.0</td>\n      <td>22.0</td>\n      <td>1.0</td>\n      <td>3.39</td>\n      <td>0.68</td>\n      <td>0.01</td>\n      <td>10.60</td>\n      <td>0.097</td>\n      <td>5.0</td>\n    </tr>\n    <tr>\n      <th>1505</th>\n      <td>6.7</td>\n      <td>0.76</td>\n      <td>0.02</td>\n      <td>1.8</td>\n      <td>0.08</td>\n      <td>0.53</td>\n      <td>6.0</td>\n      <td>12.0</td>\n      <td>1.0</td>\n      <td>3.31</td>\n      <td>0.63</td>\n      <td>0.18</td>\n      <td>9.95</td>\n      <td>0.102</td>\n      <td>3.0</td>\n    </tr>\n    <tr>\n      <th>1537</th>\n      <td>5.4</td>\n      <td>0.58</td>\n      <td>0.08</td>\n      <td>1.9</td>\n      <td>0.06</td>\n      <td>0.53</td>\n      <td>20.0</td>\n      <td>31.0</td>\n      <td>1.0</td>\n      <td>3.31</td>\n      <td>0.64</td>\n      <td>0.82</td>\n      <td>10.20</td>\n      <td>0.108</td>\n      <td>6.0</td>\n    </tr>\n    <tr>\n      <th>1549</th>\n      <td>7.4</td>\n      <td>0.36</td>\n      <td>0.30</td>\n      <td>1.8</td>\n      <td>0.07</td>\n      <td>0.53</td>\n      <td>17.0</td>\n      <td>24.0</td>\n      <td>1.0</td>\n      <td>3.24</td>\n      <td>0.70</td>\n      <td>0.11</td>\n      <td>11.40</td>\n      <td>0.096</td>\n      <td>8.0</td>\n    </tr>\n  </tbody>\n</table>\n<p>88 rows × 15 columns</p>\n</div>"
     },
     "metadata": {}
    }
   ],
   "source": [
    "wine_red_with_calculated_noise = wine_red.copy(deep=True)\n",
    "wine_red_with_calculated_noise.loc[noise_data_normalized.index]=noise_data_normalized\n",
    "\n",
    "display(wine_red_with_calculated_noise.loc[noise_data_normalized.index])"
   ]
  },
  {
   "cell_type": "markdown",
   "metadata": {},
   "source": [
    "## REMOVE ALL NOISES"
   ]
  },
  {
   "cell_type": "code",
   "execution_count": 26,
   "metadata": {},
   "outputs": [],
   "source": [
    "wine_red_without_noise = wine_red.drop(index=noise_data.index)"
   ]
  },
  {
   "cell_type": "markdown",
   "metadata": {},
   "source": [
    "# Feature Scaling"
   ]
  },
  {
   "cell_type": "code",
   "execution_count": 27,
   "metadata": {},
   "outputs": [
    {
     "output_type": "display_data",
     "data": {
      "text/plain": "      fixed acidity  volatile acidity  citric acid  ...  alcohol  lightness  quality\n0               7.4              0.70         0.00  ...      9.4      0.109      5.0\n1               7.8              0.88         0.00  ...      9.8      0.107      5.0\n2               7.8              0.76         0.04  ...      9.8      0.106      5.0\n3              11.2              0.28         0.56  ...      9.8      0.111      6.0\n4               7.4              0.70         0.00  ...      9.4      0.107      5.0\n...             ...               ...          ...  ...      ...        ...      ...\n1592            6.2              0.60         0.08  ...     10.5      0.102      5.0\n1593            5.9              0.55         0.10  ...     11.2      0.090      6.0\n1594            6.3              0.51         0.13  ...     11.0      0.095      6.0\n1595            5.9              0.65         0.12  ...     10.2      0.104      5.0\n1596            6.0              0.31         0.47  ...     11.0      0.099      6.0\n\n[1528 rows x 15 columns]",
      "text/html": "<div>\n<style scoped>\n    .dataframe tbody tr th:only-of-type {\n        vertical-align: middle;\n    }\n\n    .dataframe tbody tr th {\n        vertical-align: top;\n    }\n\n    .dataframe thead th {\n        text-align: right;\n    }\n</style>\n<table border=\"1\" class=\"dataframe\">\n  <thead>\n    <tr style=\"text-align: right;\">\n      <th></th>\n      <th>fixed acidity</th>\n      <th>volatile acidity</th>\n      <th>citric acid</th>\n      <th>residual sugar</th>\n      <th>chlorides</th>\n      <th>flavanoids</th>\n      <th>free sulfur dioxide</th>\n      <th>total sulfur dioxide</th>\n      <th>density</th>\n      <th>pH</th>\n      <th>sulphates</th>\n      <th>magnesium</th>\n      <th>alcohol</th>\n      <th>lightness</th>\n      <th>quality</th>\n    </tr>\n  </thead>\n  <tbody>\n    <tr>\n      <th>0</th>\n      <td>7.4</td>\n      <td>0.70</td>\n      <td>0.00</td>\n      <td>1.9</td>\n      <td>0.08</td>\n      <td>0.53</td>\n      <td>0.188679</td>\n      <td>0.187919</td>\n      <td>1.00</td>\n      <td>3.51</td>\n      <td>0.56</td>\n      <td>0.86</td>\n      <td>9.4</td>\n      <td>0.109</td>\n      <td>5.0</td>\n    </tr>\n    <tr>\n      <th>1</th>\n      <td>7.8</td>\n      <td>0.88</td>\n      <td>0.00</td>\n      <td>2.6</td>\n      <td>0.10</td>\n      <td>0.53</td>\n      <td>0.452830</td>\n      <td>0.409396</td>\n      <td>1.00</td>\n      <td>3.20</td>\n      <td>0.68</td>\n      <td>0.56</td>\n      <td>9.8</td>\n      <td>0.107</td>\n      <td>5.0</td>\n    </tr>\n    <tr>\n      <th>2</th>\n      <td>7.8</td>\n      <td>0.76</td>\n      <td>0.04</td>\n      <td>2.3</td>\n      <td>0.09</td>\n      <td>0.53</td>\n      <td>0.264151</td>\n      <td>0.322148</td>\n      <td>1.00</td>\n      <td>3.26</td>\n      <td>0.65</td>\n      <td>0.47</td>\n      <td>9.8</td>\n      <td>0.106</td>\n      <td>5.0</td>\n    </tr>\n    <tr>\n      <th>3</th>\n      <td>11.2</td>\n      <td>0.28</td>\n      <td>0.56</td>\n      <td>1.9</td>\n      <td>0.08</td>\n      <td>0.53</td>\n      <td>0.301887</td>\n      <td>0.362416</td>\n      <td>1.00</td>\n      <td>3.16</td>\n      <td>0.58</td>\n      <td>0.33</td>\n      <td>9.8</td>\n      <td>0.111</td>\n      <td>6.0</td>\n    </tr>\n    <tr>\n      <th>4</th>\n      <td>7.4</td>\n      <td>0.70</td>\n      <td>0.00</td>\n      <td>1.9</td>\n      <td>0.08</td>\n      <td>0.53</td>\n      <td>0.188679</td>\n      <td>0.187919</td>\n      <td>1.00</td>\n      <td>3.51</td>\n      <td>0.56</td>\n      <td>0.91</td>\n      <td>9.4</td>\n      <td>0.107</td>\n      <td>5.0</td>\n    </tr>\n    <tr>\n      <th>...</th>\n      <td>...</td>\n      <td>...</td>\n      <td>...</td>\n      <td>...</td>\n      <td>...</td>\n      <td>...</td>\n      <td>...</td>\n      <td>...</td>\n      <td>...</td>\n      <td>...</td>\n      <td>...</td>\n      <td>...</td>\n      <td>...</td>\n      <td>...</td>\n      <td>...</td>\n    </tr>\n    <tr>\n      <th>1592</th>\n      <td>6.2</td>\n      <td>0.60</td>\n      <td>0.08</td>\n      <td>2.0</td>\n      <td>0.09</td>\n      <td>0.53</td>\n      <td>0.584906</td>\n      <td>0.255034</td>\n      <td>0.99</td>\n      <td>3.31</td>\n      <td>0.58</td>\n      <td>0.98</td>\n      <td>10.5</td>\n      <td>0.102</td>\n      <td>5.0</td>\n    </tr>\n    <tr>\n      <th>1593</th>\n      <td>5.9</td>\n      <td>0.55</td>\n      <td>0.10</td>\n      <td>2.2</td>\n      <td>0.06</td>\n      <td>0.53</td>\n      <td>0.716981</td>\n      <td>0.302013</td>\n      <td>1.00</td>\n      <td>3.52</td>\n      <td>0.76</td>\n      <td>0.82</td>\n      <td>11.2</td>\n      <td>0.090</td>\n      <td>6.0</td>\n    </tr>\n    <tr>\n      <th>1594</th>\n      <td>6.3</td>\n      <td>0.51</td>\n      <td>0.13</td>\n      <td>2.3</td>\n      <td>0.08</td>\n      <td>0.53</td>\n      <td>0.528302</td>\n      <td>0.228188</td>\n      <td>1.00</td>\n      <td>3.42</td>\n      <td>0.75</td>\n      <td>0.71</td>\n      <td>11.0</td>\n      <td>0.095</td>\n      <td>6.0</td>\n    </tr>\n    <tr>\n      <th>1595</th>\n      <td>5.9</td>\n      <td>0.65</td>\n      <td>0.12</td>\n      <td>2.0</td>\n      <td>0.08</td>\n      <td>0.53</td>\n      <td>0.584906</td>\n      <td>0.255034</td>\n      <td>1.00</td>\n      <td>3.57</td>\n      <td>0.71</td>\n      <td>0.33</td>\n      <td>10.2</td>\n      <td>0.104</td>\n      <td>5.0</td>\n    </tr>\n    <tr>\n      <th>1596</th>\n      <td>6.0</td>\n      <td>0.31</td>\n      <td>0.47</td>\n      <td>3.6</td>\n      <td>0.07</td>\n      <td>0.53</td>\n      <td>0.320755</td>\n      <td>0.241611</td>\n      <td>1.00</td>\n      <td>3.39</td>\n      <td>0.66</td>\n      <td>0.17</td>\n      <td>11.0</td>\n      <td>0.099</td>\n      <td>6.0</td>\n    </tr>\n  </tbody>\n</table>\n<p>1528 rows × 15 columns</p>\n</div>"
     },
     "metadata": {}
    },
    {
     "output_type": "display_data",
     "data": {
      "text/plain": "      fixed acidity  volatile acidity  citric acid  ...  alcohol  lightness  quality\n0               7.4              0.70         0.00  ...      9.4      0.109      5.0\n1               7.8              0.88         0.00  ...      9.8      0.107      5.0\n2               7.8              0.76         0.04  ...      9.8      0.106      5.0\n3              11.2              0.28         0.56  ...      9.8      0.111      6.0\n4               7.4              0.70         0.00  ...      9.4      0.107      5.0\n...             ...               ...          ...  ...      ...        ...      ...\n1592            6.2              0.60         0.08  ...     10.5      0.102      5.0\n1593            5.9              0.55         0.10  ...     11.2      0.090      6.0\n1594            6.3              0.51         0.13  ...     11.0      0.095      6.0\n1595            5.9              0.65         0.12  ...     10.2      0.104      5.0\n1596            6.0              0.31         0.47  ...     11.0      0.099      6.0\n\n[1440 rows x 15 columns]",
      "text/html": "<div>\n<style scoped>\n    .dataframe tbody tr th:only-of-type {\n        vertical-align: middle;\n    }\n\n    .dataframe tbody tr th {\n        vertical-align: top;\n    }\n\n    .dataframe thead th {\n        text-align: right;\n    }\n</style>\n<table border=\"1\" class=\"dataframe\">\n  <thead>\n    <tr style=\"text-align: right;\">\n      <th></th>\n      <th>fixed acidity</th>\n      <th>volatile acidity</th>\n      <th>citric acid</th>\n      <th>residual sugar</th>\n      <th>chlorides</th>\n      <th>flavanoids</th>\n      <th>free sulfur dioxide</th>\n      <th>total sulfur dioxide</th>\n      <th>density</th>\n      <th>pH</th>\n      <th>sulphates</th>\n      <th>magnesium</th>\n      <th>alcohol</th>\n      <th>lightness</th>\n      <th>quality</th>\n    </tr>\n  </thead>\n  <tbody>\n    <tr>\n      <th>0</th>\n      <td>7.4</td>\n      <td>0.70</td>\n      <td>0.00</td>\n      <td>1.9</td>\n      <td>0.08</td>\n      <td>0.53</td>\n      <td>0.188679</td>\n      <td>0.187919</td>\n      <td>1.00</td>\n      <td>3.51</td>\n      <td>0.56</td>\n      <td>0.86</td>\n      <td>9.4</td>\n      <td>0.109</td>\n      <td>5.0</td>\n    </tr>\n    <tr>\n      <th>1</th>\n      <td>7.8</td>\n      <td>0.88</td>\n      <td>0.00</td>\n      <td>2.6</td>\n      <td>0.10</td>\n      <td>0.53</td>\n      <td>0.452830</td>\n      <td>0.409396</td>\n      <td>1.00</td>\n      <td>3.20</td>\n      <td>0.68</td>\n      <td>0.56</td>\n      <td>9.8</td>\n      <td>0.107</td>\n      <td>5.0</td>\n    </tr>\n    <tr>\n      <th>2</th>\n      <td>7.8</td>\n      <td>0.76</td>\n      <td>0.04</td>\n      <td>2.3</td>\n      <td>0.09</td>\n      <td>0.53</td>\n      <td>0.264151</td>\n      <td>0.322148</td>\n      <td>1.00</td>\n      <td>3.26</td>\n      <td>0.65</td>\n      <td>0.47</td>\n      <td>9.8</td>\n      <td>0.106</td>\n      <td>5.0</td>\n    </tr>\n    <tr>\n      <th>3</th>\n      <td>11.2</td>\n      <td>0.28</td>\n      <td>0.56</td>\n      <td>1.9</td>\n      <td>0.08</td>\n      <td>0.53</td>\n      <td>0.301887</td>\n      <td>0.362416</td>\n      <td>1.00</td>\n      <td>3.16</td>\n      <td>0.58</td>\n      <td>0.33</td>\n      <td>9.8</td>\n      <td>0.111</td>\n      <td>6.0</td>\n    </tr>\n    <tr>\n      <th>4</th>\n      <td>7.4</td>\n      <td>0.70</td>\n      <td>0.00</td>\n      <td>1.9</td>\n      <td>0.08</td>\n      <td>0.53</td>\n      <td>0.188679</td>\n      <td>0.187919</td>\n      <td>1.00</td>\n      <td>3.51</td>\n      <td>0.56</td>\n      <td>0.91</td>\n      <td>9.4</td>\n      <td>0.107</td>\n      <td>5.0</td>\n    </tr>\n    <tr>\n      <th>...</th>\n      <td>...</td>\n      <td>...</td>\n      <td>...</td>\n      <td>...</td>\n      <td>...</td>\n      <td>...</td>\n      <td>...</td>\n      <td>...</td>\n      <td>...</td>\n      <td>...</td>\n      <td>...</td>\n      <td>...</td>\n      <td>...</td>\n      <td>...</td>\n      <td>...</td>\n    </tr>\n    <tr>\n      <th>1592</th>\n      <td>6.2</td>\n      <td>0.60</td>\n      <td>0.08</td>\n      <td>2.0</td>\n      <td>0.09</td>\n      <td>0.53</td>\n      <td>0.584906</td>\n      <td>0.255034</td>\n      <td>0.99</td>\n      <td>3.31</td>\n      <td>0.58</td>\n      <td>0.98</td>\n      <td>10.5</td>\n      <td>0.102</td>\n      <td>5.0</td>\n    </tr>\n    <tr>\n      <th>1593</th>\n      <td>5.9</td>\n      <td>0.55</td>\n      <td>0.10</td>\n      <td>2.2</td>\n      <td>0.06</td>\n      <td>0.53</td>\n      <td>0.716981</td>\n      <td>0.302013</td>\n      <td>1.00</td>\n      <td>3.52</td>\n      <td>0.76</td>\n      <td>0.82</td>\n      <td>11.2</td>\n      <td>0.090</td>\n      <td>6.0</td>\n    </tr>\n    <tr>\n      <th>1594</th>\n      <td>6.3</td>\n      <td>0.51</td>\n      <td>0.13</td>\n      <td>2.3</td>\n      <td>0.08</td>\n      <td>0.53</td>\n      <td>0.528302</td>\n      <td>0.228188</td>\n      <td>1.00</td>\n      <td>3.42</td>\n      <td>0.75</td>\n      <td>0.71</td>\n      <td>11.0</td>\n      <td>0.095</td>\n      <td>6.0</td>\n    </tr>\n    <tr>\n      <th>1595</th>\n      <td>5.9</td>\n      <td>0.65</td>\n      <td>0.12</td>\n      <td>2.0</td>\n      <td>0.08</td>\n      <td>0.53</td>\n      <td>0.584906</td>\n      <td>0.255034</td>\n      <td>1.00</td>\n      <td>3.57</td>\n      <td>0.71</td>\n      <td>0.33</td>\n      <td>10.2</td>\n      <td>0.104</td>\n      <td>5.0</td>\n    </tr>\n    <tr>\n      <th>1596</th>\n      <td>6.0</td>\n      <td>0.31</td>\n      <td>0.47</td>\n      <td>3.6</td>\n      <td>0.07</td>\n      <td>0.53</td>\n      <td>0.320755</td>\n      <td>0.241611</td>\n      <td>1.00</td>\n      <td>3.39</td>\n      <td>0.66</td>\n      <td>0.17</td>\n      <td>11.0</td>\n      <td>0.099</td>\n      <td>6.0</td>\n    </tr>\n  </tbody>\n</table>\n<p>1440 rows × 15 columns</p>\n</div>"
     },
     "metadata": {}
    }
   ],
   "source": [
    "from datasets import normalize_feature\n",
    "\n",
    "wine_red_with_calculated_noise = normalize_feature(wine_red_with_calculated_noise, 'total sulfur dioxide')\n",
    "wine_red_without_noise = normalize_feature(wine_red_without_noise, 'total sulfur dioxide')\n",
    "wine_red_with_calculated_noise = normalize_feature(wine_red_with_calculated_noise, 'free sulfur dioxide')\n",
    "wine_red_without_noise = normalize_feature(wine_red_without_noise, 'free sulfur dioxide')\n",
    "\n",
    "display(wine_red_with_calculated_noise)\n",
    "display(wine_red_without_noise)"
   ]
  },
  {
   "cell_type": "code",
   "execution_count": null,
   "metadata": {},
   "outputs": [],
   "source": [
    "\n",
    "wine_red_with_calculated_noise = normalize_feature(wine_red_with_calculated_noise, 'total sulfur dioxide')\n",
    "wine_red_without_noise = normalize_feature(wine_red_without_noise, 'total sulfur dioxide')\n",
    "wine_red_with_calculated_noise = normalize_feature(wine_red_with_calculated_noise, 'free sulfur dioxide')\n",
    "wine_red_without_noise = normalize_feature(wine_red_without_noise, 'free sulfur dioxide')\n",
    "\n",
    "display(wine_red_with_calculated_noise)\n",
    "display(wine_red_without_noise)"
   ]
  },
  {
   "cell_type": "markdown",
   "metadata": {},
   "source": [
    "# Feature selection"
   ]
  },
  {
   "cell_type": "markdown",
   "metadata": {},
   "source": [
    "calculate information gain and vif after handling missing values. Compare it to results from exploration phase"
   ]
  },
  {
   "cell_type": "code",
   "execution_count": 11,
   "metadata": {},
   "outputs": [
    {
     "output_type": "stream",
     "name": "stdout",
     "text": [
      "Information Gain without noise\n"
     ]
    },
    {
     "output_type": "display_data",
     "data": {
      "text/plain": "                         score\nalcohol               0.189062\nlightness             0.159752\nsulphates             0.114325\nvolatile acidity      0.110003\ntotal sulfur dioxide  0.087028\ncitric acid           0.077988\nfixed acidity         0.045807\nchlorides             0.027774\npH                    0.025088\ndensity               0.022541\nfree sulfur dioxide   0.019831\nresidual sugar        0.018598\nmagnesium             0.009450\nflavanoids            0.000491",
      "text/html": "<div>\n<style scoped>\n    .dataframe tbody tr th:only-of-type {\n        vertical-align: middle;\n    }\n\n    .dataframe tbody tr th {\n        vertical-align: top;\n    }\n\n    .dataframe thead th {\n        text-align: right;\n    }\n</style>\n<table border=\"1\" class=\"dataframe\">\n  <thead>\n    <tr style=\"text-align: right;\">\n      <th></th>\n      <th>score</th>\n    </tr>\n  </thead>\n  <tbody>\n    <tr>\n      <th>alcohol</th>\n      <td>0.189062</td>\n    </tr>\n    <tr>\n      <th>lightness</th>\n      <td>0.159752</td>\n    </tr>\n    <tr>\n      <th>sulphates</th>\n      <td>0.114325</td>\n    </tr>\n    <tr>\n      <th>volatile acidity</th>\n      <td>0.110003</td>\n    </tr>\n    <tr>\n      <th>total sulfur dioxide</th>\n      <td>0.087028</td>\n    </tr>\n    <tr>\n      <th>citric acid</th>\n      <td>0.077988</td>\n    </tr>\n    <tr>\n      <th>fixed acidity</th>\n      <td>0.045807</td>\n    </tr>\n    <tr>\n      <th>chlorides</th>\n      <td>0.027774</td>\n    </tr>\n    <tr>\n      <th>pH</th>\n      <td>0.025088</td>\n    </tr>\n    <tr>\n      <th>density</th>\n      <td>0.022541</td>\n    </tr>\n    <tr>\n      <th>free sulfur dioxide</th>\n      <td>0.019831</td>\n    </tr>\n    <tr>\n      <th>residual sugar</th>\n      <td>0.018598</td>\n    </tr>\n    <tr>\n      <th>magnesium</th>\n      <td>0.009450</td>\n    </tr>\n    <tr>\n      <th>flavanoids</th>\n      <td>0.000491</td>\n    </tr>\n  </tbody>\n</table>\n</div>"
     },
     "metadata": {}
    },
    {
     "output_type": "stream",
     "name": "stdout",
     "text": [
      "Information Gain with calculated noise\n"
     ]
    },
    {
     "output_type": "display_data",
     "data": {
      "text/plain": "                         score\nalcohol               0.182394\nlightness             0.128375\nsulphates             0.117595\nvolatile acidity      0.114171\ntotal sulfur dioxide  0.085487\ncitric acid           0.069958\nfixed acidity         0.058059\npH                    0.057919\ndensity               0.024662\nresidual sugar        0.022913\nchlorides             0.022583\nfree sulfur dioxide   0.020855\nmagnesium             0.005761\nflavanoids            0.000531",
      "text/html": "<div>\n<style scoped>\n    .dataframe tbody tr th:only-of-type {\n        vertical-align: middle;\n    }\n\n    .dataframe tbody tr th {\n        vertical-align: top;\n    }\n\n    .dataframe thead th {\n        text-align: right;\n    }\n</style>\n<table border=\"1\" class=\"dataframe\">\n  <thead>\n    <tr style=\"text-align: right;\">\n      <th></th>\n      <th>score</th>\n    </tr>\n  </thead>\n  <tbody>\n    <tr>\n      <th>alcohol</th>\n      <td>0.182394</td>\n    </tr>\n    <tr>\n      <th>lightness</th>\n      <td>0.128375</td>\n    </tr>\n    <tr>\n      <th>sulphates</th>\n      <td>0.117595</td>\n    </tr>\n    <tr>\n      <th>volatile acidity</th>\n      <td>0.114171</td>\n    </tr>\n    <tr>\n      <th>total sulfur dioxide</th>\n      <td>0.085487</td>\n    </tr>\n    <tr>\n      <th>citric acid</th>\n      <td>0.069958</td>\n    </tr>\n    <tr>\n      <th>fixed acidity</th>\n      <td>0.058059</td>\n    </tr>\n    <tr>\n      <th>pH</th>\n      <td>0.057919</td>\n    </tr>\n    <tr>\n      <th>density</th>\n      <td>0.024662</td>\n    </tr>\n    <tr>\n      <th>residual sugar</th>\n      <td>0.022913</td>\n    </tr>\n    <tr>\n      <th>chlorides</th>\n      <td>0.022583</td>\n    </tr>\n    <tr>\n      <th>free sulfur dioxide</th>\n      <td>0.020855</td>\n    </tr>\n    <tr>\n      <th>magnesium</th>\n      <td>0.005761</td>\n    </tr>\n    <tr>\n      <th>flavanoids</th>\n      <td>0.000531</td>\n    </tr>\n  </tbody>\n</table>\n</div>"
     },
     "metadata": {}
    }
   ],
   "source": [
    "from datasets import get_kbest_sorted\n",
    "from sklearn.feature_selection import mutual_info_regression\n",
    "\n",
    "print('Information Gain without noise')\n",
    "x = wine_red_without_noise.drop('quality', axis=1)\n",
    "y = wine_red_without_noise['quality']\n",
    "display(get_kbest_sorted(mutual_info_regression, x, y, 25))\n",
    "\n",
    "print('Information Gain with calculated noise')\n",
    "x = wine_red_with_calculated_noise.drop('quality', axis=1)\n",
    "y = wine_red_with_calculated_noise['quality']\n",
    "display(get_kbest_sorted(mutual_info_regression, x, y, 25))"
   ]
  },
  {
   "cell_type": "code",
   "execution_count": 12,
   "metadata": {},
   "outputs": [
    {
     "output_type": "display_data",
     "data": {
      "text/plain": "'VIF Factors without noise'"
     },
     "metadata": {}
    },
    {
     "output_type": "display_data",
     "data": {
      "text/plain": "fixed acidity                2.33\nvolatile acidity             1.83\ncitric acid                  3.20\nresidual sugar               1.10\nchlorides                    1.11\nflavanoids              150997.92\nfree sulfur dioxide          1.92\ntotal sulfur dioxide         2.18\ndensity                      1.56\npH                           1.00\nsulphates                    1.23\nmagnesium                    1.01\nalcohol                     10.01\nlightness                    9.37\ndtype: float64"
     },
     "metadata": {}
    },
    {
     "output_type": "display_data",
     "data": {
      "text/plain": "'VIF Factors with calculated noise'"
     },
     "metadata": {}
    },
    {
     "output_type": "display_data",
     "data": {
      "text/plain": "fixed acidity                2.21\nvolatile acidity             1.81\ncitric acid                  3.05\nresidual sugar               1.10\nchlorides                    1.11\nflavanoids              151523.19\nfree sulfur dioxide          1.92\ntotal sulfur dioxide         2.17\ndensity                      1.50\npH                           1.00\nsulphates                    1.22\nmagnesium                    1.00\nalcohol                      8.45\nlightness                    7.85\ndtype: float64"
     },
     "metadata": {}
    }
   ],
   "source": [
    "from datasets import get_vifs\n",
    "\n",
    "x = wine_red_without_noise.drop('quality', axis=1)\n",
    "vif_factors = get_vifs(x)\n",
    "display('VIF Factors without noise', vif_factors)\n",
    "x = wine_red_with_calculated_noise.drop('quality', axis=1)\n",
    "vif_factors = get_vifs(x)\n",
    "display('VIF Factors with calculated noise', vif_factors)"
   ]
  },
  {
   "cell_type": "markdown",
   "metadata": {},
   "source": [
    "missing values don't seem to have a big effect on information gain and vif"
   ]
  },
  {
   "cell_type": "code",
   "execution_count": 13,
   "metadata": {},
   "outputs": [
    {
     "output_type": "stream",
     "name": "stdout",
     "text": [
      "Score before:  0.5673202614379085\n",
      "Score after without noise:  0.6040221914008321\n",
      "Score after with calculated noise:  0.5777777777777777\n"
     ]
    }
   ],
   "source": [
    "from datasets import get_logist_regression_kfold_score\n",
    "\n",
    "X = wine_red.drop('quality', axis=1)\n",
    "y = wine_red['quality']\n",
    "score_before = get_logist_regression_kfold_score(X,y)\n",
    "print('Score before: ', score_before)\n",
    "\n",
    "selected_features = ['fixed acidity','volatile acidity','citric acid','residual sugar','chlorides','free sulfur dioxide','total sulfur dioxide','density','pH','sulphates','magnesium','alcohol','lightness','quality']\n",
    "selected_features = ['fixed acidity','citric acid','chlorides','total sulfur dioxide','sulphates','alcohol','quality']\n",
    "wine_red_without_noise_selected = wine_red_without_noise[selected_features]\n",
    "wine_red_with_calculated_noise_selected = wine_red_with_calculated_noise[selected_features]\n",
    "\n",
    "X = wine_red_without_noise_selected.drop('quality', axis=1)\n",
    "y = wine_red_without_noise_selected['quality']\n",
    "\n",
    "score_after = get_logist_regression_kfold_score(X,y)\n",
    "print('Score after without noise: ', score_after)\n",
    "\n",
    "X = wine_red_with_calculated_noise_selected.drop('quality', axis=1)\n",
    "y = wine_red_with_calculated_noise_selected['quality']\n",
    "\n",
    "score_after = get_logist_regression_kfold_score(X,y)\n",
    "print('Score after with calculated noise: ', score_after)\n",
    "\n",
    "wine_red_without_noise = wine_red_without_noise[selected_features]\n",
    "wine_red_with_calculated_noise = wine_red_with_calculated_noise[selected_features]"
   ]
  },
  {
   "cell_type": "markdown",
   "metadata": {},
   "source": [
    "Compare result to PCA "
   ]
  },
  {
   "cell_type": "code",
   "execution_count": 14,
   "metadata": {},
   "outputs": [
    {
     "output_type": "stream",
     "name": "stdout",
     "text": [
      "Score before:  0.5673202614379085\n",
      "Score after without noise:  0.5880721220527045\n",
      "Score after with calculated noise:  0.5581699346405229\n"
     ]
    }
   ],
   "source": [
    "import numpy as np\n",
    "import pandas as pd\n",
    "from datasets import get_logist_regression_kfold_score\n",
    "from sklearn import decomposition\n",
    "\n",
    "#Perform PCA with 3 dimensions\n",
    "num_components=3\n",
    "pca = decomposition.PCA(n_components=2)\n",
    "#Only use features\n",
    "x=wine_red_without_noise.drop('quality', axis=1)\n",
    "pca.fit(x)\n",
    "x_tran = pca.transform(x)\n",
    "y_tran = wine_red_without_noise['quality']\n",
    "\n",
    "X = wine_red.drop('quality', axis=1)\n",
    "y = wine_red['quality']\n",
    "score_before = get_logist_regression_kfold_score(X,y)\n",
    "print('Score before: ', score_before)\n",
    "score_after = get_logist_regression_kfold_score(x_tran,y_tran)\n",
    "print('Score after without noise: ', score_after)\n",
    "\n",
    "pca = decomposition.PCA(n_components=2)\n",
    "#Only use features\n",
    "x=wine_red_with_calculated_noise.drop('quality', axis=1)\n",
    "pca.fit(x)\n",
    "x_tran = pca.transform(x)\n",
    "y_tran = wine_red_with_calculated_noise['quality']\n",
    "\n",
    "score_after = get_logist_regression_kfold_score(x_tran,y_tran)\n",
    "print('Score after with calculated noise: ', score_after)"
   ]
  },
  {
   "source": [
    "## Forward Selection"
   ],
   "cell_type": "markdown",
   "metadata": {}
  },
  {
   "cell_type": "code",
   "execution_count": 67,
   "metadata": {},
   "outputs": [
    {
     "output_type": "stream",
     "name": "stdout",
     "text": [
      "Score with features ['fixed acidity']: 0.44375\n",
      "Score with features ['fixed acidity', 'volatile acidity']: 0.5090277777777777\n",
      "skipping feature citric acid\n",
      "skipping feature residual sugar\n",
      "skipping feature chlorides\n",
      "skipping feature flavanoids\n",
      "skipping feature free sulfur dioxide\n",
      "Score with features ['fixed acidity', 'volatile acidity', 'total sulfur dioxide']: 0.5375\n",
      "skipping feature density\n",
      "skipping feature pH\n",
      "Score with features ['fixed acidity', 'volatile acidity', 'total sulfur dioxide', 'sulphates']: 0.5715277777777777\n",
      "skipping feature magnesium\n",
      "Score with features ['fixed acidity', 'volatile acidity', 'total sulfur dioxide', 'sulphates', 'alcohol']: 0.6145833333333334\n",
      "Score with features ['fixed acidity', 'volatile acidity', 'total sulfur dioxide', 'sulphates', 'alcohol', 'lightness']: 0.6173611111111111\n",
      "Score with features ['fixed acidity']: 0.4181937172774869\n",
      "Score with features ['fixed acidity', 'volatile acidity']: 0.4829842931937173\n",
      "skipping feature citric acid\n",
      "Score with features ['fixed acidity', 'volatile acidity', 'residual sugar']: 0.4836387434554974\n",
      "Score with features ['fixed acidity', 'volatile acidity', 'residual sugar', 'chlorides']: 0.49149214659685864\n",
      "skipping feature flavanoids\n",
      "skipping feature free sulfur dioxide\n",
      "Score with features ['fixed acidity', 'volatile acidity', 'residual sugar', 'chlorides', 'total sulfur dioxide']: 0.5104712041884817\n",
      "skipping feature density\n",
      "skipping feature pH\n",
      "Score with features ['fixed acidity', 'volatile acidity', 'residual sugar', 'chlorides', 'total sulfur dioxide', 'sulphates']: 0.5445026178010471\n",
      "skipping feature magnesium\n",
      "Score with features ['fixed acidity', 'volatile acidity', 'residual sugar', 'chlorides', 'total sulfur dioxide', 'sulphates', 'alcohol']: 0.5863874345549738\n",
      "Score with features ['fixed acidity', 'volatile acidity', 'residual sugar', 'chlorides', 'total sulfur dioxide', 'sulphates', 'alcohol', 'lightness']: 0.5981675392670157\n"
     ]
    }
   ],
   "source": [
    "from datasets import get_logist_regression_kfold_score\n",
    "\n",
    "def perform_forward_selection(data, columns):\n",
    "    score = 0\n",
    "    columns_to_use = []\n",
    "    for column in columns:\n",
    "        columns_to_use.append(column)\n",
    "        x = data[columns_to_use] \n",
    "        y = data['quality']\n",
    "        score_temp = get_logist_regression_kfold_score(x,y)\n",
    "        if score_temp - score < 0:\n",
    "            columns_to_use.remove(column)\n",
    "            print(f\"skipping feature {column}\")\n",
    "            continue\n",
    "        score = score_temp\n",
    "        print(f\"Score with features {columns_to_use}: {score}\")\n",
    "        return columns_to_use\n",
    "\n",
    "columns = wine_red_without_noise.columns.tolist()\n",
    "columns.remove('quality')\n",
    "perform_forward_selection(wine_red_without_noise, columns)\n",
    "\n",
    "columns = wine_red_with_calculated_noise.columns.tolist()\n",
    "columns.remove('quality')\n",
    "perform_forward_selection(wine_red_with_calculated_noise, columns)"
   ]
  },
  {
   "cell_type": "markdown",
   "metadata": {},
   "source": [
    "# Evaluation"
   ]
  },
  {
   "cell_type": "code",
   "execution_count": 17,
   "metadata": {},
   "outputs": [
    {
     "output_type": "stream",
     "name": "stdout",
     "text": [
      "Score before preprocessing 0.5533546325878594\n",
      "Score after preprocessing without noise 0.6040221914008321\n",
      "Score after preprocessing with calculated noise 0.5777777777777777\n"
     ]
    }
   ],
   "source": [
    "from datasets import wine_red_dataset, get_logist_regression_kfold_score\n",
    "\n",
    "wine_red_pure = wine_red_dataset().dropna()\n",
    "\n",
    "x = wine_red_pure.drop('quality', axis=1).drop('ID', axis=1)\n",
    "y = wine_red_pure['quality']\n",
    "score_before = get_logist_regression_kfold_score(x,y)\n",
    "print('Score before preprocessing', score_before)\n",
    "\n",
    "x = wine_red_without_noise.drop('quality', axis=1)\n",
    "y = wine_red_without_noise['quality']\n",
    "score_after = get_logist_regression_kfold_score(x,y)\n",
    "print('Score after preprocessing without noise', score_after)\n",
    "\n",
    "x = wine_red_with_calculated_noise.drop('quality', axis=1)\n",
    "y = wine_red_with_calculated_noise['quality']\n",
    "score_after = get_logist_regression_kfold_score(x,y)\n",
    "print('Score after preprocessing with calculated noise', score_after)"
   ]
  },
  {
   "cell_type": "code",
   "execution_count": null,
   "metadata": {},
   "outputs": [],
   "source": []
  }
 ],
 "metadata": {
  "kernelspec": {
   "display_name": "Python 3",
   "language": "python",
   "name": "python3"
  },
  "language_info": {
   "codemirror_mode": {
    "name": "ipython",
    "version": 3
   },
   "file_extension": ".py",
   "mimetype": "text/x-python",
   "name": "python",
   "nbconvert_exporter": "python",
   "pygments_lexer": "ipython3",
   "version": "3.8.3-final"
  }
 },
 "nbformat": 4,
 "nbformat_minor": 2
}