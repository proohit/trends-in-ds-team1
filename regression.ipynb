{
 "metadata": {
  "language_info": {
   "codemirror_mode": {
    "name": "ipython",
    "version": 3
   },
   "file_extension": ".py",
   "mimetype": "text/x-python",
   "name": "python",
   "nbconvert_exporter": "python",
   "pygments_lexer": "ipython3",
   "version": "3.8.3-final"
  },
  "orig_nbformat": 2,
  "kernelspec": {
   "name": "python3",
   "display_name": "Python 3.8.3 64-bit (conda)",
   "metadata": {
    "interpreter": {
     "hash": "f91b45585d66f8d42d8b427d8cc68ebdca9f95f539a3fd1ad17d4bc574d871b8"
    }
   }
  }
 },
 "nbformat": 4,
 "nbformat_minor": 2,
 "cells": [
  {
   "cell_type": "code",
   "execution_count": 1,
   "metadata": {},
   "outputs": [
    {
     "output_type": "stream",
     "name": "stdout",
     "text": [
      "Descriptive statistics wine red \n                 ID  fixed acidity  volatile acidity  citric acid  \\\ncount  1597.000000    1580.000000       1597.000000  1597.000000   \nmean    799.013150       8.324747          0.528535     0.270946   \nstd     461.181154       1.744595          0.179698     0.194854   \nmin       1.000000       4.600000          0.120000     0.000000   \n25%     400.000000       7.100000          0.390000     0.090000   \n50%     799.000000       7.900000          0.520000     0.260000   \n75%    1198.000000       9.225000          0.640000     0.420000   \nmax    1599.000000      15.900000          1.580000     1.000000   \n\n       residual sugar   chlorides    flavanoids  free sulfur dioxide  \\\ncount     1597.000000  1597.00000  1.597000e+03          1597.000000   \nmean         2.539355     0.08789  5.300000e-01            15.863494   \nstd          1.410686     0.04714  1.865759e-14            10.461657   \nmin          0.900000     0.01000  5.300000e-01             1.000000   \n25%          1.900000     0.07000  5.300000e-01             7.000000   \n50%          2.200000     0.08000  5.300000e-01            14.000000   \n75%          2.600000     0.09000  5.300000e-01            21.000000   \nmax         15.500000     0.61000  5.300000e-01            72.000000   \n\n       total sulfur dioxide      density           pH    sulphates  \\\ncount           1597.000000  1597.000000  1582.000000  1597.000000   \nmean              46.482780     0.998516     3.451732     0.657959   \nstd               32.913194     0.003556     3.456649     0.169527   \nmin                6.000000     0.990000     2.740000     0.330000   \n25%               22.000000     1.000000     3.210000     0.550000   \n50%               38.000000     1.000000     3.310000     0.620000   \n75%               62.000000     1.000000     3.400000     0.730000   \nmax              289.000000     1.000000    99.990000     2.000000   \n\n         magnesium      alcohol    lightness      quality  \ncount  1597.000000  1597.000000  1597.000000  1597.000000  \nmean      0.498585    10.421509     0.102004     5.634941  \nstd       0.286239     1.065529     0.009577     0.807302  \nmin       0.000000     8.400000     0.071000     3.000000  \n25%       0.260000     9.500000     0.095000     5.000000  \n50%       0.510000    10.200000     0.103000     6.000000  \n75%       0.740000    11.100000     0.110000     6.000000  \nmax       1.000000    14.900000     0.128000     8.000000  \nDescriptive statistics wine white \n                  ID fixed acidity volatile acidity citric acid residual sugar  \\\ncount   4896.000000          4896             4896        4896           4896   \nunique          NaN            68              125          87            310   \ntop             NaN           6,8             0,28         0,3            1,2   \nfreq            NaN           308              263         307            187   \nmean    2449.753268           NaN              NaN         NaN            NaN   \nstd     1414.099561           NaN              NaN         NaN            NaN   \nmin        1.000000           NaN              NaN         NaN            NaN   \n25%     1225.750000           NaN              NaN         NaN            NaN   \n50%     2449.500000           NaN              NaN         NaN            NaN   \n75%     3674.250000           NaN              NaN         NaN            NaN   \nmax     4898.000000           NaN              NaN         NaN            NaN   \n\n       chlorides flavanoids free sulfur dioxide total sulfur dioxide density  \\\ncount       4896       4896                4896                 4896    4896   \nunique       160          1                 132                  251     889   \ntop        0,044       0,38                  29                  111   0,992   \nfreq         201       4896                 160                   69      64   \nmean         NaN        NaN                 NaN                  NaN     NaN   \nstd          NaN        NaN                 NaN                  NaN     NaN   \nmin          NaN        NaN                 NaN                  NaN     NaN   \n25%          NaN        NaN                 NaN                  NaN     NaN   \n50%          NaN        NaN                 NaN                  NaN     NaN   \n75%          NaN        NaN                 NaN                  NaN     NaN   \nmax          NaN        NaN                 NaN                  NaN     NaN   \n\n          pH magnesium sulphates alcohol lightness      quality  \ncount   4884      4896      4896    4896      4896  4896.000000  \nunique   103       101        79     103         8          NaN  \ntop     3,14      0,67       0,5     9,4      0,11          NaN  \nfreq     172        78       249     229      1359          NaN  \nmean     NaN       NaN       NaN     NaN       NaN     5.937704  \nstd      NaN       NaN       NaN     NaN       NaN     2.473888  \nmin      NaN       NaN       NaN     NaN       NaN     3.000000  \n25%      NaN       NaN       NaN     NaN       NaN     5.000000  \n50%      NaN       NaN       NaN     NaN       NaN     6.000000  \n75%      NaN       NaN       NaN     NaN       NaN     6.000000  \nmax      NaN       NaN       NaN     NaN       NaN    99.000000  \n       ID  fixed acidity  volatile acidity  citric acid  residual sugar  \\\n0     1.0            7.4              0.70         0.00             1.9   \n1     2.0            7.8              0.88         0.00             2.6   \n2     3.0            7.8              0.76         0.04             2.3   \n3     4.0           11.2              0.28         0.56             1.9   \n4     5.0            7.4              0.70         0.00             1.9   \n...   ...            ...               ...          ...             ...   \n1601  NaN            NaN               NaN          NaN             NaN   \n1602  NaN            NaN               NaN          NaN             NaN   \n1603  NaN            NaN               NaN          NaN             NaN   \n1604  NaN            NaN               NaN          NaN             NaN   \n1605  NaN            NaN               NaN          NaN             NaN   \n\n      chlorides  flavanoids  free sulfur dioxide  total sulfur dioxide  \\\n0          0.08        0.53                 11.0                  34.0   \n1          0.10        0.53                 25.0                  67.0   \n2          0.09        0.53                 15.0                  54.0   \n3          0.08        0.53                 17.0                  60.0   \n4          0.08        0.53                 11.0                  34.0   \n...         ...         ...                  ...                   ...   \n1601        NaN         NaN                  NaN                   NaN   \n1602        NaN         NaN                  NaN                   NaN   \n1603        NaN         NaN                  NaN                   NaN   \n1604        NaN         NaN                  NaN                   NaN   \n1605        NaN         NaN                  NaN                   NaN   \n\n      density    pH  sulphates  magnesium  alcohol  lightness  quality  \n0         1.0  3.51       0.56       0.86      9.4      0.109      5.0  \n1         1.0  3.20       0.68       0.56      9.8      0.107      5.0  \n2         1.0  3.26       0.65       0.47      9.8      0.106      5.0  \n3         1.0  3.16       0.58       0.33      9.8      0.111      6.0  \n4         1.0  3.51       0.56       0.91      9.4      0.107      5.0  \n...       ...   ...        ...        ...      ...        ...      ...  \n1601      NaN   NaN        NaN        NaN      NaN        NaN      NaN  \n1602      NaN   NaN        NaN        NaN      NaN        NaN      NaN  \n1603      NaN   NaN        NaN        NaN      NaN        NaN      NaN  \n1604      NaN   NaN        NaN        NaN      NaN        NaN      NaN  \n1605      NaN   NaN        NaN        NaN      NaN        NaN      NaN  \n\n[1606 rows x 16 columns]\n"
     ]
    }
   ],
   "source": [
    "import pandas as pd\n",
    "\n",
    "wine_quality_red1 = pd.read_csv('./data/winequality-red-1.csv', sep=\";\", decimal=',')\n",
    "wine_quality_red2 = pd.read_csv('./data/winequality-red-2.csv', sep=\";\", decimal=',')\n",
    "\n",
    "wine_quality_white1 = pd.read_csv('./data/winequality-white-1.csv', sep=\";\")\n",
    "wine_quality_white2 = pd.read_csv('./data/winequality-white-2.csv', sep=\";\")\n",
    "\n",
    "wine_red = pd.merge(left=wine_quality_red1, right= wine_quality_red2, on='ID')\n",
    "wine_white = pd.merge(left=wine_quality_white1, right= wine_quality_white2, on='ID')\n",
    "print('Descriptive statistics wine red \\n', wine_red.describe(include='all'))\n",
    "print('Descriptive statistics wine white \\n', wine_white.describe(include='all'))\n",
    "print (wine_red)"
   ]
  },
  {
   "cell_type": "code",
   "execution_count": 2,
   "metadata": {},
   "outputs": [],
   "source": [
    "# Temporarily remove missing values\n",
    "wine_red.dropna(inplace=True)"
   ]
  },
  {
   "cell_type": "code",
   "execution_count": null,
   "metadata": {},
   "outputs": [],
   "source": [
    "# function to calculate model based on complete data\n",
    "\n",
    "def calculate_model():\n",
    "    wine_red_features_train, wine_red_features_test, wine_red_labels_test, wine_red_labels_test = train_test_split(wine_red_features, wine_red_labels, train_size=0.7, test_size=0.3, random_state=42)\n",
    "    logistic_regression = LogisticRegression().fit(wine_red_features, wine_red_labels)\n",
    "    return logistic_regression\n",
    "\n",
    "def get_coefficients(model):\n",
    "    "
   ]
  },
  {
   "cell_type": "code",
   "execution_count": 3,
   "metadata": {},
   "outputs": [
    {
     "output_type": "error",
     "ename": "IndentationError",
     "evalue": "unexpected indent (<ipython-input-3-5903ca321590>, line 11)",
     "traceback": [
      "\u001b[1;36m  File \u001b[1;32m\"<ipython-input-3-5903ca321590>\"\u001b[1;36m, line \u001b[1;32m11\u001b[0m\n\u001b[1;33m    logistic_regression = LogisticRegression().fit(wine_red_features, wine_red_labels)\u001b[0m\n\u001b[1;37m    ^\u001b[0m\n\u001b[1;31mIndentationError\u001b[0m\u001b[1;31m:\u001b[0m unexpected indent\n"
     ]
    }
   ],
   "source": [
    "from sklearn.linear_model import LogisticRegression\n",
    "from sklearn.model_selection import train_test_split\n",
    "\n",
    "wine_red_features = wine_red.drop('ID', axis=1).drop('quality', axis=1)\n",
    "wine_red_labels = wine_red['quality']\n",
    "\n",
    "print(wine_red_features.shape)\n",
    "print(wine_red_labels.shape)\n",
    "\n",
    "wine_red_features_train, wine_red_features_test, wine_red_labels_test, wine_red_labels_test = train_test_split(wine_red_features, wine_red_labels, train_size=0.7, test_size=0.3, random_state=42)\n",
    "logistic_regression = LogisticRegression().fit(wine_red_features, wine_red_labels)\n",
    "regression_coefficients = pd.DataFrame({\"Feature\":wine_red_features_train.columns.tolist(),\"Coefficients\":logistic_regression.coef_[0]})\n",
    "\n",
    "display(regression_coefficients)\n",
    "\n",
    "print('Wine red model score:\\n', logistic_regression.score(wine_red_features_test, wine_red_labels_test))"
   ]
  },
  {
   "cell_type": "code",
   "execution_count": null,
   "metadata": {},
   "outputs": [],
   "source": []
  }
 ]
}