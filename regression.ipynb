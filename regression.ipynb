{
 "cells": [
  {
   "cell_type": "code",
   "execution_count": 1,
   "metadata": {},
   "outputs": [],
   "source": [
    "from datasets import wine_red_dataset, wine_white_dataset\n",
    "from sklearn.linear_model import LogisticRegression\n",
    "from sklearn.model_selection import train_test_split\n",
    "import pandas as pd\n",
    "\n",
    "wine_red = wine_red_dataset()\n",
    "wine_white = wine_white_dataset()"
   ]
  },
  {
   "cell_type": "code",
   "execution_count": 2,
   "metadata": {},
   "outputs": [],
   "source": [
    "# Temporarily remove missing values\n",
    "wine_red.dropna(inplace=True)\n",
    "wine_white.dropna(inplace=True)"
   ]
  },
  {
   "cell_type": "code",
   "execution_count": 3,
   "metadata": {
    "tags": []
   },
   "outputs": [
    {
     "output_type": "stream",
     "name": "stdout",
     "text": "(1565, 14)\n(1565,)\n"
    },
    {
     "output_type": "display_data",
     "data": {
      "text/plain": "                 Feature  Coefficients\n0          fixed acidity      0.090454\n1       volatile acidity      0.118453\n2            citric acid     -0.019445\n3         residual sugar      0.094667\n4              chlorides      0.004804\n5             flavanoids      0.002630\n6    free sulfur dioxide     -0.089241\n7   total sulfur dioxide     -0.023063\n8                density      0.005025\n9                     pH      0.031035\n10             sulphates     -0.025218\n11             magnesium     -0.003681\n12               alcohol     -0.145266\n13             lightness      0.001913",
      "text/html": "<div>\n<style scoped>\n    .dataframe tbody tr th:only-of-type {\n        vertical-align: middle;\n    }\n\n    .dataframe tbody tr th {\n        vertical-align: top;\n    }\n\n    .dataframe thead th {\n        text-align: right;\n    }\n</style>\n<table border=\"1\" class=\"dataframe\">\n  <thead>\n    <tr style=\"text-align: right;\">\n      <th></th>\n      <th>Feature</th>\n      <th>Coefficients</th>\n    </tr>\n  </thead>\n  <tbody>\n    <tr>\n      <th>0</th>\n      <td>fixed acidity</td>\n      <td>0.090454</td>\n    </tr>\n    <tr>\n      <th>1</th>\n      <td>volatile acidity</td>\n      <td>0.118453</td>\n    </tr>\n    <tr>\n      <th>2</th>\n      <td>citric acid</td>\n      <td>-0.019445</td>\n    </tr>\n    <tr>\n      <th>3</th>\n      <td>residual sugar</td>\n      <td>0.094667</td>\n    </tr>\n    <tr>\n      <th>4</th>\n      <td>chlorides</td>\n      <td>0.004804</td>\n    </tr>\n    <tr>\n      <th>5</th>\n      <td>flavanoids</td>\n      <td>0.002630</td>\n    </tr>\n    <tr>\n      <th>6</th>\n      <td>free sulfur dioxide</td>\n      <td>-0.089241</td>\n    </tr>\n    <tr>\n      <th>7</th>\n      <td>total sulfur dioxide</td>\n      <td>-0.023063</td>\n    </tr>\n    <tr>\n      <th>8</th>\n      <td>density</td>\n      <td>0.005025</td>\n    </tr>\n    <tr>\n      <th>9</th>\n      <td>pH</td>\n      <td>0.031035</td>\n    </tr>\n    <tr>\n      <th>10</th>\n      <td>sulphates</td>\n      <td>-0.025218</td>\n    </tr>\n    <tr>\n      <th>11</th>\n      <td>magnesium</td>\n      <td>-0.003681</td>\n    </tr>\n    <tr>\n      <th>12</th>\n      <td>alcohol</td>\n      <td>-0.145266</td>\n    </tr>\n    <tr>\n      <th>13</th>\n      <td>lightness</td>\n      <td>0.001913</td>\n    </tr>\n  </tbody>\n</table>\n</div>"
     },
     "metadata": {}
    },
    {
     "output_type": "stream",
     "name": "stdout",
     "text": "Wine red model score:\n 0.5468085106382978\n"
    }
   ],
   "source": [
    "\n",
    "\n",
    "# Split data into features and label\n",
    "# Includes removal of ID because it is no independent variable\n",
    "wine_red_features = wine_red.drop('ID', axis=1).drop('quality', axis=1)\n",
    "wine_red_labels = wine_red['quality']\n",
    "\n",
    "print(wine_red_features.shape)\n",
    "print(wine_red_labels.shape)\n",
    "\n",
    "# Split data in test 30% and training 70%\n",
    "wine_red_features_train, wine_red_features_test, wine_red_labels_train, wine_red_labels_test = train_test_split(wine_red_features, wine_red_labels, train_size=0.7, test_size=0.3, random_state=42)\n",
    "\n",
    "# Calculate model\n",
    "logistic_regression = LogisticRegression().fit(wine_red_features_train, wine_red_labels_train)\n",
    "\n",
    "# Put coefficients in a new data frame and display it\n",
    "regression_coefficients = pd.DataFrame({\"Feature\":wine_red_features_train.columns.tolist(),\"Coefficients\":logistic_regression.coef_[0]})\n",
    "display(regression_coefficients)\n",
    "\n",
    "# Calculate score for model R2, 1 is best, negative is worst\n",
    "print('Wine red model score:\\n', logistic_regression.score(wine_red_features_test, wine_red_labels_test))\n",
    "\n"
   ]
  },
  {
   "cell_type": "markdown",
   "metadata": {},
   "source": [
    "Cross Validation - Red Wine"
   ]
  },
  {
   "cell_type": "code",
   "execution_count": 5,
   "metadata": {
    "tags": []
   },
   "outputs": [
    {
     "output_type": "stream",
     "name": "stdout",
     "text": "Cross validation accuracy scores: [0.51757188 0.54632588 0.61661342 0.53035144 0.55271565]\n          ID  fixed acidity  volatile acidity  citric acid  residual sugar  \\\n0        1.0            7.4              0.70         0.00             1.9   \n1        2.0            7.8              0.88         0.00             2.6   \n2        3.0            7.8              0.76         0.04             2.3   \n3        4.0           11.2              0.28         0.56             1.9   \n4        5.0            7.4              0.70         0.00             1.9   \n...      ...            ...               ...          ...             ...   \n1591  1594.0            6.8              0.62         0.08             1.9   \n1593  1596.0            5.9              0.55         0.10             2.2   \n1594  1597.0            6.3              0.51         0.13             2.3   \n1595  1598.0            5.9              0.65         0.12             2.0   \n1596  1599.0            6.0              0.31         0.47             3.6   \n\n      chlorides  flavanoids  free sulfur dioxide  total sulfur dioxide  \\\n0          0.08        0.53                 11.0                  34.0   \n1          0.10        0.53                 25.0                  67.0   \n2          0.09        0.53                 15.0                  54.0   \n3          0.08        0.53                 17.0                  60.0   \n4          0.08        0.53                 11.0                  34.0   \n...         ...         ...                  ...                   ...   \n1591       0.07        0.53                 28.0                  38.0   \n1593       0.06        0.53                 39.0                  51.0   \n1594       0.08        0.53                 29.0                  40.0   \n1595       0.08        0.53                 32.0                  44.0   \n1596       0.07        0.53                 18.0                  42.0   \n\n      density    pH  sulphates  magnesium  alcohol  lightness  quality  \\\n0         1.0  3.51       0.56       0.86      9.4      0.109      5.0   \n1         1.0  3.20       0.68       0.56      9.8      0.107      5.0   \n2         1.0  3.26       0.65       0.47      9.8      0.106      5.0   \n3         1.0  3.16       0.58       0.33      9.8      0.111      6.0   \n4         1.0  3.51       0.56       0.91      9.4      0.107      5.0   \n...       ...   ...        ...        ...      ...        ...      ...   \n1591      1.0  3.42       0.82       0.05      9.5      0.110      6.0   \n1593      1.0  3.52       0.76       0.82     11.2      0.090      6.0   \n1594      1.0  3.42       0.75       0.71     11.0      0.095      6.0   \n1595      1.0  3.57       0.71       0.33     10.2      0.104      5.0   \n1596      1.0  3.39       0.66       0.17     11.0      0.099      6.0   \n\n      Prediction  \n0            5.0  \n1            5.0  \n2            5.0  \n3            5.0  \n4            5.0  \n...          ...  \n1591         6.0  \n1593         6.0  \n1594         6.0  \n1595         6.0  \n1596         6.0  \n\n[1565 rows x 17 columns]\n"
    }
   ],
   "source": [
    "# Imports for the cross validation\n",
    "from sklearn.model_selection import cross_val_predict\n",
    "from sklearn.model_selection import cross_val_score\n",
    "\n",
    "#Computing the cross validated metrics\n",
    "#Prepare logistic model\n",
    "lr = LogisticRegression()\n",
    "#5-fold cross validation\n",
    "scores = cross_val_score(lr, wine_red_features, wine_red_labels, cv=5)\n",
    "\n",
    "#Print cross validation accuracy score\n",
    "print(\" Cross validation accuracy scores:\",scores)\n",
    "\n",
    "#Perform cross-fold prediction, in our case with k=5\n",
    "y_pred = cross_val_predict(lr,wine_red_features, wine_red_labels, cv=5)\n",
    "wine_red['Prediction']=y_pred\n",
    "print(wine_red)"
   ]
  },
  {
   "cell_type": "code",
   "execution_count": 8,
   "metadata": {
    "tags": []
   },
   "outputs": [
    {
     "output_type": "stream",
     "name": "stdout",
     "text": "(4884, 14)\n(4884,)\n"
    },
    {
     "output_type": "display_data",
     "data": {
      "text/plain": "                 Feature  Coefficients\n0          fixed acidity     -0.068953\n1       volatile acidity     -0.002246\n2            citric acid     -0.003756\n3         residual sugar     -0.028306\n4              chlorides     -0.000274\n5             flavanoids     -0.005090\n6    free sulfur dioxide      0.051101\n7   total sulfur dioxide     -0.002172\n8                density     -0.013249\n9                     pH     -0.043324\n10             magnesium     -0.009144\n11             sulphates     -0.006598\n12               alcohol     -0.159305\n13             lightness     -0.001261",
      "text/html": "<div>\n<style scoped>\n    .dataframe tbody tr th:only-of-type {\n        vertical-align: middle;\n    }\n\n    .dataframe tbody tr th {\n        vertical-align: top;\n    }\n\n    .dataframe thead th {\n        text-align: right;\n    }\n</style>\n<table border=\"1\" class=\"dataframe\">\n  <thead>\n    <tr style=\"text-align: right;\">\n      <th></th>\n      <th>Feature</th>\n      <th>Coefficients</th>\n    </tr>\n  </thead>\n  <tbody>\n    <tr>\n      <th>0</th>\n      <td>fixed acidity</td>\n      <td>-0.068953</td>\n    </tr>\n    <tr>\n      <th>1</th>\n      <td>volatile acidity</td>\n      <td>-0.002246</td>\n    </tr>\n    <tr>\n      <th>2</th>\n      <td>citric acid</td>\n      <td>-0.003756</td>\n    </tr>\n    <tr>\n      <th>3</th>\n      <td>residual sugar</td>\n      <td>-0.028306</td>\n    </tr>\n    <tr>\n      <th>4</th>\n      <td>chlorides</td>\n      <td>-0.000274</td>\n    </tr>\n    <tr>\n      <th>5</th>\n      <td>flavanoids</td>\n      <td>-0.005090</td>\n    </tr>\n    <tr>\n      <th>6</th>\n      <td>free sulfur dioxide</td>\n      <td>0.051101</td>\n    </tr>\n    <tr>\n      <th>7</th>\n      <td>total sulfur dioxide</td>\n      <td>-0.002172</td>\n    </tr>\n    <tr>\n      <th>8</th>\n      <td>density</td>\n      <td>-0.013249</td>\n    </tr>\n    <tr>\n      <th>9</th>\n      <td>pH</td>\n      <td>-0.043324</td>\n    </tr>\n    <tr>\n      <th>10</th>\n      <td>magnesium</td>\n      <td>-0.009144</td>\n    </tr>\n    <tr>\n      <th>11</th>\n      <td>sulphates</td>\n      <td>-0.006598</td>\n    </tr>\n    <tr>\n      <th>12</th>\n      <td>alcohol</td>\n      <td>-0.159305</td>\n    </tr>\n    <tr>\n      <th>13</th>\n      <td>lightness</td>\n      <td>-0.001261</td>\n    </tr>\n  </tbody>\n</table>\n</div>"
     },
     "metadata": {}
    },
    {
     "output_type": "stream",
     "name": "stdout",
     "text": "Wine white model score:\n 0.4740791268758527\n"
    }
   ],
   "source": [
    "# Split data into features and label\n",
    "# Includes removal of ID because it is no independent variable\n",
    "wine_white_features = wine_white.drop('ID', axis=1).drop('quality', axis=1)\n",
    "wine_white_labels = wine_white['quality']\n",
    "\n",
    "print(wine_white_features.shape)\n",
    "print(wine_white_labels.shape)\n",
    "\n",
    "# Split data in test 30% and training 70%\n",
    "wine_white_features_train, wine_white_features_test, wine_white_labels_train, wine_white_labels_test = train_test_split(wine_white_features, wine_white_labels, train_size=0.7, test_size=0.3, random_state=42)\n",
    "\n",
    "# Calculate model\n",
    "logistic_regression = LogisticRegression().fit(wine_white_features_train, wine_white_labels_train)\n",
    "\n",
    "# Put coefficients in a new data frame and display it\n",
    "regression_coefficients = pd.DataFrame({\"Feature\":wine_white_features_train.columns.tolist(),\"Coefficients\":logistic_regression.coef_[0]})\n",
    "display(regression_coefficients)\n",
    "\n",
    "# Calculate score for model R2, 1 is best, negative is worst\n",
    "print('Wine white model score:\\n', logistic_regression.score(wine_white_features_test, wine_white_labels_test))"
   ]
  },
  {
   "cell_type": "code",
   "execution_count": null,
   "metadata": {},
   "outputs": [],
   "source": [
    "Cross Validation - White Wine"
   ]
  },
  {
   "cell_type": "code",
   "execution_count": 10,
   "metadata": {
    "tags": []
   },
   "outputs": [
    {
     "output_type": "stream",
     "name": "stdout",
     "text": "Cross validation accuracy scores: [0.41453429 0.45547595 0.5087001  0.45752303 0.47336066]\n        ID  fixed acidity  volatile acidity  citric acid  residual sugar  \\\n0        1            7.0              0.27         0.36            20.7   \n1        2            6.3              0.30         0.34             1.6   \n2        3            8.1              0.28         0.40             6.9   \n3        4            7.2              0.23         0.32             8.5   \n4        5            7.2              0.23         0.32             8.5   \n...    ...            ...               ...          ...             ...   \n4891  4894            6.2              0.21         0.29             1.6   \n4892  4895            6.6              0.32         0.36             8.0   \n4893  4896            6.5              0.24         0.19             1.2   \n4894  4897            5.5              0.29         0.30             1.1   \n4895  4898            6.0              0.21         0.38             0.8   \n\n      chlorides  flavanoids  free sulfur dioxide  total sulfur dioxide  \\\n0         0.045        0.38                 45.0                 170.0   \n1         0.049        0.38                 14.0                 132.0   \n2         0.050        0.38                 30.0                  97.0   \n3         0.058        0.38                 47.0                 186.0   \n4         0.058        0.38                 47.0                 186.0   \n...         ...         ...                  ...                   ...   \n4891      0.039        0.38                 24.0                  92.0   \n4892      0.047        0.38                 57.0                 168.0   \n4893      0.041        0.38                 30.0                 111.0   \n4894      0.022        0.38                 20.0                 110.0   \n4895      0.020        0.38                 22.0                  98.0   \n\n      density    pH  magnesium  sulphates  alcohol  lightness  quality  \\\n0     1.00100  3.00       0.46       0.45      8.8       0.13        6   \n1     0.99400  3.30       0.56       0.49      9.5       0.11        6   \n2     0.99510  3.26       0.56       0.44     10.1       0.11        6   \n3     0.99560  3.19       0.53       0.40      9.9       0.12        6   \n4     0.99560  3.19       0.52       0.40      9.9       0.10        6   \n...       ...   ...        ...        ...      ...        ...      ...   \n4891  0.99114  3.27       0.26       0.50     11.2       0.10        6   \n4892  0.99490  3.15       0.85       0.46      9.6       0.12        5   \n4893  0.99254  2.99       0.91       0.46      9.4       0.12        6   \n4894  0.98869  3.34       0.24       0.38     12.8       0.08        7   \n4895  0.98941  3.26       0.09       0.32     11.8       0.09        6   \n\n      Prediction  \n0              6  \n1              5  \n2              6  \n3              5  \n4              5  \n...          ...  \n4891           6  \n4892           6  \n4893           6  \n4894           7  \n4895           6  \n\n[4884 rows x 17 columns]\n"
    }
   ],
   "source": [
    "# Imports for the cross validation\n",
    "from sklearn.model_selection import cross_val_predict\n",
    "from sklearn.model_selection import cross_val_score\n",
    "\n",
    "#Computing the cross validated metrics\n",
    "#Prepare logistic model\n",
    "lr_white = LogisticRegression()\n",
    "#5-fold cross validation\n",
    "scores_white = cross_val_score(lr_white, wine_white_features, wine_white_labels, cv=5)\n",
    "\n",
    "#Print cross validation accuracy score\n",
    "print(\" Cross validation accuracy scores:\",scores_white)\n",
    "\n",
    "#Perform cross-fold prediction, in our case with k=5\n",
    "y_pred_white = cross_val_predict(lr_white,wine_white_features, wine_white_labels, cv=5)\n",
    "wine_white['Prediction']=y_pred_white\n",
    "print(wine_white)"
   ]
  },
  {
   "cell_type": "code",
   "execution_count": null,
   "metadata": {},
   "outputs": [],
   "source": []
  }
 ],
 "metadata": {
  "language_info": {
   "codemirror_mode": {
    "name": "ipython",
    "version": 3
   },
   "file_extension": ".py",
   "mimetype": "text/x-python",
   "name": "python",
   "nbconvert_exporter": "python",
   "pygments_lexer": "ipython3",
   "version": "3.7.6-final"
  },
  "orig_nbformat": 2,
  "kernelspec": {
   "name": "python3",
   "display_name": "Python 3",
   "metadata": {
    "interpreter": {
     "hash": "f91b45585d66f8d42d8b427d8cc68ebdca9f95f539a3fd1ad17d4bc574d871b8"
    }
   }
  }
 },
 "nbformat": 4,
 "nbformat_minor": 2
}