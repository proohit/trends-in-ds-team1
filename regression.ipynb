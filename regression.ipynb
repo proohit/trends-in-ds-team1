{
 "cells": [
  {
   "cell_type": "code",
   "execution_count": 1,
   "metadata": {},
   "outputs": [],
   "source": [
    "from datasets import wine_red_dataset, wine_white_dataset\n",
    "from sklearn.linear_model import LogisticRegression\n",
    "from sklearn.model_selection import train_test_split\n",
    "import pandas as pd\n",
    "\n",
    "wine_red = wine_red_dataset()\n",
    "wine_white = wine_white_dataset()"
   ]
  },
  {
   "cell_type": "code",
   "execution_count": 2,
   "metadata": {},
   "outputs": [],
   "source": [
    "# Temporarily remove missing values\n",
    "wine_red.dropna(inplace=True)\n",
    "wine_white.dropna(inplace=True)"
   ]
  },
  {
   "cell_type": "code",
   "execution_count": 3,
   "metadata": {},
   "outputs": [
    {
     "output_type": "stream",
     "name": "stdout",
     "text": [
      "(1565, 14)\n(1565,)\n"
     ]
    },
    {
     "output_type": "display_data",
     "data": {
      "text/plain": "                 Feature  Coefficients\n0          fixed acidity      0.090383\n1       volatile acidity      0.118364\n2            citric acid     -0.019430\n3         residual sugar      0.094638\n4              chlorides      0.004801\n5             flavanoids      0.002627\n6    free sulfur dioxide     -0.089317\n7   total sulfur dioxide     -0.023045\n8                density      0.005019\n9                     pH      0.031002\n10             sulphates     -0.025200\n11             magnesium     -0.003680\n12               alcohol     -0.145186\n13             lightness      0.001912",
      "text/html": "<div>\n<style scoped>\n    .dataframe tbody tr th:only-of-type {\n        vertical-align: middle;\n    }\n\n    .dataframe tbody tr th {\n        vertical-align: top;\n    }\n\n    .dataframe thead th {\n        text-align: right;\n    }\n</style>\n<table border=\"1\" class=\"dataframe\">\n  <thead>\n    <tr style=\"text-align: right;\">\n      <th></th>\n      <th>Feature</th>\n      <th>Coefficients</th>\n    </tr>\n  </thead>\n  <tbody>\n    <tr>\n      <th>0</th>\n      <td>fixed acidity</td>\n      <td>0.090383</td>\n    </tr>\n    <tr>\n      <th>1</th>\n      <td>volatile acidity</td>\n      <td>0.118364</td>\n    </tr>\n    <tr>\n      <th>2</th>\n      <td>citric acid</td>\n      <td>-0.019430</td>\n    </tr>\n    <tr>\n      <th>3</th>\n      <td>residual sugar</td>\n      <td>0.094638</td>\n    </tr>\n    <tr>\n      <th>4</th>\n      <td>chlorides</td>\n      <td>0.004801</td>\n    </tr>\n    <tr>\n      <th>5</th>\n      <td>flavanoids</td>\n      <td>0.002627</td>\n    </tr>\n    <tr>\n      <th>6</th>\n      <td>free sulfur dioxide</td>\n      <td>-0.089317</td>\n    </tr>\n    <tr>\n      <th>7</th>\n      <td>total sulfur dioxide</td>\n      <td>-0.023045</td>\n    </tr>\n    <tr>\n      <th>8</th>\n      <td>density</td>\n      <td>0.005019</td>\n    </tr>\n    <tr>\n      <th>9</th>\n      <td>pH</td>\n      <td>0.031002</td>\n    </tr>\n    <tr>\n      <th>10</th>\n      <td>sulphates</td>\n      <td>-0.025200</td>\n    </tr>\n    <tr>\n      <th>11</th>\n      <td>magnesium</td>\n      <td>-0.003680</td>\n    </tr>\n    <tr>\n      <th>12</th>\n      <td>alcohol</td>\n      <td>-0.145186</td>\n    </tr>\n    <tr>\n      <th>13</th>\n      <td>lightness</td>\n      <td>0.001912</td>\n    </tr>\n  </tbody>\n</table>\n</div>"
     },
     "metadata": {}
    },
    {
     "output_type": "stream",
     "name": "stdout",
     "text": [
      "Wine red model score:\n 0.5468085106382978\n"
     ]
    }
   ],
   "source": [
    "\n",
    "\n",
    "# Split data into features and label\n",
    "# Includes removal of ID because it is no independent variable\n",
    "wine_red_features = wine_red.drop('ID', axis=1).drop('quality', axis=1)\n",
    "wine_red_labels = wine_red['quality']\n",
    "\n",
    "print(wine_red_features.shape)\n",
    "print(wine_red_labels.shape)\n",
    "\n",
    "# Split data in test 30% and training 70%\n",
    "wine_red_features_train, wine_red_features_test, wine_red_labels_train, wine_red_labels_test = train_test_split(wine_red_features, wine_red_labels, train_size=0.7, test_size=0.3, random_state=42)\n",
    "\n",
    "# Calculate model\n",
    "logistic_regression = LogisticRegression().fit(wine_red_features_train, wine_red_labels_train)\n",
    "\n",
    "# Put coefficients in a new data frame and display it\n",
    "regression_coefficients = pd.DataFrame({\"Feature\":wine_red_features_train.columns.tolist(),\"Coefficients\":logistic_regression.coef_[0]})\n",
    "display(regression_coefficients)\n",
    "\n",
    "# Calculate score for model R2, 1 is best, negative is worst\n",
    "print('Wine red model score:\\n', logistic_regression.score(wine_red_features_test, wine_red_labels_test))"
   ]
  },
  {
   "cell_type": "code",
   "execution_count": 4,
   "metadata": {},
   "outputs": [
    {
     "output_type": "stream",
     "name": "stdout",
     "text": [
      "(4884, 14)\n(4884,)\n"
     ]
    },
    {
     "output_type": "display_data",
     "data": {
      "text/plain": "                 Feature  Coefficients\n0          fixed acidity     -0.068954\n1       volatile acidity     -0.002246\n2            citric acid     -0.003756\n3         residual sugar     -0.028306\n4              chlorides     -0.000274\n5             flavanoids     -0.005090\n6    free sulfur dioxide      0.051102\n7   total sulfur dioxide     -0.002160\n8                density     -0.013249\n9                     pH     -0.043325\n10             magnesium     -0.009145\n11             sulphates     -0.006598\n12               alcohol     -0.159308\n13             lightness     -0.001261",
      "text/html": "<div>\n<style scoped>\n    .dataframe tbody tr th:only-of-type {\n        vertical-align: middle;\n    }\n\n    .dataframe tbody tr th {\n        vertical-align: top;\n    }\n\n    .dataframe thead th {\n        text-align: right;\n    }\n</style>\n<table border=\"1\" class=\"dataframe\">\n  <thead>\n    <tr style=\"text-align: right;\">\n      <th></th>\n      <th>Feature</th>\n      <th>Coefficients</th>\n    </tr>\n  </thead>\n  <tbody>\n    <tr>\n      <th>0</th>\n      <td>fixed acidity</td>\n      <td>-0.068954</td>\n    </tr>\n    <tr>\n      <th>1</th>\n      <td>volatile acidity</td>\n      <td>-0.002246</td>\n    </tr>\n    <tr>\n      <th>2</th>\n      <td>citric acid</td>\n      <td>-0.003756</td>\n    </tr>\n    <tr>\n      <th>3</th>\n      <td>residual sugar</td>\n      <td>-0.028306</td>\n    </tr>\n    <tr>\n      <th>4</th>\n      <td>chlorides</td>\n      <td>-0.000274</td>\n    </tr>\n    <tr>\n      <th>5</th>\n      <td>flavanoids</td>\n      <td>-0.005090</td>\n    </tr>\n    <tr>\n      <th>6</th>\n      <td>free sulfur dioxide</td>\n      <td>0.051102</td>\n    </tr>\n    <tr>\n      <th>7</th>\n      <td>total sulfur dioxide</td>\n      <td>-0.002160</td>\n    </tr>\n    <tr>\n      <th>8</th>\n      <td>density</td>\n      <td>-0.013249</td>\n    </tr>\n    <tr>\n      <th>9</th>\n      <td>pH</td>\n      <td>-0.043325</td>\n    </tr>\n    <tr>\n      <th>10</th>\n      <td>magnesium</td>\n      <td>-0.009145</td>\n    </tr>\n    <tr>\n      <th>11</th>\n      <td>sulphates</td>\n      <td>-0.006598</td>\n    </tr>\n    <tr>\n      <th>12</th>\n      <td>alcohol</td>\n      <td>-0.159308</td>\n    </tr>\n    <tr>\n      <th>13</th>\n      <td>lightness</td>\n      <td>-0.001261</td>\n    </tr>\n  </tbody>\n</table>\n</div>"
     },
     "metadata": {}
    },
    {
     "output_type": "stream",
     "name": "stdout",
     "text": [
      "Wine red model score:\n 0.4740791268758527\n"
     ]
    }
   ],
   "source": [
    "# Split data into features and label\n",
    "# Includes removal of ID because it is no independent variable\n",
    "wine_white_features = wine_white.drop('ID', axis=1).drop('quality', axis=1)\n",
    "wine_white_labels = wine_white['quality']\n",
    "\n",
    "print(wine_white_features.shape)\n",
    "print(wine_white_labels.shape)\n",
    "\n",
    "# Split data in test 30% and training 70%\n",
    "wine_white_features_train, wine_white_features_test, wine_white_labels_train, wine_white_labels_test = train_test_split(wine_white_features, wine_white_labels, train_size=0.7, test_size=0.3, random_state=42)\n",
    "\n",
    "# Calculate model\n",
    "logistic_regression = LogisticRegression().fit(wine_white_features_train, wine_white_labels_train)\n",
    "\n",
    "# Put coefficients in a new data frame and display it\n",
    "regression_coefficients = pd.DataFrame({\"Feature\":wine_white_features_train.columns.tolist(),\"Coefficients\":logistic_regression.coef_[0]})\n",
    "display(regression_coefficients)\n",
    "\n",
    "# Calculate score for model R2, 1 is best, negative is worst\n",
    "print('Wine white model score:\\n', logistic_regression.score(wine_white_features_test, wine_white_labels_test))"
   ]
  },
  {
   "cell_type": "code",
   "execution_count": null,
   "metadata": {},
   "outputs": [],
   "source": []
  },
  {
   "cell_type": "code",
   "execution_count": null,
   "metadata": {},
   "outputs": [],
   "source": [
    "cross fold"
   ]
  }
 ],
 "metadata": {
  "language_info": {
   "codemirror_mode": {
    "name": "ipython",
    "version": 3
   },
   "file_extension": ".py",
   "mimetype": "text/x-python",
   "name": "python",
   "nbconvert_exporter": "python",
   "pygments_lexer": "ipython3",
   "version": "3.7.6-final"
  },
  "orig_nbformat": 2,
  "kernelspec": {
   "name": "python3",
   "display_name": "Python 3",
   "metadata": {
    "interpreter": {
     "hash": "f91b45585d66f8d42d8b427d8cc68ebdca9f95f539a3fd1ad17d4bc574d871b8"
    }
   }
  }
 },
 "nbformat": 4,
 "nbformat_minor": 2
}