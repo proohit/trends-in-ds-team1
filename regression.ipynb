{
 "metadata": {
  "language_info": {
   "codemirror_mode": {
    "name": "ipython",
    "version": 3
   },
   "file_extension": ".py",
   "mimetype": "text/x-python",
   "name": "python",
   "nbconvert_exporter": "python",
   "pygments_lexer": "ipython3",
   "version": "3.8.3-final"
  },
  "orig_nbformat": 2,
  "kernelspec": {
   "name": "python3",
   "display_name": "Python 3"
  }
 },
 "nbformat": 4,
 "nbformat_minor": 2,
 "cells": [
  {
   "cell_type": "code",
   "execution_count": 19,
   "metadata": {},
   "outputs": [
    {
     "output_type": "stream",
     "name": "stdout",
     "text": [
      "Descriptive statistics wine red \n                  ID fixed acidity volatile acidity citric acid residual sugar  \\\ncount   1597.000000          1580             1597        1597           1597   \nunique          NaN            96               96          80             91   \ntop             NaN          7,20             0,60        0,00           2,00   \nfreq            NaN            67               48         132            156   \nmean     799.013150           NaN              NaN         NaN            NaN   \nstd      461.181154           NaN              NaN         NaN            NaN   \nmin        1.000000           NaN              NaN         NaN            NaN   \n25%      400.000000           NaN              NaN         NaN            NaN   \n50%      799.000000           NaN              NaN         NaN            NaN   \n75%     1198.000000           NaN              NaN         NaN            NaN   \nmax     1599.000000           NaN              NaN         NaN            NaN   \n\n       chlorides flavanoids free sulfur dioxide total sulfur dioxide density  \\\ncount       1597       1597                1597                 1597    1597   \nunique        37          1                  60                  144       2   \ntop         0,08       0,53                6,00                28,00    1,00   \nfreq         472       1597                 138                   43    1360   \nmean         NaN        NaN                 NaN                  NaN     NaN   \nstd          NaN        NaN                 NaN                  NaN     NaN   \nmin          NaN        NaN                 NaN                  NaN     NaN   \n25%          NaN        NaN                 NaN                  NaN     NaN   \n50%          NaN        NaN                 NaN                  NaN     NaN   \n75%          NaN        NaN                 NaN                  NaN     NaN   \nmax          NaN        NaN                 NaN                  NaN     NaN   \n\n          pH sulphates magnesium alcohol lightness quality  \ncount   1582      1597      1597    1597      1597    1597  \nunique    95        96       101      65        52       6  \ntop     3,30      0,60      0,67    9,50     0,109    5,00  \nfreq      57        69        26     139        72     681  \nmean     NaN       NaN       NaN     NaN       NaN     NaN  \nstd      NaN       NaN       NaN     NaN       NaN     NaN  \nmin      NaN       NaN       NaN     NaN       NaN     NaN  \n25%      NaN       NaN       NaN     NaN       NaN     NaN  \n50%      NaN       NaN       NaN     NaN       NaN     NaN  \n75%      NaN       NaN       NaN     NaN       NaN     NaN  \nmax      NaN       NaN       NaN     NaN       NaN     NaN  \nDescriptive statistics wine white \n                  ID fixed acidity volatile acidity citric acid residual sugar  \\\ncount   4896.000000          4896             4896        4896           4896   \nunique          NaN            68              125          87            310   \ntop             NaN           6,8             0,28         0,3            1,2   \nfreq            NaN           308              263         307            187   \nmean    2449.753268           NaN              NaN         NaN            NaN   \nstd     1414.099561           NaN              NaN         NaN            NaN   \nmin        1.000000           NaN              NaN         NaN            NaN   \n25%     1225.750000           NaN              NaN         NaN            NaN   \n50%     2449.500000           NaN              NaN         NaN            NaN   \n75%     3674.250000           NaN              NaN         NaN            NaN   \nmax     4898.000000           NaN              NaN         NaN            NaN   \n\n       chlorides flavanoids free sulfur dioxide total sulfur dioxide density  \\\ncount       4896       4896                4896                 4896    4896   \nunique       160          1                 132                  251     889   \ntop        0,044       0,38                  29                  111   0,992   \nfreq         201       4896                 160                   69      64   \nmean         NaN        NaN                 NaN                  NaN     NaN   \nstd          NaN        NaN                 NaN                  NaN     NaN   \nmin          NaN        NaN                 NaN                  NaN     NaN   \n25%          NaN        NaN                 NaN                  NaN     NaN   \n50%          NaN        NaN                 NaN                  NaN     NaN   \n75%          NaN        NaN                 NaN                  NaN     NaN   \nmax          NaN        NaN                 NaN                  NaN     NaN   \n\n          pH magnesium sulphates alcohol lightness      quality  \ncount   4884      4896      4896    4896      4896  4896.000000  \nunique   103       101        79     103         8          NaN  \ntop     3,14      0,67       0,5     9,4      0,11          NaN  \nfreq     172        78       249     229      1359          NaN  \nmean     NaN       NaN       NaN     NaN       NaN     5.937704  \nstd      NaN       NaN       NaN     NaN       NaN     2.473888  \nmin      NaN       NaN       NaN     NaN       NaN     3.000000  \n25%      NaN       NaN       NaN     NaN       NaN     5.000000  \n50%      NaN       NaN       NaN     NaN       NaN     6.000000  \n75%      NaN       NaN       NaN     NaN       NaN     6.000000  \nmax      NaN       NaN       NaN     NaN       NaN    99.000000  \n       ID fixed acidity volatile acidity citric acid residual sugar chlorides  \\\n0     1.0          7,40             0,70        0,00           1,90      0,08   \n1     2.0          7,80             0,88        0,00           2,60      0,10   \n2     3.0          7,80             0,76        0,04           2,30      0,09   \n3     4.0         11,20             0,28        0,56           1,90      0,08   \n4     5.0          7,40             0,70        0,00           1,90      0,08   \n...   ...           ...              ...         ...            ...       ...   \n1601  NaN           NaN              NaN         NaN            NaN       NaN   \n1602  NaN           NaN              NaN         NaN            NaN       NaN   \n1603  NaN           NaN              NaN         NaN            NaN       NaN   \n1604  NaN           NaN              NaN         NaN            NaN       NaN   \n1605  NaN           NaN              NaN         NaN            NaN       NaN   \n\n     flavanoids free sulfur dioxide total sulfur dioxide density    pH  \\\n0          0,53               11,00                34,00    1,00  3,51   \n1          0,53               25,00                67,00    1,00  3,20   \n2          0,53               15,00                54,00    1,00  3,26   \n3          0,53               17,00                60,00    1,00  3,16   \n4          0,53               11,00                34,00    1,00  3,51   \n...         ...                 ...                  ...     ...   ...   \n1601        NaN                 NaN                  NaN     NaN   NaN   \n1602        NaN                 NaN                  NaN     NaN   NaN   \n1603        NaN                 NaN                  NaN     NaN   NaN   \n1604        NaN                 NaN                  NaN     NaN   NaN   \n1605        NaN                 NaN                  NaN     NaN   NaN   \n\n     sulphates magnesium alcohol lightness quality  \n0         0,56      0,86    9,40     0,109    5,00  \n1         0,68      0,56    9,80     0,107    5,00  \n2         0,65      0,47    9,80     0,106    5,00  \n3         0,58      0,33    9,80     0,111    6,00  \n4         0,56      0,91    9,40     0,107    5,00  \n...        ...       ...     ...       ...     ...  \n1601       NaN       NaN     NaN       NaN     NaN  \n1602       NaN       NaN     NaN       NaN     NaN  \n1603       NaN       NaN     NaN       NaN     NaN  \n1604       NaN       NaN     NaN       NaN     NaN  \n1605       NaN       NaN     NaN       NaN     NaN  \n\n[1606 rows x 16 columns]\n"
     ]
    }
   ],
   "source": [
    "import pandas as pd\n",
    "\n",
    "wine_quality_red1 = pd.read_csv('./data/winequality-red-1.csv', sep=\";\")\n",
    "wine_quality_red2 = pd.read_csv('./data/winequality-red-2.csv', sep=\";\")\n",
    "\n",
    "wine_quality_white1 = pd.read_csv('./data/winequality-white-1.csv', sep=\";\")\n",
    "wine_quality_white2 = pd.read_csv('./data/winequality-white-2.csv', sep=\";\")\n",
    "\n",
    "wine_red = pd.merge(left=wine_quality_red1, right= wine_quality_red2, on='ID')\n",
    "wine_white = pd.merge(left=wine_quality_white1, right= wine_quality_white2, on='ID')\n",
    "print('Descriptive statistics wine red \\n', wine_red.describe(include='all'))\n",
    "print('Descriptive statistics wine white \\n', wine_white.describe(include='all'))\n",
    "print (wine_red)"
   ]
  },
  {
   "cell_type": "code",
   "execution_count": null,
   "metadata": {},
   "outputs": [],
   "source": []
  }
 ]
}