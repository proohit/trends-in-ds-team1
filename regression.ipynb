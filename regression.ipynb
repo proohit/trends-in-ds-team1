{
 "metadata": {
  "language_info": {
   "codemirror_mode": {
    "name": "ipython",
    "version": 3
   },
   "file_extension": ".py",
   "mimetype": "text/x-python",
   "name": "python",
   "nbconvert_exporter": "python",
   "pygments_lexer": "ipython3",
   "version": "3.8.3-final"
  },
  "orig_nbformat": 2,
  "kernelspec": {
   "name": "python3",
   "display_name": "Python 3.8.3 64-bit (conda)",
   "metadata": {
    "interpreter": {
     "hash": "f91b45585d66f8d42d8b427d8cc68ebdca9f95f539a3fd1ad17d4bc574d871b8"
    }
   }
  }
 },
 "nbformat": 4,
 "nbformat_minor": 2,
 "cells": [
  {
   "cell_type": "code",
   "execution_count": 21,
   "metadata": {},
   "outputs": [
    {
     "output_type": "display_data",
     "data": {
      "text/plain": "       ID  fixed acidity  volatile acidity  citric acid  residual sugar  \\\n0     1.0            7.4              0.70         0.00             1.9   \n1     2.0            7.8              0.88         0.00             2.6   \n2     3.0            7.8              0.76         0.04             2.3   \n3     4.0           11.2              0.28         0.56             1.9   \n4     5.0            7.4              0.70         0.00             1.9   \n...   ...            ...               ...          ...             ...   \n1601  NaN            NaN               NaN          NaN             NaN   \n1602  NaN            NaN               NaN          NaN             NaN   \n1603  NaN            NaN               NaN          NaN             NaN   \n1604  NaN            NaN               NaN          NaN             NaN   \n1605  NaN            NaN               NaN          NaN             NaN   \n\n      chlorides  flavanoids  free sulfur dioxide  total sulfur dioxide  \\\n0          0.08        0.53                 11.0                  34.0   \n1          0.10        0.53                 25.0                  67.0   \n2          0.09        0.53                 15.0                  54.0   \n3          0.08        0.53                 17.0                  60.0   \n4          0.08        0.53                 11.0                  34.0   \n...         ...         ...                  ...                   ...   \n1601        NaN         NaN                  NaN                   NaN   \n1602        NaN         NaN                  NaN                   NaN   \n1603        NaN         NaN                  NaN                   NaN   \n1604        NaN         NaN                  NaN                   NaN   \n1605        NaN         NaN                  NaN                   NaN   \n\n      density    pH  sulphates  magnesium  alcohol  lightness  quality  \n0         1.0  3.51       0.56       0.86      9.4      0.109      5.0  \n1         1.0  3.20       0.68       0.56      9.8      0.107      5.0  \n2         1.0  3.26       0.65       0.47      9.8      0.106      5.0  \n3         1.0  3.16       0.58       0.33      9.8      0.111      6.0  \n4         1.0  3.51       0.56       0.91      9.4      0.107      5.0  \n...       ...   ...        ...        ...      ...        ...      ...  \n1601      NaN   NaN        NaN        NaN      NaN        NaN      NaN  \n1602      NaN   NaN        NaN        NaN      NaN        NaN      NaN  \n1603      NaN   NaN        NaN        NaN      NaN        NaN      NaN  \n1604      NaN   NaN        NaN        NaN      NaN        NaN      NaN  \n1605      NaN   NaN        NaN        NaN      NaN        NaN      NaN  \n\n[1606 rows x 16 columns]",
      "text/html": "<div>\n<style scoped>\n    .dataframe tbody tr th:only-of-type {\n        vertical-align: middle;\n    }\n\n    .dataframe tbody tr th {\n        vertical-align: top;\n    }\n\n    .dataframe thead th {\n        text-align: right;\n    }\n</style>\n<table border=\"1\" class=\"dataframe\">\n  <thead>\n    <tr style=\"text-align: right;\">\n      <th></th>\n      <th>ID</th>\n      <th>fixed acidity</th>\n      <th>volatile acidity</th>\n      <th>citric acid</th>\n      <th>residual sugar</th>\n      <th>chlorides</th>\n      <th>flavanoids</th>\n      <th>free sulfur dioxide</th>\n      <th>total sulfur dioxide</th>\n      <th>density</th>\n      <th>pH</th>\n      <th>sulphates</th>\n      <th>magnesium</th>\n      <th>alcohol</th>\n      <th>lightness</th>\n      <th>quality</th>\n    </tr>\n  </thead>\n  <tbody>\n    <tr>\n      <th>0</th>\n      <td>1.0</td>\n      <td>7.4</td>\n      <td>0.70</td>\n      <td>0.00</td>\n      <td>1.9</td>\n      <td>0.08</td>\n      <td>0.53</td>\n      <td>11.0</td>\n      <td>34.0</td>\n      <td>1.0</td>\n      <td>3.51</td>\n      <td>0.56</td>\n      <td>0.86</td>\n      <td>9.4</td>\n      <td>0.109</td>\n      <td>5.0</td>\n    </tr>\n    <tr>\n      <th>1</th>\n      <td>2.0</td>\n      <td>7.8</td>\n      <td>0.88</td>\n      <td>0.00</td>\n      <td>2.6</td>\n      <td>0.10</td>\n      <td>0.53</td>\n      <td>25.0</td>\n      <td>67.0</td>\n      <td>1.0</td>\n      <td>3.20</td>\n      <td>0.68</td>\n      <td>0.56</td>\n      <td>9.8</td>\n      <td>0.107</td>\n      <td>5.0</td>\n    </tr>\n    <tr>\n      <th>2</th>\n      <td>3.0</td>\n      <td>7.8</td>\n      <td>0.76</td>\n      <td>0.04</td>\n      <td>2.3</td>\n      <td>0.09</td>\n      <td>0.53</td>\n      <td>15.0</td>\n      <td>54.0</td>\n      <td>1.0</td>\n      <td>3.26</td>\n      <td>0.65</td>\n      <td>0.47</td>\n      <td>9.8</td>\n      <td>0.106</td>\n      <td>5.0</td>\n    </tr>\n    <tr>\n      <th>3</th>\n      <td>4.0</td>\n      <td>11.2</td>\n      <td>0.28</td>\n      <td>0.56</td>\n      <td>1.9</td>\n      <td>0.08</td>\n      <td>0.53</td>\n      <td>17.0</td>\n      <td>60.0</td>\n      <td>1.0</td>\n      <td>3.16</td>\n      <td>0.58</td>\n      <td>0.33</td>\n      <td>9.8</td>\n      <td>0.111</td>\n      <td>6.0</td>\n    </tr>\n    <tr>\n      <th>4</th>\n      <td>5.0</td>\n      <td>7.4</td>\n      <td>0.70</td>\n      <td>0.00</td>\n      <td>1.9</td>\n      <td>0.08</td>\n      <td>0.53</td>\n      <td>11.0</td>\n      <td>34.0</td>\n      <td>1.0</td>\n      <td>3.51</td>\n      <td>0.56</td>\n      <td>0.91</td>\n      <td>9.4</td>\n      <td>0.107</td>\n      <td>5.0</td>\n    </tr>\n    <tr>\n      <th>...</th>\n      <td>...</td>\n      <td>...</td>\n      <td>...</td>\n      <td>...</td>\n      <td>...</td>\n      <td>...</td>\n      <td>...</td>\n      <td>...</td>\n      <td>...</td>\n      <td>...</td>\n      <td>...</td>\n      <td>...</td>\n      <td>...</td>\n      <td>...</td>\n      <td>...</td>\n      <td>...</td>\n    </tr>\n    <tr>\n      <th>1601</th>\n      <td>NaN</td>\n      <td>NaN</td>\n      <td>NaN</td>\n      <td>NaN</td>\n      <td>NaN</td>\n      <td>NaN</td>\n      <td>NaN</td>\n      <td>NaN</td>\n      <td>NaN</td>\n      <td>NaN</td>\n      <td>NaN</td>\n      <td>NaN</td>\n      <td>NaN</td>\n      <td>NaN</td>\n      <td>NaN</td>\n      <td>NaN</td>\n    </tr>\n    <tr>\n      <th>1602</th>\n      <td>NaN</td>\n      <td>NaN</td>\n      <td>NaN</td>\n      <td>NaN</td>\n      <td>NaN</td>\n      <td>NaN</td>\n      <td>NaN</td>\n      <td>NaN</td>\n      <td>NaN</td>\n      <td>NaN</td>\n      <td>NaN</td>\n      <td>NaN</td>\n      <td>NaN</td>\n      <td>NaN</td>\n      <td>NaN</td>\n      <td>NaN</td>\n    </tr>\n    <tr>\n      <th>1603</th>\n      <td>NaN</td>\n      <td>NaN</td>\n      <td>NaN</td>\n      <td>NaN</td>\n      <td>NaN</td>\n      <td>NaN</td>\n      <td>NaN</td>\n      <td>NaN</td>\n      <td>NaN</td>\n      <td>NaN</td>\n      <td>NaN</td>\n      <td>NaN</td>\n      <td>NaN</td>\n      <td>NaN</td>\n      <td>NaN</td>\n      <td>NaN</td>\n    </tr>\n    <tr>\n      <th>1604</th>\n      <td>NaN</td>\n      <td>NaN</td>\n      <td>NaN</td>\n      <td>NaN</td>\n      <td>NaN</td>\n      <td>NaN</td>\n      <td>NaN</td>\n      <td>NaN</td>\n      <td>NaN</td>\n      <td>NaN</td>\n      <td>NaN</td>\n      <td>NaN</td>\n      <td>NaN</td>\n      <td>NaN</td>\n      <td>NaN</td>\n      <td>NaN</td>\n    </tr>\n    <tr>\n      <th>1605</th>\n      <td>NaN</td>\n      <td>NaN</td>\n      <td>NaN</td>\n      <td>NaN</td>\n      <td>NaN</td>\n      <td>NaN</td>\n      <td>NaN</td>\n      <td>NaN</td>\n      <td>NaN</td>\n      <td>NaN</td>\n      <td>NaN</td>\n      <td>NaN</td>\n      <td>NaN</td>\n      <td>NaN</td>\n      <td>NaN</td>\n      <td>NaN</td>\n    </tr>\n  </tbody>\n</table>\n<p>1606 rows × 16 columns</p>\n</div>"
     },
     "metadata": {}
    },
    {
     "output_type": "display_data",
     "data": {
      "text/plain": "        ID fixed acidity volatile acidity citric acid residual sugar  \\\n0        1             7             0,27        0,36           20,7   \n1        2           6,3              0,3        0,34            1,6   \n2        3           8,1             0,28         0,4            6,9   \n3        4           7,2             0,23        0,32            8,5   \n4        5           7,2             0,23        0,32            8,5   \n...    ...           ...              ...         ...            ...   \n4891  4894           6,2             0,21        0,29            1,6   \n4892  4895           6,6             0,32        0,36              8   \n4893  4896           6,5             0,24        0,19            1,2   \n4894  4897           5,5             0,29         0,3            1,1   \n4895  4898             6             0,21        0,38            0,8   \n\n     chlorides flavanoids free sulfur dioxide total sulfur dioxide  density  \\\n0        0,045       0,38                  45                  170    1,001   \n1        0,049       0,38                  14                  132    0,994   \n2         0,05       0,38                  30                   97   0,9951   \n3        0,058       0,38                  47                  186   0,9956   \n4        0,058       0,38                  47                  186   0,9956   \n...        ...        ...                 ...                  ...      ...   \n4891     0,039       0,38                  24                   92  0,99114   \n4892     0,047       0,38                  57                  168   0,9949   \n4893     0,041       0,38                  30                  111  0,99254   \n4894     0,022       0,38                  20                  110  0,98869   \n4895      0,02       0,38                  22                   98  0,98941   \n\n        pH magnesium sulphates alcohol lightness  quality  \n0        3      0,46      0,45     8,8      0,13        6  \n1      3,3      0,56      0,49     9,5      0,11        6  \n2     3,26      0,56      0,44    10,1      0,11        6  \n3     3,19      0,53       0,4     9,9      0,12        6  \n4     3,19      0,52       0,4     9,9       0,1        6  \n...    ...       ...       ...     ...       ...      ...  \n4891  3,27      0,26       0,5    11,2       0,1        6  \n4892  3,15      0,85      0,46     9,6      0,12        5  \n4893  2,99      0,91      0,46     9,4      0,12        6  \n4894  3,34      0,24      0,38    12,8      0,08        7  \n4895  3,26      0,09      0,32    11,8      0,09        6  \n\n[4896 rows x 16 columns]",
      "text/html": "<div>\n<style scoped>\n    .dataframe tbody tr th:only-of-type {\n        vertical-align: middle;\n    }\n\n    .dataframe tbody tr th {\n        vertical-align: top;\n    }\n\n    .dataframe thead th {\n        text-align: right;\n    }\n</style>\n<table border=\"1\" class=\"dataframe\">\n  <thead>\n    <tr style=\"text-align: right;\">\n      <th></th>\n      <th>ID</th>\n      <th>fixed acidity</th>\n      <th>volatile acidity</th>\n      <th>citric acid</th>\n      <th>residual sugar</th>\n      <th>chlorides</th>\n      <th>flavanoids</th>\n      <th>free sulfur dioxide</th>\n      <th>total sulfur dioxide</th>\n      <th>density</th>\n      <th>pH</th>\n      <th>magnesium</th>\n      <th>sulphates</th>\n      <th>alcohol</th>\n      <th>lightness</th>\n      <th>quality</th>\n    </tr>\n  </thead>\n  <tbody>\n    <tr>\n      <th>0</th>\n      <td>1</td>\n      <td>7</td>\n      <td>0,27</td>\n      <td>0,36</td>\n      <td>20,7</td>\n      <td>0,045</td>\n      <td>0,38</td>\n      <td>45</td>\n      <td>170</td>\n      <td>1,001</td>\n      <td>3</td>\n      <td>0,46</td>\n      <td>0,45</td>\n      <td>8,8</td>\n      <td>0,13</td>\n      <td>6</td>\n    </tr>\n    <tr>\n      <th>1</th>\n      <td>2</td>\n      <td>6,3</td>\n      <td>0,3</td>\n      <td>0,34</td>\n      <td>1,6</td>\n      <td>0,049</td>\n      <td>0,38</td>\n      <td>14</td>\n      <td>132</td>\n      <td>0,994</td>\n      <td>3,3</td>\n      <td>0,56</td>\n      <td>0,49</td>\n      <td>9,5</td>\n      <td>0,11</td>\n      <td>6</td>\n    </tr>\n    <tr>\n      <th>2</th>\n      <td>3</td>\n      <td>8,1</td>\n      <td>0,28</td>\n      <td>0,4</td>\n      <td>6,9</td>\n      <td>0,05</td>\n      <td>0,38</td>\n      <td>30</td>\n      <td>97</td>\n      <td>0,9951</td>\n      <td>3,26</td>\n      <td>0,56</td>\n      <td>0,44</td>\n      <td>10,1</td>\n      <td>0,11</td>\n      <td>6</td>\n    </tr>\n    <tr>\n      <th>3</th>\n      <td>4</td>\n      <td>7,2</td>\n      <td>0,23</td>\n      <td>0,32</td>\n      <td>8,5</td>\n      <td>0,058</td>\n      <td>0,38</td>\n      <td>47</td>\n      <td>186</td>\n      <td>0,9956</td>\n      <td>3,19</td>\n      <td>0,53</td>\n      <td>0,4</td>\n      <td>9,9</td>\n      <td>0,12</td>\n      <td>6</td>\n    </tr>\n    <tr>\n      <th>4</th>\n      <td>5</td>\n      <td>7,2</td>\n      <td>0,23</td>\n      <td>0,32</td>\n      <td>8,5</td>\n      <td>0,058</td>\n      <td>0,38</td>\n      <td>47</td>\n      <td>186</td>\n      <td>0,9956</td>\n      <td>3,19</td>\n      <td>0,52</td>\n      <td>0,4</td>\n      <td>9,9</td>\n      <td>0,1</td>\n      <td>6</td>\n    </tr>\n    <tr>\n      <th>...</th>\n      <td>...</td>\n      <td>...</td>\n      <td>...</td>\n      <td>...</td>\n      <td>...</td>\n      <td>...</td>\n      <td>...</td>\n      <td>...</td>\n      <td>...</td>\n      <td>...</td>\n      <td>...</td>\n      <td>...</td>\n      <td>...</td>\n      <td>...</td>\n      <td>...</td>\n      <td>...</td>\n    </tr>\n    <tr>\n      <th>4891</th>\n      <td>4894</td>\n      <td>6,2</td>\n      <td>0,21</td>\n      <td>0,29</td>\n      <td>1,6</td>\n      <td>0,039</td>\n      <td>0,38</td>\n      <td>24</td>\n      <td>92</td>\n      <td>0,99114</td>\n      <td>3,27</td>\n      <td>0,26</td>\n      <td>0,5</td>\n      <td>11,2</td>\n      <td>0,1</td>\n      <td>6</td>\n    </tr>\n    <tr>\n      <th>4892</th>\n      <td>4895</td>\n      <td>6,6</td>\n      <td>0,32</td>\n      <td>0,36</td>\n      <td>8</td>\n      <td>0,047</td>\n      <td>0,38</td>\n      <td>57</td>\n      <td>168</td>\n      <td>0,9949</td>\n      <td>3,15</td>\n      <td>0,85</td>\n      <td>0,46</td>\n      <td>9,6</td>\n      <td>0,12</td>\n      <td>5</td>\n    </tr>\n    <tr>\n      <th>4893</th>\n      <td>4896</td>\n      <td>6,5</td>\n      <td>0,24</td>\n      <td>0,19</td>\n      <td>1,2</td>\n      <td>0,041</td>\n      <td>0,38</td>\n      <td>30</td>\n      <td>111</td>\n      <td>0,99254</td>\n      <td>2,99</td>\n      <td>0,91</td>\n      <td>0,46</td>\n      <td>9,4</td>\n      <td>0,12</td>\n      <td>6</td>\n    </tr>\n    <tr>\n      <th>4894</th>\n      <td>4897</td>\n      <td>5,5</td>\n      <td>0,29</td>\n      <td>0,3</td>\n      <td>1,1</td>\n      <td>0,022</td>\n      <td>0,38</td>\n      <td>20</td>\n      <td>110</td>\n      <td>0,98869</td>\n      <td>3,34</td>\n      <td>0,24</td>\n      <td>0,38</td>\n      <td>12,8</td>\n      <td>0,08</td>\n      <td>7</td>\n    </tr>\n    <tr>\n      <th>4895</th>\n      <td>4898</td>\n      <td>6</td>\n      <td>0,21</td>\n      <td>0,38</td>\n      <td>0,8</td>\n      <td>0,02</td>\n      <td>0,38</td>\n      <td>22</td>\n      <td>98</td>\n      <td>0,98941</td>\n      <td>3,26</td>\n      <td>0,09</td>\n      <td>0,32</td>\n      <td>11,8</td>\n      <td>0,09</td>\n      <td>6</td>\n    </tr>\n  </tbody>\n</table>\n<p>4896 rows × 16 columns</p>\n</div>"
     },
     "metadata": {}
    }
   ],
   "source": [
    "from datasets import wine_red_dataset, wine_white_dataset\n",
    "wine_red = wine_red_dataset()\n",
    "wine_white = wine_white_dataset()\n",
    "\n",
    "display(wine_red)\n",
    "display(wine_white)"
   ]
  },
  {
   "cell_type": "code",
   "execution_count": 8,
   "metadata": {},
   "outputs": [],
   "source": [
    "# Temporarily remove missing values\n",
    "wine_red.dropna(inplace=True)"
   ]
  },
  {
   "cell_type": "code",
   "execution_count": null,
   "metadata": {},
   "outputs": [],
   "source": [
    "# function to calculate model based on complete data\n",
    "\n",
    "def calculate_model():\n",
    "    wine_red_features_train, wine_red_features_test, wine_red_labels_test, wine_red_labels_test = train_test_split(wine_red_features, wine_red_labels, train_size=0.7, test_size=0.3, random_state=42)\n",
    "    logistic_regression = LogisticRegression().fit(wine_red_features, wine_red_labels)\n",
    "    return logistic_regression\n",
    "\n",
    "def get_coefficients(model):\n",
    "    "
   ]
  },
  {
   "cell_type": "code",
   "execution_count": 18,
   "metadata": {},
   "outputs": [
    {
     "output_type": "stream",
     "name": "stdout",
     "text": [
      "(1565, 15)\n(1565,)\n"
     ]
    },
    {
     "output_type": "display_data",
     "data": {
      "text/plain": "                 Feature  Coefficients\n0                     ID      0.000788\n1          fixed acidity     -0.026597\n2       volatile acidity     -0.000365\n3            citric acid     -0.001121\n4         residual sugar     -0.006563\n5              chlorides     -0.000230\n6             flavanoids     -0.001602\n7    free sulfur dioxide     -0.030115\n8   total sulfur dioxide     -0.080907\n9                density     -0.003021\n10                    pH     -0.009859\n11             sulphates     -0.002323\n12             magnesium     -0.001493\n13               alcohol     -0.033268\n14             lightness     -0.000297",
      "text/html": "<div>\n<style scoped>\n    .dataframe tbody tr th:only-of-type {\n        vertical-align: middle;\n    }\n\n    .dataframe tbody tr th {\n        vertical-align: top;\n    }\n\n    .dataframe thead th {\n        text-align: right;\n    }\n</style>\n<table border=\"1\" class=\"dataframe\">\n  <thead>\n    <tr style=\"text-align: right;\">\n      <th></th>\n      <th>Feature</th>\n      <th>Coefficients</th>\n    </tr>\n  </thead>\n  <tbody>\n    <tr>\n      <th>0</th>\n      <td>ID</td>\n      <td>0.000788</td>\n    </tr>\n    <tr>\n      <th>1</th>\n      <td>fixed acidity</td>\n      <td>-0.026597</td>\n    </tr>\n    <tr>\n      <th>2</th>\n      <td>volatile acidity</td>\n      <td>-0.000365</td>\n    </tr>\n    <tr>\n      <th>3</th>\n      <td>citric acid</td>\n      <td>-0.001121</td>\n    </tr>\n    <tr>\n      <th>4</th>\n      <td>residual sugar</td>\n      <td>-0.006563</td>\n    </tr>\n    <tr>\n      <th>5</th>\n      <td>chlorides</td>\n      <td>-0.000230</td>\n    </tr>\n    <tr>\n      <th>6</th>\n      <td>flavanoids</td>\n      <td>-0.001602</td>\n    </tr>\n    <tr>\n      <th>7</th>\n      <td>free sulfur dioxide</td>\n      <td>-0.030115</td>\n    </tr>\n    <tr>\n      <th>8</th>\n      <td>total sulfur dioxide</td>\n      <td>-0.080907</td>\n    </tr>\n    <tr>\n      <th>9</th>\n      <td>density</td>\n      <td>-0.003021</td>\n    </tr>\n    <tr>\n      <th>10</th>\n      <td>pH</td>\n      <td>-0.009859</td>\n    </tr>\n    <tr>\n      <th>11</th>\n      <td>sulphates</td>\n      <td>-0.002323</td>\n    </tr>\n    <tr>\n      <th>12</th>\n      <td>magnesium</td>\n      <td>-0.001493</td>\n    </tr>\n    <tr>\n      <th>13</th>\n      <td>alcohol</td>\n      <td>-0.033268</td>\n    </tr>\n    <tr>\n      <th>14</th>\n      <td>lightness</td>\n      <td>-0.000297</td>\n    </tr>\n  </tbody>\n</table>\n</div>"
     },
     "metadata": {}
    },
    {
     "output_type": "stream",
     "name": "stdout",
     "text": [
      "Wine red model score:\n 0.4765957446808511\n"
     ]
    }
   ],
   "source": [
    "from sklearn.linear_model import LogisticRegression\n",
    "from sklearn.model_selection import train_test_split\n",
    "\n",
    "# Split data into features and label\n",
    "# Includes removal of ID because it is no independent variable\n",
    "wine_red_features = wine_red.drop('ID', axis=1).drop('quality', axis=1)\n",
    "wine_red_labels = wine_red['quality']\n",
    "\n",
    "print(wine_red_features.shape)\n",
    "print(wine_red_labels.shape)\n",
    "\n",
    "# Split data in test 30% and training 70%\n",
    "wine_red_features_train, wine_red_features_test, wine_red_labels_train, wine_red_labels_test = train_test_split(wine_red_features, wine_red_labels, train_size=0.7, test_size=0.3, random_state=42)\n",
    "\n",
    "# Calculate model\n",
    "logistic_regression = LogisticRegression().fit(wine_red_features_train, wine_red_labels_train)\n",
    "\n",
    "# Put coefficients in a new data frame and display it\n",
    "regression_coefficients = pd.DataFrame({\"Feature\":wine_red_features_train.columns.tolist(),\"Coefficients\":logistic_regression.coef_[0]})\n",
    "display(regression_coefficients)\n",
    "\n",
    "# Calculate score for model R2, 1 is best, negative is worst\n",
    "print('Wine red model score:\\n', logistic_regression.score(wine_red_features_test, wine_red_labels_test))"
   ]
  },
  {
   "cell_type": "code",
   "execution_count": null,
   "metadata": {},
   "outputs": [],
   "source": []
  }
 ]
}