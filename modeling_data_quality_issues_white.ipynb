{
 "cells": [
  {
   "cell_type": "code",
   "execution_count": 80,
   "metadata": {},
   "outputs": [],
   "source": [
    "from datasets import wine_white_dataset, wine_white_dataset\n",
    "from sklearn.linear_model import LogisticRegression\n",
    "from sklearn.model_selection import train_test_split\n",
    "import pandas as pd\n",
    "\n",
    "wine_white = wine_white_dataset().drop('ID', axis=1)\n",
    "\n",
    "wine_white.dropna(how='all', inplace=True)"
   ]
  },
  {
   "cell_type": "markdown",
   "metadata": {},
   "source": [
    "# Modeling-Missing Values"
   ]
  },
  {
   "cell_type": "markdown",
   "metadata": {},
   "source": [
    "Information from the exploration: Missing values in the pH (15 values) and fixed acidity (17 values) data"
   ]
  },
  {
   "cell_type": "markdown",
   "metadata": {},
   "source": [
    "Fixed acidity is a missing at random value: In our case, missing fixed acidity values can be calculated from the citric acid values.     PH seem to be missing completely at random: There is no major correlation with other features"
   ]
  },
  {
   "cell_type": "markdown",
   "metadata": {},
   "source": [
    "Fixed acidity missing values are calculated by a multiple imputation because the estimation can provide\n",
    "more realistic standard errors. The multiple Imputation creates multiple data\n",
    "with different estimations. The results of different models are\n",
    "averaged or combined."
   ]
  },
  {
   "cell_type": "code",
   "execution_count": 81,
   "metadata": {
    "tags": []
   },
   "outputs": [
    {
     "output_type": "display_data",
     "data": {
      "text/plain": "     fixed acidity  pH\n75             7.4 NaN\n76             7.1 NaN\n77             7.0 NaN\n152            6.9 NaN\n263            7.2 NaN\n264            6.2 NaN\n330            6.4 NaN\n331            6.8 NaN\n439            6.2 NaN\n520            7.9 NaN\n604            6.3 NaN\n645            6.5 NaN",
      "text/html": "<div>\n<style scoped>\n    .dataframe tbody tr th:only-of-type {\n        vertical-align: middle;\n    }\n\n    .dataframe tbody tr th {\n        vertical-align: top;\n    }\n\n    .dataframe thead th {\n        text-align: right;\n    }\n</style>\n<table border=\"1\" class=\"dataframe\">\n  <thead>\n    <tr style=\"text-align: right;\">\n      <th></th>\n      <th>fixed acidity</th>\n      <th>pH</th>\n    </tr>\n  </thead>\n  <tbody>\n    <tr>\n      <th>75</th>\n      <td>7.4</td>\n      <td>NaN</td>\n    </tr>\n    <tr>\n      <th>76</th>\n      <td>7.1</td>\n      <td>NaN</td>\n    </tr>\n    <tr>\n      <th>77</th>\n      <td>7.0</td>\n      <td>NaN</td>\n    </tr>\n    <tr>\n      <th>152</th>\n      <td>6.9</td>\n      <td>NaN</td>\n    </tr>\n    <tr>\n      <th>263</th>\n      <td>7.2</td>\n      <td>NaN</td>\n    </tr>\n    <tr>\n      <th>264</th>\n      <td>6.2</td>\n      <td>NaN</td>\n    </tr>\n    <tr>\n      <th>330</th>\n      <td>6.4</td>\n      <td>NaN</td>\n    </tr>\n    <tr>\n      <th>331</th>\n      <td>6.8</td>\n      <td>NaN</td>\n    </tr>\n    <tr>\n      <th>439</th>\n      <td>6.2</td>\n      <td>NaN</td>\n    </tr>\n    <tr>\n      <th>520</th>\n      <td>7.9</td>\n      <td>NaN</td>\n    </tr>\n    <tr>\n      <th>604</th>\n      <td>6.3</td>\n      <td>NaN</td>\n    </tr>\n    <tr>\n      <th>645</th>\n      <td>6.5</td>\n      <td>NaN</td>\n    </tr>\n  </tbody>\n</table>\n</div>"
     },
     "metadata": {}
    },
    {
     "output_type": "display_data",
     "data": {
      "text/plain": "      fixed acidity    pH\n0               7.0  3.00\n1               6.3  3.30\n2               8.1  3.26\n3               7.2  3.19\n4               7.2  3.19\n...             ...   ...\n4891            6.2  3.27\n4892            6.6  3.15\n4893            6.5  2.99\n4894            5.5  3.34\n4895            6.0  3.26\n\n[4896 rows x 2 columns]",
      "text/html": "<div>\n<style scoped>\n    .dataframe tbody tr th:only-of-type {\n        vertical-align: middle;\n    }\n\n    .dataframe tbody tr th {\n        vertical-align: top;\n    }\n\n    .dataframe thead th {\n        text-align: right;\n    }\n</style>\n<table border=\"1\" class=\"dataframe\">\n  <thead>\n    <tr style=\"text-align: right;\">\n      <th></th>\n      <th>fixed acidity</th>\n      <th>pH</th>\n    </tr>\n  </thead>\n  <tbody>\n    <tr>\n      <th>0</th>\n      <td>7.0</td>\n      <td>3.00</td>\n    </tr>\n    <tr>\n      <th>1</th>\n      <td>6.3</td>\n      <td>3.30</td>\n    </tr>\n    <tr>\n      <th>2</th>\n      <td>8.1</td>\n      <td>3.26</td>\n    </tr>\n    <tr>\n      <th>3</th>\n      <td>7.2</td>\n      <td>3.19</td>\n    </tr>\n    <tr>\n      <th>4</th>\n      <td>7.2</td>\n      <td>3.19</td>\n    </tr>\n    <tr>\n      <th>...</th>\n      <td>...</td>\n      <td>...</td>\n    </tr>\n    <tr>\n      <th>4891</th>\n      <td>6.2</td>\n      <td>3.27</td>\n    </tr>\n    <tr>\n      <th>4892</th>\n      <td>6.6</td>\n      <td>3.15</td>\n    </tr>\n    <tr>\n      <th>4893</th>\n      <td>6.5</td>\n      <td>2.99</td>\n    </tr>\n    <tr>\n      <th>4894</th>\n      <td>5.5</td>\n      <td>3.34</td>\n    </tr>\n    <tr>\n      <th>4895</th>\n      <td>6.0</td>\n      <td>3.26</td>\n    </tr>\n  </tbody>\n</table>\n<p>4896 rows × 2 columns</p>\n</div>"
     },
     "metadata": {}
    },
    {
     "output_type": "display_data",
     "data": {
      "text/plain": "'Regression imputed pH: \\n'"
     },
     "metadata": {}
    },
    {
     "output_type": "display_data",
     "data": {
      "text/plain": "     fixed acidity        pH\n75             7.4  3.146776\n76             7.1  3.169643\n77             7.0  3.177265\n152            6.9  3.184887\n263            7.2  3.162020\n264            6.2  3.238244\n330            6.4  3.222999\n331            6.8  3.192510\n439            6.2  3.238244\n520            7.9  3.108664\n604            6.3  3.230621\n645            6.5  3.215377",
      "text/html": "<div>\n<style scoped>\n    .dataframe tbody tr th:only-of-type {\n        vertical-align: middle;\n    }\n\n    .dataframe tbody tr th {\n        vertical-align: top;\n    }\n\n    .dataframe thead th {\n        text-align: right;\n    }\n</style>\n<table border=\"1\" class=\"dataframe\">\n  <thead>\n    <tr style=\"text-align: right;\">\n      <th></th>\n      <th>fixed acidity</th>\n      <th>pH</th>\n    </tr>\n  </thead>\n  <tbody>\n    <tr>\n      <th>75</th>\n      <td>7.4</td>\n      <td>3.146776</td>\n    </tr>\n    <tr>\n      <th>76</th>\n      <td>7.1</td>\n      <td>3.169643</td>\n    </tr>\n    <tr>\n      <th>77</th>\n      <td>7.0</td>\n      <td>3.177265</td>\n    </tr>\n    <tr>\n      <th>152</th>\n      <td>6.9</td>\n      <td>3.184887</td>\n    </tr>\n    <tr>\n      <th>263</th>\n      <td>7.2</td>\n      <td>3.162020</td>\n    </tr>\n    <tr>\n      <th>264</th>\n      <td>6.2</td>\n      <td>3.238244</td>\n    </tr>\n    <tr>\n      <th>330</th>\n      <td>6.4</td>\n      <td>3.222999</td>\n    </tr>\n    <tr>\n      <th>331</th>\n      <td>6.8</td>\n      <td>3.192510</td>\n    </tr>\n    <tr>\n      <th>439</th>\n      <td>6.2</td>\n      <td>3.238244</td>\n    </tr>\n    <tr>\n      <th>520</th>\n      <td>7.9</td>\n      <td>3.108664</td>\n    </tr>\n    <tr>\n      <th>604</th>\n      <td>6.3</td>\n      <td>3.230621</td>\n    </tr>\n    <tr>\n      <th>645</th>\n      <td>6.5</td>\n      <td>3.215377</td>\n    </tr>\n  </tbody>\n</table>\n</div>"
     },
     "metadata": {}
    },
    {
     "output_type": "display_data",
     "data": {
      "text/plain": "Empty DataFrame\nColumns: [fixed acidity, volatile acidity, citric acid, residual sugar, chlorides, flavanoids, free sulfur dioxide, total sulfur dioxide, density, pH, magnesium, sulphates, alcohol, lightness, quality]\nIndex: []",
      "text/html": "<div>\n<style scoped>\n    .dataframe tbody tr th:only-of-type {\n        vertical-align: middle;\n    }\n\n    .dataframe tbody tr th {\n        vertical-align: top;\n    }\n\n    .dataframe thead th {\n        text-align: right;\n    }\n</style>\n<table border=\"1\" class=\"dataframe\">\n  <thead>\n    <tr style=\"text-align: right;\">\n      <th></th>\n      <th>fixed acidity</th>\n      <th>volatile acidity</th>\n      <th>citric acid</th>\n      <th>residual sugar</th>\n      <th>chlorides</th>\n      <th>flavanoids</th>\n      <th>free sulfur dioxide</th>\n      <th>total sulfur dioxide</th>\n      <th>density</th>\n      <th>pH</th>\n      <th>magnesium</th>\n      <th>sulphates</th>\n      <th>alcohol</th>\n      <th>lightness</th>\n      <th>quality</th>\n    </tr>\n  </thead>\n  <tbody>\n  </tbody>\n</table>\n</div>"
     },
     "metadata": {}
    },
    {
     "output_type": "stream",
     "name": "stdout",
     "text": [
      "\n"
     ]
    }
   ],
   "source": [
    "from sklearn.experimental import enable_iterative_imputer\n",
    "from sklearn.impute import IterativeImputer\n",
    "import numpy as np\n",
    "from datasets import show_mvs\n",
    "\n",
    "columns = ['fixed acidity','pH']\n",
    "w_white_imp=wine_white[columns]\n",
    "mvs = show_mvs(w_white_imp)\n",
    "\n",
    "display(w_white_imp)\n",
    "\n",
    "imp = IterativeImputer(max_iter=20)\n",
    "transformed_x= imp.fit_transform(w_white_imp)\n",
    "df_missing_v=pd.DataFrame(transformed_x, columns=columns)\n",
    "display(\"Regression imputed pH: \\n\", df_missing_v.loc[mvs.index])\n",
    "wine_white['pH'] = df_missing_v['pH']\n",
    "show_mvs(wine_white)\n",
    "print()"
   ]
  },
  {
   "cell_type": "markdown",
   "metadata": {},
   "source": [
    "# Outliers"
   ]
  },
  {
   "cell_type": "markdown",
   "metadata": {},
   "source": [
    "Outlier Detection"
   ]
  },
  {
   "cell_type": "code",
   "execution_count": 82,
   "metadata": {},
   "outputs": [
    {
     "output_type": "display_data",
     "data": {
      "text/plain": "(4896, 15)"
     },
     "metadata": {}
    },
    {
     "output_type": "stream",
     "name": "stdout",
     "text": [
      "Score before:  0.45383986928104575\n",
      "Score after:  0.4631262094173296\n",
      "Inliers:  4651 Outliers: (245, 14)\n"
     ]
    },
    {
     "output_type": "display_data",
     "data": {
      "text/plain": "'Outliers data:'"
     },
     "metadata": {}
    },
    {
     "output_type": "display_data",
     "data": {
      "text/plain": "      fixed acidity  volatile acidity  citric acid  residual sugar  chlorides  \\\n14              8.3              0.42         0.62           19.25      0.040   \n17              6.2              0.66         0.48            1.20      0.029   \n20              6.2              0.66         0.48            1.20      0.029   \n23              7.6              0.67         0.14            1.50      0.074   \n98              9.8              0.36         0.46           10.50      0.038   \n...             ...               ...          ...             ...        ...   \n4845            4.4              0.54         0.09            5.10      0.038   \n4865            5.3              0.60         0.34            1.40      0.031   \n4875            5.9              0.54         0.00            0.80      0.032   \n4881            4.9              0.47         0.17            1.90      0.035   \n4885            6.2              0.41         0.22            1.90      0.023   \n\n      flavanoids  free sulfur dioxide  total sulfur dioxide  density    pH  \\\n14          0.38                 41.0                 172.0  1.00020  2.98   \n17          0.38                 29.0                  75.0  0.98920  3.33   \n20          0.38                 29.0                  75.0  0.98920  3.33   \n23          0.38                 25.0                 168.0  0.99370  3.05   \n98          0.38                  4.0                  83.0  0.99560  2.89   \n...          ...                  ...                   ...      ...   ...   \n4845        0.38                 52.0                  97.0  0.99022  3.41   \n4865        0.38                  3.0                  60.0  0.98854  3.27   \n4875        0.38                 12.0                  82.0  0.99286  3.25   \n4881        0.38                 60.0                 148.0  0.98964  3.27   \n4885        0.38                  5.0                  56.0  0.98928  3.04   \n\n      magnesium  sulphates  alcohol  lightness  \n14         0.46       0.67      9.7       0.12  \n17         0.53       0.39     12.8       0.09  \n20         0.46       0.39     12.8       0.08  \n23         0.92       0.51      9.3       0.13  \n98         0.27       0.30     10.1       0.11  \n...         ...        ...      ...        ...  \n4845       0.75       0.40     12.2       0.09  \n4865       0.27       0.38     13.0       0.10  \n4875       0.75       0.36      8.8       0.12  \n4881       0.43       0.35     11.5       0.09  \n4885       0.14       0.79     13.0       0.09  \n\n[245 rows x 14 columns]",
      "text/html": "<div>\n<style scoped>\n    .dataframe tbody tr th:only-of-type {\n        vertical-align: middle;\n    }\n\n    .dataframe tbody tr th {\n        vertical-align: top;\n    }\n\n    .dataframe thead th {\n        text-align: right;\n    }\n</style>\n<table border=\"1\" class=\"dataframe\">\n  <thead>\n    <tr style=\"text-align: right;\">\n      <th></th>\n      <th>fixed acidity</th>\n      <th>volatile acidity</th>\n      <th>citric acid</th>\n      <th>residual sugar</th>\n      <th>chlorides</th>\n      <th>flavanoids</th>\n      <th>free sulfur dioxide</th>\n      <th>total sulfur dioxide</th>\n      <th>density</th>\n      <th>pH</th>\n      <th>magnesium</th>\n      <th>sulphates</th>\n      <th>alcohol</th>\n      <th>lightness</th>\n    </tr>\n  </thead>\n  <tbody>\n    <tr>\n      <th>14</th>\n      <td>8.3</td>\n      <td>0.42</td>\n      <td>0.62</td>\n      <td>19.25</td>\n      <td>0.040</td>\n      <td>0.38</td>\n      <td>41.0</td>\n      <td>172.0</td>\n      <td>1.00020</td>\n      <td>2.98</td>\n      <td>0.46</td>\n      <td>0.67</td>\n      <td>9.7</td>\n      <td>0.12</td>\n    </tr>\n    <tr>\n      <th>17</th>\n      <td>6.2</td>\n      <td>0.66</td>\n      <td>0.48</td>\n      <td>1.20</td>\n      <td>0.029</td>\n      <td>0.38</td>\n      <td>29.0</td>\n      <td>75.0</td>\n      <td>0.98920</td>\n      <td>3.33</td>\n      <td>0.53</td>\n      <td>0.39</td>\n      <td>12.8</td>\n      <td>0.09</td>\n    </tr>\n    <tr>\n      <th>20</th>\n      <td>6.2</td>\n      <td>0.66</td>\n      <td>0.48</td>\n      <td>1.20</td>\n      <td>0.029</td>\n      <td>0.38</td>\n      <td>29.0</td>\n      <td>75.0</td>\n      <td>0.98920</td>\n      <td>3.33</td>\n      <td>0.46</td>\n      <td>0.39</td>\n      <td>12.8</td>\n      <td>0.08</td>\n    </tr>\n    <tr>\n      <th>23</th>\n      <td>7.6</td>\n      <td>0.67</td>\n      <td>0.14</td>\n      <td>1.50</td>\n      <td>0.074</td>\n      <td>0.38</td>\n      <td>25.0</td>\n      <td>168.0</td>\n      <td>0.99370</td>\n      <td>3.05</td>\n      <td>0.92</td>\n      <td>0.51</td>\n      <td>9.3</td>\n      <td>0.13</td>\n    </tr>\n    <tr>\n      <th>98</th>\n      <td>9.8</td>\n      <td>0.36</td>\n      <td>0.46</td>\n      <td>10.50</td>\n      <td>0.038</td>\n      <td>0.38</td>\n      <td>4.0</td>\n      <td>83.0</td>\n      <td>0.99560</td>\n      <td>2.89</td>\n      <td>0.27</td>\n      <td>0.30</td>\n      <td>10.1</td>\n      <td>0.11</td>\n    </tr>\n    <tr>\n      <th>...</th>\n      <td>...</td>\n      <td>...</td>\n      <td>...</td>\n      <td>...</td>\n      <td>...</td>\n      <td>...</td>\n      <td>...</td>\n      <td>...</td>\n      <td>...</td>\n      <td>...</td>\n      <td>...</td>\n      <td>...</td>\n      <td>...</td>\n      <td>...</td>\n    </tr>\n    <tr>\n      <th>4845</th>\n      <td>4.4</td>\n      <td>0.54</td>\n      <td>0.09</td>\n      <td>5.10</td>\n      <td>0.038</td>\n      <td>0.38</td>\n      <td>52.0</td>\n      <td>97.0</td>\n      <td>0.99022</td>\n      <td>3.41</td>\n      <td>0.75</td>\n      <td>0.40</td>\n      <td>12.2</td>\n      <td>0.09</td>\n    </tr>\n    <tr>\n      <th>4865</th>\n      <td>5.3</td>\n      <td>0.60</td>\n      <td>0.34</td>\n      <td>1.40</td>\n      <td>0.031</td>\n      <td>0.38</td>\n      <td>3.0</td>\n      <td>60.0</td>\n      <td>0.98854</td>\n      <td>3.27</td>\n      <td>0.27</td>\n      <td>0.38</td>\n      <td>13.0</td>\n      <td>0.10</td>\n    </tr>\n    <tr>\n      <th>4875</th>\n      <td>5.9</td>\n      <td>0.54</td>\n      <td>0.00</td>\n      <td>0.80</td>\n      <td>0.032</td>\n      <td>0.38</td>\n      <td>12.0</td>\n      <td>82.0</td>\n      <td>0.99286</td>\n      <td>3.25</td>\n      <td>0.75</td>\n      <td>0.36</td>\n      <td>8.8</td>\n      <td>0.12</td>\n    </tr>\n    <tr>\n      <th>4881</th>\n      <td>4.9</td>\n      <td>0.47</td>\n      <td>0.17</td>\n      <td>1.90</td>\n      <td>0.035</td>\n      <td>0.38</td>\n      <td>60.0</td>\n      <td>148.0</td>\n      <td>0.98964</td>\n      <td>3.27</td>\n      <td>0.43</td>\n      <td>0.35</td>\n      <td>11.5</td>\n      <td>0.09</td>\n    </tr>\n    <tr>\n      <th>4885</th>\n      <td>6.2</td>\n      <td>0.41</td>\n      <td>0.22</td>\n      <td>1.90</td>\n      <td>0.023</td>\n      <td>0.38</td>\n      <td>5.0</td>\n      <td>56.0</td>\n      <td>0.98928</td>\n      <td>3.04</td>\n      <td>0.14</td>\n      <td>0.79</td>\n      <td>13.0</td>\n      <td>0.09</td>\n    </tr>\n  </tbody>\n</table>\n<p>245 rows × 14 columns</p>\n</div>"
     },
     "metadata": {}
    },
    {
     "output_type": "display_data",
     "data": {
      "text/plain": "'Inliers data:'"
     },
     "metadata": {}
    },
    {
     "output_type": "display_data",
     "data": {
      "text/plain": "      fixed acidity  volatile acidity  citric acid  residual sugar  chlorides  \\\n0               7.0              0.27         0.36            20.7      0.045   \n1               6.3              0.30         0.34             1.6      0.049   \n2               8.1              0.28         0.40             6.9      0.050   \n3               7.2              0.23         0.32             8.5      0.058   \n4               7.2              0.23         0.32             8.5      0.058   \n...             ...               ...          ...             ...        ...   \n4891            6.2              0.21         0.29             1.6      0.039   \n4892            6.6              0.32         0.36             8.0      0.047   \n4893            6.5              0.24         0.19             1.2      0.041   \n4894            5.5              0.29         0.30             1.1      0.022   \n4895            6.0              0.21         0.38             0.8      0.020   \n\n      flavanoids  free sulfur dioxide  total sulfur dioxide  density    pH  \\\n0           0.38                 45.0                 170.0  1.00100  3.00   \n1           0.38                 14.0                 132.0  0.99400  3.30   \n2           0.38                 30.0                  97.0  0.99510  3.26   \n3           0.38                 47.0                 186.0  0.99560  3.19   \n4           0.38                 47.0                 186.0  0.99560  3.19   \n...          ...                  ...                   ...      ...   ...   \n4891        0.38                 24.0                  92.0  0.99114  3.27   \n4892        0.38                 57.0                 168.0  0.99490  3.15   \n4893        0.38                 30.0                 111.0  0.99254  2.99   \n4894        0.38                 20.0                 110.0  0.98869  3.34   \n4895        0.38                 22.0                  98.0  0.98941  3.26   \n\n      magnesium  sulphates  alcohol  lightness  \n0          0.46       0.45      8.8       0.13  \n1          0.56       0.49      9.5       0.11  \n2          0.56       0.44     10.1       0.11  \n3          0.53       0.40      9.9       0.12  \n4          0.52       0.40      9.9       0.10  \n...         ...        ...      ...        ...  \n4891       0.26       0.50     11.2       0.10  \n4892       0.85       0.46      9.6       0.12  \n4893       0.91       0.46      9.4       0.12  \n4894       0.24       0.38     12.8       0.08  \n4895       0.09       0.32     11.8       0.09  \n\n[4651 rows x 14 columns]",
      "text/html": "<div>\n<style scoped>\n    .dataframe tbody tr th:only-of-type {\n        vertical-align: middle;\n    }\n\n    .dataframe tbody tr th {\n        vertical-align: top;\n    }\n\n    .dataframe thead th {\n        text-align: right;\n    }\n</style>\n<table border=\"1\" class=\"dataframe\">\n  <thead>\n    <tr style=\"text-align: right;\">\n      <th></th>\n      <th>fixed acidity</th>\n      <th>volatile acidity</th>\n      <th>citric acid</th>\n      <th>residual sugar</th>\n      <th>chlorides</th>\n      <th>flavanoids</th>\n      <th>free sulfur dioxide</th>\n      <th>total sulfur dioxide</th>\n      <th>density</th>\n      <th>pH</th>\n      <th>magnesium</th>\n      <th>sulphates</th>\n      <th>alcohol</th>\n      <th>lightness</th>\n    </tr>\n  </thead>\n  <tbody>\n    <tr>\n      <th>0</th>\n      <td>7.0</td>\n      <td>0.27</td>\n      <td>0.36</td>\n      <td>20.7</td>\n      <td>0.045</td>\n      <td>0.38</td>\n      <td>45.0</td>\n      <td>170.0</td>\n      <td>1.00100</td>\n      <td>3.00</td>\n      <td>0.46</td>\n      <td>0.45</td>\n      <td>8.8</td>\n      <td>0.13</td>\n    </tr>\n    <tr>\n      <th>1</th>\n      <td>6.3</td>\n      <td>0.30</td>\n      <td>0.34</td>\n      <td>1.6</td>\n      <td>0.049</td>\n      <td>0.38</td>\n      <td>14.0</td>\n      <td>132.0</td>\n      <td>0.99400</td>\n      <td>3.30</td>\n      <td>0.56</td>\n      <td>0.49</td>\n      <td>9.5</td>\n      <td>0.11</td>\n    </tr>\n    <tr>\n      <th>2</th>\n      <td>8.1</td>\n      <td>0.28</td>\n      <td>0.40</td>\n      <td>6.9</td>\n      <td>0.050</td>\n      <td>0.38</td>\n      <td>30.0</td>\n      <td>97.0</td>\n      <td>0.99510</td>\n      <td>3.26</td>\n      <td>0.56</td>\n      <td>0.44</td>\n      <td>10.1</td>\n      <td>0.11</td>\n    </tr>\n    <tr>\n      <th>3</th>\n      <td>7.2</td>\n      <td>0.23</td>\n      <td>0.32</td>\n      <td>8.5</td>\n      <td>0.058</td>\n      <td>0.38</td>\n      <td>47.0</td>\n      <td>186.0</td>\n      <td>0.99560</td>\n      <td>3.19</td>\n      <td>0.53</td>\n      <td>0.40</td>\n      <td>9.9</td>\n      <td>0.12</td>\n    </tr>\n    <tr>\n      <th>4</th>\n      <td>7.2</td>\n      <td>0.23</td>\n      <td>0.32</td>\n      <td>8.5</td>\n      <td>0.058</td>\n      <td>0.38</td>\n      <td>47.0</td>\n      <td>186.0</td>\n      <td>0.99560</td>\n      <td>3.19</td>\n      <td>0.52</td>\n      <td>0.40</td>\n      <td>9.9</td>\n      <td>0.10</td>\n    </tr>\n    <tr>\n      <th>...</th>\n      <td>...</td>\n      <td>...</td>\n      <td>...</td>\n      <td>...</td>\n      <td>...</td>\n      <td>...</td>\n      <td>...</td>\n      <td>...</td>\n      <td>...</td>\n      <td>...</td>\n      <td>...</td>\n      <td>...</td>\n      <td>...</td>\n      <td>...</td>\n    </tr>\n    <tr>\n      <th>4891</th>\n      <td>6.2</td>\n      <td>0.21</td>\n      <td>0.29</td>\n      <td>1.6</td>\n      <td>0.039</td>\n      <td>0.38</td>\n      <td>24.0</td>\n      <td>92.0</td>\n      <td>0.99114</td>\n      <td>3.27</td>\n      <td>0.26</td>\n      <td>0.50</td>\n      <td>11.2</td>\n      <td>0.10</td>\n    </tr>\n    <tr>\n      <th>4892</th>\n      <td>6.6</td>\n      <td>0.32</td>\n      <td>0.36</td>\n      <td>8.0</td>\n      <td>0.047</td>\n      <td>0.38</td>\n      <td>57.0</td>\n      <td>168.0</td>\n      <td>0.99490</td>\n      <td>3.15</td>\n      <td>0.85</td>\n      <td>0.46</td>\n      <td>9.6</td>\n      <td>0.12</td>\n    </tr>\n    <tr>\n      <th>4893</th>\n      <td>6.5</td>\n      <td>0.24</td>\n      <td>0.19</td>\n      <td>1.2</td>\n      <td>0.041</td>\n      <td>0.38</td>\n      <td>30.0</td>\n      <td>111.0</td>\n      <td>0.99254</td>\n      <td>2.99</td>\n      <td>0.91</td>\n      <td>0.46</td>\n      <td>9.4</td>\n      <td>0.12</td>\n    </tr>\n    <tr>\n      <th>4894</th>\n      <td>5.5</td>\n      <td>0.29</td>\n      <td>0.30</td>\n      <td>1.1</td>\n      <td>0.022</td>\n      <td>0.38</td>\n      <td>20.0</td>\n      <td>110.0</td>\n      <td>0.98869</td>\n      <td>3.34</td>\n      <td>0.24</td>\n      <td>0.38</td>\n      <td>12.8</td>\n      <td>0.08</td>\n    </tr>\n    <tr>\n      <th>4895</th>\n      <td>6.0</td>\n      <td>0.21</td>\n      <td>0.38</td>\n      <td>0.8</td>\n      <td>0.020</td>\n      <td>0.38</td>\n      <td>22.0</td>\n      <td>98.0</td>\n      <td>0.98941</td>\n      <td>3.26</td>\n      <td>0.09</td>\n      <td>0.32</td>\n      <td>11.8</td>\n      <td>0.09</td>\n    </tr>\n  </tbody>\n</table>\n<p>4651 rows × 14 columns</p>\n</div>"
     },
     "metadata": {}
    }
   ],
   "source": [
    "from sklearn.model_selection import train_test_split \n",
    "from sklearn.ensemble import IsolationForest\n",
    "from datasets import get_logist_regression_kfold_score, show_mvs\n",
    "\n",
    "display(wine_white.shape)\n",
    "X = wine_white.drop('quality', axis=1)\n",
    "y = wine_white['quality']\n",
    "\n",
    "iso = IsolationForest(contamination=0.05)\n",
    "y_out = iso.fit_predict(X)\n",
    "\n",
    "score_before = get_logist_regression_kfold_score(X,y)\n",
    "print('Score before: ', score_before)\n",
    "\n",
    "# build a mask to select all rows that are not outliers (inlier=1, outlier=-1)\n",
    "mask = y_out != -1\n",
    "X_inlier, y_inlier = X[mask], y[mask]\n",
    "X_outliers, y_outliers = X[~mask], y[~mask]\n",
    "\n",
    "score_after = get_logist_regression_kfold_score(X_inlier,y_inlier)\n",
    "print('Score after: ', score_after)\n",
    "\n",
    "# Inliers vs. Outliers\n",
    "print(\"Inliers: \",X_inlier.shape[0],\"Outliers:\",X_outliers.shape)\n",
    "display('Outliers data:', X_outliers)\n",
    "display('Inliers data:', X_inlier)\n",
    "\n",
    "# wine_white = X_inlier\n",
    "# wine_white['quality'] = y_inlier"
   ]
  },
  {
   "cell_type": "markdown",
   "metadata": {},
   "source": [
    "https://www.pluralsight.com/guides/cleaning-up-data-from-outliers"
   ]
  },
  {
   "cell_type": "markdown",
   "metadata": {},
   "source": [
    "# Noise Handling"
   ]
  },
  {
   "cell_type": "markdown",
   "metadata": {},
   "source": [
    "Our assumption: The found noise data are feature noises --> jedes feature nach diesem Vorgehen bearbeiten? Oder die 58 einfach Instance löschen oder???"
   ]
  },
  {
   "cell_type": "code",
   "execution_count": 83,
   "metadata": {
    "tags": []
   },
   "outputs": [
    {
     "output_type": "display_data",
     "data": {
      "text/plain": "(4896, 3)"
     },
     "metadata": {}
    },
    {
     "output_type": "display_data",
     "data": {
      "text/plain": "      Prediction  quality  Correct Prediction\n0              5        6                True\n1              5        6                True\n2              6        6                True\n3              5        6                True\n4              5        6                True\n...          ...      ...                 ...\n4891           6        6                True\n4892           6        5                True\n4893           6        6                True\n4894           7        7                True\n4895           6        6                True\n\n[4896 rows x 3 columns]",
      "text/html": "<div>\n<style scoped>\n    .dataframe tbody tr th:only-of-type {\n        vertical-align: middle;\n    }\n\n    .dataframe tbody tr th {\n        vertical-align: top;\n    }\n\n    .dataframe thead th {\n        text-align: right;\n    }\n</style>\n<table border=\"1\" class=\"dataframe\">\n  <thead>\n    <tr style=\"text-align: right;\">\n      <th></th>\n      <th>Prediction</th>\n      <th>quality</th>\n      <th>Correct Prediction</th>\n    </tr>\n  </thead>\n  <tbody>\n    <tr>\n      <th>0</th>\n      <td>5</td>\n      <td>6</td>\n      <td>True</td>\n    </tr>\n    <tr>\n      <th>1</th>\n      <td>5</td>\n      <td>6</td>\n      <td>True</td>\n    </tr>\n    <tr>\n      <th>2</th>\n      <td>6</td>\n      <td>6</td>\n      <td>True</td>\n    </tr>\n    <tr>\n      <th>3</th>\n      <td>5</td>\n      <td>6</td>\n      <td>True</td>\n    </tr>\n    <tr>\n      <th>4</th>\n      <td>5</td>\n      <td>6</td>\n      <td>True</td>\n    </tr>\n    <tr>\n      <th>...</th>\n      <td>...</td>\n      <td>...</td>\n      <td>...</td>\n    </tr>\n    <tr>\n      <th>4891</th>\n      <td>6</td>\n      <td>6</td>\n      <td>True</td>\n    </tr>\n    <tr>\n      <th>4892</th>\n      <td>6</td>\n      <td>5</td>\n      <td>True</td>\n    </tr>\n    <tr>\n      <th>4893</th>\n      <td>6</td>\n      <td>6</td>\n      <td>True</td>\n    </tr>\n    <tr>\n      <th>4894</th>\n      <td>7</td>\n      <td>7</td>\n      <td>True</td>\n    </tr>\n    <tr>\n      <th>4895</th>\n      <td>6</td>\n      <td>6</td>\n      <td>True</td>\n    </tr>\n  </tbody>\n</table>\n<p>4896 rows × 3 columns</p>\n</div>"
     },
     "metadata": {}
    },
    {
     "output_type": "stream",
     "name": "stdout",
     "text": [
      "False predictions\n"
     ]
    },
    {
     "output_type": "display_data",
     "data": {
      "text/plain": "(363, 3)"
     },
     "metadata": {}
    },
    {
     "output_type": "display_data",
     "data": {
      "text/plain": "      Prediction  quality  Correct Prediction\n16             4        6               False\n17             4        8               False\n20             4        8               False\n22             6        8               False\n31             4        6               False\n...          ...      ...                 ...\n4772           6        4               False\n4802           7        4               False\n4837           7        4               False\n4850           7        5               False\n4851           7        5               False\n\n[363 rows x 3 columns]",
      "text/html": "<div>\n<style scoped>\n    .dataframe tbody tr th:only-of-type {\n        vertical-align: middle;\n    }\n\n    .dataframe tbody tr th {\n        vertical-align: top;\n    }\n\n    .dataframe thead th {\n        text-align: right;\n    }\n</style>\n<table border=\"1\" class=\"dataframe\">\n  <thead>\n    <tr style=\"text-align: right;\">\n      <th></th>\n      <th>Prediction</th>\n      <th>quality</th>\n      <th>Correct Prediction</th>\n    </tr>\n  </thead>\n  <tbody>\n    <tr>\n      <th>16</th>\n      <td>4</td>\n      <td>6</td>\n      <td>False</td>\n    </tr>\n    <tr>\n      <th>17</th>\n      <td>4</td>\n      <td>8</td>\n      <td>False</td>\n    </tr>\n    <tr>\n      <th>20</th>\n      <td>4</td>\n      <td>8</td>\n      <td>False</td>\n    </tr>\n    <tr>\n      <th>22</th>\n      <td>6</td>\n      <td>8</td>\n      <td>False</td>\n    </tr>\n    <tr>\n      <th>31</th>\n      <td>4</td>\n      <td>6</td>\n      <td>False</td>\n    </tr>\n    <tr>\n      <th>...</th>\n      <td>...</td>\n      <td>...</td>\n      <td>...</td>\n    </tr>\n    <tr>\n      <th>4772</th>\n      <td>6</td>\n      <td>4</td>\n      <td>False</td>\n    </tr>\n    <tr>\n      <th>4802</th>\n      <td>7</td>\n      <td>4</td>\n      <td>False</td>\n    </tr>\n    <tr>\n      <th>4837</th>\n      <td>7</td>\n      <td>4</td>\n      <td>False</td>\n    </tr>\n    <tr>\n      <th>4850</th>\n      <td>7</td>\n      <td>5</td>\n      <td>False</td>\n    </tr>\n    <tr>\n      <th>4851</th>\n      <td>7</td>\n      <td>5</td>\n      <td>False</td>\n    </tr>\n  </tbody>\n</table>\n<p>363 rows × 3 columns</p>\n</div>"
     },
     "metadata": {}
    },
    {
     "output_type": "display_data",
     "data": {
      "text/plain": "'Outliers data'"
     },
     "metadata": {}
    },
    {
     "output_type": "display_data",
     "data": {
      "text/plain": "      fixed acidity  volatile acidity  citric acid  residual sugar  chlorides  \\\n14              8.3              0.42         0.62           19.25      0.040   \n17              6.2              0.66         0.48            1.20      0.029   \n20              6.2              0.66         0.48            1.20      0.029   \n23              7.6              0.67         0.14            1.50      0.074   \n98              9.8              0.36         0.46           10.50      0.038   \n...             ...               ...          ...             ...        ...   \n4845            4.4              0.54         0.09            5.10      0.038   \n4865            5.3              0.60         0.34            1.40      0.031   \n4875            5.9              0.54         0.00            0.80      0.032   \n4881            4.9              0.47         0.17            1.90      0.035   \n4885            6.2              0.41         0.22            1.90      0.023   \n\n      flavanoids  free sulfur dioxide  total sulfur dioxide  density    pH  \\\n14          0.38                 41.0                 172.0  1.00020  2.98   \n17          0.38                 29.0                  75.0  0.98920  3.33   \n20          0.38                 29.0                  75.0  0.98920  3.33   \n23          0.38                 25.0                 168.0  0.99370  3.05   \n98          0.38                  4.0                  83.0  0.99560  2.89   \n...          ...                  ...                   ...      ...   ...   \n4845        0.38                 52.0                  97.0  0.99022  3.41   \n4865        0.38                  3.0                  60.0  0.98854  3.27   \n4875        0.38                 12.0                  82.0  0.99286  3.25   \n4881        0.38                 60.0                 148.0  0.98964  3.27   \n4885        0.38                  5.0                  56.0  0.98928  3.04   \n\n      magnesium  sulphates  alcohol  lightness  \n14         0.46       0.67      9.7       0.12  \n17         0.53       0.39     12.8       0.09  \n20         0.46       0.39     12.8       0.08  \n23         0.92       0.51      9.3       0.13  \n98         0.27       0.30     10.1       0.11  \n...         ...        ...      ...        ...  \n4845       0.75       0.40     12.2       0.09  \n4865       0.27       0.38     13.0       0.10  \n4875       0.75       0.36      8.8       0.12  \n4881       0.43       0.35     11.5       0.09  \n4885       0.14       0.79     13.0       0.09  \n\n[245 rows x 14 columns]",
      "text/html": "<div>\n<style scoped>\n    .dataframe tbody tr th:only-of-type {\n        vertical-align: middle;\n    }\n\n    .dataframe tbody tr th {\n        vertical-align: top;\n    }\n\n    .dataframe thead th {\n        text-align: right;\n    }\n</style>\n<table border=\"1\" class=\"dataframe\">\n  <thead>\n    <tr style=\"text-align: right;\">\n      <th></th>\n      <th>fixed acidity</th>\n      <th>volatile acidity</th>\n      <th>citric acid</th>\n      <th>residual sugar</th>\n      <th>chlorides</th>\n      <th>flavanoids</th>\n      <th>free sulfur dioxide</th>\n      <th>total sulfur dioxide</th>\n      <th>density</th>\n      <th>pH</th>\n      <th>magnesium</th>\n      <th>sulphates</th>\n      <th>alcohol</th>\n      <th>lightness</th>\n    </tr>\n  </thead>\n  <tbody>\n    <tr>\n      <th>14</th>\n      <td>8.3</td>\n      <td>0.42</td>\n      <td>0.62</td>\n      <td>19.25</td>\n      <td>0.040</td>\n      <td>0.38</td>\n      <td>41.0</td>\n      <td>172.0</td>\n      <td>1.00020</td>\n      <td>2.98</td>\n      <td>0.46</td>\n      <td>0.67</td>\n      <td>9.7</td>\n      <td>0.12</td>\n    </tr>\n    <tr>\n      <th>17</th>\n      <td>6.2</td>\n      <td>0.66</td>\n      <td>0.48</td>\n      <td>1.20</td>\n      <td>0.029</td>\n      <td>0.38</td>\n      <td>29.0</td>\n      <td>75.0</td>\n      <td>0.98920</td>\n      <td>3.33</td>\n      <td>0.53</td>\n      <td>0.39</td>\n      <td>12.8</td>\n      <td>0.09</td>\n    </tr>\n    <tr>\n      <th>20</th>\n      <td>6.2</td>\n      <td>0.66</td>\n      <td>0.48</td>\n      <td>1.20</td>\n      <td>0.029</td>\n      <td>0.38</td>\n      <td>29.0</td>\n      <td>75.0</td>\n      <td>0.98920</td>\n      <td>3.33</td>\n      <td>0.46</td>\n      <td>0.39</td>\n      <td>12.8</td>\n      <td>0.08</td>\n    </tr>\n    <tr>\n      <th>23</th>\n      <td>7.6</td>\n      <td>0.67</td>\n      <td>0.14</td>\n      <td>1.50</td>\n      <td>0.074</td>\n      <td>0.38</td>\n      <td>25.0</td>\n      <td>168.0</td>\n      <td>0.99370</td>\n      <td>3.05</td>\n      <td>0.92</td>\n      <td>0.51</td>\n      <td>9.3</td>\n      <td>0.13</td>\n    </tr>\n    <tr>\n      <th>98</th>\n      <td>9.8</td>\n      <td>0.36</td>\n      <td>0.46</td>\n      <td>10.50</td>\n      <td>0.038</td>\n      <td>0.38</td>\n      <td>4.0</td>\n      <td>83.0</td>\n      <td>0.99560</td>\n      <td>2.89</td>\n      <td>0.27</td>\n      <td>0.30</td>\n      <td>10.1</td>\n      <td>0.11</td>\n    </tr>\n    <tr>\n      <th>...</th>\n      <td>...</td>\n      <td>...</td>\n      <td>...</td>\n      <td>...</td>\n      <td>...</td>\n      <td>...</td>\n      <td>...</td>\n      <td>...</td>\n      <td>...</td>\n      <td>...</td>\n      <td>...</td>\n      <td>...</td>\n      <td>...</td>\n      <td>...</td>\n    </tr>\n    <tr>\n      <th>4845</th>\n      <td>4.4</td>\n      <td>0.54</td>\n      <td>0.09</td>\n      <td>5.10</td>\n      <td>0.038</td>\n      <td>0.38</td>\n      <td>52.0</td>\n      <td>97.0</td>\n      <td>0.99022</td>\n      <td>3.41</td>\n      <td>0.75</td>\n      <td>0.40</td>\n      <td>12.2</td>\n      <td>0.09</td>\n    </tr>\n    <tr>\n      <th>4865</th>\n      <td>5.3</td>\n      <td>0.60</td>\n      <td>0.34</td>\n      <td>1.40</td>\n      <td>0.031</td>\n      <td>0.38</td>\n      <td>3.0</td>\n      <td>60.0</td>\n      <td>0.98854</td>\n      <td>3.27</td>\n      <td>0.27</td>\n      <td>0.38</td>\n      <td>13.0</td>\n      <td>0.10</td>\n    </tr>\n    <tr>\n      <th>4875</th>\n      <td>5.9</td>\n      <td>0.54</td>\n      <td>0.00</td>\n      <td>0.80</td>\n      <td>0.032</td>\n      <td>0.38</td>\n      <td>12.0</td>\n      <td>82.0</td>\n      <td>0.99286</td>\n      <td>3.25</td>\n      <td>0.75</td>\n      <td>0.36</td>\n      <td>8.8</td>\n      <td>0.12</td>\n    </tr>\n    <tr>\n      <th>4881</th>\n      <td>4.9</td>\n      <td>0.47</td>\n      <td>0.17</td>\n      <td>1.90</td>\n      <td>0.035</td>\n      <td>0.38</td>\n      <td>60.0</td>\n      <td>148.0</td>\n      <td>0.98964</td>\n      <td>3.27</td>\n      <td>0.43</td>\n      <td>0.35</td>\n      <td>11.5</td>\n      <td>0.09</td>\n    </tr>\n    <tr>\n      <th>4885</th>\n      <td>6.2</td>\n      <td>0.41</td>\n      <td>0.22</td>\n      <td>1.90</td>\n      <td>0.023</td>\n      <td>0.38</td>\n      <td>5.0</td>\n      <td>56.0</td>\n      <td>0.98928</td>\n      <td>3.04</td>\n      <td>0.14</td>\n      <td>0.79</td>\n      <td>13.0</td>\n      <td>0.09</td>\n    </tr>\n  </tbody>\n</table>\n<p>245 rows × 14 columns</p>\n</div>"
     },
     "metadata": {}
    },
    {
     "output_type": "display_data",
     "data": {
      "text/plain": "[14,\n 23,\n 110,\n 115,\n 147,\n 169,\n 178,\n 182,\n 194,\n 195,\n 196,\n 207,\n 403,\n 433,\n 459,\n 484,\n 506,\n 528,\n 620,\n 686,\n 700,\n 728,\n 756,\n 761,\n 762,\n 765,\n 807,\n 872,\n 877,\n 914,\n 925,\n 945,\n 969,\n 978,\n 979,\n 981,\n 1023,\n 1035,\n 1042,\n 1050,\n 1098,\n 1113,\n 1151,\n 1157,\n 1162,\n 1177,\n 1216,\n 1244,\n 1253,\n 1303,\n 1368,\n 1371,\n 1385,\n 1393,\n 1422,\n 1435,\n 1453,\n 1486,\n 1533,\n 1535,\n 1539,\n 1543,\n 1550,\n 1579,\n 1589,\n 1595,\n 1597,\n 1602,\n 1607,\n 1637,\n 1652,\n 1662,\n 1663,\n 1721,\n 1726,\n 1731,\n 1774,\n 1806,\n 1808,\n 1830,\n 1834,\n 1847,\n 1855,\n 1899,\n 1924,\n 1925,\n 1939,\n 1941,\n 1950,\n 1957,\n 1962,\n 1972,\n 1994,\n 1996,\n 1997,\n 2005,\n 2023,\n 2024,\n 2049,\n 2091,\n 2097,\n 2107,\n 2153,\n 2161,\n 2163,\n 2185,\n 2249,\n 2268,\n 2278,\n 2320,\n 2348,\n 2370,\n 2377,\n 2393,\n 2413,\n 2418,\n 2421,\n 2423,\n 2593,\n 2624,\n 2628,\n 2631,\n 2633,\n 2636,\n 2653,\n 2720,\n 2780,\n 2819,\n 2848,\n 2871,\n 2873,\n 2892,\n 2944,\n 2961,\n 2983,\n 2989,\n 3006,\n 3007,\n 3041,\n 3148,\n 3218,\n 3305,\n 3411,\n 3418,\n 3456,\n 3495,\n 3554,\n 3569,\n 3617,\n 3633,\n 3657,\n 3663,\n 3671,\n 3676,\n 3692,\n 3735,\n 3752,\n 3762,\n 3846,\n 3902,\n 3909,\n 3913,\n 4012,\n 4016,\n 4037,\n 4121,\n 4147,\n 4171,\n 4193,\n 4211,\n 4257,\n 4274,\n 4297,\n 4342,\n 4344,\n 4399,\n 4444,\n 4478,\n 4495,\n 4499,\n 4501,\n 4550,\n 4558,\n 4578,\n 4595,\n 4615,\n 4617,\n 4643,\n 4646,\n 4647,\n 4648,\n 4694,\n 4724,\n 4743,\n 4785,\n 4787,\n 4790,\n 4813,\n 4816,\n 4845,\n 4865,\n 4875,\n 4881,\n 4885]"
     },
     "metadata": {}
    },
    {
     "output_type": "display_data",
     "data": {
      "text/plain": "      fixed acidity  volatile acidity  citric acid  residual sugar  chlorides  \\\n0               7.0              0.27         0.36            20.7      0.045   \n1               6.3              0.30         0.34             1.6      0.049   \n2               8.1              0.28         0.40             6.9      0.050   \n3               7.2              0.23         0.32             8.5      0.058   \n4               7.2              0.23         0.32             8.5      0.058   \n...             ...               ...          ...             ...        ...   \n4891            6.2              0.21         0.29             1.6      0.039   \n4892            6.6              0.32         0.36             8.0      0.047   \n4893            6.5              0.24         0.19             1.2      0.041   \n4894            5.5              0.29         0.30             1.1      0.022   \n4895            6.0              0.21         0.38             0.8      0.020   \n\n      flavanoids  free sulfur dioxide  total sulfur dioxide  density    pH  \\\n0           0.38                 45.0                 170.0  1.00100  3.00   \n1           0.38                 14.0                 132.0  0.99400  3.30   \n2           0.38                 30.0                  97.0  0.99510  3.26   \n3           0.38                 47.0                 186.0  0.99560  3.19   \n4           0.38                 47.0                 186.0  0.99560  3.19   \n...          ...                  ...                   ...      ...   ...   \n4891        0.38                 24.0                  92.0  0.99114  3.27   \n4892        0.38                 57.0                 168.0  0.99490  3.15   \n4893        0.38                 30.0                 111.0  0.99254  2.99   \n4894        0.38                 20.0                 110.0  0.98869  3.34   \n4895        0.38                 22.0                  98.0  0.98941  3.26   \n\n      magnesium  sulphates  alcohol  lightness  quality  \n0          0.46       0.45      8.8       0.13        6  \n1          0.56       0.49      9.5       0.11        6  \n2          0.56       0.44     10.1       0.11        6  \n3          0.53       0.40      9.9       0.12        6  \n4          0.52       0.40      9.9       0.10        6  \n...         ...        ...      ...        ...      ...  \n4891       0.26       0.50     11.2       0.10        6  \n4892       0.85       0.46      9.6       0.12        5  \n4893       0.91       0.46      9.4       0.12        6  \n4894       0.24       0.38     12.8       0.08        7  \n4895       0.09       0.32     11.8       0.09        6  \n\n[4692 rows x 15 columns]",
      "text/html": "<div>\n<style scoped>\n    .dataframe tbody tr th:only-of-type {\n        vertical-align: middle;\n    }\n\n    .dataframe tbody tr th {\n        vertical-align: top;\n    }\n\n    .dataframe thead th {\n        text-align: right;\n    }\n</style>\n<table border=\"1\" class=\"dataframe\">\n  <thead>\n    <tr style=\"text-align: right;\">\n      <th></th>\n      <th>fixed acidity</th>\n      <th>volatile acidity</th>\n      <th>citric acid</th>\n      <th>residual sugar</th>\n      <th>chlorides</th>\n      <th>flavanoids</th>\n      <th>free sulfur dioxide</th>\n      <th>total sulfur dioxide</th>\n      <th>density</th>\n      <th>pH</th>\n      <th>magnesium</th>\n      <th>sulphates</th>\n      <th>alcohol</th>\n      <th>lightness</th>\n      <th>quality</th>\n    </tr>\n  </thead>\n  <tbody>\n    <tr>\n      <th>0</th>\n      <td>7.0</td>\n      <td>0.27</td>\n      <td>0.36</td>\n      <td>20.7</td>\n      <td>0.045</td>\n      <td>0.38</td>\n      <td>45.0</td>\n      <td>170.0</td>\n      <td>1.00100</td>\n      <td>3.00</td>\n      <td>0.46</td>\n      <td>0.45</td>\n      <td>8.8</td>\n      <td>0.13</td>\n      <td>6</td>\n    </tr>\n    <tr>\n      <th>1</th>\n      <td>6.3</td>\n      <td>0.30</td>\n      <td>0.34</td>\n      <td>1.6</td>\n      <td>0.049</td>\n      <td>0.38</td>\n      <td>14.0</td>\n      <td>132.0</td>\n      <td>0.99400</td>\n      <td>3.30</td>\n      <td>0.56</td>\n      <td>0.49</td>\n      <td>9.5</td>\n      <td>0.11</td>\n      <td>6</td>\n    </tr>\n    <tr>\n      <th>2</th>\n      <td>8.1</td>\n      <td>0.28</td>\n      <td>0.40</td>\n      <td>6.9</td>\n      <td>0.050</td>\n      <td>0.38</td>\n      <td>30.0</td>\n      <td>97.0</td>\n      <td>0.99510</td>\n      <td>3.26</td>\n      <td>0.56</td>\n      <td>0.44</td>\n      <td>10.1</td>\n      <td>0.11</td>\n      <td>6</td>\n    </tr>\n    <tr>\n      <th>3</th>\n      <td>7.2</td>\n      <td>0.23</td>\n      <td>0.32</td>\n      <td>8.5</td>\n      <td>0.058</td>\n      <td>0.38</td>\n      <td>47.0</td>\n      <td>186.0</td>\n      <td>0.99560</td>\n      <td>3.19</td>\n      <td>0.53</td>\n      <td>0.40</td>\n      <td>9.9</td>\n      <td>0.12</td>\n      <td>6</td>\n    </tr>\n    <tr>\n      <th>4</th>\n      <td>7.2</td>\n      <td>0.23</td>\n      <td>0.32</td>\n      <td>8.5</td>\n      <td>0.058</td>\n      <td>0.38</td>\n      <td>47.0</td>\n      <td>186.0</td>\n      <td>0.99560</td>\n      <td>3.19</td>\n      <td>0.52</td>\n      <td>0.40</td>\n      <td>9.9</td>\n      <td>0.10</td>\n      <td>6</td>\n    </tr>\n    <tr>\n      <th>...</th>\n      <td>...</td>\n      <td>...</td>\n      <td>...</td>\n      <td>...</td>\n      <td>...</td>\n      <td>...</td>\n      <td>...</td>\n      <td>...</td>\n      <td>...</td>\n      <td>...</td>\n      <td>...</td>\n      <td>...</td>\n      <td>...</td>\n      <td>...</td>\n      <td>...</td>\n    </tr>\n    <tr>\n      <th>4891</th>\n      <td>6.2</td>\n      <td>0.21</td>\n      <td>0.29</td>\n      <td>1.6</td>\n      <td>0.039</td>\n      <td>0.38</td>\n      <td>24.0</td>\n      <td>92.0</td>\n      <td>0.99114</td>\n      <td>3.27</td>\n      <td>0.26</td>\n      <td>0.50</td>\n      <td>11.2</td>\n      <td>0.10</td>\n      <td>6</td>\n    </tr>\n    <tr>\n      <th>4892</th>\n      <td>6.6</td>\n      <td>0.32</td>\n      <td>0.36</td>\n      <td>8.0</td>\n      <td>0.047</td>\n      <td>0.38</td>\n      <td>57.0</td>\n      <td>168.0</td>\n      <td>0.99490</td>\n      <td>3.15</td>\n      <td>0.85</td>\n      <td>0.46</td>\n      <td>9.6</td>\n      <td>0.12</td>\n      <td>5</td>\n    </tr>\n    <tr>\n      <th>4893</th>\n      <td>6.5</td>\n      <td>0.24</td>\n      <td>0.19</td>\n      <td>1.2</td>\n      <td>0.041</td>\n      <td>0.38</td>\n      <td>30.0</td>\n      <td>111.0</td>\n      <td>0.99254</td>\n      <td>2.99</td>\n      <td>0.91</td>\n      <td>0.46</td>\n      <td>9.4</td>\n      <td>0.12</td>\n      <td>6</td>\n    </tr>\n    <tr>\n      <th>4894</th>\n      <td>5.5</td>\n      <td>0.29</td>\n      <td>0.30</td>\n      <td>1.1</td>\n      <td>0.022</td>\n      <td>0.38</td>\n      <td>20.0</td>\n      <td>110.0</td>\n      <td>0.98869</td>\n      <td>3.34</td>\n      <td>0.24</td>\n      <td>0.38</td>\n      <td>12.8</td>\n      <td>0.08</td>\n      <td>7</td>\n    </tr>\n    <tr>\n      <th>4895</th>\n      <td>6.0</td>\n      <td>0.21</td>\n      <td>0.38</td>\n      <td>0.8</td>\n      <td>0.020</td>\n      <td>0.38</td>\n      <td>22.0</td>\n      <td>98.0</td>\n      <td>0.98941</td>\n      <td>3.26</td>\n      <td>0.09</td>\n      <td>0.32</td>\n      <td>11.8</td>\n      <td>0.09</td>\n      <td>6</td>\n    </tr>\n  </tbody>\n</table>\n<p>4692 rows × 15 columns</p>\n</div>"
     },
     "metadata": {}
    }
   ],
   "source": [
    "import numpy as np\n",
    "import pandas as pd\n",
    "from sklearn.linear_model import LogisticRegression\n",
    "from sklearn.naive_bayes import GaussianNB\n",
    "from sklearn.ensemble import RandomForestClassifier, VotingClassifier\n",
    "from sklearn.model_selection import cross_val_predict\n",
    "\n",
    "# Define 3 classifiers\n",
    "clf1 = LogisticRegression(multi_class='multinomial', random_state=1)\n",
    "clf2 = RandomForestClassifier(n_estimators=50, random_state=1)\n",
    "clf3 = GaussianNB()\n",
    "\n",
    "# define data\n",
    "x = wine_white.drop('quality', axis=1)\n",
    "y = wine_white['quality']\n",
    "\n",
    "# merge 3 classifiers into one voting classifier\n",
    "eclf1 = VotingClassifier(estimators=[('lr', clf1), ('rf', clf2), ('gnb', clf3)], voting='hard')\n",
    "\n",
    "# train voting classifier with k-fold method\n",
    "y_pred = cross_val_predict(eclf1, x, y, cv=3)\n",
    "\n",
    "# save predictions, original quality and correct prediction boolean in data frame\n",
    "result = pd.DataFrame(y_pred, columns=['Prediction'], index=x.index)\n",
    "result['quality'] = y\n",
    "# mindestens 2 Abweichung\n",
    "delta_treshold = 2\n",
    "result['Correct Prediction']= abs(result['Prediction'] - result['quality']) < delta_treshold\n",
    "\n",
    "display(result.shape)\n",
    "display(result)\n",
    "\n",
    "# select all incorrect predicted data\n",
    "print('False predictions')\n",
    "delta_result = result[result['Correct Prediction'] == False]\n",
    "display(delta_result.shape)\n",
    "display(delta_result)\n",
    "\n",
    "display('Outliers data', X_outliers)\n",
    "\n",
    "outlier_to_delete = []\n",
    "\n",
    "for outlier in X_outliers.index:\n",
    "    if not outlier in delta_result.index:\n",
    "        outlier_to_delete.append(outlier)\n",
    "display(outlier_to_delete)\n",
    "wine_white.drop(index=outlier_to_delete, inplace=True)\n",
    "display(wine_white)\n",
    "# handle noise"
   ]
  },
  {
   "cell_type": "code",
   "execution_count": 72,
   "metadata": {},
   "outputs": [
    {
     "output_type": "display_data",
     "data": {
      "text/plain": "      fixed acidity  volatile acidity  citric acid  residual sugar  chlorides  \\\n0               7.0              0.27         0.36            20.7      0.045   \n1               6.3              0.30         0.34             1.6      0.049   \n2               8.1              0.28         0.40             6.9      0.050   \n3               7.2              0.23         0.32             8.5      0.058   \n4               7.2              0.23         0.32             8.5      0.058   \n...             ...               ...          ...             ...        ...   \n4891            6.2              0.21         0.29             1.6      0.039   \n4892            6.6              0.32         0.36             8.0      0.047   \n4893            6.5              0.24         0.19             1.2      0.041   \n4894            5.5              0.29         0.30             1.1      0.022   \n4895            6.0              0.21         0.38             0.8      0.020   \n\n      flavanoids  free sulfur dioxide  total sulfur dioxide  density    pH  \\\n0           0.38                 45.0                 170.0  1.00100  3.00   \n1           0.38                 14.0                 132.0  0.99400  3.30   \n2           0.38                 30.0                  97.0  0.99510  3.26   \n3           0.38                 47.0                 186.0  0.99560  3.19   \n4           0.38                 47.0                 186.0  0.99560  3.19   \n...          ...                  ...                   ...      ...   ...   \n4891        0.38                 24.0                  92.0  0.99114  3.27   \n4892        0.38                 57.0                 168.0  0.99490  3.15   \n4893        0.38                 30.0                 111.0  0.99254  2.99   \n4894        0.38                 20.0                 110.0  0.98869  3.34   \n4895        0.38                 22.0                  98.0  0.98941  3.26   \n\n      magnesium  sulphates  alcohol  lightness  quality  \n0          0.46       0.45      8.8       0.13        6  \n1          0.56       0.49      9.5       0.11        6  \n2          0.56       0.44     10.1       0.11        6  \n3          0.53       0.40      9.9       0.12        6  \n4          0.52       0.40      9.9       0.10        6  \n...         ...        ...      ...        ...      ...  \n4891       0.26       0.50     11.2       0.10        6  \n4892       0.85       0.46      9.6       0.12        5  \n4893       0.91       0.46      9.4       0.12        6  \n4894       0.24       0.38     12.8       0.08        7  \n4895       0.09       0.32     11.8       0.09        6  \n\n[4687 rows x 15 columns]",
      "text/html": "<div>\n<style scoped>\n    .dataframe tbody tr th:only-of-type {\n        vertical-align: middle;\n    }\n\n    .dataframe tbody tr th {\n        vertical-align: top;\n    }\n\n    .dataframe thead th {\n        text-align: right;\n    }\n</style>\n<table border=\"1\" class=\"dataframe\">\n  <thead>\n    <tr style=\"text-align: right;\">\n      <th></th>\n      <th>fixed acidity</th>\n      <th>volatile acidity</th>\n      <th>citric acid</th>\n      <th>residual sugar</th>\n      <th>chlorides</th>\n      <th>flavanoids</th>\n      <th>free sulfur dioxide</th>\n      <th>total sulfur dioxide</th>\n      <th>density</th>\n      <th>pH</th>\n      <th>magnesium</th>\n      <th>sulphates</th>\n      <th>alcohol</th>\n      <th>lightness</th>\n      <th>quality</th>\n    </tr>\n  </thead>\n  <tbody>\n    <tr>\n      <th>0</th>\n      <td>7.0</td>\n      <td>0.27</td>\n      <td>0.36</td>\n      <td>20.7</td>\n      <td>0.045</td>\n      <td>0.38</td>\n      <td>45.0</td>\n      <td>170.0</td>\n      <td>1.00100</td>\n      <td>3.00</td>\n      <td>0.46</td>\n      <td>0.45</td>\n      <td>8.8</td>\n      <td>0.13</td>\n      <td>6</td>\n    </tr>\n    <tr>\n      <th>1</th>\n      <td>6.3</td>\n      <td>0.30</td>\n      <td>0.34</td>\n      <td>1.6</td>\n      <td>0.049</td>\n      <td>0.38</td>\n      <td>14.0</td>\n      <td>132.0</td>\n      <td>0.99400</td>\n      <td>3.30</td>\n      <td>0.56</td>\n      <td>0.49</td>\n      <td>9.5</td>\n      <td>0.11</td>\n      <td>6</td>\n    </tr>\n    <tr>\n      <th>2</th>\n      <td>8.1</td>\n      <td>0.28</td>\n      <td>0.40</td>\n      <td>6.9</td>\n      <td>0.050</td>\n      <td>0.38</td>\n      <td>30.0</td>\n      <td>97.0</td>\n      <td>0.99510</td>\n      <td>3.26</td>\n      <td>0.56</td>\n      <td>0.44</td>\n      <td>10.1</td>\n      <td>0.11</td>\n      <td>6</td>\n    </tr>\n    <tr>\n      <th>3</th>\n      <td>7.2</td>\n      <td>0.23</td>\n      <td>0.32</td>\n      <td>8.5</td>\n      <td>0.058</td>\n      <td>0.38</td>\n      <td>47.0</td>\n      <td>186.0</td>\n      <td>0.99560</td>\n      <td>3.19</td>\n      <td>0.53</td>\n      <td>0.40</td>\n      <td>9.9</td>\n      <td>0.12</td>\n      <td>6</td>\n    </tr>\n    <tr>\n      <th>4</th>\n      <td>7.2</td>\n      <td>0.23</td>\n      <td>0.32</td>\n      <td>8.5</td>\n      <td>0.058</td>\n      <td>0.38</td>\n      <td>47.0</td>\n      <td>186.0</td>\n      <td>0.99560</td>\n      <td>3.19</td>\n      <td>0.52</td>\n      <td>0.40</td>\n      <td>9.9</td>\n      <td>0.10</td>\n      <td>6</td>\n    </tr>\n    <tr>\n      <th>...</th>\n      <td>...</td>\n      <td>...</td>\n      <td>...</td>\n      <td>...</td>\n      <td>...</td>\n      <td>...</td>\n      <td>...</td>\n      <td>...</td>\n      <td>...</td>\n      <td>...</td>\n      <td>...</td>\n      <td>...</td>\n      <td>...</td>\n      <td>...</td>\n      <td>...</td>\n    </tr>\n    <tr>\n      <th>4891</th>\n      <td>6.2</td>\n      <td>0.21</td>\n      <td>0.29</td>\n      <td>1.6</td>\n      <td>0.039</td>\n      <td>0.38</td>\n      <td>24.0</td>\n      <td>92.0</td>\n      <td>0.99114</td>\n      <td>3.27</td>\n      <td>0.26</td>\n      <td>0.50</td>\n      <td>11.2</td>\n      <td>0.10</td>\n      <td>6</td>\n    </tr>\n    <tr>\n      <th>4892</th>\n      <td>6.6</td>\n      <td>0.32</td>\n      <td>0.36</td>\n      <td>8.0</td>\n      <td>0.047</td>\n      <td>0.38</td>\n      <td>57.0</td>\n      <td>168.0</td>\n      <td>0.99490</td>\n      <td>3.15</td>\n      <td>0.85</td>\n      <td>0.46</td>\n      <td>9.6</td>\n      <td>0.12</td>\n      <td>5</td>\n    </tr>\n    <tr>\n      <th>4893</th>\n      <td>6.5</td>\n      <td>0.24</td>\n      <td>0.19</td>\n      <td>1.2</td>\n      <td>0.041</td>\n      <td>0.38</td>\n      <td>30.0</td>\n      <td>111.0</td>\n      <td>0.99254</td>\n      <td>2.99</td>\n      <td>0.91</td>\n      <td>0.46</td>\n      <td>9.4</td>\n      <td>0.12</td>\n      <td>6</td>\n    </tr>\n    <tr>\n      <th>4894</th>\n      <td>5.5</td>\n      <td>0.29</td>\n      <td>0.30</td>\n      <td>1.1</td>\n      <td>0.022</td>\n      <td>0.38</td>\n      <td>20.0</td>\n      <td>110.0</td>\n      <td>0.98869</td>\n      <td>3.34</td>\n      <td>0.24</td>\n      <td>0.38</td>\n      <td>12.8</td>\n      <td>0.08</td>\n      <td>7</td>\n    </tr>\n    <tr>\n      <th>4895</th>\n      <td>6.0</td>\n      <td>0.21</td>\n      <td>0.38</td>\n      <td>0.8</td>\n      <td>0.020</td>\n      <td>0.38</td>\n      <td>22.0</td>\n      <td>98.0</td>\n      <td>0.98941</td>\n      <td>3.26</td>\n      <td>0.09</td>\n      <td>0.32</td>\n      <td>11.8</td>\n      <td>0.09</td>\n      <td>6</td>\n    </tr>\n  </tbody>\n</table>\n<p>4687 rows × 15 columns</p>\n</div>"
     },
     "metadata": {}
    }
   ],
   "source": [
    "# pd.set_option('display.max_rows', None)\n",
    "display(wine_white)\n",
    "# pd.set_option('display.max_rows', 32)\n"
   ]
  },
  {
   "cell_type": "code",
   "execution_count": 84,
   "metadata": {},
   "outputs": [
    {
     "output_type": "display_data",
     "data": {
      "text/plain": "      fixed acidity  volatile acidity  citric acid  residual sugar  chlorides  \\\n16              6.3             0.480         0.04            1.10      0.046   \n17              6.2             0.260         0.48            1.20      0.029   \n20              6.2             0.260         0.48            1.20      0.029   \n22              6.8             0.260         0.42            1.70      0.049   \n31              8.3             0.140         0.34            1.10      0.042   \n...             ...               ...          ...             ...        ...   \n4772            7.1             0.240         0.34            1.20      0.045   \n4802            6.0             0.350         0.46            0.90      0.033   \n4837            5.2             0.405         0.15            1.45      0.038   \n4850            6.2             0.230         0.38            1.60      0.044   \n4851            5.2             0.250         0.23            1.40      0.047   \n\n      flavanoids  free sulfur dioxide  total sulfur dioxide  density    pH  \\\n16          0.38                 30.0                  99.0  0.99280  3.24   \n17          0.38                 29.0                  75.0  0.98920  3.33   \n20          0.38                 29.0                  75.0  0.98920  3.33   \n22          0.38                 41.0                 122.0  0.99300  3.47   \n31          0.38                  7.0                  47.0  0.99340  3.47   \n...          ...                  ...                   ...      ...   ...   \n4772        0.38                  6.0                 132.0  0.99132  3.16   \n4802        0.38                  9.0                  65.0  0.98934  3.24   \n4837        0.38                 10.0                  44.0  0.99125  3.52   \n4850        0.38                 12.0                 113.0  0.99176  3.30   \n4851        0.38                 20.0                  77.0  0.99001  3.32   \n\n      magnesium  sulphates  alcohol  lightness  \n16         0.56       0.36      9.6       0.11  \n17         0.53       0.39     10.4       0.09  \n20         0.46       0.39     10.4       0.11  \n22         0.52       0.48     10.5       0.10  \n31         0.90       0.40     10.2       0.11  \n...         ...        ...      ...        ...  \n4772       0.42       0.46     11.2       0.10  \n4802       0.75       0.35     12.1       0.09  \n4837       0.23       0.40     11.6       0.09  \n4850       0.58       0.73     11.4       0.10  \n4851       0.74       0.62     11.4       0.09  \n\n[363 rows x 14 columns]",
      "text/html": "<div>\n<style scoped>\n    .dataframe tbody tr th:only-of-type {\n        vertical-align: middle;\n    }\n\n    .dataframe tbody tr th {\n        vertical-align: top;\n    }\n\n    .dataframe thead th {\n        text-align: right;\n    }\n</style>\n<table border=\"1\" class=\"dataframe\">\n  <thead>\n    <tr style=\"text-align: right;\">\n      <th></th>\n      <th>fixed acidity</th>\n      <th>volatile acidity</th>\n      <th>citric acid</th>\n      <th>residual sugar</th>\n      <th>chlorides</th>\n      <th>flavanoids</th>\n      <th>free sulfur dioxide</th>\n      <th>total sulfur dioxide</th>\n      <th>density</th>\n      <th>pH</th>\n      <th>magnesium</th>\n      <th>sulphates</th>\n      <th>alcohol</th>\n      <th>lightness</th>\n    </tr>\n  </thead>\n  <tbody>\n    <tr>\n      <th>16</th>\n      <td>6.3</td>\n      <td>0.480</td>\n      <td>0.04</td>\n      <td>1.10</td>\n      <td>0.046</td>\n      <td>0.38</td>\n      <td>30.0</td>\n      <td>99.0</td>\n      <td>0.99280</td>\n      <td>3.24</td>\n      <td>0.56</td>\n      <td>0.36</td>\n      <td>9.6</td>\n      <td>0.11</td>\n    </tr>\n    <tr>\n      <th>17</th>\n      <td>6.2</td>\n      <td>0.260</td>\n      <td>0.48</td>\n      <td>1.20</td>\n      <td>0.029</td>\n      <td>0.38</td>\n      <td>29.0</td>\n      <td>75.0</td>\n      <td>0.98920</td>\n      <td>3.33</td>\n      <td>0.53</td>\n      <td>0.39</td>\n      <td>10.4</td>\n      <td>0.09</td>\n    </tr>\n    <tr>\n      <th>20</th>\n      <td>6.2</td>\n      <td>0.260</td>\n      <td>0.48</td>\n      <td>1.20</td>\n      <td>0.029</td>\n      <td>0.38</td>\n      <td>29.0</td>\n      <td>75.0</td>\n      <td>0.98920</td>\n      <td>3.33</td>\n      <td>0.46</td>\n      <td>0.39</td>\n      <td>10.4</td>\n      <td>0.11</td>\n    </tr>\n    <tr>\n      <th>22</th>\n      <td>6.8</td>\n      <td>0.260</td>\n      <td>0.42</td>\n      <td>1.70</td>\n      <td>0.049</td>\n      <td>0.38</td>\n      <td>41.0</td>\n      <td>122.0</td>\n      <td>0.99300</td>\n      <td>3.47</td>\n      <td>0.52</td>\n      <td>0.48</td>\n      <td>10.5</td>\n      <td>0.10</td>\n    </tr>\n    <tr>\n      <th>31</th>\n      <td>8.3</td>\n      <td>0.140</td>\n      <td>0.34</td>\n      <td>1.10</td>\n      <td>0.042</td>\n      <td>0.38</td>\n      <td>7.0</td>\n      <td>47.0</td>\n      <td>0.99340</td>\n      <td>3.47</td>\n      <td>0.90</td>\n      <td>0.40</td>\n      <td>10.2</td>\n      <td>0.11</td>\n    </tr>\n    <tr>\n      <th>...</th>\n      <td>...</td>\n      <td>...</td>\n      <td>...</td>\n      <td>...</td>\n      <td>...</td>\n      <td>...</td>\n      <td>...</td>\n      <td>...</td>\n      <td>...</td>\n      <td>...</td>\n      <td>...</td>\n      <td>...</td>\n      <td>...</td>\n      <td>...</td>\n    </tr>\n    <tr>\n      <th>4772</th>\n      <td>7.1</td>\n      <td>0.240</td>\n      <td>0.34</td>\n      <td>1.20</td>\n      <td>0.045</td>\n      <td>0.38</td>\n      <td>6.0</td>\n      <td>132.0</td>\n      <td>0.99132</td>\n      <td>3.16</td>\n      <td>0.42</td>\n      <td>0.46</td>\n      <td>11.2</td>\n      <td>0.10</td>\n    </tr>\n    <tr>\n      <th>4802</th>\n      <td>6.0</td>\n      <td>0.350</td>\n      <td>0.46</td>\n      <td>0.90</td>\n      <td>0.033</td>\n      <td>0.38</td>\n      <td>9.0</td>\n      <td>65.0</td>\n      <td>0.98934</td>\n      <td>3.24</td>\n      <td>0.75</td>\n      <td>0.35</td>\n      <td>12.1</td>\n      <td>0.09</td>\n    </tr>\n    <tr>\n      <th>4837</th>\n      <td>5.2</td>\n      <td>0.405</td>\n      <td>0.15</td>\n      <td>1.45</td>\n      <td>0.038</td>\n      <td>0.38</td>\n      <td>10.0</td>\n      <td>44.0</td>\n      <td>0.99125</td>\n      <td>3.52</td>\n      <td>0.23</td>\n      <td>0.40</td>\n      <td>11.6</td>\n      <td>0.09</td>\n    </tr>\n    <tr>\n      <th>4850</th>\n      <td>6.2</td>\n      <td>0.230</td>\n      <td>0.38</td>\n      <td>1.60</td>\n      <td>0.044</td>\n      <td>0.38</td>\n      <td>12.0</td>\n      <td>113.0</td>\n      <td>0.99176</td>\n      <td>3.30</td>\n      <td>0.58</td>\n      <td>0.73</td>\n      <td>11.4</td>\n      <td>0.10</td>\n    </tr>\n    <tr>\n      <th>4851</th>\n      <td>5.2</td>\n      <td>0.250</td>\n      <td>0.23</td>\n      <td>1.40</td>\n      <td>0.047</td>\n      <td>0.38</td>\n      <td>20.0</td>\n      <td>77.0</td>\n      <td>0.99001</td>\n      <td>3.32</td>\n      <td>0.74</td>\n      <td>0.62</td>\n      <td>11.4</td>\n      <td>0.09</td>\n    </tr>\n  </tbody>\n</table>\n<p>363 rows × 14 columns</p>\n</div>"
     },
     "metadata": {}
    }
   ],
   "source": [
    "from sklearn.preprocessing import MinMaxScaler\n",
    "# normalize data without noise as a reference value\n",
    "scaler = MinMaxScaler()\n",
    "without_noise = wine_white.drop('quality', axis=1).drop(index=delta_result.index)\n",
    "# calculate medians for features of the normalized data without noise\n",
    "medians_all = pd.DataFrame(scaler.fit_transform(without_noise), columns = without_noise.columns, index=without_noise.index).describe().loc['50%']\n",
    "medians_all_data = without_noise.describe().loc['50%']\n",
    "\n",
    "# set minimum threshold for noise identification as difference between value and median\n",
    "threshold = 0.5\n",
    "\n",
    "# normalize noise data for comparison with median\n",
    "scaler = MinMaxScaler()\n",
    "noise_data = wine_white.loc[delta_result.index].drop('quality', axis=1)\n",
    "noise_data_normalized = pd.DataFrame(scaler.fit_transform(noise_data), columns=noise_data.columns, index=noise_data.index)\n",
    "for row in noise_data_normalized.index:\n",
    "    for column in noise_data_normalized.columns:\n",
    "        col_row_value = noise_data_normalized[column][row]\n",
    "        if abs(medians_all.loc[column] - col_row_value) > threshold:\n",
    "            noise_data_normalized.at[row, column] = medians_all_data.loc[column]\n",
    "        else:\n",
    "            noise_data_normalized.at[row, column] = noise_data.at[row, column]\n",
    "\n",
    "# drop all data that are no noise\n",
    "noise_data_normalized = noise_data_normalized.dropna(how='all')\n",
    "\n",
    "# display sum of noisy identified data by features\n",
    "# display(noise_data_normalized.count())\n",
    "\n",
    "# display noisy features\n",
    "display(noise_data_normalized)\n",
    "\n",
    "noise_data_normalized['quality'] = wine_white.loc[delta_result.index]['quality']"
   ]
  },
  {
   "cell_type": "markdown",
   "metadata": {},
   "source": [
    "## REPLACE NOISES WITH CALCULATED VALUES"
   ]
  },
  {
   "cell_type": "code",
   "execution_count": 85,
   "metadata": {},
   "outputs": [
    {
     "output_type": "display_data",
     "data": {
      "text/plain": "      fixed acidity  volatile acidity  citric acid  residual sugar  chlorides  \\\n16              6.3             0.480         0.04            1.10      0.046   \n17              6.2             0.260         0.48            1.20      0.029   \n20              6.2             0.260         0.48            1.20      0.029   \n22              6.8             0.260         0.42            1.70      0.049   \n31              8.3             0.140         0.34            1.10      0.042   \n...             ...               ...          ...             ...        ...   \n4772            7.1             0.240         0.34            1.20      0.045   \n4802            6.0             0.350         0.46            0.90      0.033   \n4837            5.2             0.405         0.15            1.45      0.038   \n4850            6.2             0.230         0.38            1.60      0.044   \n4851            5.2             0.250         0.23            1.40      0.047   \n\n      flavanoids  free sulfur dioxide  total sulfur dioxide  density    pH  \\\n16          0.38                 30.0                  99.0  0.99280  3.24   \n17          0.38                 29.0                  75.0  0.98920  3.33   \n20          0.38                 29.0                  75.0  0.98920  3.33   \n22          0.38                 41.0                 122.0  0.99300  3.47   \n31          0.38                  7.0                  47.0  0.99340  3.47   \n...          ...                  ...                   ...      ...   ...   \n4772        0.38                  6.0                 132.0  0.99132  3.16   \n4802        0.38                  9.0                  65.0  0.98934  3.24   \n4837        0.38                 10.0                  44.0  0.99125  3.52   \n4850        0.38                 12.0                 113.0  0.99176  3.30   \n4851        0.38                 20.0                  77.0  0.99001  3.32   \n\n      magnesium  sulphates  alcohol  lightness  quality  \n16         0.56       0.36      9.6       0.11        6  \n17         0.53       0.39     10.4       0.09        8  \n20         0.46       0.39     10.4       0.11        8  \n22         0.52       0.48     10.5       0.10        8  \n31         0.90       0.40     10.2       0.11        6  \n...         ...        ...      ...        ...      ...  \n4772       0.42       0.46     11.2       0.10        4  \n4802       0.75       0.35     12.1       0.09        4  \n4837       0.23       0.40     11.6       0.09        4  \n4850       0.58       0.73     11.4       0.10        5  \n4851       0.74       0.62     11.4       0.09        5  \n\n[363 rows x 15 columns]",
      "text/html": "<div>\n<style scoped>\n    .dataframe tbody tr th:only-of-type {\n        vertical-align: middle;\n    }\n\n    .dataframe tbody tr th {\n        vertical-align: top;\n    }\n\n    .dataframe thead th {\n        text-align: right;\n    }\n</style>\n<table border=\"1\" class=\"dataframe\">\n  <thead>\n    <tr style=\"text-align: right;\">\n      <th></th>\n      <th>fixed acidity</th>\n      <th>volatile acidity</th>\n      <th>citric acid</th>\n      <th>residual sugar</th>\n      <th>chlorides</th>\n      <th>flavanoids</th>\n      <th>free sulfur dioxide</th>\n      <th>total sulfur dioxide</th>\n      <th>density</th>\n      <th>pH</th>\n      <th>magnesium</th>\n      <th>sulphates</th>\n      <th>alcohol</th>\n      <th>lightness</th>\n      <th>quality</th>\n    </tr>\n  </thead>\n  <tbody>\n    <tr>\n      <th>16</th>\n      <td>6.3</td>\n      <td>0.480</td>\n      <td>0.04</td>\n      <td>1.10</td>\n      <td>0.046</td>\n      <td>0.38</td>\n      <td>30.0</td>\n      <td>99.0</td>\n      <td>0.99280</td>\n      <td>3.24</td>\n      <td>0.56</td>\n      <td>0.36</td>\n      <td>9.6</td>\n      <td>0.11</td>\n      <td>6</td>\n    </tr>\n    <tr>\n      <th>17</th>\n      <td>6.2</td>\n      <td>0.260</td>\n      <td>0.48</td>\n      <td>1.20</td>\n      <td>0.029</td>\n      <td>0.38</td>\n      <td>29.0</td>\n      <td>75.0</td>\n      <td>0.98920</td>\n      <td>3.33</td>\n      <td>0.53</td>\n      <td>0.39</td>\n      <td>10.4</td>\n      <td>0.09</td>\n      <td>8</td>\n    </tr>\n    <tr>\n      <th>20</th>\n      <td>6.2</td>\n      <td>0.260</td>\n      <td>0.48</td>\n      <td>1.20</td>\n      <td>0.029</td>\n      <td>0.38</td>\n      <td>29.0</td>\n      <td>75.0</td>\n      <td>0.98920</td>\n      <td>3.33</td>\n      <td>0.46</td>\n      <td>0.39</td>\n      <td>10.4</td>\n      <td>0.11</td>\n      <td>8</td>\n    </tr>\n    <tr>\n      <th>22</th>\n      <td>6.8</td>\n      <td>0.260</td>\n      <td>0.42</td>\n      <td>1.70</td>\n      <td>0.049</td>\n      <td>0.38</td>\n      <td>41.0</td>\n      <td>122.0</td>\n      <td>0.99300</td>\n      <td>3.47</td>\n      <td>0.52</td>\n      <td>0.48</td>\n      <td>10.5</td>\n      <td>0.10</td>\n      <td>8</td>\n    </tr>\n    <tr>\n      <th>31</th>\n      <td>8.3</td>\n      <td>0.140</td>\n      <td>0.34</td>\n      <td>1.10</td>\n      <td>0.042</td>\n      <td>0.38</td>\n      <td>7.0</td>\n      <td>47.0</td>\n      <td>0.99340</td>\n      <td>3.47</td>\n      <td>0.90</td>\n      <td>0.40</td>\n      <td>10.2</td>\n      <td>0.11</td>\n      <td>6</td>\n    </tr>\n    <tr>\n      <th>...</th>\n      <td>...</td>\n      <td>...</td>\n      <td>...</td>\n      <td>...</td>\n      <td>...</td>\n      <td>...</td>\n      <td>...</td>\n      <td>...</td>\n      <td>...</td>\n      <td>...</td>\n      <td>...</td>\n      <td>...</td>\n      <td>...</td>\n      <td>...</td>\n      <td>...</td>\n    </tr>\n    <tr>\n      <th>4772</th>\n      <td>7.1</td>\n      <td>0.240</td>\n      <td>0.34</td>\n      <td>1.20</td>\n      <td>0.045</td>\n      <td>0.38</td>\n      <td>6.0</td>\n      <td>132.0</td>\n      <td>0.99132</td>\n      <td>3.16</td>\n      <td>0.42</td>\n      <td>0.46</td>\n      <td>11.2</td>\n      <td>0.10</td>\n      <td>4</td>\n    </tr>\n    <tr>\n      <th>4802</th>\n      <td>6.0</td>\n      <td>0.350</td>\n      <td>0.46</td>\n      <td>0.90</td>\n      <td>0.033</td>\n      <td>0.38</td>\n      <td>9.0</td>\n      <td>65.0</td>\n      <td>0.98934</td>\n      <td>3.24</td>\n      <td>0.75</td>\n      <td>0.35</td>\n      <td>12.1</td>\n      <td>0.09</td>\n      <td>4</td>\n    </tr>\n    <tr>\n      <th>4837</th>\n      <td>5.2</td>\n      <td>0.405</td>\n      <td>0.15</td>\n      <td>1.45</td>\n      <td>0.038</td>\n      <td>0.38</td>\n      <td>10.0</td>\n      <td>44.0</td>\n      <td>0.99125</td>\n      <td>3.52</td>\n      <td>0.23</td>\n      <td>0.40</td>\n      <td>11.6</td>\n      <td>0.09</td>\n      <td>4</td>\n    </tr>\n    <tr>\n      <th>4850</th>\n      <td>6.2</td>\n      <td>0.230</td>\n      <td>0.38</td>\n      <td>1.60</td>\n      <td>0.044</td>\n      <td>0.38</td>\n      <td>12.0</td>\n      <td>113.0</td>\n      <td>0.99176</td>\n      <td>3.30</td>\n      <td>0.58</td>\n      <td>0.73</td>\n      <td>11.4</td>\n      <td>0.10</td>\n      <td>5</td>\n    </tr>\n    <tr>\n      <th>4851</th>\n      <td>5.2</td>\n      <td>0.250</td>\n      <td>0.23</td>\n      <td>1.40</td>\n      <td>0.047</td>\n      <td>0.38</td>\n      <td>20.0</td>\n      <td>77.0</td>\n      <td>0.99001</td>\n      <td>3.32</td>\n      <td>0.74</td>\n      <td>0.62</td>\n      <td>11.4</td>\n      <td>0.09</td>\n      <td>5</td>\n    </tr>\n  </tbody>\n</table>\n<p>363 rows × 15 columns</p>\n</div>"
     },
     "metadata": {}
    }
   ],
   "source": [
    "wine_white_with_calculated_noise = wine_white.copy(deep=True)\n",
    "wine_white_with_calculated_noise.loc[noise_data_normalized.index]=noise_data_normalized\n",
    "\n",
    "display(wine_white_with_calculated_noise.loc[noise_data_normalized.index])"
   ]
  },
  {
   "cell_type": "markdown",
   "metadata": {},
   "source": [
    "## REMOVE ALL NOISES"
   ]
  },
  {
   "cell_type": "code",
   "execution_count": 86,
   "metadata": {},
   "outputs": [],
   "source": [
    "wine_white_without_noise = wine_white.drop(index=noise_data.index)"
   ]
  },
  {
   "cell_type": "markdown",
   "metadata": {},
   "source": [
    "# Feature Scaling"
   ]
  },
  {
   "source": [
    "Normalize only total sulfur dioxide and free sulfur dioxide"
   ],
   "cell_type": "markdown",
   "metadata": {}
  },
  {
   "cell_type": "code",
   "execution_count": 87,
   "metadata": {},
   "outputs": [
    {
     "output_type": "display_data",
     "data": {
      "text/plain": "      fixed acidity  volatile acidity  citric acid  residual sugar  chlorides  \\\n0               7.0              0.27         0.36            20.7      0.045   \n1               6.3              0.30         0.34             1.6      0.049   \n2               8.1              0.28         0.40             6.9      0.050   \n3               7.2              0.23         0.32             8.5      0.058   \n4               7.2              0.23         0.32             8.5      0.058   \n...             ...               ...          ...             ...        ...   \n4891            6.2              0.21         0.29             1.6      0.039   \n4892            6.6              0.32         0.36             8.0      0.047   \n4893            6.5              0.24         0.19             1.2      0.041   \n4894            5.5              0.29         0.30             1.1      0.022   \n4895            6.0              0.21         0.38             0.8      0.020   \n\n      flavanoids  free sulfur dioxide  total sulfur dioxide  density    pH  \\\n0           0.38             0.356846              0.480597  1.00100  3.00   \n1           0.38             0.099585              0.367164  0.99400  3.30   \n2           0.38             0.232365              0.262687  0.99510  3.26   \n3           0.38             0.373444              0.528358  0.99560  3.19   \n4           0.38             0.373444              0.528358  0.99560  3.19   \n...          ...                  ...                   ...      ...   ...   \n4891        0.38             0.182573              0.247761  0.99114  3.27   \n4892        0.38             0.456432              0.474627  0.99490  3.15   \n4893        0.38             0.232365              0.304478  0.99254  2.99   \n4894        0.38             0.149378              0.301493  0.98869  3.34   \n4895        0.38             0.165975              0.265672  0.98941  3.26   \n\n      magnesium  sulphates  alcohol  lightness  quality  \n0          0.46       0.45      8.8       0.13        6  \n1          0.56       0.49      9.5       0.11        6  \n2          0.56       0.44     10.1       0.11        6  \n3          0.53       0.40      9.9       0.12        6  \n4          0.52       0.40      9.9       0.10        6  \n...         ...        ...      ...        ...      ...  \n4891       0.26       0.50     11.2       0.10        6  \n4892       0.85       0.46      9.6       0.12        5  \n4893       0.91       0.46      9.4       0.12        6  \n4894       0.24       0.38     12.8       0.08        7  \n4895       0.09       0.32     11.8       0.09        6  \n\n[4692 rows x 15 columns]",
      "text/html": "<div>\n<style scoped>\n    .dataframe tbody tr th:only-of-type {\n        vertical-align: middle;\n    }\n\n    .dataframe tbody tr th {\n        vertical-align: top;\n    }\n\n    .dataframe thead th {\n        text-align: right;\n    }\n</style>\n<table border=\"1\" class=\"dataframe\">\n  <thead>\n    <tr style=\"text-align: right;\">\n      <th></th>\n      <th>fixed acidity</th>\n      <th>volatile acidity</th>\n      <th>citric acid</th>\n      <th>residual sugar</th>\n      <th>chlorides</th>\n      <th>flavanoids</th>\n      <th>free sulfur dioxide</th>\n      <th>total sulfur dioxide</th>\n      <th>density</th>\n      <th>pH</th>\n      <th>magnesium</th>\n      <th>sulphates</th>\n      <th>alcohol</th>\n      <th>lightness</th>\n      <th>quality</th>\n    </tr>\n  </thead>\n  <tbody>\n    <tr>\n      <th>0</th>\n      <td>7.0</td>\n      <td>0.27</td>\n      <td>0.36</td>\n      <td>20.7</td>\n      <td>0.045</td>\n      <td>0.38</td>\n      <td>0.356846</td>\n      <td>0.480597</td>\n      <td>1.00100</td>\n      <td>3.00</td>\n      <td>0.46</td>\n      <td>0.45</td>\n      <td>8.8</td>\n      <td>0.13</td>\n      <td>6</td>\n    </tr>\n    <tr>\n      <th>1</th>\n      <td>6.3</td>\n      <td>0.30</td>\n      <td>0.34</td>\n      <td>1.6</td>\n      <td>0.049</td>\n      <td>0.38</td>\n      <td>0.099585</td>\n      <td>0.367164</td>\n      <td>0.99400</td>\n      <td>3.30</td>\n      <td>0.56</td>\n      <td>0.49</td>\n      <td>9.5</td>\n      <td>0.11</td>\n      <td>6</td>\n    </tr>\n    <tr>\n      <th>2</th>\n      <td>8.1</td>\n      <td>0.28</td>\n      <td>0.40</td>\n      <td>6.9</td>\n      <td>0.050</td>\n      <td>0.38</td>\n      <td>0.232365</td>\n      <td>0.262687</td>\n      <td>0.99510</td>\n      <td>3.26</td>\n      <td>0.56</td>\n      <td>0.44</td>\n      <td>10.1</td>\n      <td>0.11</td>\n      <td>6</td>\n    </tr>\n    <tr>\n      <th>3</th>\n      <td>7.2</td>\n      <td>0.23</td>\n      <td>0.32</td>\n      <td>8.5</td>\n      <td>0.058</td>\n      <td>0.38</td>\n      <td>0.373444</td>\n      <td>0.528358</td>\n      <td>0.99560</td>\n      <td>3.19</td>\n      <td>0.53</td>\n      <td>0.40</td>\n      <td>9.9</td>\n      <td>0.12</td>\n      <td>6</td>\n    </tr>\n    <tr>\n      <th>4</th>\n      <td>7.2</td>\n      <td>0.23</td>\n      <td>0.32</td>\n      <td>8.5</td>\n      <td>0.058</td>\n      <td>0.38</td>\n      <td>0.373444</td>\n      <td>0.528358</td>\n      <td>0.99560</td>\n      <td>3.19</td>\n      <td>0.52</td>\n      <td>0.40</td>\n      <td>9.9</td>\n      <td>0.10</td>\n      <td>6</td>\n    </tr>\n    <tr>\n      <th>...</th>\n      <td>...</td>\n      <td>...</td>\n      <td>...</td>\n      <td>...</td>\n      <td>...</td>\n      <td>...</td>\n      <td>...</td>\n      <td>...</td>\n      <td>...</td>\n      <td>...</td>\n      <td>...</td>\n      <td>...</td>\n      <td>...</td>\n      <td>...</td>\n      <td>...</td>\n    </tr>\n    <tr>\n      <th>4891</th>\n      <td>6.2</td>\n      <td>0.21</td>\n      <td>0.29</td>\n      <td>1.6</td>\n      <td>0.039</td>\n      <td>0.38</td>\n      <td>0.182573</td>\n      <td>0.247761</td>\n      <td>0.99114</td>\n      <td>3.27</td>\n      <td>0.26</td>\n      <td>0.50</td>\n      <td>11.2</td>\n      <td>0.10</td>\n      <td>6</td>\n    </tr>\n    <tr>\n      <th>4892</th>\n      <td>6.6</td>\n      <td>0.32</td>\n      <td>0.36</td>\n      <td>8.0</td>\n      <td>0.047</td>\n      <td>0.38</td>\n      <td>0.456432</td>\n      <td>0.474627</td>\n      <td>0.99490</td>\n      <td>3.15</td>\n      <td>0.85</td>\n      <td>0.46</td>\n      <td>9.6</td>\n      <td>0.12</td>\n      <td>5</td>\n    </tr>\n    <tr>\n      <th>4893</th>\n      <td>6.5</td>\n      <td>0.24</td>\n      <td>0.19</td>\n      <td>1.2</td>\n      <td>0.041</td>\n      <td>0.38</td>\n      <td>0.232365</td>\n      <td>0.304478</td>\n      <td>0.99254</td>\n      <td>2.99</td>\n      <td>0.91</td>\n      <td>0.46</td>\n      <td>9.4</td>\n      <td>0.12</td>\n      <td>6</td>\n    </tr>\n    <tr>\n      <th>4894</th>\n      <td>5.5</td>\n      <td>0.29</td>\n      <td>0.30</td>\n      <td>1.1</td>\n      <td>0.022</td>\n      <td>0.38</td>\n      <td>0.149378</td>\n      <td>0.301493</td>\n      <td>0.98869</td>\n      <td>3.34</td>\n      <td>0.24</td>\n      <td>0.38</td>\n      <td>12.8</td>\n      <td>0.08</td>\n      <td>7</td>\n    </tr>\n    <tr>\n      <th>4895</th>\n      <td>6.0</td>\n      <td>0.21</td>\n      <td>0.38</td>\n      <td>0.8</td>\n      <td>0.020</td>\n      <td>0.38</td>\n      <td>0.165975</td>\n      <td>0.265672</td>\n      <td>0.98941</td>\n      <td>3.26</td>\n      <td>0.09</td>\n      <td>0.32</td>\n      <td>11.8</td>\n      <td>0.09</td>\n      <td>6</td>\n    </tr>\n  </tbody>\n</table>\n<p>4692 rows × 15 columns</p>\n</div>"
     },
     "metadata": {}
    },
    {
     "output_type": "display_data",
     "data": {
      "text/plain": "      fixed acidity  volatile acidity  citric acid  residual sugar  chlorides  \\\n0               7.0              0.27         0.36            20.7      0.045   \n1               6.3              0.30         0.34             1.6      0.049   \n2               8.1              0.28         0.40             6.9      0.050   \n3               7.2              0.23         0.32             8.5      0.058   \n4               7.2              0.23         0.32             8.5      0.058   \n...             ...               ...          ...             ...        ...   \n4891            6.2              0.21         0.29             1.6      0.039   \n4892            6.6              0.32         0.36             8.0      0.047   \n4893            6.5              0.24         0.19             1.2      0.041   \n4894            5.5              0.29         0.30             1.1      0.022   \n4895            6.0              0.21         0.38             0.8      0.020   \n\n      flavanoids  free sulfur dioxide  total sulfur dioxide  density    pH  \\\n0           0.38             0.356846              0.449367  1.00100  3.00   \n1           0.38             0.099585              0.329114  0.99400  3.30   \n2           0.38             0.232365              0.218354  0.99510  3.26   \n3           0.38             0.373444              0.500000  0.99560  3.19   \n4           0.38             0.373444              0.500000  0.99560  3.19   \n...          ...                  ...                   ...      ...   ...   \n4891        0.38             0.182573              0.202532  0.99114  3.27   \n4892        0.38             0.456432              0.443038  0.99490  3.15   \n4893        0.38             0.232365              0.262658  0.99254  2.99   \n4894        0.38             0.149378              0.259494  0.98869  3.34   \n4895        0.38             0.165975              0.221519  0.98941  3.26   \n\n      magnesium  sulphates  alcohol  lightness  quality  \n0          0.46       0.45      8.8       0.13        6  \n1          0.56       0.49      9.5       0.11        6  \n2          0.56       0.44     10.1       0.11        6  \n3          0.53       0.40      9.9       0.12        6  \n4          0.52       0.40      9.9       0.10        6  \n...         ...        ...      ...        ...      ...  \n4891       0.26       0.50     11.2       0.10        6  \n4892       0.85       0.46      9.6       0.12        5  \n4893       0.91       0.46      9.4       0.12        6  \n4894       0.24       0.38     12.8       0.08        7  \n4895       0.09       0.32     11.8       0.09        6  \n\n[4329 rows x 15 columns]",
      "text/html": "<div>\n<style scoped>\n    .dataframe tbody tr th:only-of-type {\n        vertical-align: middle;\n    }\n\n    .dataframe tbody tr th {\n        vertical-align: top;\n    }\n\n    .dataframe thead th {\n        text-align: right;\n    }\n</style>\n<table border=\"1\" class=\"dataframe\">\n  <thead>\n    <tr style=\"text-align: right;\">\n      <th></th>\n      <th>fixed acidity</th>\n      <th>volatile acidity</th>\n      <th>citric acid</th>\n      <th>residual sugar</th>\n      <th>chlorides</th>\n      <th>flavanoids</th>\n      <th>free sulfur dioxide</th>\n      <th>total sulfur dioxide</th>\n      <th>density</th>\n      <th>pH</th>\n      <th>magnesium</th>\n      <th>sulphates</th>\n      <th>alcohol</th>\n      <th>lightness</th>\n      <th>quality</th>\n    </tr>\n  </thead>\n  <tbody>\n    <tr>\n      <th>0</th>\n      <td>7.0</td>\n      <td>0.27</td>\n      <td>0.36</td>\n      <td>20.7</td>\n      <td>0.045</td>\n      <td>0.38</td>\n      <td>0.356846</td>\n      <td>0.449367</td>\n      <td>1.00100</td>\n      <td>3.00</td>\n      <td>0.46</td>\n      <td>0.45</td>\n      <td>8.8</td>\n      <td>0.13</td>\n      <td>6</td>\n    </tr>\n    <tr>\n      <th>1</th>\n      <td>6.3</td>\n      <td>0.30</td>\n      <td>0.34</td>\n      <td>1.6</td>\n      <td>0.049</td>\n      <td>0.38</td>\n      <td>0.099585</td>\n      <td>0.329114</td>\n      <td>0.99400</td>\n      <td>3.30</td>\n      <td>0.56</td>\n      <td>0.49</td>\n      <td>9.5</td>\n      <td>0.11</td>\n      <td>6</td>\n    </tr>\n    <tr>\n      <th>2</th>\n      <td>8.1</td>\n      <td>0.28</td>\n      <td>0.40</td>\n      <td>6.9</td>\n      <td>0.050</td>\n      <td>0.38</td>\n      <td>0.232365</td>\n      <td>0.218354</td>\n      <td>0.99510</td>\n      <td>3.26</td>\n      <td>0.56</td>\n      <td>0.44</td>\n      <td>10.1</td>\n      <td>0.11</td>\n      <td>6</td>\n    </tr>\n    <tr>\n      <th>3</th>\n      <td>7.2</td>\n      <td>0.23</td>\n      <td>0.32</td>\n      <td>8.5</td>\n      <td>0.058</td>\n      <td>0.38</td>\n      <td>0.373444</td>\n      <td>0.500000</td>\n      <td>0.99560</td>\n      <td>3.19</td>\n      <td>0.53</td>\n      <td>0.40</td>\n      <td>9.9</td>\n      <td>0.12</td>\n      <td>6</td>\n    </tr>\n    <tr>\n      <th>4</th>\n      <td>7.2</td>\n      <td>0.23</td>\n      <td>0.32</td>\n      <td>8.5</td>\n      <td>0.058</td>\n      <td>0.38</td>\n      <td>0.373444</td>\n      <td>0.500000</td>\n      <td>0.99560</td>\n      <td>3.19</td>\n      <td>0.52</td>\n      <td>0.40</td>\n      <td>9.9</td>\n      <td>0.10</td>\n      <td>6</td>\n    </tr>\n    <tr>\n      <th>...</th>\n      <td>...</td>\n      <td>...</td>\n      <td>...</td>\n      <td>...</td>\n      <td>...</td>\n      <td>...</td>\n      <td>...</td>\n      <td>...</td>\n      <td>...</td>\n      <td>...</td>\n      <td>...</td>\n      <td>...</td>\n      <td>...</td>\n      <td>...</td>\n      <td>...</td>\n    </tr>\n    <tr>\n      <th>4891</th>\n      <td>6.2</td>\n      <td>0.21</td>\n      <td>0.29</td>\n      <td>1.6</td>\n      <td>0.039</td>\n      <td>0.38</td>\n      <td>0.182573</td>\n      <td>0.202532</td>\n      <td>0.99114</td>\n      <td>3.27</td>\n      <td>0.26</td>\n      <td>0.50</td>\n      <td>11.2</td>\n      <td>0.10</td>\n      <td>6</td>\n    </tr>\n    <tr>\n      <th>4892</th>\n      <td>6.6</td>\n      <td>0.32</td>\n      <td>0.36</td>\n      <td>8.0</td>\n      <td>0.047</td>\n      <td>0.38</td>\n      <td>0.456432</td>\n      <td>0.443038</td>\n      <td>0.99490</td>\n      <td>3.15</td>\n      <td>0.85</td>\n      <td>0.46</td>\n      <td>9.6</td>\n      <td>0.12</td>\n      <td>5</td>\n    </tr>\n    <tr>\n      <th>4893</th>\n      <td>6.5</td>\n      <td>0.24</td>\n      <td>0.19</td>\n      <td>1.2</td>\n      <td>0.041</td>\n      <td>0.38</td>\n      <td>0.232365</td>\n      <td>0.262658</td>\n      <td>0.99254</td>\n      <td>2.99</td>\n      <td>0.91</td>\n      <td>0.46</td>\n      <td>9.4</td>\n      <td>0.12</td>\n      <td>6</td>\n    </tr>\n    <tr>\n      <th>4894</th>\n      <td>5.5</td>\n      <td>0.29</td>\n      <td>0.30</td>\n      <td>1.1</td>\n      <td>0.022</td>\n      <td>0.38</td>\n      <td>0.149378</td>\n      <td>0.259494</td>\n      <td>0.98869</td>\n      <td>3.34</td>\n      <td>0.24</td>\n      <td>0.38</td>\n      <td>12.8</td>\n      <td>0.08</td>\n      <td>7</td>\n    </tr>\n    <tr>\n      <th>4895</th>\n      <td>6.0</td>\n      <td>0.21</td>\n      <td>0.38</td>\n      <td>0.8</td>\n      <td>0.020</td>\n      <td>0.38</td>\n      <td>0.165975</td>\n      <td>0.221519</td>\n      <td>0.98941</td>\n      <td>3.26</td>\n      <td>0.09</td>\n      <td>0.32</td>\n      <td>11.8</td>\n      <td>0.09</td>\n      <td>6</td>\n    </tr>\n  </tbody>\n</table>\n<p>4329 rows × 15 columns</p>\n</div>"
     },
     "metadata": {}
    }
   ],
   "source": [
    "from datasets import normalize_feature\n",
    "\n",
    "\n",
    "wine_white_with_calculated_noise = normalize_feature(wine_white_with_calculated_noise, 'total sulfur dioxide')\n",
    "wine_white_without_noise = normalize_feature(wine_white_without_noise, 'total sulfur dioxide')\n",
    "wine_white_with_calculated_noise = normalize_feature(wine_white_with_calculated_noise, 'free sulfur dioxide')\n",
    "wine_white_without_noise = normalize_feature(wine_white_without_noise, 'free sulfur dioxide')\n",
    "\n",
    "display(wine_white_with_calculated_noise)\n",
    "display(wine_white_without_noise)"
   ]
  },
  {
   "source": [
    "Normalize all features"
   ],
   "cell_type": "markdown",
   "metadata": {}
  },
  {
   "cell_type": "code",
   "execution_count": 76,
   "metadata": {},
   "outputs": [
    {
     "output_type": "display_data",
     "data": {
      "text/plain": "      fixed acidity  volatile acidity  citric acid  residual sugar  chlorides  \\\n0          0.265306          0.246753     0.395604        0.789784   0.144737   \n1          0.193878          0.285714     0.373626        0.039293   0.162281   \n2          0.377551          0.259740     0.439560        0.247544   0.166667   \n3          0.285714          0.194805     0.351648        0.310413   0.201754   \n4          0.285714          0.194805     0.351648        0.310413   0.201754   \n...             ...               ...          ...             ...        ...   \n4891       0.183673          0.168831     0.318681        0.039293   0.118421   \n4892       0.224490          0.311688     0.395604        0.290766   0.153509   \n4893       0.214286          0.207792     0.208791        0.023576   0.127193   \n4894       0.112245          0.272727     0.329670        0.019646   0.043860   \n4895       0.163265          0.168831     0.417582        0.007859   0.035088   \n\n      flavanoids  free sulfur dioxide  total sulfur dioxide   density  \\\n0            0.0             0.356846              0.449367  0.876894   \n1            0.0             0.099585              0.329114  0.434975   \n2            0.0             0.232365              0.218354  0.504419   \n3            0.0             0.373444              0.500000  0.535985   \n4            0.0             0.373444              0.500000  0.535985   \n...          ...                  ...                   ...       ...   \n4891         0.0             0.182573              0.202532  0.254419   \n4892         0.0             0.456432              0.443038  0.491793   \n4893         0.0             0.232365              0.262658  0.342803   \n4894         0.0             0.149378              0.259494  0.099747   \n4895         0.0             0.165975              0.221519  0.145202   \n\n            pH  magnesium  sulphates   alcohol  lightness  \n0     0.203883       0.46   0.267442  0.068966   0.857143  \n1     0.495146       0.56   0.313953  0.189655   0.571429  \n2     0.456311       0.56   0.255814  0.293103   0.571429  \n3     0.388350       0.53   0.209302  0.258621   0.714286  \n4     0.388350       0.52   0.209302  0.258621   0.428571  \n...        ...        ...        ...       ...        ...  \n4891  0.466019       0.26   0.325581  0.482759   0.428571  \n4892  0.349515       0.85   0.279070  0.206897   0.714286  \n4893  0.194175       0.91   0.279070  0.172414   0.714286  \n4894  0.533981       0.24   0.186047  0.758621   0.142857  \n4895  0.456311       0.09   0.116279  0.586207   0.285714  \n\n[4324 rows x 14 columns]",
      "text/html": "<div>\n<style scoped>\n    .dataframe tbody tr th:only-of-type {\n        vertical-align: middle;\n    }\n\n    .dataframe tbody tr th {\n        vertical-align: top;\n    }\n\n    .dataframe thead th {\n        text-align: right;\n    }\n</style>\n<table border=\"1\" class=\"dataframe\">\n  <thead>\n    <tr style=\"text-align: right;\">\n      <th></th>\n      <th>fixed acidity</th>\n      <th>volatile acidity</th>\n      <th>citric acid</th>\n      <th>residual sugar</th>\n      <th>chlorides</th>\n      <th>flavanoids</th>\n      <th>free sulfur dioxide</th>\n      <th>total sulfur dioxide</th>\n      <th>density</th>\n      <th>pH</th>\n      <th>magnesium</th>\n      <th>sulphates</th>\n      <th>alcohol</th>\n      <th>lightness</th>\n    </tr>\n  </thead>\n  <tbody>\n    <tr>\n      <th>0</th>\n      <td>0.265306</td>\n      <td>0.246753</td>\n      <td>0.395604</td>\n      <td>0.789784</td>\n      <td>0.144737</td>\n      <td>0.0</td>\n      <td>0.356846</td>\n      <td>0.449367</td>\n      <td>0.876894</td>\n      <td>0.203883</td>\n      <td>0.46</td>\n      <td>0.267442</td>\n      <td>0.068966</td>\n      <td>0.857143</td>\n    </tr>\n    <tr>\n      <th>1</th>\n      <td>0.193878</td>\n      <td>0.285714</td>\n      <td>0.373626</td>\n      <td>0.039293</td>\n      <td>0.162281</td>\n      <td>0.0</td>\n      <td>0.099585</td>\n      <td>0.329114</td>\n      <td>0.434975</td>\n      <td>0.495146</td>\n      <td>0.56</td>\n      <td>0.313953</td>\n      <td>0.189655</td>\n      <td>0.571429</td>\n    </tr>\n    <tr>\n      <th>2</th>\n      <td>0.377551</td>\n      <td>0.259740</td>\n      <td>0.439560</td>\n      <td>0.247544</td>\n      <td>0.166667</td>\n      <td>0.0</td>\n      <td>0.232365</td>\n      <td>0.218354</td>\n      <td>0.504419</td>\n      <td>0.456311</td>\n      <td>0.56</td>\n      <td>0.255814</td>\n      <td>0.293103</td>\n      <td>0.571429</td>\n    </tr>\n    <tr>\n      <th>3</th>\n      <td>0.285714</td>\n      <td>0.194805</td>\n      <td>0.351648</td>\n      <td>0.310413</td>\n      <td>0.201754</td>\n      <td>0.0</td>\n      <td>0.373444</td>\n      <td>0.500000</td>\n      <td>0.535985</td>\n      <td>0.388350</td>\n      <td>0.53</td>\n      <td>0.209302</td>\n      <td>0.258621</td>\n      <td>0.714286</td>\n    </tr>\n    <tr>\n      <th>4</th>\n      <td>0.285714</td>\n      <td>0.194805</td>\n      <td>0.351648</td>\n      <td>0.310413</td>\n      <td>0.201754</td>\n      <td>0.0</td>\n      <td>0.373444</td>\n      <td>0.500000</td>\n      <td>0.535985</td>\n      <td>0.388350</td>\n      <td>0.52</td>\n      <td>0.209302</td>\n      <td>0.258621</td>\n      <td>0.428571</td>\n    </tr>\n    <tr>\n      <th>...</th>\n      <td>...</td>\n      <td>...</td>\n      <td>...</td>\n      <td>...</td>\n      <td>...</td>\n      <td>...</td>\n      <td>...</td>\n      <td>...</td>\n      <td>...</td>\n      <td>...</td>\n      <td>...</td>\n      <td>...</td>\n      <td>...</td>\n      <td>...</td>\n    </tr>\n    <tr>\n      <th>4891</th>\n      <td>0.183673</td>\n      <td>0.168831</td>\n      <td>0.318681</td>\n      <td>0.039293</td>\n      <td>0.118421</td>\n      <td>0.0</td>\n      <td>0.182573</td>\n      <td>0.202532</td>\n      <td>0.254419</td>\n      <td>0.466019</td>\n      <td>0.26</td>\n      <td>0.325581</td>\n      <td>0.482759</td>\n      <td>0.428571</td>\n    </tr>\n    <tr>\n      <th>4892</th>\n      <td>0.224490</td>\n      <td>0.311688</td>\n      <td>0.395604</td>\n      <td>0.290766</td>\n      <td>0.153509</td>\n      <td>0.0</td>\n      <td>0.456432</td>\n      <td>0.443038</td>\n      <td>0.491793</td>\n      <td>0.349515</td>\n      <td>0.85</td>\n      <td>0.279070</td>\n      <td>0.206897</td>\n      <td>0.714286</td>\n    </tr>\n    <tr>\n      <th>4893</th>\n      <td>0.214286</td>\n      <td>0.207792</td>\n      <td>0.208791</td>\n      <td>0.023576</td>\n      <td>0.127193</td>\n      <td>0.0</td>\n      <td>0.232365</td>\n      <td>0.262658</td>\n      <td>0.342803</td>\n      <td>0.194175</td>\n      <td>0.91</td>\n      <td>0.279070</td>\n      <td>0.172414</td>\n      <td>0.714286</td>\n    </tr>\n    <tr>\n      <th>4894</th>\n      <td>0.112245</td>\n      <td>0.272727</td>\n      <td>0.329670</td>\n      <td>0.019646</td>\n      <td>0.043860</td>\n      <td>0.0</td>\n      <td>0.149378</td>\n      <td>0.259494</td>\n      <td>0.099747</td>\n      <td>0.533981</td>\n      <td>0.24</td>\n      <td>0.186047</td>\n      <td>0.758621</td>\n      <td>0.142857</td>\n    </tr>\n    <tr>\n      <th>4895</th>\n      <td>0.163265</td>\n      <td>0.168831</td>\n      <td>0.417582</td>\n      <td>0.007859</td>\n      <td>0.035088</td>\n      <td>0.0</td>\n      <td>0.165975</td>\n      <td>0.221519</td>\n      <td>0.145202</td>\n      <td>0.456311</td>\n      <td>0.09</td>\n      <td>0.116279</td>\n      <td>0.586207</td>\n      <td>0.285714</td>\n    </tr>\n  </tbody>\n</table>\n<p>4324 rows × 14 columns</p>\n</div>"
     },
     "metadata": {}
    },
    {
     "output_type": "display_data",
     "data": {
      "text/plain": "      fixed acidity  volatile acidity  citric acid  residual sugar  chlorides  \\\n0          0.265306          0.246753     0.395604        0.789784   0.144737   \n1          0.193878          0.285714     0.373626        0.039293   0.162281   \n2          0.377551          0.259740     0.439560        0.247544   0.166667   \n3          0.285714          0.194805     0.351648        0.310413   0.201754   \n4          0.285714          0.194805     0.351648        0.310413   0.201754   \n...             ...               ...          ...             ...        ...   \n4891       0.183673          0.168831     0.318681        0.039293   0.118421   \n4892       0.224490          0.311688     0.395604        0.290766   0.153509   \n4893       0.214286          0.207792     0.208791        0.023576   0.127193   \n4894       0.112245          0.272727     0.329670        0.019646   0.043860   \n4895       0.163265          0.168831     0.417582        0.007859   0.035088   \n\n      flavanoids  free sulfur dioxide  total sulfur dioxide   density  \\\n0            0.0             0.356846              0.449367  0.876894   \n1            0.0             0.099585              0.329114  0.434975   \n2            0.0             0.232365              0.218354  0.504419   \n3            0.0             0.373444              0.500000  0.535985   \n4            0.0             0.373444              0.500000  0.535985   \n...          ...                  ...                   ...       ...   \n4891         0.0             0.182573              0.202532  0.254419   \n4892         0.0             0.456432              0.443038  0.491793   \n4893         0.0             0.232365              0.262658  0.342803   \n4894         0.0             0.149378              0.259494  0.099747   \n4895         0.0             0.165975              0.221519  0.145202   \n\n            pH  magnesium  sulphates   alcohol  lightness  quality  \n0     0.203883       0.46   0.267442  0.068966   0.857143        6  \n1     0.495146       0.56   0.313953  0.189655   0.571429        6  \n2     0.456311       0.56   0.255814  0.293103   0.571429        6  \n3     0.388350       0.53   0.209302  0.258621   0.714286        6  \n4     0.388350       0.52   0.209302  0.258621   0.428571        6  \n...        ...        ...        ...       ...        ...      ...  \n4891  0.466019       0.26   0.325581  0.482759   0.428571        6  \n4892  0.349515       0.85   0.279070  0.206897   0.714286        5  \n4893  0.194175       0.91   0.279070  0.172414   0.714286        6  \n4894  0.533981       0.24   0.186047  0.758621   0.142857        7  \n4895  0.456311       0.09   0.116279  0.586207   0.285714        6  \n\n[4324 rows x 15 columns]",
      "text/html": "<div>\n<style scoped>\n    .dataframe tbody tr th:only-of-type {\n        vertical-align: middle;\n    }\n\n    .dataframe tbody tr th {\n        vertical-align: top;\n    }\n\n    .dataframe thead th {\n        text-align: right;\n    }\n</style>\n<table border=\"1\" class=\"dataframe\">\n  <thead>\n    <tr style=\"text-align: right;\">\n      <th></th>\n      <th>fixed acidity</th>\n      <th>volatile acidity</th>\n      <th>citric acid</th>\n      <th>residual sugar</th>\n      <th>chlorides</th>\n      <th>flavanoids</th>\n      <th>free sulfur dioxide</th>\n      <th>total sulfur dioxide</th>\n      <th>density</th>\n      <th>pH</th>\n      <th>magnesium</th>\n      <th>sulphates</th>\n      <th>alcohol</th>\n      <th>lightness</th>\n      <th>quality</th>\n    </tr>\n  </thead>\n  <tbody>\n    <tr>\n      <th>0</th>\n      <td>0.265306</td>\n      <td>0.246753</td>\n      <td>0.395604</td>\n      <td>0.789784</td>\n      <td>0.144737</td>\n      <td>0.0</td>\n      <td>0.356846</td>\n      <td>0.449367</td>\n      <td>0.876894</td>\n      <td>0.203883</td>\n      <td>0.46</td>\n      <td>0.267442</td>\n      <td>0.068966</td>\n      <td>0.857143</td>\n      <td>6</td>\n    </tr>\n    <tr>\n      <th>1</th>\n      <td>0.193878</td>\n      <td>0.285714</td>\n      <td>0.373626</td>\n      <td>0.039293</td>\n      <td>0.162281</td>\n      <td>0.0</td>\n      <td>0.099585</td>\n      <td>0.329114</td>\n      <td>0.434975</td>\n      <td>0.495146</td>\n      <td>0.56</td>\n      <td>0.313953</td>\n      <td>0.189655</td>\n      <td>0.571429</td>\n      <td>6</td>\n    </tr>\n    <tr>\n      <th>2</th>\n      <td>0.377551</td>\n      <td>0.259740</td>\n      <td>0.439560</td>\n      <td>0.247544</td>\n      <td>0.166667</td>\n      <td>0.0</td>\n      <td>0.232365</td>\n      <td>0.218354</td>\n      <td>0.504419</td>\n      <td>0.456311</td>\n      <td>0.56</td>\n      <td>0.255814</td>\n      <td>0.293103</td>\n      <td>0.571429</td>\n      <td>6</td>\n    </tr>\n    <tr>\n      <th>3</th>\n      <td>0.285714</td>\n      <td>0.194805</td>\n      <td>0.351648</td>\n      <td>0.310413</td>\n      <td>0.201754</td>\n      <td>0.0</td>\n      <td>0.373444</td>\n      <td>0.500000</td>\n      <td>0.535985</td>\n      <td>0.388350</td>\n      <td>0.53</td>\n      <td>0.209302</td>\n      <td>0.258621</td>\n      <td>0.714286</td>\n      <td>6</td>\n    </tr>\n    <tr>\n      <th>4</th>\n      <td>0.285714</td>\n      <td>0.194805</td>\n      <td>0.351648</td>\n      <td>0.310413</td>\n      <td>0.201754</td>\n      <td>0.0</td>\n      <td>0.373444</td>\n      <td>0.500000</td>\n      <td>0.535985</td>\n      <td>0.388350</td>\n      <td>0.52</td>\n      <td>0.209302</td>\n      <td>0.258621</td>\n      <td>0.428571</td>\n      <td>6</td>\n    </tr>\n    <tr>\n      <th>...</th>\n      <td>...</td>\n      <td>...</td>\n      <td>...</td>\n      <td>...</td>\n      <td>...</td>\n      <td>...</td>\n      <td>...</td>\n      <td>...</td>\n      <td>...</td>\n      <td>...</td>\n      <td>...</td>\n      <td>...</td>\n      <td>...</td>\n      <td>...</td>\n      <td>...</td>\n    </tr>\n    <tr>\n      <th>4891</th>\n      <td>0.183673</td>\n      <td>0.168831</td>\n      <td>0.318681</td>\n      <td>0.039293</td>\n      <td>0.118421</td>\n      <td>0.0</td>\n      <td>0.182573</td>\n      <td>0.202532</td>\n      <td>0.254419</td>\n      <td>0.466019</td>\n      <td>0.26</td>\n      <td>0.325581</td>\n      <td>0.482759</td>\n      <td>0.428571</td>\n      <td>6</td>\n    </tr>\n    <tr>\n      <th>4892</th>\n      <td>0.224490</td>\n      <td>0.311688</td>\n      <td>0.395604</td>\n      <td>0.290766</td>\n      <td>0.153509</td>\n      <td>0.0</td>\n      <td>0.456432</td>\n      <td>0.443038</td>\n      <td>0.491793</td>\n      <td>0.349515</td>\n      <td>0.85</td>\n      <td>0.279070</td>\n      <td>0.206897</td>\n      <td>0.714286</td>\n      <td>5</td>\n    </tr>\n    <tr>\n      <th>4893</th>\n      <td>0.214286</td>\n      <td>0.207792</td>\n      <td>0.208791</td>\n      <td>0.023576</td>\n      <td>0.127193</td>\n      <td>0.0</td>\n      <td>0.232365</td>\n      <td>0.262658</td>\n      <td>0.342803</td>\n      <td>0.194175</td>\n      <td>0.91</td>\n      <td>0.279070</td>\n      <td>0.172414</td>\n      <td>0.714286</td>\n      <td>6</td>\n    </tr>\n    <tr>\n      <th>4894</th>\n      <td>0.112245</td>\n      <td>0.272727</td>\n      <td>0.329670</td>\n      <td>0.019646</td>\n      <td>0.043860</td>\n      <td>0.0</td>\n      <td>0.149378</td>\n      <td>0.259494</td>\n      <td>0.099747</td>\n      <td>0.533981</td>\n      <td>0.24</td>\n      <td>0.186047</td>\n      <td>0.758621</td>\n      <td>0.142857</td>\n      <td>7</td>\n    </tr>\n    <tr>\n      <th>4895</th>\n      <td>0.163265</td>\n      <td>0.168831</td>\n      <td>0.417582</td>\n      <td>0.007859</td>\n      <td>0.035088</td>\n      <td>0.0</td>\n      <td>0.165975</td>\n      <td>0.221519</td>\n      <td>0.145202</td>\n      <td>0.456311</td>\n      <td>0.09</td>\n      <td>0.116279</td>\n      <td>0.586207</td>\n      <td>0.285714</td>\n      <td>6</td>\n    </tr>\n  </tbody>\n</table>\n<p>4324 rows × 15 columns</p>\n</div>"
     },
     "metadata": {}
    },
    {
     "output_type": "display_data",
     "data": {
      "text/plain": "      fixed acidity  volatile acidity  citric acid  residual sugar  chlorides  \\\n0              0.28          0.246753     0.395604        0.789784   0.155844   \n1              0.21          0.285714     0.373626        0.039293   0.173160   \n2              0.39          0.259740     0.439560        0.247544   0.177489   \n3              0.30          0.194805     0.351648        0.310413   0.212121   \n4              0.30          0.194805     0.351648        0.310413   0.212121   \n...             ...               ...          ...             ...        ...   \n4891           0.20          0.168831     0.318681        0.039293   0.129870   \n4892           0.24          0.311688     0.395604        0.290766   0.164502   \n4893           0.23          0.207792     0.208791        0.023576   0.138528   \n4894           0.13          0.272727     0.329670        0.019646   0.056277   \n4895           0.18          0.168831     0.417582        0.007859   0.047619   \n\n      flavanoids  free sulfur dioxide  total sulfur dioxide   density  \\\n0            0.0             0.356846              0.480597  0.876894   \n1            0.0             0.099585              0.367164  0.434975   \n2            0.0             0.232365              0.262687  0.504419   \n3            0.0             0.373444              0.528358  0.535985   \n4            0.0             0.373444              0.528358  0.535985   \n...          ...                  ...                   ...       ...   \n4891         0.0             0.182573              0.247761  0.254419   \n4892         0.0             0.456432              0.474627  0.491793   \n4893         0.0             0.232365              0.304478  0.342803   \n4894         0.0             0.149378              0.301493  0.099747   \n4895         0.0             0.165975              0.265672  0.145202   \n\n            pH  magnesium  sulphates   alcohol  lightness  \n0     0.240741       0.46   0.267442  0.129032   0.857143  \n1     0.518519       0.56   0.313953  0.241935   0.571429  \n2     0.481481       0.56   0.255814  0.338710   0.571429  \n3     0.416667       0.53   0.209302  0.306452   0.714286  \n4     0.416667       0.52   0.209302  0.306452   0.428571  \n...        ...        ...        ...       ...        ...  \n4891  0.490741       0.26   0.325581  0.516129   0.428571  \n4892  0.379630       0.85   0.279070  0.258065   0.714286  \n4893  0.231481       0.91   0.279070  0.225806   0.714286  \n4894  0.555556       0.24   0.186047  0.774194   0.142857  \n4895  0.481481       0.09   0.116279  0.612903   0.285714  \n\n[4687 rows x 14 columns]",
      "text/html": "<div>\n<style scoped>\n    .dataframe tbody tr th:only-of-type {\n        vertical-align: middle;\n    }\n\n    .dataframe tbody tr th {\n        vertical-align: top;\n    }\n\n    .dataframe thead th {\n        text-align: right;\n    }\n</style>\n<table border=\"1\" class=\"dataframe\">\n  <thead>\n    <tr style=\"text-align: right;\">\n      <th></th>\n      <th>fixed acidity</th>\n      <th>volatile acidity</th>\n      <th>citric acid</th>\n      <th>residual sugar</th>\n      <th>chlorides</th>\n      <th>flavanoids</th>\n      <th>free sulfur dioxide</th>\n      <th>total sulfur dioxide</th>\n      <th>density</th>\n      <th>pH</th>\n      <th>magnesium</th>\n      <th>sulphates</th>\n      <th>alcohol</th>\n      <th>lightness</th>\n    </tr>\n  </thead>\n  <tbody>\n    <tr>\n      <th>0</th>\n      <td>0.28</td>\n      <td>0.246753</td>\n      <td>0.395604</td>\n      <td>0.789784</td>\n      <td>0.155844</td>\n      <td>0.0</td>\n      <td>0.356846</td>\n      <td>0.480597</td>\n      <td>0.876894</td>\n      <td>0.240741</td>\n      <td>0.46</td>\n      <td>0.267442</td>\n      <td>0.129032</td>\n      <td>0.857143</td>\n    </tr>\n    <tr>\n      <th>1</th>\n      <td>0.21</td>\n      <td>0.285714</td>\n      <td>0.373626</td>\n      <td>0.039293</td>\n      <td>0.173160</td>\n      <td>0.0</td>\n      <td>0.099585</td>\n      <td>0.367164</td>\n      <td>0.434975</td>\n      <td>0.518519</td>\n      <td>0.56</td>\n      <td>0.313953</td>\n      <td>0.241935</td>\n      <td>0.571429</td>\n    </tr>\n    <tr>\n      <th>2</th>\n      <td>0.39</td>\n      <td>0.259740</td>\n      <td>0.439560</td>\n      <td>0.247544</td>\n      <td>0.177489</td>\n      <td>0.0</td>\n      <td>0.232365</td>\n      <td>0.262687</td>\n      <td>0.504419</td>\n      <td>0.481481</td>\n      <td>0.56</td>\n      <td>0.255814</td>\n      <td>0.338710</td>\n      <td>0.571429</td>\n    </tr>\n    <tr>\n      <th>3</th>\n      <td>0.30</td>\n      <td>0.194805</td>\n      <td>0.351648</td>\n      <td>0.310413</td>\n      <td>0.212121</td>\n      <td>0.0</td>\n      <td>0.373444</td>\n      <td>0.528358</td>\n      <td>0.535985</td>\n      <td>0.416667</td>\n      <td>0.53</td>\n      <td>0.209302</td>\n      <td>0.306452</td>\n      <td>0.714286</td>\n    </tr>\n    <tr>\n      <th>4</th>\n      <td>0.30</td>\n      <td>0.194805</td>\n      <td>0.351648</td>\n      <td>0.310413</td>\n      <td>0.212121</td>\n      <td>0.0</td>\n      <td>0.373444</td>\n      <td>0.528358</td>\n      <td>0.535985</td>\n      <td>0.416667</td>\n      <td>0.52</td>\n      <td>0.209302</td>\n      <td>0.306452</td>\n      <td>0.428571</td>\n    </tr>\n    <tr>\n      <th>...</th>\n      <td>...</td>\n      <td>...</td>\n      <td>...</td>\n      <td>...</td>\n      <td>...</td>\n      <td>...</td>\n      <td>...</td>\n      <td>...</td>\n      <td>...</td>\n      <td>...</td>\n      <td>...</td>\n      <td>...</td>\n      <td>...</td>\n      <td>...</td>\n    </tr>\n    <tr>\n      <th>4891</th>\n      <td>0.20</td>\n      <td>0.168831</td>\n      <td>0.318681</td>\n      <td>0.039293</td>\n      <td>0.129870</td>\n      <td>0.0</td>\n      <td>0.182573</td>\n      <td>0.247761</td>\n      <td>0.254419</td>\n      <td>0.490741</td>\n      <td>0.26</td>\n      <td>0.325581</td>\n      <td>0.516129</td>\n      <td>0.428571</td>\n    </tr>\n    <tr>\n      <th>4892</th>\n      <td>0.24</td>\n      <td>0.311688</td>\n      <td>0.395604</td>\n      <td>0.290766</td>\n      <td>0.164502</td>\n      <td>0.0</td>\n      <td>0.456432</td>\n      <td>0.474627</td>\n      <td>0.491793</td>\n      <td>0.379630</td>\n      <td>0.85</td>\n      <td>0.279070</td>\n      <td>0.258065</td>\n      <td>0.714286</td>\n    </tr>\n    <tr>\n      <th>4893</th>\n      <td>0.23</td>\n      <td>0.207792</td>\n      <td>0.208791</td>\n      <td>0.023576</td>\n      <td>0.138528</td>\n      <td>0.0</td>\n      <td>0.232365</td>\n      <td>0.304478</td>\n      <td>0.342803</td>\n      <td>0.231481</td>\n      <td>0.91</td>\n      <td>0.279070</td>\n      <td>0.225806</td>\n      <td>0.714286</td>\n    </tr>\n    <tr>\n      <th>4894</th>\n      <td>0.13</td>\n      <td>0.272727</td>\n      <td>0.329670</td>\n      <td>0.019646</td>\n      <td>0.056277</td>\n      <td>0.0</td>\n      <td>0.149378</td>\n      <td>0.301493</td>\n      <td>0.099747</td>\n      <td>0.555556</td>\n      <td>0.24</td>\n      <td>0.186047</td>\n      <td>0.774194</td>\n      <td>0.142857</td>\n    </tr>\n    <tr>\n      <th>4895</th>\n      <td>0.18</td>\n      <td>0.168831</td>\n      <td>0.417582</td>\n      <td>0.007859</td>\n      <td>0.047619</td>\n      <td>0.0</td>\n      <td>0.165975</td>\n      <td>0.265672</td>\n      <td>0.145202</td>\n      <td>0.481481</td>\n      <td>0.09</td>\n      <td>0.116279</td>\n      <td>0.612903</td>\n      <td>0.285714</td>\n    </tr>\n  </tbody>\n</table>\n<p>4687 rows × 14 columns</p>\n</div>"
     },
     "metadata": {}
    },
    {
     "output_type": "display_data",
     "data": {
      "text/plain": "      fixed acidity  volatile acidity  citric acid  residual sugar  chlorides  \\\n0              0.28          0.246753     0.395604        0.789784   0.155844   \n1              0.21          0.285714     0.373626        0.039293   0.173160   \n2              0.39          0.259740     0.439560        0.247544   0.177489   \n3              0.30          0.194805     0.351648        0.310413   0.212121   \n4              0.30          0.194805     0.351648        0.310413   0.212121   \n...             ...               ...          ...             ...        ...   \n4891           0.20          0.168831     0.318681        0.039293   0.129870   \n4892           0.24          0.311688     0.395604        0.290766   0.164502   \n4893           0.23          0.207792     0.208791        0.023576   0.138528   \n4894           0.13          0.272727     0.329670        0.019646   0.056277   \n4895           0.18          0.168831     0.417582        0.007859   0.047619   \n\n      flavanoids  free sulfur dioxide  total sulfur dioxide   density  \\\n0            0.0             0.356846              0.480597  0.876894   \n1            0.0             0.099585              0.367164  0.434975   \n2            0.0             0.232365              0.262687  0.504419   \n3            0.0             0.373444              0.528358  0.535985   \n4            0.0             0.373444              0.528358  0.535985   \n...          ...                  ...                   ...       ...   \n4891         0.0             0.182573              0.247761  0.254419   \n4892         0.0             0.456432              0.474627  0.491793   \n4893         0.0             0.232365              0.304478  0.342803   \n4894         0.0             0.149378              0.301493  0.099747   \n4895         0.0             0.165975              0.265672  0.145202   \n\n            pH  magnesium  sulphates   alcohol  lightness  quality  \n0     0.240741       0.46   0.267442  0.129032   0.857143        6  \n1     0.518519       0.56   0.313953  0.241935   0.571429        6  \n2     0.481481       0.56   0.255814  0.338710   0.571429        6  \n3     0.416667       0.53   0.209302  0.306452   0.714286        6  \n4     0.416667       0.52   0.209302  0.306452   0.428571        6  \n...        ...        ...        ...       ...        ...      ...  \n4891  0.490741       0.26   0.325581  0.516129   0.428571        6  \n4892  0.379630       0.85   0.279070  0.258065   0.714286        5  \n4893  0.231481       0.91   0.279070  0.225806   0.714286        6  \n4894  0.555556       0.24   0.186047  0.774194   0.142857        7  \n4895  0.481481       0.09   0.116279  0.612903   0.285714        6  \n\n[4687 rows x 15 columns]",
      "text/html": "<div>\n<style scoped>\n    .dataframe tbody tr th:only-of-type {\n        vertical-align: middle;\n    }\n\n    .dataframe tbody tr th {\n        vertical-align: top;\n    }\n\n    .dataframe thead th {\n        text-align: right;\n    }\n</style>\n<table border=\"1\" class=\"dataframe\">\n  <thead>\n    <tr style=\"text-align: right;\">\n      <th></th>\n      <th>fixed acidity</th>\n      <th>volatile acidity</th>\n      <th>citric acid</th>\n      <th>residual sugar</th>\n      <th>chlorides</th>\n      <th>flavanoids</th>\n      <th>free sulfur dioxide</th>\n      <th>total sulfur dioxide</th>\n      <th>density</th>\n      <th>pH</th>\n      <th>magnesium</th>\n      <th>sulphates</th>\n      <th>alcohol</th>\n      <th>lightness</th>\n      <th>quality</th>\n    </tr>\n  </thead>\n  <tbody>\n    <tr>\n      <th>0</th>\n      <td>0.28</td>\n      <td>0.246753</td>\n      <td>0.395604</td>\n      <td>0.789784</td>\n      <td>0.155844</td>\n      <td>0.0</td>\n      <td>0.356846</td>\n      <td>0.480597</td>\n      <td>0.876894</td>\n      <td>0.240741</td>\n      <td>0.46</td>\n      <td>0.267442</td>\n      <td>0.129032</td>\n      <td>0.857143</td>\n      <td>6</td>\n    </tr>\n    <tr>\n      <th>1</th>\n      <td>0.21</td>\n      <td>0.285714</td>\n      <td>0.373626</td>\n      <td>0.039293</td>\n      <td>0.173160</td>\n      <td>0.0</td>\n      <td>0.099585</td>\n      <td>0.367164</td>\n      <td>0.434975</td>\n      <td>0.518519</td>\n      <td>0.56</td>\n      <td>0.313953</td>\n      <td>0.241935</td>\n      <td>0.571429</td>\n      <td>6</td>\n    </tr>\n    <tr>\n      <th>2</th>\n      <td>0.39</td>\n      <td>0.259740</td>\n      <td>0.439560</td>\n      <td>0.247544</td>\n      <td>0.177489</td>\n      <td>0.0</td>\n      <td>0.232365</td>\n      <td>0.262687</td>\n      <td>0.504419</td>\n      <td>0.481481</td>\n      <td>0.56</td>\n      <td>0.255814</td>\n      <td>0.338710</td>\n      <td>0.571429</td>\n      <td>6</td>\n    </tr>\n    <tr>\n      <th>3</th>\n      <td>0.30</td>\n      <td>0.194805</td>\n      <td>0.351648</td>\n      <td>0.310413</td>\n      <td>0.212121</td>\n      <td>0.0</td>\n      <td>0.373444</td>\n      <td>0.528358</td>\n      <td>0.535985</td>\n      <td>0.416667</td>\n      <td>0.53</td>\n      <td>0.209302</td>\n      <td>0.306452</td>\n      <td>0.714286</td>\n      <td>6</td>\n    </tr>\n    <tr>\n      <th>4</th>\n      <td>0.30</td>\n      <td>0.194805</td>\n      <td>0.351648</td>\n      <td>0.310413</td>\n      <td>0.212121</td>\n      <td>0.0</td>\n      <td>0.373444</td>\n      <td>0.528358</td>\n      <td>0.535985</td>\n      <td>0.416667</td>\n      <td>0.52</td>\n      <td>0.209302</td>\n      <td>0.306452</td>\n      <td>0.428571</td>\n      <td>6</td>\n    </tr>\n    <tr>\n      <th>...</th>\n      <td>...</td>\n      <td>...</td>\n      <td>...</td>\n      <td>...</td>\n      <td>...</td>\n      <td>...</td>\n      <td>...</td>\n      <td>...</td>\n      <td>...</td>\n      <td>...</td>\n      <td>...</td>\n      <td>...</td>\n      <td>...</td>\n      <td>...</td>\n      <td>...</td>\n    </tr>\n    <tr>\n      <th>4891</th>\n      <td>0.20</td>\n      <td>0.168831</td>\n      <td>0.318681</td>\n      <td>0.039293</td>\n      <td>0.129870</td>\n      <td>0.0</td>\n      <td>0.182573</td>\n      <td>0.247761</td>\n      <td>0.254419</td>\n      <td>0.490741</td>\n      <td>0.26</td>\n      <td>0.325581</td>\n      <td>0.516129</td>\n      <td>0.428571</td>\n      <td>6</td>\n    </tr>\n    <tr>\n      <th>4892</th>\n      <td>0.24</td>\n      <td>0.311688</td>\n      <td>0.395604</td>\n      <td>0.290766</td>\n      <td>0.164502</td>\n      <td>0.0</td>\n      <td>0.456432</td>\n      <td>0.474627</td>\n      <td>0.491793</td>\n      <td>0.379630</td>\n      <td>0.85</td>\n      <td>0.279070</td>\n      <td>0.258065</td>\n      <td>0.714286</td>\n      <td>5</td>\n    </tr>\n    <tr>\n      <th>4893</th>\n      <td>0.23</td>\n      <td>0.207792</td>\n      <td>0.208791</td>\n      <td>0.023576</td>\n      <td>0.138528</td>\n      <td>0.0</td>\n      <td>0.232365</td>\n      <td>0.304478</td>\n      <td>0.342803</td>\n      <td>0.231481</td>\n      <td>0.91</td>\n      <td>0.279070</td>\n      <td>0.225806</td>\n      <td>0.714286</td>\n      <td>6</td>\n    </tr>\n    <tr>\n      <th>4894</th>\n      <td>0.13</td>\n      <td>0.272727</td>\n      <td>0.329670</td>\n      <td>0.019646</td>\n      <td>0.056277</td>\n      <td>0.0</td>\n      <td>0.149378</td>\n      <td>0.301493</td>\n      <td>0.099747</td>\n      <td>0.555556</td>\n      <td>0.24</td>\n      <td>0.186047</td>\n      <td>0.774194</td>\n      <td>0.142857</td>\n      <td>7</td>\n    </tr>\n    <tr>\n      <th>4895</th>\n      <td>0.18</td>\n      <td>0.168831</td>\n      <td>0.417582</td>\n      <td>0.007859</td>\n      <td>0.047619</td>\n      <td>0.0</td>\n      <td>0.165975</td>\n      <td>0.265672</td>\n      <td>0.145202</td>\n      <td>0.481481</td>\n      <td>0.09</td>\n      <td>0.116279</td>\n      <td>0.612903</td>\n      <td>0.285714</td>\n      <td>6</td>\n    </tr>\n  </tbody>\n</table>\n<p>4687 rows × 15 columns</p>\n</div>"
     },
     "metadata": {}
    }
   ],
   "source": [
    "from sklearn.preprocessing import MinMaxScaler\n",
    "\n",
    "scaler = MinMaxScaler()\n",
    "wine_white_normalized = pd.DataFrame(scaler.fit_transform(wine_white_without_noise.drop('quality',axis=1)), columns=wine_white_without_noise.columns.drop('quality'), index=wine_white_without_noise.index)\n",
    "wine_white_without_noise[wine_white_normalized.columns] = wine_white_normalized\n",
    "display(wine_white_normalized)\n",
    "display(wine_white_without_noise)\n",
    "\n",
    "scaler = MinMaxScaler()\n",
    "wine_white_normalized = pd.DataFrame(scaler.fit_transform(wine_white_with_calculated_noise.drop('quality',axis=1)), columns=wine_white_with_calculated_noise.columns.drop('quality'), index=wine_white_with_calculated_noise.index)\n",
    "wine_white_with_calculated_noise[wine_white_normalized.columns] = wine_white_normalized\n",
    "display(wine_white_normalized)\n",
    "display(wine_white_with_calculated_noise)"
   ]
  },
  {
   "cell_type": "markdown",
   "metadata": {},
   "source": [
    "# Feature selection"
   ]
  },
  {
   "cell_type": "markdown",
   "metadata": {},
   "source": [
    "calculate information gain and vif after handling missing values. Compare it to results from exploration phase"
   ]
  },
  {
   "cell_type": "code",
   "execution_count": 33,
   "metadata": {},
   "outputs": [
    {
     "output_type": "stream",
     "name": "stdout",
     "text": [
      "Information Gain without noise\n"
     ]
    },
    {
     "output_type": "display_data",
     "data": {
      "text/plain": "                         score\nalcohol               0.201305\ndensity               0.196914\nlightness             0.129563\ntotal sulfur dioxide  0.094008\nresidual sugar        0.092005\nchlorides             0.087542\ncitric acid           0.060735\nvolatile acidity      0.059102\nfree sulfur dioxide   0.041418\nsulphates             0.032697\npH                    0.023673\nfixed acidity         0.020421\nflavanoids            0.003029\nmagnesium             0.002903",
      "text/html": "<div>\n<style scoped>\n    .dataframe tbody tr th:only-of-type {\n        vertical-align: middle;\n    }\n\n    .dataframe tbody tr th {\n        vertical-align: top;\n    }\n\n    .dataframe thead th {\n        text-align: right;\n    }\n</style>\n<table border=\"1\" class=\"dataframe\">\n  <thead>\n    <tr style=\"text-align: right;\">\n      <th></th>\n      <th>score</th>\n    </tr>\n  </thead>\n  <tbody>\n    <tr>\n      <th>alcohol</th>\n      <td>0.201305</td>\n    </tr>\n    <tr>\n      <th>density</th>\n      <td>0.196914</td>\n    </tr>\n    <tr>\n      <th>lightness</th>\n      <td>0.129563</td>\n    </tr>\n    <tr>\n      <th>total sulfur dioxide</th>\n      <td>0.094008</td>\n    </tr>\n    <tr>\n      <th>residual sugar</th>\n      <td>0.092005</td>\n    </tr>\n    <tr>\n      <th>chlorides</th>\n      <td>0.087542</td>\n    </tr>\n    <tr>\n      <th>citric acid</th>\n      <td>0.060735</td>\n    </tr>\n    <tr>\n      <th>volatile acidity</th>\n      <td>0.059102</td>\n    </tr>\n    <tr>\n      <th>free sulfur dioxide</th>\n      <td>0.041418</td>\n    </tr>\n    <tr>\n      <th>sulphates</th>\n      <td>0.032697</td>\n    </tr>\n    <tr>\n      <th>pH</th>\n      <td>0.023673</td>\n    </tr>\n    <tr>\n      <th>fixed acidity</th>\n      <td>0.020421</td>\n    </tr>\n    <tr>\n      <th>flavanoids</th>\n      <td>0.003029</td>\n    </tr>\n    <tr>\n      <th>magnesium</th>\n      <td>0.002903</td>\n    </tr>\n  </tbody>\n</table>\n</div>"
     },
     "metadata": {}
    },
    {
     "output_type": "stream",
     "name": "stdout",
     "text": [
      "Information Gain with calculated noise\n"
     ]
    },
    {
     "output_type": "display_data",
     "data": {
      "text/plain": "                         score\ndensity               0.192756\nalcohol               0.159634\nresidual sugar        0.100020\nlightness             0.089598\ntotal sulfur dioxide  0.088743\nchlorides             0.065587\nfree sulfur dioxide   0.057472\ncitric acid           0.056653\nvolatile acidity      0.047263\npH                    0.031296\nsulphates             0.028062\nfixed acidity         0.018936\nmagnesium             0.004043\nflavanoids            0.000984",
      "text/html": "<div>\n<style scoped>\n    .dataframe tbody tr th:only-of-type {\n        vertical-align: middle;\n    }\n\n    .dataframe tbody tr th {\n        vertical-align: top;\n    }\n\n    .dataframe thead th {\n        text-align: right;\n    }\n</style>\n<table border=\"1\" class=\"dataframe\">\n  <thead>\n    <tr style=\"text-align: right;\">\n      <th></th>\n      <th>score</th>\n    </tr>\n  </thead>\n  <tbody>\n    <tr>\n      <th>density</th>\n      <td>0.192756</td>\n    </tr>\n    <tr>\n      <th>alcohol</th>\n      <td>0.159634</td>\n    </tr>\n    <tr>\n      <th>residual sugar</th>\n      <td>0.100020</td>\n    </tr>\n    <tr>\n      <th>lightness</th>\n      <td>0.089598</td>\n    </tr>\n    <tr>\n      <th>total sulfur dioxide</th>\n      <td>0.088743</td>\n    </tr>\n    <tr>\n      <th>chlorides</th>\n      <td>0.065587</td>\n    </tr>\n    <tr>\n      <th>free sulfur dioxide</th>\n      <td>0.057472</td>\n    </tr>\n    <tr>\n      <th>citric acid</th>\n      <td>0.056653</td>\n    </tr>\n    <tr>\n      <th>volatile acidity</th>\n      <td>0.047263</td>\n    </tr>\n    <tr>\n      <th>pH</th>\n      <td>0.031296</td>\n    </tr>\n    <tr>\n      <th>sulphates</th>\n      <td>0.028062</td>\n    </tr>\n    <tr>\n      <th>fixed acidity</th>\n      <td>0.018936</td>\n    </tr>\n    <tr>\n      <th>magnesium</th>\n      <td>0.004043</td>\n    </tr>\n    <tr>\n      <th>flavanoids</th>\n      <td>0.000984</td>\n    </tr>\n  </tbody>\n</table>\n</div>"
     },
     "metadata": {}
    }
   ],
   "source": [
    "from datasets import get_kbest_sorted\n",
    "from sklearn.feature_selection import mutual_info_regression\n",
    "\n",
    "print('Information Gain without noise')\n",
    "x = wine_white_without_noise.drop('quality', axis=1)\n",
    "y = wine_white_without_noise['quality']\n",
    "display(get_kbest_sorted(mutual_info_regression, x, y, 25))\n",
    "\n",
    "print('Information Gain with calculated noise')\n",
    "x = wine_white_with_calculated_noise.drop('quality', axis=1)\n",
    "y = wine_white_with_calculated_noise['quality']\n",
    "display(get_kbest_sorted(mutual_info_regression, x, y, 25))"
   ]
  },
  {
   "cell_type": "code",
   "execution_count": 34,
   "metadata": {},
   "outputs": [
    {
     "output_type": "display_data",
     "data": {
      "text/plain": "'VIF Factors without noise'"
     },
     "metadata": {}
    },
    {
     "output_type": "display_data",
     "data": {
      "text/plain": "fixed acidity                 3.24\nvolatile acidity              1.12\ncitric acid                   1.14\nresidual sugar               16.25\nchlorides                     1.27\nflavanoids              4979530.50\nfree sulfur dioxide           1.78\ntotal sulfur dioxide          2.23\ndensity                      39.61\npH                            2.47\nmagnesium                     1.00\nsulphates                     1.16\nalcohol                      13.32\nlightness                     3.58\ndtype: float64"
     },
     "metadata": {}
    },
    {
     "output_type": "display_data",
     "data": {
      "text/plain": "'VIF Factors with calculated noise'"
     },
     "metadata": {}
    },
    {
     "output_type": "display_data",
     "data": {
      "text/plain": "fixed acidity                 2.28\nvolatile acidity              1.11\ncitric acid                   1.13\nresidual sugar                8.26\nchlorides                     1.25\nflavanoids              2526311.96\nfree sulfur dioxide           1.75\ntotal sulfur dioxide          2.19\ndensity                      20.51\npH                            1.76\nmagnesium                     1.00\nsulphates                     1.11\nalcohol                       8.89\nlightness                     3.53\ndtype: float64"
     },
     "metadata": {}
    }
   ],
   "source": [
    "from datasets import get_vifs\n",
    "\n",
    "x = wine_white_without_noise.drop('quality', axis=1)\n",
    "vif_factors = get_vifs(x)\n",
    "display('VIF Factors without noise', vif_factors)\n",
    "x = wine_white_with_calculated_noise.drop('quality', axis=1)\n",
    "vif_factors = get_vifs(x)\n",
    "display('VIF Factors with calculated noise', vif_factors)"
   ]
  },
  {
   "cell_type": "markdown",
   "metadata": {},
   "source": [
    "missing values don't seem to have a big effect on information gain and vif"
   ]
  },
  {
   "cell_type": "code",
   "execution_count": 77,
   "metadata": {},
   "outputs": [
    {
     "output_type": "stream",
     "name": "stdout",
     "text": [
      "Score before:  0.4567953915084276\n",
      "Score after without noise:  0.5455596669750231\n",
      "Score after with calculated noise:  0.5173885214422872\n"
     ]
    }
   ],
   "source": [
    "from datasets import get_logist_regression_kfold_score\n",
    "\n",
    "X = wine_white.drop('quality', axis=1)\n",
    "y = wine_white['quality']\n",
    "score_before = get_logist_regression_kfold_score(X,y)\n",
    "print('Score before: ', score_before)\n",
    "\n",
    "selected_features = ['fixed acidity','volatile acidity','citric acid','residual sugar','chlorides','free sulfur dioxide','total sulfur dioxide','density','pH','sulphates','magnesium','alcohol','lightness','quality']\n",
    "selected_features = ['alcohol', 'density', 'total sulfur dioxide', 'chlorides', 'free sulfur dioxide', 'citric acid', 'volatile acidity', 'quality']\n",
    "wine_white_without_noise_selected = wine_white_without_noise[selected_features]\n",
    "wine_white_with_calculated_noise_selected = wine_white_with_calculated_noise[selected_features]\n",
    "\n",
    "X = wine_white_without_noise_selected.drop('quality', axis=1)\n",
    "y = wine_white_without_noise_selected['quality']\n",
    "\n",
    "score_after = get_logist_regression_kfold_score(X,y)\n",
    "print('Score after without noise: ', score_after)\n",
    "\n",
    "X = wine_white_with_calculated_noise_selected.drop('quality', axis=1)\n",
    "y = wine_white_with_calculated_noise_selected['quality']\n",
    "\n",
    "score_after = get_logist_regression_kfold_score(X,y)\n",
    "print('Score after with calculated noise: ', score_after)\n",
    "\n",
    "# wine_white_without_noise = wine_white_without_noise[selected_features]\n",
    "# wine_white_with_calculated_noise = wine_white_with_calculated_noise[selected_features]"
   ]
  },
  {
   "cell_type": "markdown",
   "metadata": {},
   "source": [
    "Compare result to PCA "
   ]
  },
  {
   "cell_type": "code",
   "execution_count": 27,
   "metadata": {},
   "outputs": [
    {
     "output_type": "stream",
     "name": "stdout",
     "text": [
      "Score before:  0.4548366431774504\n",
      "Score after without noise:  0.5166666666666667\n",
      "Score after with calculated noise:  0.4847320093956865\n"
     ]
    }
   ],
   "source": [
    "import numpy as np\n",
    "import pandas as pd\n",
    "from datasets import get_logist_regression_kfold_score\n",
    "from sklearn import decomposition\n",
    "\n",
    "#Perform PCA with 3 dimensions\n",
    "num_components=3\n",
    "pca = decomposition.PCA(n_components=2)\n",
    "#Only use features\n",
    "x=wine_white_without_noise.drop('quality', axis=1)\n",
    "pca.fit(x)\n",
    "x_tran = pca.transform(x)\n",
    "y_tran = wine_white_without_noise['quality']\n",
    "\n",
    "X = wine_white.drop('quality', axis=1)\n",
    "y = wine_white['quality']\n",
    "score_before = get_logist_regression_kfold_score(X,y)\n",
    "print('Score before: ', score_before)\n",
    "score_after = get_logist_regression_kfold_score(x_tran,y_tran)\n",
    "print('Score after without noise: ', score_after)\n",
    "\n",
    "pca = decomposition.PCA(n_components=2)\n",
    "#Only use features\n",
    "x=wine_white_with_calculated_noise.drop('quality', axis=1)\n",
    "pca.fit(x)\n",
    "x_tran = pca.transform(x)\n",
    "y_tran = wine_white_with_calculated_noise['quality']\n",
    "\n",
    "score_after = get_logist_regression_kfold_score(x_tran,y_tran)\n",
    "print('Score after with calculated noise: ', score_after)"
   ]
  },
  {
   "source": [
    "## Forward Selection"
   ],
   "cell_type": "markdown",
   "metadata": {}
  },
  {
   "cell_type": "code",
   "execution_count": 88,
   "metadata": {},
   "outputs": [
    {
     "output_type": "stream",
     "name": "stdout",
     "text": [
      "Score with features ['fixed acidity']: 0.48694848694848697\n",
      "Score with features ['fixed acidity', 'volatile acidity']: 0.49665049665049665\n",
      "Score with features ['fixed acidity', 'volatile acidity', 'citric acid']: 0.4982674982674983\n",
      "skipping feature residual sugar\n",
      "Score with features ['fixed acidity', 'volatile acidity', 'citric acid', 'chlorides']: 0.5003465003465003\n",
      "Score with features ['fixed acidity', 'volatile acidity', 'citric acid', 'chlorides', 'flavanoids']: 0.5038115038115039\n",
      "skipping feature free sulfur dioxide\n",
      "skipping feature total sulfur dioxide\n",
      "skipping feature density\n",
      "skipping feature pH\n",
      "skipping feature magnesium\n",
      "skipping feature sulphates\n",
      "Score with features ['fixed acidity', 'volatile acidity', 'citric acid', 'chlorides', 'flavanoids', 'alcohol']: 0.5470085470085471\n",
      "Score with features ['fixed acidity', 'volatile acidity', 'citric acid', 'chlorides', 'flavanoids', 'alcohol', 'lightness']: 0.5488565488565489\n",
      "Score with features ['fixed acidity']: 0.4533248081841432\n",
      "Score with features ['fixed acidity', 'volatile acidity']: 0.46504688832054564\n",
      "skipping feature citric acid\n",
      "Score with features ['fixed acidity', 'volatile acidity', 'residual sugar']: 0.4676044330775789\n",
      "Score with features ['fixed acidity', 'volatile acidity', 'residual sugar', 'chlorides']: 0.4697357203751066\n",
      "skipping feature flavanoids\n",
      "skipping feature free sulfur dioxide\n",
      "Score with features ['fixed acidity', 'volatile acidity', 'residual sugar', 'chlorides', 'total sulfur dioxide']: 0.47208013640238705\n",
      "skipping feature density\n",
      "skipping feature pH\n",
      "skipping feature magnesium\n",
      "skipping feature sulphates\n",
      "Score with features ['fixed acidity', 'volatile acidity', 'residual sugar', 'chlorides', 'total sulfur dioxide', 'alcohol']: 0.5078857630008525\n",
      "Score with features ['fixed acidity', 'volatile acidity', 'residual sugar', 'chlorides', 'total sulfur dioxide', 'alcohol', 'lightness']: 0.5093776641091219\n"
     ]
    }
   ],
   "source": [
    "from datasets import get_logist_regression_kfold_score\n",
    "\n",
    "def perform_forward_selection(data, columns):\n",
    "    score = 0\n",
    "    columns_to_use = []\n",
    "    for column in columns:\n",
    "        columns_to_use.append(column)\n",
    "        x = data[columns_to_use] \n",
    "        y = data['quality']\n",
    "        score_temp = get_logist_regression_kfold_score(x,y)\n",
    "        if score_temp - score < 0:\n",
    "            columns_to_use.remove(column)\n",
    "            print(f\"skipping feature {column}\")\n",
    "            continue\n",
    "        score = score_temp\n",
    "        print(f\"Score with features {columns_to_use}: {score}\")\n",
    "    return columns_to_use\n",
    "\n",
    "columns = wine_white_without_noise.columns.tolist()\n",
    "columns.remove('quality')\n",
    "columns_to_use_without_noise = perform_forward_selection(wine_white_without_noise, columns)\n",
    "\n",
    "columns = wine_white_with_calculated_noise.columns.tolist()\n",
    "columns.remove('quality')\n",
    "columns_to_use_with_calculated_noise = perform_forward_selection(wine_white_with_calculated_noise, columns)"
   ]
  },
  {
   "cell_type": "markdown",
   "metadata": {},
   "source": [
    "# Evaluation"
   ]
  },
  {
   "cell_type": "code",
   "execution_count": 89,
   "metadata": {},
   "outputs": [
    {
     "output_type": "stream",
     "name": "stdout",
     "text": [
      "Score before preprocessing 0.46253071253071254\n",
      "Score after preprocessing without feature selection without noise 0.5416955416955417\n",
      "Score after preprocessing without feature selection calculated noise 0.5066069906223359\n",
      "Score after preprocessing forward selection without noise 0.5488565488565489\n",
      "Score after preprocessing forward selection with calculated noise 0.5370755370755371\n",
      "Score after preprocessing feature selection without noise 0.5403095403095403\n",
      "Score after preprocessing feature selection with calculated noise 0.5166240409207161\n"
     ]
    }
   ],
   "source": [
    "from datasets import wine_white_dataset, get_logist_regression_kfold_score\n",
    "\n",
    "wine_white_pure = wine_white_dataset().dropna()\n",
    "\n",
    "x = wine_white_pure.drop('quality', axis=1).drop('ID', axis=1)\n",
    "y = wine_white_pure['quality']\n",
    "score_before = get_logist_regression_kfold_score(x,y)\n",
    "print('Score before preprocessing', score_before)\n",
    "\n",
    "x = wine_white_without_noise.drop('quality', axis=1)\n",
    "y = wine_white_without_noise['quality']\n",
    "score_after = get_logist_regression_kfold_score(x,y)\n",
    "print('Score after preprocessing without feature selection without noise', score_after)\n",
    "\n",
    "x = wine_white_with_calculated_noise.drop('quality', axis=1)\n",
    "y = wine_white_with_calculated_noise['quality']\n",
    "score_after = get_logist_regression_kfold_score(x,y)\n",
    "print('Score after preprocessing without feature selection calculated noise', score_after)\n",
    "\n",
    "x = wine_white_without_noise[columns_to_use_without_noise]\n",
    "y = wine_white_without_noise['quality']\n",
    "score_after = get_logist_regression_kfold_score(x,y)\n",
    "print('Score after preprocessing forward selection without noise', score_after)\n",
    "\n",
    "x = wine_white_without_noise[columns_to_use_with_calculated_noise]\n",
    "y = wine_white_without_noise['quality']\n",
    "score_after = get_logist_regression_kfold_score(x,y)\n",
    "print('Score after preprocessing forward selection with calculated noise', score_after)\n",
    "\n",
    "x = wine_white_without_noise[selected_features].drop('quality', axis=1)\n",
    "y = wine_white_without_noise['quality']\n",
    "score_after = get_logist_regression_kfold_score(x,y)\n",
    "print('Score after preprocessing feature selection without noise', score_after)\n",
    "\n",
    "x = wine_white_with_calculated_noise[selected_features].drop('quality', axis=1)\n",
    "y = wine_white_with_calculated_noise['quality']\n",
    "score_after = get_logist_regression_kfold_score(x,y)\n",
    "print('Score after preprocessing feature selection with calculated noise', score_after)\n",
    "\n"
   ]
  },
  {
   "cell_type": "code",
   "execution_count": null,
   "metadata": {},
   "outputs": [],
   "source": []
  }
 ],
 "metadata": {
  "kernelspec": {
   "display_name": "Python 3",
   "language": "python",
   "name": "python3"
  },
  "language_info": {
   "codemirror_mode": {
    "name": "ipython",
    "version": 3
   },
   "file_extension": ".py",
   "mimetype": "text/x-python",
   "name": "python",
   "nbconvert_exporter": "python",
   "pygments_lexer": "ipython3",
   "version": "3.8.3-final"
  }
 },
 "nbformat": 4,
 "nbformat_minor": 2
}