{
 "metadata": {
  "language_info": {
   "codemirror_mode": {
    "name": "ipython",
    "version": 3
   },
   "file_extension": ".py",
   "mimetype": "text/x-python",
   "name": "python",
   "nbconvert_exporter": "python",
   "pygments_lexer": "ipython3",
   "version": "3.8.3-final"
  },
  "orig_nbformat": 2,
  "kernelspec": {
   "name": "python3",
   "display_name": "Python 3.8.3 64-bit (conda)",
   "metadata": {
    "interpreter": {
     "hash": "f91b45585d66f8d42d8b427d8cc68ebdca9f95f539a3fd1ad17d4bc574d871b8"
    }
   }
  }
 },
 "nbformat": 4,
 "nbformat_minor": 2,
 "cells": [
  {
   "source": [
    "SVM\n",
    "\n",
    "Logistic Regression\n",
    "\n",
    "ANNs\n",
    "\n",
    "KNN\n",
    "\n",
    "Decision Tree\n",
    "\n",
    "Naive Bayes\n",
    "\n",
    "\n",
    "\n"
   ],
   "cell_type": "markdown",
   "metadata": {}
  },
  {
   "cell_type": "code",
   "execution_count": 19,
   "metadata": {},
   "outputs": [
    {
     "output_type": "display_data",
     "data": {
      "text/plain": "       days_article_dataset   number_words_title  number_words_content  \\\n0                       731                 12.0                   219   \n1                       731                  9.0                   255   \n2                       731                  9.0                   211   \n3                       731                  9.0                   531   \n4                       731                 13.0                  1072   \n...                     ...                  ...                   ...   \n39639                     8                 11.0                   346   \n39640                     8                 12.0                   328   \n39641                     8                 10.0                   442   \n39642                     8                  6.0                   682   \n39643                     8                 10.0                   157   \n\n       rate_unique_words_content  rate_non_stop_words_content  \\\n0                       0.663594                          1.0   \n1                       0.604743                          1.0   \n2                       0.575130                          1.0   \n3                       0.503788                          1.0   \n4                       0.415646                          1.0   \n...                          ...                          ...   \n39639                   0.529052                          1.0   \n39640                   0.696296                          1.0   \n39641                   0.516355                          1.0   \n39642                   0.539493                          1.0   \n39643                   0.701987                          1.0   \n\n       rate_unique_non_stop_words_content  number_links  \\\n0                                0.815385             4   \n1                                0.791946             3   \n2                                0.663866             3   \n3                                0.665635             9   \n4                                0.540890            19   \n...                                   ...           ...   \n39639                            0.684783             9   \n39640                            0.885057             9   \n39641                            0.644128            24   \n39642                            0.692661            10   \n39643                            0.846154             1   \n\n        number_links_to_mashable   number_imgs   number_videos  ...  \\\n0                              2             1               0  ...   \n1                              1             1               0  ...   \n2                              1             1               0  ...   \n3                              0             1               0  ...   \n4                             19            20               0  ...   \n...                          ...           ...             ...  ...   \n39639                          7             1               1  ...   \n39640                          7             3              48  ...   \n39641                          1            12               1  ...   \n39642                          1             1               0  ...   \n39643                          1             0               2  ...   \n\n        min_polarity_in_positive_words   max_polarity_in_positive_words  \\\n0                             0.100000                             0.70   \n1                             0.033333                             0.70   \n2                             0.100000                             1.00   \n3                             0.136364                             0.80   \n4                             0.033333                             1.00   \n...                                ...                              ...   \n39639                         0.100000                             0.75   \n39640                         0.136364                             0.70   \n39641                         0.136364                             0.50   \n39642                         0.062500                             0.50   \n39643                         0.100000                             0.50   \n\n        avg_polarity_in_negative_words   min_polarity_in_negative_words  \\\n0                            -0.350000                           -0.600   \n1                            -0.118750                           -0.125   \n2                            -0.466667                           -0.800   \n3                            -0.369697                           -0.600   \n4                            -0.220192                           -0.500   \n...                                ...                              ...   \n39639                        -0.260000                           -0.500   \n39640                        -0.211111                           -0.400   \n39641                        -0.356439                           -0.800   \n39642                        -0.205246                           -0.500   \n39643                        -0.200000                           -0.200   \n\n        max_polarity_in_negative_words   title_sentiment_subjectivity  \\\n0                            -0.200000                       0.500000   \n1                            -0.100000                       0.000000   \n2                            -0.133333                       0.000000   \n3                            -0.166667                       0.000000   \n4                            -0.050000                       0.454545   \n...                                ...                            ...   \n39639                        -0.125000                       0.100000   \n39640                        -0.100000                       0.300000   \n39641                        -0.166667                       0.454545   \n39642                        -0.012500                       0.000000   \n39643                        -0.200000                       0.333333   \n\n        title_sentiment_polarity   abs_title_subjectivity  \\\n0                      -0.187500                 0.000000   \n1                       0.000000                 0.500000   \n2                       0.000000                 0.500000   \n3                       0.000000                 0.500000   \n4                       0.136364                 0.045455   \n...                          ...                      ...   \n39639                   0.000000                 0.400000   \n39640                   1.000000                 0.200000   \n39641                   0.136364                 0.045455   \n39642                   0.000000                 0.500000   \n39643                   0.250000                 0.166667   \n\n        abs_title_sentiment_polarity   shares  \n0                           0.187500      593  \n1                           0.000000      711  \n2                           0.000000     1500  \n3                           0.000000     1200  \n4                           0.136364      505  \n...                              ...      ...  \n39639                       0.000000     1800  \n39640                       1.000000     1900  \n39641                       0.136364     1900  \n39642                       0.000000     1100  \n39643                       0.250000     1300  \n\n[39634 rows x 60 columns]",
      "text/html": "<div>\n<style scoped>\n    .dataframe tbody tr th:only-of-type {\n        vertical-align: middle;\n    }\n\n    .dataframe tbody tr th {\n        vertical-align: top;\n    }\n\n    .dataframe thead th {\n        text-align: right;\n    }\n</style>\n<table border=\"1\" class=\"dataframe\">\n  <thead>\n    <tr style=\"text-align: right;\">\n      <th></th>\n      <th>days_article_dataset</th>\n      <th>number_words_title</th>\n      <th>number_words_content</th>\n      <th>rate_unique_words_content</th>\n      <th>rate_non_stop_words_content</th>\n      <th>rate_unique_non_stop_words_content</th>\n      <th>number_links</th>\n      <th>number_links_to_mashable</th>\n      <th>number_imgs</th>\n      <th>number_videos</th>\n      <th>...</th>\n      <th>min_polarity_in_positive_words</th>\n      <th>max_polarity_in_positive_words</th>\n      <th>avg_polarity_in_negative_words</th>\n      <th>min_polarity_in_negative_words</th>\n      <th>max_polarity_in_negative_words</th>\n      <th>title_sentiment_subjectivity</th>\n      <th>title_sentiment_polarity</th>\n      <th>abs_title_subjectivity</th>\n      <th>abs_title_sentiment_polarity</th>\n      <th>shares</th>\n    </tr>\n  </thead>\n  <tbody>\n    <tr>\n      <th>0</th>\n      <td>731</td>\n      <td>12.0</td>\n      <td>219</td>\n      <td>0.663594</td>\n      <td>1.0</td>\n      <td>0.815385</td>\n      <td>4</td>\n      <td>2</td>\n      <td>1</td>\n      <td>0</td>\n      <td>...</td>\n      <td>0.100000</td>\n      <td>0.70</td>\n      <td>-0.350000</td>\n      <td>-0.600</td>\n      <td>-0.200000</td>\n      <td>0.500000</td>\n      <td>-0.187500</td>\n      <td>0.000000</td>\n      <td>0.187500</td>\n      <td>593</td>\n    </tr>\n    <tr>\n      <th>1</th>\n      <td>731</td>\n      <td>9.0</td>\n      <td>255</td>\n      <td>0.604743</td>\n      <td>1.0</td>\n      <td>0.791946</td>\n      <td>3</td>\n      <td>1</td>\n      <td>1</td>\n      <td>0</td>\n      <td>...</td>\n      <td>0.033333</td>\n      <td>0.70</td>\n      <td>-0.118750</td>\n      <td>-0.125</td>\n      <td>-0.100000</td>\n      <td>0.000000</td>\n      <td>0.000000</td>\n      <td>0.500000</td>\n      <td>0.000000</td>\n      <td>711</td>\n    </tr>\n    <tr>\n      <th>2</th>\n      <td>731</td>\n      <td>9.0</td>\n      <td>211</td>\n      <td>0.575130</td>\n      <td>1.0</td>\n      <td>0.663866</td>\n      <td>3</td>\n      <td>1</td>\n      <td>1</td>\n      <td>0</td>\n      <td>...</td>\n      <td>0.100000</td>\n      <td>1.00</td>\n      <td>-0.466667</td>\n      <td>-0.800</td>\n      <td>-0.133333</td>\n      <td>0.000000</td>\n      <td>0.000000</td>\n      <td>0.500000</td>\n      <td>0.000000</td>\n      <td>1500</td>\n    </tr>\n    <tr>\n      <th>3</th>\n      <td>731</td>\n      <td>9.0</td>\n      <td>531</td>\n      <td>0.503788</td>\n      <td>1.0</td>\n      <td>0.665635</td>\n      <td>9</td>\n      <td>0</td>\n      <td>1</td>\n      <td>0</td>\n      <td>...</td>\n      <td>0.136364</td>\n      <td>0.80</td>\n      <td>-0.369697</td>\n      <td>-0.600</td>\n      <td>-0.166667</td>\n      <td>0.000000</td>\n      <td>0.000000</td>\n      <td>0.500000</td>\n      <td>0.000000</td>\n      <td>1200</td>\n    </tr>\n    <tr>\n      <th>4</th>\n      <td>731</td>\n      <td>13.0</td>\n      <td>1072</td>\n      <td>0.415646</td>\n      <td>1.0</td>\n      <td>0.540890</td>\n      <td>19</td>\n      <td>19</td>\n      <td>20</td>\n      <td>0</td>\n      <td>...</td>\n      <td>0.033333</td>\n      <td>1.00</td>\n      <td>-0.220192</td>\n      <td>-0.500</td>\n      <td>-0.050000</td>\n      <td>0.454545</td>\n      <td>0.136364</td>\n      <td>0.045455</td>\n      <td>0.136364</td>\n      <td>505</td>\n    </tr>\n    <tr>\n      <th>...</th>\n      <td>...</td>\n      <td>...</td>\n      <td>...</td>\n      <td>...</td>\n      <td>...</td>\n      <td>...</td>\n      <td>...</td>\n      <td>...</td>\n      <td>...</td>\n      <td>...</td>\n      <td>...</td>\n      <td>...</td>\n      <td>...</td>\n      <td>...</td>\n      <td>...</td>\n      <td>...</td>\n      <td>...</td>\n      <td>...</td>\n      <td>...</td>\n      <td>...</td>\n      <td>...</td>\n    </tr>\n    <tr>\n      <th>39639</th>\n      <td>8</td>\n      <td>11.0</td>\n      <td>346</td>\n      <td>0.529052</td>\n      <td>1.0</td>\n      <td>0.684783</td>\n      <td>9</td>\n      <td>7</td>\n      <td>1</td>\n      <td>1</td>\n      <td>...</td>\n      <td>0.100000</td>\n      <td>0.75</td>\n      <td>-0.260000</td>\n      <td>-0.500</td>\n      <td>-0.125000</td>\n      <td>0.100000</td>\n      <td>0.000000</td>\n      <td>0.400000</td>\n      <td>0.000000</td>\n      <td>1800</td>\n    </tr>\n    <tr>\n      <th>39640</th>\n      <td>8</td>\n      <td>12.0</td>\n      <td>328</td>\n      <td>0.696296</td>\n      <td>1.0</td>\n      <td>0.885057</td>\n      <td>9</td>\n      <td>7</td>\n      <td>3</td>\n      <td>48</td>\n      <td>...</td>\n      <td>0.136364</td>\n      <td>0.70</td>\n      <td>-0.211111</td>\n      <td>-0.400</td>\n      <td>-0.100000</td>\n      <td>0.300000</td>\n      <td>1.000000</td>\n      <td>0.200000</td>\n      <td>1.000000</td>\n      <td>1900</td>\n    </tr>\n    <tr>\n      <th>39641</th>\n      <td>8</td>\n      <td>10.0</td>\n      <td>442</td>\n      <td>0.516355</td>\n      <td>1.0</td>\n      <td>0.644128</td>\n      <td>24</td>\n      <td>1</td>\n      <td>12</td>\n      <td>1</td>\n      <td>...</td>\n      <td>0.136364</td>\n      <td>0.50</td>\n      <td>-0.356439</td>\n      <td>-0.800</td>\n      <td>-0.166667</td>\n      <td>0.454545</td>\n      <td>0.136364</td>\n      <td>0.045455</td>\n      <td>0.136364</td>\n      <td>1900</td>\n    </tr>\n    <tr>\n      <th>39642</th>\n      <td>8</td>\n      <td>6.0</td>\n      <td>682</td>\n      <td>0.539493</td>\n      <td>1.0</td>\n      <td>0.692661</td>\n      <td>10</td>\n      <td>1</td>\n      <td>1</td>\n      <td>0</td>\n      <td>...</td>\n      <td>0.062500</td>\n      <td>0.50</td>\n      <td>-0.205246</td>\n      <td>-0.500</td>\n      <td>-0.012500</td>\n      <td>0.000000</td>\n      <td>0.000000</td>\n      <td>0.500000</td>\n      <td>0.000000</td>\n      <td>1100</td>\n    </tr>\n    <tr>\n      <th>39643</th>\n      <td>8</td>\n      <td>10.0</td>\n      <td>157</td>\n      <td>0.701987</td>\n      <td>1.0</td>\n      <td>0.846154</td>\n      <td>1</td>\n      <td>1</td>\n      <td>0</td>\n      <td>2</td>\n      <td>...</td>\n      <td>0.100000</td>\n      <td>0.50</td>\n      <td>-0.200000</td>\n      <td>-0.200</td>\n      <td>-0.200000</td>\n      <td>0.333333</td>\n      <td>0.250000</td>\n      <td>0.166667</td>\n      <td>0.250000</td>\n      <td>1300</td>\n    </tr>\n  </tbody>\n</table>\n<p>39634 rows × 60 columns</p>\n</div>"
     },
     "metadata": {}
    }
   ],
   "source": [
    "from datasets import popularity_dataset\n",
    "import pandas as pd\n",
    "popularity_data = popularity_dataset().dropna()\n",
    "\n",
    "display(popularity_data)"
   ]
  },
  {
   "cell_type": "code",
   "execution_count": 20,
   "metadata": {},
   "outputs": [],
   "source": [
    "# median = popularity_data.median()[' shares']\n",
    "# display(median)\n",
    "\n",
    "# threshold = median\n",
    "# popularity_data.loc[popularity_data[' shares'] > threshold, 'will be successfull'] = 1\n",
    "# popularity_data.loc[popularity_data[' shares'] <= threshold, 'will be successfull'] = 0\n",
    "# display(popularity_data)"
   ]
  },
  {
   "cell_type": "code",
   "execution_count": 21,
   "metadata": {},
   "outputs": [],
   "source": [
    "def get_sample_data(original_data):\n",
    "    return original_data.sample(frac=.2, random_state=1)\n",
    "data = get_sample_data(popularity_data)"
   ]
  },
  {
   "source": [
    "As discussed and proposed by exploration team, we should find a way to discretize the values."
   ],
   "cell_type": "markdown",
   "metadata": {}
  },
  {
   "cell_type": "code",
   "execution_count": 22,
   "metadata": {},
   "outputs": [],
   "source": [
    "from datasets import get_cutpoints_for_percent\n",
    "classes = ['Very Bad', 'Bad', 'Moderate', 'Good', 'Very Good']\n",
    "\n",
    "sorted_shares = data.sort_values(by=' shares', ascending= True)\n",
    "\n",
    "classes_cutpoints = [\n",
    "    get_cutpoints_for_percent(sorted_shares, 0, .3, ' shares'),\n",
    "    get_cutpoints_for_percent(sorted_shares, .3, .5, ' shares'),\n",
    "    get_cutpoints_for_percent(sorted_shares, .5, .8, ' shares'),\n",
    "    get_cutpoints_for_percent(sorted_shares, .8, .95, ' shares'),\n",
    "    get_cutpoints_for_percent(sorted_shares, .95, 1, ' shares'),\n",
    "]\n",
    "\n"
   ]
  },
  {
   "cell_type": "code",
   "execution_count": 23,
   "metadata": {},
   "outputs": [
    {
     "output_type": "display_data",
     "data": {
      "text/plain": "       days_article_dataset   number_words_title  number_words_content  \\\n17387                   393                  9.0                   222   \n34245                    92                  8.0                   640   \n33543                   102                 14.0                  3469   \n16694                   408                  8.0                   108   \n37033                    52                 14.0                   769   \n...                     ...                  ...                   ...   \n75                      731                  6.0                   374   \n9211                    556                 12.0                   203   \n6965                    602                 10.0                   132   \n6298                    616                 10.0                   406   \n39231                    17                 11.0                   938   \n\n       rate_unique_words_content  rate_non_stop_words_content  \\\n17387                   0.605634                          1.0   \n34245                   0.455479                          1.0   \n33543                   0.226190                          1.0   \n16694                   0.819048                          1.0   \n37033                   0.420026                          1.0   \n...                          ...                          ...   \n75                      0.640541                          1.0   \n9211                    0.534392                          1.0   \n6965                    0.696970                          1.0   \n6298                    0.548128                          1.0   \n39231                   0.469055                          1.0   \n\n       rate_unique_non_stop_words_content  number_links  \\\n17387                            0.723077             9   \n34245                            0.549223            21   \n33543                            0.425599             6   \n16694                            0.939394             2   \n37033                            0.627451            17   \n...                                   ...           ...   \n75                               0.828054             7   \n9211                             0.610619             1   \n6965                             0.835443             3   \n6298                             0.676471            22   \n39231                            0.628070            20   \n\n        number_links_to_mashable   number_imgs   number_videos  ...  \\\n17387                          5             1               0  ...   \n34245                          2             2               0  ...   \n33543                          5             1               3  ...   \n16694                          0             1               0  ...   \n37033                          2             1               0  ...   \n...                          ...           ...             ...  ...   \n75                             0             1               0  ...   \n9211                           0             1               0  ...   \n6965                           2             0               2  ...   \n6298                           1            11               0  ...   \n39231                         13             4               0  ...   \n\n        max_polarity_in_positive_words   avg_polarity_in_negative_words  \\\n17387                              0.6                        -0.200000   \n34245                              1.0                        -0.319444   \n33543                              1.0                        -0.332075   \n16694                              0.5                        -0.300000   \n37033                              1.0                        -0.157292   \n...                                ...                              ...   \n75                                 0.8                        -0.130357   \n9211                               0.6                        -0.400000   \n6965                               0.7                        -0.522222   \n6298                               0.7                        -0.180833   \n39231                              1.0                        -0.233876   \n\n        min_polarity_in_negative_words   max_polarity_in_negative_words  \\\n17387                            -0.20                        -0.200000   \n34245                            -0.70                        -0.100000   \n33543                            -1.00                        -0.071429   \n16694                            -0.30                        -0.300000   \n37033                            -0.25                        -0.050000   \n...                                ...                              ...   \n75                               -0.20                        -0.050000   \n9211                             -0.40                        -0.400000   \n6965                             -0.90                        -0.300000   \n6298                             -0.50                        -0.050000   \n39231                            -0.80                        -0.050000   \n\n        title_sentiment_subjectivity   title_sentiment_polarity  \\\n17387                       0.000000                   0.000000   \n34245                       0.733333                   0.033333   \n33543                       0.000000                   0.000000   \n16694                       1.000000                   0.000000   \n37033                       0.183333                   0.516667   \n...                              ...                        ...   \n75                          0.000000                   0.000000   \n9211                        0.500000                   0.000000   \n6965                        0.000000                   0.000000   \n6298                        1.000000                   0.200000   \n39231                       0.000000                   0.000000   \n\n        abs_title_subjectivity   abs_title_sentiment_polarity   shares  \\\n17387                 0.500000                       0.000000      990   \n34245                 0.233333                       0.033333     3000   \n33543                 0.500000                       0.000000     1500   \n16694                 0.500000                       0.000000      589   \n37033                 0.316667                       0.516667     2000   \n...                        ...                            ...      ...   \n75                    0.500000                       0.000000      552   \n9211                  0.000000                       0.000000     2900   \n6965                  0.500000                       0.000000     3000   \n6298                  0.500000                       0.200000     2300   \n39231                 0.500000                       0.000000     3000   \n\n       share_class  \n17387     Very Bad  \n34245          Bad  \n33543          Bad  \n16694     Very Bad  \n37033          Bad  \n...            ...  \n75        Very Bad  \n9211           Bad  \n6965           Bad  \n6298           Bad  \n39231          Bad  \n\n[7927 rows x 61 columns]",
      "text/html": "<div>\n<style scoped>\n    .dataframe tbody tr th:only-of-type {\n        vertical-align: middle;\n    }\n\n    .dataframe tbody tr th {\n        vertical-align: top;\n    }\n\n    .dataframe thead th {\n        text-align: right;\n    }\n</style>\n<table border=\"1\" class=\"dataframe\">\n  <thead>\n    <tr style=\"text-align: right;\">\n      <th></th>\n      <th>days_article_dataset</th>\n      <th>number_words_title</th>\n      <th>number_words_content</th>\n      <th>rate_unique_words_content</th>\n      <th>rate_non_stop_words_content</th>\n      <th>rate_unique_non_stop_words_content</th>\n      <th>number_links</th>\n      <th>number_links_to_mashable</th>\n      <th>number_imgs</th>\n      <th>number_videos</th>\n      <th>...</th>\n      <th>max_polarity_in_positive_words</th>\n      <th>avg_polarity_in_negative_words</th>\n      <th>min_polarity_in_negative_words</th>\n      <th>max_polarity_in_negative_words</th>\n      <th>title_sentiment_subjectivity</th>\n      <th>title_sentiment_polarity</th>\n      <th>abs_title_subjectivity</th>\n      <th>abs_title_sentiment_polarity</th>\n      <th>shares</th>\n      <th>share_class</th>\n    </tr>\n  </thead>\n  <tbody>\n    <tr>\n      <th>17387</th>\n      <td>393</td>\n      <td>9.0</td>\n      <td>222</td>\n      <td>0.605634</td>\n      <td>1.0</td>\n      <td>0.723077</td>\n      <td>9</td>\n      <td>5</td>\n      <td>1</td>\n      <td>0</td>\n      <td>...</td>\n      <td>0.6</td>\n      <td>-0.200000</td>\n      <td>-0.20</td>\n      <td>-0.200000</td>\n      <td>0.000000</td>\n      <td>0.000000</td>\n      <td>0.500000</td>\n      <td>0.000000</td>\n      <td>990</td>\n      <td>Very Bad</td>\n    </tr>\n    <tr>\n      <th>34245</th>\n      <td>92</td>\n      <td>8.0</td>\n      <td>640</td>\n      <td>0.455479</td>\n      <td>1.0</td>\n      <td>0.549223</td>\n      <td>21</td>\n      <td>2</td>\n      <td>2</td>\n      <td>0</td>\n      <td>...</td>\n      <td>1.0</td>\n      <td>-0.319444</td>\n      <td>-0.70</td>\n      <td>-0.100000</td>\n      <td>0.733333</td>\n      <td>0.033333</td>\n      <td>0.233333</td>\n      <td>0.033333</td>\n      <td>3000</td>\n      <td>Bad</td>\n    </tr>\n    <tr>\n      <th>33543</th>\n      <td>102</td>\n      <td>14.0</td>\n      <td>3469</td>\n      <td>0.226190</td>\n      <td>1.0</td>\n      <td>0.425599</td>\n      <td>6</td>\n      <td>5</td>\n      <td>1</td>\n      <td>3</td>\n      <td>...</td>\n      <td>1.0</td>\n      <td>-0.332075</td>\n      <td>-1.00</td>\n      <td>-0.071429</td>\n      <td>0.000000</td>\n      <td>0.000000</td>\n      <td>0.500000</td>\n      <td>0.000000</td>\n      <td>1500</td>\n      <td>Bad</td>\n    </tr>\n    <tr>\n      <th>16694</th>\n      <td>408</td>\n      <td>8.0</td>\n      <td>108</td>\n      <td>0.819048</td>\n      <td>1.0</td>\n      <td>0.939394</td>\n      <td>2</td>\n      <td>0</td>\n      <td>1</td>\n      <td>0</td>\n      <td>...</td>\n      <td>0.5</td>\n      <td>-0.300000</td>\n      <td>-0.30</td>\n      <td>-0.300000</td>\n      <td>1.000000</td>\n      <td>0.000000</td>\n      <td>0.500000</td>\n      <td>0.000000</td>\n      <td>589</td>\n      <td>Very Bad</td>\n    </tr>\n    <tr>\n      <th>37033</th>\n      <td>52</td>\n      <td>14.0</td>\n      <td>769</td>\n      <td>0.420026</td>\n      <td>1.0</td>\n      <td>0.627451</td>\n      <td>17</td>\n      <td>2</td>\n      <td>1</td>\n      <td>0</td>\n      <td>...</td>\n      <td>1.0</td>\n      <td>-0.157292</td>\n      <td>-0.25</td>\n      <td>-0.050000</td>\n      <td>0.183333</td>\n      <td>0.516667</td>\n      <td>0.316667</td>\n      <td>0.516667</td>\n      <td>2000</td>\n      <td>Bad</td>\n    </tr>\n    <tr>\n      <th>...</th>\n      <td>...</td>\n      <td>...</td>\n      <td>...</td>\n      <td>...</td>\n      <td>...</td>\n      <td>...</td>\n      <td>...</td>\n      <td>...</td>\n      <td>...</td>\n      <td>...</td>\n      <td>...</td>\n      <td>...</td>\n      <td>...</td>\n      <td>...</td>\n      <td>...</td>\n      <td>...</td>\n      <td>...</td>\n      <td>...</td>\n      <td>...</td>\n      <td>...</td>\n      <td>...</td>\n    </tr>\n    <tr>\n      <th>75</th>\n      <td>731</td>\n      <td>6.0</td>\n      <td>374</td>\n      <td>0.640541</td>\n      <td>1.0</td>\n      <td>0.828054</td>\n      <td>7</td>\n      <td>0</td>\n      <td>1</td>\n      <td>0</td>\n      <td>...</td>\n      <td>0.8</td>\n      <td>-0.130357</td>\n      <td>-0.20</td>\n      <td>-0.050000</td>\n      <td>0.000000</td>\n      <td>0.000000</td>\n      <td>0.500000</td>\n      <td>0.000000</td>\n      <td>552</td>\n      <td>Very Bad</td>\n    </tr>\n    <tr>\n      <th>9211</th>\n      <td>556</td>\n      <td>12.0</td>\n      <td>203</td>\n      <td>0.534392</td>\n      <td>1.0</td>\n      <td>0.610619</td>\n      <td>1</td>\n      <td>0</td>\n      <td>1</td>\n      <td>0</td>\n      <td>...</td>\n      <td>0.6</td>\n      <td>-0.400000</td>\n      <td>-0.40</td>\n      <td>-0.400000</td>\n      <td>0.500000</td>\n      <td>0.000000</td>\n      <td>0.000000</td>\n      <td>0.000000</td>\n      <td>2900</td>\n      <td>Bad</td>\n    </tr>\n    <tr>\n      <th>6965</th>\n      <td>602</td>\n      <td>10.0</td>\n      <td>132</td>\n      <td>0.696970</td>\n      <td>1.0</td>\n      <td>0.835443</td>\n      <td>3</td>\n      <td>2</td>\n      <td>0</td>\n      <td>2</td>\n      <td>...</td>\n      <td>0.7</td>\n      <td>-0.522222</td>\n      <td>-0.90</td>\n      <td>-0.300000</td>\n      <td>0.000000</td>\n      <td>0.000000</td>\n      <td>0.500000</td>\n      <td>0.000000</td>\n      <td>3000</td>\n      <td>Bad</td>\n    </tr>\n    <tr>\n      <th>6298</th>\n      <td>616</td>\n      <td>10.0</td>\n      <td>406</td>\n      <td>0.548128</td>\n      <td>1.0</td>\n      <td>0.676471</td>\n      <td>22</td>\n      <td>1</td>\n      <td>11</td>\n      <td>0</td>\n      <td>...</td>\n      <td>0.7</td>\n      <td>-0.180833</td>\n      <td>-0.50</td>\n      <td>-0.050000</td>\n      <td>1.000000</td>\n      <td>0.200000</td>\n      <td>0.500000</td>\n      <td>0.200000</td>\n      <td>2300</td>\n      <td>Bad</td>\n    </tr>\n    <tr>\n      <th>39231</th>\n      <td>17</td>\n      <td>11.0</td>\n      <td>938</td>\n      <td>0.469055</td>\n      <td>1.0</td>\n      <td>0.628070</td>\n      <td>20</td>\n      <td>13</td>\n      <td>4</td>\n      <td>0</td>\n      <td>...</td>\n      <td>1.0</td>\n      <td>-0.233876</td>\n      <td>-0.80</td>\n      <td>-0.050000</td>\n      <td>0.000000</td>\n      <td>0.000000</td>\n      <td>0.500000</td>\n      <td>0.000000</td>\n      <td>3000</td>\n      <td>Bad</td>\n    </tr>\n  </tbody>\n</table>\n<p>7927 rows × 61 columns</p>\n</div>"
     },
     "metadata": {}
    }
   ],
   "source": [
    "from datasets import get_class_for_value\n",
    "data['share_class'] = data.apply(lambda row: get_class_for_value(row[' shares'], classes_cutpoints, classes), axis=1)\n",
    "display(data)"
   ]
  },
  {
   "source": [
    "from sklearn.preprocessing import KBinsDiscretizer\n",
    "import pandas as pd\n",
    "\n",
    "est = KBinsDiscretizer(n_bins=5, encode='ordinal')\n",
    "Xt = est.fit_transform(data[[' shares']])\n",
    "\n",
    "newDf = data.copy(deep=True)\n",
    "newDf['alt_share_class'] = Xt\n",
    "newDf['alt_share_class'] = newDf.apply(lambda row: classes[int(row['alt_share_class'])], axis=1)\n",
    "display(newDf[[' shares', 'share_class', 'alt_share_class']])\n"
   ],
   "cell_type": "code",
   "metadata": {},
   "execution_count": 24,
   "outputs": [
    {
     "output_type": "display_data",
     "data": {
      "text/plain": "        shares share_class alt_share_class\n17387      990    Very Bad             Bad\n34245     3000         Bad            Good\n33543     1500         Bad        Moderate\n16694      589    Very Bad        Very Bad\n37033     2000         Bad            Good\n...        ...         ...             ...\n75         552    Very Bad        Very Bad\n9211      2900         Bad            Good\n6965      3000         Bad            Good\n6298      2300         Bad            Good\n39231     3000         Bad            Good\n\n[7927 rows x 3 columns]",
      "text/html": "<div>\n<style scoped>\n    .dataframe tbody tr th:only-of-type {\n        vertical-align: middle;\n    }\n\n    .dataframe tbody tr th {\n        vertical-align: top;\n    }\n\n    .dataframe thead th {\n        text-align: right;\n    }\n</style>\n<table border=\"1\" class=\"dataframe\">\n  <thead>\n    <tr style=\"text-align: right;\">\n      <th></th>\n      <th>shares</th>\n      <th>share_class</th>\n      <th>alt_share_class</th>\n    </tr>\n  </thead>\n  <tbody>\n    <tr>\n      <th>17387</th>\n      <td>990</td>\n      <td>Very Bad</td>\n      <td>Bad</td>\n    </tr>\n    <tr>\n      <th>34245</th>\n      <td>3000</td>\n      <td>Bad</td>\n      <td>Good</td>\n    </tr>\n    <tr>\n      <th>33543</th>\n      <td>1500</td>\n      <td>Bad</td>\n      <td>Moderate</td>\n    </tr>\n    <tr>\n      <th>16694</th>\n      <td>589</td>\n      <td>Very Bad</td>\n      <td>Very Bad</td>\n    </tr>\n    <tr>\n      <th>37033</th>\n      <td>2000</td>\n      <td>Bad</td>\n      <td>Good</td>\n    </tr>\n    <tr>\n      <th>...</th>\n      <td>...</td>\n      <td>...</td>\n      <td>...</td>\n    </tr>\n    <tr>\n      <th>75</th>\n      <td>552</td>\n      <td>Very Bad</td>\n      <td>Very Bad</td>\n    </tr>\n    <tr>\n      <th>9211</th>\n      <td>2900</td>\n      <td>Bad</td>\n      <td>Good</td>\n    </tr>\n    <tr>\n      <th>6965</th>\n      <td>3000</td>\n      <td>Bad</td>\n      <td>Good</td>\n    </tr>\n    <tr>\n      <th>6298</th>\n      <td>2300</td>\n      <td>Bad</td>\n      <td>Good</td>\n    </tr>\n    <tr>\n      <th>39231</th>\n      <td>3000</td>\n      <td>Bad</td>\n      <td>Good</td>\n    </tr>\n  </tbody>\n</table>\n<p>7927 rows × 3 columns</p>\n</div>"
     },
     "metadata": {}
    }
   ]
  },
  {
   "cell_type": "code",
   "execution_count": 27,
   "metadata": {},
   "outputs": [],
   "source": [
    "data['share_class'] = data.apply(lambda row: classes.index(row['share_class']), axis=1)\n",
    "x = data.drop(' shares', axis=1).drop('share_class', axis=1).dropna()\n",
    "y = data['share_class'].dropna()"
   ]
  },
  {
   "cell_type": "code",
   "execution_count": 28,
   "metadata": {},
   "outputs": [],
   "source": [
    "from sklearn.model_selection import cross_val_score\n",
    "from sklearn.svm import SVC\n",
    "from sklearn.neighbors import KNeighborsClassifier\n",
    "from sklearn.tree import DecisionTreeClassifier\n",
    "from sklearn.linear_model import LogisticRegression\n",
    "from sklearn.naive_bayes import GaussianNB\n",
    "from sklearn.model_selection import StratifiedKFold\n",
    "from sklearn.metrics import roc_auc_score\n",
    "from sklearn.neural_network import MLPClassifier\n",
    "from sklearn.model_selection import train_test_split\n",
    "from sklearn.metrics import classification_report\n",
    "\n",
    "def accuracy_score(classifier, x, y):\n",
    "    scores = cross_val_score(classifier, x, y, cv=5)\n",
    "    accuracy = scores.mean()\n",
    "    return accuracy\n",
    "\n",
    "def calculate_kfold(clf, x, y):\n",
    "    skf = StratifiedKFold(n_splits = 2)\n",
    "    i=1\n",
    "    for train_index,test_index in skf.split(x,y):\n",
    "        print('{} of KFold {}'.format(i,skf.n_splits))\n",
    "        xtr,xvl = x.reindex(index = train_index),x.reindex(index = test_index)\n",
    "        ytr,yvl = y.reindex(index = train_index),y.reindex(index = test_index)\n",
    "    \n",
    "        #model\n",
    "        clf.fit(xtr,ytr)\n",
    "        score = roc_auc_score(yvl,clf.predict(xvl))\n",
    "        print('ROC AUC score:',score)\n",
    "        i+=1\n",
    "\n",
    "def get_ann_score(clf, x,y):\n",
    "    x_train, x_test, y_train, y_test = train_test_split(x, y, test_size=0.2, random_state=1)\n",
    "    clf.fit(x_train,y_train)\n",
    "    y_pred = clf.predict(x_test)\n",
    "    return (clf.score(x_test,y_test), classification_report(y_test,y_pred))\n",
    "\n",
    "def calculate_scores(x,y):\n",
    "    svcClf = SVC()\n",
    "    svcScore = accuracy_score(svcClf,x,y)\n",
    "    print(\"Accuracy SVM: %0.2f\" % svcScore)\n",
    "    logitClf = LogisticRegression()\n",
    "    logitScore = accuracy_score(logitClf,x,y)\n",
    "    print(\"Accuracy Logistic Regression: %0.2f\" % logitScore)\n",
    "    knnClf = KNeighborsClassifier()\n",
    "    knnScore = accuracy_score(knnClf,x,y)\n",
    "    print(\"Accuracy KNN: %0.2f\" % knnScore)\n",
    "    nbClf = GaussianNB()\n",
    "    nbScore = accuracy_score(nbClf,x,y)\n",
    "    print(\"Accuracy Naive Bayes: %0.2f\" % nbScore)\n",
    "    treeClf = DecisionTreeClassifier()\n",
    "    treeScore = accuracy_score(treeClf,x,y)\n",
    "    print(\"Accuracy Decision Tree: %0.2f\" % treeScore)\n",
    "    annClf = MLPClassifier(hidden_layer_sizes=(50, 50), random_state=1)\n",
    "    annScore = accuracy_score(annClf,x,y)\n",
    "    print(\"Accuracy ANN: %0.2f\" % annScore)"
   ]
  },
  {
   "cell_type": "code",
   "execution_count": 30,
   "metadata": {},
   "outputs": [
    {
     "output_type": "stream",
     "name": "stdout",
     "text": [
      "Accuracy ANN: 0.52\n",
      "Accuracy ANN: 0.42\n"
     ]
    }
   ],
   "source": [
    "annClf = MLPClassifier(hidden_layer_sizes=(5, 2), random_state=1)\n",
    "annScore = accuracy_score(annClf,x,y)\n",
    "print(\"Accuracy ANN: %0.2f\" % annScore)\n",
    "\n",
    "annClf = MLPClassifier(hidden_layer_sizes=(50, 50), random_state=1)\n",
    "annScore = accuracy_score(annClf,x,y)\n",
    "print(\"Accuracy ANN: %0.2f\" % annScore)"
   ]
  },
  {
   "cell_type": "code",
   "execution_count": 29,
   "metadata": {},
   "outputs": [
    {
     "output_type": "stream",
     "name": "stdout",
     "text": [
      "Accuracy SVM: 0.52\n",
      "Accuracy Logistic Regression: 0.51\n",
      "Accuracy KNN: 0.45\n",
      "Accuracy Naive Bayes: 0.49\n",
      "Accuracy Decision Tree: 0.41\n",
      "Accuracy ANN: 0.42\n"
     ]
    }
   ],
   "source": [
    "calculate_scores(x,y)"
   ]
  },
  {
   "cell_type": "code",
   "execution_count": null,
   "metadata": {},
   "outputs": [],
   "source": []
  }
 ]
}