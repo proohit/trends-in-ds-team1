{
 "metadata": {
  "language_info": {
   "codemirror_mode": {
    "name": "ipython",
    "version": 3
   },
   "file_extension": ".py",
   "mimetype": "text/x-python",
   "name": "python",
   "nbconvert_exporter": "python",
   "pygments_lexer": "ipython3",
   "version": "3.8.3-final"
  },
  "orig_nbformat": 2,
  "kernelspec": {
   "name": "python3",
   "display_name": "Python 3.8.3 64-bit (conda)",
   "metadata": {
    "interpreter": {
     "hash": "f91b45585d66f8d42d8b427d8cc68ebdca9f95f539a3fd1ad17d4bc574d871b8"
    }
   }
  }
 },
 "nbformat": 4,
 "nbformat_minor": 2,
 "cells": [
  {
   "source": [
    "SVM\n",
    "\n",
    "Logistic Regression\n",
    "\n",
    "ANNs\n",
    "\n",
    "KNN\n",
    "\n",
    "Decision Tree\n",
    "\n",
    "Naive Bayes\n",
    "\n",
    "\n",
    "\n"
   ],
   "cell_type": "markdown",
   "metadata": {}
  },
  {
   "cell_type": "code",
   "execution_count": 1,
   "metadata": {},
   "outputs": [
    {
     "output_type": "display_data",
     "data": {
      "text/plain": "        number_words_title  number_words_content  rate_unique_words_content  \\\n0                     12.0                   219                   0.663594   \n1                      9.0                   255                   0.604743   \n2                      9.0                   211                   0.575130   \n3                      9.0                   531                   0.503788   \n4                     13.0                  1072                   0.415646   \n...                    ...                   ...                        ...   \n39639                 11.0                   346                   0.529052   \n39640                 12.0                   328                   0.696296   \n39641                 10.0                   442                   0.516355   \n39642                  6.0                   682                   0.539493   \n39643                 10.0                   157                   0.701987   \n\n       rate_non_stop_words_content  rate_unique_non_stop_words_content  \\\n0                              1.0                            0.815385   \n1                              1.0                            0.791946   \n2                              1.0                            0.663866   \n3                              1.0                            0.665635   \n4                              1.0                            0.540890   \n...                            ...                                 ...   \n39639                          1.0                            0.684783   \n39640                          1.0                            0.885057   \n39641                          1.0                            0.644128   \n39642                          1.0                            0.692661   \n39643                          1.0                            0.846154   \n\n       number_links   number_links_to_mashable   number_imgs   number_videos  \\\n0                 4                          2             1               0   \n1                 3                          1             1               0   \n2                 3                          1             1               0   \n3                 9                          0             1               0   \n4                19                         19            20               0   \n...             ...                        ...           ...             ...   \n39639             9                          7             1               1   \n39640             9                          7             3              48   \n39641            24                          1            12               1   \n39642            10                          1             1               0   \n39643             1                          1             0               2   \n\n        average_word_length  ...   min_polarity_in_positive_words  \\\n0                  4.680365  ...                         0.100000   \n1                  4.913725  ...                         0.033333   \n2                  4.393365  ...                         0.100000   \n3                  4.404896  ...                         0.136364   \n4                  4.682836  ...                         0.033333   \n...                     ...  ...                              ...   \n39639              4.523121  ...                         0.100000   \n39640              4.405488  ...                         0.136364   \n39641              5.076923  ...                         0.136364   \n39642              4.975073  ...                         0.062500   \n39643              4.471338  ...                         0.100000   \n\n        max_polarity_in_positive_words   avg_polarity_in_negative_words  \\\n0                                 0.70                        -0.350000   \n1                                 0.70                        -0.118750   \n2                                 1.00                        -0.466667   \n3                                 0.80                        -0.369697   \n4                                 1.00                        -0.220192   \n...                                ...                              ...   \n39639                             0.75                        -0.260000   \n39640                             0.70                        -0.211111   \n39641                             0.50                        -0.356439   \n39642                             0.50                        -0.205246   \n39643                             0.50                        -0.200000   \n\n        min_polarity_in_negative_words   max_polarity_in_negative_words  \\\n0                               -0.600                        -0.200000   \n1                               -0.125                        -0.100000   \n2                               -0.800                        -0.133333   \n3                               -0.600                        -0.166667   \n4                               -0.500                        -0.050000   \n...                                ...                              ...   \n39639                           -0.500                        -0.125000   \n39640                           -0.400                        -0.100000   \n39641                           -0.800                        -0.166667   \n39642                           -0.500                        -0.012500   \n39643                           -0.200                        -0.200000   \n\n        title_sentiment_subjectivity   title_sentiment_polarity  \\\n0                           0.500000                  -0.187500   \n1                           0.000000                   0.000000   \n2                           0.000000                   0.000000   \n3                           0.000000                   0.000000   \n4                           0.454545                   0.136364   \n...                              ...                        ...   \n39639                       0.100000                   0.000000   \n39640                       0.300000                   1.000000   \n39641                       0.454545                   0.136364   \n39642                       0.000000                   0.000000   \n39643                       0.333333                   0.250000   \n\n        abs_title_subjectivity   abs_title_sentiment_polarity   shares  \n0                     0.000000                       0.187500      593  \n1                     0.500000                       0.000000      711  \n2                     0.500000                       0.000000     1500  \n3                     0.500000                       0.000000     1200  \n4                     0.045455                       0.136364      505  \n...                        ...                            ...      ...  \n39639                 0.400000                       0.000000     1800  \n39640                 0.200000                       1.000000     1900  \n39641                 0.045455                       0.136364     1900  \n39642                 0.500000                       0.000000     1100  \n39643                 0.166667                       0.250000     1300  \n\n[39634 rows x 59 columns]",
      "text/html": "<div>\n<style scoped>\n    .dataframe tbody tr th:only-of-type {\n        vertical-align: middle;\n    }\n\n    .dataframe tbody tr th {\n        vertical-align: top;\n    }\n\n    .dataframe thead th {\n        text-align: right;\n    }\n</style>\n<table border=\"1\" class=\"dataframe\">\n  <thead>\n    <tr style=\"text-align: right;\">\n      <th></th>\n      <th>number_words_title</th>\n      <th>number_words_content</th>\n      <th>rate_unique_words_content</th>\n      <th>rate_non_stop_words_content</th>\n      <th>rate_unique_non_stop_words_content</th>\n      <th>number_links</th>\n      <th>number_links_to_mashable</th>\n      <th>number_imgs</th>\n      <th>number_videos</th>\n      <th>average_word_length</th>\n      <th>...</th>\n      <th>min_polarity_in_positive_words</th>\n      <th>max_polarity_in_positive_words</th>\n      <th>avg_polarity_in_negative_words</th>\n      <th>min_polarity_in_negative_words</th>\n      <th>max_polarity_in_negative_words</th>\n      <th>title_sentiment_subjectivity</th>\n      <th>title_sentiment_polarity</th>\n      <th>abs_title_subjectivity</th>\n      <th>abs_title_sentiment_polarity</th>\n      <th>shares</th>\n    </tr>\n  </thead>\n  <tbody>\n    <tr>\n      <th>0</th>\n      <td>12.0</td>\n      <td>219</td>\n      <td>0.663594</td>\n      <td>1.0</td>\n      <td>0.815385</td>\n      <td>4</td>\n      <td>2</td>\n      <td>1</td>\n      <td>0</td>\n      <td>4.680365</td>\n      <td>...</td>\n      <td>0.100000</td>\n      <td>0.70</td>\n      <td>-0.350000</td>\n      <td>-0.600</td>\n      <td>-0.200000</td>\n      <td>0.500000</td>\n      <td>-0.187500</td>\n      <td>0.000000</td>\n      <td>0.187500</td>\n      <td>593</td>\n    </tr>\n    <tr>\n      <th>1</th>\n      <td>9.0</td>\n      <td>255</td>\n      <td>0.604743</td>\n      <td>1.0</td>\n      <td>0.791946</td>\n      <td>3</td>\n      <td>1</td>\n      <td>1</td>\n      <td>0</td>\n      <td>4.913725</td>\n      <td>...</td>\n      <td>0.033333</td>\n      <td>0.70</td>\n      <td>-0.118750</td>\n      <td>-0.125</td>\n      <td>-0.100000</td>\n      <td>0.000000</td>\n      <td>0.000000</td>\n      <td>0.500000</td>\n      <td>0.000000</td>\n      <td>711</td>\n    </tr>\n    <tr>\n      <th>2</th>\n      <td>9.0</td>\n      <td>211</td>\n      <td>0.575130</td>\n      <td>1.0</td>\n      <td>0.663866</td>\n      <td>3</td>\n      <td>1</td>\n      <td>1</td>\n      <td>0</td>\n      <td>4.393365</td>\n      <td>...</td>\n      <td>0.100000</td>\n      <td>1.00</td>\n      <td>-0.466667</td>\n      <td>-0.800</td>\n      <td>-0.133333</td>\n      <td>0.000000</td>\n      <td>0.000000</td>\n      <td>0.500000</td>\n      <td>0.000000</td>\n      <td>1500</td>\n    </tr>\n    <tr>\n      <th>3</th>\n      <td>9.0</td>\n      <td>531</td>\n      <td>0.503788</td>\n      <td>1.0</td>\n      <td>0.665635</td>\n      <td>9</td>\n      <td>0</td>\n      <td>1</td>\n      <td>0</td>\n      <td>4.404896</td>\n      <td>...</td>\n      <td>0.136364</td>\n      <td>0.80</td>\n      <td>-0.369697</td>\n      <td>-0.600</td>\n      <td>-0.166667</td>\n      <td>0.000000</td>\n      <td>0.000000</td>\n      <td>0.500000</td>\n      <td>0.000000</td>\n      <td>1200</td>\n    </tr>\n    <tr>\n      <th>4</th>\n      <td>13.0</td>\n      <td>1072</td>\n      <td>0.415646</td>\n      <td>1.0</td>\n      <td>0.540890</td>\n      <td>19</td>\n      <td>19</td>\n      <td>20</td>\n      <td>0</td>\n      <td>4.682836</td>\n      <td>...</td>\n      <td>0.033333</td>\n      <td>1.00</td>\n      <td>-0.220192</td>\n      <td>-0.500</td>\n      <td>-0.050000</td>\n      <td>0.454545</td>\n      <td>0.136364</td>\n      <td>0.045455</td>\n      <td>0.136364</td>\n      <td>505</td>\n    </tr>\n    <tr>\n      <th>...</th>\n      <td>...</td>\n      <td>...</td>\n      <td>...</td>\n      <td>...</td>\n      <td>...</td>\n      <td>...</td>\n      <td>...</td>\n      <td>...</td>\n      <td>...</td>\n      <td>...</td>\n      <td>...</td>\n      <td>...</td>\n      <td>...</td>\n      <td>...</td>\n      <td>...</td>\n      <td>...</td>\n      <td>...</td>\n      <td>...</td>\n      <td>...</td>\n      <td>...</td>\n      <td>...</td>\n    </tr>\n    <tr>\n      <th>39639</th>\n      <td>11.0</td>\n      <td>346</td>\n      <td>0.529052</td>\n      <td>1.0</td>\n      <td>0.684783</td>\n      <td>9</td>\n      <td>7</td>\n      <td>1</td>\n      <td>1</td>\n      <td>4.523121</td>\n      <td>...</td>\n      <td>0.100000</td>\n      <td>0.75</td>\n      <td>-0.260000</td>\n      <td>-0.500</td>\n      <td>-0.125000</td>\n      <td>0.100000</td>\n      <td>0.000000</td>\n      <td>0.400000</td>\n      <td>0.000000</td>\n      <td>1800</td>\n    </tr>\n    <tr>\n      <th>39640</th>\n      <td>12.0</td>\n      <td>328</td>\n      <td>0.696296</td>\n      <td>1.0</td>\n      <td>0.885057</td>\n      <td>9</td>\n      <td>7</td>\n      <td>3</td>\n      <td>48</td>\n      <td>4.405488</td>\n      <td>...</td>\n      <td>0.136364</td>\n      <td>0.70</td>\n      <td>-0.211111</td>\n      <td>-0.400</td>\n      <td>-0.100000</td>\n      <td>0.300000</td>\n      <td>1.000000</td>\n      <td>0.200000</td>\n      <td>1.000000</td>\n      <td>1900</td>\n    </tr>\n    <tr>\n      <th>39641</th>\n      <td>10.0</td>\n      <td>442</td>\n      <td>0.516355</td>\n      <td>1.0</td>\n      <td>0.644128</td>\n      <td>24</td>\n      <td>1</td>\n      <td>12</td>\n      <td>1</td>\n      <td>5.076923</td>\n      <td>...</td>\n      <td>0.136364</td>\n      <td>0.50</td>\n      <td>-0.356439</td>\n      <td>-0.800</td>\n      <td>-0.166667</td>\n      <td>0.454545</td>\n      <td>0.136364</td>\n      <td>0.045455</td>\n      <td>0.136364</td>\n      <td>1900</td>\n    </tr>\n    <tr>\n      <th>39642</th>\n      <td>6.0</td>\n      <td>682</td>\n      <td>0.539493</td>\n      <td>1.0</td>\n      <td>0.692661</td>\n      <td>10</td>\n      <td>1</td>\n      <td>1</td>\n      <td>0</td>\n      <td>4.975073</td>\n      <td>...</td>\n      <td>0.062500</td>\n      <td>0.50</td>\n      <td>-0.205246</td>\n      <td>-0.500</td>\n      <td>-0.012500</td>\n      <td>0.000000</td>\n      <td>0.000000</td>\n      <td>0.500000</td>\n      <td>0.000000</td>\n      <td>1100</td>\n    </tr>\n    <tr>\n      <th>39643</th>\n      <td>10.0</td>\n      <td>157</td>\n      <td>0.701987</td>\n      <td>1.0</td>\n      <td>0.846154</td>\n      <td>1</td>\n      <td>1</td>\n      <td>0</td>\n      <td>2</td>\n      <td>4.471338</td>\n      <td>...</td>\n      <td>0.100000</td>\n      <td>0.50</td>\n      <td>-0.200000</td>\n      <td>-0.200</td>\n      <td>-0.200000</td>\n      <td>0.333333</td>\n      <td>0.250000</td>\n      <td>0.166667</td>\n      <td>0.250000</td>\n      <td>1300</td>\n    </tr>\n  </tbody>\n</table>\n<p>39634 rows × 59 columns</p>\n</div>"
     },
     "metadata": {}
    }
   ],
   "source": [
    "from datasets import popularity_dataset\n",
    "import pandas as pd\n",
    "popularity_data = popularity_dataset().dropna().drop('days_article_dataset', axis=1)\n",
    "\n",
    "display(popularity_data)"
   ]
  },
  {
   "source": [
    "As discussed and proposed by exploration team, we should find a way to discretize the values. Here we propose a discretization based on distribution of share values. Top 5% share values build 1 class, 80%-95% top values build class 2 etc."
   ],
   "cell_type": "markdown",
   "metadata": {}
  },
  {
   "cell_type": "code",
   "execution_count": 2,
   "metadata": {},
   "outputs": [],
   "source": [
    "from datasets import get_cutpoints_for_percent\n",
    "classes = ['Very Bad', 'Bad', 'Moderate', 'Good', 'Very Good']\n",
    "\n",
    "sorted_shares = popularity_data.sort_values(by=' shares', ascending= True)\n",
    "\n",
    "classes_cutpoints = [\n",
    "    get_cutpoints_for_percent(sorted_shares, 0, .3, ' shares'),\n",
    "    get_cutpoints_for_percent(sorted_shares, .3, .45, ' shares'),\n",
    "    get_cutpoints_for_percent(sorted_shares, .45, .8, ' shares'),\n",
    "    get_cutpoints_for_percent(sorted_shares, .8, .95, ' shares'),\n",
    "    get_cutpoints_for_percent(sorted_shares, .95, 1, ' shares'),\n",
    "]\n",
    "\n"
   ]
  },
  {
   "cell_type": "code",
   "execution_count": 3,
   "metadata": {},
   "outputs": [],
   "source": [
    "from datasets import get_class_for_value\n",
    "popularity_data['share_class'] = popularity_data.apply(lambda row: get_class_for_value(row[' shares'], classes_cutpoints, classes), axis=1)"
   ]
  },
  {
   "cell_type": "code",
   "execution_count": 15,
   "metadata": {},
   "outputs": [],
   "source": [
    "from datasets import get_sample_data\n",
    "\n",
    "feature_values = popularity_data.drop(' shares', axis=1).drop('share_class', axis=1)\n",
    "class_values = popularity_data['share_class']\n",
    "extra_column = popularity_data[' shares']\n",
    "data = get_sample_data(feature_values, class_values, extra_column, size=.5)"
   ]
  },
  {
   "cell_type": "code",
   "execution_count": 17,
   "metadata": {},
   "outputs": [
    {
     "output_type": "stream",
     "name": "stdout",
     "text": [
      "Class 4 absolute before split: 1981\nClass 4 absolute after split: 990\nClass 4 proportion before split: 5.00%\nClass 4 proportion after split: 5.00%\n"
     ]
    }
   ],
   "source": [
    "# For reference in sampling data. We see that there are 1981 entries of class 4\n",
    "# Check, if sampling succeeds by checking the proportion of class 4 in all entries\n",
    "count_class4 = popularity_data[popularity_data['share_class'] == classes[4]].shape[0]\n",
    "\n",
    "# Check, if the distribution worked in the split\n",
    "count_class4_split = data[data['share_class'] == classes[4]].shape[0]\n",
    "# We see that of 1981 initial class 4 entries now 495 (so 25%) remain\n",
    "print('Class 4 absolute before split: {}'.format(count_class4))\n",
    "print('Class 4 absolute after split: {}'.format(count_class4_split))\n",
    "print('Class 4 proportion before split: {:.2%}'.format(count_class4 / popularity_data.shape[0]))\n",
    "print('Class 4 proportion after split: {:.2%}'.format(count_class4_split / data.shape[0]))"
   ]
  },
  {
   "cell_type": "code",
   "execution_count": 18,
   "metadata": {},
   "outputs": [],
   "source": [
    "data['share_class'] = data.apply(lambda row: classes.index(row['share_class']), axis=1)\n",
    "x = data.drop(' shares', axis=1).drop('share_class', axis=1).dropna()\n",
    "y = data['share_class'].dropna()"
   ]
  },
  {
   "cell_type": "code",
   "execution_count": 13,
   "metadata": {},
   "outputs": [
    {
     "output_type": "stream",
     "name": "stdout",
     "text": [
      "Accuracy ANN: 0.34\n",
      "Accuracy ANN: 0.31\n"
     ]
    }
   ],
   "source": [
    "from datasets import accuracy_score\n",
    "from sklearn.neural_network import MLPClassifier\n",
    "\n",
    "annClf = MLPClassifier(hidden_layer_sizes=(5, 2,2), random_state=1)\n",
    "annScore = accuracy_score(annClf,x,y)\n",
    "print(\"Accuracy ANN: %0.2f\" % annScore)\n",
    "\n",
    "annClf = MLPClassifier(hidden_layer_sizes=(50, 50), random_state=1)\n",
    "annScore = accuracy_score(annClf,x,y)\n",
    "print(\"Accuracy ANN: %0.2f\" % annScore)"
   ]
  },
  {
   "cell_type": "code",
   "execution_count": 14,
   "metadata": {},
   "outputs": [
    {
     "output_type": "stream",
     "name": "stdout",
     "text": [
      "Accuracy SVM: 0.35\n",
      "Accuracy Logistic Regression: 0.37\n",
      "Accuracy KNN: 0.32\n",
      "Accuracy Naive Bayes: 0.34\n",
      "Accuracy Decision Tree: 0.31\n",
      "Accuracy ANN: 0.31\n"
     ]
    }
   ],
   "source": [
    "from datasets import calculate_scores\n",
    "\n",
    "calculate_scores(x,y)"
   ]
  },
  {
   "cell_type": "code",
   "execution_count": null,
   "metadata": {},
   "outputs": [],
   "source": []
  }
 ]
}